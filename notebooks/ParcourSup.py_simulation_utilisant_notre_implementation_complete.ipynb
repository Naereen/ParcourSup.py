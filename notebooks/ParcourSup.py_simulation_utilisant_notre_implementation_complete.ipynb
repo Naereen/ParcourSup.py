{
 "cells": [
  {
   "cell_type": "markdown",
   "metadata": {
    "toc": "true"
   },
   "source": [
    "# Table of Contents\n",
    " <p><div class=\"lev1 toc-item\"><a href=\"#ParcourSup.py-:-simulation-utilisant-notre-implémentation-complète\" data-toc-modified-id=\"ParcourSup.py-:-simulation-utilisant-notre-implémentation-complète-1\"><span class=\"toc-item-num\">1&nbsp;&nbsp;</span>ParcourSup.py : simulation utilisant notre implémentation complète</a></div><div class=\"lev2 toc-item\"><a href=\"#Version-de-Python-et-importation-de-notre-implémentation\" data-toc-modified-id=\"Version-de-Python-et-importation-de-notre-implémentation-11\"><span class=\"toc-item-num\">1.1&nbsp;&nbsp;</span>Version de Python et importation de notre implémentation</a></div><div class=\"lev2 toc-item\"><a href=\"#Contenu-de-notre-implémentation\" data-toc-modified-id=\"Contenu-de-notre-implémentation-12\"><span class=\"toc-item-num\">1.2&nbsp;&nbsp;</span>Contenu de notre implémentation</a></div><div class=\"lev2 toc-item\"><a href=\"#ordreappel\" data-toc-modified-id=\"ordreappel-13\"><span class=\"toc-item-num\">1.3&nbsp;&nbsp;</span><code>ordreappel</code></a></div><div class=\"lev2 toc-item\"><a href=\"#propositions\" data-toc-modified-id=\"propositions-14\"><span class=\"toc-item-num\">1.4&nbsp;&nbsp;</span><code>propositions</code></a></div><div class=\"lev2 toc-item\"><a href=\"#Conclusion\" data-toc-modified-id=\"Conclusion-15\"><span class=\"toc-item-num\">1.5&nbsp;&nbsp;</span>Conclusion</a></div>"
   ]
  },
  {
   "cell_type": "markdown",
   "metadata": {},
   "source": [
    "# ParcourSup.py : simulation utilisant notre implémentation complète\n",
    "\n",
    "> - Pour plus de détails, voir [le projet sur GitHub](https://github.com/Naereen/ParcourSup.py/).\n",
    "> - Auteur(s) : Lilian Besson.\n",
    "> - Date : Juillet 2018.\n",
    "> - Licence : [MIT](https://lbesson.mit-license.org/)"
   ]
  },
  {
   "cell_type": "markdown",
   "metadata": {},
   "source": [
    "## Version de Python et importation de notre implémentation"
   ]
  },
  {
   "cell_type": "code",
   "execution_count": 6,
   "metadata": {},
   "outputs": [
    {
     "name": "stdout",
     "output_type": "stream",
     "text": [
      "The watermark extension is already loaded. To reload it, use:\n",
      "  %reload_ext watermark\n",
      "Lilian Besson et al, (c) 2018 \n",
      "\n",
      "CPython 3.6.5\n",
      "IPython 6.4.0\n",
      "\n",
      "compiler   : GCC 7.3.0\n",
      "system     : Linux\n",
      "release    : 4.15.0-24-generic\n",
      "machine    : x86_64\n",
      "processor  : x86_64\n",
      "CPU cores  : 4\n",
      "interpreter: 64bit\n"
     ]
    }
   ],
   "source": [
    "%load_ext watermark\n",
    "%watermark -v -m -a \"Lilian Besson et al, (c) 2018\""
   ]
  },
  {
   "cell_type": "markdown",
   "metadata": {},
   "source": [
    "Il suffit de tricher un peu sur le `path` pour ajouter [le dossier racine de ce projet](https://github.com/Naereen/ParcourSup.py/tree/master/)."
   ]
  },
  {
   "cell_type": "code",
   "execution_count": 4,
   "metadata": {
    "scrolled": true
   },
   "outputs": [
    {
     "name": "stdout",
     "output_type": "stream",
     "text": [
      "Path : ['..', '..', '', '/usr/lib/python36.zip', '/usr/lib/python3.6', '/usr/lib/python3.6/lib-dynload', '/home/lilian/.local/lib/python3.6/site-packages', '/usr/local/lib/python3.6/dist-packages', '/usr/local/lib/python3.6/dist-packages/dot2tex-2.11.dev0-py3.6.egg', '/usr/local/lib/python3.6/dist-packages/autorun-0.1.dev20171103-py3.6.egg', '/usr/local/lib/python3.6/dist-packages/sphinxcontrib_cheeseshop-0.2.dev20171103-py3.6.egg', '/usr/local/lib/python3.6/dist-packages/sphinxcontrib_youtube-1.0.dev20171103-py3.6.egg', '/usr/local/lib/python3.6/dist-packages/sphinxcontrib_bitbucket-1.0-py3.6.egg', '/usr/local/lib/python3.6/dist-packages/sphinxcontrib_googleanalytics-0.1.dev20180228-py3.6.egg', '/usr/local/lib/python3.6/dist-packages/sphinxcontrib_gnuplot-0.1.dev20180308-py3.6.egg', '/usr/lib/python3/dist-packages', '/usr/local/lib/python3.6/dist-packages/IPython/extensions', '/home/lilian/.ipython']\n"
     ]
    }
   ],
   "source": [
    "import sys\n",
    "sys.path.insert(0, \"..\")\n",
    "print(\"Path :\", sys.path)"
   ]
  },
  {
   "cell_type": "markdown",
   "metadata": {},
   "source": [
    "Et ensuite, le module [`parcoursup`](https://github.com/Naereen/ParcourSup.py/tree/master/parcoursup) est accessible, ainsi que tous ces sous-modules."
   ]
  },
  {
   "cell_type": "code",
   "execution_count": 7,
   "metadata": {},
   "outputs": [],
   "source": [
    "import parcoursup"
   ]
  },
  {
   "cell_type": "markdown",
   "metadata": {},
   "source": [
    "## Contenu de notre implémentation"
   ]
  },
  {
   "cell_type": "code",
   "execution_count": 10,
   "metadata": {},
   "outputs": [
    {
     "name": "stdout",
     "output_type": "stream",
     "text": [
      "\u001b[38;2;21;101;192m\u0000\u001b[0m ../parcoursup/ordreappel/AlgoOrdreAppel.py\r\n",
      "\u001b[38;2;21;101;192m\u0000\u001b[0m ../parcoursup/ordreappel/exemples.py\r\n",
      "\u001b[38;2;21;101;192m\u0000\u001b[0m ../parcoursup/ordreappel/GroupeClassement.py\r\n",
      "\u001b[38;2;21;101;192m\u0000\u001b[0m ../parcoursup/ordreappel/__init__.py\r\n",
      "\u001b[38;2;21;101;192m\u0000\u001b[0m ../parcoursup/ordreappel/OrdreAppel.py\r\n",
      "\u001b[38;2;21;101;192m\u0000\u001b[0m ../parcoursup/ordreappel/VoeuClasse.py\r\n",
      "\u001b[38;2;21;101;192m\u0000\u001b[0m ../parcoursup/propositions/AlgoPropositions.py\r\n",
      "\u001b[38;2;21;101;192m\u0000\u001b[0m ../parcoursup/propositions/Candidat.py\r\n",
      "\u001b[38;2;21;101;192m\u0000\u001b[0m ../parcoursup/propositions/Etablissement.py\r\n",
      "\u001b[38;2;21;101;192m\u0000\u001b[0m ../parcoursup/propositions/exemples.py\r\n",
      "\u001b[38;2;21;101;192m\u0000\u001b[0m ../parcoursup/propositions/GroupeAffectation.py\r\n",
      "\u001b[38;2;21;101;192m\u0000\u001b[0m ../parcoursup/propositions/GroupeAffectationUID.py\r\n",
      "\u001b[38;2;21;101;192m\u0000\u001b[0m ../parcoursup/propositions/GroupeInternat.py\r\n",
      "\u001b[38;2;21;101;192m\u0000\u001b[0m ../parcoursup/propositions/GroupeInternatUID.py\r\n",
      "\u001b[38;2;21;101;192m\u0000\u001b[0m ../parcoursup/propositions/__init__.py\r\n",
      "\u001b[38;2;21;101;192m\u0000\u001b[0m ../parcoursup/propositions/VerificationsResultats.py\r\n",
      "\u001b[38;2;21;101;192m\u0000\u001b[0m ../parcoursup/propositions/VoeuEnAttente.py\r\n",
      "\u001b[38;2;21;101;192m\u0000\u001b[0m ../parcoursup/propositions/VoeuUID.py\r\n"
     ]
    }
   ],
   "source": [
    "!ls ../parcoursup/**/*.py"
   ]
  },
  {
   "cell_type": "code",
   "execution_count": 8,
   "metadata": {},
   "outputs": [
    {
     "name": "stdout",
     "output_type": "stream",
     "text": [
      "Contenu de 'parcoursup' : ['__author__', '__builtins__', '__cached__', '__doc__', '__file__', '__loader__', '__name__', '__package__', '__path__', '__spec__', '__version__']\n"
     ]
    }
   ],
   "source": [
    "print(\"Contenu de 'parcoursup' :\", dir(parcoursup))"
   ]
  },
  {
   "cell_type": "code",
   "execution_count": 9,
   "metadata": {},
   "outputs": [
    {
     "name": "stdout",
     "output_type": "stream",
     "text": [
      "Contenu de 'parcoursup' : ['__author__', '__builtins__', '__cached__', '__doc__', '__file__', '__loader__', '__name__', '__package__', '__path__', '__spec__', '__version__']\n",
      "Contenu de 'parcoursup' : ['__author__', '__builtins__', '__cached__', '__doc__', '__file__', '__loader__', '__name__', '__package__', '__path__', '__spec__', '__version__']\n"
     ]
    }
   ],
   "source": [
    "import parcoursup.ordreappel\n",
    "print(\"Contenu de 'parcoursup' :\", dir(parcoursup.ordreappel))\n",
    "\n",
    "import parcoursup.propositions\n",
    "print(\"Contenu de 'parcoursup' :\", dir(parcoursup.propositions))"
   ]
  },
  {
   "cell_type": "markdown",
   "metadata": {},
   "source": [
    "## `ordreappel`"
   ]
  },
  {
   "cell_type": "code",
   "execution_count": 12,
   "metadata": {},
   "outputs": [
    {
     "name": "stdout",
     "output_type": "stream",
     "text": [
      "Contenu de parcoursup.ordreappel.AlgoOrdreAppel : ['AlgoOrdreAppel', 'DEBUG', 'Dict', 'ET', 'GroupeClassement', 'List', '__author__', '__builtins__', '__cached__', '__doc__', '__file__', '__loader__', '__name__', '__package__', '__spec__', '__version__', 'pprint', 'typeCandidat_vers_str']\n"
     ]
    }
   ],
   "source": [
    "import parcoursup.ordreappel.AlgoOrdreAppel\n",
    "print(\"Contenu de parcoursup.ordreappel.AlgoOrdreAppel :\", dir(parcoursup.ordreappel.AlgoOrdreAppel))"
   ]
  },
  {
   "cell_type": "code",
   "execution_count": 13,
   "metadata": {},
   "outputs": [
    {
     "name": "stdout",
     "output_type": "stream",
     "text": [
      "Contenu de parcoursup.ordreappel.GroupeClassement : ['DEBUG', 'Dict', 'GroupeClassement', 'List', 'OrdreAppel', 'TypeCandidat', 'VoeuClasse', '__author__', '__builtins__', '__cached__', '__doc__', '__file__', '__loader__', '__name__', '__package__', '__spec__', '__version__']\n"
     ]
    }
   ],
   "source": [
    "import parcoursup.ordreappel.GroupeClassement\n",
    "print(\"Contenu de parcoursup.ordreappel.GroupeClassement :\", dir(parcoursup.ordreappel.GroupeClassement))"
   ]
  },
  {
   "cell_type": "code",
   "execution_count": 14,
   "metadata": {},
   "outputs": [
    {
     "name": "stdout",
     "output_type": "stream",
     "text": [
      "Contenu de parcoursup.ordreappel.OrdreAppel : ['OrdreAppel', '__author__', '__builtins__', '__cached__', '__doc__', '__file__', '__loader__', '__name__', '__package__', '__spec__', '__version__', 'main']\n"
     ]
    }
   ],
   "source": [
    "import parcoursup.ordreappel.OrdreAppel\n",
    "print(\"Contenu de parcoursup.ordreappel.OrdreAppel :\", dir(parcoursup.ordreappel.OrdreAppel))"
   ]
  },
  {
   "cell_type": "code",
   "execution_count": 15,
   "metadata": {},
   "outputs": [
    {
     "name": "stdout",
     "output_type": "stream",
     "text": [
      "Contenu de parcoursup.ordreappel.VoeuClasse : ['Enum', 'TypeCandidat', 'VoeuClasse', '__author__', '__builtins__', '__cached__', '__doc__', '__file__', '__loader__', '__name__', '__package__', '__spec__', '__version__', 'total_ordering', 'typeCandidat_si_Boursier_etou_Resident', 'typeCandidat_vers_str']\n"
     ]
    }
   ],
   "source": [
    "import parcoursup.ordreappel.VoeuClasse\n",
    "print(\"Contenu de parcoursup.ordreappel.VoeuClasse :\", dir(parcoursup.ordreappel.VoeuClasse))"
   ]
  },
  {
   "cell_type": "markdown",
   "metadata": {},
   "source": [
    "## `propositions`"
   ]
  },
  {
   "cell_type": "code",
   "execution_count": 16,
   "metadata": {},
   "outputs": [
    {
     "name": "stdout",
     "output_type": "stream",
     "text": [
      "Contenu de parcoursup.propositions.AlgoPropositions : ['AlgoPropositions', 'DEBUG', 'Dict', 'ET', 'GroupeAffectation', 'GroupeAffectationUID', 'GroupeInternat', 'GroupeInternatUID', 'List', 'Set', 'VoeuEnAttente', 'VoeuUID', '__author__', '__builtins__', '__cached__', '__doc__', '__file__', '__loader__', '__name__', '__package__', '__spec__', '__version__', 'datetime', 'log', 'pprint', 'str_de_bool', 'tqdm', 'verifierMaximalitePositionsAdmission', 'verifierRespectClassementInternat', 'verifierRespectOrdreAppelVoeuxSansInternat', 'verifierSurcapaciteEtRemplissage', 'verifierSurcapaciteEtRemplissage_avec_rangDernierAppeles', 'verifierVoeuxAvecInternat']\n"
     ]
    }
   ],
   "source": [
    "import parcoursup.propositions.AlgoPropositions\n",
    "print(\"Contenu de parcoursup.propositions.AlgoPropositions :\", dir(parcoursup.propositions.AlgoPropositions))"
   ]
  },
  {
   "cell_type": "code",
   "execution_count": 17,
   "metadata": {},
   "outputs": [
    {
     "name": "stdout",
     "output_type": "stream",
     "text": [
      "Contenu de parcoursup.propositions.Candidat : ['Candidat', '__author__', '__builtins__', '__cached__', '__doc__', '__file__', '__loader__', '__name__', '__package__', '__spec__', '__version__']\n"
     ]
    }
   ],
   "source": [
    "import parcoursup.propositions.Candidat\n",
    "print(\"Contenu de parcoursup.propositions.Candidat :\", dir(parcoursup.propositions.Candidat))"
   ]
  },
  {
   "cell_type": "code",
   "execution_count": 18,
   "metadata": {},
   "outputs": [
    {
     "name": "stdout",
     "output_type": "stream",
     "text": [
      "Contenu de parcoursup.propositions.Etablissement : ['Candidat', 'Dict', 'Etablissement', 'FormationAffectation', 'GroupeAffectation', 'GroupeAffectationUID', 'GroupeClassement', 'GroupeInternat', 'GroupeInternatUID', 'List', 'Set', 'Union', 'VoeuEnAttente', '__author__', '__builtins__', '__cached__', '__doc__', '__file__', '__loader__', '__name__', '__package__', '__spec__', '__version__', 'avecproba', 'choice', 'randbool', 'randint', 'random']\n"
     ]
    }
   ],
   "source": [
    "import parcoursup.propositions.Etablissement\n",
    "print(\"Contenu de parcoursup.propositions.Etablissement :\", dir(parcoursup.propositions.Etablissement))"
   ]
  },
  {
   "cell_type": "code",
   "execution_count": 19,
   "metadata": {},
   "outputs": [
    {
     "name": "stdout",
     "output_type": "stream",
     "text": [
      "Contenu de parcoursup.propositions.exemples : ['AlgoPropositions', 'Candidat', 'DEBUG', 'DOM', 'ET', 'Etablissement', 'Exemple', 'GroupeAffectation', 'GroupeAffectationUID', 'GroupeInternat', 'GroupeInternatUID', 'List', 'Union', 'VoeuEnAttente', '__author__', '__builtins__', '__cached__', '__doc__', '__file__', '__loader__', '__name__', '__package__', '__spec__', '__version__', 'choice', 'datetime', 'exempleAleatoire', 'exempleB7Jour1', 'exempleB7Jour2', 'exempleB7Jour3', 'exempleB7base', 'json', 'log', 'path', 'randbool', 'randint', 'random', 'tous_les_exemples', 'tqdm']\n"
     ]
    }
   ],
   "source": [
    "import parcoursup.propositions.exemples\n",
    "print(\"Contenu de parcoursup.propositions.exemples :\", dir(parcoursup.propositions.exemples))"
   ]
  },
  {
   "cell_type": "code",
   "execution_count": 20,
   "metadata": {},
   "outputs": [
    {
     "name": "stdout",
     "output_type": "stream",
     "text": [
      "Contenu de parcoursup.propositions.GroupeAffectation : ['GroupeAffectation', 'GroupeAffectationUID', 'List', 'Set', 'VoeuEnAttente', '__author__', '__builtins__', '__cached__', '__doc__', '__file__', '__loader__', '__name__', '__package__', '__spec__', '__version__']\n"
     ]
    }
   ],
   "source": [
    "import parcoursup.propositions.GroupeAffectation\n",
    "print(\"Contenu de parcoursup.propositions.GroupeAffectation :\", dir(parcoursup.propositions.GroupeAffectation))"
   ]
  },
  {
   "cell_type": "code",
   "execution_count": 21,
   "metadata": {},
   "outputs": [
    {
     "name": "stdout",
     "output_type": "stream",
     "text": [
      "Contenu de parcoursup.propositions.GroupeAffectationUID : ['GroupeAffectationUID', '__author__', '__builtins__', '__cached__', '__doc__', '__file__', '__loader__', '__name__', '__package__', '__spec__', '__version__']\n"
     ]
    }
   ],
   "source": [
    "import parcoursup.propositions.GroupeAffectationUID\n",
    "print(\"Contenu de parcoursup.propositions.GroupeAffectationUID :\", dir(parcoursup.propositions.GroupeAffectationUID))"
   ]
  },
  {
   "cell_type": "code",
   "execution_count": 22,
   "metadata": {},
   "outputs": [
    {
     "name": "stdout",
     "output_type": "stream",
     "text": [
      "Contenu de parcoursup.propositions.GroupeInternat : ['GroupeAffectation', 'GroupeInternat', 'GroupeInternatUID', 'List', 'Set', 'VoeuEnAttente', '__author__', '__builtins__', '__cached__', '__doc__', '__file__', '__loader__', '__name__', '__package__', '__spec__', '__version__']\n"
     ]
    }
   ],
   "source": [
    "import parcoursup.propositions.GroupeInternat\n",
    "print(\"Contenu de parcoursup.propositions.GroupeInternat :\", dir(parcoursup.propositions.GroupeInternat))"
   ]
  },
  {
   "cell_type": "code",
   "execution_count": 23,
   "metadata": {},
   "outputs": [
    {
     "name": "stdout",
     "output_type": "stream",
     "text": [
      "Contenu de parcoursup.propositions.GroupeInternatUID : ['GroupeInternatUID', '__author__', '__builtins__', '__cached__', '__doc__', '__file__', '__loader__', '__name__', '__package__', '__spec__', '__version__']\n"
     ]
    }
   ],
   "source": [
    "import parcoursup.propositions.GroupeInternatUID\n",
    "print(\"Contenu de parcoursup.propositions.GroupeInternatUID :\", dir(parcoursup.propositions.GroupeInternatUID))"
   ]
  },
  {
   "cell_type": "code",
   "execution_count": 24,
   "metadata": {},
   "outputs": [
    {
     "name": "stdout",
     "output_type": "stream",
     "text": [
      "Contenu de parcoursup.propositions.VerificationsResultats : ['Dict', 'GroupeAffectation', 'GroupeInternat', 'Set', '__author__', '__builtins__', '__cached__', '__doc__', '__file__', '__loader__', '__name__', '__package__', '__spec__', '__version__', 'datetime', 'log', 'verifierMaximalitePositionsAdmission', 'verifierRespectClassementInternat', 'verifierRespectOrdreAppelVoeuxSansInternat', 'verifierSurcapaciteEtRemplissage', 'verifierSurcapaciteEtRemplissage_avec_rangDernierAppeles', 'verifierVoeuxAvecInternat']\n"
     ]
    }
   ],
   "source": [
    "import parcoursup.propositions.VerificationsResultats\n",
    "print(\"Contenu de parcoursup.propositions.VerificationsResultats :\", dir(parcoursup.propositions.VerificationsResultats))"
   ]
  },
  {
   "cell_type": "code",
   "execution_count": 25,
   "metadata": {},
   "outputs": [
    {
     "name": "stdout",
     "output_type": "stream",
     "text": [
      "Contenu de parcoursup.propositions.VoeuEnAttente : ['Union', 'VoeuEnAttente', 'VoeuUID', '__author__', '__builtins__', '__cached__', '__doc__', '__file__', '__loader__', '__name__', '__package__', '__spec__', '__version__']\n"
     ]
    }
   ],
   "source": [
    "import parcoursup.propositions.VoeuEnAttente\n",
    "print(\"Contenu de parcoursup.propositions.VoeuEnAttente :\", dir(parcoursup.propositions.VoeuEnAttente))"
   ]
  },
  {
   "cell_type": "code",
   "execution_count": 26,
   "metadata": {},
   "outputs": [
    {
     "name": "stdout",
     "output_type": "stream",
     "text": [
      "Contenu de parcoursup.propositions.VoeuUID : ['VoeuUID', '__author__', '__builtins__', '__cached__', '__doc__', '__file__', '__loader__', '__name__', '__package__', '__spec__', '__version__']\n"
     ]
    }
   ],
   "source": [
    "import parcoursup.propositions.VoeuUID\n",
    "print(\"Contenu de parcoursup.propositions.VoeuUID :\", dir(parcoursup.propositions.VoeuUID))"
   ]
  },
  {
   "cell_type": "markdown",
   "metadata": {},
   "source": [
    "## Conclusion\n",
    "\n",
    "Ce petit notebook n'est pas terminé, c'est un test *en cours de rédaction*."
   ]
  }
 ],
 "metadata": {
  "kernelspec": {
   "display_name": "Python 3",
   "language": "python",
   "name": "python3"
  },
  "language_info": {
   "codemirror_mode": {
    "name": "ipython",
    "version": 3
   },
   "file_extension": ".py",
   "mimetype": "text/x-python",
   "name": "python",
   "nbconvert_exporter": "python",
   "pygments_lexer": "ipython3",
   "version": "3.6.5"
  },
  "toc": {
   "colors": {
    "hover_highlight": "#DAA520",
    "running_highlight": "#FF0000",
    "selected_highlight": "#FFD700"
   },
   "moveMenuLeft": true,
   "nav_menu": {
    "height": "130px",
    "width": "252px"
   },
   "navigate_menu": true,
   "number_sections": true,
   "sideBar": false,
   "threshold": 4,
   "toc_cell": true,
   "toc_position": {
    "height": "128px",
    "left": "843.991px",
    "right": "20px",
    "top": "113px",
    "width": "244px"
   },
   "toc_section_display": "block",
   "toc_window_display": true
  },
  "varInspector": {
   "cols": {
    "lenName": 16,
    "lenType": 16,
    "lenVar": 40
   },
   "kernels_config": {
    "python": {
     "delete_cmd_postfix": "",
     "delete_cmd_prefix": "del ",
     "library": "var_list.py",
     "varRefreshCmd": "print(var_dic_list())"
    },
    "r": {
     "delete_cmd_postfix": ") ",
     "delete_cmd_prefix": "rm(",
     "library": "var_list.r",
     "varRefreshCmd": "cat(var_dic_list()) "
    }
   },
   "types_to_exclude": [
    "module",
    "function",
    "builtin_function_or_method",
    "instance",
    "_Feature"
   ],
   "window_display": false
  }
 },
 "nbformat": 4,
 "nbformat_minor": 2
}
