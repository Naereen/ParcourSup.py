{
 "cells": [
  {
   "cell_type": "markdown",
   "metadata": {
    "toc": "true"
   },
   "source": [
    "# Table of Contents\n",
    " <p><div class=\"lev1 toc-item\"><a href=\"#Implémentation-simplifiée-des-algorithmes-de-ParcourSup\" data-toc-modified-id=\"Implémentation-simplifiée-des-algorithmes-de-ParcourSup-1\"><span class=\"toc-item-num\">1&nbsp;&nbsp;</span>Implémentation simplifiée des algorithmes de ParcourSup</a></div><div class=\"lev2 toc-item\"><a href=\"#Algorithme-1-:-Ordre-d'appel\" data-toc-modified-id=\"Algorithme-1-:-Ordre-d'appel-11\"><span class=\"toc-item-num\">1.1&nbsp;&nbsp;</span>Algorithme 1 : Ordre d'appel</a></div><div class=\"lev3 toc-item\"><a href=\"#Types-de-candidats\" data-toc-modified-id=\"Types-de-candidats-111\"><span class=\"toc-item-num\">1.1.1&nbsp;&nbsp;</span>Types de candidats</a></div><div class=\"lev3 toc-item\"><a href=\"#Un-vœu\" data-toc-modified-id=\"Un-vœu-112\"><span class=\"toc-item-num\">1.1.2&nbsp;&nbsp;</span>Un vœu</a></div><div class=\"lev3 toc-item\"><a href=\"#Une-liste-de-vœux\" data-toc-modified-id=\"Une-liste-de-vœux-113\"><span class=\"toc-item-num\">1.1.3&nbsp;&nbsp;</span>Une liste de vœux</a></div><div class=\"lev3 toc-item\"><a href=\"#Contraintes\" data-toc-modified-id=\"Contraintes-114\"><span class=\"toc-item-num\">1.1.4&nbsp;&nbsp;</span>Contraintes</a></div><div class=\"lev3 toc-item\"><a href=\"#Algorithme\" data-toc-modified-id=\"Algorithme-115\"><span class=\"toc-item-num\">1.1.5&nbsp;&nbsp;</span>Algorithme</a></div><div class=\"lev3 toc-item\"><a href=\"#Exemple-(A1)\" data-toc-modified-id=\"Exemple-(A1)-116\"><span class=\"toc-item-num\">1.1.6&nbsp;&nbsp;</span>Exemple (A1)</a></div><div class=\"lev3 toc-item\"><a href=\"#Visualisation-interactive\" data-toc-modified-id=\"Visualisation-interactive-117\"><span class=\"toc-item-num\">1.1.7&nbsp;&nbsp;</span>Visualisation interactive</a></div><div class=\"lev3 toc-item\"><a href=\"#Autres-exemples-(A2,-A4)\" data-toc-modified-id=\"Autres-exemples-(A2,-A4)-118\"><span class=\"toc-item-num\">1.1.8&nbsp;&nbsp;</span>Autres exemples (A2, A4)</a></div><div class=\"lev4 toc-item\"><a href=\"#A2-:-2%-de-boursiers-ères\" data-toc-modified-id=\"A2-:-2%-de-boursiers-ères-1181\"><span class=\"toc-item-num\">1.1.8.1&nbsp;&nbsp;</span>A2 : 2% de boursiers-ères</a></div><div class=\"lev4 toc-item\"><a href=\"#A4-:-10%-de-boursiers-ères\" data-toc-modified-id=\"A4-:-10%-de-boursiers-ères-1182\"><span class=\"toc-item-num\">1.1.8.2&nbsp;&nbsp;</span>A4 : 10% de boursiers-ères</a></div><div class=\"lev3 toc-item\"><a href=\"#Visualisations-colorées\" data-toc-modified-id=\"Visualisations-colorées-119\"><span class=\"toc-item-num\">1.1.9&nbsp;&nbsp;</span>Visualisations colorées</a></div><div class=\"lev3 toc-item\"><a href=\"#Entrée-aléatoire\" data-toc-modified-id=\"Entrée-aléatoire-1110\"><span class=\"toc-item-num\">1.1.10&nbsp;&nbsp;</span>Entrée aléatoire</a></div><div class=\"lev2 toc-item\"><a href=\"#Algorithme-2-:-Calcul-des-propositions\" data-toc-modified-id=\"Algorithme-2-:-Calcul-des-propositions-12\"><span class=\"toc-item-num\">1.2&nbsp;&nbsp;</span>Algorithme 2 : Calcul des propositions</a></div><div class=\"lev2 toc-item\"><a href=\"#Conclusion\" data-toc-modified-id=\"Conclusion-13\"><span class=\"toc-item-num\">1.3&nbsp;&nbsp;</span>Conclusion</a></div>"
   ]
  },
  {
   "cell_type": "markdown",
   "metadata": {},
   "source": [
    "# Implémentation simplifiée des algorithmes de ParcourSup\n",
    "\n",
    "> - Pour plus de détails, voir [le projet sur GitHub](https://github.com/Naereen/ParcourSup.py/).\n",
    "> - Auteur(s) : [Lilian Besson](https://github.com/Naereen/) et [Bastien Trotobas](https://github.com/BastienTr).\n",
    "> - Date : Juillet 2018.\n",
    "> - Licence : [MIT](https://lbesson.mit-license.org/)"
   ]
  },
  {
   "cell_type": "markdown",
   "metadata": {},
   "source": [
    "On utilise Python 3 dans ce document. Je vous conseille de le lire interactivement, en cliquant sur ce bouton là :\n",
    "\n",
    "[![FIXME ajouter lien MyBinder](FIXME ajouter lien MyBinder)](FIXME ajouter lien MyBinder)"
   ]
  },
  {
   "cell_type": "code",
   "execution_count": 1,
   "metadata": {},
   "outputs": [
    {
     "name": "stdout",
     "output_type": "stream",
     "text": [
      "Lilian Besson \n",
      "\n",
      "CPython 3.5.2\n",
      "IPython 6.3.1\n"
     ]
    }
   ],
   "source": [
    "%load_ext watermark\n",
    "%watermark -a \"Lilian Besson\" -v"
   ]
  },
  {
   "cell_type": "markdown",
   "metadata": {},
   "source": [
    "## Algorithme 1 : Ordre d'appel\n",
    "\n",
    "On va donner ici une implémentation simplifiée de la fonction du calcul d'ordre d'appel, avec plusieurs exemples."
   ]
  },
  {
   "cell_type": "markdown",
   "metadata": {},
   "source": [
    "### Types de candidats\n",
    "\n",
    "Un candidat ou une candidate peut être boursier-ère ou non, et résident-e ou non.\n",
    "On a besoin de 4 types de candidats, qu'on représente simplement par un entier."
   ]
  },
  {
   "cell_type": "code",
   "execution_count": 2,
   "metadata": {},
   "outputs": [],
   "source": [
    "# Les différents types de candidats\n",
    "BoursierResident       = 1\n",
    "BoursierNonResident    = 2\n",
    "NonBoursierResident    = 3\n",
    "NonBoursierNonResident = 4"
   ]
  },
  {
   "cell_type": "code",
   "execution_count": 3,
   "metadata": {},
   "outputs": [],
   "source": [
    "# Liste des différents types\n",
    "TypesCandidats = [\n",
    "    BoursierResident,\n",
    "    BoursierNonResident,\n",
    "    NonBoursierResident,\n",
    "    NonBoursierNonResident\n",
    "]"
   ]
  },
  {
   "cell_type": "code",
   "execution_count": 4,
   "metadata": {},
   "outputs": [],
   "source": [
    "def afficheTypeCandidat(typeCandidat):\n",
    "    if typeCandidat == BoursierResident:\n",
    "        return \"BoursierResident\"\n",
    "    elif typeCandidat == BoursierNonResident: \n",
    "        return \"BoursierNonResident\"\n",
    "    elif typeCandidat == NonBoursierResident: \n",
    "        return \"NonBoursierResident\"\n",
    "    elif typeCandidat == NonBoursierNonResident: \n",
    "        return \"NonBoursierNonResident\""
   ]
  },
  {
   "cell_type": "markdown",
   "metadata": {},
   "source": [
    "### Un vœu\n",
    "\n",
    "Ici on représente un vœu comme la donnée d'un type de candidat et d'un rang.\n",
    "On pourrait utiliser un tuple ou une liste, par exemple `[BoursierResident, 1, \"Harry Potter\"]` pour un boursier résident classé 1er et appelé Harry Potter, mais par lisibilité on préfère utiliser un dictionnaire qui contient ces informations :"
   ]
  },
  {
   "cell_type": "markdown",
   "metadata": {},
   "source": [
    "> *POUR NOUS* ne même pas parler de nom mais juste d'identifiant ?"
   ]
  },
  {
   "cell_type": "code",
   "execution_count": 5,
   "metadata": {},
   "outputs": [],
   "source": [
    "exemple_voeu = {\n",
    "    \"type\": BoursierResident,\n",
    "    \"rang\": 1,\n",
    "    \"nom\": \"Harry Potter\"\n",
    "}"
   ]
  },
  {
   "cell_type": "markdown",
   "metadata": {},
   "source": [
    "En fait, on n'utilisera jamais le nom des vœux, parce que *la plateforme ParcourSup ne tient compte d'aucune information sur les vœux ou les candidat-s, à part leur identifiant unique et anonymisé*.\n",
    "\n",
    "On ajoute un nom dans les premiers exemples simplement pour être un peu plus visuel.\n",
    "Les seules chosent que l'algorithme de ParourSup utilise à propos des vœux sont leur type et leur rang.\n",
    "Dans le code ci-dessous, ils seront lu comme ça : `voeu[\"type\"]` et `voeu[\"rang\"]`."
   ]
  },
  {
   "cell_type": "code",
   "execution_count": 6,
   "metadata": {},
   "outputs": [
    {
     "name": "stdout",
     "output_type": "stream",
     "text": [
      "Vœu de type BoursierResident et de rang 1\n"
     ]
    }
   ],
   "source": [
    "print(\"Vœu de type\", afficheTypeCandidat(exemple_voeu[\"type\"]), \"et de rang\", exemple_voeu[\"rang\"])"
   ]
  },
  {
   "cell_type": "markdown",
   "metadata": {},
   "source": [
    "### Une liste de vœux"
   ]
  },
  {
   "cell_type": "markdown",
   "metadata": {},
   "source": [
    "Ensuite, une liste de vœux est une liste de dictionnaires de cette forme.\n",
    "Prenons un exemple avec 8 vœux, qui reprend l'exemple \"A1\" donné dans le document de référence.\n",
    "\n",
    "> Note : les prénoms sont choisis pour être dans l'ordre alphabétique."
   ]
  },
  {
   "cell_type": "code",
   "execution_count": 7,
   "metadata": {},
   "outputs": [],
   "source": [
    "voeu_alice      = { \"type\": NonBoursierNonResident, \"rang\": 1, \"nom\": \"Alice\" }\n",
    "voeu_bob        = { \"type\": NonBoursierNonResident, \"rang\": 2, \"nom\": \"Bob\" }\n",
    "voeu_christophe = { \"type\": NonBoursierNonResident, \"rang\": 3, \"nom\": \"Christophe\" }\n",
    "voeu_dora       = { \"type\": NonBoursierNonResident, \"rang\": 4, \"nom\": \"Dora\" }\n",
    "voeu_emilie     = { \"type\": NonBoursierNonResident, \"rang\": 5, \"nom\": \"Emilie\" }\n",
    "voeu_florian    = { \"type\": BoursierNonResident,    \"rang\": 6, \"nom\": \"Florian\" }\n",
    "voeu_guillaume  = { \"type\": BoursierNonResident,    \"rang\": 7, \"nom\": \"Guillaume\" }\n",
    "voeu_helene     = { \"type\": NonBoursierNonResident, \"rang\": 8, \"nom\": \"Hélène\" }"
   ]
  },
  {
   "cell_type": "markdown",
   "metadata": {},
   "source": [
    "On a juste à les mettre dans une liste ensuite (en Python, une liste commence par `[`, chaque valeur est séparée par `,` et termine par `]`)."
   ]
  },
  {
   "cell_type": "code",
   "execution_count": 8,
   "metadata": {},
   "outputs": [],
   "source": [
    "voeuxClasses = [\n",
    "    voeu_alice, voeu_bob, voeu_christophe, voeu_dora,\n",
    "    voeu_emilie, voeu_florian, voeu_guillaume, voeu_helene\n",
    "    # le retour à la ligne n'est là que pour une meilleure visibilité\n",
    "]"
   ]
  },
  {
   "cell_type": "markdown",
   "metadata": {},
   "source": [
    "On aura besoin de savoir si un type de candidat est boursier ou non (respectivement, est résident ou non)."
   ]
  },
  {
   "cell_type": "code",
   "execution_count": 9,
   "metadata": {},
   "outputs": [],
   "source": [
    "def estBoursier(voeu):\n",
    "    return voeu[\"type\"] == BoursierResident or voeu[\"type\"] == BoursierNonResident"
   ]
  },
  {
   "cell_type": "code",
   "execution_count": 10,
   "metadata": {},
   "outputs": [],
   "source": [
    "def estResident(voeu):\n",
    "    return voeu[\"type\"] == BoursierResident or voeu[\"type\"] == NonBoursierResident"
   ]
  },
  {
   "cell_type": "code",
   "execution_count": 11,
   "metadata": {},
   "outputs": [
    {
     "name": "stdout",
     "output_type": "stream",
     "text": [
      "Le vœu exemple est-il boursier ? True\n",
      "Le vœu exemple est-il résident ? True\n"
     ]
    }
   ],
   "source": [
    "print(\"Le vœu exemple est-il boursier ?\", estBoursier(exemple_voeu))\n",
    "print(\"Le vœu exemple est-il résident ?\", estResident(exemple_voeu))"
   ]
  },
  {
   "cell_type": "markdown",
   "metadata": {},
   "source": [
    "### Contraintes\n",
    "\n",
    "On a besoin de connaître ces deux contraintes, exprimées en pourcentage donné comme un *entier* entre $0$ et $100$.\n",
    "\n",
    "- Par exemple ici, on demandera à avoir au moins 20% de boursiers-ères, mais aucune contrainte sur le taux de résidents-e-s."
   ]
  },
  {
   "cell_type": "code",
   "execution_count": 12,
   "metadata": {},
   "outputs": [],
   "source": [
    "tauxMinBoursiersPourcents = 20\n",
    "tauxMinResidentsPourcents = 0"
   ]
  },
  {
   "cell_type": "markdown",
   "metadata": {},
   "source": [
    "### Algorithme\n",
    "\n",
    "On devrait avoir tout ce qu'il faut.\n",
    "\n",
    "L'algorithme est présenté comme suit dans [le document de référence](https://framagit.org/parcoursup/algorithmes-de-parcoursup/blob/master/doc/presentation_algorithmes_parcoursup.pdf) :\n",
    "\n",
    "<img src=\"images/Algorithme_CalculOrdreAppel.png\" width=50%>\n",
    "\n",
    "Nous avons essayé de rendre le code suivant le plus clair possible mais il est nécessairement un peu long. Forcez vous à le lire jusqu'au bout !"
   ]
  },
  {
   "cell_type": "code",
   "execution_count": 13,
   "metadata": {
    "code_folding": []
   },
   "outputs": [],
   "source": [
    "def calculerOrdreAppel(\n",
    "        voeuxClasses,\n",
    "        tauxMinBoursiersPourcents,\n",
    "        tauxMinResidentsPourcents,\n",
    "        afficheTout=True\n",
    "    ):\n",
    "    if afficheTout == False:\n",
    "        def affiche(*args, **kwargs): pass\n",
    "    else: affiche = print\n",
    "\n",
    "    affiche(\"\\n0. On commence à calculer les ordres d'appel pour cette liste de vœux qui contient\", len(voeuxClasses), \"voeux.\")\n",
    "\n",
    "    affiche(\"  On crée des listes de vœux pour chaque types de candidats\", TypesCandidats)\n",
    "    # on crée autant de listes de vœux que de types de candidats,\n",
    "    # triées par ordre de classement\n",
    "    filesAttente = {\n",
    "        BoursierResident: [ ],  # liste vide associée à chaque type\n",
    "        BoursierNonResident: [ ],  # liste vide associée à chaque type\n",
    "        NonBoursierResident: [ ],  # liste vide associée à chaque type\n",
    "        NonBoursierNonResident: [ ],  # liste vide associée à chaque type\n",
    "    }\n",
    "\n",
    "    # Chaque voeu classé est ventilé dans la liste correspondante,\n",
    "    # en fonction du type du candidat.\n",
    "    # Les quatre listes obtenues sont ordonnées par rang de classement,\n",
    "    # comme l'est la liste voeuxClasses.\n",
    "    nbBoursiersTotal = 0\n",
    "    nbResidentsTotal = 0\n",
    "\n",
    "    # on trie les vœux par classement\n",
    "    affiche(\"\\n1. On trie les vœux par classement (rang croissant)...\")\n",
    "    affiche(\"  Avant le tri :\", voeuxClasses, \"...\")\n",
    "    voeuxClasses.sort(key=lambda voeu: -voeu[\"rang\"])\n",
    "    affiche(\"  Après le tri :\", voeuxClasses, \"...\")\n",
    "\n",
    "    for voeu in voeuxClasses:\n",
    "        # on ajoute le voeu à la fin de la file (FIFO) correspondante\n",
    "        filesAttente[voeu[\"type\"]].append(voeu)\n",
    "        if estBoursier(voeu):\n",
    "            nbBoursiersTotal += 1\n",
    "            affiche(\"    On compte un-e boursier-e en plus, c'est le\", nbBoursiersTotal, \"ème...\")\n",
    "        if estResident(voeu):\n",
    "            nbResidentsTotal += 1\n",
    "            affiche(\"    On compte un-e résident-e en plus, c'est le\", nbResidentsTotal, \"ème...\")\n",
    "\n",
    "    nbVoeuxClasses     = len(voeuxClasses)\n",
    "    nbAppeles          = 0\n",
    "    nbBoursiersAppeles = 0\n",
    "    nbResidentsAppeles = 0\n",
    "\n",
    "    # la boucle ajoute les candidats un par un à la liste suivante, dans l'ordre d'appel.\n",
    "    # On commence par un ordre d'appel vide (liste vide).\n",
    "    ordreAppel = [ ]\n",
    "\n",
    "    affiche(\"\\n2. Début de la boucle while, on remplit l'ordre d'appel...\")\n",
    "\n",
    "    while len(ordreAppel) < nbVoeuxClasses:\n",
    "        affiche(\"\\n  L'ordre d'appel contient\", len(ordreAppel), \"éléments et il y a\", nbVoeuxClasses, \"vœux à classer.\")\n",
    "        # on calcule lequel ou lesquels des critères boursiers et résidents\n",
    "        # contraignent le choix du prochain candidat dans l'ordre d'appel\n",
    "\n",
    "        contrainteTauxBoursier = (nbBoursiersAppeles < nbBoursiersTotal) and ((nbBoursiersAppeles * 100) < tauxMinBoursiersPourcents * (nbAppeles + 1))\n",
    "        affiche(\"  La contrainte sur le taux de boursier-e-s est\", contrainteTauxBoursier, \"...\")\n",
    "        affiche(\"      Car il y a pour l'instant\", nbBoursiersAppeles, \"boursier-e-s appelé-e-s sur un total de\", nbBoursiersTotal, \"et ce n'est pas assez pour dépasser le taux de\", tauxMinBoursiersPourcents, \"...\")\n",
    "\n",
    "        contrainteTauxResident = (nbResidentsAppeles < nbResidentsTotal) and ((nbResidentsAppeles * 100) < tauxMinResidentsPourcents * (nbAppeles + 1))\n",
    "        affiche(\"  La contrainte sur le taux de résident-e-s est\", contrainteTauxResident, \"...\")\n",
    "        affiche(\"      Car il y a pour l'instant\", nbResidentsAppeles, \"résident-e-s appelé-e-s sur un total de\", nbResidentsTotal, \"et ce n'est pas assez pour dépasser le taux de\", tauxMinResidentsPourcents, \"...\")\n",
    "\n",
    "        # on fait la liste des voeux satisfaisant\n",
    "        # les deux contraintes à la fois, ordonnée par rang de classement\n",
    "        eligibles = [ ]\n",
    "        for queue in filesAttente.values():\n",
    "            if queue:\n",
    "                voeu = queue[-1]  # le meilleur a été ajouté en dernier\n",
    "                if ((estBoursier(voeu) or not contrainteTauxBoursier)\n",
    "                    and (estResident(voeu) or not contrainteTauxResident)):\n",
    "                    eligibles.append(voeu)\n",
    "        affiche(\"  Les vœux satisfaisant les deux contraintes à la fois, ordonnés par rang de classement sont :\\n\", eligibles)\n",
    "\n",
    "        # stocke le meilleur candidat à appeler tout en respectant\n",
    "        # les deux contraintes si possible\n",
    "        # ou à défaut seulement la contrainte sur le taux boursier\n",
    "        meilleur = None\n",
    "\n",
    "        if len(eligibles) > 0:\n",
    "            # on prend le meilleur de cette liste\n",
    "            meilleur = max(eligibles, key=lambda voeu: -voeu[\"rang\"])\n",
    "            affiche(\"  La liste des éligibles n'est pas vide, donc le-la meilleur-e est le-la meilleur-e de cette liste =\", meilleur)\n",
    "        else:\n",
    "            # la liste peut être vide dans le cas où les deux contraintes\n",
    "            # ne peuvent être satisfaites à la fois.\n",
    "            # Dans ce cas nécessairement il y a une contrainte sur chacun des deux taux\n",
    "            # (donc au moins un boursier non encore sélectionné)\n",
    "            # et il ne reste plus de boursier résident,\n",
    "            # donc il reste au moins un boursier non résident\n",
    "            CandidatsBoursierNonResident = filesAttente[BoursierNonResident]\n",
    "            meilleur = max(CandidatsBoursierNonResident, key=lambda voeu: -voeu[\"rang\"])\n",
    "            affiche(\"  La liste des éligibles est pas vide, donc le-la meilleur-e est le-la meilleur-e de la liste des boursier-e-s non résident-e-s =\", meilleur)\n",
    "\n",
    "        # suppression du candidat choisi de sa file d'attente\n",
    "        saFileAttente = filesAttente[meilleur[\"type\"]]\n",
    "        affiche(\"  On vérifie si le-la meilleur\", meilleur, \"est aussi le-la meilleur-e de sa liste contenant\", len(saFileAttente), \"candidat-e-s du type\", meilleur['type'])\n",
    "        meilleur_de_sa_liste = saFileAttente.pop()\n",
    "\n",
    "        # ajout du meilleur candidat à l'ordre d'appel\n",
    "        ordreAppel.append(meilleur)\n",
    "        nbAppeles += 1\n",
    "        affiche(\"  On ajoute le meilleur\", meilleur, \"à l'ordre d'appel, c'est le-la\", nbAppeles, \"ème à être appelé-e.\")\n",
    "\n",
    "        if estBoursier(meilleur):\n",
    "            nbBoursiersAppeles += 1\n",
    "            affiche(\"    En plus, c'est le-la\", nbBoursiersAppeles, \"ème boursier-e à être appelé-e.\")\n",
    "        if estResident(meilleur):\n",
    "            nbResidentsAppeles += 1\n",
    "            affiche(\"    En plus, c'est le-la\", nbResidentsAppeles, \"ème résident-e à être appelé-e.\")\n",
    "\n",
    "    # fin de la boucle while\n",
    "    affiche(\"\\n3. On a terminé la boucle, on a rempli l'ordre d'appel.\")\n",
    "    return ordreAppel"
   ]
  },
  {
   "cell_type": "markdown",
   "metadata": {},
   "source": [
    "### Exemple (A1)\n",
    "\n",
    "Avec les valeurs prisent ci-dessus comme exemple :"
   ]
  },
  {
   "cell_type": "code",
   "execution_count": 14,
   "metadata": {
    "scrolled": false
   },
   "outputs": [
    {
     "name": "stdout",
     "output_type": "stream",
     "text": [
      "\n",
      "0. On commence à calculer les ordres d'appel pour cette liste de vœux qui contient 8 voeux.\n",
      "  On crée des listes de vœux pour chaque types de candidats [1, 2, 3, 4]\n",
      "\n",
      "1. On trie les vœux par classement (rang croissant)...\n",
      "  Avant le tri : [{'nom': 'Alice', 'rang': 1, 'type': 4}, {'nom': 'Bob', 'rang': 2, 'type': 4}, {'nom': 'Christophe', 'rang': 3, 'type': 4}, {'nom': 'Dora', 'rang': 4, 'type': 4}, {'nom': 'Emilie', 'rang': 5, 'type': 4}, {'nom': 'Florian', 'rang': 6, 'type': 2}, {'nom': 'Guillaume', 'rang': 7, 'type': 2}, {'nom': 'Hélène', 'rang': 8, 'type': 4}] ...\n",
      "  Après le tri : [{'nom': 'Hélène', 'rang': 8, 'type': 4}, {'nom': 'Guillaume', 'rang': 7, 'type': 2}, {'nom': 'Florian', 'rang': 6, 'type': 2}, {'nom': 'Emilie', 'rang': 5, 'type': 4}, {'nom': 'Dora', 'rang': 4, 'type': 4}, {'nom': 'Christophe', 'rang': 3, 'type': 4}, {'nom': 'Bob', 'rang': 2, 'type': 4}, {'nom': 'Alice', 'rang': 1, 'type': 4}] ...\n",
      "    On compte un-e boursier-e en plus, c'est le 1 ème...\n",
      "    On compte un-e boursier-e en plus, c'est le 2 ème...\n",
      "\n",
      "2. Début de la boucle while, on remplit l'ordre d'appel...\n",
      "\n",
      "  L'ordre d'appel contient 0 éléments et il y a 8 vœux à classer.\n",
      "  La contrainte sur le taux de boursier-e-s est True ...\n",
      "      Car il y a pour l'instant 0 boursier-e-s appelé-e-s sur un total de 2 et ce n'est pas assez pour dépasser le taux de 20 ...\n",
      "  La contrainte sur le taux de résident-e-s est False ...\n",
      "      Car il y a pour l'instant 0 résident-e-s appelé-e-s sur un total de 0 et ce n'est pas assez pour dépasser le taux de 0 ...\n",
      "  Les vœux satisfaisant les deux contraintes à la fois, ordonnés par rang de classement sont :\n",
      " [{'nom': 'Florian', 'rang': 6, 'type': 2}]\n",
      "  La liste des éligibles n'est pas vide, donc le-la meilleur-e est le-la meilleur-e de cette liste = {'nom': 'Florian', 'rang': 6, 'type': 2}\n",
      "  On vérifie si le-la meilleur {'nom': 'Florian', 'rang': 6, 'type': 2} est aussi le-la meilleur-e de sa liste contenant 2 candidat-e-s du type 2\n",
      "  On ajoute le meilleur {'nom': 'Florian', 'rang': 6, 'type': 2} à l'ordre d'appel, c'est le-la 1 ème à être appelé-e.\n",
      "    En plus, c'est le-la 1 ème boursier-e à être appelé-e.\n",
      "\n",
      "  L'ordre d'appel contient 1 éléments et il y a 8 vœux à classer.\n",
      "  La contrainte sur le taux de boursier-e-s est False ...\n",
      "      Car il y a pour l'instant 1 boursier-e-s appelé-e-s sur un total de 2 et ce n'est pas assez pour dépasser le taux de 20 ...\n",
      "  La contrainte sur le taux de résident-e-s est False ...\n",
      "      Car il y a pour l'instant 0 résident-e-s appelé-e-s sur un total de 0 et ce n'est pas assez pour dépasser le taux de 0 ...\n",
      "  Les vœux satisfaisant les deux contraintes à la fois, ordonnés par rang de classement sont :\n",
      " [{'nom': 'Guillaume', 'rang': 7, 'type': 2}, {'nom': 'Alice', 'rang': 1, 'type': 4}]\n",
      "  La liste des éligibles n'est pas vide, donc le-la meilleur-e est le-la meilleur-e de cette liste = {'nom': 'Alice', 'rang': 1, 'type': 4}\n",
      "  On vérifie si le-la meilleur {'nom': 'Alice', 'rang': 1, 'type': 4} est aussi le-la meilleur-e de sa liste contenant 6 candidat-e-s du type 4\n",
      "  On ajoute le meilleur {'nom': 'Alice', 'rang': 1, 'type': 4} à l'ordre d'appel, c'est le-la 2 ème à être appelé-e.\n",
      "\n",
      "  L'ordre d'appel contient 2 éléments et il y a 8 vœux à classer.\n",
      "  La contrainte sur le taux de boursier-e-s est False ...\n",
      "      Car il y a pour l'instant 1 boursier-e-s appelé-e-s sur un total de 2 et ce n'est pas assez pour dépasser le taux de 20 ...\n",
      "  La contrainte sur le taux de résident-e-s est False ...\n",
      "      Car il y a pour l'instant 0 résident-e-s appelé-e-s sur un total de 0 et ce n'est pas assez pour dépasser le taux de 0 ...\n",
      "  Les vœux satisfaisant les deux contraintes à la fois, ordonnés par rang de classement sont :\n",
      " [{'nom': 'Guillaume', 'rang': 7, 'type': 2}, {'nom': 'Bob', 'rang': 2, 'type': 4}]\n",
      "  La liste des éligibles n'est pas vide, donc le-la meilleur-e est le-la meilleur-e de cette liste = {'nom': 'Bob', 'rang': 2, 'type': 4}\n",
      "  On vérifie si le-la meilleur {'nom': 'Bob', 'rang': 2, 'type': 4} est aussi le-la meilleur-e de sa liste contenant 5 candidat-e-s du type 4\n",
      "  On ajoute le meilleur {'nom': 'Bob', 'rang': 2, 'type': 4} à l'ordre d'appel, c'est le-la 3 ème à être appelé-e.\n",
      "\n",
      "  L'ordre d'appel contient 3 éléments et il y a 8 vœux à classer.\n",
      "  La contrainte sur le taux de boursier-e-s est False ...\n",
      "      Car il y a pour l'instant 1 boursier-e-s appelé-e-s sur un total de 2 et ce n'est pas assez pour dépasser le taux de 20 ...\n",
      "  La contrainte sur le taux de résident-e-s est False ...\n",
      "      Car il y a pour l'instant 0 résident-e-s appelé-e-s sur un total de 0 et ce n'est pas assez pour dépasser le taux de 0 ...\n",
      "  Les vœux satisfaisant les deux contraintes à la fois, ordonnés par rang de classement sont :\n",
      " [{'nom': 'Guillaume', 'rang': 7, 'type': 2}, {'nom': 'Christophe', 'rang': 3, 'type': 4}]\n",
      "  La liste des éligibles n'est pas vide, donc le-la meilleur-e est le-la meilleur-e de cette liste = {'nom': 'Christophe', 'rang': 3, 'type': 4}\n",
      "  On vérifie si le-la meilleur {'nom': 'Christophe', 'rang': 3, 'type': 4} est aussi le-la meilleur-e de sa liste contenant 4 candidat-e-s du type 4\n",
      "  On ajoute le meilleur {'nom': 'Christophe', 'rang': 3, 'type': 4} à l'ordre d'appel, c'est le-la 4 ème à être appelé-e.\n",
      "\n",
      "  L'ordre d'appel contient 4 éléments et il y a 8 vœux à classer.\n",
      "  La contrainte sur le taux de boursier-e-s est False ...\n",
      "      Car il y a pour l'instant 1 boursier-e-s appelé-e-s sur un total de 2 et ce n'est pas assez pour dépasser le taux de 20 ...\n",
      "  La contrainte sur le taux de résident-e-s est False ...\n",
      "      Car il y a pour l'instant 0 résident-e-s appelé-e-s sur un total de 0 et ce n'est pas assez pour dépasser le taux de 0 ...\n",
      "  Les vœux satisfaisant les deux contraintes à la fois, ordonnés par rang de classement sont :\n",
      " [{'nom': 'Guillaume', 'rang': 7, 'type': 2}, {'nom': 'Dora', 'rang': 4, 'type': 4}]\n",
      "  La liste des éligibles n'est pas vide, donc le-la meilleur-e est le-la meilleur-e de cette liste = {'nom': 'Dora', 'rang': 4, 'type': 4}\n",
      "  On vérifie si le-la meilleur {'nom': 'Dora', 'rang': 4, 'type': 4} est aussi le-la meilleur-e de sa liste contenant 3 candidat-e-s du type 4\n",
      "  On ajoute le meilleur {'nom': 'Dora', 'rang': 4, 'type': 4} à l'ordre d'appel, c'est le-la 5 ème à être appelé-e.\n",
      "\n",
      "  L'ordre d'appel contient 5 éléments et il y a 8 vœux à classer.\n",
      "  La contrainte sur le taux de boursier-e-s est True ...\n",
      "      Car il y a pour l'instant 1 boursier-e-s appelé-e-s sur un total de 2 et ce n'est pas assez pour dépasser le taux de 20 ...\n",
      "  La contrainte sur le taux de résident-e-s est False ...\n",
      "      Car il y a pour l'instant 0 résident-e-s appelé-e-s sur un total de 0 et ce n'est pas assez pour dépasser le taux de 0 ...\n",
      "  Les vœux satisfaisant les deux contraintes à la fois, ordonnés par rang de classement sont :\n",
      " [{'nom': 'Guillaume', 'rang': 7, 'type': 2}]\n",
      "  La liste des éligibles n'est pas vide, donc le-la meilleur-e est le-la meilleur-e de cette liste = {'nom': 'Guillaume', 'rang': 7, 'type': 2}\n",
      "  On vérifie si le-la meilleur {'nom': 'Guillaume', 'rang': 7, 'type': 2} est aussi le-la meilleur-e de sa liste contenant 1 candidat-e-s du type 2\n",
      "  On ajoute le meilleur {'nom': 'Guillaume', 'rang': 7, 'type': 2} à l'ordre d'appel, c'est le-la 6 ème à être appelé-e.\n",
      "    En plus, c'est le-la 2 ème boursier-e à être appelé-e.\n",
      "\n",
      "  L'ordre d'appel contient 6 éléments et il y a 8 vœux à classer.\n",
      "  La contrainte sur le taux de boursier-e-s est False ...\n",
      "      Car il y a pour l'instant 2 boursier-e-s appelé-e-s sur un total de 2 et ce n'est pas assez pour dépasser le taux de 20 ...\n",
      "  La contrainte sur le taux de résident-e-s est False ...\n",
      "      Car il y a pour l'instant 0 résident-e-s appelé-e-s sur un total de 0 et ce n'est pas assez pour dépasser le taux de 0 ...\n",
      "  Les vœux satisfaisant les deux contraintes à la fois, ordonnés par rang de classement sont :\n",
      " [{'nom': 'Emilie', 'rang': 5, 'type': 4}]\n",
      "  La liste des éligibles n'est pas vide, donc le-la meilleur-e est le-la meilleur-e de cette liste = {'nom': 'Emilie', 'rang': 5, 'type': 4}\n",
      "  On vérifie si le-la meilleur {'nom': 'Emilie', 'rang': 5, 'type': 4} est aussi le-la meilleur-e de sa liste contenant 2 candidat-e-s du type 4\n",
      "  On ajoute le meilleur {'nom': 'Emilie', 'rang': 5, 'type': 4} à l'ordre d'appel, c'est le-la 7 ème à être appelé-e.\n",
      "\n",
      "  L'ordre d'appel contient 7 éléments et il y a 8 vœux à classer.\n",
      "  La contrainte sur le taux de boursier-e-s est False ...\n",
      "      Car il y a pour l'instant 2 boursier-e-s appelé-e-s sur un total de 2 et ce n'est pas assez pour dépasser le taux de 20 ...\n",
      "  La contrainte sur le taux de résident-e-s est False ...\n",
      "      Car il y a pour l'instant 0 résident-e-s appelé-e-s sur un total de 0 et ce n'est pas assez pour dépasser le taux de 0 ...\n",
      "  Les vœux satisfaisant les deux contraintes à la fois, ordonnés par rang de classement sont :\n",
      " [{'nom': 'Hélène', 'rang': 8, 'type': 4}]\n",
      "  La liste des éligibles n'est pas vide, donc le-la meilleur-e est le-la meilleur-e de cette liste = {'nom': 'Hélène', 'rang': 8, 'type': 4}\n",
      "  On vérifie si le-la meilleur {'nom': 'Hélène', 'rang': 8, 'type': 4} est aussi le-la meilleur-e de sa liste contenant 1 candidat-e-s du type 4\n",
      "  On ajoute le meilleur {'nom': 'Hélène', 'rang': 8, 'type': 4} à l'ordre d'appel, c'est le-la 8 ème à être appelé-e.\n",
      "\n",
      "3. On a terminé la boucle, on a rempli l'ordre d'appel.\n"
     ]
    },
    {
     "data": {
      "text/plain": [
       "[{'nom': 'Florian', 'rang': 6, 'type': 2},\n",
       " {'nom': 'Alice', 'rang': 1, 'type': 4},\n",
       " {'nom': 'Bob', 'rang': 2, 'type': 4},\n",
       " {'nom': 'Christophe', 'rang': 3, 'type': 4},\n",
       " {'nom': 'Dora', 'rang': 4, 'type': 4},\n",
       " {'nom': 'Guillaume', 'rang': 7, 'type': 2},\n",
       " {'nom': 'Emilie', 'rang': 5, 'type': 4},\n",
       " {'nom': 'Hélène', 'rang': 8, 'type': 4}]"
      ]
     },
     "execution_count": 14,
     "metadata": {},
     "output_type": "execute_result"
    }
   ],
   "source": [
    "calculerOrdreAppel(\n",
    "    voeuxClasses,\n",
    "    tauxMinBoursiersPourcents,\n",
    "    tauxMinResidentsPourcents\n",
    ")"
   ]
  },
  {
   "cell_type": "markdown",
   "metadata": {},
   "source": [
    "- Sur cet exemple, on constate que la contrainte sur les boursiers a pu aider le candidat Florian, qui étais classé 6ème (le meilleur parmi les boursiers) à remonter devant certains candidats non boursiers.\n",
    "\n",
    "- La suite est logique, entre Alice, Bob, Christophe et Dora, puis on voit que Guillaume est aussi passé devant d'autres candidats avec la contrainte de 20% de boursiers (après les 5 premiers candidats, dont un boursier, il faut ajouter Guillaume pour continuer à satisfaire la contrainte de minimum 20% de boursiers)."
   ]
  },
  {
   "cell_type": "markdown",
   "metadata": {},
   "source": [
    "### Visualisation interactive\n",
    "\n",
    "Les morceaux suivants sont hors programme, *ne regardez pas le détail du code*.\n",
    "\n",
    "Ils vont permettre d'explorer interactivement l'influence des deux taux minimums (taux de boursiers-ères et résidents-entes) sur le résultat de l'ordre d'appel."
   ]
  },
  {
   "cell_type": "code",
   "execution_count": 15,
   "metadata": {},
   "outputs": [],
   "source": [
    "from IPython.display import display\n",
    "from ipywidgets import interact"
   ]
  },
  {
   "cell_type": "markdown",
   "metadata": {},
   "source": [
    "On définit la fonction que l'on souhaite explorer :"
   ]
  },
  {
   "cell_type": "code",
   "execution_count": 16,
   "metadata": {
    "code_folding": [
     0,
     4
    ]
   },
   "outputs": [],
   "source": [
    "def fait_fonctionATester(\n",
    "    voeuxClasses,\n",
    "    tauxMinBoursiersPourcents=20,\n",
    "    tauxMinResidentsPourcents=0\n",
    "):\n",
    "    def fonctionATester(\n",
    "        tauxMinBoursiersPourcents=tauxMinBoursiersPourcents,\n",
    "        tauxMinResidentsPourcents=tauxMinResidentsPourcents\n",
    "    ):\n",
    "        ordreAppel = calculerOrdreAppel(\n",
    "            voeuxClasses,\n",
    "            tauxMinBoursiersPourcents,\n",
    "            tauxMinResidentsPourcents,\n",
    "            afficheTout=False  # on cache la sortie\n",
    "        )\n",
    "        res = [voeu[\"rang\"] for voeu in ordreAppel]\n",
    "        return res\n",
    "\n",
    "    return fonctionATester"
   ]
  },
  {
   "cell_type": "markdown",
   "metadata": {},
   "source": [
    "Par exemple, si on demande $90%$ de boursiers, on voit que les candidats classés 6ème (Florian) et 7ème (Guillaume) sont mis en avant."
   ]
  },
  {
   "cell_type": "code",
   "execution_count": 17,
   "metadata": {
    "scrolled": true
   },
   "outputs": [
    {
     "data": {
      "text/plain": [
       "[6, 7, 1, 2, 3, 4, 5, 8]"
      ]
     },
     "execution_count": 17,
     "metadata": {},
     "output_type": "execute_result"
    }
   ],
   "source": [
    "fait_fonctionATester(voeuxClasses)(90, 0)"
   ]
  },
  {
   "cell_type": "markdown",
   "metadata": {},
   "source": [
    "Mais la visualisation interactive suivante permet de suivre l'influence des deux paramètres sur la liste des rangs finaux beaucoup plus facilement."
   ]
  },
  {
   "cell_type": "code",
   "execution_count": 18,
   "metadata": {},
   "outputs": [
    {
     "data": {
      "application/vnd.jupyter.widget-view+json": {
       "model_id": "56a175a6db6e4ac4ae5e89eb51d95177",
       "version_major": 2,
       "version_minor": 0
      },
      "text/plain": [
       "interactive(children=(IntSlider(value=20, description='tauxMinBoursiersPourcents'), IntSlider(value=0, descrip…"
      ]
     },
     "metadata": {},
     "output_type": "display_data"
    }
   ],
   "source": [
    "interact(\n",
    "    fait_fonctionATester(voeuxClasses, tauxMinBoursiersPourcents=20, tauxMinResidentsPourcents=0),\n",
    "    tauxMinBoursiersPourcents=(0, 100, 1),\n",
    "    tauxMinResidentsPourcents=(0, 100, 1)\n",
    ");"
   ]
  },
  {
   "cell_type": "markdown",
   "metadata": {},
   "source": [
    "> <span style=\"color:red;\">Ca ne marche pas sur ma machine</span>, mais sur une installation neuve ou sur [MyBinder](http://mybinder.org/), tout fonctionne bien…"
   ]
  },
  {
   "cell_type": "markdown",
   "metadata": {},
   "source": [
    "### Autres exemples (A2, A4)\n",
    "\n",
    "Le document de référence propose deux autres exemples de petite taille, notés A2 et A4."
   ]
  },
  {
   "cell_type": "markdown",
   "metadata": {},
   "source": [
    "#### A2 : 2% de boursiers-ères\n",
    "\n",
    "Comme dans le document de référence : C1 C2 C3 C4 C5 B6 C7 C8, où B6 est boursier, et tous sont non résidents.\n",
    "(Plus besoin des noms dans cet exemple là, on les enlève)"
   ]
  },
  {
   "cell_type": "code",
   "execution_count": 19,
   "metadata": {},
   "outputs": [],
   "source": [
    "C1 = { \"type\": NonBoursierNonResident, \"rang\": 1 }\n",
    "C2 = { \"type\": NonBoursierNonResident, \"rang\": 2 }\n",
    "C3 = { \"type\": NonBoursierNonResident, \"rang\": 3 }\n",
    "C4 = { \"type\": NonBoursierNonResident, \"rang\": 4 }\n",
    "C5 = { \"type\": NonBoursierNonResident, \"rang\": 5 }\n",
    "B6 = { \"type\": BoursierNonResident,    \"rang\": 6 }\n",
    "C7 = { \"type\": NonBoursierNonResident, \"rang\": 7 }\n",
    "C8 = { \"type\": NonBoursierNonResident, \"rang\": 8 }"
   ]
  },
  {
   "cell_type": "code",
   "execution_count": 20,
   "metadata": {},
   "outputs": [],
   "source": [
    "voeuxClasses_A2 = [C1, C2, C3, C4, C5, B6, C7, C8]"
   ]
  },
  {
   "cell_type": "markdown",
   "metadata": {},
   "source": [
    "On reproduit l'exemple du document de référence, avant de vous laisser explorer l'influence des deux taux."
   ]
  },
  {
   "cell_type": "code",
   "execution_count": 21,
   "metadata": {
    "scrolled": true
   },
   "outputs": [
    {
     "data": {
      "text/plain": [
       "[6, 1, 2, 3, 4, 5, 7, 8]"
      ]
     },
     "execution_count": 21,
     "metadata": {},
     "output_type": "execute_result"
    }
   ],
   "source": [
    "fait_fonctionATester(voeuxClasses_A2)(2, 0)"
   ]
  },
  {
   "cell_type": "code",
   "execution_count": 22,
   "metadata": {
    "scrolled": true
   },
   "outputs": [
    {
     "data": {
      "application/vnd.jupyter.widget-view+json": {
       "model_id": "f8b3f47aa49e43bd96d7bd8d77d067ec",
       "version_major": 2,
       "version_minor": 0
      },
      "text/plain": [
       "interactive(children=(IntSlider(value=2, description='tauxMinBoursiersPourcents'), IntSlider(value=0, descript…"
      ]
     },
     "metadata": {},
     "output_type": "display_data"
    }
   ],
   "source": [
    "interact(\n",
    "    fait_fonctionATester(\n",
    "        voeuxClasses_A2, tauxMinBoursiersPourcents=2, tauxMinResidentsPourcents=0\n",
    "    ),\n",
    "    tauxMinBoursiersPourcents=(0, 100, 1),\n",
    "    tauxMinResidentsPourcents=(0, 100, 1)\n",
    ");"
   ]
  },
  {
   "cell_type": "markdown",
   "metadata": {},
   "source": [
    "On remarque que même un minimum de $2%$ de boursiers-ères suffit à faire remonter le candidat B6 en tête.\n",
    "\n",
    "L'ordre des rangs est respecté seulement si on a aucune contrainte sur le taux de boursiers."
   ]
  },
  {
   "cell_type": "code",
   "execution_count": 23,
   "metadata": {
    "scrolled": true
   },
   "outputs": [
    {
     "data": {
      "text/plain": [
       "[1, 2, 3, 4, 5, 6, 7, 8]"
      ]
     },
     "execution_count": 23,
     "metadata": {},
     "output_type": "execute_result"
    }
   ],
   "source": [
    "fait_fonctionATester(voeuxClasses_A2)(0, 0)"
   ]
  },
  {
   "cell_type": "markdown",
   "metadata": {},
   "source": [
    "#### A4 : 10% de boursiers-ères\n",
    "\n",
    "Comme dans le document de référence : C1 B2 B3 C4 C5 C6 C7 B8 C9 C10, où B2 B3 et B8 sont boursiers et tous sont non résidents."
   ]
  },
  {
   "cell_type": "code",
   "execution_count": 24,
   "metadata": {},
   "outputs": [],
   "source": [
    "C1  = { \"type\": NonBoursierNonResident, \"rang\": 1 }\n",
    "B2  = { \"type\": BoursierNonResident,    \"rang\": 2 }\n",
    "B3  = { \"type\": BoursierNonResident,    \"rang\": 3 }\n",
    "C4  = { \"type\": NonBoursierNonResident, \"rang\": 4 }\n",
    "C5  = { \"type\": NonBoursierNonResident, \"rang\": 5 }\n",
    "C6  = { \"type\": NonBoursierNonResident, \"rang\": 6 }\n",
    "C7  = { \"type\": NonBoursierNonResident, \"rang\": 7 }\n",
    "B8  = { \"type\": BoursierNonResident,    \"rang\": 8 }\n",
    "C9  = { \"type\": NonBoursierNonResident, \"rang\": 9 }\n",
    "C10 = { \"type\": NonBoursierNonResident, \"rang\": 10 }"
   ]
  },
  {
   "cell_type": "code",
   "execution_count": 25,
   "metadata": {},
   "outputs": [],
   "source": [
    "voeuxClasses_A4 = [C1, B2, B3, C4, C5, C6, C7, B8, C9, C10]"
   ]
  },
  {
   "cell_type": "markdown",
   "metadata": {},
   "source": [
    "On reproduit l'exemple du document de référence, avant de vous laisser explorer l'influence des deux taux."
   ]
  },
  {
   "cell_type": "code",
   "execution_count": 26,
   "metadata": {
    "scrolled": true
   },
   "outputs": [
    {
     "data": {
      "text/plain": [
       "[2, 1, 3, 4, 5, 6, 7, 8, 9, 10]"
      ]
     },
     "execution_count": 26,
     "metadata": {},
     "output_type": "execute_result"
    }
   ],
   "source": [
    "fait_fonctionATester(voeuxClasses_A4)(10, 0)"
   ]
  },
  {
   "cell_type": "code",
   "execution_count": 27,
   "metadata": {
    "scrolled": true
   },
   "outputs": [
    {
     "data": {
      "application/vnd.jupyter.widget-view+json": {
       "model_id": "65d4334d93124b1a845355836bbbe9bd",
       "version_major": 2,
       "version_minor": 0
      },
      "text/plain": [
       "interactive(children=(IntSlider(value=10, description='tauxMinBoursiersPourcents'), IntSlider(value=0, descrip…"
      ]
     },
     "metadata": {},
     "output_type": "display_data"
    }
   ],
   "source": [
    "interact(\n",
    "    fait_fonctionATester(\n",
    "        voeuxClasses_A4, tauxMinBoursiersPourcents=10, tauxMinResidentsPourcents=0\n",
    "    ),\n",
    "    tauxMinBoursiersPourcents=(0, 100, 1),\n",
    "    tauxMinResidentsPourcents=(0, 100, 1)\n",
    ");"
   ]
  },
  {
   "cell_type": "markdown",
   "metadata": {},
   "source": [
    "### Visualisations colorées\n",
    "On va utiliser [ipythonblocks](http://www.ipythonblocks.org/)."
   ]
  },
  {
   "cell_type": "code",
   "execution_count": 28,
   "metadata": {},
   "outputs": [],
   "source": [
    "from ipythonblocks import BlockGrid"
   ]
  },
  {
   "cell_type": "code",
   "execution_count": 29,
   "metadata": {},
   "outputs": [],
   "source": [
    "couleursTypeCandidat = {\n",
    "    NonBoursierNonResident: (200, 200, 200),  # gris\n",
    "    NonBoursierResident:    (0, 0, 200),      # bleu\n",
    "    BoursierNonResident:    (200, 0, 0),      # rouge\n",
    "    BoursierResident:       (200, 0, 200),    # violet\n",
    "}"
   ]
  },
  {
   "cell_type": "code",
   "execution_count": 30,
   "metadata": {},
   "outputs": [],
   "source": [
    "def voirListeVoeu(voeuxClasses):\n",
    "    nbVoeux = len(voeuxClasses)\n",
    "    grille = BlockGrid(nbVoeux, 1, fill=(200, 200, 200))\n",
    "    for i, voeu in enumerate(voeuxClasses):\n",
    "        typeCandidat = voeu[\"type\"]\n",
    "        couleur = couleursTypeCandidat[typeCandidat]\n",
    "        grille[0, i].set_colors(*couleur)\n",
    "    return grille"
   ]
  },
  {
   "cell_type": "code",
   "execution_count": 31,
   "metadata": {},
   "outputs": [
    {
     "data": {
      "text/plain": [
       "[{'rang': 10, 'type': 4},\n",
       " {'rang': 9, 'type': 4},\n",
       " {'rang': 8, 'type': 2},\n",
       " {'rang': 7, 'type': 4},\n",
       " {'rang': 6, 'type': 4},\n",
       " {'rang': 5, 'type': 4},\n",
       " {'rang': 4, 'type': 4},\n",
       " {'rang': 3, 'type': 2},\n",
       " {'rang': 2, 'type': 2},\n",
       " {'rang': 1, 'type': 4}]"
      ]
     },
     "execution_count": 31,
     "metadata": {},
     "output_type": "execute_result"
    }
   ],
   "source": [
    "voeuxClasses_A4"
   ]
  },
  {
   "cell_type": "code",
   "execution_count": 32,
   "metadata": {},
   "outputs": [
    {
     "data": {
      "text/html": [
       "<style type=\"text/css\">table.blockgrid {border: none;} .blockgrid tr {border: none;} .blockgrid td {padding: 0px;} #blocksd1a96e99-11a8-420d-9b91-5fd14bb38667 td {border: 1px solid white;}</style><table id=\"blocksd1a96e99-11a8-420d-9b91-5fd14bb38667\" class=\"blockgrid\"><tbody><tr><td title=\"Index: [0, 0]&#10;Color: (200, 200, 200)\" style=\"width: 20px; height: 20px;background-color: rgb(200, 200, 200);\"></td><td title=\"Index: [0, 1]&#10;Color: (200, 200, 200)\" style=\"width: 20px; height: 20px;background-color: rgb(200, 200, 200);\"></td><td title=\"Index: [0, 2]&#10;Color: (200, 0, 0)\" style=\"width: 20px; height: 20px;background-color: rgb(200, 0, 0);\"></td><td title=\"Index: [0, 3]&#10;Color: (200, 200, 200)\" style=\"width: 20px; height: 20px;background-color: rgb(200, 200, 200);\"></td><td title=\"Index: [0, 4]&#10;Color: (200, 200, 200)\" style=\"width: 20px; height: 20px;background-color: rgb(200, 200, 200);\"></td><td title=\"Index: [0, 5]&#10;Color: (200, 200, 200)\" style=\"width: 20px; height: 20px;background-color: rgb(200, 200, 200);\"></td><td title=\"Index: [0, 6]&#10;Color: (200, 200, 200)\" style=\"width: 20px; height: 20px;background-color: rgb(200, 200, 200);\"></td><td title=\"Index: [0, 7]&#10;Color: (200, 200, 200)\" style=\"width: 20px; height: 20px;background-color: rgb(200, 200, 200);\"></td></tr></tbody></table>"
      ],
      "text/plain": [
       "<ipythonblocks.ipythonblocks.BlockGrid at 0x7fa2b45dc588>"
      ]
     },
     "execution_count": 32,
     "metadata": {},
     "output_type": "execute_result"
    }
   ],
   "source": [
    "voirListeVoeu(voeuxClasses_A2)"
   ]
  },
  {
   "cell_type": "code",
   "execution_count": 33,
   "metadata": {},
   "outputs": [
    {
     "data": {
      "text/html": [
       "<style type=\"text/css\">table.blockgrid {border: none;} .blockgrid tr {border: none;} .blockgrid td {padding: 0px;} #blocks135f9c0a-b5a1-429f-ac9f-253fae985ab8 td {border: 1px solid white;}</style><table id=\"blocks135f9c0a-b5a1-429f-ac9f-253fae985ab8\" class=\"blockgrid\"><tbody><tr><td title=\"Index: [0, 0]&#10;Color: (200, 200, 200)\" style=\"width: 20px; height: 20px;background-color: rgb(200, 200, 200);\"></td><td title=\"Index: [0, 1]&#10;Color: (200, 200, 200)\" style=\"width: 20px; height: 20px;background-color: rgb(200, 200, 200);\"></td><td title=\"Index: [0, 2]&#10;Color: (200, 0, 0)\" style=\"width: 20px; height: 20px;background-color: rgb(200, 0, 0);\"></td><td title=\"Index: [0, 3]&#10;Color: (200, 200, 200)\" style=\"width: 20px; height: 20px;background-color: rgb(200, 200, 200);\"></td><td title=\"Index: [0, 4]&#10;Color: (200, 200, 200)\" style=\"width: 20px; height: 20px;background-color: rgb(200, 200, 200);\"></td><td title=\"Index: [0, 5]&#10;Color: (200, 200, 200)\" style=\"width: 20px; height: 20px;background-color: rgb(200, 200, 200);\"></td><td title=\"Index: [0, 6]&#10;Color: (200, 200, 200)\" style=\"width: 20px; height: 20px;background-color: rgb(200, 200, 200);\"></td><td title=\"Index: [0, 7]&#10;Color: (200, 0, 0)\" style=\"width: 20px; height: 20px;background-color: rgb(200, 0, 0);\"></td><td title=\"Index: [0, 8]&#10;Color: (200, 0, 0)\" style=\"width: 20px; height: 20px;background-color: rgb(200, 0, 0);\"></td><td title=\"Index: [0, 9]&#10;Color: (200, 200, 200)\" style=\"width: 20px; height: 20px;background-color: rgb(200, 200, 200);\"></td></tr></tbody></table>"
      ],
      "text/plain": [
       "<ipythonblocks.ipythonblocks.BlockGrid at 0x7fa2b45dcba8>"
      ]
     },
     "execution_count": 33,
     "metadata": {},
     "output_type": "execute_result"
    }
   ],
   "source": [
    "voirListeVoeu(voeuxClasses_A4)"
   ]
  },
  {
   "cell_type": "markdown",
   "metadata": {},
   "source": [
    "Les candidats-ates boursiers-ères sont en rouges. On peut visualiser que le calcul de l'ordre d'appel va faire remonter un-e candidat-e boursier-ère :"
   ]
  },
  {
   "cell_type": "code",
   "execution_count": 34,
   "metadata": {},
   "outputs": [
    {
     "data": {
      "text/html": [
       "<style type=\"text/css\">table.blockgrid {border: none;} .blockgrid tr {border: none;} .blockgrid td {padding: 0px;} #blocks10663387-b421-4341-8c2a-f5169ae05b9b td {border: 1px solid white;}</style><table id=\"blocks10663387-b421-4341-8c2a-f5169ae05b9b\" class=\"blockgrid\"><tbody><tr><td title=\"Index: [0, 0]&#10;Color: (200, 0, 0)\" style=\"width: 20px; height: 20px;background-color: rgb(200, 0, 0);\"></td><td title=\"Index: [0, 1]&#10;Color: (200, 200, 200)\" style=\"width: 20px; height: 20px;background-color: rgb(200, 200, 200);\"></td><td title=\"Index: [0, 2]&#10;Color: (200, 200, 200)\" style=\"width: 20px; height: 20px;background-color: rgb(200, 200, 200);\"></td><td title=\"Index: [0, 3]&#10;Color: (200, 200, 200)\" style=\"width: 20px; height: 20px;background-color: rgb(200, 200, 200);\"></td><td title=\"Index: [0, 4]&#10;Color: (200, 200, 200)\" style=\"width: 20px; height: 20px;background-color: rgb(200, 200, 200);\"></td><td title=\"Index: [0, 5]&#10;Color: (200, 200, 200)\" style=\"width: 20px; height: 20px;background-color: rgb(200, 200, 200);\"></td><td title=\"Index: [0, 6]&#10;Color: (200, 200, 200)\" style=\"width: 20px; height: 20px;background-color: rgb(200, 200, 200);\"></td><td title=\"Index: [0, 7]&#10;Color: (200, 200, 200)\" style=\"width: 20px; height: 20px;background-color: rgb(200, 200, 200);\"></td></tr></tbody></table>"
      ],
      "text/plain": [
       "<ipythonblocks.ipythonblocks.BlockGrid at 0x7fa2b45dcd30>"
      ]
     },
     "execution_count": 34,
     "metadata": {},
     "output_type": "execute_result"
    }
   ],
   "source": [
    "voirListeVoeu(calculerOrdreAppel(voeuxClasses_A2, 20, 20, False))"
   ]
  },
  {
   "cell_type": "code",
   "execution_count": 35,
   "metadata": {},
   "outputs": [
    {
     "data": {
      "text/html": [
       "<style type=\"text/css\">table.blockgrid {border: none;} .blockgrid tr {border: none;} .blockgrid td {padding: 0px;} #blocks54186c00-1f6f-4da4-8587-ec5e6f91b5c8 td {border: 1px solid white;}</style><table id=\"blocks54186c00-1f6f-4da4-8587-ec5e6f91b5c8\" class=\"blockgrid\"><tbody><tr><td title=\"Index: [0, 0]&#10;Color: (200, 0, 0)\" style=\"width: 20px; height: 20px;background-color: rgb(200, 0, 0);\"></td><td title=\"Index: [0, 1]&#10;Color: (200, 200, 200)\" style=\"width: 20px; height: 20px;background-color: rgb(200, 200, 200);\"></td><td title=\"Index: [0, 2]&#10;Color: (200, 0, 0)\" style=\"width: 20px; height: 20px;background-color: rgb(200, 0, 0);\"></td><td title=\"Index: [0, 3]&#10;Color: (200, 200, 200)\" style=\"width: 20px; height: 20px;background-color: rgb(200, 200, 200);\"></td><td title=\"Index: [0, 4]&#10;Color: (200, 200, 200)\" style=\"width: 20px; height: 20px;background-color: rgb(200, 200, 200);\"></td><td title=\"Index: [0, 5]&#10;Color: (200, 200, 200)\" style=\"width: 20px; height: 20px;background-color: rgb(200, 200, 200);\"></td><td title=\"Index: [0, 6]&#10;Color: (200, 200, 200)\" style=\"width: 20px; height: 20px;background-color: rgb(200, 200, 200);\"></td><td title=\"Index: [0, 7]&#10;Color: (200, 0, 0)\" style=\"width: 20px; height: 20px;background-color: rgb(200, 0, 0);\"></td><td title=\"Index: [0, 8]&#10;Color: (200, 200, 200)\" style=\"width: 20px; height: 20px;background-color: rgb(200, 200, 200);\"></td><td title=\"Index: [0, 9]&#10;Color: (200, 200, 200)\" style=\"width: 20px; height: 20px;background-color: rgb(200, 200, 200);\"></td></tr></tbody></table>"
      ],
      "text/plain": [
       "<ipythonblocks.ipythonblocks.BlockGrid at 0x7fa2b45dceb8>"
      ]
     },
     "execution_count": 35,
     "metadata": {},
     "output_type": "execute_result"
    }
   ],
   "source": [
    "voirListeVoeu(calculerOrdreAppel(voeuxClasses_A4, 20, 20, False))"
   ]
  },
  {
   "cell_type": "markdown",
   "metadata": {},
   "source": [
    "### Entrée aléatoire\n",
    "\n",
    "Pour des exemples plus complets, on génère ici une liste de vœux de taille fixée, où chaque vœu sera aléatoirement boursier ou non, résident ou non.\n",
    "Cela va permettre de mieux comprendre l'algorithme sur des entrées de taille plus grande."
   ]
  },
  {
   "cell_type": "code",
   "execution_count": 36,
   "metadata": {},
   "outputs": [],
   "source": [
    "import random\n",
    "import math"
   ]
  },
  {
   "cell_type": "code",
   "execution_count": 62,
   "metadata": {
    "code_folding": [
     0,
     5
    ]
   },
   "outputs": [],
   "source": [
    "def fait_voeuxClasses_aleatoire(\n",
    "    taille=100,\n",
    "    tauxBoursiers=20,\n",
    "    tauxResidents=20,\n",
    "    random_seed=0,\n",
    "):\n",
    "    random.seed(random_seed)\n",
    "    # on commence par avoir une liste triée de non boursier non résident\n",
    "    voeuxClasses = [\n",
    "        {'type': NonBoursierNonResident, 'rang': i}\n",
    "        for i in range(1, taille + 1)\n",
    "    ]\n",
    "    # pour certains candidats aléatoires on les transforme en boursier et/ou en résident\n",
    "    nbBoursiers = int(math.ceil(taille * tauxBoursiers / 100.0))\n",
    "    for voeu in random.sample(voeuxClasses, nbBoursiers):\n",
    "        voeu['type'] = BoursierNonResident\n",
    "    nbResidents = int(math.ceil(taille * tauxResidents / 100.0))\n",
    "    for voeu in random.sample(voeuxClasses, nbResidents):\n",
    "        if estBoursier(voeu): voeu['type'] = BoursierResident\n",
    "        else: voeu['type'] = NonBoursierResident\n",
    "    # on la mélange enfin et on la renvoie\n",
    "    random.shuffle(voeuxClasses)\n",
    "    return voeuxClasses"
   ]
  },
  {
   "cell_type": "code",
   "execution_count": 63,
   "metadata": {},
   "outputs": [],
   "source": [
    "voeuxClasses_exemple = fait_voeuxClasses_aleatoire(\n",
    "    70,\n",
    "    tauxBoursiers=20,  # ~14 boursiers\n",
    "    tauxResidents=20   # ~14 résidents\n",
    ")"
   ]
  },
  {
   "cell_type": "markdown",
   "metadata": {},
   "source": [
    "On va avoir en moyenne 14 boursiers-ères et 14 résidents-entes, avec quelques intersections."
   ]
  },
  {
   "cell_type": "code",
   "execution_count": 64,
   "metadata": {},
   "outputs": [
    {
     "data": {
      "text/html": [
       "<style type=\"text/css\">table.blockgrid {border: none;} .blockgrid tr {border: none;} .blockgrid td {padding: 0px;} #blocks1fbf00ad-8ec4-455f-91c2-d2286ed8c76f td {border: 1px solid white;}</style><table id=\"blocks1fbf00ad-8ec4-455f-91c2-d2286ed8c76f\" class=\"blockgrid\"><tbody><tr><td title=\"Index: [0, 0]&#10;Color: (200, 200, 200)\" style=\"width: 20px; height: 20px;background-color: rgb(200, 200, 200);\"></td><td title=\"Index: [0, 1]&#10;Color: (200, 200, 200)\" style=\"width: 20px; height: 20px;background-color: rgb(200, 200, 200);\"></td><td title=\"Index: [0, 2]&#10;Color: (200, 200, 200)\" style=\"width: 20px; height: 20px;background-color: rgb(200, 200, 200);\"></td><td title=\"Index: [0, 3]&#10;Color: (200, 200, 200)\" style=\"width: 20px; height: 20px;background-color: rgb(200, 200, 200);\"></td><td title=\"Index: [0, 4]&#10;Color: (200, 0, 0)\" style=\"width: 20px; height: 20px;background-color: rgb(200, 0, 0);\"></td><td title=\"Index: [0, 5]&#10;Color: (200, 200, 200)\" style=\"width: 20px; height: 20px;background-color: rgb(200, 200, 200);\"></td><td title=\"Index: [0, 6]&#10;Color: (200, 200, 200)\" style=\"width: 20px; height: 20px;background-color: rgb(200, 200, 200);\"></td><td title=\"Index: [0, 7]&#10;Color: (0, 0, 200)\" style=\"width: 20px; height: 20px;background-color: rgb(0, 0, 200);\"></td><td title=\"Index: [0, 8]&#10;Color: (200, 200, 200)\" style=\"width: 20px; height: 20px;background-color: rgb(200, 200, 200);\"></td><td title=\"Index: [0, 9]&#10;Color: (0, 0, 200)\" style=\"width: 20px; height: 20px;background-color: rgb(0, 0, 200);\"></td><td title=\"Index: [0, 10]&#10;Color: (200, 200, 200)\" style=\"width: 20px; height: 20px;background-color: rgb(200, 200, 200);\"></td><td title=\"Index: [0, 11]&#10;Color: (200, 200, 200)\" style=\"width: 20px; height: 20px;background-color: rgb(200, 200, 200);\"></td><td title=\"Index: [0, 12]&#10;Color: (200, 0, 0)\" style=\"width: 20px; height: 20px;background-color: rgb(200, 0, 0);\"></td><td title=\"Index: [0, 13]&#10;Color: (200, 0, 0)\" style=\"width: 20px; height: 20px;background-color: rgb(200, 0, 0);\"></td><td title=\"Index: [0, 14]&#10;Color: (200, 200, 200)\" style=\"width: 20px; height: 20px;background-color: rgb(200, 200, 200);\"></td><td title=\"Index: [0, 15]&#10;Color: (0, 0, 200)\" style=\"width: 20px; height: 20px;background-color: rgb(0, 0, 200);\"></td><td title=\"Index: [0, 16]&#10;Color: (200, 0, 0)\" style=\"width: 20px; height: 20px;background-color: rgb(200, 0, 0);\"></td><td title=\"Index: [0, 17]&#10;Color: (200, 200, 200)\" style=\"width: 20px; height: 20px;background-color: rgb(200, 200, 200);\"></td><td title=\"Index: [0, 18]&#10;Color: (200, 0, 0)\" style=\"width: 20px; height: 20px;background-color: rgb(200, 0, 0);\"></td><td title=\"Index: [0, 19]&#10;Color: (200, 200, 200)\" style=\"width: 20px; height: 20px;background-color: rgb(200, 200, 200);\"></td><td title=\"Index: [0, 20]&#10;Color: (200, 200, 200)\" style=\"width: 20px; height: 20px;background-color: rgb(200, 200, 200);\"></td><td title=\"Index: [0, 21]&#10;Color: (200, 200, 200)\" style=\"width: 20px; height: 20px;background-color: rgb(200, 200, 200);\"></td><td title=\"Index: [0, 22]&#10;Color: (200, 200, 200)\" style=\"width: 20px; height: 20px;background-color: rgb(200, 200, 200);\"></td><td title=\"Index: [0, 23]&#10;Color: (0, 0, 200)\" style=\"width: 20px; height: 20px;background-color: rgb(0, 0, 200);\"></td><td title=\"Index: [0, 24]&#10;Color: (0, 0, 200)\" style=\"width: 20px; height: 20px;background-color: rgb(0, 0, 200);\"></td><td title=\"Index: [0, 25]&#10;Color: (200, 0, 200)\" style=\"width: 20px; height: 20px;background-color: rgb(200, 0, 200);\"></td><td title=\"Index: [0, 26]&#10;Color: (200, 0, 0)\" style=\"width: 20px; height: 20px;background-color: rgb(200, 0, 0);\"></td><td title=\"Index: [0, 27]&#10;Color: (200, 200, 200)\" style=\"width: 20px; height: 20px;background-color: rgb(200, 200, 200);\"></td><td title=\"Index: [0, 28]&#10;Color: (200, 200, 200)\" style=\"width: 20px; height: 20px;background-color: rgb(200, 200, 200);\"></td><td title=\"Index: [0, 29]&#10;Color: (200, 200, 200)\" style=\"width: 20px; height: 20px;background-color: rgb(200, 200, 200);\"></td><td title=\"Index: [0, 30]&#10;Color: (200, 200, 200)\" style=\"width: 20px; height: 20px;background-color: rgb(200, 200, 200);\"></td><td title=\"Index: [0, 31]&#10;Color: (200, 200, 200)\" style=\"width: 20px; height: 20px;background-color: rgb(200, 200, 200);\"></td><td title=\"Index: [0, 32]&#10;Color: (0, 0, 200)\" style=\"width: 20px; height: 20px;background-color: rgb(0, 0, 200);\"></td><td title=\"Index: [0, 33]&#10;Color: (0, 0, 200)\" style=\"width: 20px; height: 20px;background-color: rgb(0, 0, 200);\"></td><td title=\"Index: [0, 34]&#10;Color: (200, 200, 200)\" style=\"width: 20px; height: 20px;background-color: rgb(200, 200, 200);\"></td><td title=\"Index: [0, 35]&#10;Color: (0, 0, 200)\" style=\"width: 20px; height: 20px;background-color: rgb(0, 0, 200);\"></td><td title=\"Index: [0, 36]&#10;Color: (200, 200, 200)\" style=\"width: 20px; height: 20px;background-color: rgb(200, 200, 200);\"></td><td title=\"Index: [0, 37]&#10;Color: (200, 200, 200)\" style=\"width: 20px; height: 20px;background-color: rgb(200, 200, 200);\"></td><td title=\"Index: [0, 38]&#10;Color: (200, 200, 200)\" style=\"width: 20px; height: 20px;background-color: rgb(200, 200, 200);\"></td><td title=\"Index: [0, 39]&#10;Color: (200, 200, 200)\" style=\"width: 20px; height: 20px;background-color: rgb(200, 200, 200);\"></td><td title=\"Index: [0, 40]&#10;Color: (200, 200, 200)\" style=\"width: 20px; height: 20px;background-color: rgb(200, 200, 200);\"></td><td title=\"Index: [0, 41]&#10;Color: (200, 0, 0)\" style=\"width: 20px; height: 20px;background-color: rgb(200, 0, 0);\"></td><td title=\"Index: [0, 42]&#10;Color: (200, 0, 0)\" style=\"width: 20px; height: 20px;background-color: rgb(200, 0, 0);\"></td><td title=\"Index: [0, 43]&#10;Color: (200, 200, 200)\" style=\"width: 20px; height: 20px;background-color: rgb(200, 200, 200);\"></td><td title=\"Index: [0, 44]&#10;Color: (200, 200, 200)\" style=\"width: 20px; height: 20px;background-color: rgb(200, 200, 200);\"></td><td title=\"Index: [0, 45]&#10;Color: (200, 200, 200)\" style=\"width: 20px; height: 20px;background-color: rgb(200, 200, 200);\"></td><td title=\"Index: [0, 46]&#10;Color: (200, 200, 200)\" style=\"width: 20px; height: 20px;background-color: rgb(200, 200, 200);\"></td><td title=\"Index: [0, 47]&#10;Color: (200, 200, 200)\" style=\"width: 20px; height: 20px;background-color: rgb(200, 200, 200);\"></td><td title=\"Index: [0, 48]&#10;Color: (200, 0, 0)\" style=\"width: 20px; height: 20px;background-color: rgb(200, 0, 0);\"></td><td title=\"Index: [0, 49]&#10;Color: (200, 200, 200)\" style=\"width: 20px; height: 20px;background-color: rgb(200, 200, 200);\"></td><td title=\"Index: [0, 50]&#10;Color: (200, 200, 200)\" style=\"width: 20px; height: 20px;background-color: rgb(200, 200, 200);\"></td><td title=\"Index: [0, 51]&#10;Color: (200, 200, 200)\" style=\"width: 20px; height: 20px;background-color: rgb(200, 200, 200);\"></td><td title=\"Index: [0, 52]&#10;Color: (200, 200, 200)\" style=\"width: 20px; height: 20px;background-color: rgb(200, 200, 200);\"></td><td title=\"Index: [0, 53]&#10;Color: (200, 0, 0)\" style=\"width: 20px; height: 20px;background-color: rgb(200, 0, 0);\"></td><td title=\"Index: [0, 54]&#10;Color: (200, 200, 200)\" style=\"width: 20px; height: 20px;background-color: rgb(200, 200, 200);\"></td><td title=\"Index: [0, 55]&#10;Color: (200, 0, 0)\" style=\"width: 20px; height: 20px;background-color: rgb(200, 0, 0);\"></td><td title=\"Index: [0, 56]&#10;Color: (200, 200, 200)\" style=\"width: 20px; height: 20px;background-color: rgb(200, 200, 200);\"></td><td title=\"Index: [0, 57]&#10;Color: (200, 200, 200)\" style=\"width: 20px; height: 20px;background-color: rgb(200, 200, 200);\"></td><td title=\"Index: [0, 58]&#10;Color: (200, 0, 200)\" style=\"width: 20px; height: 20px;background-color: rgb(200, 0, 200);\"></td><td title=\"Index: [0, 59]&#10;Color: (200, 200, 200)\" style=\"width: 20px; height: 20px;background-color: rgb(200, 200, 200);\"></td><td title=\"Index: [0, 60]&#10;Color: (200, 200, 200)\" style=\"width: 20px; height: 20px;background-color: rgb(200, 200, 200);\"></td><td title=\"Index: [0, 61]&#10;Color: (200, 200, 200)\" style=\"width: 20px; height: 20px;background-color: rgb(200, 200, 200);\"></td><td title=\"Index: [0, 62]&#10;Color: (0, 0, 200)\" style=\"width: 20px; height: 20px;background-color: rgb(0, 0, 200);\"></td><td title=\"Index: [0, 63]&#10;Color: (0, 0, 200)\" style=\"width: 20px; height: 20px;background-color: rgb(0, 0, 200);\"></td><td title=\"Index: [0, 64]&#10;Color: (200, 0, 0)\" style=\"width: 20px; height: 20px;background-color: rgb(200, 0, 0);\"></td><td title=\"Index: [0, 65]&#10;Color: (200, 200, 200)\" style=\"width: 20px; height: 20px;background-color: rgb(200, 200, 200);\"></td><td title=\"Index: [0, 66]&#10;Color: (200, 200, 200)\" style=\"width: 20px; height: 20px;background-color: rgb(200, 200, 200);\"></td><td title=\"Index: [0, 67]&#10;Color: (0, 0, 200)\" style=\"width: 20px; height: 20px;background-color: rgb(0, 0, 200);\"></td><td title=\"Index: [0, 68]&#10;Color: (0, 0, 200)\" style=\"width: 20px; height: 20px;background-color: rgb(0, 0, 200);\"></td><td title=\"Index: [0, 69]&#10;Color: (200, 200, 200)\" style=\"width: 20px; height: 20px;background-color: rgb(200, 200, 200);\"></td></tr></tbody></table>"
      ],
      "text/plain": [
       "<ipythonblocks.ipythonblocks.BlockGrid at 0x7fa2b4523080>"
      ]
     },
     "execution_count": 64,
     "metadata": {},
     "output_type": "execute_result"
    }
   ],
   "source": [
    "voirListeVoeu(voeuxClasses_exemple)"
   ]
  },
  {
   "cell_type": "code",
   "execution_count": 65,
   "metadata": {},
   "outputs": [],
   "source": [
    "voeuxClasses_exemple_sortie = calculerOrdreAppel(\n",
    "    voeuxClasses_exemple,\n",
    "    tauxMinBoursiersPourcents=100,\n",
    "    tauxMinResidentsPourcents=100,\n",
    "    afficheTout=False\n",
    ")"
   ]
  },
  {
   "cell_type": "code",
   "execution_count": 66,
   "metadata": {},
   "outputs": [
    {
     "data": {
      "text/html": [
       "<style type=\"text/css\">table.blockgrid {border: none;} .blockgrid tr {border: none;} .blockgrid td {padding: 0px;} #blocksfb57924a-0fa0-4022-bc22-e7b2d5fca003 td {border: 1px solid white;}</style><table id=\"blocksfb57924a-0fa0-4022-bc22-e7b2d5fca003\" class=\"blockgrid\"><tbody><tr><td title=\"Index: [0, 0]&#10;Color: (200, 0, 200)\" style=\"width: 20px; height: 20px;background-color: rgb(200, 0, 200);\"></td><td title=\"Index: [0, 1]&#10;Color: (200, 0, 200)\" style=\"width: 20px; height: 20px;background-color: rgb(200, 0, 200);\"></td><td title=\"Index: [0, 2]&#10;Color: (200, 0, 0)\" style=\"width: 20px; height: 20px;background-color: rgb(200, 0, 0);\"></td><td title=\"Index: [0, 3]&#10;Color: (200, 0, 0)\" style=\"width: 20px; height: 20px;background-color: rgb(200, 0, 0);\"></td><td title=\"Index: [0, 4]&#10;Color: (200, 0, 0)\" style=\"width: 20px; height: 20px;background-color: rgb(200, 0, 0);\"></td><td title=\"Index: [0, 5]&#10;Color: (200, 0, 0)\" style=\"width: 20px; height: 20px;background-color: rgb(200, 0, 0);\"></td><td title=\"Index: [0, 6]&#10;Color: (200, 0, 0)\" style=\"width: 20px; height: 20px;background-color: rgb(200, 0, 0);\"></td><td title=\"Index: [0, 7]&#10;Color: (200, 0, 0)\" style=\"width: 20px; height: 20px;background-color: rgb(200, 0, 0);\"></td><td title=\"Index: [0, 8]&#10;Color: (200, 0, 0)\" style=\"width: 20px; height: 20px;background-color: rgb(200, 0, 0);\"></td><td title=\"Index: [0, 9]&#10;Color: (200, 0, 0)\" style=\"width: 20px; height: 20px;background-color: rgb(200, 0, 0);\"></td><td title=\"Index: [0, 10]&#10;Color: (200, 0, 0)\" style=\"width: 20px; height: 20px;background-color: rgb(200, 0, 0);\"></td><td title=\"Index: [0, 11]&#10;Color: (200, 0, 0)\" style=\"width: 20px; height: 20px;background-color: rgb(200, 0, 0);\"></td><td title=\"Index: [0, 12]&#10;Color: (200, 0, 0)\" style=\"width: 20px; height: 20px;background-color: rgb(200, 0, 0);\"></td><td title=\"Index: [0, 13]&#10;Color: (200, 0, 0)\" style=\"width: 20px; height: 20px;background-color: rgb(200, 0, 0);\"></td><td title=\"Index: [0, 14]&#10;Color: (0, 0, 200)\" style=\"width: 20px; height: 20px;background-color: rgb(0, 0, 200);\"></td><td title=\"Index: [0, 15]&#10;Color: (0, 0, 200)\" style=\"width: 20px; height: 20px;background-color: rgb(0, 0, 200);\"></td><td title=\"Index: [0, 16]&#10;Color: (0, 0, 200)\" style=\"width: 20px; height: 20px;background-color: rgb(0, 0, 200);\"></td><td title=\"Index: [0, 17]&#10;Color: (0, 0, 200)\" style=\"width: 20px; height: 20px;background-color: rgb(0, 0, 200);\"></td><td title=\"Index: [0, 18]&#10;Color: (0, 0, 200)\" style=\"width: 20px; height: 20px;background-color: rgb(0, 0, 200);\"></td><td title=\"Index: [0, 19]&#10;Color: (0, 0, 200)\" style=\"width: 20px; height: 20px;background-color: rgb(0, 0, 200);\"></td><td title=\"Index: [0, 20]&#10;Color: (0, 0, 200)\" style=\"width: 20px; height: 20px;background-color: rgb(0, 0, 200);\"></td><td title=\"Index: [0, 21]&#10;Color: (0, 0, 200)\" style=\"width: 20px; height: 20px;background-color: rgb(0, 0, 200);\"></td><td title=\"Index: [0, 22]&#10;Color: (0, 0, 200)\" style=\"width: 20px; height: 20px;background-color: rgb(0, 0, 200);\"></td><td title=\"Index: [0, 23]&#10;Color: (0, 0, 200)\" style=\"width: 20px; height: 20px;background-color: rgb(0, 0, 200);\"></td><td title=\"Index: [0, 24]&#10;Color: (0, 0, 200)\" style=\"width: 20px; height: 20px;background-color: rgb(0, 0, 200);\"></td><td title=\"Index: [0, 25]&#10;Color: (0, 0, 200)\" style=\"width: 20px; height: 20px;background-color: rgb(0, 0, 200);\"></td><td title=\"Index: [0, 26]&#10;Color: (200, 200, 200)\" style=\"width: 20px; height: 20px;background-color: rgb(200, 200, 200);\"></td><td title=\"Index: [0, 27]&#10;Color: (200, 200, 200)\" style=\"width: 20px; height: 20px;background-color: rgb(200, 200, 200);\"></td><td title=\"Index: [0, 28]&#10;Color: (200, 200, 200)\" style=\"width: 20px; height: 20px;background-color: rgb(200, 200, 200);\"></td><td title=\"Index: [0, 29]&#10;Color: (200, 200, 200)\" style=\"width: 20px; height: 20px;background-color: rgb(200, 200, 200);\"></td><td title=\"Index: [0, 30]&#10;Color: (200, 200, 200)\" style=\"width: 20px; height: 20px;background-color: rgb(200, 200, 200);\"></td><td title=\"Index: [0, 31]&#10;Color: (200, 200, 200)\" style=\"width: 20px; height: 20px;background-color: rgb(200, 200, 200);\"></td><td title=\"Index: [0, 32]&#10;Color: (200, 200, 200)\" style=\"width: 20px; height: 20px;background-color: rgb(200, 200, 200);\"></td><td title=\"Index: [0, 33]&#10;Color: (200, 200, 200)\" style=\"width: 20px; height: 20px;background-color: rgb(200, 200, 200);\"></td><td title=\"Index: [0, 34]&#10;Color: (200, 200, 200)\" style=\"width: 20px; height: 20px;background-color: rgb(200, 200, 200);\"></td><td title=\"Index: [0, 35]&#10;Color: (200, 200, 200)\" style=\"width: 20px; height: 20px;background-color: rgb(200, 200, 200);\"></td><td title=\"Index: [0, 36]&#10;Color: (200, 200, 200)\" style=\"width: 20px; height: 20px;background-color: rgb(200, 200, 200);\"></td><td title=\"Index: [0, 37]&#10;Color: (200, 200, 200)\" style=\"width: 20px; height: 20px;background-color: rgb(200, 200, 200);\"></td><td title=\"Index: [0, 38]&#10;Color: (200, 200, 200)\" style=\"width: 20px; height: 20px;background-color: rgb(200, 200, 200);\"></td><td title=\"Index: [0, 39]&#10;Color: (200, 200, 200)\" style=\"width: 20px; height: 20px;background-color: rgb(200, 200, 200);\"></td><td title=\"Index: [0, 40]&#10;Color: (200, 200, 200)\" style=\"width: 20px; height: 20px;background-color: rgb(200, 200, 200);\"></td><td title=\"Index: [0, 41]&#10;Color: (200, 200, 200)\" style=\"width: 20px; height: 20px;background-color: rgb(200, 200, 200);\"></td><td title=\"Index: [0, 42]&#10;Color: (200, 200, 200)\" style=\"width: 20px; height: 20px;background-color: rgb(200, 200, 200);\"></td><td title=\"Index: [0, 43]&#10;Color: (200, 200, 200)\" style=\"width: 20px; height: 20px;background-color: rgb(200, 200, 200);\"></td><td title=\"Index: [0, 44]&#10;Color: (200, 200, 200)\" style=\"width: 20px; height: 20px;background-color: rgb(200, 200, 200);\"></td><td title=\"Index: [0, 45]&#10;Color: (200, 200, 200)\" style=\"width: 20px; height: 20px;background-color: rgb(200, 200, 200);\"></td><td title=\"Index: [0, 46]&#10;Color: (200, 200, 200)\" style=\"width: 20px; height: 20px;background-color: rgb(200, 200, 200);\"></td><td title=\"Index: [0, 47]&#10;Color: (200, 200, 200)\" style=\"width: 20px; height: 20px;background-color: rgb(200, 200, 200);\"></td><td title=\"Index: [0, 48]&#10;Color: (200, 200, 200)\" style=\"width: 20px; height: 20px;background-color: rgb(200, 200, 200);\"></td><td title=\"Index: [0, 49]&#10;Color: (200, 200, 200)\" style=\"width: 20px; height: 20px;background-color: rgb(200, 200, 200);\"></td><td title=\"Index: [0, 50]&#10;Color: (200, 200, 200)\" style=\"width: 20px; height: 20px;background-color: rgb(200, 200, 200);\"></td><td title=\"Index: [0, 51]&#10;Color: (200, 200, 200)\" style=\"width: 20px; height: 20px;background-color: rgb(200, 200, 200);\"></td><td title=\"Index: [0, 52]&#10;Color: (200, 200, 200)\" style=\"width: 20px; height: 20px;background-color: rgb(200, 200, 200);\"></td><td title=\"Index: [0, 53]&#10;Color: (200, 200, 200)\" style=\"width: 20px; height: 20px;background-color: rgb(200, 200, 200);\"></td><td title=\"Index: [0, 54]&#10;Color: (200, 200, 200)\" style=\"width: 20px; height: 20px;background-color: rgb(200, 200, 200);\"></td><td title=\"Index: [0, 55]&#10;Color: (200, 200, 200)\" style=\"width: 20px; height: 20px;background-color: rgb(200, 200, 200);\"></td><td title=\"Index: [0, 56]&#10;Color: (200, 200, 200)\" style=\"width: 20px; height: 20px;background-color: rgb(200, 200, 200);\"></td><td title=\"Index: [0, 57]&#10;Color: (200, 200, 200)\" style=\"width: 20px; height: 20px;background-color: rgb(200, 200, 200);\"></td><td title=\"Index: [0, 58]&#10;Color: (200, 200, 200)\" style=\"width: 20px; height: 20px;background-color: rgb(200, 200, 200);\"></td><td title=\"Index: [0, 59]&#10;Color: (200, 200, 200)\" style=\"width: 20px; height: 20px;background-color: rgb(200, 200, 200);\"></td><td title=\"Index: [0, 60]&#10;Color: (200, 200, 200)\" style=\"width: 20px; height: 20px;background-color: rgb(200, 200, 200);\"></td><td title=\"Index: [0, 61]&#10;Color: (200, 200, 200)\" style=\"width: 20px; height: 20px;background-color: rgb(200, 200, 200);\"></td><td title=\"Index: [0, 62]&#10;Color: (200, 200, 200)\" style=\"width: 20px; height: 20px;background-color: rgb(200, 200, 200);\"></td><td title=\"Index: [0, 63]&#10;Color: (200, 200, 200)\" style=\"width: 20px; height: 20px;background-color: rgb(200, 200, 200);\"></td><td title=\"Index: [0, 64]&#10;Color: (200, 200, 200)\" style=\"width: 20px; height: 20px;background-color: rgb(200, 200, 200);\"></td><td title=\"Index: [0, 65]&#10;Color: (200, 200, 200)\" style=\"width: 20px; height: 20px;background-color: rgb(200, 200, 200);\"></td><td title=\"Index: [0, 66]&#10;Color: (200, 200, 200)\" style=\"width: 20px; height: 20px;background-color: rgb(200, 200, 200);\"></td><td title=\"Index: [0, 67]&#10;Color: (200, 200, 200)\" style=\"width: 20px; height: 20px;background-color: rgb(200, 200, 200);\"></td><td title=\"Index: [0, 68]&#10;Color: (200, 200, 200)\" style=\"width: 20px; height: 20px;background-color: rgb(200, 200, 200);\"></td><td title=\"Index: [0, 69]&#10;Color: (200, 200, 200)\" style=\"width: 20px; height: 20px;background-color: rgb(200, 200, 200);\"></td></tr></tbody></table>"
      ],
      "text/plain": [
       "<ipythonblocks.ipythonblocks.BlockGrid at 0x7fa2b454d7f0>"
      ]
     },
     "execution_count": 66,
     "metadata": {},
     "output_type": "execute_result"
    }
   ],
   "source": [
    "voirListeVoeu(voeuxClasses_exemple_sortie)"
   ]
  },
  {
   "cell_type": "markdown",
   "metadata": {},
   "source": [
    "On visualise assez bien : avec une contrainte un peu folle qui impose de prendre 100% des boursiers-ères (en rouge ou violet) et 100% des résidents (en bleu ou violet), l'algorithme d'appel a d'abord pris les candidats de types `BoursierResident` (violet), puis `BoursierNonResident` (rouge) car le décret officiel demande de favoriser les boursiers, puis les `NonBoursierResident` (bleu) et enfin les autres."
   ]
  },
  {
   "cell_type": "markdown",
   "metadata": {},
   "source": [
    "### Une visualisation interactive plus complète"
   ]
  },
  {
   "cell_type": "markdown",
   "metadata": {},
   "source": [
    "On peut combiner la visualisation interactive et la visualisation avec des couleurs.\n",
    "On va d'abord avoir une "
   ]
  },
  {
   "cell_type": "code",
   "execution_count": 67,
   "metadata": {
    "code_folding": [
     0,
     7
    ]
   },
   "outputs": [],
   "source": [
    "def fait_fonctionATester_couleurs(\n",
    "    taille=70,\n",
    "    tauxBoursiers=20,\n",
    "    tauxResidents=20,\n",
    "    random_seed=0,\n",
    "    tauxMinBoursiersPourcents=10,\n",
    "    tauxMinResidentsPourcents=0\n",
    "):\n",
    "    def fonctionATester(\n",
    "        taille=taille,\n",
    "        tauxBoursiers=tauxBoursiers,\n",
    "        tauxResidents=tauxResidents,\n",
    "        random_seed=random_seed,\n",
    "        tauxMinBoursiersPourcents=tauxMinBoursiersPourcents,\n",
    "        tauxMinResidentsPourcents=tauxMinResidentsPourcents\n",
    "    ):\n",
    "        voeuxClasses = fait_voeuxClasses_aleatoire(\n",
    "            taille,\n",
    "            tauxBoursiers=tauxBoursiers,\n",
    "            tauxResidents=tauxResidents,\n",
    "            random_seed=random_seed\n",
    "        )\n",
    "        print(\"Visualisation de l'algorithme de calcul de l'ordre d'appel.\")\n",
    "        print(\"1. Vœux non triés par rang :\")\n",
    "        display(voirListeVoeu(voeuxClasses))\n",
    "        print(\"2. Vœux triés par rang, mais pas par l'algorithme :\")\n",
    "        voeuxClasses_tries = sorted(voeuxClasses, key=lambda voeu: -voeu[\"rang\"])\n",
    "        display(voirListeVoeu(voeuxClasses_tries))\n",
    "        print(\"3. Vœux triés par l'algorithme :\")\n",
    "        ordreAppel = calculerOrdreAppel(\n",
    "            voeuxClasses,\n",
    "            tauxMinBoursiersPourcents,\n",
    "            tauxMinResidentsPourcents,\n",
    "            afficheTout=False  # on cache la sortie\n",
    "        )\n",
    "        display(voirListeVoeu(ordreAppel))\n",
    "\n",
    "    return fonctionATester"
   ]
  },
  {
   "cell_type": "code",
   "execution_count": 68,
   "metadata": {
    "scrolled": false
   },
   "outputs": [
    {
     "data": {
      "application/vnd.jupyter.widget-view+json": {
       "model_id": "3163c5b4aa3c40b089857946d550cadd",
       "version_major": 2,
       "version_minor": 0
      },
      "text/plain": [
       "interactive(children=(IntSlider(value=70, description='taille', max=500, min=1), IntSlider(value=20, descripti…"
      ]
     },
     "metadata": {},
     "output_type": "display_data"
    }
   ],
   "source": [
    "interact(\n",
    "    fait_fonctionATester_couleurs(\n",
    "        taille=70,\n",
    "        tauxBoursiers=20,\n",
    "        tauxResidents=20,\n",
    "        random_seed=0,\n",
    "        tauxMinBoursiersPourcents=10,\n",
    "        tauxMinResidentsPourcents=0\n",
    "    ),\n",
    "    taille=(1, 500, 1),\n",
    "    tauxBoursiers=(0, 100, 1),\n",
    "    tauxResidents=(0, 100, 1),\n",
    "    random_seed=(0, 1000, 1),\n",
    "    tauxMinBoursiersPourcents=(0, 100, 1),\n",
    "    tauxMinResidentsPourcents=(0, 100, 1)\n",
    ");"
   ]
  },
  {
   "cell_type": "markdown",
   "metadata": {},
   "source": [
    "### Focalisation sur un candidat\n",
    "\n",
    "Jusqu'ici on a visualisé l'ordre d'appel de toute la liste.\n",
    "On va se focaliser sur un seul candidat pour voir l'influence du comportement de tous les paramètres sur son ordre d'appel final."
   ]
  },
  {
   "cell_type": "code",
   "execution_count": 114,
   "metadata": {},
   "outputs": [],
   "source": [
    "def voirListeVoeu_avecFocus(voeuxClasses, randDuFocus):\n",
    "    grille = voirListeVoeu(voeuxClasses)\n",
    "    for i, voeu in enumerate(voeuxClasses):\n",
    "        if voeu['rang'] != randDuFocus:\n",
    "            r, g, b = grille[0, i].rgb\n",
    "            grille[0, i].rgb = (max(0, int(r*0.65)), max(0, int(g*0.65)), max(0, int(b*0.65)))\n",
    "    return grille"
   ]
  },
  {
   "cell_type": "code",
   "execution_count": 115,
   "metadata": {},
   "outputs": [],
   "source": [
    "def fait_fonctionATester_unSeulFocus(\n",
    "    taille=70,\n",
    "    tauxBoursiers=20,\n",
    "    tauxResidents=20,\n",
    "    random_seed=0,\n",
    "    rangDuFocus=1,\n",
    "    focusEstBoursier=False,\n",
    "    focusEstResident=False,\n",
    "    tauxMinBoursiersPourcents=10,\n",
    "    tauxMinResidentsPourcents=0\n",
    "):\n",
    "    def fonctionATester(\n",
    "        taille=taille,\n",
    "        tauxBoursiers=tauxBoursiers,\n",
    "        tauxResidents=tauxResidents,\n",
    "        random_seed=random_seed,\n",
    "        rangDuFocus=1,\n",
    "        focusEstBoursier=False,\n",
    "        focusEstResident=False,\n",
    "        tauxMinBoursiersPourcents=tauxMinBoursiersPourcents,\n",
    "        tauxMinResidentsPourcents=tauxMinResidentsPourcents\n",
    "    ):\n",
    "        voeuxClasses = fait_voeuxClasses_aleatoire(\n",
    "            taille,\n",
    "            tauxBoursiers=tauxBoursiers,\n",
    "            tauxResidents=tauxResidents,\n",
    "            random_seed=random_seed\n",
    "        )\n",
    "        for voeu in voeuxClasses:\n",
    "            if voeu['rang'] == rangDuFocus:\n",
    "                if focusEstBoursier and focusEstResident:\n",
    "                    voeu['type'] = BoursierResident\n",
    "                elif focusEstBoursier and not focusEstResident:\n",
    "                    voeu['type'] = BoursierNonResident\n",
    "                elif not focusEstBoursier and focusEstResident:\n",
    "                    voeu['type'] = NonBoursierResident\n",
    "                else:\n",
    "                    voeu['type'] = NonBoursierNonResident\n",
    "        print(\"Visualisation de l'algorithme de calcul de l'ordre d'appel.\")\n",
    "        print(\"1. Vœux non triés par rang :\")\n",
    "        display(voirListeVoeu_avecFocus(voeuxClasses, rangDuFocus))\n",
    "        print(\"2. Vœux triés par rang, mais pas par l'algorithme :\")\n",
    "        voeuxClasses_tries = sorted(voeuxClasses, key=lambda voeu: voeu[\"rang\"])\n",
    "        display(voirListeVoeu_avecFocus(voeuxClasses_tries, rangDuFocus))\n",
    "        print(\"3. Vœux triés par l'algorithme :\")\n",
    "        ordreAppel = calculerOrdreAppel(\n",
    "            voeuxClasses,\n",
    "            tauxMinBoursiersPourcents,\n",
    "            tauxMinResidentsPourcents,\n",
    "            afficheTout=False  # on cache la sortie\n",
    "        )\n",
    "        display(voirListeVoeu_avecFocus(ordreAppel, rangDuFocus))\n",
    "\n",
    "    return fonctionATester"
   ]
  },
  {
   "cell_type": "code",
   "execution_count": 116,
   "metadata": {},
   "outputs": [],
   "source": [
    "# https://ipywidgets.readthedocs.io/en/latest/examples/Using%20Interact.html#Arguments-that-are-dependent-on-each-other\n",
    "import ipywidgets\n",
    "taille_widget = ipywidgets.IntSlider(min=1, max=200, step=1, value=10)\n",
    "rang_widget = ipywidgets.IntSlider(min=1, max=200, step=1, value=1)\n",
    "\n",
    "def update_taille_max(*args):\n",
    "    rang_widget.max = taille_widget.value\n",
    "rang_widget.observe(update_taille_max, 'value')"
   ]
  },
  {
   "cell_type": "code",
   "execution_count": 117,
   "metadata": {
    "scrolled": false
   },
   "outputs": [
    {
     "data": {
      "application/vnd.jupyter.widget-view+json": {
       "model_id": "ea954e8014bb41ed9ea6903d06cbe7c9",
       "version_major": 2,
       "version_minor": 0
      },
      "text/plain": [
       "interactive(children=(IntSlider(value=10, description='taille', max=200, min=1), IntSlider(value=20, descripti…"
      ]
     },
     "metadata": {},
     "output_type": "display_data"
    }
   ],
   "source": [
    "interact(\n",
    "    fait_fonctionATester_unSeulFocus(\n",
    "        taille=70,\n",
    "        tauxBoursiers=20,\n",
    "        tauxResidents=20,\n",
    "        random_seed=0,\n",
    "        rangDuFocus=1,\n",
    "        focusEstBoursier=False,\n",
    "        focusEstResident=False,\n",
    "        tauxMinBoursiersPourcents=10,\n",
    "        tauxMinResidentsPourcents=0\n",
    "    ),\n",
    "    taille=taille_widget,\n",
    "    tauxBoursiers=(0, 100, 1),\n",
    "    tauxResidents=(0, 100, 1),\n",
    "    random_seed=(0, 1000, 1),\n",
    "    rangDuFocus=rang_widget,\n",
    "    focusEstBoursier=False,\n",
    "    focusEstResident=False,\n",
    "    tauxMinBoursiersPourcents=(0, 100, 1),\n",
    "    tauxMinResidentsPourcents=(0, 100, 1)\n",
    ");"
   ]
  },
  {
   "cell_type": "markdown",
   "metadata": {},
   "source": [
    "----\n",
    "## Algorithme 2 : Calcul des propositions"
   ]
  },
  {
   "cell_type": "code",
   "execution_count": 73,
   "metadata": {},
   "outputs": [],
   "source": [
    "from IPython.display import HTML"
   ]
  },
  {
   "cell_type": "code",
   "execution_count": 74,
   "metadata": {},
   "outputs": [
    {
     "data": {
      "text/html": [
       "<center><span style='color:red; font-size: xx-large;'>TODO TODO TODO TODO TODO TODO TODO TODO TODO TODO TODO TODO TODO TODO TODO TODO TODO TODO TODO TODO TODO TODO TODO TODO TODO TODO TODO TODO TODO TODO TODO TODO TODO TODO TODO TODO TODO TODO TODO TODO TODO TODO TODO TODO TODO TODO TODO TODO TODO TODO TODO TODO TODO TODO </span></center>"
      ],
      "text/plain": [
       "<IPython.core.display.HTML object>"
      ]
     },
     "execution_count": 74,
     "metadata": {},
     "output_type": "execute_result"
    }
   ],
   "source": [
    "HTML(\"<center><span style='color:red; font-size: xx-large;'>{}</span></center>\".format('TODO '*54))"
   ]
  },
  {
   "cell_type": "markdown",
   "metadata": {},
   "source": [
    "## Conclusion\n",
    "\n",
    "Ce petit notebook n'est pas terminé, c'est un test *en cours de rédaction*."
   ]
  }
 ],
 "metadata": {
  "kernelspec": {
   "display_name": "Python 3",
   "language": "python",
   "name": "python3"
  },
  "language_info": {
   "codemirror_mode": {
    "name": "ipython",
    "version": 3
   },
   "file_extension": ".py",
   "mimetype": "text/x-python",
   "name": "python",
   "nbconvert_exporter": "python",
   "pygments_lexer": "ipython3",
   "version": "3.5.2"
  },
  "toc": {
   "colors": {
    "hover_highlight": "#DAA520",
    "running_highlight": "#FF0000",
    "selected_highlight": "#FFD700"
   },
   "moveMenuLeft": true,
   "nav_menu": {
    "height": "185px",
    "width": "252px"
   },
   "navigate_menu": true,
   "number_sections": true,
   "sideBar": false,
   "threshold": 4,
   "toc_cell": true,
   "toc_position": {
    "height": "40px",
    "left": "835.098px",
    "right": "20px",
    "top": "136px",
    "width": "253.902px"
   },
   "toc_section_display": "none",
   "toc_window_display": true
  },
  "varInspector": {
   "cols": {
    "lenName": 16,
    "lenType": 16,
    "lenVar": 40
   },
   "kernels_config": {
    "python": {
     "delete_cmd_postfix": "",
     "delete_cmd_prefix": "del ",
     "library": "var_list.py",
     "varRefreshCmd": "print(var_dic_list())"
    },
    "r": {
     "delete_cmd_postfix": ") ",
     "delete_cmd_prefix": "rm(",
     "library": "var_list.r",
     "varRefreshCmd": "cat(var_dic_list()) "
    }
   },
   "types_to_exclude": [
    "module",
    "function",
    "builtin_function_or_method",
    "instance",
    "_Feature"
   ],
   "window_display": false
  },
  "widgets": {
   "application/vnd.jupyter.widget-state+json": {
    "state": {
     "0041a7ceb4a4498dae8ca61d17ccfe3b": {
      "model_module": "@jupyter-widgets/controls",
      "model_module_version": "1.2.0",
      "model_name": "SliderStyleModel",
      "state": {
       "description_width": ""
      }
     },
     "0062ae809d604c2d9797f9bf28291ef4": {
      "model_module": "@jupyter-widgets/controls",
      "model_module_version": "1.2.0",
      "model_name": "IntSliderModel",
      "state": {
       "description": "tauxMinBoursiersPourcents",
       "layout": "IPY_MODEL_5d2a3bf9f0d84c3baa44239794b03bd9",
       "style": "IPY_MODEL_88c9ae822f554914b45e412bef685f86",
       "value": 10
      }
     },
     "008a19e268224eeda8700c3e2868d1fe": {
      "model_module": "@jupyter-widgets/controls",
      "model_module_version": "1.2.0",
      "model_name": "IntSliderModel",
      "state": {
       "description": "tauxResidents",
       "layout": "IPY_MODEL_1231a5fbc196420c8a63410af730054d",
       "style": "IPY_MODEL_0a4f4cab21df4cc6bca20677325887b1",
       "value": 29
      }
     },
     "00947cb4bdda4d52b39076063acbd880": {
      "model_module": "@jupyter-widgets/base",
      "model_module_version": "1.0.0",
      "model_name": "LayoutModel",
      "state": {}
     },
     "00f20ffbecd545989d387be97467780b": {
      "model_module": "@jupyter-widgets/base",
      "model_module_version": "1.0.0",
      "model_name": "LayoutModel",
      "state": {}
     },
     "00fc6b43075748cd867ad7aa937b0f7e": {
      "model_module": "@jupyter-widgets/base",
      "model_module_version": "1.0.0",
      "model_name": "LayoutModel",
      "state": {}
     },
     "0125f2b7dac541c4b811dfb0e6f5b1b4": {
      "model_module": "@jupyter-widgets/base",
      "model_module_version": "1.0.0",
      "model_name": "LayoutModel",
      "state": {}
     },
     "0132c8e5b27a4a56b4effc0231c31487": {
      "model_module": "@jupyter-widgets/controls",
      "model_module_version": "1.2.0",
      "model_name": "VBoxModel",
      "state": {
       "_dom_classes": [
        "widget-interact"
       ],
       "children": [
        "IPY_MODEL_2f601b61da504b40aa084aa205e5880e",
        "IPY_MODEL_be822f2dea6b4ecf83f11c7a955f1ef9",
        "IPY_MODEL_f9da69760a794306872ef5724fb39eab"
       ],
       "layout": "IPY_MODEL_42eb421cc5d243c6a3adfdba8c1654b9"
      }
     },
     "013c87ded22a4461a1b4115c56cfc17c": {
      "model_module": "@jupyter-widgets/base",
      "model_module_version": "1.0.0",
      "model_name": "LayoutModel",
      "state": {}
     },
     "019d998305c54fc4ad3453b9512db84d": {
      "model_module": "@jupyter-widgets/controls",
      "model_module_version": "1.2.0",
      "model_name": "DescriptionStyleModel",
      "state": {
       "description_width": ""
      }
     },
     "0219e2fe9b074c8da715357dd0dad7ae": {
      "model_module": "@jupyter-widgets/controls",
      "model_module_version": "1.2.0",
      "model_name": "CheckboxModel",
      "state": {
       "description": "focusEstResident",
       "disabled": false,
       "layout": "IPY_MODEL_d4c1e65eb66b418caa0b3d5f85740d6c",
       "style": "IPY_MODEL_a2f0d21e56f5457ea215738fe8f86cfd",
       "value": false
      }
     },
     "02cd1033eae94bbc952979a7ca31c573": {
      "model_module": "@jupyter-widgets/base",
      "model_module_version": "1.0.0",
      "model_name": "LayoutModel",
      "state": {}
     },
     "02e205ca5b5c440985cfdb5b5f8b2c31": {
      "model_module": "@jupyter-widgets/controls",
      "model_module_version": "1.2.0",
      "model_name": "IntSliderModel",
      "state": {
       "description": "tauxMinBoursiersPourcents",
       "layout": "IPY_MODEL_34e2af45947a48f9997c8017cfb167b7",
       "style": "IPY_MODEL_d97f433d3e8e4e248915fd64495ee85a",
       "value": 10
      }
     },
     "0391d434557747cd9171c9135a9bd4d6": {
      "model_module": "@jupyter-widgets/controls",
      "model_module_version": "1.2.0",
      "model_name": "SliderStyleModel",
      "state": {
       "description_width": ""
      }
     },
     "03e97101bbbf4e9cb6ae9145ea47fece": {
      "model_module": "@jupyter-widgets/controls",
      "model_module_version": "1.2.0",
      "model_name": "SliderStyleModel",
      "state": {
       "description_width": ""
      }
     },
     "0431658f79454b68b49c3efa24ded0e7": {
      "model_module": "@jupyter-widgets/controls",
      "model_module_version": "1.2.0",
      "model_name": "DescriptionStyleModel",
      "state": {
       "description_width": ""
      }
     },
     "0459a928a1904b9c9885afcec0846db2": {
      "model_module": "@jupyter-widgets/controls",
      "model_module_version": "1.2.0",
      "model_name": "SliderStyleModel",
      "state": {
       "description_width": ""
      }
     },
     "04a7f31456764781b7a586ffd558e6f2": {
      "model_module": "@jupyter-widgets/controls",
      "model_module_version": "1.2.0",
      "model_name": "IntSliderModel",
      "state": {
       "description": "rangDuFocus",
       "layout": "IPY_MODEL_00947cb4bdda4d52b39076063acbd880",
       "max": 500,
       "min": 1,
       "style": "IPY_MODEL_609660575d0240daa1ac11399c9dd4c2",
       "value": 1
      }
     },
     "04e3e169f49d4a4bbc32af935e45fb27": {
      "model_module": "@jupyter-widgets/controls",
      "model_module_version": "1.2.0",
      "model_name": "SliderStyleModel",
      "state": {
       "description_width": ""
      }
     },
     "05e8b52f24d242a188fe952897d62625": {
      "model_module": "@jupyter-widgets/output",
      "model_module_version": "1.0.0",
      "model_name": "OutputModel",
      "state": {
       "layout": "IPY_MODEL_11bbe4eceff64fb18dbecc2978a867fb",
       "outputs": [
        {
         "name": "stdout",
         "output_type": "stream",
         "text": "Visualisation de l'algorithme de calcul de l'ordre d'appel.\n1. Vœux non triés par rang :\n"
        },
        {
         "data": {
          "text/html": "<style type=\"text/css\">table.blockgrid {border: none;} .blockgrid tr {border: none;} .blockgrid td {padding: 0px;} #blocksf2b5b8ec-9dbc-4cb6-a9f9-51b9b308421d td {border: 1px solid white;}</style><table id=\"blocksf2b5b8ec-9dbc-4cb6-a9f9-51b9b308421d\" class=\"blockgrid\"><tbody><tr><td title=\"Index: [0, 0]&#10;Color: (200, 200, 200)\" style=\"width: 20px; height: 20px;background-color: rgb(200, 200, 200);\"></td><td title=\"Index: [0, 1]&#10;Color: (200, 200, 200)\" style=\"width: 20px; height: 20px;background-color: rgb(200, 200, 200);\"></td><td title=\"Index: [0, 2]&#10;Color: (200, 200, 200)\" style=\"width: 20px; height: 20px;background-color: rgb(200, 200, 200);\"></td><td title=\"Index: [0, 3]&#10;Color: (200, 200, 200)\" style=\"width: 20px; height: 20px;background-color: rgb(200, 200, 200);\"></td><td title=\"Index: [0, 4]&#10;Color: (200, 0, 0)\" style=\"width: 20px; height: 20px;background-color: rgb(200, 0, 0);\"></td><td title=\"Index: [0, 5]&#10;Color: (200, 200, 200)\" style=\"width: 20px; height: 20px;background-color: rgb(200, 200, 200);\"></td><td title=\"Index: [0, 6]&#10;Color: (200, 200, 200)\" style=\"width: 20px; height: 20px;background-color: rgb(200, 200, 200);\"></td><td title=\"Index: [0, 7]&#10;Color: (0, 0, 200)\" style=\"width: 20px; height: 20px;background-color: rgb(0, 0, 200);\"></td><td title=\"Index: [0, 8]&#10;Color: (200, 200, 200)\" style=\"width: 20px; height: 20px;background-color: rgb(200, 200, 200);\"></td><td title=\"Index: [0, 9]&#10;Color: (0, 0, 200)\" style=\"width: 20px; height: 20px;background-color: rgb(0, 0, 200);\"></td><td title=\"Index: [0, 10]&#10;Color: (200, 200, 200)\" style=\"width: 20px; height: 20px;background-color: rgb(200, 200, 200);\"></td><td title=\"Index: [0, 11]&#10;Color: (200, 200, 200)\" style=\"width: 20px; height: 20px;background-color: rgb(200, 200, 200);\"></td><td title=\"Index: [0, 12]&#10;Color: (200, 0, 0)\" style=\"width: 20px; height: 20px;background-color: rgb(200, 0, 0);\"></td><td title=\"Index: [0, 13]&#10;Color: (200, 0, 0)\" style=\"width: 20px; height: 20px;background-color: rgb(200, 0, 0);\"></td><td title=\"Index: [0, 14]&#10;Color: (200, 200, 200)\" style=\"width: 20px; height: 20px;background-color: rgb(200, 200, 200);\"></td><td title=\"Index: [0, 15]&#10;Color: (0, 0, 200)\" style=\"width: 20px; height: 20px;background-color: rgb(0, 0, 200);\"></td><td title=\"Index: [0, 16]&#10;Color: (200, 0, 0)\" style=\"width: 20px; height: 20px;background-color: rgb(200, 0, 0);\"></td><td title=\"Index: [0, 17]&#10;Color: (200, 200, 200)\" style=\"width: 20px; height: 20px;background-color: rgb(200, 200, 200);\"></td><td title=\"Index: [0, 18]&#10;Color: (200, 0, 0)\" style=\"width: 20px; height: 20px;background-color: rgb(200, 0, 0);\"></td><td title=\"Index: [0, 19]&#10;Color: (200, 200, 200)\" style=\"width: 20px; height: 20px;background-color: rgb(200, 200, 200);\"></td><td title=\"Index: [0, 20]&#10;Color: (200, 200, 200)\" style=\"width: 20px; height: 20px;background-color: rgb(200, 200, 200);\"></td><td title=\"Index: [0, 21]&#10;Color: (200, 200, 200)\" style=\"width: 20px; height: 20px;background-color: rgb(200, 200, 200);\"></td><td title=\"Index: [0, 22]&#10;Color: (200, 200, 200)\" style=\"width: 20px; height: 20px;background-color: rgb(200, 200, 200);\"></td><td title=\"Index: [0, 23]&#10;Color: (0, 0, 200)\" style=\"width: 20px; height: 20px;background-color: rgb(0, 0, 200);\"></td><td title=\"Index: [0, 24]&#10;Color: (0, 0, 200)\" style=\"width: 20px; height: 20px;background-color: rgb(0, 0, 200);\"></td><td title=\"Index: [0, 25]&#10;Color: (200, 0, 200)\" style=\"width: 20px; height: 20px;background-color: rgb(200, 0, 200);\"></td><td title=\"Index: [0, 26]&#10;Color: (200, 0, 0)\" style=\"width: 20px; height: 20px;background-color: rgb(200, 0, 0);\"></td><td title=\"Index: [0, 27]&#10;Color: (200, 200, 200)\" style=\"width: 20px; height: 20px;background-color: rgb(200, 200, 200);\"></td><td title=\"Index: [0, 28]&#10;Color: (200, 200, 200)\" style=\"width: 20px; height: 20px;background-color: rgb(200, 200, 200);\"></td><td title=\"Index: [0, 29]&#10;Color: (200, 200, 200)\" style=\"width: 20px; height: 20px;background-color: rgb(200, 200, 200);\"></td><td title=\"Index: [0, 30]&#10;Color: (200, 200, 200)\" style=\"width: 20px; height: 20px;background-color: rgb(200, 200, 200);\"></td><td title=\"Index: [0, 31]&#10;Color: (200, 200, 200)\" style=\"width: 20px; height: 20px;background-color: rgb(200, 200, 200);\"></td><td title=\"Index: [0, 32]&#10;Color: (0, 0, 200)\" style=\"width: 20px; height: 20px;background-color: rgb(0, 0, 200);\"></td><td title=\"Index: [0, 33]&#10;Color: (0, 0, 200)\" style=\"width: 20px; height: 20px;background-color: rgb(0, 0, 200);\"></td><td title=\"Index: [0, 34]&#10;Color: (200, 200, 200)\" style=\"width: 20px; height: 20px;background-color: rgb(200, 200, 200);\"></td><td title=\"Index: [0, 35]&#10;Color: (0, 0, 200)\" style=\"width: 20px; height: 20px;background-color: rgb(0, 0, 200);\"></td><td title=\"Index: [0, 36]&#10;Color: (200, 200, 200)\" style=\"width: 20px; height: 20px;background-color: rgb(200, 200, 200);\"></td><td title=\"Index: [0, 37]&#10;Color: (200, 200, 200)\" style=\"width: 20px; height: 20px;background-color: rgb(200, 200, 200);\"></td><td title=\"Index: [0, 38]&#10;Color: (200, 200, 200)\" style=\"width: 20px; height: 20px;background-color: rgb(200, 200, 200);\"></td><td title=\"Index: [0, 39]&#10;Color: (200, 200, 200)\" style=\"width: 20px; height: 20px;background-color: rgb(200, 200, 200);\"></td><td title=\"Index: [0, 40]&#10;Color: (200, 200, 200)\" style=\"width: 20px; height: 20px;background-color: rgb(200, 200, 200);\"></td><td title=\"Index: [0, 41]&#10;Color: (200, 0, 0)\" style=\"width: 20px; height: 20px;background-color: rgb(200, 0, 0);\"></td><td title=\"Index: [0, 42]&#10;Color: (200, 0, 0)\" style=\"width: 20px; height: 20px;background-color: rgb(200, 0, 0);\"></td><td title=\"Index: [0, 43]&#10;Color: (200, 200, 200)\" style=\"width: 20px; height: 20px;background-color: rgb(200, 200, 200);\"></td><td title=\"Index: [0, 44]&#10;Color: (200, 200, 200)\" style=\"width: 20px; height: 20px;background-color: rgb(200, 200, 200);\"></td><td title=\"Index: [0, 45]&#10;Color: (200, 200, 200)\" style=\"width: 20px; height: 20px;background-color: rgb(200, 200, 200);\"></td><td title=\"Index: [0, 46]&#10;Color: (200, 200, 200)\" style=\"width: 20px; height: 20px;background-color: rgb(200, 200, 200);\"></td><td title=\"Index: [0, 47]&#10;Color: (200, 200, 200)\" style=\"width: 20px; height: 20px;background-color: rgb(200, 200, 200);\"></td><td title=\"Index: [0, 48]&#10;Color: (200, 0, 0)\" style=\"width: 20px; height: 20px;background-color: rgb(200, 0, 0);\"></td><td title=\"Index: [0, 49]&#10;Color: (255, 255, 255)\" style=\"width: 20px; height: 20px;background-color: rgb(255, 255, 255);\"></td><td title=\"Index: [0, 50]&#10;Color: (200, 200, 200)\" style=\"width: 20px; height: 20px;background-color: rgb(200, 200, 200);\"></td><td title=\"Index: [0, 51]&#10;Color: (200, 200, 200)\" style=\"width: 20px; height: 20px;background-color: rgb(200, 200, 200);\"></td><td title=\"Index: [0, 52]&#10;Color: (200, 200, 200)\" style=\"width: 20px; height: 20px;background-color: rgb(200, 200, 200);\"></td><td title=\"Index: [0, 53]&#10;Color: (200, 0, 0)\" style=\"width: 20px; height: 20px;background-color: rgb(200, 0, 0);\"></td><td title=\"Index: [0, 54]&#10;Color: (200, 200, 200)\" style=\"width: 20px; height: 20px;background-color: rgb(200, 200, 200);\"></td><td title=\"Index: [0, 55]&#10;Color: (200, 0, 0)\" style=\"width: 20px; height: 20px;background-color: rgb(200, 0, 0);\"></td><td title=\"Index: [0, 56]&#10;Color: (200, 200, 200)\" style=\"width: 20px; height: 20px;background-color: rgb(200, 200, 200);\"></td><td title=\"Index: [0, 57]&#10;Color: (200, 200, 200)\" style=\"width: 20px; height: 20px;background-color: rgb(200, 200, 200);\"></td><td title=\"Index: [0, 58]&#10;Color: (200, 0, 200)\" style=\"width: 20px; height: 20px;background-color: rgb(200, 0, 200);\"></td><td title=\"Index: [0, 59]&#10;Color: (200, 200, 200)\" style=\"width: 20px; height: 20px;background-color: rgb(200, 200, 200);\"></td><td title=\"Index: [0, 60]&#10;Color: (200, 200, 200)\" style=\"width: 20px; height: 20px;background-color: rgb(200, 200, 200);\"></td><td title=\"Index: [0, 61]&#10;Color: (200, 200, 200)\" style=\"width: 20px; height: 20px;background-color: rgb(200, 200, 200);\"></td><td title=\"Index: [0, 62]&#10;Color: (0, 0, 200)\" style=\"width: 20px; height: 20px;background-color: rgb(0, 0, 200);\"></td><td title=\"Index: [0, 63]&#10;Color: (0, 0, 200)\" style=\"width: 20px; height: 20px;background-color: rgb(0, 0, 200);\"></td><td title=\"Index: [0, 64]&#10;Color: (200, 0, 0)\" style=\"width: 20px; height: 20px;background-color: rgb(200, 0, 0);\"></td><td title=\"Index: [0, 65]&#10;Color: (200, 200, 200)\" style=\"width: 20px; height: 20px;background-color: rgb(200, 200, 200);\"></td><td title=\"Index: [0, 66]&#10;Color: (200, 200, 200)\" style=\"width: 20px; height: 20px;background-color: rgb(200, 200, 200);\"></td><td title=\"Index: [0, 67]&#10;Color: (0, 0, 200)\" style=\"width: 20px; height: 20px;background-color: rgb(0, 0, 200);\"></td><td title=\"Index: [0, 68]&#10;Color: (0, 0, 200)\" style=\"width: 20px; height: 20px;background-color: rgb(0, 0, 200);\"></td><td title=\"Index: [0, 69]&#10;Color: (200, 200, 200)\" style=\"width: 20px; height: 20px;background-color: rgb(200, 200, 200);\"></td></tr></tbody></table>",
          "text/plain": "<ipythonblocks.ipythonblocks.BlockGrid at 0x7fa2b4533be0>"
         },
         "metadata": {},
         "output_type": "display_data"
        },
        {
         "name": "stdout",
         "output_type": "stream",
         "text": "2. Vœux triés par rang, mais pas par l'algorithme :\n"
        },
        {
         "data": {
          "text/html": "<style type=\"text/css\">table.blockgrid {border: none;} .blockgrid tr {border: none;} .blockgrid td {padding: 0px;} #blocks5a9c7906-2514-4464-bdf5-27649e69c20b td {border: 1px solid white;}</style><table id=\"blocks5a9c7906-2514-4464-bdf5-27649e69c20b\" class=\"blockgrid\"><tbody><tr><td title=\"Index: [0, 0]&#10;Color: (200, 200, 200)\" style=\"width: 20px; height: 20px;background-color: rgb(200, 200, 200);\"></td><td title=\"Index: [0, 1]&#10;Color: (200, 0, 0)\" style=\"width: 20px; height: 20px;background-color: rgb(200, 0, 0);\"></td><td title=\"Index: [0, 2]&#10;Color: (0, 0, 200)\" style=\"width: 20px; height: 20px;background-color: rgb(0, 0, 200);\"></td><td title=\"Index: [0, 3]&#10;Color: (200, 200, 200)\" style=\"width: 20px; height: 20px;background-color: rgb(200, 200, 200);\"></td><td title=\"Index: [0, 4]&#10;Color: (200, 0, 0)\" style=\"width: 20px; height: 20px;background-color: rgb(200, 0, 0);\"></td><td title=\"Index: [0, 5]&#10;Color: (0, 0, 200)\" style=\"width: 20px; height: 20px;background-color: rgb(0, 0, 200);\"></td><td title=\"Index: [0, 6]&#10;Color: (200, 200, 200)\" style=\"width: 20px; height: 20px;background-color: rgb(200, 200, 200);\"></td><td title=\"Index: [0, 7]&#10;Color: (200, 0, 0)\" style=\"width: 20px; height: 20px;background-color: rgb(200, 0, 0);\"></td><td title=\"Index: [0, 8]&#10;Color: (200, 200, 200)\" style=\"width: 20px; height: 20px;background-color: rgb(200, 200, 200);\"></td><td title=\"Index: [0, 9]&#10;Color: (200, 200, 200)\" style=\"width: 20px; height: 20px;background-color: rgb(200, 200, 200);\"></td><td title=\"Index: [0, 10]&#10;Color: (200, 200, 200)\" style=\"width: 20px; height: 20px;background-color: rgb(200, 200, 200);\"></td><td title=\"Index: [0, 11]&#10;Color: (200, 0, 200)\" style=\"width: 20px; height: 20px;background-color: rgb(200, 0, 200);\"></td><td title=\"Index: [0, 12]&#10;Color: (0, 0, 200)\" style=\"width: 20px; height: 20px;background-color: rgb(0, 0, 200);\"></td><td title=\"Index: [0, 13]&#10;Color: (200, 200, 200)\" style=\"width: 20px; height: 20px;background-color: rgb(200, 200, 200);\"></td><td title=\"Index: [0, 14]&#10;Color: (200, 200, 200)\" style=\"width: 20px; height: 20px;background-color: rgb(200, 200, 200);\"></td><td title=\"Index: [0, 15]&#10;Color: (200, 200, 200)\" style=\"width: 20px; height: 20px;background-color: rgb(200, 200, 200);\"></td><td title=\"Index: [0, 16]&#10;Color: (200, 0, 0)\" style=\"width: 20px; height: 20px;background-color: rgb(200, 0, 0);\"></td><td title=\"Index: [0, 17]&#10;Color: (200, 200, 200)\" style=\"width: 20px; height: 20px;background-color: rgb(200, 200, 200);\"></td><td title=\"Index: [0, 18]&#10;Color: (200, 0, 200)\" style=\"width: 20px; height: 20px;background-color: rgb(200, 0, 200);\"></td><td title=\"Index: [0, 19]&#10;Color: (200, 0, 0)\" style=\"width: 20px; height: 20px;background-color: rgb(200, 0, 0);\"></td><td title=\"Index: [0, 20]&#10;Color: (200, 0, 0)\" style=\"width: 20px; height: 20px;background-color: rgb(200, 0, 0);\"></td><td title=\"Index: [0, 21]&#10;Color: (200, 200, 200)\" style=\"width: 20px; height: 20px;background-color: rgb(200, 200, 200);\"></td><td title=\"Index: [0, 22]&#10;Color: (200, 200, 200)\" style=\"width: 20px; height: 20px;background-color: rgb(200, 200, 200);\"></td><td title=\"Index: [0, 23]&#10;Color: (200, 200, 200)\" style=\"width: 20px; height: 20px;background-color: rgb(200, 200, 200);\"></td><td title=\"Index: [0, 24]&#10;Color: (0, 0, 200)\" style=\"width: 20px; height: 20px;background-color: rgb(0, 0, 200);\"></td><td title=\"Index: [0, 25]&#10;Color: (200, 200, 200)\" style=\"width: 20px; height: 20px;background-color: rgb(200, 200, 200);\"></td><td title=\"Index: [0, 26]&#10;Color: (200, 200, 200)\" style=\"width: 20px; height: 20px;background-color: rgb(200, 200, 200);\"></td><td title=\"Index: [0, 27]&#10;Color: (200, 200, 200)\" style=\"width: 20px; height: 20px;background-color: rgb(200, 200, 200);\"></td><td title=\"Index: [0, 28]&#10;Color: (200, 200, 200)\" style=\"width: 20px; height: 20px;background-color: rgb(200, 200, 200);\"></td><td title=\"Index: [0, 29]&#10;Color: (200, 200, 200)\" style=\"width: 20px; height: 20px;background-color: rgb(200, 200, 200);\"></td><td title=\"Index: [0, 30]&#10;Color: (200, 200, 200)\" style=\"width: 20px; height: 20px;background-color: rgb(200, 200, 200);\"></td><td title=\"Index: [0, 31]&#10;Color: (0, 0, 200)\" style=\"width: 20px; height: 20px;background-color: rgb(0, 0, 200);\"></td><td title=\"Index: [0, 32]&#10;Color: (200, 0, 0)\" style=\"width: 20px; height: 20px;background-color: rgb(200, 0, 0);\"></td><td title=\"Index: [0, 33]&#10;Color: (0, 0, 200)\" style=\"width: 20px; height: 20px;background-color: rgb(0, 0, 200);\"></td><td title=\"Index: [0, 34]&#10;Color: (200, 200, 200)\" style=\"width: 20px; height: 20px;background-color: rgb(200, 200, 200);\"></td><td title=\"Index: [0, 35]&#10;Color: (0, 0, 200)\" style=\"width: 20px; height: 20px;background-color: rgb(0, 0, 200);\"></td><td title=\"Index: [0, 36]&#10;Color: (200, 0, 0)\" style=\"width: 20px; height: 20px;background-color: rgb(200, 0, 0);\"></td><td title=\"Index: [0, 37]&#10;Color: (0, 0, 200)\" style=\"width: 20px; height: 20px;background-color: rgb(0, 0, 200);\"></td><td title=\"Index: [0, 38]&#10;Color: (200, 200, 200)\" style=\"width: 20px; height: 20px;background-color: rgb(200, 200, 200);\"></td><td title=\"Index: [0, 39]&#10;Color: (200, 0, 0)\" style=\"width: 20px; height: 20px;background-color: rgb(200, 0, 0);\"></td><td title=\"Index: [0, 40]&#10;Color: (200, 200, 200)\" style=\"width: 20px; height: 20px;background-color: rgb(200, 200, 200);\"></td><td title=\"Index: [0, 41]&#10;Color: (200, 200, 200)\" style=\"width: 20px; height: 20px;background-color: rgb(200, 200, 200);\"></td><td title=\"Index: [0, 42]&#10;Color: (0, 0, 200)\" style=\"width: 20px; height: 20px;background-color: rgb(0, 0, 200);\"></td><td title=\"Index: [0, 43]&#10;Color: (200, 200, 200)\" style=\"width: 20px; height: 20px;background-color: rgb(200, 200, 200);\"></td><td title=\"Index: [0, 44]&#10;Color: (200, 200, 200)\" style=\"width: 20px; height: 20px;background-color: rgb(200, 200, 200);\"></td><td title=\"Index: [0, 45]&#10;Color: (200, 200, 200)\" style=\"width: 20px; height: 20px;background-color: rgb(200, 200, 200);\"></td><td title=\"Index: [0, 46]&#10;Color: (200, 200, 200)\" style=\"width: 20px; height: 20px;background-color: rgb(200, 200, 200);\"></td><td title=\"Index: [0, 47]&#10;Color: (200, 0, 0)\" style=\"width: 20px; height: 20px;background-color: rgb(200, 0, 0);\"></td><td title=\"Index: [0, 48]&#10;Color: (200, 200, 200)\" style=\"width: 20px; height: 20px;background-color: rgb(200, 200, 200);\"></td><td title=\"Index: [0, 49]&#10;Color: (200, 200, 200)\" style=\"width: 20px; height: 20px;background-color: rgb(200, 200, 200);\"></td><td title=\"Index: [0, 50]&#10;Color: (200, 0, 0)\" style=\"width: 20px; height: 20px;background-color: rgb(200, 0, 0);\"></td><td title=\"Index: [0, 51]&#10;Color: (200, 200, 200)\" style=\"width: 20px; height: 20px;background-color: rgb(200, 200, 200);\"></td><td title=\"Index: [0, 52]&#10;Color: (0, 0, 200)\" style=\"width: 20px; height: 20px;background-color: rgb(0, 0, 200);\"></td><td title=\"Index: [0, 53]&#10;Color: (200, 200, 200)\" style=\"width: 20px; height: 20px;background-color: rgb(200, 200, 200);\"></td><td title=\"Index: [0, 54]&#10;Color: (200, 200, 200)\" style=\"width: 20px; height: 20px;background-color: rgb(200, 200, 200);\"></td><td title=\"Index: [0, 55]&#10;Color: (200, 200, 200)\" style=\"width: 20px; height: 20px;background-color: rgb(200, 200, 200);\"></td><td title=\"Index: [0, 56]&#10;Color: (200, 200, 200)\" style=\"width: 20px; height: 20px;background-color: rgb(200, 200, 200);\"></td><td title=\"Index: [0, 57]&#10;Color: (0, 0, 200)\" style=\"width: 20px; height: 20px;background-color: rgb(0, 0, 200);\"></td><td title=\"Index: [0, 58]&#10;Color: (200, 200, 200)\" style=\"width: 20px; height: 20px;background-color: rgb(200, 200, 200);\"></td><td title=\"Index: [0, 59]&#10;Color: (200, 200, 200)\" style=\"width: 20px; height: 20px;background-color: rgb(200, 200, 200);\"></td><td title=\"Index: [0, 60]&#10;Color: (0, 0, 200)\" style=\"width: 20px; height: 20px;background-color: rgb(0, 0, 200);\"></td><td title=\"Index: [0, 61]&#10;Color: (200, 200, 200)\" style=\"width: 20px; height: 20px;background-color: rgb(200, 200, 200);\"></td><td title=\"Index: [0, 62]&#10;Color: (200, 200, 200)\" style=\"width: 20px; height: 20px;background-color: rgb(200, 200, 200);\"></td><td title=\"Index: [0, 63]&#10;Color: (200, 200, 200)\" style=\"width: 20px; height: 20px;background-color: rgb(200, 200, 200);\"></td><td title=\"Index: [0, 64]&#10;Color: (200, 0, 0)\" style=\"width: 20px; height: 20px;background-color: rgb(200, 0, 0);\"></td><td title=\"Index: [0, 65]&#10;Color: (200, 200, 200)\" style=\"width: 20px; height: 20px;background-color: rgb(200, 200, 200);\"></td><td title=\"Index: [0, 66]&#10;Color: (200, 200, 200)\" style=\"width: 20px; height: 20px;background-color: rgb(200, 200, 200);\"></td><td title=\"Index: [0, 67]&#10;Color: (200, 200, 200)\" style=\"width: 20px; height: 20px;background-color: rgb(200, 200, 200);\"></td><td title=\"Index: [0, 68]&#10;Color: (200, 200, 200)\" style=\"width: 20px; height: 20px;background-color: rgb(200, 200, 200);\"></td><td title=\"Index: [0, 69]&#10;Color: (255, 255, 255)\" style=\"width: 20px; height: 20px;background-color: rgb(255, 255, 255);\"></td></tr></tbody></table>",
          "text/plain": "<ipythonblocks.ipythonblocks.BlockGrid at 0x7fa2b4533be0>"
         },
         "metadata": {},
         "output_type": "display_data"
        },
        {
         "name": "stdout",
         "output_type": "stream",
         "text": "3. Vœux triés par l'algorithme :\n"
        },
        {
         "data": {
          "text/html": "<style type=\"text/css\">table.blockgrid {border: none;} .blockgrid tr {border: none;} .blockgrid td {padding: 0px;} #blocks1b7cc48e-737f-4d8a-b21c-6aa3f265e564 td {border: 1px solid white;}</style><table id=\"blocks1b7cc48e-737f-4d8a-b21c-6aa3f265e564\" class=\"blockgrid\"><tbody><tr><td title=\"Index: [0, 0]&#10;Color: (200, 0, 0)\" style=\"width: 20px; height: 20px;background-color: rgb(200, 0, 0);\"></td><td title=\"Index: [0, 1]&#10;Color: (255, 255, 255)\" style=\"width: 20px; height: 20px;background-color: rgb(255, 255, 255);\"></td><td title=\"Index: [0, 2]&#10;Color: (200, 200, 200)\" style=\"width: 20px; height: 20px;background-color: rgb(200, 200, 200);\"></td><td title=\"Index: [0, 3]&#10;Color: (200, 200, 200)\" style=\"width: 20px; height: 20px;background-color: rgb(200, 200, 200);\"></td><td title=\"Index: [0, 4]&#10;Color: (200, 200, 200)\" style=\"width: 20px; height: 20px;background-color: rgb(200, 200, 200);\"></td><td title=\"Index: [0, 5]&#10;Color: (200, 200, 200)\" style=\"width: 20px; height: 20px;background-color: rgb(200, 200, 200);\"></td><td title=\"Index: [0, 6]&#10;Color: (200, 200, 200)\" style=\"width: 20px; height: 20px;background-color: rgb(200, 200, 200);\"></td><td title=\"Index: [0, 7]&#10;Color: (200, 200, 200)\" style=\"width: 20px; height: 20px;background-color: rgb(200, 200, 200);\"></td><td title=\"Index: [0, 8]&#10;Color: (200, 200, 200)\" style=\"width: 20px; height: 20px;background-color: rgb(200, 200, 200);\"></td><td title=\"Index: [0, 9]&#10;Color: (0, 0, 200)\" style=\"width: 20px; height: 20px;background-color: rgb(0, 0, 200);\"></td><td title=\"Index: [0, 10]&#10;Color: (200, 0, 0)\" style=\"width: 20px; height: 20px;background-color: rgb(200, 0, 0);\"></td><td title=\"Index: [0, 11]&#10;Color: (200, 200, 200)\" style=\"width: 20px; height: 20px;background-color: rgb(200, 200, 200);\"></td><td title=\"Index: [0, 12]&#10;Color: (200, 200, 200)\" style=\"width: 20px; height: 20px;background-color: rgb(200, 200, 200);\"></td><td title=\"Index: [0, 13]&#10;Color: (0, 0, 200)\" style=\"width: 20px; height: 20px;background-color: rgb(0, 0, 200);\"></td><td title=\"Index: [0, 14]&#10;Color: (200, 200, 200)\" style=\"width: 20px; height: 20px;background-color: rgb(200, 200, 200);\"></td><td title=\"Index: [0, 15]&#10;Color: (200, 200, 200)\" style=\"width: 20px; height: 20px;background-color: rgb(200, 200, 200);\"></td><td title=\"Index: [0, 16]&#10;Color: (200, 200, 200)\" style=\"width: 20px; height: 20px;background-color: rgb(200, 200, 200);\"></td><td title=\"Index: [0, 17]&#10;Color: (200, 200, 200)\" style=\"width: 20px; height: 20px;background-color: rgb(200, 200, 200);\"></td><td title=\"Index: [0, 18]&#10;Color: (0, 0, 200)\" style=\"width: 20px; height: 20px;background-color: rgb(0, 0, 200);\"></td><td title=\"Index: [0, 19]&#10;Color: (200, 200, 200)\" style=\"width: 20px; height: 20px;background-color: rgb(200, 200, 200);\"></td><td title=\"Index: [0, 20]&#10;Color: (200, 0, 0)\" style=\"width: 20px; height: 20px;background-color: rgb(200, 0, 0);\"></td><td title=\"Index: [0, 21]&#10;Color: (200, 200, 200)\" style=\"width: 20px; height: 20px;background-color: rgb(200, 200, 200);\"></td><td title=\"Index: [0, 22]&#10;Color: (200, 200, 200)\" style=\"width: 20px; height: 20px;background-color: rgb(200, 200, 200);\"></td><td title=\"Index: [0, 23]&#10;Color: (200, 200, 200)\" style=\"width: 20px; height: 20px;background-color: rgb(200, 200, 200);\"></td><td title=\"Index: [0, 24]&#10;Color: (200, 200, 200)\" style=\"width: 20px; height: 20px;background-color: rgb(200, 200, 200);\"></td><td title=\"Index: [0, 25]&#10;Color: (200, 200, 200)\" style=\"width: 20px; height: 20px;background-color: rgb(200, 200, 200);\"></td><td title=\"Index: [0, 26]&#10;Color: (200, 200, 200)\" style=\"width: 20px; height: 20px;background-color: rgb(200, 200, 200);\"></td><td title=\"Index: [0, 27]&#10;Color: (0, 0, 200)\" style=\"width: 20px; height: 20px;background-color: rgb(0, 0, 200);\"></td><td title=\"Index: [0, 28]&#10;Color: (200, 200, 200)\" style=\"width: 20px; height: 20px;background-color: rgb(200, 200, 200);\"></td><td title=\"Index: [0, 29]&#10;Color: (200, 200, 200)\" style=\"width: 20px; height: 20px;background-color: rgb(200, 200, 200);\"></td><td title=\"Index: [0, 30]&#10;Color: (200, 0, 0)\" style=\"width: 20px; height: 20px;background-color: rgb(200, 0, 0);\"></td><td title=\"Index: [0, 31]&#10;Color: (200, 200, 200)\" style=\"width: 20px; height: 20px;background-color: rgb(200, 200, 200);\"></td><td title=\"Index: [0, 32]&#10;Color: (0, 0, 200)\" style=\"width: 20px; height: 20px;background-color: rgb(0, 0, 200);\"></td><td title=\"Index: [0, 33]&#10;Color: (200, 0, 0)\" style=\"width: 20px; height: 20px;background-color: rgb(200, 0, 0);\"></td><td title=\"Index: [0, 34]&#10;Color: (0, 0, 200)\" style=\"width: 20px; height: 20px;background-color: rgb(0, 0, 200);\"></td><td title=\"Index: [0, 35]&#10;Color: (200, 200, 200)\" style=\"width: 20px; height: 20px;background-color: rgb(200, 200, 200);\"></td><td title=\"Index: [0, 36]&#10;Color: (0, 0, 200)\" style=\"width: 20px; height: 20px;background-color: rgb(0, 0, 200);\"></td><td title=\"Index: [0, 37]&#10;Color: (200, 0, 0)\" style=\"width: 20px; height: 20px;background-color: rgb(200, 0, 0);\"></td><td title=\"Index: [0, 38]&#10;Color: (0, 0, 200)\" style=\"width: 20px; height: 20px;background-color: rgb(0, 0, 200);\"></td><td title=\"Index: [0, 39]&#10;Color: (200, 200, 200)\" style=\"width: 20px; height: 20px;background-color: rgb(200, 200, 200);\"></td><td title=\"Index: [0, 40]&#10;Color: (200, 200, 200)\" style=\"width: 20px; height: 20px;background-color: rgb(200, 200, 200);\"></td><td title=\"Index: [0, 41]&#10;Color: (200, 200, 200)\" style=\"width: 20px; height: 20px;background-color: rgb(200, 200, 200);\"></td><td title=\"Index: [0, 42]&#10;Color: (200, 200, 200)\" style=\"width: 20px; height: 20px;background-color: rgb(200, 200, 200);\"></td><td title=\"Index: [0, 43]&#10;Color: (200, 200, 200)\" style=\"width: 20px; height: 20px;background-color: rgb(200, 200, 200);\"></td><td title=\"Index: [0, 44]&#10;Color: (200, 200, 200)\" style=\"width: 20px; height: 20px;background-color: rgb(200, 200, 200);\"></td><td title=\"Index: [0, 45]&#10;Color: (0, 0, 200)\" style=\"width: 20px; height: 20px;background-color: rgb(0, 0, 200);\"></td><td title=\"Index: [0, 46]&#10;Color: (200, 200, 200)\" style=\"width: 20px; height: 20px;background-color: rgb(200, 200, 200);\"></td><td title=\"Index: [0, 47]&#10;Color: (200, 200, 200)\" style=\"width: 20px; height: 20px;background-color: rgb(200, 200, 200);\"></td><td title=\"Index: [0, 48]&#10;Color: (200, 200, 200)\" style=\"width: 20px; height: 20px;background-color: rgb(200, 200, 200);\"></td><td title=\"Index: [0, 49]&#10;Color: (200, 0, 0)\" style=\"width: 20px; height: 20px;background-color: rgb(200, 0, 0);\"></td><td title=\"Index: [0, 50]&#10;Color: (200, 0, 0)\" style=\"width: 20px; height: 20px;background-color: rgb(200, 0, 0);\"></td><td title=\"Index: [0, 51]&#10;Color: (200, 0, 200)\" style=\"width: 20px; height: 20px;background-color: rgb(200, 0, 200);\"></td><td title=\"Index: [0, 52]&#10;Color: (200, 200, 200)\" style=\"width: 20px; height: 20px;background-color: rgb(200, 200, 200);\"></td><td title=\"Index: [0, 53]&#10;Color: (200, 0, 0)\" style=\"width: 20px; height: 20px;background-color: rgb(200, 0, 0);\"></td><td title=\"Index: [0, 54]&#10;Color: (200, 200, 200)\" style=\"width: 20px; height: 20px;background-color: rgb(200, 200, 200);\"></td><td title=\"Index: [0, 55]&#10;Color: (200, 200, 200)\" style=\"width: 20px; height: 20px;background-color: rgb(200, 200, 200);\"></td><td title=\"Index: [0, 56]&#10;Color: (200, 200, 200)\" style=\"width: 20px; height: 20px;background-color: rgb(200, 200, 200);\"></td><td title=\"Index: [0, 57]&#10;Color: (0, 0, 200)\" style=\"width: 20px; height: 20px;background-color: rgb(0, 0, 200);\"></td><td title=\"Index: [0, 58]&#10;Color: (200, 0, 200)\" style=\"width: 20px; height: 20px;background-color: rgb(200, 0, 200);\"></td><td title=\"Index: [0, 59]&#10;Color: (200, 200, 200)\" style=\"width: 20px; height: 20px;background-color: rgb(200, 200, 200);\"></td><td title=\"Index: [0, 60]&#10;Color: (200, 200, 200)\" style=\"width: 20px; height: 20px;background-color: rgb(200, 200, 200);\"></td><td title=\"Index: [0, 61]&#10;Color: (200, 200, 200)\" style=\"width: 20px; height: 20px;background-color: rgb(200, 200, 200);\"></td><td title=\"Index: [0, 62]&#10;Color: (200, 0, 0)\" style=\"width: 20px; height: 20px;background-color: rgb(200, 0, 0);\"></td><td title=\"Index: [0, 63]&#10;Color: (200, 200, 200)\" style=\"width: 20px; height: 20px;background-color: rgb(200, 200, 200);\"></td><td title=\"Index: [0, 64]&#10;Color: (0, 0, 200)\" style=\"width: 20px; height: 20px;background-color: rgb(0, 0, 200);\"></td><td title=\"Index: [0, 65]&#10;Color: (200, 0, 0)\" style=\"width: 20px; height: 20px;background-color: rgb(200, 0, 0);\"></td><td title=\"Index: [0, 66]&#10;Color: (200, 200, 200)\" style=\"width: 20px; height: 20px;background-color: rgb(200, 200, 200);\"></td><td title=\"Index: [0, 67]&#10;Color: (0, 0, 200)\" style=\"width: 20px; height: 20px;background-color: rgb(0, 0, 200);\"></td><td title=\"Index: [0, 68]&#10;Color: (200, 0, 0)\" style=\"width: 20px; height: 20px;background-color: rgb(200, 0, 0);\"></td><td title=\"Index: [0, 69]&#10;Color: (200, 200, 200)\" style=\"width: 20px; height: 20px;background-color: rgb(200, 200, 200);\"></td></tr></tbody></table>",
          "text/plain": "<ipythonblocks.ipythonblocks.BlockGrid at 0x7fa2b4533be0>"
         },
         "metadata": {},
         "output_type": "display_data"
        }
       ]
      }
     },
     "061564f213f84f8b93284438ade27181": {
      "model_module": "@jupyter-widgets/base",
      "model_module_version": "1.0.0",
      "model_name": "LayoutModel",
      "state": {}
     },
     "06718c9f6e7944f18f57cbbef275bf12": {
      "model_module": "@jupyter-widgets/base",
      "model_module_version": "1.0.0",
      "model_name": "LayoutModel",
      "state": {}
     },
     "073dd0d3a5174d89ba30133517b7d24b": {
      "model_module": "@jupyter-widgets/base",
      "model_module_version": "1.0.0",
      "model_name": "LayoutModel",
      "state": {}
     },
     "07435649da3348c29ea5f6322a6f87c6": {
      "model_module": "@jupyter-widgets/controls",
      "model_module_version": "1.2.0",
      "model_name": "SliderStyleModel",
      "state": {
       "description_width": ""
      }
     },
     "07477443c7ba42759c0d758206f7fc30": {
      "model_module": "@jupyter-widgets/base",
      "model_module_version": "1.0.0",
      "model_name": "LayoutModel",
      "state": {}
     },
     "0761cba72aa144b0bfef2e3cf6f1bbd9": {
      "model_module": "@jupyter-widgets/base",
      "model_module_version": "1.0.0",
      "model_name": "LayoutModel",
      "state": {}
     },
     "07e8eabab90f414ea2f8a9c23192c551": {
      "model_module": "@jupyter-widgets/controls",
      "model_module_version": "1.2.0",
      "model_name": "VBoxModel",
      "state": {
       "_dom_classes": [
        "widget-interact"
       ],
       "children": [
        "IPY_MODEL_1e547b3e6cb448c49defa65211d3d746",
        "IPY_MODEL_4a7d3cbb49cd4bffa554b40f66ac0e41",
        "IPY_MODEL_8f9c10c74c2e4d4a8c9a21ef946d66e3",
        "IPY_MODEL_d228e0e0080140c69b4bacf18d9f58a9",
        "IPY_MODEL_04a7f31456764781b7a586ffd558e6f2",
        "IPY_MODEL_4caa613dbd274fce89c772870cdc4f25",
        "IPY_MODEL_330df5e122ef415da11f09ba3c6cdd57",
        "IPY_MODEL_f13bca440c2c47898cabe760368f88db",
        "IPY_MODEL_8856cd58f99547c4a6edca7292d6498e",
        "IPY_MODEL_05e8b52f24d242a188fe952897d62625"
       ],
       "layout": "IPY_MODEL_431f72f22cf6490dac7a4e78380004e2"
      }
     },
     "0820e1b405dd4496b63b3c5ec3e0684b": {
      "model_module": "@jupyter-widgets/base",
      "model_module_version": "1.0.0",
      "model_name": "LayoutModel",
      "state": {}
     },
     "084b34fb9f0549049b5beb9bb7de0a24": {
      "model_module": "@jupyter-widgets/base",
      "model_module_version": "1.0.0",
      "model_name": "LayoutModel",
      "state": {}
     },
     "0a4f4cab21df4cc6bca20677325887b1": {
      "model_module": "@jupyter-widgets/controls",
      "model_module_version": "1.2.0",
      "model_name": "SliderStyleModel",
      "state": {
       "description_width": ""
      }
     },
     "0ac785331154447b9f0d4a562db468d1": {
      "model_module": "@jupyter-widgets/controls",
      "model_module_version": "1.2.0",
      "model_name": "IntSliderModel",
      "state": {
       "description": "tauxResidents",
       "layout": "IPY_MODEL_4af384bf301c455a9ec48d9d03b0b878",
       "style": "IPY_MODEL_b2beec73ec8f47c58140739779a8cdaf",
       "value": 20
      }
     },
     "0b48e627e94e4378923be13410ffd589": {
      "model_module": "@jupyter-widgets/controls",
      "model_module_version": "1.2.0",
      "model_name": "SliderStyleModel",
      "state": {
       "description_width": ""
      }
     },
     "0b654b756b04430fbaa2a5d6de76aef3": {
      "model_module": "@jupyter-widgets/controls",
      "model_module_version": "1.2.0",
      "model_name": "SliderStyleModel",
      "state": {
       "description_width": ""
      }
     },
     "0b70efb0ed6842a786144a52cdf18fb0": {
      "model_module": "@jupyter-widgets/controls",
      "model_module_version": "1.2.0",
      "model_name": "IntSliderModel",
      "state": {
       "description": "tauxBoursiers",
       "layout": "IPY_MODEL_d4e7d3d980914575849ed8156787fae5",
       "style": "IPY_MODEL_eed8e84d0f524c5db512f5b563950dbd",
       "value": 20
      }
     },
     "0c3d4a9733a842658041714a6c5b2853": {
      "model_module": "@jupyter-widgets/controls",
      "model_module_version": "1.2.0",
      "model_name": "IntSliderModel",
      "state": {
       "description": "tauxBoursiers",
       "layout": "IPY_MODEL_3f7a46cfe2254178875c3663fae4469f",
       "style": "IPY_MODEL_5c1130eb0b6a40368d126df1c315ce66",
       "value": 20
      }
     },
     "0cc0f93c539a4d49a9181bb0f485cb78": {
      "model_module": "@jupyter-widgets/controls",
      "model_module_version": "1.2.0",
      "model_name": "SliderStyleModel",
      "state": {
       "description_width": ""
      }
     },
     "0cc28d9d5b8148fd9e590b138c8549ba": {
      "model_module": "@jupyter-widgets/controls",
      "model_module_version": "1.2.0",
      "model_name": "DescriptionStyleModel",
      "state": {
       "description_width": ""
      }
     },
     "0cd768b022c94cc482e399b6a0c1099c": {
      "model_module": "@jupyter-widgets/base",
      "model_module_version": "1.0.0",
      "model_name": "LayoutModel",
      "state": {}
     },
     "0cff29a83a75446b8133baf1ab190d54": {
      "model_module": "@jupyter-widgets/base",
      "model_module_version": "1.0.0",
      "model_name": "LayoutModel",
      "state": {}
     },
     "0da77bc8f47f48e482bd475008824d1f": {
      "model_module": "@jupyter-widgets/controls",
      "model_module_version": "1.2.0",
      "model_name": "SliderStyleModel",
      "state": {
       "description_width": ""
      }
     },
     "0e3f8a8a1c974e45b996d13ece1c43a2": {
      "model_module": "@jupyter-widgets/output",
      "model_module_version": "1.0.0",
      "model_name": "OutputModel",
      "state": {
       "layout": "IPY_MODEL_1a9247d128e54cf29259d981d6e6439b",
       "outputs": [
        {
         "data": {
          "text/html": "<style type=\"text/css\">table.blockgrid {border: none;} .blockgrid tr {border: none;} .blockgrid td {padding: 0px;} #blocks0b686dd2-325d-4d79-ba9c-854aebf5f8e4 td {border: 1px solid white;}</style><table id=\"blocks0b686dd2-325d-4d79-ba9c-854aebf5f8e4\" class=\"blockgrid\"><tbody><tr><td title=\"Index: [0, 0]&#10;Color: (200, 200, 200)\" style=\"width: 20px; height: 20px;background-color: rgb(200, 200, 200);\"></td><td title=\"Index: [0, 1]&#10;Color: (200, 200, 200)\" style=\"width: 20px; height: 20px;background-color: rgb(200, 200, 200);\"></td><td title=\"Index: [0, 2]&#10;Color: (200, 200, 200)\" style=\"width: 20px; height: 20px;background-color: rgb(200, 200, 200);\"></td><td title=\"Index: [0, 3]&#10;Color: (200, 200, 200)\" style=\"width: 20px; height: 20px;background-color: rgb(200, 200, 200);\"></td><td title=\"Index: [0, 4]&#10;Color: (200, 0, 0)\" style=\"width: 20px; height: 20px;background-color: rgb(200, 0, 0);\"></td><td title=\"Index: [0, 5]&#10;Color: (200, 200, 200)\" style=\"width: 20px; height: 20px;background-color: rgb(200, 200, 200);\"></td><td title=\"Index: [0, 6]&#10;Color: (200, 200, 200)\" style=\"width: 20px; height: 20px;background-color: rgb(200, 200, 200);\"></td><td title=\"Index: [0, 7]&#10;Color: (0, 0, 200)\" style=\"width: 20px; height: 20px;background-color: rgb(0, 0, 200);\"></td><td title=\"Index: [0, 8]&#10;Color: (200, 200, 200)\" style=\"width: 20px; height: 20px;background-color: rgb(200, 200, 200);\"></td><td title=\"Index: [0, 9]&#10;Color: (0, 0, 200)\" style=\"width: 20px; height: 20px;background-color: rgb(0, 0, 200);\"></td><td title=\"Index: [0, 10]&#10;Color: (200, 200, 200)\" style=\"width: 20px; height: 20px;background-color: rgb(200, 200, 200);\"></td><td title=\"Index: [0, 11]&#10;Color: (200, 200, 200)\" style=\"width: 20px; height: 20px;background-color: rgb(200, 200, 200);\"></td><td title=\"Index: [0, 12]&#10;Color: (200, 0, 0)\" style=\"width: 20px; height: 20px;background-color: rgb(200, 0, 0);\"></td><td title=\"Index: [0, 13]&#10;Color: (200, 0, 0)\" style=\"width: 20px; height: 20px;background-color: rgb(200, 0, 0);\"></td><td title=\"Index: [0, 14]&#10;Color: (200, 200, 200)\" style=\"width: 20px; height: 20px;background-color: rgb(200, 200, 200);\"></td><td title=\"Index: [0, 15]&#10;Color: (0, 0, 200)\" style=\"width: 20px; height: 20px;background-color: rgb(0, 0, 200);\"></td><td title=\"Index: [0, 16]&#10;Color: (200, 0, 0)\" style=\"width: 20px; height: 20px;background-color: rgb(200, 0, 0);\"></td><td title=\"Index: [0, 17]&#10;Color: (200, 200, 200)\" style=\"width: 20px; height: 20px;background-color: rgb(200, 200, 200);\"></td><td title=\"Index: [0, 18]&#10;Color: (200, 0, 0)\" style=\"width: 20px; height: 20px;background-color: rgb(200, 0, 0);\"></td><td title=\"Index: [0, 19]&#10;Color: (200, 200, 200)\" style=\"width: 20px; height: 20px;background-color: rgb(200, 200, 200);\"></td><td title=\"Index: [0, 20]&#10;Color: (200, 200, 200)\" style=\"width: 20px; height: 20px;background-color: rgb(200, 200, 200);\"></td><td title=\"Index: [0, 21]&#10;Color: (200, 200, 200)\" style=\"width: 20px; height: 20px;background-color: rgb(200, 200, 200);\"></td><td title=\"Index: [0, 22]&#10;Color: (200, 200, 200)\" style=\"width: 20px; height: 20px;background-color: rgb(200, 200, 200);\"></td><td title=\"Index: [0, 23]&#10;Color: (0, 0, 200)\" style=\"width: 20px; height: 20px;background-color: rgb(0, 0, 200);\"></td><td title=\"Index: [0, 24]&#10;Color: (0, 0, 200)\" style=\"width: 20px; height: 20px;background-color: rgb(0, 0, 200);\"></td><td title=\"Index: [0, 25]&#10;Color: (200, 0, 200)\" style=\"width: 20px; height: 20px;background-color: rgb(200, 0, 200);\"></td><td title=\"Index: [0, 26]&#10;Color: (200, 0, 0)\" style=\"width: 20px; height: 20px;background-color: rgb(200, 0, 0);\"></td><td title=\"Index: [0, 27]&#10;Color: (200, 200, 200)\" style=\"width: 20px; height: 20px;background-color: rgb(200, 200, 200);\"></td><td title=\"Index: [0, 28]&#10;Color: (200, 200, 200)\" style=\"width: 20px; height: 20px;background-color: rgb(200, 200, 200);\"></td><td title=\"Index: [0, 29]&#10;Color: (200, 200, 200)\" style=\"width: 20px; height: 20px;background-color: rgb(200, 200, 200);\"></td><td title=\"Index: [0, 30]&#10;Color: (200, 200, 200)\" style=\"width: 20px; height: 20px;background-color: rgb(200, 200, 200);\"></td><td title=\"Index: [0, 31]&#10;Color: (200, 200, 200)\" style=\"width: 20px; height: 20px;background-color: rgb(200, 200, 200);\"></td><td title=\"Index: [0, 32]&#10;Color: (0, 0, 200)\" style=\"width: 20px; height: 20px;background-color: rgb(0, 0, 200);\"></td><td title=\"Index: [0, 33]&#10;Color: (0, 0, 200)\" style=\"width: 20px; height: 20px;background-color: rgb(0, 0, 200);\"></td><td title=\"Index: [0, 34]&#10;Color: (200, 200, 200)\" style=\"width: 20px; height: 20px;background-color: rgb(200, 200, 200);\"></td><td title=\"Index: [0, 35]&#10;Color: (0, 0, 200)\" style=\"width: 20px; height: 20px;background-color: rgb(0, 0, 200);\"></td><td title=\"Index: [0, 36]&#10;Color: (200, 200, 200)\" style=\"width: 20px; height: 20px;background-color: rgb(200, 200, 200);\"></td><td title=\"Index: [0, 37]&#10;Color: (200, 200, 200)\" style=\"width: 20px; height: 20px;background-color: rgb(200, 200, 200);\"></td><td title=\"Index: [0, 38]&#10;Color: (200, 200, 200)\" style=\"width: 20px; height: 20px;background-color: rgb(200, 200, 200);\"></td><td title=\"Index: [0, 39]&#10;Color: (200, 200, 200)\" style=\"width: 20px; height: 20px;background-color: rgb(200, 200, 200);\"></td><td title=\"Index: [0, 40]&#10;Color: (200, 200, 200)\" style=\"width: 20px; height: 20px;background-color: rgb(200, 200, 200);\"></td><td title=\"Index: [0, 41]&#10;Color: (200, 0, 0)\" style=\"width: 20px; height: 20px;background-color: rgb(200, 0, 0);\"></td><td title=\"Index: [0, 42]&#10;Color: (200, 0, 0)\" style=\"width: 20px; height: 20px;background-color: rgb(200, 0, 0);\"></td><td title=\"Index: [0, 43]&#10;Color: (200, 200, 200)\" style=\"width: 20px; height: 20px;background-color: rgb(200, 200, 200);\"></td><td title=\"Index: [0, 44]&#10;Color: (200, 200, 200)\" style=\"width: 20px; height: 20px;background-color: rgb(200, 200, 200);\"></td><td title=\"Index: [0, 45]&#10;Color: (200, 200, 200)\" style=\"width: 20px; height: 20px;background-color: rgb(200, 200, 200);\"></td><td title=\"Index: [0, 46]&#10;Color: (200, 200, 200)\" style=\"width: 20px; height: 20px;background-color: rgb(200, 200, 200);\"></td><td title=\"Index: [0, 47]&#10;Color: (200, 200, 200)\" style=\"width: 20px; height: 20px;background-color: rgb(200, 200, 200);\"></td><td title=\"Index: [0, 48]&#10;Color: (200, 0, 0)\" style=\"width: 20px; height: 20px;background-color: rgb(200, 0, 0);\"></td><td title=\"Index: [0, 49]&#10;Color: (200, 200, 200)\" style=\"width: 20px; height: 20px;background-color: rgb(200, 200, 200);\"></td><td title=\"Index: [0, 50]&#10;Color: (200, 200, 200)\" style=\"width: 20px; height: 20px;background-color: rgb(200, 200, 200);\"></td><td title=\"Index: [0, 51]&#10;Color: (200, 200, 200)\" style=\"width: 20px; height: 20px;background-color: rgb(200, 200, 200);\"></td><td title=\"Index: [0, 52]&#10;Color: (200, 200, 200)\" style=\"width: 20px; height: 20px;background-color: rgb(200, 200, 200);\"></td><td title=\"Index: [0, 53]&#10;Color: (200, 0, 0)\" style=\"width: 20px; height: 20px;background-color: rgb(200, 0, 0);\"></td><td title=\"Index: [0, 54]&#10;Color: (200, 200, 200)\" style=\"width: 20px; height: 20px;background-color: rgb(200, 200, 200);\"></td><td title=\"Index: [0, 55]&#10;Color: (200, 0, 0)\" style=\"width: 20px; height: 20px;background-color: rgb(200, 0, 0);\"></td><td title=\"Index: [0, 56]&#10;Color: (200, 200, 200)\" style=\"width: 20px; height: 20px;background-color: rgb(200, 200, 200);\"></td><td title=\"Index: [0, 57]&#10;Color: (200, 200, 200)\" style=\"width: 20px; height: 20px;background-color: rgb(200, 200, 200);\"></td><td title=\"Index: [0, 58]&#10;Color: (200, 0, 200)\" style=\"width: 20px; height: 20px;background-color: rgb(200, 0, 200);\"></td><td title=\"Index: [0, 59]&#10;Color: (200, 200, 200)\" style=\"width: 20px; height: 20px;background-color: rgb(200, 200, 200);\"></td><td title=\"Index: [0, 60]&#10;Color: (200, 200, 200)\" style=\"width: 20px; height: 20px;background-color: rgb(200, 200, 200);\"></td><td title=\"Index: [0, 61]&#10;Color: (200, 200, 200)\" style=\"width: 20px; height: 20px;background-color: rgb(200, 200, 200);\"></td><td title=\"Index: [0, 62]&#10;Color: (0, 0, 200)\" style=\"width: 20px; height: 20px;background-color: rgb(0, 0, 200);\"></td><td title=\"Index: [0, 63]&#10;Color: (0, 0, 200)\" style=\"width: 20px; height: 20px;background-color: rgb(0, 0, 200);\"></td><td title=\"Index: [0, 64]&#10;Color: (200, 0, 0)\" style=\"width: 20px; height: 20px;background-color: rgb(200, 0, 0);\"></td><td title=\"Index: [0, 65]&#10;Color: (200, 200, 200)\" style=\"width: 20px; height: 20px;background-color: rgb(200, 200, 200);\"></td><td title=\"Index: [0, 66]&#10;Color: (200, 200, 200)\" style=\"width: 20px; height: 20px;background-color: rgb(200, 200, 200);\"></td><td title=\"Index: [0, 67]&#10;Color: (0, 0, 200)\" style=\"width: 20px; height: 20px;background-color: rgb(0, 0, 200);\"></td><td title=\"Index: [0, 68]&#10;Color: (0, 0, 200)\" style=\"width: 20px; height: 20px;background-color: rgb(0, 0, 200);\"></td><td title=\"Index: [0, 69]&#10;Color: (200, 200, 200)\" style=\"width: 20px; height: 20px;background-color: rgb(200, 200, 200);\"></td></tr></tbody></table>",
          "text/plain": "<ipythonblocks.ipythonblocks.BlockGrid at 0x7f69400956d8>"
         },
         "metadata": {},
         "output_type": "display_data"
        },
        {
         "data": {
          "text/html": "<style type=\"text/css\">table.blockgrid {border: none;} .blockgrid tr {border: none;} .blockgrid td {padding: 0px;} #blocksaf84f7be-816d-4ae3-ac89-4e6d3723fc3f td {border: 1px solid white;}</style><table id=\"blocksaf84f7be-816d-4ae3-ac89-4e6d3723fc3f\" class=\"blockgrid\"><tbody><tr><td title=\"Index: [0, 0]&#10;Color: (200, 0, 0)\" style=\"width: 20px; height: 20px;background-color: rgb(200, 0, 0);\"></td><td title=\"Index: [0, 1]&#10;Color: (200, 200, 200)\" style=\"width: 20px; height: 20px;background-color: rgb(200, 200, 200);\"></td><td title=\"Index: [0, 2]&#10;Color: (200, 200, 200)\" style=\"width: 20px; height: 20px;background-color: rgb(200, 200, 200);\"></td><td title=\"Index: [0, 3]&#10;Color: (200, 200, 200)\" style=\"width: 20px; height: 20px;background-color: rgb(200, 200, 200);\"></td><td title=\"Index: [0, 4]&#10;Color: (200, 200, 200)\" style=\"width: 20px; height: 20px;background-color: rgb(200, 200, 200);\"></td><td title=\"Index: [0, 5]&#10;Color: (200, 200, 200)\" style=\"width: 20px; height: 20px;background-color: rgb(200, 200, 200);\"></td><td title=\"Index: [0, 6]&#10;Color: (200, 200, 200)\" style=\"width: 20px; height: 20px;background-color: rgb(200, 200, 200);\"></td><td title=\"Index: [0, 7]&#10;Color: (200, 200, 200)\" style=\"width: 20px; height: 20px;background-color: rgb(200, 200, 200);\"></td><td title=\"Index: [0, 8]&#10;Color: (200, 200, 200)\" style=\"width: 20px; height: 20px;background-color: rgb(200, 200, 200);\"></td><td title=\"Index: [0, 9]&#10;Color: (0, 0, 200)\" style=\"width: 20px; height: 20px;background-color: rgb(0, 0, 200);\"></td><td title=\"Index: [0, 10]&#10;Color: (200, 0, 0)\" style=\"width: 20px; height: 20px;background-color: rgb(200, 0, 0);\"></td><td title=\"Index: [0, 11]&#10;Color: (200, 200, 200)\" style=\"width: 20px; height: 20px;background-color: rgb(200, 200, 200);\"></td><td title=\"Index: [0, 12]&#10;Color: (200, 200, 200)\" style=\"width: 20px; height: 20px;background-color: rgb(200, 200, 200);\"></td><td title=\"Index: [0, 13]&#10;Color: (0, 0, 200)\" style=\"width: 20px; height: 20px;background-color: rgb(0, 0, 200);\"></td><td title=\"Index: [0, 14]&#10;Color: (200, 200, 200)\" style=\"width: 20px; height: 20px;background-color: rgb(200, 200, 200);\"></td><td title=\"Index: [0, 15]&#10;Color: (200, 200, 200)\" style=\"width: 20px; height: 20px;background-color: rgb(200, 200, 200);\"></td><td title=\"Index: [0, 16]&#10;Color: (200, 200, 200)\" style=\"width: 20px; height: 20px;background-color: rgb(200, 200, 200);\"></td><td title=\"Index: [0, 17]&#10;Color: (200, 200, 200)\" style=\"width: 20px; height: 20px;background-color: rgb(200, 200, 200);\"></td><td title=\"Index: [0, 18]&#10;Color: (0, 0, 200)\" style=\"width: 20px; height: 20px;background-color: rgb(0, 0, 200);\"></td><td title=\"Index: [0, 19]&#10;Color: (200, 200, 200)\" style=\"width: 20px; height: 20px;background-color: rgb(200, 200, 200);\"></td><td title=\"Index: [0, 20]&#10;Color: (200, 0, 0)\" style=\"width: 20px; height: 20px;background-color: rgb(200, 0, 0);\"></td><td title=\"Index: [0, 21]&#10;Color: (200, 200, 200)\" style=\"width: 20px; height: 20px;background-color: rgb(200, 200, 200);\"></td><td title=\"Index: [0, 22]&#10;Color: (200, 200, 200)\" style=\"width: 20px; height: 20px;background-color: rgb(200, 200, 200);\"></td><td title=\"Index: [0, 23]&#10;Color: (200, 200, 200)\" style=\"width: 20px; height: 20px;background-color: rgb(200, 200, 200);\"></td><td title=\"Index: [0, 24]&#10;Color: (200, 200, 200)\" style=\"width: 20px; height: 20px;background-color: rgb(200, 200, 200);\"></td><td title=\"Index: [0, 25]&#10;Color: (200, 200, 200)\" style=\"width: 20px; height: 20px;background-color: rgb(200, 200, 200);\"></td><td title=\"Index: [0, 26]&#10;Color: (200, 200, 200)\" style=\"width: 20px; height: 20px;background-color: rgb(200, 200, 200);\"></td><td title=\"Index: [0, 27]&#10;Color: (0, 0, 200)\" style=\"width: 20px; height: 20px;background-color: rgb(0, 0, 200);\"></td><td title=\"Index: [0, 28]&#10;Color: (200, 200, 200)\" style=\"width: 20px; height: 20px;background-color: rgb(200, 200, 200);\"></td><td title=\"Index: [0, 29]&#10;Color: (200, 200, 200)\" style=\"width: 20px; height: 20px;background-color: rgb(200, 200, 200);\"></td><td title=\"Index: [0, 30]&#10;Color: (200, 0, 0)\" style=\"width: 20px; height: 20px;background-color: rgb(200, 0, 0);\"></td><td title=\"Index: [0, 31]&#10;Color: (200, 200, 200)\" style=\"width: 20px; height: 20px;background-color: rgb(200, 200, 200);\"></td><td title=\"Index: [0, 32]&#10;Color: (0, 0, 200)\" style=\"width: 20px; height: 20px;background-color: rgb(0, 0, 200);\"></td><td title=\"Index: [0, 33]&#10;Color: (200, 0, 0)\" style=\"width: 20px; height: 20px;background-color: rgb(200, 0, 0);\"></td><td title=\"Index: [0, 34]&#10;Color: (0, 0, 200)\" style=\"width: 20px; height: 20px;background-color: rgb(0, 0, 200);\"></td><td title=\"Index: [0, 35]&#10;Color: (200, 200, 200)\" style=\"width: 20px; height: 20px;background-color: rgb(200, 200, 200);\"></td><td title=\"Index: [0, 36]&#10;Color: (0, 0, 200)\" style=\"width: 20px; height: 20px;background-color: rgb(0, 0, 200);\"></td><td title=\"Index: [0, 37]&#10;Color: (200, 0, 0)\" style=\"width: 20px; height: 20px;background-color: rgb(200, 0, 0);\"></td><td title=\"Index: [0, 38]&#10;Color: (0, 0, 200)\" style=\"width: 20px; height: 20px;background-color: rgb(0, 0, 200);\"></td><td title=\"Index: [0, 39]&#10;Color: (200, 200, 200)\" style=\"width: 20px; height: 20px;background-color: rgb(200, 200, 200);\"></td><td title=\"Index: [0, 40]&#10;Color: (200, 200, 200)\" style=\"width: 20px; height: 20px;background-color: rgb(200, 200, 200);\"></td><td title=\"Index: [0, 41]&#10;Color: (200, 200, 200)\" style=\"width: 20px; height: 20px;background-color: rgb(200, 200, 200);\"></td><td title=\"Index: [0, 42]&#10;Color: (200, 200, 200)\" style=\"width: 20px; height: 20px;background-color: rgb(200, 200, 200);\"></td><td title=\"Index: [0, 43]&#10;Color: (200, 200, 200)\" style=\"width: 20px; height: 20px;background-color: rgb(200, 200, 200);\"></td><td title=\"Index: [0, 44]&#10;Color: (200, 200, 200)\" style=\"width: 20px; height: 20px;background-color: rgb(200, 200, 200);\"></td><td title=\"Index: [0, 45]&#10;Color: (0, 0, 200)\" style=\"width: 20px; height: 20px;background-color: rgb(0, 0, 200);\"></td><td title=\"Index: [0, 46]&#10;Color: (200, 200, 200)\" style=\"width: 20px; height: 20px;background-color: rgb(200, 200, 200);\"></td><td title=\"Index: [0, 47]&#10;Color: (200, 200, 200)\" style=\"width: 20px; height: 20px;background-color: rgb(200, 200, 200);\"></td><td title=\"Index: [0, 48]&#10;Color: (200, 200, 200)\" style=\"width: 20px; height: 20px;background-color: rgb(200, 200, 200);\"></td><td title=\"Index: [0, 49]&#10;Color: (200, 0, 0)\" style=\"width: 20px; height: 20px;background-color: rgb(200, 0, 0);\"></td><td title=\"Index: [0, 50]&#10;Color: (200, 0, 0)\" style=\"width: 20px; height: 20px;background-color: rgb(200, 0, 0);\"></td><td title=\"Index: [0, 51]&#10;Color: (200, 0, 200)\" style=\"width: 20px; height: 20px;background-color: rgb(200, 0, 200);\"></td><td title=\"Index: [0, 52]&#10;Color: (200, 200, 200)\" style=\"width: 20px; height: 20px;background-color: rgb(200, 200, 200);\"></td><td title=\"Index: [0, 53]&#10;Color: (200, 0, 0)\" style=\"width: 20px; height: 20px;background-color: rgb(200, 0, 0);\"></td><td title=\"Index: [0, 54]&#10;Color: (200, 200, 200)\" style=\"width: 20px; height: 20px;background-color: rgb(200, 200, 200);\"></td><td title=\"Index: [0, 55]&#10;Color: (200, 200, 200)\" style=\"width: 20px; height: 20px;background-color: rgb(200, 200, 200);\"></td><td title=\"Index: [0, 56]&#10;Color: (200, 200, 200)\" style=\"width: 20px; height: 20px;background-color: rgb(200, 200, 200);\"></td><td title=\"Index: [0, 57]&#10;Color: (0, 0, 200)\" style=\"width: 20px; height: 20px;background-color: rgb(0, 0, 200);\"></td><td title=\"Index: [0, 58]&#10;Color: (200, 0, 200)\" style=\"width: 20px; height: 20px;background-color: rgb(200, 0, 200);\"></td><td title=\"Index: [0, 59]&#10;Color: (200, 200, 200)\" style=\"width: 20px; height: 20px;background-color: rgb(200, 200, 200);\"></td><td title=\"Index: [0, 60]&#10;Color: (200, 200, 200)\" style=\"width: 20px; height: 20px;background-color: rgb(200, 200, 200);\"></td><td title=\"Index: [0, 61]&#10;Color: (200, 200, 200)\" style=\"width: 20px; height: 20px;background-color: rgb(200, 200, 200);\"></td><td title=\"Index: [0, 62]&#10;Color: (200, 0, 0)\" style=\"width: 20px; height: 20px;background-color: rgb(200, 0, 0);\"></td><td title=\"Index: [0, 63]&#10;Color: (200, 200, 200)\" style=\"width: 20px; height: 20px;background-color: rgb(200, 200, 200);\"></td><td title=\"Index: [0, 64]&#10;Color: (0, 0, 200)\" style=\"width: 20px; height: 20px;background-color: rgb(0, 0, 200);\"></td><td title=\"Index: [0, 65]&#10;Color: (200, 0, 0)\" style=\"width: 20px; height: 20px;background-color: rgb(200, 0, 0);\"></td><td title=\"Index: [0, 66]&#10;Color: (200, 200, 200)\" style=\"width: 20px; height: 20px;background-color: rgb(200, 200, 200);\"></td><td title=\"Index: [0, 67]&#10;Color: (0, 0, 200)\" style=\"width: 20px; height: 20px;background-color: rgb(0, 0, 200);\"></td><td title=\"Index: [0, 68]&#10;Color: (200, 0, 0)\" style=\"width: 20px; height: 20px;background-color: rgb(200, 0, 0);\"></td><td title=\"Index: [0, 69]&#10;Color: (200, 200, 200)\" style=\"width: 20px; height: 20px;background-color: rgb(200, 200, 200);\"></td></tr></tbody></table>",
          "text/plain": "<ipythonblocks.ipythonblocks.BlockGrid at 0x7f69400956d8>"
         },
         "metadata": {},
         "output_type": "display_data"
        }
       ]
      }
     },
     "0e4902d0d31a46498ac7f22a17a8bbcb": {
      "model_module": "@jupyter-widgets/controls",
      "model_module_version": "1.2.0",
      "model_name": "SliderStyleModel",
      "state": {
       "description_width": ""
      }
     },
     "0e7ee56fa580424a9d68321d7e8f6ef5": {
      "model_module": "@jupyter-widgets/controls",
      "model_module_version": "1.2.0",
      "model_name": "CheckboxModel",
      "state": {
       "description": "focusEstResident",
       "disabled": false,
       "layout": "IPY_MODEL_e9b68ce2de2143d3980eb6ea4279caa4",
       "style": "IPY_MODEL_a549960904994d32a977c0211ac9bae7",
       "value": false
      }
     },
     "0ec38ecd7f1248ca8eaff3776c0d9ec2": {
      "model_module": "@jupyter-widgets/controls",
      "model_module_version": "1.2.0",
      "model_name": "SliderStyleModel",
      "state": {
       "description_width": ""
      }
     },
     "0f18b70bd0644a3fa21d9171ada7fcfb": {
      "model_module": "@jupyter-widgets/base",
      "model_module_version": "1.0.0",
      "model_name": "LayoutModel",
      "state": {}
     },
     "0fdd4b16bb0444199b9a03ad238fd04e": {
      "model_module": "@jupyter-widgets/base",
      "model_module_version": "1.0.0",
      "model_name": "LayoutModel",
      "state": {}
     },
     "106716682d8b42879d4f770568ec7867": {
      "model_module": "@jupyter-widgets/base",
      "model_module_version": "1.0.0",
      "model_name": "LayoutModel",
      "state": {}
     },
     "108960af61a74798822791282de2314f": {
      "model_module": "@jupyter-widgets/controls",
      "model_module_version": "1.2.0",
      "model_name": "SliderStyleModel",
      "state": {
       "description_width": ""
      }
     },
     "112119ba69114a3ea77d289cc793fc6f": {
      "model_module": "@jupyter-widgets/controls",
      "model_module_version": "1.2.0",
      "model_name": "CheckboxModel",
      "state": {
       "description": "focusEstResident",
       "disabled": false,
       "layout": "IPY_MODEL_0cd768b022c94cc482e399b6a0c1099c",
       "style": "IPY_MODEL_0431658f79454b68b49c3efa24ded0e7",
       "value": false
      }
     },
     "1150c8ae9d964b4e860788e53d5a503d": {
      "model_module": "@jupyter-widgets/base",
      "model_module_version": "1.0.0",
      "model_name": "LayoutModel",
      "state": {}
     },
     "11932901715f40a8b9882fea57df7d56": {
      "model_module": "@jupyter-widgets/base",
      "model_module_version": "1.0.0",
      "model_name": "LayoutModel",
      "state": {}
     },
     "11aab79e6f0f4d1b9e871eb25f91bd78": {
      "model_module": "@jupyter-widgets/controls",
      "model_module_version": "1.2.0",
      "model_name": "SliderStyleModel",
      "state": {
       "description_width": ""
      }
     },
     "11bbe4eceff64fb18dbecc2978a867fb": {
      "model_module": "@jupyter-widgets/base",
      "model_module_version": "1.0.0",
      "model_name": "LayoutModel",
      "state": {}
     },
     "12288d0ddbde4c7a8dd722d9c2a53109": {
      "model_module": "@jupyter-widgets/base",
      "model_module_version": "1.0.0",
      "model_name": "LayoutModel",
      "state": {}
     },
     "1231a5fbc196420c8a63410af730054d": {
      "model_module": "@jupyter-widgets/base",
      "model_module_version": "1.0.0",
      "model_name": "LayoutModel",
      "state": {}
     },
     "1341cb9f361b4dd898ff8ee358eb8c3c": {
      "model_module": "@jupyter-widgets/controls",
      "model_module_version": "1.2.0",
      "model_name": "IntSliderModel",
      "state": {
       "description": "taille",
       "layout": "IPY_MODEL_2917cecf01964676b752cd64aa0f1219",
       "max": 500,
       "min": 1,
       "style": "IPY_MODEL_8d3da0e404b34fd596dd2669149a3a2d",
       "value": 70
      }
     },
     "13e4b94726f84a88a0d88c993d6a4904": {
      "model_module": "@jupyter-widgets/controls",
      "model_module_version": "1.2.0",
      "model_name": "IntSliderModel",
      "state": {
       "description": "random_seed",
       "layout": "IPY_MODEL_45ba52dd80ed4aafa56c7d1a465ab678",
       "max": 1000,
       "style": "IPY_MODEL_bdfd511255c34a37bb9092a27b7415a5"
      }
     },
     "14415f6fa18d40c485b9bbf028a968ac": {
      "model_module": "@jupyter-widgets/base",
      "model_module_version": "1.0.0",
      "model_name": "LayoutModel",
      "state": {}
     },
     "15758a304aa94f538edfe0650a3d9287": {
      "model_module": "@jupyter-widgets/controls",
      "model_module_version": "1.2.0",
      "model_name": "IntSliderModel",
      "state": {
       "description": "random_seed",
       "layout": "IPY_MODEL_5364a9709a0d4350bea1247e54e700f6",
       "max": 1000,
       "style": "IPY_MODEL_2dcf0696e6f548c081d9908160eab639"
      }
     },
     "15a0b6f88c6342f282a9660cd9ab5601": {
      "model_module": "@jupyter-widgets/controls",
      "model_module_version": "1.2.0",
      "model_name": "IntSliderModel",
      "state": {
       "description": "random_seed",
       "layout": "IPY_MODEL_c814f391094d478ebece078b67fe255f",
       "max": 1000,
       "style": "IPY_MODEL_e308ad1d14464c2596b283a2e929198c"
      }
     },
     "15b237cf7ce947aa96b3f0d0127fc078": {
      "model_module": "@jupyter-widgets/controls",
      "model_module_version": "1.2.0",
      "model_name": "IntSliderModel",
      "state": {
       "description": "rangDuFocus",
       "layout": "IPY_MODEL_17407acdd6dd4e308076641eb1439e29",
       "max": 200,
       "min": 1,
       "style": "IPY_MODEL_dfe45955987a44c192279782a54f68e8",
       "value": 1
      }
     },
     "160c19a1ab2144e7b22174a721dbbca9": {
      "model_module": "@jupyter-widgets/controls",
      "model_module_version": "1.2.0",
      "model_name": "SliderStyleModel",
      "state": {
       "description_width": ""
      }
     },
     "1626968aceca44debcbfea1ba98061a0": {
      "model_module": "@jupyter-widgets/controls",
      "model_module_version": "1.2.0",
      "model_name": "VBoxModel",
      "state": {
       "_dom_classes": [
        "widget-interact"
       ],
       "children": [
        "IPY_MODEL_53e3dc337d834b9ebd24e71c17d898f1",
        "IPY_MODEL_0b70efb0ed6842a786144a52cdf18fb0",
        "IPY_MODEL_a29f4626c72c49bab80249d1a3409fc8",
        "IPY_MODEL_41d465e43887420882e1e703ceba6324",
        "IPY_MODEL_bd62c48d31574a27a6cba20468ee269b",
        "IPY_MODEL_c1b13addcf074affbb6deaea33c8beae",
        "IPY_MODEL_cc13adc9c5f1488e90efdf996978894b",
        "IPY_MODEL_95b57bb2b0ad4b39accc1cd1425cebf0",
        "IPY_MODEL_76f9f8422e2249b5a95a1c89d0e45238",
        "IPY_MODEL_97004c8182df4c81936d78bf6e9b3c5b"
       ],
       "layout": "IPY_MODEL_97f7ed7762e148b79d32a6ac67effd37"
      }
     },
     "162b3eda218a4440b0087124a196cb94": {
      "model_module": "@jupyter-widgets/controls",
      "model_module_version": "1.2.0",
      "model_name": "SliderStyleModel",
      "state": {
       "description_width": ""
      }
     },
     "169fa971ccb047a498a444332069288f": {
      "model_module": "@jupyter-widgets/base",
      "model_module_version": "1.0.0",
      "model_name": "LayoutModel",
      "state": {}
     },
     "16ef2e3a9d7b4bbcb4ea61a4016e5597": {
      "model_module": "@jupyter-widgets/controls",
      "model_module_version": "1.2.0",
      "model_name": "IntSliderModel",
      "state": {
       "description": "taille",
       "layout": "IPY_MODEL_30db017bf58a478882062bc22a440e3d",
       "max": 200,
       "min": 1,
       "style": "IPY_MODEL_7d685bb3573a45e1bcf0130665be6486",
       "value": 10
      }
     },
     "17407acdd6dd4e308076641eb1439e29": {
      "model_module": "@jupyter-widgets/base",
      "model_module_version": "1.0.0",
      "model_name": "LayoutModel",
      "state": {}
     },
     "188e71ee9c354d42815a2e7a45888bc9": {
      "model_module": "@jupyter-widgets/controls",
      "model_module_version": "1.2.0",
      "model_name": "SliderStyleModel",
      "state": {
       "description_width": ""
      }
     },
     "18ccf61ca0ee48c4be745c6b86ddde23": {
      "model_module": "@jupyter-widgets/base",
      "model_module_version": "1.0.0",
      "model_name": "LayoutModel",
      "state": {}
     },
     "190de3e3985543e18af9313fe1a38224": {
      "model_module": "@jupyter-widgets/controls",
      "model_module_version": "1.2.0",
      "model_name": "SliderStyleModel",
      "state": {
       "description_width": ""
      }
     },
     "1952227b02e842f6b9b4171664ff735f": {
      "model_module": "@jupyter-widgets/base",
      "model_module_version": "1.0.0",
      "model_name": "LayoutModel",
      "state": {}
     },
     "195b7806fae749a68017a20fe940d620": {
      "model_module": "@jupyter-widgets/base",
      "model_module_version": "1.0.0",
      "model_name": "LayoutModel",
      "state": {}
     },
     "1a32471e412443bf9f0ba4fe261f8f4b": {
      "model_module": "@jupyter-widgets/base",
      "model_module_version": "1.0.0",
      "model_name": "LayoutModel",
      "state": {}
     },
     "1a9247d128e54cf29259d981d6e6439b": {
      "model_module": "@jupyter-widgets/base",
      "model_module_version": "1.0.0",
      "model_name": "LayoutModel",
      "state": {}
     },
     "1b803105ec424237ac3785ab8802bfb1": {
      "model_module": "@jupyter-widgets/controls",
      "model_module_version": "1.2.0",
      "model_name": "IntSliderModel",
      "state": {
       "description": "random_seed",
       "layout": "IPY_MODEL_4f031664ddac4ab1a36067262470d9be",
       "max": 1000,
       "style": "IPY_MODEL_f5995712891b4dacadfb586ecf67ebf2",
       "value": 249
      }
     },
     "1bf4b21b2d21414899b5e7478e8a386a": {
      "model_module": "@jupyter-widgets/controls",
      "model_module_version": "1.2.0",
      "model_name": "SliderStyleModel",
      "state": {
       "description_width": ""
      }
     },
     "1ccadeb516304fafad3f50d05d4e9cfe": {
      "model_module": "@jupyter-widgets/base",
      "model_module_version": "1.0.0",
      "model_name": "LayoutModel",
      "state": {}
     },
     "1ce4adf0fe774968a44e247dffc36339": {
      "model_module": "@jupyter-widgets/controls",
      "model_module_version": "1.2.0",
      "model_name": "SliderStyleModel",
      "state": {
       "description_width": ""
      }
     },
     "1d3a61ca27e54ab59a7f56dcd7ee006f": {
      "model_module": "@jupyter-widgets/controls",
      "model_module_version": "1.2.0",
      "model_name": "SliderStyleModel",
      "state": {
       "description_width": ""
      }
     },
     "1d50082d4cd84cdf8cf7d409ea258cb2": {
      "model_module": "@jupyter-widgets/base",
      "model_module_version": "1.0.0",
      "model_name": "LayoutModel",
      "state": {}
     },
     "1dbd42e91b0d4a78a20d3e3164c30a66": {
      "model_module": "@jupyter-widgets/controls",
      "model_module_version": "1.2.0",
      "model_name": "IntSliderModel",
      "state": {
       "description": "rangDuFocus",
       "layout": "IPY_MODEL_b01659a419474c778de09d38ae21b1e3",
       "max": 200,
       "min": 1,
       "style": "IPY_MODEL_86c95d364ded4be2ad154392f0e4f792",
       "value": 1
      }
     },
     "1e547b3e6cb448c49defa65211d3d746": {
      "model_module": "@jupyter-widgets/controls",
      "model_module_version": "1.2.0",
      "model_name": "IntSliderModel",
      "state": {
       "description": "taille",
       "layout": "IPY_MODEL_b48e5706f75f4aa09d2c30b04ebf9207",
       "max": 500,
       "min": 1,
       "style": "IPY_MODEL_d01fc841b6a248609c1704acd8d1563b",
       "value": 70
      }
     },
     "1e652d2f962e42ae8dc65022c4858f81": {
      "model_module": "@jupyter-widgets/controls",
      "model_module_version": "1.2.0",
      "model_name": "SliderStyleModel",
      "state": {
       "description_width": ""
      }
     },
     "1eac48537388434b85f1a59da5083e19": {
      "model_module": "@jupyter-widgets/base",
      "model_module_version": "1.0.0",
      "model_name": "LayoutModel",
      "state": {}
     },
     "1eb48c270dfc48df98f1d0fd16cad4fa": {
      "model_module": "@jupyter-widgets/controls",
      "model_module_version": "1.2.0",
      "model_name": "IntSliderModel",
      "state": {
       "description": "rangDuFocus",
       "layout": "IPY_MODEL_760be3fedc574dc687b894bbee9b50da",
       "max": 500,
       "min": 1,
       "style": "IPY_MODEL_44cc301efbcb4420be6bff54beacbb0c",
       "value": 1
      }
     },
     "1ecb8a8b7b864147b509aea96ab5f03e": {
      "model_module": "@jupyter-widgets/controls",
      "model_module_version": "1.2.0",
      "model_name": "SliderStyleModel",
      "state": {
       "description_width": ""
      }
     },
     "1f1ac1850e404275a027aa67eadb799d": {
      "model_module": "@jupyter-widgets/controls",
      "model_module_version": "1.2.0",
      "model_name": "SliderStyleModel",
      "state": {
       "description_width": ""
      }
     },
     "1f1c2da19df44afd96ebb1d9127f4ce2": {
      "model_module": "@jupyter-widgets/controls",
      "model_module_version": "1.2.0",
      "model_name": "SliderStyleModel",
      "state": {
       "description_width": ""
      }
     },
     "1f7417e26df44d9f9f1fbea979dbfcd5": {
      "model_module": "@jupyter-widgets/controls",
      "model_module_version": "1.2.0",
      "model_name": "SliderStyleModel",
      "state": {
       "description_width": ""
      }
     },
     "1f82f91d1ce44b61a647b60bb8b677fb": {
      "model_module": "@jupyter-widgets/controls",
      "model_module_version": "1.2.0",
      "model_name": "IntSliderModel",
      "state": {
       "description": "tauxMinBoursiersPourcents",
       "layout": "IPY_MODEL_2e5538747e58489993ede0f304485a32",
       "style": "IPY_MODEL_4166a51e0064449fb1f49ba7c2f098fd",
       "value": 10
      }
     },
     "1fbba80883764bc289cbad85136c40e6": {
      "model_module": "@jupyter-widgets/controls",
      "model_module_version": "1.2.0",
      "model_name": "IntSliderModel",
      "state": {
       "description": "tauxMinResidentsPourcents",
       "layout": "IPY_MODEL_8c972bcf184f409fbc0ea8cea8d97561",
       "style": "IPY_MODEL_27961b89c5ec41f8b9c69d61bb49ecea"
      }
     },
     "1fcc9cf58bd0448e8359881ba2b4023b": {
      "model_module": "@jupyter-widgets/base",
      "model_module_version": "1.0.0",
      "model_name": "LayoutModel",
      "state": {}
     },
     "1fd7a14068b748f7b809b2822543f2f0": {
      "model_module": "@jupyter-widgets/base",
      "model_module_version": "1.0.0",
      "model_name": "LayoutModel",
      "state": {}
     },
     "207b9f58102d455a8a46ec80cb2ab633": {
      "model_module": "@jupyter-widgets/controls",
      "model_module_version": "1.2.0",
      "model_name": "SliderStyleModel",
      "state": {
       "description_width": ""
      }
     },
     "20950bedb64241898217962b98fe5df5": {
      "model_module": "@jupyter-widgets/controls",
      "model_module_version": "1.2.0",
      "model_name": "VBoxModel",
      "state": {
       "_dom_classes": [
        "widget-interact"
       ],
       "children": [
        "IPY_MODEL_20dad9ba77a24776a0630e12b67894ad",
        "IPY_MODEL_e8289189e36b4af08e36e3abb28a9430",
        "IPY_MODEL_7b29a312bd2941b5869de026c8cd6ac3",
        "IPY_MODEL_e8bff03af45545bdb465f319eeeb1f69",
        "IPY_MODEL_1eb48c270dfc48df98f1d0fd16cad4fa",
        "IPY_MODEL_5138d11b9a6147d7902d130792066cd3",
        "IPY_MODEL_0219e2fe9b074c8da715357dd0dad7ae",
        "IPY_MODEL_02e205ca5b5c440985cfdb5b5f8b2c31",
        "IPY_MODEL_80bc1493a46c480eab5b3068f7115a4c",
        "IPY_MODEL_7815f7754d2d4945932e6dfdc0d84c03"
       ],
       "layout": "IPY_MODEL_a537d9131f65447585079f30291f8a7b"
      }
     },
     "20a76923ac9d4a03a894f230a48a6cb0": {
      "model_module": "@jupyter-widgets/base",
      "model_module_version": "1.0.0",
      "model_name": "LayoutModel",
      "state": {}
     },
     "20dad9ba77a24776a0630e12b67894ad": {
      "model_module": "@jupyter-widgets/controls",
      "model_module_version": "1.2.0",
      "model_name": "IntSliderModel",
      "state": {
       "description": "taille",
       "layout": "IPY_MODEL_2ea39194c9f14724a8af55365eb9b5f7",
       "max": 500,
       "min": 1,
       "style": "IPY_MODEL_e7f5dcc1781b40ee804c4c03497b8fd7",
       "value": 5
      }
     },
     "2127547f24164131ad9078b1f65d0cd2": {
      "model_module": "@jupyter-widgets/base",
      "model_module_version": "1.0.0",
      "model_name": "LayoutModel",
      "state": {}
     },
     "219cf5ba54684ac3b3c03884ea3f210c": {
      "model_module": "@jupyter-widgets/output",
      "model_module_version": "1.0.0",
      "model_name": "OutputModel",
      "state": {
       "layout": "IPY_MODEL_ef9d49aa41bf4ce3937aee73e4e1c871",
       "outputs": [
        {
         "data": {
          "text/html": "<style type=\"text/css\">table.blockgrid {border: none;} .blockgrid tr {border: none;} .blockgrid td {padding: 0px;} #blocks8f900e19-65b4-4c95-844e-aef2d9ab9ce7 td {border: 1px solid white;}</style><table id=\"blocks8f900e19-65b4-4c95-844e-aef2d9ab9ce7\" class=\"blockgrid\"><tbody><tr><td title=\"Index: [0, 0]&#10;Color: (200, 200, 200)\" style=\"width: 20px; height: 20px;background-color: rgb(200, 200, 200);\"></td><td title=\"Index: [0, 1]&#10;Color: (200, 200, 200)\" style=\"width: 20px; height: 20px;background-color: rgb(200, 200, 200);\"></td><td title=\"Index: [0, 2]&#10;Color: (200, 0, 0)\" style=\"width: 20px; height: 20px;background-color: rgb(200, 0, 0);\"></td><td title=\"Index: [0, 3]&#10;Color: (200, 200, 200)\" style=\"width: 20px; height: 20px;background-color: rgb(200, 200, 200);\"></td><td title=\"Index: [0, 4]&#10;Color: (200, 200, 200)\" style=\"width: 20px; height: 20px;background-color: rgb(200, 200, 200);\"></td><td title=\"Index: [0, 5]&#10;Color: (200, 0, 0)\" style=\"width: 20px; height: 20px;background-color: rgb(200, 0, 0);\"></td><td title=\"Index: [0, 6]&#10;Color: (200, 200, 200)\" style=\"width: 20px; height: 20px;background-color: rgb(200, 200, 200);\"></td><td title=\"Index: [0, 7]&#10;Color: (200, 200, 200)\" style=\"width: 20px; height: 20px;background-color: rgb(200, 200, 200);\"></td><td title=\"Index: [0, 8]&#10;Color: (200, 200, 200)\" style=\"width: 20px; height: 20px;background-color: rgb(200, 200, 200);\"></td><td title=\"Index: [0, 9]&#10;Color: (0, 0, 200)\" style=\"width: 20px; height: 20px;background-color: rgb(0, 0, 200);\"></td><td title=\"Index: [0, 10]&#10;Color: (200, 200, 200)\" style=\"width: 20px; height: 20px;background-color: rgb(200, 200, 200);\"></td><td title=\"Index: [0, 11]&#10;Color: (200, 200, 200)\" style=\"width: 20px; height: 20px;background-color: rgb(200, 200, 200);\"></td><td title=\"Index: [0, 12]&#10;Color: (200, 200, 200)\" style=\"width: 20px; height: 20px;background-color: rgb(200, 200, 200);\"></td><td title=\"Index: [0, 13]&#10;Color: (200, 0, 0)\" style=\"width: 20px; height: 20px;background-color: rgb(200, 0, 0);\"></td><td title=\"Index: [0, 14]&#10;Color: (200, 200, 200)\" style=\"width: 20px; height: 20px;background-color: rgb(200, 200, 200);\"></td><td title=\"Index: [0, 15]&#10;Color: (0, 0, 200)\" style=\"width: 20px; height: 20px;background-color: rgb(0, 0, 200);\"></td><td title=\"Index: [0, 16]&#10;Color: (200, 200, 200)\" style=\"width: 20px; height: 20px;background-color: rgb(200, 200, 200);\"></td><td title=\"Index: [0, 17]&#10;Color: (200, 0, 0)\" style=\"width: 20px; height: 20px;background-color: rgb(200, 0, 0);\"></td><td title=\"Index: [0, 18]&#10;Color: (200, 200, 200)\" style=\"width: 20px; height: 20px;background-color: rgb(200, 200, 200);\"></td><td title=\"Index: [0, 19]&#10;Color: (200, 0, 200)\" style=\"width: 20px; height: 20px;background-color: rgb(200, 0, 200);\"></td><td title=\"Index: [0, 20]&#10;Color: (200, 0, 0)\" style=\"width: 20px; height: 20px;background-color: rgb(200, 0, 0);\"></td><td title=\"Index: [0, 21]&#10;Color: (200, 200, 200)\" style=\"width: 20px; height: 20px;background-color: rgb(200, 200, 200);\"></td><td title=\"Index: [0, 22]&#10;Color: (200, 200, 200)\" style=\"width: 20px; height: 20px;background-color: rgb(200, 200, 200);\"></td><td title=\"Index: [0, 23]&#10;Color: (200, 200, 200)\" style=\"width: 20px; height: 20px;background-color: rgb(200, 200, 200);\"></td><td title=\"Index: [0, 24]&#10;Color: (200, 200, 200)\" style=\"width: 20px; height: 20px;background-color: rgb(200, 200, 200);\"></td><td title=\"Index: [0, 25]&#10;Color: (0, 0, 200)\" style=\"width: 20px; height: 20px;background-color: rgb(0, 0, 200);\"></td><td title=\"Index: [0, 26]&#10;Color: (200, 200, 200)\" style=\"width: 20px; height: 20px;background-color: rgb(200, 200, 200);\"></td><td title=\"Index: [0, 27]&#10;Color: (200, 200, 200)\" style=\"width: 20px; height: 20px;background-color: rgb(200, 200, 200);\"></td><td title=\"Index: [0, 28]&#10;Color: (200, 200, 200)\" style=\"width: 20px; height: 20px;background-color: rgb(200, 200, 200);\"></td><td title=\"Index: [0, 29]&#10;Color: (200, 200, 200)\" style=\"width: 20px; height: 20px;background-color: rgb(200, 200, 200);\"></td><td title=\"Index: [0, 30]&#10;Color: (200, 0, 0)\" style=\"width: 20px; height: 20px;background-color: rgb(200, 0, 0);\"></td><td title=\"Index: [0, 31]&#10;Color: (200, 0, 0)\" style=\"width: 20px; height: 20px;background-color: rgb(200, 0, 0);\"></td><td title=\"Index: [0, 32]&#10;Color: (200, 0, 0)\" style=\"width: 20px; height: 20px;background-color: rgb(200, 0, 0);\"></td><td title=\"Index: [0, 33]&#10;Color: (200, 200, 200)\" style=\"width: 20px; height: 20px;background-color: rgb(200, 200, 200);\"></td><td title=\"Index: [0, 34]&#10;Color: (200, 200, 200)\" style=\"width: 20px; height: 20px;background-color: rgb(200, 200, 200);\"></td><td title=\"Index: [0, 35]&#10;Color: (200, 200, 200)\" style=\"width: 20px; height: 20px;background-color: rgb(200, 200, 200);\"></td><td title=\"Index: [0, 36]&#10;Color: (0, 0, 200)\" style=\"width: 20px; height: 20px;background-color: rgb(0, 0, 200);\"></td><td title=\"Index: [0, 37]&#10;Color: (0, 0, 200)\" style=\"width: 20px; height: 20px;background-color: rgb(0, 0, 200);\"></td><td title=\"Index: [0, 38]&#10;Color: (0, 0, 200)\" style=\"width: 20px; height: 20px;background-color: rgb(0, 0, 200);\"></td><td title=\"Index: [0, 39]&#10;Color: (200, 200, 200)\" style=\"width: 20px; height: 20px;background-color: rgb(200, 200, 200);\"></td><td title=\"Index: [0, 40]&#10;Color: (0, 0, 200)\" style=\"width: 20px; height: 20px;background-color: rgb(0, 0, 200);\"></td><td title=\"Index: [0, 41]&#10;Color: (200, 200, 200)\" style=\"width: 20px; height: 20px;background-color: rgb(200, 200, 200);\"></td><td title=\"Index: [0, 42]&#10;Color: (200, 0, 0)\" style=\"width: 20px; height: 20px;background-color: rgb(200, 0, 0);\"></td><td title=\"Index: [0, 43]&#10;Color: (0, 0, 200)\" style=\"width: 20px; height: 20px;background-color: rgb(0, 0, 200);\"></td><td title=\"Index: [0, 44]&#10;Color: (200, 200, 200)\" style=\"width: 20px; height: 20px;background-color: rgb(200, 200, 200);\"></td><td title=\"Index: [0, 45]&#10;Color: (200, 200, 200)\" style=\"width: 20px; height: 20px;background-color: rgb(200, 200, 200);\"></td><td title=\"Index: [0, 46]&#10;Color: (200, 0, 200)\" style=\"width: 20px; height: 20px;background-color: rgb(200, 0, 200);\"></td><td title=\"Index: [0, 47]&#10;Color: (200, 200, 200)\" style=\"width: 20px; height: 20px;background-color: rgb(200, 200, 200);\"></td><td title=\"Index: [0, 48]&#10;Color: (200, 0, 0)\" style=\"width: 20px; height: 20px;background-color: rgb(200, 0, 0);\"></td><td title=\"Index: [0, 49]&#10;Color: (200, 200, 200)\" style=\"width: 20px; height: 20px;background-color: rgb(200, 200, 200);\"></td><td title=\"Index: [0, 50]&#10;Color: (200, 0, 0)\" style=\"width: 20px; height: 20px;background-color: rgb(200, 0, 0);\"></td><td title=\"Index: [0, 51]&#10;Color: (200, 200, 200)\" style=\"width: 20px; height: 20px;background-color: rgb(200, 200, 200);\"></td><td title=\"Index: [0, 52]&#10;Color: (200, 200, 200)\" style=\"width: 20px; height: 20px;background-color: rgb(200, 200, 200);\"></td><td title=\"Index: [0, 53]&#10;Color: (200, 200, 200)\" style=\"width: 20px; height: 20px;background-color: rgb(200, 200, 200);\"></td><td title=\"Index: [0, 54]&#10;Color: (0, 0, 200)\" style=\"width: 20px; height: 20px;background-color: rgb(0, 0, 200);\"></td><td title=\"Index: [0, 55]&#10;Color: (200, 0, 0)\" style=\"width: 20px; height: 20px;background-color: rgb(200, 0, 0);\"></td><td title=\"Index: [0, 56]&#10;Color: (200, 200, 200)\" style=\"width: 20px; height: 20px;background-color: rgb(200, 200, 200);\"></td><td title=\"Index: [0, 57]&#10;Color: (200, 200, 200)\" style=\"width: 20px; height: 20px;background-color: rgb(200, 200, 200);\"></td><td title=\"Index: [0, 58]&#10;Color: (200, 200, 200)\" style=\"width: 20px; height: 20px;background-color: rgb(200, 200, 200);\"></td><td title=\"Index: [0, 59]&#10;Color: (200, 200, 200)\" style=\"width: 20px; height: 20px;background-color: rgb(200, 200, 200);\"></td><td title=\"Index: [0, 60]&#10;Color: (200, 200, 200)\" style=\"width: 20px; height: 20px;background-color: rgb(200, 200, 200);\"></td><td title=\"Index: [0, 61]&#10;Color: (200, 200, 200)\" style=\"width: 20px; height: 20px;background-color: rgb(200, 200, 200);\"></td><td title=\"Index: [0, 62]&#10;Color: (200, 0, 200)\" style=\"width: 20px; height: 20px;background-color: rgb(200, 0, 200);\"></td><td title=\"Index: [0, 63]&#10;Color: (0, 0, 200)\" style=\"width: 20px; height: 20px;background-color: rgb(0, 0, 200);\"></td><td title=\"Index: [0, 64]&#10;Color: (200, 200, 200)\" style=\"width: 20px; height: 20px;background-color: rgb(200, 200, 200);\"></td><td title=\"Index: [0, 65]&#10;Color: (200, 200, 200)\" style=\"width: 20px; height: 20px;background-color: rgb(200, 200, 200);\"></td><td title=\"Index: [0, 66]&#10;Color: (200, 200, 200)\" style=\"width: 20px; height: 20px;background-color: rgb(200, 200, 200);\"></td><td title=\"Index: [0, 67]&#10;Color: (200, 0, 0)\" style=\"width: 20px; height: 20px;background-color: rgb(200, 0, 0);\"></td><td title=\"Index: [0, 68]&#10;Color: (200, 200, 200)\" style=\"width: 20px; height: 20px;background-color: rgb(200, 200, 200);\"></td><td title=\"Index: [0, 69]&#10;Color: (200, 0, 0)\" style=\"width: 20px; height: 20px;background-color: rgb(200, 0, 0);\"></td><td title=\"Index: [0, 70]&#10;Color: (200, 0, 0)\" style=\"width: 20px; height: 20px;background-color: rgb(200, 0, 0);\"></td><td title=\"Index: [0, 71]&#10;Color: (0, 0, 200)\" style=\"width: 20px; height: 20px;background-color: rgb(0, 0, 200);\"></td><td title=\"Index: [0, 72]&#10;Color: (200, 200, 200)\" style=\"width: 20px; height: 20px;background-color: rgb(200, 200, 200);\"></td><td title=\"Index: [0, 73]&#10;Color: (0, 0, 200)\" style=\"width: 20px; height: 20px;background-color: rgb(0, 0, 200);\"></td><td title=\"Index: [0, 74]&#10;Color: (200, 200, 200)\" style=\"width: 20px; height: 20px;background-color: rgb(200, 200, 200);\"></td><td title=\"Index: [0, 75]&#10;Color: (200, 200, 200)\" style=\"width: 20px; height: 20px;background-color: rgb(200, 200, 200);\"></td><td title=\"Index: [0, 76]&#10;Color: (0, 0, 200)\" style=\"width: 20px; height: 20px;background-color: rgb(0, 0, 200);\"></td><td title=\"Index: [0, 77]&#10;Color: (200, 200, 200)\" style=\"width: 20px; height: 20px;background-color: rgb(200, 200, 200);\"></td><td title=\"Index: [0, 78]&#10;Color: (200, 200, 200)\" style=\"width: 20px; height: 20px;background-color: rgb(200, 200, 200);\"></td><td title=\"Index: [0, 79]&#10;Color: (200, 200, 200)\" style=\"width: 20px; height: 20px;background-color: rgb(200, 200, 200);\"></td><td title=\"Index: [0, 80]&#10;Color: (200, 200, 200)\" style=\"width: 20px; height: 20px;background-color: rgb(200, 200, 200);\"></td><td title=\"Index: [0, 81]&#10;Color: (200, 200, 200)\" style=\"width: 20px; height: 20px;background-color: rgb(200, 200, 200);\"></td><td title=\"Index: [0, 82]&#10;Color: (200, 200, 200)\" style=\"width: 20px; height: 20px;background-color: rgb(200, 200, 200);\"></td><td title=\"Index: [0, 83]&#10;Color: (200, 200, 200)\" style=\"width: 20px; height: 20px;background-color: rgb(200, 200, 200);\"></td><td title=\"Index: [0, 84]&#10;Color: (0, 0, 200)\" style=\"width: 20px; height: 20px;background-color: rgb(0, 0, 200);\"></td><td title=\"Index: [0, 85]&#10;Color: (200, 200, 200)\" style=\"width: 20px; height: 20px;background-color: rgb(200, 200, 200);\"></td><td title=\"Index: [0, 86]&#10;Color: (0, 0, 200)\" style=\"width: 20px; height: 20px;background-color: rgb(0, 0, 200);\"></td><td title=\"Index: [0, 87]&#10;Color: (200, 200, 200)\" style=\"width: 20px; height: 20px;background-color: rgb(200, 200, 200);\"></td><td title=\"Index: [0, 88]&#10;Color: (200, 200, 200)\" style=\"width: 20px; height: 20px;background-color: rgb(200, 200, 200);\"></td><td title=\"Index: [0, 89]&#10;Color: (200, 200, 200)\" style=\"width: 20px; height: 20px;background-color: rgb(200, 200, 200);\"></td><td title=\"Index: [0, 90]&#10;Color: (0, 0, 200)\" style=\"width: 20px; height: 20px;background-color: rgb(0, 0, 200);\"></td><td title=\"Index: [0, 91]&#10;Color: (200, 0, 0)\" style=\"width: 20px; height: 20px;background-color: rgb(200, 0, 0);\"></td><td title=\"Index: [0, 92]&#10;Color: (200, 200, 200)\" style=\"width: 20px; height: 20px;background-color: rgb(200, 200, 200);\"></td><td title=\"Index: [0, 93]&#10;Color: (200, 200, 200)\" style=\"width: 20px; height: 20px;background-color: rgb(200, 200, 200);\"></td><td title=\"Index: [0, 94]&#10;Color: (200, 200, 200)\" style=\"width: 20px; height: 20px;background-color: rgb(200, 200, 200);\"></td><td title=\"Index: [0, 95]&#10;Color: (0, 0, 200)\" style=\"width: 20px; height: 20px;background-color: rgb(0, 0, 200);\"></td><td title=\"Index: [0, 96]&#10;Color: (200, 200, 200)\" style=\"width: 20px; height: 20px;background-color: rgb(200, 200, 200);\"></td><td title=\"Index: [0, 97]&#10;Color: (200, 0, 0)\" style=\"width: 20px; height: 20px;background-color: rgb(200, 0, 0);\"></td><td title=\"Index: [0, 98]&#10;Color: (200, 200, 200)\" style=\"width: 20px; height: 20px;background-color: rgb(200, 200, 200);\"></td><td title=\"Index: [0, 99]&#10;Color: (200, 200, 200)\" style=\"width: 20px; height: 20px;background-color: rgb(200, 200, 200);\"></td></tr></tbody></table>",
          "text/plain": "<ipythonblocks.ipythonblocks.BlockGrid at 0x7f694007bf28>"
         },
         "metadata": {},
         "output_type": "display_data"
        },
        {
         "data": {
          "text/html": "<style type=\"text/css\">table.blockgrid {border: none;} .blockgrid tr {border: none;} .blockgrid td {padding: 0px;} #blocks3a2bd16e-2675-4ebe-a8b8-696fec771ad0 td {border: 1px solid white;}</style><table id=\"blocks3a2bd16e-2675-4ebe-a8b8-696fec771ad0\" class=\"blockgrid\"><tbody><tr><td title=\"Index: [0, 0]&#10;Color: (200, 0, 0)\" style=\"width: 20px; height: 20px;background-color: rgb(200, 0, 0);\"></td><td title=\"Index: [0, 1]&#10;Color: (200, 200, 200)\" style=\"width: 20px; height: 20px;background-color: rgb(200, 200, 200);\"></td><td title=\"Index: [0, 2]&#10;Color: (200, 200, 200)\" style=\"width: 20px; height: 20px;background-color: rgb(200, 200, 200);\"></td><td title=\"Index: [0, 3]&#10;Color: (200, 200, 200)\" style=\"width: 20px; height: 20px;background-color: rgb(200, 200, 200);\"></td><td title=\"Index: [0, 4]&#10;Color: (200, 200, 200)\" style=\"width: 20px; height: 20px;background-color: rgb(200, 200, 200);\"></td><td title=\"Index: [0, 5]&#10;Color: (200, 200, 200)\" style=\"width: 20px; height: 20px;background-color: rgb(200, 200, 200);\"></td><td title=\"Index: [0, 6]&#10;Color: (200, 200, 200)\" style=\"width: 20px; height: 20px;background-color: rgb(200, 200, 200);\"></td><td title=\"Index: [0, 7]&#10;Color: (200, 200, 200)\" style=\"width: 20px; height: 20px;background-color: rgb(200, 200, 200);\"></td><td title=\"Index: [0, 8]&#10;Color: (200, 200, 200)\" style=\"width: 20px; height: 20px;background-color: rgb(200, 200, 200);\"></td><td title=\"Index: [0, 9]&#10;Color: (0, 0, 200)\" style=\"width: 20px; height: 20px;background-color: rgb(0, 0, 200);\"></td><td title=\"Index: [0, 10]&#10;Color: (200, 0, 200)\" style=\"width: 20px; height: 20px;background-color: rgb(200, 0, 200);\"></td><td title=\"Index: [0, 11]&#10;Color: (200, 200, 200)\" style=\"width: 20px; height: 20px;background-color: rgb(200, 200, 200);\"></td><td title=\"Index: [0, 12]&#10;Color: (200, 200, 200)\" style=\"width: 20px; height: 20px;background-color: rgb(200, 200, 200);\"></td><td title=\"Index: [0, 13]&#10;Color: (200, 200, 200)\" style=\"width: 20px; height: 20px;background-color: rgb(200, 200, 200);\"></td><td title=\"Index: [0, 14]&#10;Color: (200, 200, 200)\" style=\"width: 20px; height: 20px;background-color: rgb(200, 200, 200);\"></td><td title=\"Index: [0, 15]&#10;Color: (200, 200, 200)\" style=\"width: 20px; height: 20px;background-color: rgb(200, 200, 200);\"></td><td title=\"Index: [0, 16]&#10;Color: (200, 200, 200)\" style=\"width: 20px; height: 20px;background-color: rgb(200, 200, 200);\"></td><td title=\"Index: [0, 17]&#10;Color: (200, 0, 0)\" style=\"width: 20px; height: 20px;background-color: rgb(200, 0, 0);\"></td><td title=\"Index: [0, 18]&#10;Color: (0, 0, 200)\" style=\"width: 20px; height: 20px;background-color: rgb(0, 0, 200);\"></td><td title=\"Index: [0, 19]&#10;Color: (200, 200, 200)\" style=\"width: 20px; height: 20px;background-color: rgb(200, 200, 200);\"></td><td title=\"Index: [0, 20]&#10;Color: (200, 200, 200)\" style=\"width: 20px; height: 20px;background-color: rgb(200, 200, 200);\"></td><td title=\"Index: [0, 21]&#10;Color: (200, 200, 200)\" style=\"width: 20px; height: 20px;background-color: rgb(200, 200, 200);\"></td><td title=\"Index: [0, 22]&#10;Color: (200, 200, 200)\" style=\"width: 20px; height: 20px;background-color: rgb(200, 200, 200);\"></td><td title=\"Index: [0, 23]&#10;Color: (200, 200, 200)\" style=\"width: 20px; height: 20px;background-color: rgb(200, 200, 200);\"></td><td title=\"Index: [0, 24]&#10;Color: (200, 200, 200)\" style=\"width: 20px; height: 20px;background-color: rgb(200, 200, 200);\"></td><td title=\"Index: [0, 25]&#10;Color: (200, 200, 200)\" style=\"width: 20px; height: 20px;background-color: rgb(200, 200, 200);\"></td><td title=\"Index: [0, 26]&#10;Color: (0, 0, 200)\" style=\"width: 20px; height: 20px;background-color: rgb(0, 0, 200);\"></td><td title=\"Index: [0, 27]&#10;Color: (200, 0, 0)\" style=\"width: 20px; height: 20px;background-color: rgb(200, 0, 0);\"></td><td title=\"Index: [0, 28]&#10;Color: (200, 200, 200)\" style=\"width: 20px; height: 20px;background-color: rgb(200, 200, 200);\"></td><td title=\"Index: [0, 29]&#10;Color: (200, 200, 200)\" style=\"width: 20px; height: 20px;background-color: rgb(200, 200, 200);\"></td><td title=\"Index: [0, 30]&#10;Color: (200, 200, 200)\" style=\"width: 20px; height: 20px;background-color: rgb(200, 200, 200);\"></td><td title=\"Index: [0, 31]&#10;Color: (200, 200, 200)\" style=\"width: 20px; height: 20px;background-color: rgb(200, 200, 200);\"></td><td title=\"Index: [0, 32]&#10;Color: (200, 0, 0)\" style=\"width: 20px; height: 20px;background-color: rgb(200, 0, 0);\"></td><td title=\"Index: [0, 33]&#10;Color: (200, 0, 0)\" style=\"width: 20px; height: 20px;background-color: rgb(200, 0, 0);\"></td><td title=\"Index: [0, 34]&#10;Color: (200, 200, 200)\" style=\"width: 20px; height: 20px;background-color: rgb(200, 200, 200);\"></td><td title=\"Index: [0, 35]&#10;Color: (200, 200, 200)\" style=\"width: 20px; height: 20px;background-color: rgb(200, 200, 200);\"></td><td title=\"Index: [0, 36]&#10;Color: (200, 0, 0)\" style=\"width: 20px; height: 20px;background-color: rgb(200, 0, 0);\"></td><td title=\"Index: [0, 37]&#10;Color: (200, 200, 200)\" style=\"width: 20px; height: 20px;background-color: rgb(200, 200, 200);\"></td><td title=\"Index: [0, 38]&#10;Color: (200, 0, 0)\" style=\"width: 20px; height: 20px;background-color: rgb(200, 0, 0);\"></td><td title=\"Index: [0, 39]&#10;Color: (0, 0, 200)\" style=\"width: 20px; height: 20px;background-color: rgb(0, 0, 200);\"></td><td title=\"Index: [0, 40]&#10;Color: (0, 0, 200)\" style=\"width: 20px; height: 20px;background-color: rgb(0, 0, 200);\"></td><td title=\"Index: [0, 41]&#10;Color: (200, 200, 200)\" style=\"width: 20px; height: 20px;background-color: rgb(200, 200, 200);\"></td><td title=\"Index: [0, 42]&#10;Color: (0, 0, 200)\" style=\"width: 20px; height: 20px;background-color: rgb(0, 0, 200);\"></td><td title=\"Index: [0, 43]&#10;Color: (200, 200, 200)\" style=\"width: 20px; height: 20px;background-color: rgb(200, 200, 200);\"></td><td title=\"Index: [0, 44]&#10;Color: (200, 200, 200)\" style=\"width: 20px; height: 20px;background-color: rgb(200, 200, 200);\"></td><td title=\"Index: [0, 45]&#10;Color: (200, 0, 200)\" style=\"width: 20px; height: 20px;background-color: rgb(200, 0, 200);\"></td><td title=\"Index: [0, 46]&#10;Color: (200, 200, 200)\" style=\"width: 20px; height: 20px;background-color: rgb(200, 200, 200);\"></td><td title=\"Index: [0, 47]&#10;Color: (200, 200, 200)\" style=\"width: 20px; height: 20px;background-color: rgb(200, 200, 200);\"></td><td title=\"Index: [0, 48]&#10;Color: (200, 200, 200)\" style=\"width: 20px; height: 20px;background-color: rgb(200, 200, 200);\"></td><td title=\"Index: [0, 49]&#10;Color: (200, 0, 0)\" style=\"width: 20px; height: 20px;background-color: rgb(200, 0, 0);\"></td><td title=\"Index: [0, 50]&#10;Color: (200, 200, 200)\" style=\"width: 20px; height: 20px;background-color: rgb(200, 200, 200);\"></td><td title=\"Index: [0, 51]&#10;Color: (200, 0, 0)\" style=\"width: 20px; height: 20px;background-color: rgb(200, 0, 0);\"></td><td title=\"Index: [0, 52]&#10;Color: (200, 200, 200)\" style=\"width: 20px; height: 20px;background-color: rgb(200, 200, 200);\"></td><td title=\"Index: [0, 53]&#10;Color: (200, 0, 0)\" style=\"width: 20px; height: 20px;background-color: rgb(200, 0, 0);\"></td><td title=\"Index: [0, 54]&#10;Color: (200, 200, 200)\" style=\"width: 20px; height: 20px;background-color: rgb(200, 200, 200);\"></td><td title=\"Index: [0, 55]&#10;Color: (0, 0, 200)\" style=\"width: 20px; height: 20px;background-color: rgb(0, 0, 200);\"></td><td title=\"Index: [0, 56]&#10;Color: (200, 200, 200)\" style=\"width: 20px; height: 20px;background-color: rgb(200, 200, 200);\"></td><td title=\"Index: [0, 57]&#10;Color: (200, 200, 200)\" style=\"width: 20px; height: 20px;background-color: rgb(200, 200, 200);\"></td><td title=\"Index: [0, 58]&#10;Color: (200, 200, 200)\" style=\"width: 20px; height: 20px;background-color: rgb(200, 200, 200);\"></td><td title=\"Index: [0, 59]&#10;Color: (200, 200, 200)\" style=\"width: 20px; height: 20px;background-color: rgb(200, 200, 200);\"></td><td title=\"Index: [0, 60]&#10;Color: (0, 0, 200)\" style=\"width: 20px; height: 20px;background-color: rgb(0, 0, 200);\"></td><td title=\"Index: [0, 61]&#10;Color: (200, 0, 200)\" style=\"width: 20px; height: 20px;background-color: rgb(200, 0, 200);\"></td><td title=\"Index: [0, 62]&#10;Color: (200, 0, 0)\" style=\"width: 20px; height: 20px;background-color: rgb(200, 0, 0);\"></td><td title=\"Index: [0, 63]&#10;Color: (200, 200, 200)\" style=\"width: 20px; height: 20px;background-color: rgb(200, 200, 200);\"></td><td title=\"Index: [0, 64]&#10;Color: (200, 0, 0)\" style=\"width: 20px; height: 20px;background-color: rgb(200, 0, 0);\"></td><td title=\"Index: [0, 65]&#10;Color: (200, 0, 0)\" style=\"width: 20px; height: 20px;background-color: rgb(200, 0, 0);\"></td><td title=\"Index: [0, 66]&#10;Color: (200, 200, 200)\" style=\"width: 20px; height: 20px;background-color: rgb(200, 200, 200);\"></td><td title=\"Index: [0, 67]&#10;Color: (200, 200, 200)\" style=\"width: 20px; height: 20px;background-color: rgb(200, 200, 200);\"></td><td title=\"Index: [0, 68]&#10;Color: (0, 0, 200)\" style=\"width: 20px; height: 20px;background-color: rgb(0, 0, 200);\"></td><td title=\"Index: [0, 69]&#10;Color: (200, 200, 200)\" style=\"width: 20px; height: 20px;background-color: rgb(200, 200, 200);\"></td><td title=\"Index: [0, 70]&#10;Color: (0, 0, 200)\" style=\"width: 20px; height: 20px;background-color: rgb(0, 0, 200);\"></td><td title=\"Index: [0, 71]&#10;Color: (0, 0, 200)\" style=\"width: 20px; height: 20px;background-color: rgb(0, 0, 200);\"></td><td title=\"Index: [0, 72]&#10;Color: (200, 200, 200)\" style=\"width: 20px; height: 20px;background-color: rgb(200, 200, 200);\"></td><td title=\"Index: [0, 73]&#10;Color: (200, 200, 200)\" style=\"width: 20px; height: 20px;background-color: rgb(200, 200, 200);\"></td><td title=\"Index: [0, 74]&#10;Color: (200, 0, 0)\" style=\"width: 20px; height: 20px;background-color: rgb(200, 0, 0);\"></td><td title=\"Index: [0, 75]&#10;Color: (200, 200, 200)\" style=\"width: 20px; height: 20px;background-color: rgb(200, 200, 200);\"></td><td title=\"Index: [0, 76]&#10;Color: (200, 200, 200)\" style=\"width: 20px; height: 20px;background-color: rgb(200, 200, 200);\"></td><td title=\"Index: [0, 77]&#10;Color: (0, 0, 200)\" style=\"width: 20px; height: 20px;background-color: rgb(0, 0, 200);\"></td><td title=\"Index: [0, 78]&#10;Color: (0, 0, 200)\" style=\"width: 20px; height: 20px;background-color: rgb(0, 0, 200);\"></td><td title=\"Index: [0, 79]&#10;Color: (200, 0, 0)\" style=\"width: 20px; height: 20px;background-color: rgb(200, 0, 0);\"></td><td title=\"Index: [0, 80]&#10;Color: (200, 200, 200)\" style=\"width: 20px; height: 20px;background-color: rgb(200, 200, 200);\"></td><td title=\"Index: [0, 81]&#10;Color: (0, 0, 200)\" style=\"width: 20px; height: 20px;background-color: rgb(0, 0, 200);\"></td><td title=\"Index: [0, 82]&#10;Color: (200, 200, 200)\" style=\"width: 20px; height: 20px;background-color: rgb(200, 200, 200);\"></td><td title=\"Index: [0, 83]&#10;Color: (200, 200, 200)\" style=\"width: 20px; height: 20px;background-color: rgb(200, 200, 200);\"></td><td title=\"Index: [0, 84]&#10;Color: (200, 200, 200)\" style=\"width: 20px; height: 20px;background-color: rgb(200, 200, 200);\"></td><td title=\"Index: [0, 85]&#10;Color: (200, 200, 200)\" style=\"width: 20px; height: 20px;background-color: rgb(200, 200, 200);\"></td><td title=\"Index: [0, 86]&#10;Color: (200, 200, 200)\" style=\"width: 20px; height: 20px;background-color: rgb(200, 200, 200);\"></td><td title=\"Index: [0, 87]&#10;Color: (0, 0, 200)\" style=\"width: 20px; height: 20px;background-color: rgb(0, 0, 200);\"></td><td title=\"Index: [0, 88]&#10;Color: (200, 200, 200)\" style=\"width: 20px; height: 20px;background-color: rgb(200, 200, 200);\"></td><td title=\"Index: [0, 89]&#10;Color: (200, 200, 200)\" style=\"width: 20px; height: 20px;background-color: rgb(200, 200, 200);\"></td><td title=\"Index: [0, 90]&#10;Color: (0, 0, 200)\" style=\"width: 20px; height: 20px;background-color: rgb(0, 0, 200);\"></td><td title=\"Index: [0, 91]&#10;Color: (200, 200, 200)\" style=\"width: 20px; height: 20px;background-color: rgb(200, 200, 200);\"></td><td title=\"Index: [0, 92]&#10;Color: (200, 200, 200)\" style=\"width: 20px; height: 20px;background-color: rgb(200, 200, 200);\"></td><td title=\"Index: [0, 93]&#10;Color: (0, 0, 200)\" style=\"width: 20px; height: 20px;background-color: rgb(0, 0, 200);\"></td><td title=\"Index: [0, 94]&#10;Color: (200, 200, 200)\" style=\"width: 20px; height: 20px;background-color: rgb(200, 200, 200);\"></td><td title=\"Index: [0, 95]&#10;Color: (200, 200, 200)\" style=\"width: 20px; height: 20px;background-color: rgb(200, 200, 200);\"></td><td title=\"Index: [0, 96]&#10;Color: (200, 0, 0)\" style=\"width: 20px; height: 20px;background-color: rgb(200, 0, 0);\"></td><td title=\"Index: [0, 97]&#10;Color: (200, 0, 0)\" style=\"width: 20px; height: 20px;background-color: rgb(200, 0, 0);\"></td><td title=\"Index: [0, 98]&#10;Color: (200, 200, 200)\" style=\"width: 20px; height: 20px;background-color: rgb(200, 200, 200);\"></td><td title=\"Index: [0, 99]&#10;Color: (200, 200, 200)\" style=\"width: 20px; height: 20px;background-color: rgb(200, 200, 200);\"></td></tr></tbody></table>",
          "text/plain": "<ipythonblocks.ipythonblocks.BlockGrid at 0x7f69400956d8>"
         },
         "metadata": {},
         "output_type": "display_data"
        }
       ]
      }
     },
     "224f5b9fe5b742eb977ee1f514f22c07": {
      "model_module": "@jupyter-widgets/controls",
      "model_module_version": "1.2.0",
      "model_name": "IntSliderModel",
      "state": {
       "description": "rangDuFocus",
       "layout": "IPY_MODEL_deac092948cc40c5ae34bb42b64b566c",
       "max": 500,
       "min": 1,
       "style": "IPY_MODEL_b32412bca4ec4876a9f8c3b486fa3c78",
       "value": 1
      }
     },
     "22e0f9c0aca44a4f8665a07a1bf7845a": {
      "model_module": "@jupyter-widgets/controls",
      "model_module_version": "1.2.0",
      "model_name": "DescriptionStyleModel",
      "state": {
       "description_width": ""
      }
     },
     "2326896663824bcabd13ac678d0c05fa": {
      "model_module": "@jupyter-widgets/controls",
      "model_module_version": "1.2.0",
      "model_name": "IntSliderModel",
      "state": {
       "description": "tauxBoursiers",
       "layout": "IPY_MODEL_ee6d23e2f8084a988173ed2539a1cac9",
       "style": "IPY_MODEL_7e5f2ac53f164e42a7f3e94b351d3bed",
       "value": 29
      }
     },
     "23317caf19ca4009bd715be9739eb720": {
      "model_module": "@jupyter-widgets/base",
      "model_module_version": "1.0.0",
      "model_name": "LayoutModel",
      "state": {}
     },
     "233f914055b14336aa02152f59545aac": {
      "model_module": "@jupyter-widgets/base",
      "model_module_version": "1.0.0",
      "model_name": "LayoutModel",
      "state": {}
     },
     "23e882a40df64be4a5cfded8fabe41f4": {
      "model_module": "@jupyter-widgets/base",
      "model_module_version": "1.0.0",
      "model_name": "LayoutModel",
      "state": {}
     },
     "240782deda5e4a448af8a1dd20ba1a72": {
      "model_module": "@jupyter-widgets/controls",
      "model_module_version": "1.2.0",
      "model_name": "IntSliderModel",
      "state": {
       "description": "random_seed",
       "layout": "IPY_MODEL_58a3daa1c25f4b2f8f98b70cbcbefc47",
       "max": 1000,
       "style": "IPY_MODEL_e380572f874349439ebd4c41776efeae"
      }
     },
     "2415ccaeeb794ba9a2e2a75894ec6c1b": {
      "model_module": "@jupyter-widgets/controls",
      "model_module_version": "1.2.0",
      "model_name": "SliderStyleModel",
      "state": {
       "description_width": ""
      }
     },
     "24ce0c139d2e442895c3806bd2409236": {
      "model_module": "@jupyter-widgets/controls",
      "model_module_version": "1.2.0",
      "model_name": "IntSliderModel",
      "state": {
       "description": "tauxMinBoursiersPourcents",
       "layout": "IPY_MODEL_52f7b7574ff74d3fa267e0a563694445",
       "style": "IPY_MODEL_594d23c2044f45ef8d836cf230d13d0d",
       "value": 10
      }
     },
     "25a4c956b75142f58af18422e33d0983": {
      "model_module": "@jupyter-widgets/controls",
      "model_module_version": "1.2.0",
      "model_name": "VBoxModel",
      "state": {
       "_dom_classes": [
        "widget-interact"
       ],
       "children": [
        "IPY_MODEL_f316a84457eb40c4b6f847e9cbd27d4c",
        "IPY_MODEL_bb25f42c062b44e496440d83b9f1a3cd",
        "IPY_MODEL_7c9574f26065420a8c2c0479f3e13651"
       ],
       "layout": "IPY_MODEL_0f18b70bd0644a3fa21d9171ada7fcfb"
      }
     },
     "25bfe093ce6844a1a6c6840536f91238": {
      "model_module": "@jupyter-widgets/base",
      "model_module_version": "1.0.0",
      "model_name": "LayoutModel",
      "state": {}
     },
     "25d65afa958347bb956fddae9b73a090": {
      "model_module": "@jupyter-widgets/controls",
      "model_module_version": "1.2.0",
      "model_name": "SliderStyleModel",
      "state": {
       "description_width": ""
      }
     },
     "25e0c23910834494bb339915d0b705c9": {
      "model_module": "@jupyter-widgets/controls",
      "model_module_version": "1.2.0",
      "model_name": "IntSliderModel",
      "state": {
       "description": "tauxResidents",
       "layout": "IPY_MODEL_bab55d2030ca477bac446705934647db",
       "style": "IPY_MODEL_ca7e19c59d6943bf9e10f5cd2be3750d"
      }
     },
     "2630e96c34914391b733bb33c4b20401": {
      "model_module": "@jupyter-widgets/base",
      "model_module_version": "1.0.0",
      "model_name": "LayoutModel",
      "state": {}
     },
     "267b362769c64b838ae35eab2d80b512": {
      "model_module": "@jupyter-widgets/output",
      "model_module_version": "1.0.0",
      "model_name": "OutputModel",
      "state": {
       "layout": "IPY_MODEL_69edab4f64934e5191daae01176d4a06",
       "outputs": [
        {
         "data": {
          "text/html": "<style type=\"text/css\">table.blockgrid {border: none;} .blockgrid tr {border: none;} .blockgrid td {padding: 0px;} #blocks54067b4b-e34b-48b0-b21f-af1736cdb76f td {border: 1px solid white;}</style><table id=\"blocks54067b4b-e34b-48b0-b21f-af1736cdb76f\" class=\"blockgrid\"><tbody><tr><td title=\"Index: [0, 0]&#10;Color: (200, 200, 200)\" style=\"width: 20px; height: 20px;background-color: rgb(200, 200, 200);\"></td><td title=\"Index: [0, 1]&#10;Color: (200, 200, 200)\" style=\"width: 20px; height: 20px;background-color: rgb(200, 200, 200);\"></td><td title=\"Index: [0, 2]&#10;Color: (200, 200, 200)\" style=\"width: 20px; height: 20px;background-color: rgb(200, 200, 200);\"></td><td title=\"Index: [0, 3]&#10;Color: (200, 200, 200)\" style=\"width: 20px; height: 20px;background-color: rgb(200, 200, 200);\"></td><td title=\"Index: [0, 4]&#10;Color: (200, 0, 0)\" style=\"width: 20px; height: 20px;background-color: rgb(200, 0, 0);\"></td><td title=\"Index: [0, 5]&#10;Color: (200, 200, 200)\" style=\"width: 20px; height: 20px;background-color: rgb(200, 200, 200);\"></td><td title=\"Index: [0, 6]&#10;Color: (200, 200, 200)\" style=\"width: 20px; height: 20px;background-color: rgb(200, 200, 200);\"></td><td title=\"Index: [0, 7]&#10;Color: (0, 0, 200)\" style=\"width: 20px; height: 20px;background-color: rgb(0, 0, 200);\"></td><td title=\"Index: [0, 8]&#10;Color: (200, 200, 200)\" style=\"width: 20px; height: 20px;background-color: rgb(200, 200, 200);\"></td><td title=\"Index: [0, 9]&#10;Color: (0, 0, 200)\" style=\"width: 20px; height: 20px;background-color: rgb(0, 0, 200);\"></td><td title=\"Index: [0, 10]&#10;Color: (200, 200, 200)\" style=\"width: 20px; height: 20px;background-color: rgb(200, 200, 200);\"></td><td title=\"Index: [0, 11]&#10;Color: (200, 200, 200)\" style=\"width: 20px; height: 20px;background-color: rgb(200, 200, 200);\"></td><td title=\"Index: [0, 12]&#10;Color: (200, 0, 0)\" style=\"width: 20px; height: 20px;background-color: rgb(200, 0, 0);\"></td><td title=\"Index: [0, 13]&#10;Color: (200, 0, 0)\" style=\"width: 20px; height: 20px;background-color: rgb(200, 0, 0);\"></td><td title=\"Index: [0, 14]&#10;Color: (200, 200, 200)\" style=\"width: 20px; height: 20px;background-color: rgb(200, 200, 200);\"></td><td title=\"Index: [0, 15]&#10;Color: (0, 0, 200)\" style=\"width: 20px; height: 20px;background-color: rgb(0, 0, 200);\"></td><td title=\"Index: [0, 16]&#10;Color: (200, 0, 0)\" style=\"width: 20px; height: 20px;background-color: rgb(200, 0, 0);\"></td><td title=\"Index: [0, 17]&#10;Color: (200, 200, 200)\" style=\"width: 20px; height: 20px;background-color: rgb(200, 200, 200);\"></td><td title=\"Index: [0, 18]&#10;Color: (200, 0, 0)\" style=\"width: 20px; height: 20px;background-color: rgb(200, 0, 0);\"></td><td title=\"Index: [0, 19]&#10;Color: (200, 200, 200)\" style=\"width: 20px; height: 20px;background-color: rgb(200, 200, 200);\"></td><td title=\"Index: [0, 20]&#10;Color: (200, 200, 200)\" style=\"width: 20px; height: 20px;background-color: rgb(200, 200, 200);\"></td><td title=\"Index: [0, 21]&#10;Color: (200, 200, 200)\" style=\"width: 20px; height: 20px;background-color: rgb(200, 200, 200);\"></td><td title=\"Index: [0, 22]&#10;Color: (200, 200, 200)\" style=\"width: 20px; height: 20px;background-color: rgb(200, 200, 200);\"></td><td title=\"Index: [0, 23]&#10;Color: (0, 0, 200)\" style=\"width: 20px; height: 20px;background-color: rgb(0, 0, 200);\"></td><td title=\"Index: [0, 24]&#10;Color: (0, 0, 200)\" style=\"width: 20px; height: 20px;background-color: rgb(0, 0, 200);\"></td><td title=\"Index: [0, 25]&#10;Color: (200, 0, 200)\" style=\"width: 20px; height: 20px;background-color: rgb(200, 0, 200);\"></td><td title=\"Index: [0, 26]&#10;Color: (200, 0, 0)\" style=\"width: 20px; height: 20px;background-color: rgb(200, 0, 0);\"></td><td title=\"Index: [0, 27]&#10;Color: (200, 200, 200)\" style=\"width: 20px; height: 20px;background-color: rgb(200, 200, 200);\"></td><td title=\"Index: [0, 28]&#10;Color: (200, 200, 200)\" style=\"width: 20px; height: 20px;background-color: rgb(200, 200, 200);\"></td><td title=\"Index: [0, 29]&#10;Color: (200, 200, 200)\" style=\"width: 20px; height: 20px;background-color: rgb(200, 200, 200);\"></td><td title=\"Index: [0, 30]&#10;Color: (200, 200, 200)\" style=\"width: 20px; height: 20px;background-color: rgb(200, 200, 200);\"></td><td title=\"Index: [0, 31]&#10;Color: (200, 200, 200)\" style=\"width: 20px; height: 20px;background-color: rgb(200, 200, 200);\"></td><td title=\"Index: [0, 32]&#10;Color: (0, 0, 200)\" style=\"width: 20px; height: 20px;background-color: rgb(0, 0, 200);\"></td><td title=\"Index: [0, 33]&#10;Color: (0, 0, 200)\" style=\"width: 20px; height: 20px;background-color: rgb(0, 0, 200);\"></td><td title=\"Index: [0, 34]&#10;Color: (200, 200, 200)\" style=\"width: 20px; height: 20px;background-color: rgb(200, 200, 200);\"></td><td title=\"Index: [0, 35]&#10;Color: (0, 0, 200)\" style=\"width: 20px; height: 20px;background-color: rgb(0, 0, 200);\"></td><td title=\"Index: [0, 36]&#10;Color: (200, 200, 200)\" style=\"width: 20px; height: 20px;background-color: rgb(200, 200, 200);\"></td><td title=\"Index: [0, 37]&#10;Color: (200, 200, 200)\" style=\"width: 20px; height: 20px;background-color: rgb(200, 200, 200);\"></td><td title=\"Index: [0, 38]&#10;Color: (200, 200, 200)\" style=\"width: 20px; height: 20px;background-color: rgb(200, 200, 200);\"></td><td title=\"Index: [0, 39]&#10;Color: (200, 200, 200)\" style=\"width: 20px; height: 20px;background-color: rgb(200, 200, 200);\"></td><td title=\"Index: [0, 40]&#10;Color: (200, 200, 200)\" style=\"width: 20px; height: 20px;background-color: rgb(200, 200, 200);\"></td><td title=\"Index: [0, 41]&#10;Color: (200, 0, 0)\" style=\"width: 20px; height: 20px;background-color: rgb(200, 0, 0);\"></td><td title=\"Index: [0, 42]&#10;Color: (200, 0, 0)\" style=\"width: 20px; height: 20px;background-color: rgb(200, 0, 0);\"></td><td title=\"Index: [0, 43]&#10;Color: (200, 200, 200)\" style=\"width: 20px; height: 20px;background-color: rgb(200, 200, 200);\"></td><td title=\"Index: [0, 44]&#10;Color: (200, 200, 200)\" style=\"width: 20px; height: 20px;background-color: rgb(200, 200, 200);\"></td><td title=\"Index: [0, 45]&#10;Color: (200, 200, 200)\" style=\"width: 20px; height: 20px;background-color: rgb(200, 200, 200);\"></td><td title=\"Index: [0, 46]&#10;Color: (200, 200, 200)\" style=\"width: 20px; height: 20px;background-color: rgb(200, 200, 200);\"></td><td title=\"Index: [0, 47]&#10;Color: (200, 200, 200)\" style=\"width: 20px; height: 20px;background-color: rgb(200, 200, 200);\"></td><td title=\"Index: [0, 48]&#10;Color: (200, 0, 0)\" style=\"width: 20px; height: 20px;background-color: rgb(200, 0, 0);\"></td><td title=\"Index: [0, 49]&#10;Color: (200, 200, 200)\" style=\"width: 20px; height: 20px;background-color: rgb(200, 200, 200);\"></td><td title=\"Index: [0, 50]&#10;Color: (200, 200, 200)\" style=\"width: 20px; height: 20px;background-color: rgb(200, 200, 200);\"></td><td title=\"Index: [0, 51]&#10;Color: (200, 200, 200)\" style=\"width: 20px; height: 20px;background-color: rgb(200, 200, 200);\"></td><td title=\"Index: [0, 52]&#10;Color: (200, 200, 200)\" style=\"width: 20px; height: 20px;background-color: rgb(200, 200, 200);\"></td><td title=\"Index: [0, 53]&#10;Color: (200, 0, 0)\" style=\"width: 20px; height: 20px;background-color: rgb(200, 0, 0);\"></td><td title=\"Index: [0, 54]&#10;Color: (200, 200, 200)\" style=\"width: 20px; height: 20px;background-color: rgb(200, 200, 200);\"></td><td title=\"Index: [0, 55]&#10;Color: (200, 0, 0)\" style=\"width: 20px; height: 20px;background-color: rgb(200, 0, 0);\"></td><td title=\"Index: [0, 56]&#10;Color: (200, 200, 200)\" style=\"width: 20px; height: 20px;background-color: rgb(200, 200, 200);\"></td><td title=\"Index: [0, 57]&#10;Color: (200, 200, 200)\" style=\"width: 20px; height: 20px;background-color: rgb(200, 200, 200);\"></td><td title=\"Index: [0, 58]&#10;Color: (200, 0, 200)\" style=\"width: 20px; height: 20px;background-color: rgb(200, 0, 200);\"></td><td title=\"Index: [0, 59]&#10;Color: (200, 200, 200)\" style=\"width: 20px; height: 20px;background-color: rgb(200, 200, 200);\"></td><td title=\"Index: [0, 60]&#10;Color: (200, 200, 200)\" style=\"width: 20px; height: 20px;background-color: rgb(200, 200, 200);\"></td><td title=\"Index: [0, 61]&#10;Color: (200, 200, 200)\" style=\"width: 20px; height: 20px;background-color: rgb(200, 200, 200);\"></td><td title=\"Index: [0, 62]&#10;Color: (0, 0, 200)\" style=\"width: 20px; height: 20px;background-color: rgb(0, 0, 200);\"></td><td title=\"Index: [0, 63]&#10;Color: (0, 0, 200)\" style=\"width: 20px; height: 20px;background-color: rgb(0, 0, 200);\"></td><td title=\"Index: [0, 64]&#10;Color: (200, 0, 0)\" style=\"width: 20px; height: 20px;background-color: rgb(200, 0, 0);\"></td><td title=\"Index: [0, 65]&#10;Color: (200, 200, 200)\" style=\"width: 20px; height: 20px;background-color: rgb(200, 200, 200);\"></td><td title=\"Index: [0, 66]&#10;Color: (200, 200, 200)\" style=\"width: 20px; height: 20px;background-color: rgb(200, 200, 200);\"></td><td title=\"Index: [0, 67]&#10;Color: (0, 0, 200)\" style=\"width: 20px; height: 20px;background-color: rgb(0, 0, 200);\"></td><td title=\"Index: [0, 68]&#10;Color: (0, 0, 200)\" style=\"width: 20px; height: 20px;background-color: rgb(0, 0, 200);\"></td><td title=\"Index: [0, 69]&#10;Color: (200, 200, 200)\" style=\"width: 20px; height: 20px;background-color: rgb(200, 200, 200);\"></td></tr></tbody></table>",
          "text/plain": "<ipythonblocks.ipythonblocks.BlockGrid at 0x7f6940031dd8>"
         },
         "metadata": {},
         "output_type": "display_data"
        },
        {
         "data": {
          "text/html": "<style type=\"text/css\">table.blockgrid {border: none;} .blockgrid tr {border: none;} .blockgrid td {padding: 0px;} #blocksfada1bb8-dabf-4a96-b6a2-76968dbf27ca td {border: 1px solid white;}</style><table id=\"blocksfada1bb8-dabf-4a96-b6a2-76968dbf27ca\" class=\"blockgrid\"><tbody><tr><td title=\"Index: [0, 0]&#10;Color: (200, 200, 200)\" style=\"width: 20px; height: 20px;background-color: rgb(200, 200, 200);\"></td><td title=\"Index: [0, 1]&#10;Color: (200, 0, 0)\" style=\"width: 20px; height: 20px;background-color: rgb(200, 0, 0);\"></td><td title=\"Index: [0, 2]&#10;Color: (0, 0, 200)\" style=\"width: 20px; height: 20px;background-color: rgb(0, 0, 200);\"></td><td title=\"Index: [0, 3]&#10;Color: (200, 200, 200)\" style=\"width: 20px; height: 20px;background-color: rgb(200, 200, 200);\"></td><td title=\"Index: [0, 4]&#10;Color: (200, 0, 0)\" style=\"width: 20px; height: 20px;background-color: rgb(200, 0, 0);\"></td><td title=\"Index: [0, 5]&#10;Color: (0, 0, 200)\" style=\"width: 20px; height: 20px;background-color: rgb(0, 0, 200);\"></td><td title=\"Index: [0, 6]&#10;Color: (200, 200, 200)\" style=\"width: 20px; height: 20px;background-color: rgb(200, 200, 200);\"></td><td title=\"Index: [0, 7]&#10;Color: (200, 0, 0)\" style=\"width: 20px; height: 20px;background-color: rgb(200, 0, 0);\"></td><td title=\"Index: [0, 8]&#10;Color: (200, 200, 200)\" style=\"width: 20px; height: 20px;background-color: rgb(200, 200, 200);\"></td><td title=\"Index: [0, 9]&#10;Color: (200, 200, 200)\" style=\"width: 20px; height: 20px;background-color: rgb(200, 200, 200);\"></td><td title=\"Index: [0, 10]&#10;Color: (200, 200, 200)\" style=\"width: 20px; height: 20px;background-color: rgb(200, 200, 200);\"></td><td title=\"Index: [0, 11]&#10;Color: (200, 0, 200)\" style=\"width: 20px; height: 20px;background-color: rgb(200, 0, 200);\"></td><td title=\"Index: [0, 12]&#10;Color: (0, 0, 200)\" style=\"width: 20px; height: 20px;background-color: rgb(0, 0, 200);\"></td><td title=\"Index: [0, 13]&#10;Color: (200, 200, 200)\" style=\"width: 20px; height: 20px;background-color: rgb(200, 200, 200);\"></td><td title=\"Index: [0, 14]&#10;Color: (200, 200, 200)\" style=\"width: 20px; height: 20px;background-color: rgb(200, 200, 200);\"></td><td title=\"Index: [0, 15]&#10;Color: (200, 200, 200)\" style=\"width: 20px; height: 20px;background-color: rgb(200, 200, 200);\"></td><td title=\"Index: [0, 16]&#10;Color: (200, 0, 0)\" style=\"width: 20px; height: 20px;background-color: rgb(200, 0, 0);\"></td><td title=\"Index: [0, 17]&#10;Color: (200, 200, 200)\" style=\"width: 20px; height: 20px;background-color: rgb(200, 200, 200);\"></td><td title=\"Index: [0, 18]&#10;Color: (200, 0, 200)\" style=\"width: 20px; height: 20px;background-color: rgb(200, 0, 200);\"></td><td title=\"Index: [0, 19]&#10;Color: (200, 0, 0)\" style=\"width: 20px; height: 20px;background-color: rgb(200, 0, 0);\"></td><td title=\"Index: [0, 20]&#10;Color: (200, 0, 0)\" style=\"width: 20px; height: 20px;background-color: rgb(200, 0, 0);\"></td><td title=\"Index: [0, 21]&#10;Color: (200, 200, 200)\" style=\"width: 20px; height: 20px;background-color: rgb(200, 200, 200);\"></td><td title=\"Index: [0, 22]&#10;Color: (200, 200, 200)\" style=\"width: 20px; height: 20px;background-color: rgb(200, 200, 200);\"></td><td title=\"Index: [0, 23]&#10;Color: (200, 200, 200)\" style=\"width: 20px; height: 20px;background-color: rgb(200, 200, 200);\"></td><td title=\"Index: [0, 24]&#10;Color: (0, 0, 200)\" style=\"width: 20px; height: 20px;background-color: rgb(0, 0, 200);\"></td><td title=\"Index: [0, 25]&#10;Color: (200, 200, 200)\" style=\"width: 20px; height: 20px;background-color: rgb(200, 200, 200);\"></td><td title=\"Index: [0, 26]&#10;Color: (200, 200, 200)\" style=\"width: 20px; height: 20px;background-color: rgb(200, 200, 200);\"></td><td title=\"Index: [0, 27]&#10;Color: (200, 200, 200)\" style=\"width: 20px; height: 20px;background-color: rgb(200, 200, 200);\"></td><td title=\"Index: [0, 28]&#10;Color: (200, 200, 200)\" style=\"width: 20px; height: 20px;background-color: rgb(200, 200, 200);\"></td><td title=\"Index: [0, 29]&#10;Color: (200, 200, 200)\" style=\"width: 20px; height: 20px;background-color: rgb(200, 200, 200);\"></td><td title=\"Index: [0, 30]&#10;Color: (200, 200, 200)\" style=\"width: 20px; height: 20px;background-color: rgb(200, 200, 200);\"></td><td title=\"Index: [0, 31]&#10;Color: (0, 0, 200)\" style=\"width: 20px; height: 20px;background-color: rgb(0, 0, 200);\"></td><td title=\"Index: [0, 32]&#10;Color: (200, 0, 0)\" style=\"width: 20px; height: 20px;background-color: rgb(200, 0, 0);\"></td><td title=\"Index: [0, 33]&#10;Color: (0, 0, 200)\" style=\"width: 20px; height: 20px;background-color: rgb(0, 0, 200);\"></td><td title=\"Index: [0, 34]&#10;Color: (200, 200, 200)\" style=\"width: 20px; height: 20px;background-color: rgb(200, 200, 200);\"></td><td title=\"Index: [0, 35]&#10;Color: (0, 0, 200)\" style=\"width: 20px; height: 20px;background-color: rgb(0, 0, 200);\"></td><td title=\"Index: [0, 36]&#10;Color: (200, 0, 0)\" style=\"width: 20px; height: 20px;background-color: rgb(200, 0, 0);\"></td><td title=\"Index: [0, 37]&#10;Color: (0, 0, 200)\" style=\"width: 20px; height: 20px;background-color: rgb(0, 0, 200);\"></td><td title=\"Index: [0, 38]&#10;Color: (200, 200, 200)\" style=\"width: 20px; height: 20px;background-color: rgb(200, 200, 200);\"></td><td title=\"Index: [0, 39]&#10;Color: (200, 0, 0)\" style=\"width: 20px; height: 20px;background-color: rgb(200, 0, 0);\"></td><td title=\"Index: [0, 40]&#10;Color: (200, 200, 200)\" style=\"width: 20px; height: 20px;background-color: rgb(200, 200, 200);\"></td><td title=\"Index: [0, 41]&#10;Color: (200, 200, 200)\" style=\"width: 20px; height: 20px;background-color: rgb(200, 200, 200);\"></td><td title=\"Index: [0, 42]&#10;Color: (0, 0, 200)\" style=\"width: 20px; height: 20px;background-color: rgb(0, 0, 200);\"></td><td title=\"Index: [0, 43]&#10;Color: (200, 200, 200)\" style=\"width: 20px; height: 20px;background-color: rgb(200, 200, 200);\"></td><td title=\"Index: [0, 44]&#10;Color: (200, 200, 200)\" style=\"width: 20px; height: 20px;background-color: rgb(200, 200, 200);\"></td><td title=\"Index: [0, 45]&#10;Color: (200, 200, 200)\" style=\"width: 20px; height: 20px;background-color: rgb(200, 200, 200);\"></td><td title=\"Index: [0, 46]&#10;Color: (200, 200, 200)\" style=\"width: 20px; height: 20px;background-color: rgb(200, 200, 200);\"></td><td title=\"Index: [0, 47]&#10;Color: (200, 0, 0)\" style=\"width: 20px; height: 20px;background-color: rgb(200, 0, 0);\"></td><td title=\"Index: [0, 48]&#10;Color: (200, 200, 200)\" style=\"width: 20px; height: 20px;background-color: rgb(200, 200, 200);\"></td><td title=\"Index: [0, 49]&#10;Color: (200, 200, 200)\" style=\"width: 20px; height: 20px;background-color: rgb(200, 200, 200);\"></td><td title=\"Index: [0, 50]&#10;Color: (200, 0, 0)\" style=\"width: 20px; height: 20px;background-color: rgb(200, 0, 0);\"></td><td title=\"Index: [0, 51]&#10;Color: (200, 200, 200)\" style=\"width: 20px; height: 20px;background-color: rgb(200, 200, 200);\"></td><td title=\"Index: [0, 52]&#10;Color: (0, 0, 200)\" style=\"width: 20px; height: 20px;background-color: rgb(0, 0, 200);\"></td><td title=\"Index: [0, 53]&#10;Color: (200, 200, 200)\" style=\"width: 20px; height: 20px;background-color: rgb(200, 200, 200);\"></td><td title=\"Index: [0, 54]&#10;Color: (200, 200, 200)\" style=\"width: 20px; height: 20px;background-color: rgb(200, 200, 200);\"></td><td title=\"Index: [0, 55]&#10;Color: (200, 200, 200)\" style=\"width: 20px; height: 20px;background-color: rgb(200, 200, 200);\"></td><td title=\"Index: [0, 56]&#10;Color: (200, 200, 200)\" style=\"width: 20px; height: 20px;background-color: rgb(200, 200, 200);\"></td><td title=\"Index: [0, 57]&#10;Color: (0, 0, 200)\" style=\"width: 20px; height: 20px;background-color: rgb(0, 0, 200);\"></td><td title=\"Index: [0, 58]&#10;Color: (200, 200, 200)\" style=\"width: 20px; height: 20px;background-color: rgb(200, 200, 200);\"></td><td title=\"Index: [0, 59]&#10;Color: (200, 200, 200)\" style=\"width: 20px; height: 20px;background-color: rgb(200, 200, 200);\"></td><td title=\"Index: [0, 60]&#10;Color: (0, 0, 200)\" style=\"width: 20px; height: 20px;background-color: rgb(0, 0, 200);\"></td><td title=\"Index: [0, 61]&#10;Color: (200, 200, 200)\" style=\"width: 20px; height: 20px;background-color: rgb(200, 200, 200);\"></td><td title=\"Index: [0, 62]&#10;Color: (200, 200, 200)\" style=\"width: 20px; height: 20px;background-color: rgb(200, 200, 200);\"></td><td title=\"Index: [0, 63]&#10;Color: (200, 200, 200)\" style=\"width: 20px; height: 20px;background-color: rgb(200, 200, 200);\"></td><td title=\"Index: [0, 64]&#10;Color: (200, 0, 0)\" style=\"width: 20px; height: 20px;background-color: rgb(200, 0, 0);\"></td><td title=\"Index: [0, 65]&#10;Color: (200, 200, 200)\" style=\"width: 20px; height: 20px;background-color: rgb(200, 200, 200);\"></td><td title=\"Index: [0, 66]&#10;Color: (200, 200, 200)\" style=\"width: 20px; height: 20px;background-color: rgb(200, 200, 200);\"></td><td title=\"Index: [0, 67]&#10;Color: (200, 200, 200)\" style=\"width: 20px; height: 20px;background-color: rgb(200, 200, 200);\"></td><td title=\"Index: [0, 68]&#10;Color: (200, 200, 200)\" style=\"width: 20px; height: 20px;background-color: rgb(200, 200, 200);\"></td><td title=\"Index: [0, 69]&#10;Color: (200, 200, 200)\" style=\"width: 20px; height: 20px;background-color: rgb(200, 200, 200);\"></td></tr></tbody></table>",
          "text/plain": "<ipythonblocks.ipythonblocks.BlockGrid at 0x7f6940031dd8>"
         },
         "metadata": {},
         "output_type": "display_data"
        },
        {
         "data": {
          "text/html": "<style type=\"text/css\">table.blockgrid {border: none;} .blockgrid tr {border: none;} .blockgrid td {padding: 0px;} #blocksd64c1291-5202-4c84-83f9-b5ee0cc81c56 td {border: 1px solid white;}</style><table id=\"blocksd64c1291-5202-4c84-83f9-b5ee0cc81c56\" class=\"blockgrid\"><tbody><tr><td title=\"Index: [0, 0]&#10;Color: (200, 0, 0)\" style=\"width: 20px; height: 20px;background-color: rgb(200, 0, 0);\"></td><td title=\"Index: [0, 1]&#10;Color: (200, 200, 200)\" style=\"width: 20px; height: 20px;background-color: rgb(200, 200, 200);\"></td><td title=\"Index: [0, 2]&#10;Color: (200, 200, 200)\" style=\"width: 20px; height: 20px;background-color: rgb(200, 200, 200);\"></td><td title=\"Index: [0, 3]&#10;Color: (200, 200, 200)\" style=\"width: 20px; height: 20px;background-color: rgb(200, 200, 200);\"></td><td title=\"Index: [0, 4]&#10;Color: (200, 200, 200)\" style=\"width: 20px; height: 20px;background-color: rgb(200, 200, 200);\"></td><td title=\"Index: [0, 5]&#10;Color: (200, 200, 200)\" style=\"width: 20px; height: 20px;background-color: rgb(200, 200, 200);\"></td><td title=\"Index: [0, 6]&#10;Color: (200, 200, 200)\" style=\"width: 20px; height: 20px;background-color: rgb(200, 200, 200);\"></td><td title=\"Index: [0, 7]&#10;Color: (200, 200, 200)\" style=\"width: 20px; height: 20px;background-color: rgb(200, 200, 200);\"></td><td title=\"Index: [0, 8]&#10;Color: (200, 200, 200)\" style=\"width: 20px; height: 20px;background-color: rgb(200, 200, 200);\"></td><td title=\"Index: [0, 9]&#10;Color: (0, 0, 200)\" style=\"width: 20px; height: 20px;background-color: rgb(0, 0, 200);\"></td><td title=\"Index: [0, 10]&#10;Color: (200, 0, 0)\" style=\"width: 20px; height: 20px;background-color: rgb(200, 0, 0);\"></td><td title=\"Index: [0, 11]&#10;Color: (200, 200, 200)\" style=\"width: 20px; height: 20px;background-color: rgb(200, 200, 200);\"></td><td title=\"Index: [0, 12]&#10;Color: (200, 200, 200)\" style=\"width: 20px; height: 20px;background-color: rgb(200, 200, 200);\"></td><td title=\"Index: [0, 13]&#10;Color: (0, 0, 200)\" style=\"width: 20px; height: 20px;background-color: rgb(0, 0, 200);\"></td><td title=\"Index: [0, 14]&#10;Color: (200, 200, 200)\" style=\"width: 20px; height: 20px;background-color: rgb(200, 200, 200);\"></td><td title=\"Index: [0, 15]&#10;Color: (200, 200, 200)\" style=\"width: 20px; height: 20px;background-color: rgb(200, 200, 200);\"></td><td title=\"Index: [0, 16]&#10;Color: (200, 200, 200)\" style=\"width: 20px; height: 20px;background-color: rgb(200, 200, 200);\"></td><td title=\"Index: [0, 17]&#10;Color: (200, 200, 200)\" style=\"width: 20px; height: 20px;background-color: rgb(200, 200, 200);\"></td><td title=\"Index: [0, 18]&#10;Color: (0, 0, 200)\" style=\"width: 20px; height: 20px;background-color: rgb(0, 0, 200);\"></td><td title=\"Index: [0, 19]&#10;Color: (200, 200, 200)\" style=\"width: 20px; height: 20px;background-color: rgb(200, 200, 200);\"></td><td title=\"Index: [0, 20]&#10;Color: (200, 0, 0)\" style=\"width: 20px; height: 20px;background-color: rgb(200, 0, 0);\"></td><td title=\"Index: [0, 21]&#10;Color: (200, 200, 200)\" style=\"width: 20px; height: 20px;background-color: rgb(200, 200, 200);\"></td><td title=\"Index: [0, 22]&#10;Color: (200, 200, 200)\" style=\"width: 20px; height: 20px;background-color: rgb(200, 200, 200);\"></td><td title=\"Index: [0, 23]&#10;Color: (200, 200, 200)\" style=\"width: 20px; height: 20px;background-color: rgb(200, 200, 200);\"></td><td title=\"Index: [0, 24]&#10;Color: (200, 200, 200)\" style=\"width: 20px; height: 20px;background-color: rgb(200, 200, 200);\"></td><td title=\"Index: [0, 25]&#10;Color: (200, 200, 200)\" style=\"width: 20px; height: 20px;background-color: rgb(200, 200, 200);\"></td><td title=\"Index: [0, 26]&#10;Color: (200, 200, 200)\" style=\"width: 20px; height: 20px;background-color: rgb(200, 200, 200);\"></td><td title=\"Index: [0, 27]&#10;Color: (0, 0, 200)\" style=\"width: 20px; height: 20px;background-color: rgb(0, 0, 200);\"></td><td title=\"Index: [0, 28]&#10;Color: (200, 200, 200)\" style=\"width: 20px; height: 20px;background-color: rgb(200, 200, 200);\"></td><td title=\"Index: [0, 29]&#10;Color: (200, 200, 200)\" style=\"width: 20px; height: 20px;background-color: rgb(200, 200, 200);\"></td><td title=\"Index: [0, 30]&#10;Color: (200, 0, 0)\" style=\"width: 20px; height: 20px;background-color: rgb(200, 0, 0);\"></td><td title=\"Index: [0, 31]&#10;Color: (200, 200, 200)\" style=\"width: 20px; height: 20px;background-color: rgb(200, 200, 200);\"></td><td title=\"Index: [0, 32]&#10;Color: (0, 0, 200)\" style=\"width: 20px; height: 20px;background-color: rgb(0, 0, 200);\"></td><td title=\"Index: [0, 33]&#10;Color: (200, 0, 0)\" style=\"width: 20px; height: 20px;background-color: rgb(200, 0, 0);\"></td><td title=\"Index: [0, 34]&#10;Color: (0, 0, 200)\" style=\"width: 20px; height: 20px;background-color: rgb(0, 0, 200);\"></td><td title=\"Index: [0, 35]&#10;Color: (200, 200, 200)\" style=\"width: 20px; height: 20px;background-color: rgb(200, 200, 200);\"></td><td title=\"Index: [0, 36]&#10;Color: (0, 0, 200)\" style=\"width: 20px; height: 20px;background-color: rgb(0, 0, 200);\"></td><td title=\"Index: [0, 37]&#10;Color: (200, 0, 0)\" style=\"width: 20px; height: 20px;background-color: rgb(200, 0, 0);\"></td><td title=\"Index: [0, 38]&#10;Color: (0, 0, 200)\" style=\"width: 20px; height: 20px;background-color: rgb(0, 0, 200);\"></td><td title=\"Index: [0, 39]&#10;Color: (200, 200, 200)\" style=\"width: 20px; height: 20px;background-color: rgb(200, 200, 200);\"></td><td title=\"Index: [0, 40]&#10;Color: (200, 200, 200)\" style=\"width: 20px; height: 20px;background-color: rgb(200, 200, 200);\"></td><td title=\"Index: [0, 41]&#10;Color: (200, 200, 200)\" style=\"width: 20px; height: 20px;background-color: rgb(200, 200, 200);\"></td><td title=\"Index: [0, 42]&#10;Color: (200, 200, 200)\" style=\"width: 20px; height: 20px;background-color: rgb(200, 200, 200);\"></td><td title=\"Index: [0, 43]&#10;Color: (200, 200, 200)\" style=\"width: 20px; height: 20px;background-color: rgb(200, 200, 200);\"></td><td title=\"Index: [0, 44]&#10;Color: (200, 200, 200)\" style=\"width: 20px; height: 20px;background-color: rgb(200, 200, 200);\"></td><td title=\"Index: [0, 45]&#10;Color: (0, 0, 200)\" style=\"width: 20px; height: 20px;background-color: rgb(0, 0, 200);\"></td><td title=\"Index: [0, 46]&#10;Color: (200, 200, 200)\" style=\"width: 20px; height: 20px;background-color: rgb(200, 200, 200);\"></td><td title=\"Index: [0, 47]&#10;Color: (200, 200, 200)\" style=\"width: 20px; height: 20px;background-color: rgb(200, 200, 200);\"></td><td title=\"Index: [0, 48]&#10;Color: (200, 200, 200)\" style=\"width: 20px; height: 20px;background-color: rgb(200, 200, 200);\"></td><td title=\"Index: [0, 49]&#10;Color: (200, 0, 0)\" style=\"width: 20px; height: 20px;background-color: rgb(200, 0, 0);\"></td><td title=\"Index: [0, 50]&#10;Color: (200, 0, 0)\" style=\"width: 20px; height: 20px;background-color: rgb(200, 0, 0);\"></td><td title=\"Index: [0, 51]&#10;Color: (200, 0, 200)\" style=\"width: 20px; height: 20px;background-color: rgb(200, 0, 200);\"></td><td title=\"Index: [0, 52]&#10;Color: (200, 200, 200)\" style=\"width: 20px; height: 20px;background-color: rgb(200, 200, 200);\"></td><td title=\"Index: [0, 53]&#10;Color: (200, 0, 0)\" style=\"width: 20px; height: 20px;background-color: rgb(200, 0, 0);\"></td><td title=\"Index: [0, 54]&#10;Color: (200, 200, 200)\" style=\"width: 20px; height: 20px;background-color: rgb(200, 200, 200);\"></td><td title=\"Index: [0, 55]&#10;Color: (200, 200, 200)\" style=\"width: 20px; height: 20px;background-color: rgb(200, 200, 200);\"></td><td title=\"Index: [0, 56]&#10;Color: (200, 200, 200)\" style=\"width: 20px; height: 20px;background-color: rgb(200, 200, 200);\"></td><td title=\"Index: [0, 57]&#10;Color: (0, 0, 200)\" style=\"width: 20px; height: 20px;background-color: rgb(0, 0, 200);\"></td><td title=\"Index: [0, 58]&#10;Color: (200, 0, 200)\" style=\"width: 20px; height: 20px;background-color: rgb(200, 0, 200);\"></td><td title=\"Index: [0, 59]&#10;Color: (200, 200, 200)\" style=\"width: 20px; height: 20px;background-color: rgb(200, 200, 200);\"></td><td title=\"Index: [0, 60]&#10;Color: (200, 200, 200)\" style=\"width: 20px; height: 20px;background-color: rgb(200, 200, 200);\"></td><td title=\"Index: [0, 61]&#10;Color: (200, 200, 200)\" style=\"width: 20px; height: 20px;background-color: rgb(200, 200, 200);\"></td><td title=\"Index: [0, 62]&#10;Color: (200, 0, 0)\" style=\"width: 20px; height: 20px;background-color: rgb(200, 0, 0);\"></td><td title=\"Index: [0, 63]&#10;Color: (200, 200, 200)\" style=\"width: 20px; height: 20px;background-color: rgb(200, 200, 200);\"></td><td title=\"Index: [0, 64]&#10;Color: (0, 0, 200)\" style=\"width: 20px; height: 20px;background-color: rgb(0, 0, 200);\"></td><td title=\"Index: [0, 65]&#10;Color: (200, 0, 0)\" style=\"width: 20px; height: 20px;background-color: rgb(200, 0, 0);\"></td><td title=\"Index: [0, 66]&#10;Color: (200, 200, 200)\" style=\"width: 20px; height: 20px;background-color: rgb(200, 200, 200);\"></td><td title=\"Index: [0, 67]&#10;Color: (0, 0, 200)\" style=\"width: 20px; height: 20px;background-color: rgb(0, 0, 200);\"></td><td title=\"Index: [0, 68]&#10;Color: (200, 0, 0)\" style=\"width: 20px; height: 20px;background-color: rgb(200, 0, 0);\"></td><td title=\"Index: [0, 69]&#10;Color: (200, 200, 200)\" style=\"width: 20px; height: 20px;background-color: rgb(200, 200, 200);\"></td></tr></tbody></table>",
          "text/plain": "<ipythonblocks.ipythonblocks.BlockGrid at 0x7f6940031dd8>"
         },
         "metadata": {},
         "output_type": "display_data"
        }
       ]
      }
     },
     "26aec2e835714ec69ee61e731a057e11": {
      "model_module": "@jupyter-widgets/controls",
      "model_module_version": "1.2.0",
      "model_name": "SliderStyleModel",
      "state": {
       "description_width": ""
      }
     },
     "2730e84ac2bc49169b0a3096bc350026": {
      "model_module": "@jupyter-widgets/controls",
      "model_module_version": "1.2.0",
      "model_name": "SliderStyleModel",
      "state": {
       "description_width": ""
      }
     },
     "2786ad127b1d4030ab43680563282b01": {
      "model_module": "@jupyter-widgets/base",
      "model_module_version": "1.0.0",
      "model_name": "LayoutModel",
      "state": {}
     },
     "27961b89c5ec41f8b9c69d61bb49ecea": {
      "model_module": "@jupyter-widgets/controls",
      "model_module_version": "1.2.0",
      "model_name": "SliderStyleModel",
      "state": {
       "description_width": ""
      }
     },
     "27b91fb00126470393302f028b821212": {
      "model_module": "@jupyter-widgets/base",
      "model_module_version": "1.0.0",
      "model_name": "LayoutModel",
      "state": {}
     },
     "27f3f8dc78c14f2f98a8816ddc5286ed": {
      "model_module": "@jupyter-widgets/controls",
      "model_module_version": "1.2.0",
      "model_name": "IntSliderModel",
      "state": {
       "description": "tauxMinResidentsPourcents",
       "layout": "IPY_MODEL_9a9bb5abf7764ad8a14147ea685e3d0e",
       "style": "IPY_MODEL_9ffdfc979c5a433c8a5af866d00eeb10"
      }
     },
     "27ff7ba06b7b4c5e9a6d412f5e9531c9": {
      "model_module": "@jupyter-widgets/controls",
      "model_module_version": "1.2.0",
      "model_name": "IntSliderModel",
      "state": {
       "description": "tauxMinBoursiersPourcents",
       "layout": "IPY_MODEL_2a71a7715e91408e8724e42147e35602",
       "style": "IPY_MODEL_c601865d842243909fe77dc89a228a98",
       "value": 25
      }
     },
     "28113c7fd4e5488483282cb25d730936": {
      "model_module": "@jupyter-widgets/base",
      "model_module_version": "1.0.0",
      "model_name": "LayoutModel",
      "state": {}
     },
     "2827436fd881417bac20235ddb80b79a": {
      "model_module": "@jupyter-widgets/base",
      "model_module_version": "1.0.0",
      "model_name": "LayoutModel",
      "state": {}
     },
     "284422174ae64447ac9fc33705984eca": {
      "model_module": "@jupyter-widgets/controls",
      "model_module_version": "1.2.0",
      "model_name": "SliderStyleModel",
      "state": {
       "description_width": ""
      }
     },
     "28a8d3eccfd54482a82927d9fac22f05": {
      "model_module": "@jupyter-widgets/controls",
      "model_module_version": "1.2.0",
      "model_name": "IntSliderModel",
      "state": {
       "description": "tauxMinBoursiersPourcents",
       "layout": "IPY_MODEL_8855e26e8aac4a0eae3c9e183e3ff101",
       "style": "IPY_MODEL_c706dcdb82524342a9927c37e2aade82",
       "value": 10
      }
     },
     "28b3f2fa36214f5eac8dc5893a361dc8": {
      "model_module": "@jupyter-widgets/controls",
      "model_module_version": "1.2.0",
      "model_name": "SliderStyleModel",
      "state": {
       "description_width": ""
      }
     },
     "2917cecf01964676b752cd64aa0f1219": {
      "model_module": "@jupyter-widgets/base",
      "model_module_version": "1.0.0",
      "model_name": "LayoutModel",
      "state": {}
     },
     "2a23787e2976493b8fb12da746d0c807": {
      "model_module": "@jupyter-widgets/controls",
      "model_module_version": "1.2.0",
      "model_name": "DescriptionStyleModel",
      "state": {
       "description_width": ""
      }
     },
     "2a4d7e3b73824512a9bd7967a8c3afb6": {
      "model_module": "@jupyter-widgets/base",
      "model_module_version": "1.0.0",
      "model_name": "LayoutModel",
      "state": {}
     },
     "2a71a7715e91408e8724e42147e35602": {
      "model_module": "@jupyter-widgets/base",
      "model_module_version": "1.0.0",
      "model_name": "LayoutModel",
      "state": {}
     },
     "2ade1b30137a4eadb745aec71d64b1af": {
      "model_module": "@jupyter-widgets/base",
      "model_module_version": "1.0.0",
      "model_name": "LayoutModel",
      "state": {}
     },
     "2b12a49897d746618325f6012466bca1": {
      "model_module": "@jupyter-widgets/controls",
      "model_module_version": "1.2.0",
      "model_name": "VBoxModel",
      "state": {
       "_dom_classes": [
        "widget-interact"
       ],
       "children": [
        "IPY_MODEL_c7410f3ce3b24ccc9f0b616039930127",
        "IPY_MODEL_69448fdc04ea4c79b1dca41ef6043d8a",
        "IPY_MODEL_7c8635b248f64648a98e23595f37a486"
       ],
       "layout": "IPY_MODEL_79407eb85d6849bb895ea56c5aba0df1"
      }
     },
     "2bcdf88cf365483daa23e353fec2a8cf": {
      "model_module": "@jupyter-widgets/controls",
      "model_module_version": "1.2.0",
      "model_name": "CheckboxModel",
      "state": {
       "description": "focusEstBoursier",
       "disabled": false,
       "layout": "IPY_MODEL_061564f213f84f8b93284438ade27181",
       "style": "IPY_MODEL_3f8f6e65a00341188abd30de4a8b5923",
       "value": false
      }
     },
     "2bec2bbee1ac40aeb0aa1cae9cb8eca3": {
      "model_module": "@jupyter-widgets/controls",
      "model_module_version": "1.2.0",
      "model_name": "IntSliderModel",
      "state": {
       "description": "tauxBoursiers",
       "layout": "IPY_MODEL_54e264aa085c45639bb28f4aa7a57946",
       "style": "IPY_MODEL_e791a11aa1144fa897e9b6220c05e508"
      }
     },
     "2bf37db874b44eaface2d38581e631de": {
      "model_module": "@jupyter-widgets/controls",
      "model_module_version": "1.2.0",
      "model_name": "DescriptionStyleModel",
      "state": {
       "description_width": ""
      }
     },
     "2ca6dd1a31ee48f495a19b78cdae9988": {
      "model_module": "@jupyter-widgets/controls",
      "model_module_version": "1.2.0",
      "model_name": "SliderStyleModel",
      "state": {
       "description_width": ""
      }
     },
     "2d5265f1888c42dda387e96425b4ca7d": {
      "model_module": "@jupyter-widgets/controls",
      "model_module_version": "1.2.0",
      "model_name": "IntSliderModel",
      "state": {
       "description": "random_seed",
       "layout": "IPY_MODEL_9c645dcca3164a3d90eee742204a329a",
       "max": 1000,
       "style": "IPY_MODEL_ee062dc3b02b4575b25a088417618131",
       "value": 108
      }
     },
     "2d9fe8bacef54312a53377697d0fb192": {
      "model_module": "@jupyter-widgets/base",
      "model_module_version": "1.0.0",
      "model_name": "LayoutModel",
      "state": {}
     },
     "2dba4a5f1a164cf7858668d41c26e271": {
      "model_module": "@jupyter-widgets/controls",
      "model_module_version": "1.2.0",
      "model_name": "IntSliderModel",
      "state": {
       "description": "taille",
       "layout": "IPY_MODEL_7315fd6b1a05436b8f6fa116357f62e0",
       "max": 500,
       "min": 1,
       "style": "IPY_MODEL_a209497653a34a5e8e3eee2c7f38d69c",
       "value": 5
      }
     },
     "2dc151296ab549708a803b03aec7fa33": {
      "model_module": "@jupyter-widgets/output",
      "model_module_version": "1.0.0",
      "model_name": "OutputModel",
      "state": {
       "layout": "IPY_MODEL_a27073f379d146a2b8b51ef4ec8a5dc7",
       "outputs": [
        {
         "name": "stdout",
         "output_type": "stream",
         "text": "Visualisation de l'algorithme de calcul de l'ordre d'appel.\n1. Vœux non triés par rang :\n"
        },
        {
         "data": {
          "text/html": "<style type=\"text/css\">table.blockgrid {border: none;} .blockgrid tr {border: none;} .blockgrid td {padding: 0px;} #blocks5a81605e-5ea5-4d58-9ecd-3587ca8fb37f td {border: 1px solid white;}</style><table id=\"blocks5a81605e-5ea5-4d58-9ecd-3587ca8fb37f\" class=\"blockgrid\"><tbody><tr><td title=\"Index: [0, 0]&#10;Color: (160, 160, 160)\" style=\"width: 20px; height: 20px;background-color: rgb(160, 160, 160);\"></td><td title=\"Index: [0, 1]&#10;Color: (240, 240, 240)\" style=\"width: 20px; height: 20px;background-color: rgb(240, 240, 240);\"></td><td title=\"Index: [0, 2]&#10;Color: (0, 0, 160)\" style=\"width: 20px; height: 20px;background-color: rgb(0, 0, 160);\"></td><td title=\"Index: [0, 3]&#10;Color: (160, 160, 160)\" style=\"width: 20px; height: 20px;background-color: rgb(160, 160, 160);\"></td><td title=\"Index: [0, 4]&#10;Color: (160, 160, 160)\" style=\"width: 20px; height: 20px;background-color: rgb(160, 160, 160);\"></td><td title=\"Index: [0, 5]&#10;Color: (160, 160, 160)\" style=\"width: 20px; height: 20px;background-color: rgb(160, 160, 160);\"></td><td title=\"Index: [0, 6]&#10;Color: (160, 0, 0)\" style=\"width: 20px; height: 20px;background-color: rgb(160, 0, 0);\"></td><td title=\"Index: [0, 7]&#10;Color: (160, 0, 0)\" style=\"width: 20px; height: 20px;background-color: rgb(160, 0, 0);\"></td><td title=\"Index: [0, 8]&#10;Color: (160, 160, 160)\" style=\"width: 20px; height: 20px;background-color: rgb(160, 160, 160);\"></td><td title=\"Index: [0, 9]&#10;Color: (160, 160, 160)\" style=\"width: 20px; height: 20px;background-color: rgb(160, 160, 160);\"></td></tr></tbody></table>",
          "text/plain": "<ipythonblocks.ipythonblocks.BlockGrid at 0x7fa2b44c13c8>"
         },
         "metadata": {},
         "output_type": "display_data"
        },
        {
         "name": "stdout",
         "output_type": "stream",
         "text": "2. Vœux triés par rang, mais pas par l'algorithme :\n"
        },
        {
         "data": {
          "text/html": "<style type=\"text/css\">table.blockgrid {border: none;} .blockgrid tr {border: none;} .blockgrid td {padding: 0px;} #blocksf1613761-b09e-4233-a43a-9685f5eb0be9 td {border: 1px solid white;}</style><table id=\"blocksf1613761-b09e-4233-a43a-9685f5eb0be9\" class=\"blockgrid\"><tbody><tr><td title=\"Index: [0, 0]&#10;Color: (240, 240, 240)\" style=\"width: 20px; height: 20px;background-color: rgb(240, 240, 240);\"></td><td title=\"Index: [0, 1]&#10;Color: (160, 160, 160)\" style=\"width: 20px; height: 20px;background-color: rgb(160, 160, 160);\"></td><td title=\"Index: [0, 2]&#10;Color: (160, 160, 160)\" style=\"width: 20px; height: 20px;background-color: rgb(160, 160, 160);\"></td><td title=\"Index: [0, 3]&#10;Color: (160, 160, 160)\" style=\"width: 20px; height: 20px;background-color: rgb(160, 160, 160);\"></td><td title=\"Index: [0, 4]&#10;Color: (0, 0, 160)\" style=\"width: 20px; height: 20px;background-color: rgb(0, 0, 160);\"></td><td title=\"Index: [0, 5]&#10;Color: (160, 160, 160)\" style=\"width: 20px; height: 20px;background-color: rgb(160, 160, 160);\"></td><td title=\"Index: [0, 6]&#10;Color: (160, 0, 0)\" style=\"width: 20px; height: 20px;background-color: rgb(160, 0, 0);\"></td><td title=\"Index: [0, 7]&#10;Color: (160, 160, 160)\" style=\"width: 20px; height: 20px;background-color: rgb(160, 160, 160);\"></td><td title=\"Index: [0, 8]&#10;Color: (160, 160, 160)\" style=\"width: 20px; height: 20px;background-color: rgb(160, 160, 160);\"></td><td title=\"Index: [0, 9]&#10;Color: (160, 0, 0)\" style=\"width: 20px; height: 20px;background-color: rgb(160, 0, 0);\"></td></tr></tbody></table>",
          "text/plain": "<ipythonblocks.ipythonblocks.BlockGrid at 0x7fa2b44c13c8>"
         },
         "metadata": {},
         "output_type": "display_data"
        },
        {
         "name": "stdout",
         "output_type": "stream",
         "text": "3. Vœux triés par l'algorithme :\n"
        },
        {
         "data": {
          "text/html": "<style type=\"text/css\">table.blockgrid {border: none;} .blockgrid tr {border: none;} .blockgrid td {padding: 0px;} #blocks3a5aff0d-6541-4b6a-95e4-d7526608f6af td {border: 1px solid white;}</style><table id=\"blocks3a5aff0d-6541-4b6a-95e4-d7526608f6af\" class=\"blockgrid\"><tbody><tr><td title=\"Index: [0, 0]&#10;Color: (160, 0, 0)\" style=\"width: 20px; height: 20px;background-color: rgb(160, 0, 0);\"></td><td title=\"Index: [0, 1]&#10;Color: (240, 240, 240)\" style=\"width: 20px; height: 20px;background-color: rgb(240, 240, 240);\"></td><td title=\"Index: [0, 2]&#10;Color: (160, 160, 160)\" style=\"width: 20px; height: 20px;background-color: rgb(160, 160, 160);\"></td><td title=\"Index: [0, 3]&#10;Color: (160, 160, 160)\" style=\"width: 20px; height: 20px;background-color: rgb(160, 160, 160);\"></td><td title=\"Index: [0, 4]&#10;Color: (160, 160, 160)\" style=\"width: 20px; height: 20px;background-color: rgb(160, 160, 160);\"></td><td title=\"Index: [0, 5]&#10;Color: (0, 0, 160)\" style=\"width: 20px; height: 20px;background-color: rgb(0, 0, 160);\"></td><td title=\"Index: [0, 6]&#10;Color: (160, 160, 160)\" style=\"width: 20px; height: 20px;background-color: rgb(160, 160, 160);\"></td><td title=\"Index: [0, 7]&#10;Color: (160, 160, 160)\" style=\"width: 20px; height: 20px;background-color: rgb(160, 160, 160);\"></td><td title=\"Index: [0, 8]&#10;Color: (160, 160, 160)\" style=\"width: 20px; height: 20px;background-color: rgb(160, 160, 160);\"></td><td title=\"Index: [0, 9]&#10;Color: (160, 0, 0)\" style=\"width: 20px; height: 20px;background-color: rgb(160, 0, 0);\"></td></tr></tbody></table>",
          "text/plain": "<ipythonblocks.ipythonblocks.BlockGrid at 0x7fa2b44c13c8>"
         },
         "metadata": {},
         "output_type": "display_data"
        }
       ]
      }
     },
     "2dcf0696e6f548c081d9908160eab639": {
      "model_module": "@jupyter-widgets/controls",
      "model_module_version": "1.2.0",
      "model_name": "SliderStyleModel",
      "state": {
       "description_width": ""
      }
     },
     "2e06ec40b9df491ebdf745606323e821": {
      "model_module": "@jupyter-widgets/controls",
      "model_module_version": "1.2.0",
      "model_name": "DescriptionStyleModel",
      "state": {
       "description_width": ""
      }
     },
     "2e19c3228a9e448e9eb15d715fa18560": {
      "model_module": "@jupyter-widgets/controls",
      "model_module_version": "1.2.0",
      "model_name": "DescriptionStyleModel",
      "state": {
       "description_width": ""
      }
     },
     "2e3a8bd1d7f44efdb26c6ce3fc3a6250": {
      "model_module": "@jupyter-widgets/controls",
      "model_module_version": "1.2.0",
      "model_name": "DescriptionStyleModel",
      "state": {
       "description_width": ""
      }
     },
     "2e5258e9a0494fd8a9b57867e2d47ff5": {
      "model_module": "@jupyter-widgets/controls",
      "model_module_version": "1.2.0",
      "model_name": "SliderStyleModel",
      "state": {
       "description_width": ""
      }
     },
     "2e5538747e58489993ede0f304485a32": {
      "model_module": "@jupyter-widgets/base",
      "model_module_version": "1.0.0",
      "model_name": "LayoutModel",
      "state": {}
     },
     "2ea2316604204b2ea19073643a482d1c": {
      "model_module": "@jupyter-widgets/base",
      "model_module_version": "1.0.0",
      "model_name": "LayoutModel",
      "state": {}
     },
     "2ea39194c9f14724a8af55365eb9b5f7": {
      "model_module": "@jupyter-widgets/base",
      "model_module_version": "1.0.0",
      "model_name": "LayoutModel",
      "state": {}
     },
     "2ea53933bd124e2598b51562f76dace9": {
      "model_module": "@jupyter-widgets/controls",
      "model_module_version": "1.2.0",
      "model_name": "IntSliderModel",
      "state": {
       "description": "tauxResidents",
       "layout": "IPY_MODEL_00fc6b43075748cd867ad7aa937b0f7e",
       "style": "IPY_MODEL_9a264cd09e1c42d6a52c3a954428695f",
       "value": 20
      }
     },
     "2ec6152e7eab4377989a24387a768fc2": {
      "model_module": "@jupyter-widgets/controls",
      "model_module_version": "1.2.0",
      "model_name": "IntSliderModel",
      "state": {
       "description": "tauxMinBoursiersPourcents",
       "layout": "IPY_MODEL_ba2eec846e5f44ad8f4f6279867d333f",
       "style": "IPY_MODEL_07435649da3348c29ea5f6322a6f87c6",
       "value": 10
      }
     },
     "2f601b61da504b40aa084aa205e5880e": {
      "model_module": "@jupyter-widgets/controls",
      "model_module_version": "1.2.0",
      "model_name": "IntSliderModel",
      "state": {
       "description": "tauxMinBoursiersPourcents",
       "layout": "IPY_MODEL_195b7806fae749a68017a20fe940d620",
       "step": 5,
       "style": "IPY_MODEL_4aaafe2a91804374b760e9d67efb3748",
       "value": 20
      }
     },
     "3006a1ae76914204ba4ad4971a192f74": {
      "model_module": "@jupyter-widgets/controls",
      "model_module_version": "1.2.0",
      "model_name": "SliderStyleModel",
      "state": {
       "description_width": ""
      }
     },
     "3078038a78114e9482338a419769cd4b": {
      "model_module": "@jupyter-widgets/base",
      "model_module_version": "1.0.0",
      "model_name": "LayoutModel",
      "state": {}
     },
     "30db017bf58a478882062bc22a440e3d": {
      "model_module": "@jupyter-widgets/base",
      "model_module_version": "1.0.0",
      "model_name": "LayoutModel",
      "state": {}
     },
     "3109bcd3645b4b5daac8e3011223a4a2": {
      "model_module": "@jupyter-widgets/controls",
      "model_module_version": "1.2.0",
      "model_name": "IntSliderModel",
      "state": {
       "description": "taille",
       "layout": "IPY_MODEL_1fd7a14068b748f7b809b2822543f2f0",
       "max": 200,
       "min": 1,
       "style": "IPY_MODEL_51d2bb46f13841d4b1ca2968413fe51c",
       "value": 10
      }
     },
     "314d31ad269d40e48b07498ad13eef63": {
      "model_module": "@jupyter-widgets/controls",
      "model_module_version": "1.2.0",
      "model_name": "IntSliderModel",
      "state": {
       "description": "taille",
       "layout": "IPY_MODEL_d8d8efff46b04300a36ed66491f67bf5",
       "max": 200,
       "min": 1,
       "style": "IPY_MODEL_0b48e627e94e4378923be13410ffd589",
       "value": 200
      }
     },
     "3163c5b4aa3c40b089857946d550cadd": {
      "model_module": "@jupyter-widgets/controls",
      "model_module_version": "1.2.0",
      "model_name": "VBoxModel",
      "state": {
       "_dom_classes": [
        "widget-interact"
       ],
       "children": [
        "IPY_MODEL_1341cb9f361b4dd898ff8ee358eb8c3c",
        "IPY_MODEL_8e858a7ee46b4b77a26eb2690c2305eb",
        "IPY_MODEL_86a421b5ace94453b6907619537440b0",
        "IPY_MODEL_3af275df184e4721a7bfc1ec1e691749",
        "IPY_MODEL_4ae1859aec0e434fab626e1f7e9e530d",
        "IPY_MODEL_27f3f8dc78c14f2f98a8816ddc5286ed",
        "IPY_MODEL_4cfa7e9159054e03825efad5ce90edbb"
       ],
       "layout": "IPY_MODEL_106716682d8b42879d4f770568ec7867"
      }
     },
     "31a7a823a14942b99b61c88c489ddcd3": {
      "model_module": "@jupyter-widgets/controls",
      "model_module_version": "1.2.0",
      "model_name": "SliderStyleModel",
      "state": {
       "description_width": ""
      }
     },
     "32d755aa33b24c02b358bdf44da91ff4": {
      "model_module": "@jupyter-widgets/controls",
      "model_module_version": "1.2.0",
      "model_name": "SliderStyleModel",
      "state": {
       "description_width": ""
      }
     },
     "32ec1ac53a5a4d2eb5acc232b4351506": {
      "model_module": "@jupyter-widgets/controls",
      "model_module_version": "1.2.0",
      "model_name": "IntSliderModel",
      "state": {
       "description": "tauxMinBoursiersPourcents",
       "layout": "IPY_MODEL_c074197b8d1040f2a9cc90cc2c8f5808",
       "style": "IPY_MODEL_1f1ac1850e404275a027aa67eadb799d",
       "value": 10
      }
     },
     "330df5e122ef415da11f09ba3c6cdd57": {
      "model_module": "@jupyter-widgets/controls",
      "model_module_version": "1.2.0",
      "model_name": "CheckboxModel",
      "state": {
       "description": "focusEstResident",
       "disabled": false,
       "layout": "IPY_MODEL_be52e6be789a4f0fb9f40e06477b5545",
       "style": "IPY_MODEL_7526b8bed14846d194b7c44277746e15",
       "value": false
      }
     },
     "3320664b93194c94af9b137273ec6df7": {
      "model_module": "@jupyter-widgets/controls",
      "model_module_version": "1.2.0",
      "model_name": "IntSliderModel",
      "state": {
       "description": "tauxMinResidentsPourcents",
       "layout": "IPY_MODEL_d32bc349766f49cc97dbf5cacc022ace",
       "style": "IPY_MODEL_876633972c2f418b9ddf97d0007f6f70",
       "value": 10
      }
     },
     "333c450a712b44c8988b7fb791e41acd": {
      "model_module": "@jupyter-widgets/controls",
      "model_module_version": "1.2.0",
      "model_name": "SliderStyleModel",
      "state": {
       "description_width": ""
      }
     },
     "33662e04ea5d4fbb8ca303a659e932a3": {
      "model_module": "@jupyter-widgets/controls",
      "model_module_version": "1.2.0",
      "model_name": "IntSliderModel",
      "state": {
       "description": "taille",
       "layout": "IPY_MODEL_9d0caff9d68841529a99389cb957c7fe",
       "min": 10,
       "style": "IPY_MODEL_dfefdd6bec4a4635a3f06384db58f52d",
       "value": 100
      }
     },
     "339e004bf77f4fc89e1970ce133c9ff3": {
      "model_module": "@jupyter-widgets/base",
      "model_module_version": "1.0.0",
      "model_name": "LayoutModel",
      "state": {}
     },
     "33c4ae756feb42d1ad27bebc86aa2b56": {
      "model_module": "@jupyter-widgets/controls",
      "model_module_version": "1.2.0",
      "model_name": "CheckboxModel",
      "state": {
       "description": "focusEstResident",
       "disabled": false,
       "layout": "IPY_MODEL_9171c7d4265a4ec4a24a3ed07af5c1b4",
       "style": "IPY_MODEL_e38a5cc7f3cc4913b3c5b9f772a0281b",
       "value": false
      }
     },
     "34067c3caf4e4ed29d9d6e3a52f2ce31": {
      "model_module": "@jupyter-widgets/base",
      "model_module_version": "1.0.0",
      "model_name": "LayoutModel",
      "state": {}
     },
     "3491e63172674df1b448eb31cb326723": {
      "model_module": "@jupyter-widgets/output",
      "model_module_version": "1.0.0",
      "model_name": "OutputModel",
      "state": {
       "layout": "IPY_MODEL_8dd2e33570724909b65beb4b57ac78bb",
       "outputs": [
        {
         "name": "stdout",
         "output_type": "stream",
         "text": "Visualisation de l'algorithme de calcul de l'ordre d'appel.\n1. Vœux non triés par rang :\n"
        },
        {
         "data": {
          "text/html": "<style type=\"text/css\">table.blockgrid {border: none;} .blockgrid tr {border: none;} .blockgrid td {padding: 0px;} #blocksa5ad1986-1320-470c-b8b1-c609eca674f8 td {border: 1px solid white;}</style><table id=\"blocksa5ad1986-1320-470c-b8b1-c609eca674f8\" class=\"blockgrid\"><tbody><tr><td title=\"Index: [0, 0]&#10;Color: (100, 100, 100)\" style=\"width: 20px; height: 20px;background-color: rgb(100, 100, 100);\"></td><td title=\"Index: [0, 1]&#10;Color: (240, 240, 240)\" style=\"width: 20px; height: 20px;background-color: rgb(240, 240, 240);\"></td><td title=\"Index: [0, 2]&#10;Color: (0, 0, 100)\" style=\"width: 20px; height: 20px;background-color: rgb(0, 0, 100);\"></td><td title=\"Index: [0, 3]&#10;Color: (100, 100, 100)\" style=\"width: 20px; height: 20px;background-color: rgb(100, 100, 100);\"></td><td title=\"Index: [0, 4]&#10;Color: (100, 100, 100)\" style=\"width: 20px; height: 20px;background-color: rgb(100, 100, 100);\"></td><td title=\"Index: [0, 5]&#10;Color: (100, 100, 100)\" style=\"width: 20px; height: 20px;background-color: rgb(100, 100, 100);\"></td><td title=\"Index: [0, 6]&#10;Color: (100, 0, 0)\" style=\"width: 20px; height: 20px;background-color: rgb(100, 0, 0);\"></td><td title=\"Index: [0, 7]&#10;Color: (100, 0, 0)\" style=\"width: 20px; height: 20px;background-color: rgb(100, 0, 0);\"></td><td title=\"Index: [0, 8]&#10;Color: (100, 100, 100)\" style=\"width: 20px; height: 20px;background-color: rgb(100, 100, 100);\"></td><td title=\"Index: [0, 9]&#10;Color: (100, 100, 100)\" style=\"width: 20px; height: 20px;background-color: rgb(100, 100, 100);\"></td></tr></tbody></table>",
          "text/plain": "<ipythonblocks.ipythonblocks.BlockGrid at 0x7fa2b44c1128>"
         },
         "metadata": {},
         "output_type": "display_data"
        },
        {
         "name": "stdout",
         "output_type": "stream",
         "text": "2. Vœux triés par rang, mais pas par l'algorithme :\n"
        },
        {
         "data": {
          "text/html": "<style type=\"text/css\">table.blockgrid {border: none;} .blockgrid tr {border: none;} .blockgrid td {padding: 0px;} #blocksbbd41274-82c9-413e-b242-b6f6b500bbcf td {border: 1px solid white;}</style><table id=\"blocksbbd41274-82c9-413e-b242-b6f6b500bbcf\" class=\"blockgrid\"><tbody><tr><td title=\"Index: [0, 0]&#10;Color: (240, 240, 240)\" style=\"width: 20px; height: 20px;background-color: rgb(240, 240, 240);\"></td><td title=\"Index: [0, 1]&#10;Color: (100, 100, 100)\" style=\"width: 20px; height: 20px;background-color: rgb(100, 100, 100);\"></td><td title=\"Index: [0, 2]&#10;Color: (100, 100, 100)\" style=\"width: 20px; height: 20px;background-color: rgb(100, 100, 100);\"></td><td title=\"Index: [0, 3]&#10;Color: (100, 100, 100)\" style=\"width: 20px; height: 20px;background-color: rgb(100, 100, 100);\"></td><td title=\"Index: [0, 4]&#10;Color: (0, 0, 100)\" style=\"width: 20px; height: 20px;background-color: rgb(0, 0, 100);\"></td><td title=\"Index: [0, 5]&#10;Color: (100, 100, 100)\" style=\"width: 20px; height: 20px;background-color: rgb(100, 100, 100);\"></td><td title=\"Index: [0, 6]&#10;Color: (100, 0, 0)\" style=\"width: 20px; height: 20px;background-color: rgb(100, 0, 0);\"></td><td title=\"Index: [0, 7]&#10;Color: (100, 100, 100)\" style=\"width: 20px; height: 20px;background-color: rgb(100, 100, 100);\"></td><td title=\"Index: [0, 8]&#10;Color: (100, 100, 100)\" style=\"width: 20px; height: 20px;background-color: rgb(100, 100, 100);\"></td><td title=\"Index: [0, 9]&#10;Color: (100, 0, 0)\" style=\"width: 20px; height: 20px;background-color: rgb(100, 0, 0);\"></td></tr></tbody></table>",
          "text/plain": "<ipythonblocks.ipythonblocks.BlockGrid at 0x7fa2b44c1128>"
         },
         "metadata": {},
         "output_type": "display_data"
        },
        {
         "name": "stdout",
         "output_type": "stream",
         "text": "3. Vœux triés par l'algorithme :\n"
        },
        {
         "data": {
          "text/html": "<style type=\"text/css\">table.blockgrid {border: none;} .blockgrid tr {border: none;} .blockgrid td {padding: 0px;} #blockse80bf255-8f13-4c89-b1bd-8ada7cd7a471 td {border: 1px solid white;}</style><table id=\"blockse80bf255-8f13-4c89-b1bd-8ada7cd7a471\" class=\"blockgrid\"><tbody><tr><td title=\"Index: [0, 0]&#10;Color: (100, 0, 0)\" style=\"width: 20px; height: 20px;background-color: rgb(100, 0, 0);\"></td><td title=\"Index: [0, 1]&#10;Color: (240, 240, 240)\" style=\"width: 20px; height: 20px;background-color: rgb(240, 240, 240);\"></td><td title=\"Index: [0, 2]&#10;Color: (100, 100, 100)\" style=\"width: 20px; height: 20px;background-color: rgb(100, 100, 100);\"></td><td title=\"Index: [0, 3]&#10;Color: (100, 100, 100)\" style=\"width: 20px; height: 20px;background-color: rgb(100, 100, 100);\"></td><td title=\"Index: [0, 4]&#10;Color: (100, 100, 100)\" style=\"width: 20px; height: 20px;background-color: rgb(100, 100, 100);\"></td><td title=\"Index: [0, 5]&#10;Color: (0, 0, 100)\" style=\"width: 20px; height: 20px;background-color: rgb(0, 0, 100);\"></td><td title=\"Index: [0, 6]&#10;Color: (100, 100, 100)\" style=\"width: 20px; height: 20px;background-color: rgb(100, 100, 100);\"></td><td title=\"Index: [0, 7]&#10;Color: (100, 100, 100)\" style=\"width: 20px; height: 20px;background-color: rgb(100, 100, 100);\"></td><td title=\"Index: [0, 8]&#10;Color: (100, 100, 100)\" style=\"width: 20px; height: 20px;background-color: rgb(100, 100, 100);\"></td><td title=\"Index: [0, 9]&#10;Color: (100, 0, 0)\" style=\"width: 20px; height: 20px;background-color: rgb(100, 0, 0);\"></td></tr></tbody></table>",
          "text/plain": "<ipythonblocks.ipythonblocks.BlockGrid at 0x7fa2b44c1128>"
         },
         "metadata": {},
         "output_type": "display_data"
        }
       ]
      }
     },
     "34b25d57411547ab8ce1cb224af711d2": {
      "model_module": "@jupyter-widgets/output",
      "model_module_version": "1.0.0",
      "model_name": "OutputModel",
      "state": {
       "layout": "IPY_MODEL_42a018ecd7984379b24a60b6ed05a8f1",
       "outputs": [
        {
         "name": "stdout",
         "output_type": "stream",
         "text": "Visualisation de l'algorithme de calcul de l'ordre d'appel.\n1. Vœux non triés par rang :\n"
        },
        {
         "data": {
          "text/html": "<style type=\"text/css\">table.blockgrid {border: none;} .blockgrid tr {border: none;} .blockgrid td {padding: 0px;} #blocksfe5cbe01-7870-4f2a-b5d3-50f17a5c52b2 td {border: 1px solid white;}</style><table id=\"blocksfe5cbe01-7870-4f2a-b5d3-50f17a5c52b2\" class=\"blockgrid\"><tbody><tr><td title=\"Index: [0, 0]&#10;Color: (255, 255, 255)\" style=\"width: 20px; height: 20px;background-color: rgb(255, 255, 255);\"></td><td title=\"Index: [0, 1]&#10;Color: (200, 200, 200)\" style=\"width: 20px; height: 20px;background-color: rgb(200, 200, 200);\"></td><td title=\"Index: [0, 2]&#10;Color: (200, 200, 200)\" style=\"width: 20px; height: 20px;background-color: rgb(200, 200, 200);\"></td><td title=\"Index: [0, 3]&#10;Color: (200, 200, 200)\" style=\"width: 20px; height: 20px;background-color: rgb(200, 200, 200);\"></td><td title=\"Index: [0, 4]&#10;Color: (200, 200, 200)\" style=\"width: 20px; height: 20px;background-color: rgb(200, 200, 200);\"></td><td title=\"Index: [0, 5]&#10;Color: (0, 0, 200)\" style=\"width: 20px; height: 20px;background-color: rgb(0, 0, 200);\"></td><td title=\"Index: [0, 6]&#10;Color: (200, 200, 200)\" style=\"width: 20px; height: 20px;background-color: rgb(200, 200, 200);\"></td><td title=\"Index: [0, 7]&#10;Color: (200, 0, 0)\" style=\"width: 20px; height: 20px;background-color: rgb(200, 0, 0);\"></td><td title=\"Index: [0, 8]&#10;Color: (200, 200, 200)\" style=\"width: 20px; height: 20px;background-color: rgb(200, 200, 200);\"></td><td title=\"Index: [0, 9]&#10;Color: (200, 0, 0)\" style=\"width: 20px; height: 20px;background-color: rgb(200, 0, 0);\"></td><td title=\"Index: [0, 10]&#10;Color: (200, 0, 200)\" style=\"width: 20px; height: 20px;background-color: rgb(200, 0, 200);\"></td><td title=\"Index: [0, 11]&#10;Color: (200, 200, 200)\" style=\"width: 20px; height: 20px;background-color: rgb(200, 200, 200);\"></td><td title=\"Index: [0, 12]&#10;Color: (200, 200, 200)\" style=\"width: 20px; height: 20px;background-color: rgb(200, 200, 200);\"></td><td title=\"Index: [0, 13]&#10;Color: (200, 200, 200)\" style=\"width: 20px; height: 20px;background-color: rgb(200, 200, 200);\"></td><td title=\"Index: [0, 14]&#10;Color: (0, 0, 200)\" style=\"width: 20px; height: 20px;background-color: rgb(0, 0, 200);\"></td><td title=\"Index: [0, 15]&#10;Color: (200, 200, 200)\" style=\"width: 20px; height: 20px;background-color: rgb(200, 200, 200);\"></td><td title=\"Index: [0, 16]&#10;Color: (200, 200, 200)\" style=\"width: 20px; height: 20px;background-color: rgb(200, 200, 200);\"></td><td title=\"Index: [0, 17]&#10;Color: (200, 0, 0)\" style=\"width: 20px; height: 20px;background-color: rgb(200, 0, 0);\"></td><td title=\"Index: [0, 18]&#10;Color: (200, 200, 200)\" style=\"width: 20px; height: 20px;background-color: rgb(200, 200, 200);\"></td><td title=\"Index: [0, 19]&#10;Color: (200, 0, 0)\" style=\"width: 20px; height: 20px;background-color: rgb(200, 0, 0);\"></td><td title=\"Index: [0, 20]&#10;Color: (200, 200, 200)\" style=\"width: 20px; height: 20px;background-color: rgb(200, 200, 200);\"></td><td title=\"Index: [0, 21]&#10;Color: (200, 200, 200)\" style=\"width: 20px; height: 20px;background-color: rgb(200, 200, 200);\"></td><td title=\"Index: [0, 22]&#10;Color: (200, 200, 200)\" style=\"width: 20px; height: 20px;background-color: rgb(200, 200, 200);\"></td><td title=\"Index: [0, 23]&#10;Color: (0, 0, 200)\" style=\"width: 20px; height: 20px;background-color: rgb(0, 0, 200);\"></td><td title=\"Index: [0, 24]&#10;Color: (0, 0, 200)\" style=\"width: 20px; height: 20px;background-color: rgb(0, 0, 200);\"></td><td title=\"Index: [0, 25]&#10;Color: (200, 200, 200)\" style=\"width: 20px; height: 20px;background-color: rgb(200, 200, 200);\"></td><td title=\"Index: [0, 26]&#10;Color: (200, 200, 200)\" style=\"width: 20px; height: 20px;background-color: rgb(200, 200, 200);\"></td><td title=\"Index: [0, 27]&#10;Color: (200, 200, 200)\" style=\"width: 20px; height: 20px;background-color: rgb(200, 200, 200);\"></td><td title=\"Index: [0, 28]&#10;Color: (0, 0, 200)\" style=\"width: 20px; height: 20px;background-color: rgb(0, 0, 200);\"></td><td title=\"Index: [0, 29]&#10;Color: (200, 200, 200)\" style=\"width: 20px; height: 20px;background-color: rgb(200, 200, 200);\"></td><td title=\"Index: [0, 30]&#10;Color: (200, 0, 0)\" style=\"width: 20px; height: 20px;background-color: rgb(200, 0, 0);\"></td><td title=\"Index: [0, 31]&#10;Color: (200, 200, 200)\" style=\"width: 20px; height: 20px;background-color: rgb(200, 200, 200);\"></td><td title=\"Index: [0, 32]&#10;Color: (0, 0, 200)\" style=\"width: 20px; height: 20px;background-color: rgb(0, 0, 200);\"></td><td title=\"Index: [0, 33]&#10;Color: (200, 0, 0)\" style=\"width: 20px; height: 20px;background-color: rgb(200, 0, 0);\"></td></tr></tbody></table>",
          "text/plain": "<ipythonblocks.ipythonblocks.BlockGrid at 0x7fa2b45b2f60>"
         },
         "metadata": {},
         "output_type": "display_data"
        },
        {
         "name": "stdout",
         "output_type": "stream",
         "text": "2. Vœux triés par rang, mais pas par l'algorithme :\n"
        },
        {
         "data": {
          "text/html": "<style type=\"text/css\">table.blockgrid {border: none;} .blockgrid tr {border: none;} .blockgrid td {padding: 0px;} #blocks55d6f1e3-2245-4f26-9ebb-749171d5633f td {border: 1px solid white;}</style><table id=\"blocks55d6f1e3-2245-4f26-9ebb-749171d5633f\" class=\"blockgrid\"><tbody><tr><td title=\"Index: [0, 0]&#10;Color: (200, 200, 200)\" style=\"width: 20px; height: 20px;background-color: rgb(200, 200, 200);\"></td><td title=\"Index: [0, 1]&#10;Color: (200, 200, 200)\" style=\"width: 20px; height: 20px;background-color: rgb(200, 200, 200);\"></td><td title=\"Index: [0, 2]&#10;Color: (200, 200, 200)\" style=\"width: 20px; height: 20px;background-color: rgb(200, 200, 200);\"></td><td title=\"Index: [0, 3]&#10;Color: (0, 0, 200)\" style=\"width: 20px; height: 20px;background-color: rgb(0, 0, 200);\"></td><td title=\"Index: [0, 4]&#10;Color: (200, 200, 200)\" style=\"width: 20px; height: 20px;background-color: rgb(200, 200, 200);\"></td><td title=\"Index: [0, 5]&#10;Color: (0, 0, 200)\" style=\"width: 20px; height: 20px;background-color: rgb(0, 0, 200);\"></td><td title=\"Index: [0, 6]&#10;Color: (200, 200, 200)\" style=\"width: 20px; height: 20px;background-color: rgb(200, 200, 200);\"></td><td title=\"Index: [0, 7]&#10;Color: (200, 0, 0)\" style=\"width: 20px; height: 20px;background-color: rgb(200, 0, 0);\"></td><td title=\"Index: [0, 8]&#10;Color: (200, 200, 200)\" style=\"width: 20px; height: 20px;background-color: rgb(200, 200, 200);\"></td><td title=\"Index: [0, 9]&#10;Color: (200, 0, 0)\" style=\"width: 20px; height: 20px;background-color: rgb(200, 0, 0);\"></td><td title=\"Index: [0, 10]&#10;Color: (200, 200, 200)\" style=\"width: 20px; height: 20px;background-color: rgb(200, 200, 200);\"></td><td title=\"Index: [0, 11]&#10;Color: (0, 0, 200)\" style=\"width: 20px; height: 20px;background-color: rgb(0, 0, 200);\"></td><td title=\"Index: [0, 12]&#10;Color: (200, 200, 200)\" style=\"width: 20px; height: 20px;background-color: rgb(200, 200, 200);\"></td><td title=\"Index: [0, 13]&#10;Color: (200, 200, 200)\" style=\"width: 20px; height: 20px;background-color: rgb(200, 200, 200);\"></td><td title=\"Index: [0, 14]&#10;Color: (0, 0, 200)\" style=\"width: 20px; height: 20px;background-color: rgb(0, 0, 200);\"></td><td title=\"Index: [0, 15]&#10;Color: (0, 0, 200)\" style=\"width: 20px; height: 20px;background-color: rgb(0, 0, 200);\"></td><td title=\"Index: [0, 16]&#10;Color: (200, 200, 200)\" style=\"width: 20px; height: 20px;background-color: rgb(200, 200, 200);\"></td><td title=\"Index: [0, 17]&#10;Color: (200, 0, 200)\" style=\"width: 20px; height: 20px;background-color: rgb(200, 0, 200);\"></td><td title=\"Index: [0, 18]&#10;Color: (200, 0, 0)\" style=\"width: 20px; height: 20px;background-color: rgb(200, 0, 0);\"></td><td title=\"Index: [0, 19]&#10;Color: (200, 200, 200)\" style=\"width: 20px; height: 20px;background-color: rgb(200, 200, 200);\"></td><td title=\"Index: [0, 20]&#10;Color: (200, 200, 200)\" style=\"width: 20px; height: 20px;background-color: rgb(200, 200, 200);\"></td><td title=\"Index: [0, 21]&#10;Color: (200, 0, 0)\" style=\"width: 20px; height: 20px;background-color: rgb(200, 0, 0);\"></td><td title=\"Index: [0, 22]&#10;Color: (200, 200, 200)\" style=\"width: 20px; height: 20px;background-color: rgb(200, 200, 200);\"></td><td title=\"Index: [0, 23]&#10;Color: (200, 200, 200)\" style=\"width: 20px; height: 20px;background-color: rgb(200, 200, 200);\"></td><td title=\"Index: [0, 24]&#10;Color: (200, 200, 200)\" style=\"width: 20px; height: 20px;background-color: rgb(200, 200, 200);\"></td><td title=\"Index: [0, 25]&#10;Color: (200, 0, 0)\" style=\"width: 20px; height: 20px;background-color: rgb(200, 0, 0);\"></td><td title=\"Index: [0, 26]&#10;Color: (200, 200, 200)\" style=\"width: 20px; height: 20px;background-color: rgb(200, 200, 200);\"></td><td title=\"Index: [0, 27]&#10;Color: (0, 0, 200)\" style=\"width: 20px; height: 20px;background-color: rgb(0, 0, 200);\"></td><td title=\"Index: [0, 28]&#10;Color: (200, 200, 200)\" style=\"width: 20px; height: 20px;background-color: rgb(200, 200, 200);\"></td><td title=\"Index: [0, 29]&#10;Color: (200, 200, 200)\" style=\"width: 20px; height: 20px;background-color: rgb(200, 200, 200);\"></td><td title=\"Index: [0, 30]&#10;Color: (200, 200, 200)\" style=\"width: 20px; height: 20px;background-color: rgb(200, 200, 200);\"></td><td title=\"Index: [0, 31]&#10;Color: (200, 0, 0)\" style=\"width: 20px; height: 20px;background-color: rgb(200, 0, 0);\"></td><td title=\"Index: [0, 32]&#10;Color: (255, 255, 255)\" style=\"width: 20px; height: 20px;background-color: rgb(255, 255, 255);\"></td><td title=\"Index: [0, 33]&#10;Color: (200, 200, 200)\" style=\"width: 20px; height: 20px;background-color: rgb(200, 200, 200);\"></td></tr></tbody></table>",
          "text/plain": "<ipythonblocks.ipythonblocks.BlockGrid at 0x7fa2b45960f0>"
         },
         "metadata": {},
         "output_type": "display_data"
        },
        {
         "name": "stdout",
         "output_type": "stream",
         "text": "3. Vœux triés par l'algorithme :\n"
        },
        {
         "data": {
          "text/html": "<style type=\"text/css\">table.blockgrid {border: none;} .blockgrid tr {border: none;} .blockgrid td {padding: 0px;} #blocks5686c831-b8c6-4784-b87d-c1037e924988 td {border: 1px solid white;}</style><table id=\"blocks5686c831-b8c6-4784-b87d-c1037e924988\" class=\"blockgrid\"><tbody><tr><td title=\"Index: [0, 0]&#10;Color: (200, 0, 0)\" style=\"width: 20px; height: 20px;background-color: rgb(200, 0, 0);\"></td><td title=\"Index: [0, 1]&#10;Color: (200, 200, 200)\" style=\"width: 20px; height: 20px;background-color: rgb(200, 200, 200);\"></td><td title=\"Index: [0, 2]&#10;Color: (255, 255, 255)\" style=\"width: 20px; height: 20px;background-color: rgb(255, 255, 255);\"></td><td title=\"Index: [0, 3]&#10;Color: (200, 200, 200)\" style=\"width: 20px; height: 20px;background-color: rgb(200, 200, 200);\"></td><td title=\"Index: [0, 4]&#10;Color: (200, 200, 200)\" style=\"width: 20px; height: 20px;background-color: rgb(200, 200, 200);\"></td><td title=\"Index: [0, 5]&#10;Color: (200, 200, 200)\" style=\"width: 20px; height: 20px;background-color: rgb(200, 200, 200);\"></td><td title=\"Index: [0, 6]&#10;Color: (0, 0, 200)\" style=\"width: 20px; height: 20px;background-color: rgb(0, 0, 200);\"></td><td title=\"Index: [0, 7]&#10;Color: (200, 200, 200)\" style=\"width: 20px; height: 20px;background-color: rgb(200, 200, 200);\"></td><td title=\"Index: [0, 8]&#10;Color: (200, 0, 0)\" style=\"width: 20px; height: 20px;background-color: rgb(200, 0, 0);\"></td><td title=\"Index: [0, 9]&#10;Color: (200, 200, 200)\" style=\"width: 20px; height: 20px;background-color: rgb(200, 200, 200);\"></td><td title=\"Index: [0, 10]&#10;Color: (200, 200, 200)\" style=\"width: 20px; height: 20px;background-color: rgb(200, 200, 200);\"></td><td title=\"Index: [0, 11]&#10;Color: (200, 200, 200)\" style=\"width: 20px; height: 20px;background-color: rgb(200, 200, 200);\"></td><td title=\"Index: [0, 12]&#10;Color: (200, 0, 0)\" style=\"width: 20px; height: 20px;background-color: rgb(200, 0, 0);\"></td><td title=\"Index: [0, 13]&#10;Color: (200, 200, 200)\" style=\"width: 20px; height: 20px;background-color: rgb(200, 200, 200);\"></td><td title=\"Index: [0, 14]&#10;Color: (200, 200, 200)\" style=\"width: 20px; height: 20px;background-color: rgb(200, 200, 200);\"></td><td title=\"Index: [0, 15]&#10;Color: (200, 0, 0)\" style=\"width: 20px; height: 20px;background-color: rgb(200, 0, 0);\"></td><td title=\"Index: [0, 16]&#10;Color: (200, 0, 200)\" style=\"width: 20px; height: 20px;background-color: rgb(200, 0, 200);\"></td><td title=\"Index: [0, 17]&#10;Color: (200, 200, 200)\" style=\"width: 20px; height: 20px;background-color: rgb(200, 200, 200);\"></td><td title=\"Index: [0, 18]&#10;Color: (0, 0, 200)\" style=\"width: 20px; height: 20px;background-color: rgb(0, 0, 200);\"></td><td title=\"Index: [0, 19]&#10;Color: (0, 0, 200)\" style=\"width: 20px; height: 20px;background-color: rgb(0, 0, 200);\"></td><td title=\"Index: [0, 20]&#10;Color: (200, 200, 200)\" style=\"width: 20px; height: 20px;background-color: rgb(200, 200, 200);\"></td><td title=\"Index: [0, 21]&#10;Color: (200, 200, 200)\" style=\"width: 20px; height: 20px;background-color: rgb(200, 200, 200);\"></td><td title=\"Index: [0, 22]&#10;Color: (0, 0, 200)\" style=\"width: 20px; height: 20px;background-color: rgb(0, 0, 200);\"></td><td title=\"Index: [0, 23]&#10;Color: (200, 200, 200)\" style=\"width: 20px; height: 20px;background-color: rgb(200, 200, 200);\"></td><td title=\"Index: [0, 24]&#10;Color: (200, 0, 0)\" style=\"width: 20px; height: 20px;background-color: rgb(200, 0, 0);\"></td><td title=\"Index: [0, 25]&#10;Color: (200, 200, 200)\" style=\"width: 20px; height: 20px;background-color: rgb(200, 200, 200);\"></td><td title=\"Index: [0, 26]&#10;Color: (200, 0, 0)\" style=\"width: 20px; height: 20px;background-color: rgb(200, 0, 0);\"></td><td title=\"Index: [0, 27]&#10;Color: (200, 200, 200)\" style=\"width: 20px; height: 20px;background-color: rgb(200, 200, 200);\"></td><td title=\"Index: [0, 28]&#10;Color: (0, 0, 200)\" style=\"width: 20px; height: 20px;background-color: rgb(0, 0, 200);\"></td><td title=\"Index: [0, 29]&#10;Color: (200, 200, 200)\" style=\"width: 20px; height: 20px;background-color: rgb(200, 200, 200);\"></td><td title=\"Index: [0, 30]&#10;Color: (0, 0, 200)\" style=\"width: 20px; height: 20px;background-color: rgb(0, 0, 200);\"></td><td title=\"Index: [0, 31]&#10;Color: (200, 200, 200)\" style=\"width: 20px; height: 20px;background-color: rgb(200, 200, 200);\"></td><td title=\"Index: [0, 32]&#10;Color: (200, 200, 200)\" style=\"width: 20px; height: 20px;background-color: rgb(200, 200, 200);\"></td><td title=\"Index: [0, 33]&#10;Color: (200, 200, 200)\" style=\"width: 20px; height: 20px;background-color: rgb(200, 200, 200);\"></td></tr></tbody></table>",
          "text/plain": "<ipythonblocks.ipythonblocks.BlockGrid at 0x7fa2b45960f0>"
         },
         "metadata": {},
         "output_type": "display_data"
        }
       ]
      }
     },
     "34e2af45947a48f9997c8017cfb167b7": {
      "model_module": "@jupyter-widgets/base",
      "model_module_version": "1.0.0",
      "model_name": "LayoutModel",
      "state": {}
     },
     "36032b380d984972a2f57bc5314aad5e": {
      "model_module": "@jupyter-widgets/controls",
      "model_module_version": "1.2.0",
      "model_name": "CheckboxModel",
      "state": {
       "description": "focusEstBoursier",
       "disabled": false,
       "layout": "IPY_MODEL_12288d0ddbde4c7a8dd722d9c2a53109",
       "style": "IPY_MODEL_89077f3e529448699e14fddb3fa5ec76",
       "value": false
      }
     },
     "36ea1d58692541b7a5174e920170fd1d": {
      "model_module": "@jupyter-widgets/base",
      "model_module_version": "1.0.0",
      "model_name": "LayoutModel",
      "state": {}
     },
     "3751da1c560c4e1d9f72bdebe7c4acf2": {
      "model_module": "@jupyter-widgets/controls",
      "model_module_version": "1.2.0",
      "model_name": "SliderStyleModel",
      "state": {
       "description_width": ""
      }
     },
     "376934f37ccf40dd82fd114debdab05c": {
      "model_module": "@jupyter-widgets/controls",
      "model_module_version": "1.2.0",
      "model_name": "VBoxModel",
      "state": {
       "_dom_classes": [
        "widget-interact"
       ],
       "children": [
        "IPY_MODEL_8dbc5f08873d47d9ae866231ce47d8c3",
        "IPY_MODEL_da34fb3c76704f7d98cf70861f092824",
        "IPY_MODEL_cc2ad725ec1d4190af28b35fbef299a2",
        "IPY_MODEL_240782deda5e4a448af8a1dd20ba1a72",
        "IPY_MODEL_a4f955e439b44bd188f327195646af88",
        "IPY_MODEL_59c51220e67f4d57b0ac135bc1a94e24",
        "IPY_MODEL_9505f2810603419dbd4f480d49f564bd",
        "IPY_MODEL_860c4a7d8f054baf9b90370334b2a0b1",
        "IPY_MODEL_5786bee0839e4518a5aaa12461c83e8b",
        "IPY_MODEL_83157cabea3e44ca9101bb03259ebe48"
       ],
       "layout": "IPY_MODEL_1eac48537388434b85f1a59da5083e19"
      }
     },
     "377fca695a45493fb0ce23a546630efc": {
      "model_module": "@jupyter-widgets/controls",
      "model_module_version": "1.2.0",
      "model_name": "SliderStyleModel",
      "state": {
       "description_width": ""
      }
     },
     "3782e9c95f7b402688218d518d59e0bc": {
      "model_module": "@jupyter-widgets/controls",
      "model_module_version": "1.2.0",
      "model_name": "SliderStyleModel",
      "state": {
       "description_width": ""
      }
     },
     "37a1ae23aa4b4e34962c893d584c61a1": {
      "model_module": "@jupyter-widgets/controls",
      "model_module_version": "1.2.0",
      "model_name": "SliderStyleModel",
      "state": {
       "description_width": ""
      }
     },
     "39482d79c36142b2984cef67f376bf14": {
      "model_module": "@jupyter-widgets/controls",
      "model_module_version": "1.2.0",
      "model_name": "VBoxModel",
      "state": {
       "_dom_classes": [
        "widget-interact"
       ],
       "children": [
        "IPY_MODEL_d68bbc8a31bb4d189b28f5bb0db64c17",
        "IPY_MODEL_4958077f52124c3d92aaedc19237d06f",
        "IPY_MODEL_25e0c23910834494bb339915d0b705c9",
        "IPY_MODEL_64c766e60b4245828daf8cff982a0fad",
        "IPY_MODEL_6d000dc0629d4fa082e9e09731fbc4cc",
        "IPY_MODEL_2bcdf88cf365483daa23e353fec2a8cf",
        "IPY_MODEL_33c4ae756feb42d1ad27bebc86aa2b56",
        "IPY_MODEL_1f82f91d1ce44b61a647b60bb8b677fb",
        "IPY_MODEL_e83f32e536c54e1f9f5f3dc1ea0756d3",
        "IPY_MODEL_e45f8a219aee4f7f804dd60b32eaaccb"
       ],
       "layout": "IPY_MODEL_28113c7fd4e5488483282cb25d730936"
      }
     },
     "397e8eb26d8f43449183b6f18745cb01": {
      "model_module": "@jupyter-widgets/base",
      "model_module_version": "1.0.0",
      "model_name": "LayoutModel",
      "state": {}
     },
     "39a52f640ead4d688b222341b58f5159": {
      "model_module": "@jupyter-widgets/output",
      "model_module_version": "1.0.0",
      "model_name": "OutputModel",
      "state": {
       "layout": "IPY_MODEL_b49369f542b445f3b4fd9bdac0ca5a39",
       "outputs": [
        {
         "data": {
          "text/plain": "[2, 1, 3, 4, 5, 6, 7, 8, 9, 10]"
         },
         "metadata": {},
         "output_type": "display_data"
        }
       ]
      }
     },
     "39d05eb9b0cd4f6fbb56a3789f732031": {
      "model_module": "@jupyter-widgets/base",
      "model_module_version": "1.0.0",
      "model_name": "LayoutModel",
      "state": {}
     },
     "3a030004bf194c3282ff68454ce99351": {
      "model_module": "@jupyter-widgets/controls",
      "model_module_version": "1.2.0",
      "model_name": "SliderStyleModel",
      "state": {
       "description_width": ""
      }
     },
     "3af275df184e4721a7bfc1ec1e691749": {
      "model_module": "@jupyter-widgets/controls",
      "model_module_version": "1.2.0",
      "model_name": "IntSliderModel",
      "state": {
       "description": "random_seed",
       "layout": "IPY_MODEL_735cd85470d94eb6ad42c65e49f57c50",
       "max": 1000,
       "style": "IPY_MODEL_32d755aa33b24c02b358bdf44da91ff4"
      }
     },
     "3b28ce3b11e8432aa9496db43a1df4d8": {
      "model_module": "@jupyter-widgets/controls",
      "model_module_version": "1.2.0",
      "model_name": "IntSliderModel",
      "state": {
       "description": "rangDuFocus",
       "layout": "IPY_MODEL_f009d7f88bbb49359c3f48a39dfbee31",
       "max": 500,
       "min": 1,
       "style": "IPY_MODEL_e4c18a2226684d948f791f504ac672aa",
       "value": 1
      }
     },
     "3b34b2219a14400184ac7a03a9982d8f": {
      "model_module": "@jupyter-widgets/controls",
      "model_module_version": "1.2.0",
      "model_name": "CheckboxModel",
      "state": {
       "description": "focusEstResident",
       "disabled": false,
       "layout": "IPY_MODEL_f215856ed104481181ed86361f875e9f",
       "style": "IPY_MODEL_968bfad234e046109706b8cef8803585",
       "value": false
      }
     },
     "3bc5eb08a1fb4c0b9a89ef7f8ac90d62": {
      "model_module": "@jupyter-widgets/controls",
      "model_module_version": "1.2.0",
      "model_name": "IntSliderModel",
      "state": {
       "description": "random_seed",
       "layout": "IPY_MODEL_ac6bd96a3add4f32903a38e3eb0721b0",
       "max": 1000,
       "style": "IPY_MODEL_1e652d2f962e42ae8dc65022c4858f81"
      }
     },
     "3bdc5b232f22455c88e49c3ba5e6aea5": {
      "model_module": "@jupyter-widgets/base",
      "model_module_version": "1.0.0",
      "model_name": "LayoutModel",
      "state": {}
     },
     "3c6f6a10efe84558afd050940cf2061d": {
      "model_module": "@jupyter-widgets/base",
      "model_module_version": "1.0.0",
      "model_name": "LayoutModel",
      "state": {}
     },
     "3c91148c960d49a19375b98f3aeefe7f": {
      "model_module": "@jupyter-widgets/controls",
      "model_module_version": "1.2.0",
      "model_name": "SliderStyleModel",
      "state": {
       "description_width": ""
      }
     },
     "3cab8c4e0fec4fb2a37899a94783ac48": {
      "model_module": "@jupyter-widgets/output",
      "model_module_version": "1.0.0",
      "model_name": "OutputModel",
      "state": {
       "layout": "IPY_MODEL_633b0a2db3494b74802e31cddbc2e7f5",
       "outputs": [
        {
         "name": "stdout",
         "output_type": "stream",
         "text": "Visualisation de l'algorithme de calcul de l'ordre d'appel.\n1. Vœux non triés par rang :\n"
        },
        {
         "data": {
          "text/html": "<style type=\"text/css\">table.blockgrid {border: none;} .blockgrid tr {border: none;} .blockgrid td {padding: 0px;} #blocks2b59ec4f-d2fb-4654-a460-0c26f3c04fd3 td {border: 1px solid white;}</style><table id=\"blocks2b59ec4f-d2fb-4654-a460-0c26f3c04fd3\" class=\"blockgrid\"><tbody><tr><td title=\"Index: [0, 0]&#10;Color: (240, 240, 240)\" style=\"width: 20px; height: 20px;background-color: rgb(240, 240, 240);\"></td><td title=\"Index: [0, 1]&#10;Color: (200, 0, 0)\" style=\"width: 20px; height: 20px;background-color: rgb(200, 0, 0);\"></td><td title=\"Index: [0, 2]&#10;Color: (200, 0, 0)\" style=\"width: 20px; height: 20px;background-color: rgb(200, 0, 0);\"></td><td title=\"Index: [0, 3]&#10;Color: (0, 0, 200)\" style=\"width: 20px; height: 20px;background-color: rgb(0, 0, 200);\"></td><td title=\"Index: [0, 4]&#10;Color: (0, 0, 200)\" style=\"width: 20px; height: 20px;background-color: rgb(0, 0, 200);\"></td><td title=\"Index: [0, 5]&#10;Color: (200, 200, 200)\" style=\"width: 20px; height: 20px;background-color: rgb(200, 200, 200);\"></td><td title=\"Index: [0, 6]&#10;Color: (200, 200, 200)\" style=\"width: 20px; height: 20px;background-color: rgb(200, 200, 200);\"></td><td title=\"Index: [0, 7]&#10;Color: (200, 0, 200)\" style=\"width: 20px; height: 20px;background-color: rgb(200, 0, 200);\"></td><td title=\"Index: [0, 8]&#10;Color: (0, 0, 200)\" style=\"width: 20px; height: 20px;background-color: rgb(0, 0, 200);\"></td><td title=\"Index: [0, 9]&#10;Color: (200, 200, 200)\" style=\"width: 20px; height: 20px;background-color: rgb(200, 200, 200);\"></td><td title=\"Index: [0, 10]&#10;Color: (200, 200, 200)\" style=\"width: 20px; height: 20px;background-color: rgb(200, 200, 200);\"></td><td title=\"Index: [0, 11]&#10;Color: (200, 200, 200)\" style=\"width: 20px; height: 20px;background-color: rgb(200, 200, 200);\"></td><td title=\"Index: [0, 12]&#10;Color: (200, 200, 200)\" style=\"width: 20px; height: 20px;background-color: rgb(200, 200, 200);\"></td><td title=\"Index: [0, 13]&#10;Color: (0, 0, 200)\" style=\"width: 20px; height: 20px;background-color: rgb(0, 0, 200);\"></td><td title=\"Index: [0, 14]&#10;Color: (200, 0, 0)\" style=\"width: 20px; height: 20px;background-color: rgb(200, 0, 0);\"></td><td title=\"Index: [0, 15]&#10;Color: (200, 200, 200)\" style=\"width: 20px; height: 20px;background-color: rgb(200, 200, 200);\"></td><td title=\"Index: [0, 16]&#10;Color: (200, 200, 200)\" style=\"width: 20px; height: 20px;background-color: rgb(200, 200, 200);\"></td><td title=\"Index: [0, 17]&#10;Color: (200, 200, 200)\" style=\"width: 20px; height: 20px;background-color: rgb(200, 200, 200);\"></td><td title=\"Index: [0, 18]&#10;Color: (200, 0, 0)\" style=\"width: 20px; height: 20px;background-color: rgb(200, 0, 0);\"></td><td title=\"Index: [0, 19]&#10;Color: (200, 200, 200)\" style=\"width: 20px; height: 20px;background-color: rgb(200, 200, 200);\"></td><td title=\"Index: [0, 20]&#10;Color: (200, 200, 200)\" style=\"width: 20px; height: 20px;background-color: rgb(200, 200, 200);\"></td><td title=\"Index: [0, 21]&#10;Color: (200, 200, 200)\" style=\"width: 20px; height: 20px;background-color: rgb(200, 200, 200);\"></td><td title=\"Index: [0, 22]&#10;Color: (0, 0, 200)\" style=\"width: 20px; height: 20px;background-color: rgb(0, 0, 200);\"></td><td title=\"Index: [0, 23]&#10;Color: (200, 200, 200)\" style=\"width: 20px; height: 20px;background-color: rgb(200, 200, 200);\"></td><td title=\"Index: [0, 24]&#10;Color: (200, 0, 0)\" style=\"width: 20px; height: 20px;background-color: rgb(200, 0, 0);\"></td><td title=\"Index: [0, 25]&#10;Color: (200, 200, 200)\" style=\"width: 20px; height: 20px;background-color: rgb(200, 200, 200);\"></td></tr></tbody></table>",
          "text/plain": "<ipythonblocks.ipythonblocks.BlockGrid at 0x7fa2b4549630>"
         },
         "metadata": {},
         "output_type": "display_data"
        },
        {
         "name": "stdout",
         "output_type": "stream",
         "text": "2. Vœux triés par rang, mais pas par l'algorithme :\n"
        },
        {
         "data": {
          "text/html": "<style type=\"text/css\">table.blockgrid {border: none;} .blockgrid tr {border: none;} .blockgrid td {padding: 0px;} #blocksf75777ea-f876-42a6-a58b-3140e2ff06d8 td {border: 1px solid white;}</style><table id=\"blocksf75777ea-f876-42a6-a58b-3140e2ff06d8\" class=\"blockgrid\"><tbody><tr><td title=\"Index: [0, 0]&#10;Color: (240, 240, 240)\" style=\"width: 20px; height: 20px;background-color: rgb(240, 240, 240);\"></td><td title=\"Index: [0, 1]&#10;Color: (200, 0, 0)\" style=\"width: 20px; height: 20px;background-color: rgb(200, 0, 0);\"></td><td title=\"Index: [0, 2]&#10;Color: (200, 200, 200)\" style=\"width: 20px; height: 20px;background-color: rgb(200, 200, 200);\"></td><td title=\"Index: [0, 3]&#10;Color: (200, 200, 200)\" style=\"width: 20px; height: 20px;background-color: rgb(200, 200, 200);\"></td><td title=\"Index: [0, 4]&#10;Color: (200, 200, 200)\" style=\"width: 20px; height: 20px;background-color: rgb(200, 200, 200);\"></td><td title=\"Index: [0, 5]&#10;Color: (200, 200, 200)\" style=\"width: 20px; height: 20px;background-color: rgb(200, 200, 200);\"></td><td title=\"Index: [0, 6]&#10;Color: (200, 200, 200)\" style=\"width: 20px; height: 20px;background-color: rgb(200, 200, 200);\"></td><td title=\"Index: [0, 7]&#10;Color: (200, 200, 200)\" style=\"width: 20px; height: 20px;background-color: rgb(200, 200, 200);\"></td><td title=\"Index: [0, 8]&#10;Color: (200, 0, 0)\" style=\"width: 20px; height: 20px;background-color: rgb(200, 0, 0);\"></td><td title=\"Index: [0, 9]&#10;Color: (0, 0, 200)\" style=\"width: 20px; height: 20px;background-color: rgb(0, 0, 200);\"></td><td title=\"Index: [0, 10]&#10;Color: (200, 200, 200)\" style=\"width: 20px; height: 20px;background-color: rgb(200, 200, 200);\"></td><td title=\"Index: [0, 11]&#10;Color: (0, 0, 200)\" style=\"width: 20px; height: 20px;background-color: rgb(0, 0, 200);\"></td><td title=\"Index: [0, 12]&#10;Color: (200, 0, 200)\" style=\"width: 20px; height: 20px;background-color: rgb(200, 0, 200);\"></td><td title=\"Index: [0, 13]&#10;Color: (200, 0, 0)\" style=\"width: 20px; height: 20px;background-color: rgb(200, 0, 0);\"></td><td title=\"Index: [0, 14]&#10;Color: (200, 200, 200)\" style=\"width: 20px; height: 20px;background-color: rgb(200, 200, 200);\"></td><td title=\"Index: [0, 15]&#10;Color: (0, 0, 200)\" style=\"width: 20px; height: 20px;background-color: rgb(0, 0, 200);\"></td><td title=\"Index: [0, 16]&#10;Color: (200, 0, 0)\" style=\"width: 20px; height: 20px;background-color: rgb(200, 0, 0);\"></td><td title=\"Index: [0, 17]&#10;Color: (200, 200, 200)\" style=\"width: 20px; height: 20px;background-color: rgb(200, 200, 200);\"></td><td title=\"Index: [0, 18]&#10;Color: (0, 0, 200)\" style=\"width: 20px; height: 20px;background-color: rgb(0, 0, 200);\"></td><td title=\"Index: [0, 19]&#10;Color: (200, 200, 200)\" style=\"width: 20px; height: 20px;background-color: rgb(200, 200, 200);\"></td><td title=\"Index: [0, 20]&#10;Color: (200, 200, 200)\" style=\"width: 20px; height: 20px;background-color: rgb(200, 200, 200);\"></td><td title=\"Index: [0, 21]&#10;Color: (200, 200, 200)\" style=\"width: 20px; height: 20px;background-color: rgb(200, 200, 200);\"></td><td title=\"Index: [0, 22]&#10;Color: (200, 200, 200)\" style=\"width: 20px; height: 20px;background-color: rgb(200, 200, 200);\"></td><td title=\"Index: [0, 23]&#10;Color: (200, 200, 200)\" style=\"width: 20px; height: 20px;background-color: rgb(200, 200, 200);\"></td><td title=\"Index: [0, 24]&#10;Color: (200, 0, 0)\" style=\"width: 20px; height: 20px;background-color: rgb(200, 0, 0);\"></td><td title=\"Index: [0, 25]&#10;Color: (0, 0, 200)\" style=\"width: 20px; height: 20px;background-color: rgb(0, 0, 200);\"></td></tr></tbody></table>",
          "text/plain": "<ipythonblocks.ipythonblocks.BlockGrid at 0x7fa2b4549630>"
         },
         "metadata": {},
         "output_type": "display_data"
        },
        {
         "name": "stdout",
         "output_type": "stream",
         "text": "3. Vœux triés par l'algorithme :\n"
        },
        {
         "data": {
          "text/html": "<style type=\"text/css\">table.blockgrid {border: none;} .blockgrid tr {border: none;} .blockgrid td {padding: 0px;} #blocks55ecc8e0-2159-4943-a6b8-c1449ac940ff td {border: 1px solid white;}</style><table id=\"blocks55ecc8e0-2159-4943-a6b8-c1449ac940ff\" class=\"blockgrid\"><tbody><tr><td title=\"Index: [0, 0]&#10;Color: (200, 0, 0)\" style=\"width: 20px; height: 20px;background-color: rgb(200, 0, 0);\"></td><td title=\"Index: [0, 1]&#10;Color: (240, 240, 240)\" style=\"width: 20px; height: 20px;background-color: rgb(240, 240, 240);\"></td><td title=\"Index: [0, 2]&#10;Color: (200, 200, 200)\" style=\"width: 20px; height: 20px;background-color: rgb(200, 200, 200);\"></td><td title=\"Index: [0, 3]&#10;Color: (200, 200, 200)\" style=\"width: 20px; height: 20px;background-color: rgb(200, 200, 200);\"></td><td title=\"Index: [0, 4]&#10;Color: (200, 200, 200)\" style=\"width: 20px; height: 20px;background-color: rgb(200, 200, 200);\"></td><td title=\"Index: [0, 5]&#10;Color: (200, 200, 200)\" style=\"width: 20px; height: 20px;background-color: rgb(200, 200, 200);\"></td><td title=\"Index: [0, 6]&#10;Color: (200, 200, 200)\" style=\"width: 20px; height: 20px;background-color: rgb(200, 200, 200);\"></td><td title=\"Index: [0, 7]&#10;Color: (200, 200, 200)\" style=\"width: 20px; height: 20px;background-color: rgb(200, 200, 200);\"></td><td title=\"Index: [0, 8]&#10;Color: (200, 0, 0)\" style=\"width: 20px; height: 20px;background-color: rgb(200, 0, 0);\"></td><td title=\"Index: [0, 9]&#10;Color: (0, 0, 200)\" style=\"width: 20px; height: 20px;background-color: rgb(0, 0, 200);\"></td><td title=\"Index: [0, 10]&#10;Color: (200, 200, 200)\" style=\"width: 20px; height: 20px;background-color: rgb(200, 200, 200);\"></td><td title=\"Index: [0, 11]&#10;Color: (0, 0, 200)\" style=\"width: 20px; height: 20px;background-color: rgb(0, 0, 200);\"></td><td title=\"Index: [0, 12]&#10;Color: (200, 0, 200)\" style=\"width: 20px; height: 20px;background-color: rgb(200, 0, 200);\"></td><td title=\"Index: [0, 13]&#10;Color: (200, 0, 0)\" style=\"width: 20px; height: 20px;background-color: rgb(200, 0, 0);\"></td><td title=\"Index: [0, 14]&#10;Color: (200, 200, 200)\" style=\"width: 20px; height: 20px;background-color: rgb(200, 200, 200);\"></td><td title=\"Index: [0, 15]&#10;Color: (0, 0, 200)\" style=\"width: 20px; height: 20px;background-color: rgb(0, 0, 200);\"></td><td title=\"Index: [0, 16]&#10;Color: (200, 0, 0)\" style=\"width: 20px; height: 20px;background-color: rgb(200, 0, 0);\"></td><td title=\"Index: [0, 17]&#10;Color: (200, 200, 200)\" style=\"width: 20px; height: 20px;background-color: rgb(200, 200, 200);\"></td><td title=\"Index: [0, 18]&#10;Color: (0, 0, 200)\" style=\"width: 20px; height: 20px;background-color: rgb(0, 0, 200);\"></td><td title=\"Index: [0, 19]&#10;Color: (200, 200, 200)\" style=\"width: 20px; height: 20px;background-color: rgb(200, 200, 200);\"></td><td title=\"Index: [0, 20]&#10;Color: (200, 200, 200)\" style=\"width: 20px; height: 20px;background-color: rgb(200, 200, 200);\"></td><td title=\"Index: [0, 21]&#10;Color: (200, 200, 200)\" style=\"width: 20px; height: 20px;background-color: rgb(200, 200, 200);\"></td><td title=\"Index: [0, 22]&#10;Color: (200, 200, 200)\" style=\"width: 20px; height: 20px;background-color: rgb(200, 200, 200);\"></td><td title=\"Index: [0, 23]&#10;Color: (200, 200, 200)\" style=\"width: 20px; height: 20px;background-color: rgb(200, 200, 200);\"></td><td title=\"Index: [0, 24]&#10;Color: (200, 0, 0)\" style=\"width: 20px; height: 20px;background-color: rgb(200, 0, 0);\"></td><td title=\"Index: [0, 25]&#10;Color: (0, 0, 200)\" style=\"width: 20px; height: 20px;background-color: rgb(0, 0, 200);\"></td></tr></tbody></table>",
          "text/plain": "<ipythonblocks.ipythonblocks.BlockGrid at 0x7fa2b4549630>"
         },
         "metadata": {},
         "output_type": "display_data"
        }
       ]
      }
     },
     "3cfc6fa1b6b144a4931787a79d4ac240": {
      "model_module": "@jupyter-widgets/controls",
      "model_module_version": "1.2.0",
      "model_name": "VBoxModel",
      "state": {
       "_dom_classes": [
        "widget-interact"
       ],
       "children": [
        "IPY_MODEL_c19b1b18361b4293b687e7d7201eaec0",
        "IPY_MODEL_96977d84de764d84b3deec10068073bc",
        "IPY_MODEL_0ac785331154447b9f0d4a562db468d1",
        "IPY_MODEL_81fcb0539a1c4a82a7baebe1b39de27e",
        "IPY_MODEL_224f5b9fe5b742eb977ee1f514f22c07",
        "IPY_MODEL_bd3d1b07744f450288ad7a46f02e57ce",
        "IPY_MODEL_7d1acdbc694d47278e5c3e93634f1e59",
        "IPY_MODEL_a19a14795abc4c35abae912c4ee729f2",
        "IPY_MODEL_99f5aa309b0b486089c00efbc7e353f6",
        "IPY_MODEL_3cab8c4e0fec4fb2a37899a94783ac48"
       ],
       "layout": "IPY_MODEL_7eb899cc1e1f4dc2bf0a0f31a26e5fa6"
      }
     },
     "3d436ec0d8064447ae68d918c8b6652f": {
      "model_module": "@jupyter-widgets/controls",
      "model_module_version": "1.2.0",
      "model_name": "VBoxModel",
      "state": {
       "_dom_classes": [
        "widget-interact"
       ],
       "children": [
        "IPY_MODEL_df8f29b34d9b44e0a425fd85e5153c18",
        "IPY_MODEL_b3028012cc2246daacd26a27d0e5e469",
        "IPY_MODEL_2ea53933bd124e2598b51562f76dace9",
        "IPY_MODEL_80c34f25982c458aa7a32008f5bcaffb",
        "IPY_MODEL_3b28ce3b11e8432aa9496db43a1df4d8",
        "IPY_MODEL_bdc2355c6ecf464abc82a812781f0ef6",
        "IPY_MODEL_e65fb20ad381405d92e15062a2793c84",
        "IPY_MODEL_24ce0c139d2e442895c3806bd2409236",
        "IPY_MODEL_bfb3f883ad864468b4d22d91eb009b5f",
        "IPY_MODEL_34b25d57411547ab8ce1cb224af711d2"
       ],
       "layout": "IPY_MODEL_922d56e801f74bac8f8a6e5d066b4d59"
      }
     },
     "3d89f05d930f4ae68a7b52861a356a37": {
      "model_module": "@jupyter-widgets/controls",
      "model_module_version": "1.2.0",
      "model_name": "IntSliderModel",
      "state": {
       "description": "tauxBoursiers",
       "layout": "IPY_MODEL_795c08481dd74a40a5bbc0f62d0c3a3e",
       "style": "IPY_MODEL_f199492818f44be28d8ce5fe0c284c50",
       "value": 20
      }
     },
     "3d9ec99253cc41dcaf3194b8bd85a2d0": {
      "model_module": "@jupyter-widgets/controls",
      "model_module_version": "1.2.0",
      "model_name": "DescriptionStyleModel",
      "state": {
       "description_width": ""
      }
     },
     "3df57fdf9fe440179978a3cbc1b78bfd": {
      "model_module": "@jupyter-widgets/controls",
      "model_module_version": "1.2.0",
      "model_name": "VBoxModel",
      "state": {
       "_dom_classes": [
        "widget-interact"
       ],
       "children": [
        "IPY_MODEL_7a12f6ba77dd48b797a84381ef440dbf",
        "IPY_MODEL_1fbba80883764bc289cbad85136c40e6",
        "IPY_MODEL_dfe178eb3013414c8f027191ab73f899"
       ],
       "layout": "IPY_MODEL_e5e9927a7a4f4285b5489d79527d8a04"
      }
     },
     "3e91903041524b229aba1eada6a3fc66": {
      "model_module": "@jupyter-widgets/controls",
      "model_module_version": "1.2.0",
      "model_name": "SliderStyleModel",
      "state": {
       "description_width": ""
      }
     },
     "3ee511f05ccf4178aa781b0dea59b014": {
      "model_module": "@jupyter-widgets/base",
      "model_module_version": "1.0.0",
      "model_name": "LayoutModel",
      "state": {}
     },
     "3f7a46cfe2254178875c3663fae4469f": {
      "model_module": "@jupyter-widgets/base",
      "model_module_version": "1.0.0",
      "model_name": "LayoutModel",
      "state": {}
     },
     "3f8f6e65a00341188abd30de4a8b5923": {
      "model_module": "@jupyter-widgets/controls",
      "model_module_version": "1.2.0",
      "model_name": "DescriptionStyleModel",
      "state": {
       "description_width": ""
      }
     },
     "3f96cd79670c49388c55ebcee299ffd1": {
      "model_module": "@jupyter-widgets/controls",
      "model_module_version": "1.2.0",
      "model_name": "SliderStyleModel",
      "state": {
       "description_width": ""
      }
     },
     "4144f8c7aeb640c283086cdce5729710": {
      "model_module": "@jupyter-widgets/controls",
      "model_module_version": "1.2.0",
      "model_name": "IntSliderModel",
      "state": {
       "description": "tauxMinResidentsPourcents",
       "layout": "IPY_MODEL_5daae6e5e85740e2bd156735f0e8cf9f",
       "style": "IPY_MODEL_ee32238bd4d449dd970f3f9323d62afd",
       "value": 20
      }
     },
     "415520f8e21e48b4b5563009cbeb89e7": {
      "model_module": "@jupyter-widgets/controls",
      "model_module_version": "1.2.0",
      "model_name": "IntSliderModel",
      "state": {
       "description": "rangDuFocus",
       "layout": "IPY_MODEL_a2d6c6d1bf004506869dd1bf1f55717c",
       "max": 500,
       "min": 1,
       "style": "IPY_MODEL_e46f5f886e774c99bc90517de17b21c8",
       "value": 1
      }
     },
     "4166a51e0064449fb1f49ba7c2f098fd": {
      "model_module": "@jupyter-widgets/controls",
      "model_module_version": "1.2.0",
      "model_name": "SliderStyleModel",
      "state": {
       "description_width": ""
      }
     },
     "41d465e43887420882e1e703ceba6324": {
      "model_module": "@jupyter-widgets/controls",
      "model_module_version": "1.2.0",
      "model_name": "IntSliderModel",
      "state": {
       "description": "random_seed",
       "layout": "IPY_MODEL_6a8c9065bec247ce842ef5c14bf1cf46",
       "max": 1000,
       "style": "IPY_MODEL_b5eaf05241bd4116b4e6893628aec35e"
      }
     },
     "42a018ecd7984379b24a60b6ed05a8f1": {
      "model_module": "@jupyter-widgets/base",
      "model_module_version": "1.0.0",
      "model_name": "LayoutModel",
      "state": {}
     },
     "42eb421cc5d243c6a3adfdba8c1654b9": {
      "model_module": "@jupyter-widgets/base",
      "model_module_version": "1.0.0",
      "model_name": "LayoutModel",
      "state": {}
     },
     "4302a8819a3b46fab58197a9072f24da": {
      "model_module": "@jupyter-widgets/base",
      "model_module_version": "1.0.0",
      "model_name": "LayoutModel",
      "state": {}
     },
     "431f72f22cf6490dac7a4e78380004e2": {
      "model_module": "@jupyter-widgets/base",
      "model_module_version": "1.0.0",
      "model_name": "LayoutModel",
      "state": {}
     },
     "43490f8e0c7943c5a46c6b62a774a1a5": {
      "model_module": "@jupyter-widgets/controls",
      "model_module_version": "1.2.0",
      "model_name": "SliderStyleModel",
      "state": {
       "description_width": ""
      }
     },
     "446d90e007724c2597f93cbdb977f963": {
      "model_module": "@jupyter-widgets/base",
      "model_module_version": "1.0.0",
      "model_name": "LayoutModel",
      "state": {}
     },
     "44cc301efbcb4420be6bff54beacbb0c": {
      "model_module": "@jupyter-widgets/controls",
      "model_module_version": "1.2.0",
      "model_name": "SliderStyleModel",
      "state": {
       "description_width": ""
      }
     },
     "44f8d203512e46d290c2ea93d521e21a": {
      "model_module": "@jupyter-widgets/controls",
      "model_module_version": "1.2.0",
      "model_name": "CheckboxModel",
      "state": {
       "description": "focusEstBoursier",
       "disabled": false,
       "layout": "IPY_MODEL_1d50082d4cd84cdf8cf7d409ea258cb2",
       "style": "IPY_MODEL_6f967146f6f845729f964e3e10687844",
       "value": false
      }
     },
     "45722dcaff94431b9520e8aee804caa3": {
      "model_module": "@jupyter-widgets/base",
      "model_module_version": "1.0.0",
      "model_name": "LayoutModel",
      "state": {}
     },
     "45a8bad1ad2b460c9c61d053de673c39": {
      "model_module": "@jupyter-widgets/controls",
      "model_module_version": "1.2.0",
      "model_name": "IntSliderModel",
      "state": {
       "description": "tauxMinResidentsPourcents",
       "layout": "IPY_MODEL_c6c1e816003e4c67bf26edc395299e7b",
       "style": "IPY_MODEL_de6140fa92d946cdad13c22206e4e406",
       "value": 100
      }
     },
     "45ba52dd80ed4aafa56c7d1a465ab678": {
      "model_module": "@jupyter-widgets/base",
      "model_module_version": "1.0.0",
      "model_name": "LayoutModel",
      "state": {}
     },
     "4666974a500a4d52b133453119f44e3d": {
      "model_module": "@jupyter-widgets/base",
      "model_module_version": "1.0.0",
      "model_name": "LayoutModel",
      "state": {}
     },
     "4670662038f34ab092bc0409ead95025": {
      "model_module": "@jupyter-widgets/base",
      "model_module_version": "1.0.0",
      "model_name": "LayoutModel",
      "state": {}
     },
     "46f8bf1bb326465caffa4fe5c8c1ea28": {
      "model_module": "@jupyter-widgets/base",
      "model_module_version": "1.0.0",
      "model_name": "LayoutModel",
      "state": {}
     },
     "4789e53b90f749d0871b1bcc61cb29d5": {
      "model_module": "@jupyter-widgets/controls",
      "model_module_version": "1.2.0",
      "model_name": "CheckboxModel",
      "state": {
       "description": "focusEstResident",
       "disabled": false,
       "layout": "IPY_MODEL_02cd1033eae94bbc952979a7ca31c573",
       "style": "IPY_MODEL_2e19c3228a9e448e9eb15d715fa18560",
       "value": true
      }
     },
     "47cbd7321e834f30ba990062ac75a4c9": {
      "model_module": "@jupyter-widgets/base",
      "model_module_version": "1.0.0",
      "model_name": "LayoutModel",
      "state": {}
     },
     "481da434d4404335854945e35d5fae88": {
      "model_module": "@jupyter-widgets/base",
      "model_module_version": "1.0.0",
      "model_name": "LayoutModel",
      "state": {}
     },
     "486ecb5b1bd94c59acaa82ac13041faf": {
      "model_module": "@jupyter-widgets/output",
      "model_module_version": "1.0.0",
      "model_name": "OutputModel",
      "state": {
       "layout": "IPY_MODEL_ee0b463b5ec944f5b4e4b6d00cf57712",
       "outputs": [
        {
         "data": {
          "text/html": "<style type=\"text/css\">table.blockgrid {border: none;} .blockgrid tr {border: none;} .blockgrid td {padding: 0px;} #blocksefc0bdf2-2989-43bd-ab88-d06f7e0c9a9b td {border: 1px solid white;}</style><table id=\"blocksefc0bdf2-2989-43bd-ab88-d06f7e0c9a9b\" class=\"blockgrid\"><tbody><tr><td title=\"Index: [0, 0]&#10;Color: (200, 200, 200)\" style=\"width: 20px; height: 20px;background-color: rgb(200, 200, 200);\"></td><td title=\"Index: [0, 1]&#10;Color: (200, 200, 200)\" style=\"width: 20px; height: 20px;background-color: rgb(200, 200, 200);\"></td><td title=\"Index: [0, 2]&#10;Color: (200, 200, 200)\" style=\"width: 20px; height: 20px;background-color: rgb(200, 200, 200);\"></td><td title=\"Index: [0, 3]&#10;Color: (200, 200, 200)\" style=\"width: 20px; height: 20px;background-color: rgb(200, 200, 200);\"></td><td title=\"Index: [0, 4]&#10;Color: (200, 200, 200)\" style=\"width: 20px; height: 20px;background-color: rgb(200, 200, 200);\"></td><td title=\"Index: [0, 5]&#10;Color: (200, 200, 200)\" style=\"width: 20px; height: 20px;background-color: rgb(200, 200, 200);\"></td><td title=\"Index: [0, 6]&#10;Color: (200, 200, 200)\" style=\"width: 20px; height: 20px;background-color: rgb(200, 200, 200);\"></td><td title=\"Index: [0, 7]&#10;Color: (200, 200, 200)\" style=\"width: 20px; height: 20px;background-color: rgb(200, 200, 200);\"></td><td title=\"Index: [0, 8]&#10;Color: (200, 200, 200)\" style=\"width: 20px; height: 20px;background-color: rgb(200, 200, 200);\"></td><td title=\"Index: [0, 9]&#10;Color: (200, 200, 200)\" style=\"width: 20px; height: 20px;background-color: rgb(200, 200, 200);\"></td><td title=\"Index: [0, 10]&#10;Color: (200, 200, 200)\" style=\"width: 20px; height: 20px;background-color: rgb(200, 200, 200);\"></td><td title=\"Index: [0, 11]&#10;Color: (200, 200, 200)\" style=\"width: 20px; height: 20px;background-color: rgb(200, 200, 200);\"></td><td title=\"Index: [0, 12]&#10;Color: (200, 200, 200)\" style=\"width: 20px; height: 20px;background-color: rgb(200, 200, 200);\"></td><td title=\"Index: [0, 13]&#10;Color: (200, 200, 200)\" style=\"width: 20px; height: 20px;background-color: rgb(200, 200, 200);\"></td><td title=\"Index: [0, 14]&#10;Color: (200, 200, 200)\" style=\"width: 20px; height: 20px;background-color: rgb(200, 200, 200);\"></td><td title=\"Index: [0, 15]&#10;Color: (200, 200, 200)\" style=\"width: 20px; height: 20px;background-color: rgb(200, 200, 200);\"></td><td title=\"Index: [0, 16]&#10;Color: (200, 200, 200)\" style=\"width: 20px; height: 20px;background-color: rgb(200, 200, 200);\"></td><td title=\"Index: [0, 17]&#10;Color: (200, 200, 200)\" style=\"width: 20px; height: 20px;background-color: rgb(200, 200, 200);\"></td><td title=\"Index: [0, 18]&#10;Color: (200, 0, 0)\" style=\"width: 20px; height: 20px;background-color: rgb(200, 0, 0);\"></td><td title=\"Index: [0, 19]&#10;Color: (200, 200, 200)\" style=\"width: 20px; height: 20px;background-color: rgb(200, 200, 200);\"></td><td title=\"Index: [0, 20]&#10;Color: (200, 200, 200)\" style=\"width: 20px; height: 20px;background-color: rgb(200, 200, 200);\"></td><td title=\"Index: [0, 21]&#10;Color: (200, 200, 200)\" style=\"width: 20px; height: 20px;background-color: rgb(200, 200, 200);\"></td><td title=\"Index: [0, 22]&#10;Color: (200, 200, 200)\" style=\"width: 20px; height: 20px;background-color: rgb(200, 200, 200);\"></td><td title=\"Index: [0, 23]&#10;Color: (200, 200, 200)\" style=\"width: 20px; height: 20px;background-color: rgb(200, 200, 200);\"></td><td title=\"Index: [0, 24]&#10;Color: (0, 0, 200)\" style=\"width: 20px; height: 20px;background-color: rgb(0, 0, 200);\"></td><td title=\"Index: [0, 25]&#10;Color: (200, 200, 200)\" style=\"width: 20px; height: 20px;background-color: rgb(200, 200, 200);\"></td><td title=\"Index: [0, 26]&#10;Color: (200, 200, 200)\" style=\"width: 20px; height: 20px;background-color: rgb(200, 200, 200);\"></td><td title=\"Index: [0, 27]&#10;Color: (200, 200, 200)\" style=\"width: 20px; height: 20px;background-color: rgb(200, 200, 200);\"></td><td title=\"Index: [0, 28]&#10;Color: (200, 200, 200)\" style=\"width: 20px; height: 20px;background-color: rgb(200, 200, 200);\"></td><td title=\"Index: [0, 29]&#10;Color: (200, 200, 200)\" style=\"width: 20px; height: 20px;background-color: rgb(200, 200, 200);\"></td><td title=\"Index: [0, 30]&#10;Color: (200, 200, 200)\" style=\"width: 20px; height: 20px;background-color: rgb(200, 200, 200);\"></td><td title=\"Index: [0, 31]&#10;Color: (200, 200, 200)\" style=\"width: 20px; height: 20px;background-color: rgb(200, 200, 200);\"></td><td title=\"Index: [0, 32]&#10;Color: (200, 200, 200)\" style=\"width: 20px; height: 20px;background-color: rgb(200, 200, 200);\"></td><td title=\"Index: [0, 33]&#10;Color: (200, 200, 200)\" style=\"width: 20px; height: 20px;background-color: rgb(200, 200, 200);\"></td><td title=\"Index: [0, 34]&#10;Color: (200, 200, 200)\" style=\"width: 20px; height: 20px;background-color: rgb(200, 200, 200);\"></td><td title=\"Index: [0, 35]&#10;Color: (200, 200, 200)\" style=\"width: 20px; height: 20px;background-color: rgb(200, 200, 200);\"></td><td title=\"Index: [0, 36]&#10;Color: (200, 200, 200)\" style=\"width: 20px; height: 20px;background-color: rgb(200, 200, 200);\"></td><td title=\"Index: [0, 37]&#10;Color: (200, 200, 200)\" style=\"width: 20px; height: 20px;background-color: rgb(200, 200, 200);\"></td><td title=\"Index: [0, 38]&#10;Color: (200, 200, 200)\" style=\"width: 20px; height: 20px;background-color: rgb(200, 200, 200);\"></td></tr></tbody></table>",
          "text/plain": "<ipythonblocks.ipythonblocks.BlockGrid at 0x7f69327bfb70>"
         },
         "metadata": {},
         "output_type": "display_data"
        },
        {
         "data": {
          "text/html": "<style type=\"text/css\">table.blockgrid {border: none;} .blockgrid tr {border: none;} .blockgrid td {padding: 0px;} #blocksfefeed3e-0b10-4256-a9fc-d2863ff143cc td {border: 1px solid white;}</style><table id=\"blocksfefeed3e-0b10-4256-a9fc-d2863ff143cc\" class=\"blockgrid\"><tbody><tr><td title=\"Index: [0, 0]&#10;Color: (200, 200, 200)\" style=\"width: 20px; height: 20px;background-color: rgb(200, 200, 200);\"></td><td title=\"Index: [0, 1]&#10;Color: (200, 200, 200)\" style=\"width: 20px; height: 20px;background-color: rgb(200, 200, 200);\"></td><td title=\"Index: [0, 2]&#10;Color: (200, 200, 200)\" style=\"width: 20px; height: 20px;background-color: rgb(200, 200, 200);\"></td><td title=\"Index: [0, 3]&#10;Color: (200, 200, 200)\" style=\"width: 20px; height: 20px;background-color: rgb(200, 200, 200);\"></td><td title=\"Index: [0, 4]&#10;Color: (200, 200, 200)\" style=\"width: 20px; height: 20px;background-color: rgb(200, 200, 200);\"></td><td title=\"Index: [0, 5]&#10;Color: (200, 200, 200)\" style=\"width: 20px; height: 20px;background-color: rgb(200, 200, 200);\"></td><td title=\"Index: [0, 6]&#10;Color: (200, 200, 200)\" style=\"width: 20px; height: 20px;background-color: rgb(200, 200, 200);\"></td><td title=\"Index: [0, 7]&#10;Color: (200, 200, 200)\" style=\"width: 20px; height: 20px;background-color: rgb(200, 200, 200);\"></td><td title=\"Index: [0, 8]&#10;Color: (200, 200, 200)\" style=\"width: 20px; height: 20px;background-color: rgb(200, 200, 200);\"></td><td title=\"Index: [0, 9]&#10;Color: (200, 200, 200)\" style=\"width: 20px; height: 20px;background-color: rgb(200, 200, 200);\"></td><td title=\"Index: [0, 10]&#10;Color: (200, 200, 200)\" style=\"width: 20px; height: 20px;background-color: rgb(200, 200, 200);\"></td><td title=\"Index: [0, 11]&#10;Color: (200, 200, 200)\" style=\"width: 20px; height: 20px;background-color: rgb(200, 200, 200);\"></td><td title=\"Index: [0, 12]&#10;Color: (0, 0, 200)\" style=\"width: 20px; height: 20px;background-color: rgb(0, 0, 200);\"></td><td title=\"Index: [0, 13]&#10;Color: (200, 200, 200)\" style=\"width: 20px; height: 20px;background-color: rgb(200, 200, 200);\"></td><td title=\"Index: [0, 14]&#10;Color: (200, 0, 0)\" style=\"width: 20px; height: 20px;background-color: rgb(200, 0, 0);\"></td><td title=\"Index: [0, 15]&#10;Color: (200, 200, 200)\" style=\"width: 20px; height: 20px;background-color: rgb(200, 200, 200);\"></td><td title=\"Index: [0, 16]&#10;Color: (200, 200, 200)\" style=\"width: 20px; height: 20px;background-color: rgb(200, 200, 200);\"></td><td title=\"Index: [0, 17]&#10;Color: (200, 200, 200)\" style=\"width: 20px; height: 20px;background-color: rgb(200, 200, 200);\"></td><td title=\"Index: [0, 18]&#10;Color: (200, 200, 200)\" style=\"width: 20px; height: 20px;background-color: rgb(200, 200, 200);\"></td><td title=\"Index: [0, 19]&#10;Color: (200, 200, 200)\" style=\"width: 20px; height: 20px;background-color: rgb(200, 200, 200);\"></td><td title=\"Index: [0, 20]&#10;Color: (200, 200, 200)\" style=\"width: 20px; height: 20px;background-color: rgb(200, 200, 200);\"></td><td title=\"Index: [0, 21]&#10;Color: (200, 200, 200)\" style=\"width: 20px; height: 20px;background-color: rgb(200, 200, 200);\"></td><td title=\"Index: [0, 22]&#10;Color: (200, 200, 200)\" style=\"width: 20px; height: 20px;background-color: rgb(200, 200, 200);\"></td><td title=\"Index: [0, 23]&#10;Color: (200, 200, 200)\" style=\"width: 20px; height: 20px;background-color: rgb(200, 200, 200);\"></td><td title=\"Index: [0, 24]&#10;Color: (200, 200, 200)\" style=\"width: 20px; height: 20px;background-color: rgb(200, 200, 200);\"></td><td title=\"Index: [0, 25]&#10;Color: (200, 200, 200)\" style=\"width: 20px; height: 20px;background-color: rgb(200, 200, 200);\"></td><td title=\"Index: [0, 26]&#10;Color: (200, 200, 200)\" style=\"width: 20px; height: 20px;background-color: rgb(200, 200, 200);\"></td><td title=\"Index: [0, 27]&#10;Color: (200, 200, 200)\" style=\"width: 20px; height: 20px;background-color: rgb(200, 200, 200);\"></td><td title=\"Index: [0, 28]&#10;Color: (200, 200, 200)\" style=\"width: 20px; height: 20px;background-color: rgb(200, 200, 200);\"></td><td title=\"Index: [0, 29]&#10;Color: (200, 200, 200)\" style=\"width: 20px; height: 20px;background-color: rgb(200, 200, 200);\"></td><td title=\"Index: [0, 30]&#10;Color: (200, 200, 200)\" style=\"width: 20px; height: 20px;background-color: rgb(200, 200, 200);\"></td><td title=\"Index: [0, 31]&#10;Color: (200, 200, 200)\" style=\"width: 20px; height: 20px;background-color: rgb(200, 200, 200);\"></td><td title=\"Index: [0, 32]&#10;Color: (200, 200, 200)\" style=\"width: 20px; height: 20px;background-color: rgb(200, 200, 200);\"></td><td title=\"Index: [0, 33]&#10;Color: (200, 200, 200)\" style=\"width: 20px; height: 20px;background-color: rgb(200, 200, 200);\"></td><td title=\"Index: [0, 34]&#10;Color: (200, 200, 200)\" style=\"width: 20px; height: 20px;background-color: rgb(200, 200, 200);\"></td><td title=\"Index: [0, 35]&#10;Color: (200, 200, 200)\" style=\"width: 20px; height: 20px;background-color: rgb(200, 200, 200);\"></td><td title=\"Index: [0, 36]&#10;Color: (200, 200, 200)\" style=\"width: 20px; height: 20px;background-color: rgb(200, 200, 200);\"></td><td title=\"Index: [0, 37]&#10;Color: (200, 200, 200)\" style=\"width: 20px; height: 20px;background-color: rgb(200, 200, 200);\"></td><td title=\"Index: [0, 38]&#10;Color: (200, 200, 200)\" style=\"width: 20px; height: 20px;background-color: rgb(200, 200, 200);\"></td></tr></tbody></table>",
          "text/plain": "<ipythonblocks.ipythonblocks.BlockGrid at 0x7f694008da90>"
         },
         "metadata": {},
         "output_type": "display_data"
        },
        {
         "data": {
          "text/html": "<style type=\"text/css\">table.blockgrid {border: none;} .blockgrid tr {border: none;} .blockgrid td {padding: 0px;} #blocks4dc1b296-745b-411b-99f1-b3dde5bab1c7 td {border: 1px solid white;}</style><table id=\"blocks4dc1b296-745b-411b-99f1-b3dde5bab1c7\" class=\"blockgrid\"><tbody><tr><td title=\"Index: [0, 0]&#10;Color: (200, 0, 0)\" style=\"width: 20px; height: 20px;background-color: rgb(200, 0, 0);\"></td><td title=\"Index: [0, 1]&#10;Color: (0, 0, 200)\" style=\"width: 20px; height: 20px;background-color: rgb(0, 0, 200);\"></td><td title=\"Index: [0, 2]&#10;Color: (200, 200, 200)\" style=\"width: 20px; height: 20px;background-color: rgb(200, 200, 200);\"></td><td title=\"Index: [0, 3]&#10;Color: (200, 200, 200)\" style=\"width: 20px; height: 20px;background-color: rgb(200, 200, 200);\"></td><td title=\"Index: [0, 4]&#10;Color: (200, 200, 200)\" style=\"width: 20px; height: 20px;background-color: rgb(200, 200, 200);\"></td><td title=\"Index: [0, 5]&#10;Color: (200, 200, 200)\" style=\"width: 20px; height: 20px;background-color: rgb(200, 200, 200);\"></td><td title=\"Index: [0, 6]&#10;Color: (200, 200, 200)\" style=\"width: 20px; height: 20px;background-color: rgb(200, 200, 200);\"></td><td title=\"Index: [0, 7]&#10;Color: (200, 200, 200)\" style=\"width: 20px; height: 20px;background-color: rgb(200, 200, 200);\"></td><td title=\"Index: [0, 8]&#10;Color: (200, 200, 200)\" style=\"width: 20px; height: 20px;background-color: rgb(200, 200, 200);\"></td><td title=\"Index: [0, 9]&#10;Color: (200, 200, 200)\" style=\"width: 20px; height: 20px;background-color: rgb(200, 200, 200);\"></td><td title=\"Index: [0, 10]&#10;Color: (200, 200, 200)\" style=\"width: 20px; height: 20px;background-color: rgb(200, 200, 200);\"></td><td title=\"Index: [0, 11]&#10;Color: (200, 200, 200)\" style=\"width: 20px; height: 20px;background-color: rgb(200, 200, 200);\"></td><td title=\"Index: [0, 12]&#10;Color: (200, 200, 200)\" style=\"width: 20px; height: 20px;background-color: rgb(200, 200, 200);\"></td><td title=\"Index: [0, 13]&#10;Color: (200, 200, 200)\" style=\"width: 20px; height: 20px;background-color: rgb(200, 200, 200);\"></td><td title=\"Index: [0, 14]&#10;Color: (200, 200, 200)\" style=\"width: 20px; height: 20px;background-color: rgb(200, 200, 200);\"></td><td title=\"Index: [0, 15]&#10;Color: (200, 200, 200)\" style=\"width: 20px; height: 20px;background-color: rgb(200, 200, 200);\"></td><td title=\"Index: [0, 16]&#10;Color: (200, 200, 200)\" style=\"width: 20px; height: 20px;background-color: rgb(200, 200, 200);\"></td><td title=\"Index: [0, 17]&#10;Color: (200, 200, 200)\" style=\"width: 20px; height: 20px;background-color: rgb(200, 200, 200);\"></td><td title=\"Index: [0, 18]&#10;Color: (200, 200, 200)\" style=\"width: 20px; height: 20px;background-color: rgb(200, 200, 200);\"></td><td title=\"Index: [0, 19]&#10;Color: (200, 200, 200)\" style=\"width: 20px; height: 20px;background-color: rgb(200, 200, 200);\"></td><td title=\"Index: [0, 20]&#10;Color: (200, 200, 200)\" style=\"width: 20px; height: 20px;background-color: rgb(200, 200, 200);\"></td><td title=\"Index: [0, 21]&#10;Color: (200, 200, 200)\" style=\"width: 20px; height: 20px;background-color: rgb(200, 200, 200);\"></td><td title=\"Index: [0, 22]&#10;Color: (200, 200, 200)\" style=\"width: 20px; height: 20px;background-color: rgb(200, 200, 200);\"></td><td title=\"Index: [0, 23]&#10;Color: (200, 200, 200)\" style=\"width: 20px; height: 20px;background-color: rgb(200, 200, 200);\"></td><td title=\"Index: [0, 24]&#10;Color: (200, 200, 200)\" style=\"width: 20px; height: 20px;background-color: rgb(200, 200, 200);\"></td><td title=\"Index: [0, 25]&#10;Color: (200, 200, 200)\" style=\"width: 20px; height: 20px;background-color: rgb(200, 200, 200);\"></td><td title=\"Index: [0, 26]&#10;Color: (200, 200, 200)\" style=\"width: 20px; height: 20px;background-color: rgb(200, 200, 200);\"></td><td title=\"Index: [0, 27]&#10;Color: (200, 200, 200)\" style=\"width: 20px; height: 20px;background-color: rgb(200, 200, 200);\"></td><td title=\"Index: [0, 28]&#10;Color: (200, 200, 200)\" style=\"width: 20px; height: 20px;background-color: rgb(200, 200, 200);\"></td><td title=\"Index: [0, 29]&#10;Color: (200, 200, 200)\" style=\"width: 20px; height: 20px;background-color: rgb(200, 200, 200);\"></td><td title=\"Index: [0, 30]&#10;Color: (200, 200, 200)\" style=\"width: 20px; height: 20px;background-color: rgb(200, 200, 200);\"></td><td title=\"Index: [0, 31]&#10;Color: (200, 200, 200)\" style=\"width: 20px; height: 20px;background-color: rgb(200, 200, 200);\"></td><td title=\"Index: [0, 32]&#10;Color: (200, 200, 200)\" style=\"width: 20px; height: 20px;background-color: rgb(200, 200, 200);\"></td><td title=\"Index: [0, 33]&#10;Color: (200, 200, 200)\" style=\"width: 20px; height: 20px;background-color: rgb(200, 200, 200);\"></td><td title=\"Index: [0, 34]&#10;Color: (200, 200, 200)\" style=\"width: 20px; height: 20px;background-color: rgb(200, 200, 200);\"></td><td title=\"Index: [0, 35]&#10;Color: (200, 200, 200)\" style=\"width: 20px; height: 20px;background-color: rgb(200, 200, 200);\"></td><td title=\"Index: [0, 36]&#10;Color: (200, 200, 200)\" style=\"width: 20px; height: 20px;background-color: rgb(200, 200, 200);\"></td><td title=\"Index: [0, 37]&#10;Color: (200, 200, 200)\" style=\"width: 20px; height: 20px;background-color: rgb(200, 200, 200);\"></td><td title=\"Index: [0, 38]&#10;Color: (200, 200, 200)\" style=\"width: 20px; height: 20px;background-color: rgb(200, 200, 200);\"></td></tr></tbody></table>",
          "text/plain": "<ipythonblocks.ipythonblocks.BlockGrid at 0x7f694008da90>"
         },
         "metadata": {},
         "output_type": "display_data"
        }
       ]
      }
     },
     "48ff3437c30e464aa2a9285680298a0e": {
      "model_module": "@jupyter-widgets/controls",
      "model_module_version": "1.2.0",
      "model_name": "SliderStyleModel",
      "state": {
       "description_width": ""
      }
     },
     "49466b8a04fc476ba97c48170dc46e9c": {
      "model_module": "@jupyter-widgets/base",
      "model_module_version": "1.0.0",
      "model_name": "LayoutModel",
      "state": {}
     },
     "4958077f52124c3d92aaedc19237d06f": {
      "model_module": "@jupyter-widgets/controls",
      "model_module_version": "1.2.0",
      "model_name": "IntSliderModel",
      "state": {
       "description": "tauxBoursiers",
       "layout": "IPY_MODEL_c4995e0ec2034c2dbb82ea9765c25bf5",
       "style": "IPY_MODEL_e6526d063fe740ceb9b389fd64d696a0"
      }
     },
     "4960181d925d4071888484b5fb519652": {
      "model_module": "@jupyter-widgets/base",
      "model_module_version": "1.0.0",
      "model_name": "LayoutModel",
      "state": {}
     },
     "4a7d3cbb49cd4bffa554b40f66ac0e41": {
      "model_module": "@jupyter-widgets/controls",
      "model_module_version": "1.2.0",
      "model_name": "IntSliderModel",
      "state": {
       "description": "tauxBoursiers",
       "layout": "IPY_MODEL_e8eb887978344f64a983dcb73c3cd2c0",
       "style": "IPY_MODEL_810f01e2c6044584be14da047bbed311",
       "value": 20
      }
     },
     "4aaafe2a91804374b760e9d67efb3748": {
      "model_module": "@jupyter-widgets/controls",
      "model_module_version": "1.2.0",
      "model_name": "SliderStyleModel",
      "state": {
       "description_width": ""
      }
     },
     "4ad7cfdf3a5d4bd483a1c230fc9ba7c7": {
      "model_module": "@jupyter-widgets/controls",
      "model_module_version": "1.2.0",
      "model_name": "SliderStyleModel",
      "state": {
       "description_width": ""
      }
     },
     "4ae1859aec0e434fab626e1f7e9e530d": {
      "model_module": "@jupyter-widgets/controls",
      "model_module_version": "1.2.0",
      "model_name": "IntSliderModel",
      "state": {
       "description": "tauxMinBoursiersPourcents",
       "layout": "IPY_MODEL_7278dd7750fd4b9785d27a8558e15e71",
       "style": "IPY_MODEL_85a3c79753d14e95a9864587f0df863a",
       "value": 10
      }
     },
     "4af384bf301c455a9ec48d9d03b0b878": {
      "model_module": "@jupyter-widgets/base",
      "model_module_version": "1.0.0",
      "model_name": "LayoutModel",
      "state": {}
     },
     "4b4a1caa3bad4dafa57324e5eb930e3f": {
      "model_module": "@jupyter-widgets/base",
      "model_module_version": "1.0.0",
      "model_name": "LayoutModel",
      "state": {}
     },
     "4caa613dbd274fce89c772870cdc4f25": {
      "model_module": "@jupyter-widgets/controls",
      "model_module_version": "1.2.0",
      "model_name": "CheckboxModel",
      "state": {
       "description": "focusEstBoursier",
       "disabled": false,
       "layout": "IPY_MODEL_989a62fc42344183a1c8fe525f997b49",
       "style": "IPY_MODEL_b28f54abdf2741fabbf7703331fd2d0a",
       "value": false
      }
     },
     "4cd5985cd7ed4c1c9b08910ad6232a57": {
      "model_module": "@jupyter-widgets/base",
      "model_module_version": "1.0.0",
      "model_name": "LayoutModel",
      "state": {}
     },
     "4cfa7e9159054e03825efad5ce90edbb": {
      "model_module": "@jupyter-widgets/output",
      "model_module_version": "1.0.0",
      "model_name": "OutputModel",
      "state": {
       "layout": "IPY_MODEL_b452287a82914a96af50952f88d72746",
       "outputs": [
        {
         "name": "stdout",
         "output_type": "stream",
         "text": "Visualisation de l'algorithme de calcul de l'ordre d'appel.\n1. Vœux non triés par rang :\n"
        },
        {
         "data": {
          "text/html": "<style type=\"text/css\">table.blockgrid {border: none;} .blockgrid tr {border: none;} .blockgrid td {padding: 0px;} #blocks39b8c80b-4fa8-4f13-a186-9fee42d0dcc9 td {border: 1px solid white;}</style><table id=\"blocks39b8c80b-4fa8-4f13-a186-9fee42d0dcc9\" class=\"blockgrid\"><tbody><tr><td title=\"Index: [0, 0]&#10;Color: (200, 200, 200)\" style=\"width: 20px; height: 20px;background-color: rgb(200, 200, 200);\"></td><td title=\"Index: [0, 1]&#10;Color: (200, 200, 200)\" style=\"width: 20px; height: 20px;background-color: rgb(200, 200, 200);\"></td><td title=\"Index: [0, 2]&#10;Color: (200, 200, 200)\" style=\"width: 20px; height: 20px;background-color: rgb(200, 200, 200);\"></td><td title=\"Index: [0, 3]&#10;Color: (200, 200, 200)\" style=\"width: 20px; height: 20px;background-color: rgb(200, 200, 200);\"></td><td title=\"Index: [0, 4]&#10;Color: (200, 0, 0)\" style=\"width: 20px; height: 20px;background-color: rgb(200, 0, 0);\"></td><td title=\"Index: [0, 5]&#10;Color: (200, 200, 200)\" style=\"width: 20px; height: 20px;background-color: rgb(200, 200, 200);\"></td><td title=\"Index: [0, 6]&#10;Color: (200, 200, 200)\" style=\"width: 20px; height: 20px;background-color: rgb(200, 200, 200);\"></td><td title=\"Index: [0, 7]&#10;Color: (0, 0, 200)\" style=\"width: 20px; height: 20px;background-color: rgb(0, 0, 200);\"></td><td title=\"Index: [0, 8]&#10;Color: (200, 200, 200)\" style=\"width: 20px; height: 20px;background-color: rgb(200, 200, 200);\"></td><td title=\"Index: [0, 9]&#10;Color: (0, 0, 200)\" style=\"width: 20px; height: 20px;background-color: rgb(0, 0, 200);\"></td><td title=\"Index: [0, 10]&#10;Color: (200, 200, 200)\" style=\"width: 20px; height: 20px;background-color: rgb(200, 200, 200);\"></td><td title=\"Index: [0, 11]&#10;Color: (200, 200, 200)\" style=\"width: 20px; height: 20px;background-color: rgb(200, 200, 200);\"></td><td title=\"Index: [0, 12]&#10;Color: (200, 0, 0)\" style=\"width: 20px; height: 20px;background-color: rgb(200, 0, 0);\"></td><td title=\"Index: [0, 13]&#10;Color: (200, 0, 0)\" style=\"width: 20px; height: 20px;background-color: rgb(200, 0, 0);\"></td><td title=\"Index: [0, 14]&#10;Color: (200, 200, 200)\" style=\"width: 20px; height: 20px;background-color: rgb(200, 200, 200);\"></td><td title=\"Index: [0, 15]&#10;Color: (0, 0, 200)\" style=\"width: 20px; height: 20px;background-color: rgb(0, 0, 200);\"></td><td title=\"Index: [0, 16]&#10;Color: (200, 0, 0)\" style=\"width: 20px; height: 20px;background-color: rgb(200, 0, 0);\"></td><td title=\"Index: [0, 17]&#10;Color: (200, 200, 200)\" style=\"width: 20px; height: 20px;background-color: rgb(200, 200, 200);\"></td><td title=\"Index: [0, 18]&#10;Color: (200, 0, 0)\" style=\"width: 20px; height: 20px;background-color: rgb(200, 0, 0);\"></td><td title=\"Index: [0, 19]&#10;Color: (200, 200, 200)\" style=\"width: 20px; height: 20px;background-color: rgb(200, 200, 200);\"></td><td title=\"Index: [0, 20]&#10;Color: (200, 200, 200)\" style=\"width: 20px; height: 20px;background-color: rgb(200, 200, 200);\"></td><td title=\"Index: [0, 21]&#10;Color: (200, 200, 200)\" style=\"width: 20px; height: 20px;background-color: rgb(200, 200, 200);\"></td><td title=\"Index: [0, 22]&#10;Color: (200, 200, 200)\" style=\"width: 20px; height: 20px;background-color: rgb(200, 200, 200);\"></td><td title=\"Index: [0, 23]&#10;Color: (0, 0, 200)\" style=\"width: 20px; height: 20px;background-color: rgb(0, 0, 200);\"></td><td title=\"Index: [0, 24]&#10;Color: (0, 0, 200)\" style=\"width: 20px; height: 20px;background-color: rgb(0, 0, 200);\"></td><td title=\"Index: [0, 25]&#10;Color: (200, 0, 200)\" style=\"width: 20px; height: 20px;background-color: rgb(200, 0, 200);\"></td><td title=\"Index: [0, 26]&#10;Color: (200, 0, 0)\" style=\"width: 20px; height: 20px;background-color: rgb(200, 0, 0);\"></td><td title=\"Index: [0, 27]&#10;Color: (200, 200, 200)\" style=\"width: 20px; height: 20px;background-color: rgb(200, 200, 200);\"></td><td title=\"Index: [0, 28]&#10;Color: (200, 200, 200)\" style=\"width: 20px; height: 20px;background-color: rgb(200, 200, 200);\"></td><td title=\"Index: [0, 29]&#10;Color: (200, 200, 200)\" style=\"width: 20px; height: 20px;background-color: rgb(200, 200, 200);\"></td><td title=\"Index: [0, 30]&#10;Color: (200, 200, 200)\" style=\"width: 20px; height: 20px;background-color: rgb(200, 200, 200);\"></td><td title=\"Index: [0, 31]&#10;Color: (200, 200, 200)\" style=\"width: 20px; height: 20px;background-color: rgb(200, 200, 200);\"></td><td title=\"Index: [0, 32]&#10;Color: (0, 0, 200)\" style=\"width: 20px; height: 20px;background-color: rgb(0, 0, 200);\"></td><td title=\"Index: [0, 33]&#10;Color: (0, 0, 200)\" style=\"width: 20px; height: 20px;background-color: rgb(0, 0, 200);\"></td><td title=\"Index: [0, 34]&#10;Color: (200, 200, 200)\" style=\"width: 20px; height: 20px;background-color: rgb(200, 200, 200);\"></td><td title=\"Index: [0, 35]&#10;Color: (0, 0, 200)\" style=\"width: 20px; height: 20px;background-color: rgb(0, 0, 200);\"></td><td title=\"Index: [0, 36]&#10;Color: (200, 200, 200)\" style=\"width: 20px; height: 20px;background-color: rgb(200, 200, 200);\"></td><td title=\"Index: [0, 37]&#10;Color: (200, 200, 200)\" style=\"width: 20px; height: 20px;background-color: rgb(200, 200, 200);\"></td><td title=\"Index: [0, 38]&#10;Color: (200, 200, 200)\" style=\"width: 20px; height: 20px;background-color: rgb(200, 200, 200);\"></td><td title=\"Index: [0, 39]&#10;Color: (200, 200, 200)\" style=\"width: 20px; height: 20px;background-color: rgb(200, 200, 200);\"></td><td title=\"Index: [0, 40]&#10;Color: (200, 200, 200)\" style=\"width: 20px; height: 20px;background-color: rgb(200, 200, 200);\"></td><td title=\"Index: [0, 41]&#10;Color: (200, 0, 0)\" style=\"width: 20px; height: 20px;background-color: rgb(200, 0, 0);\"></td><td title=\"Index: [0, 42]&#10;Color: (200, 0, 0)\" style=\"width: 20px; height: 20px;background-color: rgb(200, 0, 0);\"></td><td title=\"Index: [0, 43]&#10;Color: (200, 200, 200)\" style=\"width: 20px; height: 20px;background-color: rgb(200, 200, 200);\"></td><td title=\"Index: [0, 44]&#10;Color: (200, 200, 200)\" style=\"width: 20px; height: 20px;background-color: rgb(200, 200, 200);\"></td><td title=\"Index: [0, 45]&#10;Color: (200, 200, 200)\" style=\"width: 20px; height: 20px;background-color: rgb(200, 200, 200);\"></td><td title=\"Index: [0, 46]&#10;Color: (200, 200, 200)\" style=\"width: 20px; height: 20px;background-color: rgb(200, 200, 200);\"></td><td title=\"Index: [0, 47]&#10;Color: (200, 200, 200)\" style=\"width: 20px; height: 20px;background-color: rgb(200, 200, 200);\"></td><td title=\"Index: [0, 48]&#10;Color: (200, 0, 0)\" style=\"width: 20px; height: 20px;background-color: rgb(200, 0, 0);\"></td><td title=\"Index: [0, 49]&#10;Color: (200, 200, 200)\" style=\"width: 20px; height: 20px;background-color: rgb(200, 200, 200);\"></td><td title=\"Index: [0, 50]&#10;Color: (200, 200, 200)\" style=\"width: 20px; height: 20px;background-color: rgb(200, 200, 200);\"></td><td title=\"Index: [0, 51]&#10;Color: (200, 200, 200)\" style=\"width: 20px; height: 20px;background-color: rgb(200, 200, 200);\"></td><td title=\"Index: [0, 52]&#10;Color: (200, 200, 200)\" style=\"width: 20px; height: 20px;background-color: rgb(200, 200, 200);\"></td><td title=\"Index: [0, 53]&#10;Color: (200, 0, 0)\" style=\"width: 20px; height: 20px;background-color: rgb(200, 0, 0);\"></td><td title=\"Index: [0, 54]&#10;Color: (200, 200, 200)\" style=\"width: 20px; height: 20px;background-color: rgb(200, 200, 200);\"></td><td title=\"Index: [0, 55]&#10;Color: (200, 0, 0)\" style=\"width: 20px; height: 20px;background-color: rgb(200, 0, 0);\"></td><td title=\"Index: [0, 56]&#10;Color: (200, 200, 200)\" style=\"width: 20px; height: 20px;background-color: rgb(200, 200, 200);\"></td><td title=\"Index: [0, 57]&#10;Color: (200, 200, 200)\" style=\"width: 20px; height: 20px;background-color: rgb(200, 200, 200);\"></td><td title=\"Index: [0, 58]&#10;Color: (200, 0, 200)\" style=\"width: 20px; height: 20px;background-color: rgb(200, 0, 200);\"></td><td title=\"Index: [0, 59]&#10;Color: (200, 200, 200)\" style=\"width: 20px; height: 20px;background-color: rgb(200, 200, 200);\"></td><td title=\"Index: [0, 60]&#10;Color: (200, 200, 200)\" style=\"width: 20px; height: 20px;background-color: rgb(200, 200, 200);\"></td><td title=\"Index: [0, 61]&#10;Color: (200, 200, 200)\" style=\"width: 20px; height: 20px;background-color: rgb(200, 200, 200);\"></td><td title=\"Index: [0, 62]&#10;Color: (0, 0, 200)\" style=\"width: 20px; height: 20px;background-color: rgb(0, 0, 200);\"></td><td title=\"Index: [0, 63]&#10;Color: (0, 0, 200)\" style=\"width: 20px; height: 20px;background-color: rgb(0, 0, 200);\"></td><td title=\"Index: [0, 64]&#10;Color: (200, 0, 0)\" style=\"width: 20px; height: 20px;background-color: rgb(200, 0, 0);\"></td><td title=\"Index: [0, 65]&#10;Color: (200, 200, 200)\" style=\"width: 20px; height: 20px;background-color: rgb(200, 200, 200);\"></td><td title=\"Index: [0, 66]&#10;Color: (200, 200, 200)\" style=\"width: 20px; height: 20px;background-color: rgb(200, 200, 200);\"></td><td title=\"Index: [0, 67]&#10;Color: (0, 0, 200)\" style=\"width: 20px; height: 20px;background-color: rgb(0, 0, 200);\"></td><td title=\"Index: [0, 68]&#10;Color: (0, 0, 200)\" style=\"width: 20px; height: 20px;background-color: rgb(0, 0, 200);\"></td><td title=\"Index: [0, 69]&#10;Color: (200, 200, 200)\" style=\"width: 20px; height: 20px;background-color: rgb(200, 200, 200);\"></td></tr></tbody></table>",
          "text/plain": "<ipythonblocks.ipythonblocks.BlockGrid at 0x7fa2b4554eb8>"
         },
         "metadata": {},
         "output_type": "display_data"
        },
        {
         "name": "stdout",
         "output_type": "stream",
         "text": "2. Vœux triés par rang, mais pas par l'algorithme :\n"
        },
        {
         "data": {
          "text/html": "<style type=\"text/css\">table.blockgrid {border: none;} .blockgrid tr {border: none;} .blockgrid td {padding: 0px;} #blocks70228dc2-89fb-43c8-b2ba-cdcde3fa3033 td {border: 1px solid white;}</style><table id=\"blocks70228dc2-89fb-43c8-b2ba-cdcde3fa3033\" class=\"blockgrid\"><tbody><tr><td title=\"Index: [0, 0]&#10;Color: (200, 200, 200)\" style=\"width: 20px; height: 20px;background-color: rgb(200, 200, 200);\"></td><td title=\"Index: [0, 1]&#10;Color: (200, 0, 0)\" style=\"width: 20px; height: 20px;background-color: rgb(200, 0, 0);\"></td><td title=\"Index: [0, 2]&#10;Color: (0, 0, 200)\" style=\"width: 20px; height: 20px;background-color: rgb(0, 0, 200);\"></td><td title=\"Index: [0, 3]&#10;Color: (200, 200, 200)\" style=\"width: 20px; height: 20px;background-color: rgb(200, 200, 200);\"></td><td title=\"Index: [0, 4]&#10;Color: (200, 0, 0)\" style=\"width: 20px; height: 20px;background-color: rgb(200, 0, 0);\"></td><td title=\"Index: [0, 5]&#10;Color: (0, 0, 200)\" style=\"width: 20px; height: 20px;background-color: rgb(0, 0, 200);\"></td><td title=\"Index: [0, 6]&#10;Color: (200, 200, 200)\" style=\"width: 20px; height: 20px;background-color: rgb(200, 200, 200);\"></td><td title=\"Index: [0, 7]&#10;Color: (200, 0, 0)\" style=\"width: 20px; height: 20px;background-color: rgb(200, 0, 0);\"></td><td title=\"Index: [0, 8]&#10;Color: (200, 200, 200)\" style=\"width: 20px; height: 20px;background-color: rgb(200, 200, 200);\"></td><td title=\"Index: [0, 9]&#10;Color: (200, 200, 200)\" style=\"width: 20px; height: 20px;background-color: rgb(200, 200, 200);\"></td><td title=\"Index: [0, 10]&#10;Color: (200, 200, 200)\" style=\"width: 20px; height: 20px;background-color: rgb(200, 200, 200);\"></td><td title=\"Index: [0, 11]&#10;Color: (200, 0, 200)\" style=\"width: 20px; height: 20px;background-color: rgb(200, 0, 200);\"></td><td title=\"Index: [0, 12]&#10;Color: (0, 0, 200)\" style=\"width: 20px; height: 20px;background-color: rgb(0, 0, 200);\"></td><td title=\"Index: [0, 13]&#10;Color: (200, 200, 200)\" style=\"width: 20px; height: 20px;background-color: rgb(200, 200, 200);\"></td><td title=\"Index: [0, 14]&#10;Color: (200, 200, 200)\" style=\"width: 20px; height: 20px;background-color: rgb(200, 200, 200);\"></td><td title=\"Index: [0, 15]&#10;Color: (200, 200, 200)\" style=\"width: 20px; height: 20px;background-color: rgb(200, 200, 200);\"></td><td title=\"Index: [0, 16]&#10;Color: (200, 0, 0)\" style=\"width: 20px; height: 20px;background-color: rgb(200, 0, 0);\"></td><td title=\"Index: [0, 17]&#10;Color: (200, 200, 200)\" style=\"width: 20px; height: 20px;background-color: rgb(200, 200, 200);\"></td><td title=\"Index: [0, 18]&#10;Color: (200, 0, 200)\" style=\"width: 20px; height: 20px;background-color: rgb(200, 0, 200);\"></td><td title=\"Index: [0, 19]&#10;Color: (200, 0, 0)\" style=\"width: 20px; height: 20px;background-color: rgb(200, 0, 0);\"></td><td title=\"Index: [0, 20]&#10;Color: (200, 0, 0)\" style=\"width: 20px; height: 20px;background-color: rgb(200, 0, 0);\"></td><td title=\"Index: [0, 21]&#10;Color: (200, 200, 200)\" style=\"width: 20px; height: 20px;background-color: rgb(200, 200, 200);\"></td><td title=\"Index: [0, 22]&#10;Color: (200, 200, 200)\" style=\"width: 20px; height: 20px;background-color: rgb(200, 200, 200);\"></td><td title=\"Index: [0, 23]&#10;Color: (200, 200, 200)\" style=\"width: 20px; height: 20px;background-color: rgb(200, 200, 200);\"></td><td title=\"Index: [0, 24]&#10;Color: (0, 0, 200)\" style=\"width: 20px; height: 20px;background-color: rgb(0, 0, 200);\"></td><td title=\"Index: [0, 25]&#10;Color: (200, 200, 200)\" style=\"width: 20px; height: 20px;background-color: rgb(200, 200, 200);\"></td><td title=\"Index: [0, 26]&#10;Color: (200, 200, 200)\" style=\"width: 20px; height: 20px;background-color: rgb(200, 200, 200);\"></td><td title=\"Index: [0, 27]&#10;Color: (200, 200, 200)\" style=\"width: 20px; height: 20px;background-color: rgb(200, 200, 200);\"></td><td title=\"Index: [0, 28]&#10;Color: (200, 200, 200)\" style=\"width: 20px; height: 20px;background-color: rgb(200, 200, 200);\"></td><td title=\"Index: [0, 29]&#10;Color: (200, 200, 200)\" style=\"width: 20px; height: 20px;background-color: rgb(200, 200, 200);\"></td><td title=\"Index: [0, 30]&#10;Color: (200, 200, 200)\" style=\"width: 20px; height: 20px;background-color: rgb(200, 200, 200);\"></td><td title=\"Index: [0, 31]&#10;Color: (0, 0, 200)\" style=\"width: 20px; height: 20px;background-color: rgb(0, 0, 200);\"></td><td title=\"Index: [0, 32]&#10;Color: (200, 0, 0)\" style=\"width: 20px; height: 20px;background-color: rgb(200, 0, 0);\"></td><td title=\"Index: [0, 33]&#10;Color: (0, 0, 200)\" style=\"width: 20px; height: 20px;background-color: rgb(0, 0, 200);\"></td><td title=\"Index: [0, 34]&#10;Color: (200, 200, 200)\" style=\"width: 20px; height: 20px;background-color: rgb(200, 200, 200);\"></td><td title=\"Index: [0, 35]&#10;Color: (0, 0, 200)\" style=\"width: 20px; height: 20px;background-color: rgb(0, 0, 200);\"></td><td title=\"Index: [0, 36]&#10;Color: (200, 0, 0)\" style=\"width: 20px; height: 20px;background-color: rgb(200, 0, 0);\"></td><td title=\"Index: [0, 37]&#10;Color: (0, 0, 200)\" style=\"width: 20px; height: 20px;background-color: rgb(0, 0, 200);\"></td><td title=\"Index: [0, 38]&#10;Color: (200, 200, 200)\" style=\"width: 20px; height: 20px;background-color: rgb(200, 200, 200);\"></td><td title=\"Index: [0, 39]&#10;Color: (200, 0, 0)\" style=\"width: 20px; height: 20px;background-color: rgb(200, 0, 0);\"></td><td title=\"Index: [0, 40]&#10;Color: (200, 200, 200)\" style=\"width: 20px; height: 20px;background-color: rgb(200, 200, 200);\"></td><td title=\"Index: [0, 41]&#10;Color: (200, 200, 200)\" style=\"width: 20px; height: 20px;background-color: rgb(200, 200, 200);\"></td><td title=\"Index: [0, 42]&#10;Color: (0, 0, 200)\" style=\"width: 20px; height: 20px;background-color: rgb(0, 0, 200);\"></td><td title=\"Index: [0, 43]&#10;Color: (200, 200, 200)\" style=\"width: 20px; height: 20px;background-color: rgb(200, 200, 200);\"></td><td title=\"Index: [0, 44]&#10;Color: (200, 200, 200)\" style=\"width: 20px; height: 20px;background-color: rgb(200, 200, 200);\"></td><td title=\"Index: [0, 45]&#10;Color: (200, 200, 200)\" style=\"width: 20px; height: 20px;background-color: rgb(200, 200, 200);\"></td><td title=\"Index: [0, 46]&#10;Color: (200, 200, 200)\" style=\"width: 20px; height: 20px;background-color: rgb(200, 200, 200);\"></td><td title=\"Index: [0, 47]&#10;Color: (200, 0, 0)\" style=\"width: 20px; height: 20px;background-color: rgb(200, 0, 0);\"></td><td title=\"Index: [0, 48]&#10;Color: (200, 200, 200)\" style=\"width: 20px; height: 20px;background-color: rgb(200, 200, 200);\"></td><td title=\"Index: [0, 49]&#10;Color: (200, 200, 200)\" style=\"width: 20px; height: 20px;background-color: rgb(200, 200, 200);\"></td><td title=\"Index: [0, 50]&#10;Color: (200, 0, 0)\" style=\"width: 20px; height: 20px;background-color: rgb(200, 0, 0);\"></td><td title=\"Index: [0, 51]&#10;Color: (200, 200, 200)\" style=\"width: 20px; height: 20px;background-color: rgb(200, 200, 200);\"></td><td title=\"Index: [0, 52]&#10;Color: (0, 0, 200)\" style=\"width: 20px; height: 20px;background-color: rgb(0, 0, 200);\"></td><td title=\"Index: [0, 53]&#10;Color: (200, 200, 200)\" style=\"width: 20px; height: 20px;background-color: rgb(200, 200, 200);\"></td><td title=\"Index: [0, 54]&#10;Color: (200, 200, 200)\" style=\"width: 20px; height: 20px;background-color: rgb(200, 200, 200);\"></td><td title=\"Index: [0, 55]&#10;Color: (200, 200, 200)\" style=\"width: 20px; height: 20px;background-color: rgb(200, 200, 200);\"></td><td title=\"Index: [0, 56]&#10;Color: (200, 200, 200)\" style=\"width: 20px; height: 20px;background-color: rgb(200, 200, 200);\"></td><td title=\"Index: [0, 57]&#10;Color: (0, 0, 200)\" style=\"width: 20px; height: 20px;background-color: rgb(0, 0, 200);\"></td><td title=\"Index: [0, 58]&#10;Color: (200, 200, 200)\" style=\"width: 20px; height: 20px;background-color: rgb(200, 200, 200);\"></td><td title=\"Index: [0, 59]&#10;Color: (200, 200, 200)\" style=\"width: 20px; height: 20px;background-color: rgb(200, 200, 200);\"></td><td title=\"Index: [0, 60]&#10;Color: (0, 0, 200)\" style=\"width: 20px; height: 20px;background-color: rgb(0, 0, 200);\"></td><td title=\"Index: [0, 61]&#10;Color: (200, 200, 200)\" style=\"width: 20px; height: 20px;background-color: rgb(200, 200, 200);\"></td><td title=\"Index: [0, 62]&#10;Color: (200, 200, 200)\" style=\"width: 20px; height: 20px;background-color: rgb(200, 200, 200);\"></td><td title=\"Index: [0, 63]&#10;Color: (200, 200, 200)\" style=\"width: 20px; height: 20px;background-color: rgb(200, 200, 200);\"></td><td title=\"Index: [0, 64]&#10;Color: (200, 0, 0)\" style=\"width: 20px; height: 20px;background-color: rgb(200, 0, 0);\"></td><td title=\"Index: [0, 65]&#10;Color: (200, 200, 200)\" style=\"width: 20px; height: 20px;background-color: rgb(200, 200, 200);\"></td><td title=\"Index: [0, 66]&#10;Color: (200, 200, 200)\" style=\"width: 20px; height: 20px;background-color: rgb(200, 200, 200);\"></td><td title=\"Index: [0, 67]&#10;Color: (200, 200, 200)\" style=\"width: 20px; height: 20px;background-color: rgb(200, 200, 200);\"></td><td title=\"Index: [0, 68]&#10;Color: (200, 200, 200)\" style=\"width: 20px; height: 20px;background-color: rgb(200, 200, 200);\"></td><td title=\"Index: [0, 69]&#10;Color: (200, 200, 200)\" style=\"width: 20px; height: 20px;background-color: rgb(200, 200, 200);\"></td></tr></tbody></table>",
          "text/plain": "<ipythonblocks.ipythonblocks.BlockGrid at 0x7fa2b4554eb8>"
         },
         "metadata": {},
         "output_type": "display_data"
        },
        {
         "name": "stdout",
         "output_type": "stream",
         "text": "3. Vœux triés par l'algorithme :\n"
        },
        {
         "data": {
          "text/html": "<style type=\"text/css\">table.blockgrid {border: none;} .blockgrid tr {border: none;} .blockgrid td {padding: 0px;} #blocks3eab37d8-3306-491e-9645-5c525a84a0cb td {border: 1px solid white;}</style><table id=\"blocks3eab37d8-3306-491e-9645-5c525a84a0cb\" class=\"blockgrid\"><tbody><tr><td title=\"Index: [0, 0]&#10;Color: (200, 0, 0)\" style=\"width: 20px; height: 20px;background-color: rgb(200, 0, 0);\"></td><td title=\"Index: [0, 1]&#10;Color: (200, 200, 200)\" style=\"width: 20px; height: 20px;background-color: rgb(200, 200, 200);\"></td><td title=\"Index: [0, 2]&#10;Color: (200, 200, 200)\" style=\"width: 20px; height: 20px;background-color: rgb(200, 200, 200);\"></td><td title=\"Index: [0, 3]&#10;Color: (200, 200, 200)\" style=\"width: 20px; height: 20px;background-color: rgb(200, 200, 200);\"></td><td title=\"Index: [0, 4]&#10;Color: (200, 200, 200)\" style=\"width: 20px; height: 20px;background-color: rgb(200, 200, 200);\"></td><td title=\"Index: [0, 5]&#10;Color: (200, 200, 200)\" style=\"width: 20px; height: 20px;background-color: rgb(200, 200, 200);\"></td><td title=\"Index: [0, 6]&#10;Color: (200, 200, 200)\" style=\"width: 20px; height: 20px;background-color: rgb(200, 200, 200);\"></td><td title=\"Index: [0, 7]&#10;Color: (200, 200, 200)\" style=\"width: 20px; height: 20px;background-color: rgb(200, 200, 200);\"></td><td title=\"Index: [0, 8]&#10;Color: (200, 200, 200)\" style=\"width: 20px; height: 20px;background-color: rgb(200, 200, 200);\"></td><td title=\"Index: [0, 9]&#10;Color: (0, 0, 200)\" style=\"width: 20px; height: 20px;background-color: rgb(0, 0, 200);\"></td><td title=\"Index: [0, 10]&#10;Color: (200, 0, 0)\" style=\"width: 20px; height: 20px;background-color: rgb(200, 0, 0);\"></td><td title=\"Index: [0, 11]&#10;Color: (200, 200, 200)\" style=\"width: 20px; height: 20px;background-color: rgb(200, 200, 200);\"></td><td title=\"Index: [0, 12]&#10;Color: (200, 200, 200)\" style=\"width: 20px; height: 20px;background-color: rgb(200, 200, 200);\"></td><td title=\"Index: [0, 13]&#10;Color: (0, 0, 200)\" style=\"width: 20px; height: 20px;background-color: rgb(0, 0, 200);\"></td><td title=\"Index: [0, 14]&#10;Color: (200, 200, 200)\" style=\"width: 20px; height: 20px;background-color: rgb(200, 200, 200);\"></td><td title=\"Index: [0, 15]&#10;Color: (200, 200, 200)\" style=\"width: 20px; height: 20px;background-color: rgb(200, 200, 200);\"></td><td title=\"Index: [0, 16]&#10;Color: (200, 200, 200)\" style=\"width: 20px; height: 20px;background-color: rgb(200, 200, 200);\"></td><td title=\"Index: [0, 17]&#10;Color: (200, 200, 200)\" style=\"width: 20px; height: 20px;background-color: rgb(200, 200, 200);\"></td><td title=\"Index: [0, 18]&#10;Color: (0, 0, 200)\" style=\"width: 20px; height: 20px;background-color: rgb(0, 0, 200);\"></td><td title=\"Index: [0, 19]&#10;Color: (200, 200, 200)\" style=\"width: 20px; height: 20px;background-color: rgb(200, 200, 200);\"></td><td title=\"Index: [0, 20]&#10;Color: (200, 0, 0)\" style=\"width: 20px; height: 20px;background-color: rgb(200, 0, 0);\"></td><td title=\"Index: [0, 21]&#10;Color: (200, 200, 200)\" style=\"width: 20px; height: 20px;background-color: rgb(200, 200, 200);\"></td><td title=\"Index: [0, 22]&#10;Color: (200, 200, 200)\" style=\"width: 20px; height: 20px;background-color: rgb(200, 200, 200);\"></td><td title=\"Index: [0, 23]&#10;Color: (200, 200, 200)\" style=\"width: 20px; height: 20px;background-color: rgb(200, 200, 200);\"></td><td title=\"Index: [0, 24]&#10;Color: (200, 200, 200)\" style=\"width: 20px; height: 20px;background-color: rgb(200, 200, 200);\"></td><td title=\"Index: [0, 25]&#10;Color: (200, 200, 200)\" style=\"width: 20px; height: 20px;background-color: rgb(200, 200, 200);\"></td><td title=\"Index: [0, 26]&#10;Color: (200, 200, 200)\" style=\"width: 20px; height: 20px;background-color: rgb(200, 200, 200);\"></td><td title=\"Index: [0, 27]&#10;Color: (0, 0, 200)\" style=\"width: 20px; height: 20px;background-color: rgb(0, 0, 200);\"></td><td title=\"Index: [0, 28]&#10;Color: (200, 200, 200)\" style=\"width: 20px; height: 20px;background-color: rgb(200, 200, 200);\"></td><td title=\"Index: [0, 29]&#10;Color: (200, 200, 200)\" style=\"width: 20px; height: 20px;background-color: rgb(200, 200, 200);\"></td><td title=\"Index: [0, 30]&#10;Color: (200, 0, 0)\" style=\"width: 20px; height: 20px;background-color: rgb(200, 0, 0);\"></td><td title=\"Index: [0, 31]&#10;Color: (200, 200, 200)\" style=\"width: 20px; height: 20px;background-color: rgb(200, 200, 200);\"></td><td title=\"Index: [0, 32]&#10;Color: (0, 0, 200)\" style=\"width: 20px; height: 20px;background-color: rgb(0, 0, 200);\"></td><td title=\"Index: [0, 33]&#10;Color: (200, 0, 0)\" style=\"width: 20px; height: 20px;background-color: rgb(200, 0, 0);\"></td><td title=\"Index: [0, 34]&#10;Color: (0, 0, 200)\" style=\"width: 20px; height: 20px;background-color: rgb(0, 0, 200);\"></td><td title=\"Index: [0, 35]&#10;Color: (200, 200, 200)\" style=\"width: 20px; height: 20px;background-color: rgb(200, 200, 200);\"></td><td title=\"Index: [0, 36]&#10;Color: (0, 0, 200)\" style=\"width: 20px; height: 20px;background-color: rgb(0, 0, 200);\"></td><td title=\"Index: [0, 37]&#10;Color: (200, 0, 0)\" style=\"width: 20px; height: 20px;background-color: rgb(200, 0, 0);\"></td><td title=\"Index: [0, 38]&#10;Color: (0, 0, 200)\" style=\"width: 20px; height: 20px;background-color: rgb(0, 0, 200);\"></td><td title=\"Index: [0, 39]&#10;Color: (200, 200, 200)\" style=\"width: 20px; height: 20px;background-color: rgb(200, 200, 200);\"></td><td title=\"Index: [0, 40]&#10;Color: (200, 200, 200)\" style=\"width: 20px; height: 20px;background-color: rgb(200, 200, 200);\"></td><td title=\"Index: [0, 41]&#10;Color: (200, 200, 200)\" style=\"width: 20px; height: 20px;background-color: rgb(200, 200, 200);\"></td><td title=\"Index: [0, 42]&#10;Color: (200, 200, 200)\" style=\"width: 20px; height: 20px;background-color: rgb(200, 200, 200);\"></td><td title=\"Index: [0, 43]&#10;Color: (200, 200, 200)\" style=\"width: 20px; height: 20px;background-color: rgb(200, 200, 200);\"></td><td title=\"Index: [0, 44]&#10;Color: (200, 200, 200)\" style=\"width: 20px; height: 20px;background-color: rgb(200, 200, 200);\"></td><td title=\"Index: [0, 45]&#10;Color: (0, 0, 200)\" style=\"width: 20px; height: 20px;background-color: rgb(0, 0, 200);\"></td><td title=\"Index: [0, 46]&#10;Color: (200, 200, 200)\" style=\"width: 20px; height: 20px;background-color: rgb(200, 200, 200);\"></td><td title=\"Index: [0, 47]&#10;Color: (200, 200, 200)\" style=\"width: 20px; height: 20px;background-color: rgb(200, 200, 200);\"></td><td title=\"Index: [0, 48]&#10;Color: (200, 200, 200)\" style=\"width: 20px; height: 20px;background-color: rgb(200, 200, 200);\"></td><td title=\"Index: [0, 49]&#10;Color: (200, 0, 0)\" style=\"width: 20px; height: 20px;background-color: rgb(200, 0, 0);\"></td><td title=\"Index: [0, 50]&#10;Color: (200, 0, 0)\" style=\"width: 20px; height: 20px;background-color: rgb(200, 0, 0);\"></td><td title=\"Index: [0, 51]&#10;Color: (200, 0, 200)\" style=\"width: 20px; height: 20px;background-color: rgb(200, 0, 200);\"></td><td title=\"Index: [0, 52]&#10;Color: (200, 200, 200)\" style=\"width: 20px; height: 20px;background-color: rgb(200, 200, 200);\"></td><td title=\"Index: [0, 53]&#10;Color: (200, 0, 0)\" style=\"width: 20px; height: 20px;background-color: rgb(200, 0, 0);\"></td><td title=\"Index: [0, 54]&#10;Color: (200, 200, 200)\" style=\"width: 20px; height: 20px;background-color: rgb(200, 200, 200);\"></td><td title=\"Index: [0, 55]&#10;Color: (200, 200, 200)\" style=\"width: 20px; height: 20px;background-color: rgb(200, 200, 200);\"></td><td title=\"Index: [0, 56]&#10;Color: (200, 200, 200)\" style=\"width: 20px; height: 20px;background-color: rgb(200, 200, 200);\"></td><td title=\"Index: [0, 57]&#10;Color: (0, 0, 200)\" style=\"width: 20px; height: 20px;background-color: rgb(0, 0, 200);\"></td><td title=\"Index: [0, 58]&#10;Color: (200, 0, 200)\" style=\"width: 20px; height: 20px;background-color: rgb(200, 0, 200);\"></td><td title=\"Index: [0, 59]&#10;Color: (200, 200, 200)\" style=\"width: 20px; height: 20px;background-color: rgb(200, 200, 200);\"></td><td title=\"Index: [0, 60]&#10;Color: (200, 200, 200)\" style=\"width: 20px; height: 20px;background-color: rgb(200, 200, 200);\"></td><td title=\"Index: [0, 61]&#10;Color: (200, 200, 200)\" style=\"width: 20px; height: 20px;background-color: rgb(200, 200, 200);\"></td><td title=\"Index: [0, 62]&#10;Color: (200, 0, 0)\" style=\"width: 20px; height: 20px;background-color: rgb(200, 0, 0);\"></td><td title=\"Index: [0, 63]&#10;Color: (200, 200, 200)\" style=\"width: 20px; height: 20px;background-color: rgb(200, 200, 200);\"></td><td title=\"Index: [0, 64]&#10;Color: (0, 0, 200)\" style=\"width: 20px; height: 20px;background-color: rgb(0, 0, 200);\"></td><td title=\"Index: [0, 65]&#10;Color: (200, 0, 0)\" style=\"width: 20px; height: 20px;background-color: rgb(200, 0, 0);\"></td><td title=\"Index: [0, 66]&#10;Color: (200, 200, 200)\" style=\"width: 20px; height: 20px;background-color: rgb(200, 200, 200);\"></td><td title=\"Index: [0, 67]&#10;Color: (0, 0, 200)\" style=\"width: 20px; height: 20px;background-color: rgb(0, 0, 200);\"></td><td title=\"Index: [0, 68]&#10;Color: (200, 0, 0)\" style=\"width: 20px; height: 20px;background-color: rgb(200, 0, 0);\"></td><td title=\"Index: [0, 69]&#10;Color: (200, 200, 200)\" style=\"width: 20px; height: 20px;background-color: rgb(200, 200, 200);\"></td></tr></tbody></table>",
          "text/plain": "<ipythonblocks.ipythonblocks.BlockGrid at 0x7fa2b4554eb8>"
         },
         "metadata": {},
         "output_type": "display_data"
        }
       ]
      }
     },
     "4ec856a9d5c543fdab88b9f4e4930515": {
      "model_module": "@jupyter-widgets/controls",
      "model_module_version": "1.2.0",
      "model_name": "SliderStyleModel",
      "state": {
       "description_width": ""
      }
     },
     "4eef7fae4a6d4465a94aea218cb06161": {
      "model_module": "@jupyter-widgets/controls",
      "model_module_version": "1.2.0",
      "model_name": "SliderStyleModel",
      "state": {
       "description_width": ""
      }
     },
     "4f031664ddac4ab1a36067262470d9be": {
      "model_module": "@jupyter-widgets/base",
      "model_module_version": "1.0.0",
      "model_name": "LayoutModel",
      "state": {}
     },
     "5138d11b9a6147d7902d130792066cd3": {
      "model_module": "@jupyter-widgets/controls",
      "model_module_version": "1.2.0",
      "model_name": "CheckboxModel",
      "state": {
       "description": "focusEstBoursier",
       "disabled": false,
       "layout": "IPY_MODEL_8669ac0a71144dd8b9c8daed76086d3c",
       "style": "IPY_MODEL_2a23787e2976493b8fb12da746d0c807",
       "value": false
      }
     },
     "51d2bb46f13841d4b1ca2968413fe51c": {
      "model_module": "@jupyter-widgets/controls",
      "model_module_version": "1.2.0",
      "model_name": "SliderStyleModel",
      "state": {
       "description_width": ""
      }
     },
     "522b4512c99b4997944e70834e565a46": {
      "model_module": "@jupyter-widgets/base",
      "model_module_version": "1.0.0",
      "model_name": "LayoutModel",
      "state": {}
     },
     "52f7b7574ff74d3fa267e0a563694445": {
      "model_module": "@jupyter-widgets/base",
      "model_module_version": "1.0.0",
      "model_name": "LayoutModel",
      "state": {}
     },
     "5354caf198124422aaa22fea5a86df41": {
      "model_module": "@jupyter-widgets/base",
      "model_module_version": "1.0.0",
      "model_name": "LayoutModel",
      "state": {}
     },
     "5364a9709a0d4350bea1247e54e700f6": {
      "model_module": "@jupyter-widgets/base",
      "model_module_version": "1.0.0",
      "model_name": "LayoutModel",
      "state": {}
     },
     "53c87a7caf1c41dab76f25a1ab7143f0": {
      "model_module": "@jupyter-widgets/base",
      "model_module_version": "1.0.0",
      "model_name": "LayoutModel",
      "state": {}
     },
     "53e3dc337d834b9ebd24e71c17d898f1": {
      "model_module": "@jupyter-widgets/controls",
      "model_module_version": "1.2.0",
      "model_name": "IntSliderModel",
      "state": {
       "description": "taille",
       "layout": "IPY_MODEL_a83cbd6300314b858e8796951a168c36",
       "max": 500,
       "min": 1,
       "style": "IPY_MODEL_0da77bc8f47f48e482bd475008824d1f",
       "value": 70
      }
     },
     "548f982c7c6b4f1e865e82d7443f0ead": {
      "model_module": "@jupyter-widgets/base",
      "model_module_version": "1.0.0",
      "model_name": "LayoutModel",
      "state": {}
     },
     "54de0e41b13640549e203d127279a651": {
      "model_module": "@jupyter-widgets/base",
      "model_module_version": "1.0.0",
      "model_name": "LayoutModel",
      "state": {}
     },
     "54e264aa085c45639bb28f4aa7a57946": {
      "model_module": "@jupyter-widgets/base",
      "model_module_version": "1.0.0",
      "model_name": "LayoutModel",
      "state": {}
     },
     "54ff43cc8449442288c9c98801871492": {
      "model_module": "@jupyter-widgets/controls",
      "model_module_version": "1.2.0",
      "model_name": "SliderStyleModel",
      "state": {
       "description_width": ""
      }
     },
     "554dc4a496824b2bbd677f4ccda13085": {
      "model_module": "@jupyter-widgets/controls",
      "model_module_version": "1.2.0",
      "model_name": "IntSliderModel",
      "state": {
       "description": "tauxMinBoursiersPourcents",
       "layout": "IPY_MODEL_5fb20b647e5345168e1250a867d76d99",
       "style": "IPY_MODEL_c46194f22f95426a98e7b33ab82e2ced",
       "value": 10
      }
     },
     "56041c7b9127406eb9317d39c6dcfdc5": {
      "model_module": "@jupyter-widgets/base",
      "model_module_version": "1.0.0",
      "model_name": "LayoutModel",
      "state": {}
     },
     "5606cb936dbb4f88b7d41c66e18d153d": {
      "model_module": "@jupyter-widgets/controls",
      "model_module_version": "1.2.0",
      "model_name": "IntSliderModel",
      "state": {
       "description": "tauxMinResidentsPourcents",
       "layout": "IPY_MODEL_b09c652abb9b4d8cb28d89e0a0928727",
       "style": "IPY_MODEL_ac3ee11b3ba94b558fa00e616370476d",
       "value": 20
      }
     },
     "56a175a6db6e4ac4ae5e89eb51d95177": {
      "model_module": "@jupyter-widgets/controls",
      "model_module_version": "1.2.0",
      "model_name": "VBoxModel",
      "state": {
       "_dom_classes": [
        "widget-interact"
       ],
       "children": [
        "IPY_MODEL_ae029c03558944abb4cb7158e3263760",
        "IPY_MODEL_5f0ba94d726b4562b09bb116645064e4",
        "IPY_MODEL_9de9f2357f8d4ee8b8c4d610f9bd7560"
       ],
       "layout": "IPY_MODEL_58f820eb512141af949bafce0ad5cab0"
      }
     },
     "5786bee0839e4518a5aaa12461c83e8b": {
      "model_module": "@jupyter-widgets/controls",
      "model_module_version": "1.2.0",
      "model_name": "IntSliderModel",
      "state": {
       "description": "tauxMinResidentsPourcents",
       "layout": "IPY_MODEL_4cd5985cd7ed4c1c9b08910ad6232a57",
       "style": "IPY_MODEL_0459a928a1904b9c9885afcec0846db2"
      }
     },
     "57985ca35599477daffe034a25ffc22a": {
      "model_module": "@jupyter-widgets/controls",
      "model_module_version": "1.2.0",
      "model_name": "IntSliderModel",
      "state": {
       "description": "random_seed",
       "layout": "IPY_MODEL_11932901715f40a8b9882fea57df7d56",
       "max": 1000,
       "style": "IPY_MODEL_0041a7ceb4a4498dae8ca61d17ccfe3b"
      }
     },
     "58a3daa1c25f4b2f8f98b70cbcbefc47": {
      "model_module": "@jupyter-widgets/base",
      "model_module_version": "1.0.0",
      "model_name": "LayoutModel",
      "state": {}
     },
     "58e38d079abc4702867d30fc80ba8fd8": {
      "model_module": "@jupyter-widgets/base",
      "model_module_version": "1.0.0",
      "model_name": "LayoutModel",
      "state": {}
     },
     "58f820eb512141af949bafce0ad5cab0": {
      "model_module": "@jupyter-widgets/base",
      "model_module_version": "1.0.0",
      "model_name": "LayoutModel",
      "state": {}
     },
     "59098c74171f4b74bc9bc033bced20db": {
      "model_module": "@jupyter-widgets/base",
      "model_module_version": "1.0.0",
      "model_name": "LayoutModel",
      "state": {}
     },
     "5913bcf3b12446c0b325e6887d142665": {
      "model_module": "@jupyter-widgets/controls",
      "model_module_version": "1.2.0",
      "model_name": "SliderStyleModel",
      "state": {
       "description_width": ""
      }
     },
     "5925e4c7d04b4c23babef6b4bc122e84": {
      "model_module": "@jupyter-widgets/base",
      "model_module_version": "1.0.0",
      "model_name": "LayoutModel",
      "state": {}
     },
     "593099f0d75945819fae3d3e15081d9c": {
      "model_module": "@jupyter-widgets/controls",
      "model_module_version": "1.2.0",
      "model_name": "IntSliderModel",
      "state": {
       "description": "tauxMinBoursiersPourcents",
       "layout": "IPY_MODEL_2a4d7e3b73824512a9bd7967a8c3afb6",
       "style": "IPY_MODEL_62250efa8ae148c6a891890e075b8977",
       "value": 10
      }
     },
     "594d23c2044f45ef8d836cf230d13d0d": {
      "model_module": "@jupyter-widgets/controls",
      "model_module_version": "1.2.0",
      "model_name": "SliderStyleModel",
      "state": {
       "description_width": ""
      }
     },
     "599f92a4a2524e0fbf4e241ea7b65513": {
      "model_module": "@jupyter-widgets/base",
      "model_module_version": "1.0.0",
      "model_name": "LayoutModel",
      "state": {}
     },
     "59c51220e67f4d57b0ac135bc1a94e24": {
      "model_module": "@jupyter-widgets/controls",
      "model_module_version": "1.2.0",
      "model_name": "CheckboxModel",
      "state": {
       "description": "focusEstBoursier",
       "disabled": false,
       "layout": "IPY_MODEL_c54165c9580c4f168acf31dca8808729",
       "style": "IPY_MODEL_61db4b2fa41243b89e594ac8e22ed9ab",
       "value": true
      }
     },
     "59ead53d0a734b1e8848d6757091448b": {
      "model_module": "@jupyter-widgets/controls",
      "model_module_version": "1.2.0",
      "model_name": "SliderStyleModel",
      "state": {
       "description_width": ""
      }
     },
     "59f495931e844584a8cc741d191f9f3c": {
      "model_module": "@jupyter-widgets/controls",
      "model_module_version": "1.2.0",
      "model_name": "SliderStyleModel",
      "state": {
       "description_width": ""
      }
     },
     "5a27f70f1cae48f7a4040c47a51fc5fa": {
      "model_module": "@jupyter-widgets/output",
      "model_module_version": "1.0.0",
      "model_name": "OutputModel",
      "state": {
       "layout": "IPY_MODEL_0761cba72aa144b0bfef2e3cf6f1bbd9",
       "outputs": [
        {
         "name": "stdout",
         "output_type": "stream",
         "text": "Visualisation de l'algorithme de calcul de l'ordre d'appel.\n1. Vœux non triés par rang :\n"
        },
        {
         "data": {
          "text/html": "<style type=\"text/css\">table.blockgrid {border: none;} .blockgrid tr {border: none;} .blockgrid td {padding: 0px;} #blocks088b55b3-ffea-4e49-b822-4cacf124306e td {border: 1px solid white;}</style><table id=\"blocks088b55b3-ffea-4e49-b822-4cacf124306e\" class=\"blockgrid\"><tbody><tr><td title=\"Index: [0, 0]&#10;Color: (200, 200, 200)\" style=\"width: 20px; height: 20px;background-color: rgb(200, 200, 200);\"></td><td title=\"Index: [0, 1]&#10;Color: (200, 200, 200)\" style=\"width: 20px; height: 20px;background-color: rgb(200, 200, 200);\"></td><td title=\"Index: [0, 2]&#10;Color: (255, 255, 255)\" style=\"width: 20px; height: 20px;background-color: rgb(255, 255, 255);\"></td><td title=\"Index: [0, 3]&#10;Color: (200, 200, 200)\" style=\"width: 20px; height: 20px;background-color: rgb(200, 200, 200);\"></td><td title=\"Index: [0, 4]&#10;Color: (200, 200, 200)\" style=\"width: 20px; height: 20px;background-color: rgb(200, 200, 200);\"></td></tr></tbody></table>",
          "text/plain": "<ipythonblocks.ipythonblocks.BlockGrid at 0x7fa2b4528208>"
         },
         "metadata": {},
         "output_type": "display_data"
        },
        {
         "name": "stdout",
         "output_type": "stream",
         "text": "2. Vœux triés par rang, mais pas par l'algorithme :\n"
        },
        {
         "data": {
          "text/html": "<style type=\"text/css\">table.blockgrid {border: none;} .blockgrid tr {border: none;} .blockgrid td {padding: 0px;} #blocks53f81d54-de66-4e57-ab35-423cb6e849c6 td {border: 1px solid white;}</style><table id=\"blocks53f81d54-de66-4e57-ab35-423cb6e849c6\" class=\"blockgrid\"><tbody><tr><td title=\"Index: [0, 0]&#10;Color: (200, 200, 200)\" style=\"width: 20px; height: 20px;background-color: rgb(200, 200, 200);\"></td><td title=\"Index: [0, 1]&#10;Color: (200, 200, 200)\" style=\"width: 20px; height: 20px;background-color: rgb(200, 200, 200);\"></td><td title=\"Index: [0, 2]&#10;Color: (200, 200, 200)\" style=\"width: 20px; height: 20px;background-color: rgb(200, 200, 200);\"></td><td title=\"Index: [0, 3]&#10;Color: (200, 200, 200)\" style=\"width: 20px; height: 20px;background-color: rgb(200, 200, 200);\"></td><td title=\"Index: [0, 4]&#10;Color: (255, 255, 255)\" style=\"width: 20px; height: 20px;background-color: rgb(255, 255, 255);\"></td></tr></tbody></table>",
          "text/plain": "<ipythonblocks.ipythonblocks.BlockGrid at 0x7fa2b4528208>"
         },
         "metadata": {},
         "output_type": "display_data"
        },
        {
         "name": "stdout",
         "output_type": "stream",
         "text": "3. Vœux triés par l'algorithme :\n"
        },
        {
         "data": {
          "text/html": "<style type=\"text/css\">table.blockgrid {border: none;} .blockgrid tr {border: none;} .blockgrid td {padding: 0px;} #blocks28e82881-81cd-4691-94ba-2846ca29c341 td {border: 1px solid white;}</style><table id=\"blocks28e82881-81cd-4691-94ba-2846ca29c341\" class=\"blockgrid\"><tbody><tr><td title=\"Index: [0, 0]&#10;Color: (255, 255, 255)\" style=\"width: 20px; height: 20px;background-color: rgb(255, 255, 255);\"></td><td title=\"Index: [0, 1]&#10;Color: (200, 200, 200)\" style=\"width: 20px; height: 20px;background-color: rgb(200, 200, 200);\"></td><td title=\"Index: [0, 2]&#10;Color: (200, 200, 200)\" style=\"width: 20px; height: 20px;background-color: rgb(200, 200, 200);\"></td><td title=\"Index: [0, 3]&#10;Color: (200, 200, 200)\" style=\"width: 20px; height: 20px;background-color: rgb(200, 200, 200);\"></td><td title=\"Index: [0, 4]&#10;Color: (200, 200, 200)\" style=\"width: 20px; height: 20px;background-color: rgb(200, 200, 200);\"></td></tr></tbody></table>",
          "text/plain": "<ipythonblocks.ipythonblocks.BlockGrid at 0x7fa2b4528208>"
         },
         "metadata": {},
         "output_type": "display_data"
        }
       ]
      }
     },
     "5a63d8145c5d4a5e8e70849c2cc5678c": {
      "model_module": "@jupyter-widgets/base",
      "model_module_version": "1.0.0",
      "model_name": "LayoutModel",
      "state": {}
     },
     "5a9ea8d632aa491ca70f8c0754df47c6": {
      "model_module": "@jupyter-widgets/controls",
      "model_module_version": "1.2.0",
      "model_name": "SliderStyleModel",
      "state": {
       "description_width": ""
      }
     },
     "5ad679f33d4f4058b6947f6793ae1d11": {
      "model_module": "@jupyter-widgets/base",
      "model_module_version": "1.0.0",
      "model_name": "LayoutModel",
      "state": {}
     },
     "5adfc1a766224b8fa4166401f585aa15": {
      "model_module": "@jupyter-widgets/base",
      "model_module_version": "1.0.0",
      "model_name": "LayoutModel",
      "state": {}
     },
     "5b09ea4ec23a48daabd05b1307835187": {
      "model_module": "@jupyter-widgets/controls",
      "model_module_version": "1.2.0",
      "model_name": "SliderStyleModel",
      "state": {
       "description_width": ""
      }
     },
     "5b6c800c92af44829fa59280704aa6eb": {
      "model_module": "@jupyter-widgets/controls",
      "model_module_version": "1.2.0",
      "model_name": "VBoxModel",
      "state": {
       "_dom_classes": [
        "widget-interact"
       ],
       "children": [
        "IPY_MODEL_d5de93a0f6864484b8afe238840c3cf5",
        "IPY_MODEL_2326896663824bcabd13ac678d0c05fa",
        "IPY_MODEL_008a19e268224eeda8700c3e2868d1fe",
        "IPY_MODEL_1b803105ec424237ac3785ab8802bfb1",
        "IPY_MODEL_5d577a222ddd4ae39a0255d397c3259e",
        "IPY_MODEL_a934d28a45aa41f282dd819cd0a445e9",
        "IPY_MODEL_fa3f1546fad549208e1c3abe9ff242e9"
       ],
       "layout": "IPY_MODEL_6360a62814b5444a80e94e39658973c1"
      }
     },
     "5c10084726cf42ea802995f7ae20bb8a": {
      "model_module": "@jupyter-widgets/controls",
      "model_module_version": "1.2.0",
      "model_name": "SliderStyleModel",
      "state": {
       "description_width": ""
      }
     },
     "5c1130eb0b6a40368d126df1c315ce66": {
      "model_module": "@jupyter-widgets/controls",
      "model_module_version": "1.2.0",
      "model_name": "SliderStyleModel",
      "state": {
       "description_width": ""
      }
     },
     "5c1188cf914941a39da78f6bc3fc78c1": {
      "model_module": "@jupyter-widgets/base",
      "model_module_version": "1.0.0",
      "model_name": "LayoutModel",
      "state": {}
     },
     "5c1299495a8a464dbaadec1803586855": {
      "model_module": "@jupyter-widgets/base",
      "model_module_version": "1.0.0",
      "model_name": "LayoutModel",
      "state": {}
     },
     "5d2a3bf9f0d84c3baa44239794b03bd9": {
      "model_module": "@jupyter-widgets/base",
      "model_module_version": "1.0.0",
      "model_name": "LayoutModel",
      "state": {}
     },
     "5d577a222ddd4ae39a0255d397c3259e": {
      "model_module": "@jupyter-widgets/controls",
      "model_module_version": "1.2.0",
      "model_name": "IntSliderModel",
      "state": {
       "description": "tauxMinBoursiersPourcents",
       "layout": "IPY_MODEL_eabdaccd31344ac8a2c1d47839af01b9",
       "style": "IPY_MODEL_64a413fc373a41c187eca71d52ef9d8d",
       "value": 20
      }
     },
     "5daae6e5e85740e2bd156735f0e8cf9f": {
      "model_module": "@jupyter-widgets/base",
      "model_module_version": "1.0.0",
      "model_name": "LayoutModel",
      "state": {}
     },
     "5de1f17bf1a6497eb50ee768de7bc9aa": {
      "model_module": "@jupyter-widgets/base",
      "model_module_version": "1.0.0",
      "model_name": "LayoutModel",
      "state": {}
     },
     "5e1358949e5d42ee90f0ae52dd8ce6dd": {
      "model_module": "@jupyter-widgets/base",
      "model_module_version": "1.0.0",
      "model_name": "LayoutModel",
      "state": {}
     },
     "5e50d2667bbe44338d1a764d5fdb43ea": {
      "model_module": "@jupyter-widgets/controls",
      "model_module_version": "1.2.0",
      "model_name": "IntSliderModel",
      "state": {
       "description": "tauxMinBoursiersPourcents",
       "layout": "IPY_MODEL_88eb8e5d46e44e3fba213bc4f8170103",
       "style": "IPY_MODEL_ec729094e9094033ba84408f2230d9bc",
       "value": 10
      }
     },
     "5efee7d9ab2a49afad8efbd85fc6ed60": {
      "model_module": "@jupyter-widgets/controls",
      "model_module_version": "1.2.0",
      "model_name": "SliderStyleModel",
      "state": {
       "description_width": ""
      }
     },
     "5f0ba94d726b4562b09bb116645064e4": {
      "model_module": "@jupyter-widgets/controls",
      "model_module_version": "1.2.0",
      "model_name": "IntSliderModel",
      "state": {
       "description": "tauxMinResidentsPourcents",
       "layout": "IPY_MODEL_d289a55a87234f1abdb91e7dc2d97082",
       "style": "IPY_MODEL_6bcca26bca6a4e9da42abc0d75b4c3cf"
      }
     },
     "5f2a204409954458b6cafcd5c824600e": {
      "model_module": "@jupyter-widgets/controls",
      "model_module_version": "1.2.0",
      "model_name": "IntSliderModel",
      "state": {
       "description": "taille",
       "layout": "IPY_MODEL_722dfa7ef7304bf6bb45dfcf93dd9e0f",
       "max": 500,
       "min": 1,
       "style": "IPY_MODEL_829ca093c4d340118bbc13f21e6651f8",
       "value": 39
      }
     },
     "5fb20b647e5345168e1250a867d76d99": {
      "model_module": "@jupyter-widgets/base",
      "model_module_version": "1.0.0",
      "model_name": "LayoutModel",
      "state": {}
     },
     "604f796c0246455489c924bbca2aa8e5": {
      "model_module": "@jupyter-widgets/controls",
      "model_module_version": "1.2.0",
      "model_name": "SliderStyleModel",
      "state": {
       "description_width": ""
      }
     },
     "609660575d0240daa1ac11399c9dd4c2": {
      "model_module": "@jupyter-widgets/controls",
      "model_module_version": "1.2.0",
      "model_name": "SliderStyleModel",
      "state": {
       "description_width": ""
      }
     },
     "615b8a11f4ea44ebbdc25748aeb08775": {
      "model_module": "@jupyter-widgets/base",
      "model_module_version": "1.0.0",
      "model_name": "LayoutModel",
      "state": {}
     },
     "61db4b2fa41243b89e594ac8e22ed9ab": {
      "model_module": "@jupyter-widgets/controls",
      "model_module_version": "1.2.0",
      "model_name": "DescriptionStyleModel",
      "state": {
       "description_width": ""
      }
     },
     "61f421e9872442d59a2c32c3084885b6": {
      "model_module": "@jupyter-widgets/base",
      "model_module_version": "1.0.0",
      "model_name": "LayoutModel",
      "state": {}
     },
     "621309f65c8449c1bf69b16b732459a2": {
      "model_module": "@jupyter-widgets/base",
      "model_module_version": "1.0.0",
      "model_name": "LayoutModel",
      "state": {}
     },
     "62250efa8ae148c6a891890e075b8977": {
      "model_module": "@jupyter-widgets/controls",
      "model_module_version": "1.2.0",
      "model_name": "SliderStyleModel",
      "state": {
       "description_width": ""
      }
     },
     "62ae669e49ac47e893cc3d1526112221": {
      "model_module": "@jupyter-widgets/controls",
      "model_module_version": "1.2.0",
      "model_name": "SliderStyleModel",
      "state": {
       "description_width": ""
      }
     },
     "63173b072ba84c9b9b4c3924e755b88a": {
      "model_module": "@jupyter-widgets/controls",
      "model_module_version": "1.2.0",
      "model_name": "SliderStyleModel",
      "state": {
       "description_width": ""
      }
     },
     "633b0a2db3494b74802e31cddbc2e7f5": {
      "model_module": "@jupyter-widgets/base",
      "model_module_version": "1.0.0",
      "model_name": "LayoutModel",
      "state": {}
     },
     "6360a62814b5444a80e94e39658973c1": {
      "model_module": "@jupyter-widgets/base",
      "model_module_version": "1.0.0",
      "model_name": "LayoutModel",
      "state": {}
     },
     "63f9b62061b64bb2bc6c965b0e60bdfa": {
      "model_module": "@jupyter-widgets/controls",
      "model_module_version": "1.2.0",
      "model_name": "CheckboxModel",
      "state": {
       "description": "focusEstResident",
       "disabled": false,
       "layout": "IPY_MODEL_97ea4a79ba0f428c87880fb6806da09c",
       "style": "IPY_MODEL_d94ccdcd43d0417e8ed9d6bb41c3e6cb",
       "value": false
      }
     },
     "64a413fc373a41c187eca71d52ef9d8d": {
      "model_module": "@jupyter-widgets/controls",
      "model_module_version": "1.2.0",
      "model_name": "SliderStyleModel",
      "state": {
       "description_width": ""
      }
     },
     "64c766e60b4245828daf8cff982a0fad": {
      "model_module": "@jupyter-widgets/controls",
      "model_module_version": "1.2.0",
      "model_name": "IntSliderModel",
      "state": {
       "description": "random_seed",
       "layout": "IPY_MODEL_9d8c9347bddf4f4bb729b41bb5bfdd79",
       "max": 1000,
       "style": "IPY_MODEL_9ee8a31db93f42dea5e9c3d302c90879"
      }
     },
     "65520d85835f4bd6a6ba18e153893222": {
      "model_module": "@jupyter-widgets/output",
      "model_module_version": "1.0.0",
      "model_name": "OutputModel",
      "state": {
       "layout": "IPY_MODEL_39d05eb9b0cd4f6fbb56a3789f732031"
      }
     },
     "65aa44eea7454cebae295d137afa1664": {
      "model_module": "@jupyter-widgets/controls",
      "model_module_version": "1.2.0",
      "model_name": "SliderStyleModel",
      "state": {
       "description_width": ""
      }
     },
     "65cd4696484747f1a5913ea130b2ea71": {
      "model_module": "@jupyter-widgets/controls",
      "model_module_version": "1.2.0",
      "model_name": "VBoxModel",
      "state": {
       "_dom_classes": [
        "widget-interact"
       ],
       "children": [
        "IPY_MODEL_16ef2e3a9d7b4bbcb4ea61a4016e5597",
        "IPY_MODEL_6972a1434eb148e5b50073acebe09068",
        "IPY_MODEL_9c55afd58fc34478825e0cbe16885fae",
        "IPY_MODEL_57985ca35599477daffe034a25ffc22a",
        "IPY_MODEL_6dc71707fed04470946c91d407997a5a",
        "IPY_MODEL_fb95b270e9ce41538de800a4921cf982",
        "IPY_MODEL_0e7ee56fa580424a9d68321d7e8f6ef5",
        "IPY_MODEL_32ec1ac53a5a4d2eb5acc232b4351506",
        "IPY_MODEL_6d932cfe09f74ca8ac803c4aa12348d3",
        "IPY_MODEL_e565b277cd3c4a6ba4563cafd163b8b3"
       ],
       "layout": "IPY_MODEL_5c1299495a8a464dbaadec1803586855"
      }
     },
     "65d4334d93124b1a845355836bbbe9bd": {
      "model_module": "@jupyter-widgets/controls",
      "model_module_version": "1.2.0",
      "model_name": "VBoxModel",
      "state": {
       "_dom_classes": [
        "widget-interact"
       ],
       "children": [
        "IPY_MODEL_ba7f547d8a504c8db892bafc788915ce",
        "IPY_MODEL_7207d491952f43a28d181dab4fb3f431",
        "IPY_MODEL_39a52f640ead4d688b222341b58f5159"
       ],
       "layout": "IPY_MODEL_b612801001d34ca58e5048113cc202f4"
      }
     },
     "664b5fcec2f642d09aeae63b88b2c3dc": {
      "model_module": "@jupyter-widgets/controls",
      "model_module_version": "1.2.0",
      "model_name": "IntSliderModel",
      "state": {
       "description": "random_seed",
       "layout": "IPY_MODEL_da7feeaa8ac74c3e9a058dde77c61c2d",
       "max": 1000,
       "style": "IPY_MODEL_5efee7d9ab2a49afad8efbd85fc6ed60",
       "value": 14
      }
     },
     "666475b0ed7047698f2386edec8e53bf": {
      "model_module": "@jupyter-widgets/base",
      "model_module_version": "1.0.0",
      "model_name": "LayoutModel",
      "state": {}
     },
     "668a1b02923c4785a4354dbfaaa1a44b": {
      "model_module": "@jupyter-widgets/base",
      "model_module_version": "1.0.0",
      "model_name": "LayoutModel",
      "state": {}
     },
     "66953f88693440cc8bf7f52317226920": {
      "model_module": "@jupyter-widgets/controls",
      "model_module_version": "1.2.0",
      "model_name": "DescriptionStyleModel",
      "state": {
       "description_width": ""
      }
     },
     "673100747a494f9d9a878a13538a68c6": {
      "model_module": "@jupyter-widgets/base",
      "model_module_version": "1.0.0",
      "model_name": "LayoutModel",
      "state": {}
     },
     "675f2216ba4946ccbc6313634b08221e": {
      "model_module": "@jupyter-widgets/controls",
      "model_module_version": "1.2.0",
      "model_name": "IntSliderModel",
      "state": {
       "description": "taille",
       "layout": "IPY_MODEL_4b4a1caa3bad4dafa57324e5eb930e3f",
       "max": 500,
       "min": 1,
       "style": "IPY_MODEL_37a1ae23aa4b4e34962c893d584c61a1",
       "value": 70
      }
     },
     "676d5f741f3e4c89b0defded1d6b0235": {
      "model_module": "@jupyter-widgets/base",
      "model_module_version": "1.0.0",
      "model_name": "LayoutModel",
      "state": {}
     },
     "67795c6b76564bd8bb4e28440ba4b62b": {
      "model_module": "@jupyter-widgets/controls",
      "model_module_version": "1.2.0",
      "model_name": "SliderStyleModel",
      "state": {
       "description_width": ""
      }
     },
     "6795f86842d24aa8aa6e788134bcb4db": {
      "model_module": "@jupyter-widgets/output",
      "model_module_version": "1.0.0",
      "model_name": "OutputModel",
      "state": {
       "layout": "IPY_MODEL_6fb98ed5096f429f8d12538afce8279b",
       "outputs": [
        {
         "data": {
          "text/plain": "[6, 1, 2, 3, 4, 5, 7, 8]"
         },
         "metadata": {},
         "output_type": "display_data"
        }
       ]
      }
     },
     "691a0dddd1e1487980f414f17ea3c9bd": {
      "model_module": "@jupyter-widgets/controls",
      "model_module_version": "1.2.0",
      "model_name": "IntSliderModel",
      "state": {
       "description": "tauxMinResidentsPourcents",
       "layout": "IPY_MODEL_87bbab3d800345668ae938920a412dd7",
       "style": "IPY_MODEL_8fa436d8f7e84b6fbccfbbaa72552f38"
      }
     },
     "691d43e34d9e444fb6473ae26cfa7409": {
      "model_module": "@jupyter-widgets/controls",
      "model_module_version": "1.2.0",
      "model_name": "IntSliderModel",
      "state": {
       "description": "tauxResidents",
       "layout": "IPY_MODEL_46f8bf1bb326465caffa4fe5c8c1ea28",
       "style": "IPY_MODEL_c24ce9659e2b4aacaf170a48f9fe59ec",
       "value": 20
      }
     },
     "692aa80a2e9e4343837af4689ff9d3f1": {
      "model_module": "@jupyter-widgets/controls",
      "model_module_version": "1.2.0",
      "model_name": "IntSliderModel",
      "state": {
       "description": "random_seed",
       "layout": "IPY_MODEL_8e5db433e1ce4af5990a1e0f00f624ed",
       "max": 1000,
       "style": "IPY_MODEL_1d3a61ca27e54ab59a7f56dcd7ee006f"
      }
     },
     "69448fdc04ea4c79b1dca41ef6043d8a": {
      "model_module": "@jupyter-widgets/controls",
      "model_module_version": "1.2.0",
      "model_name": "IntSliderModel",
      "state": {
       "description": "tauxMinResidentsPourcents",
       "layout": "IPY_MODEL_b6407bc33d7a456fb64c42f9a534c678",
       "style": "IPY_MODEL_59f495931e844584a8cc741d191f9f3c"
      }
     },
     "6972a1434eb148e5b50073acebe09068": {
      "model_module": "@jupyter-widgets/controls",
      "model_module_version": "1.2.0",
      "model_name": "IntSliderModel",
      "state": {
       "description": "tauxBoursiers",
       "layout": "IPY_MODEL_5c1188cf914941a39da78f6bc3fc78c1",
       "style": "IPY_MODEL_d10582f3425047a586e19beff099c525",
       "value": 20
      }
     },
     "69d943a16c784735a5b56296fa4465d5": {
      "model_module": "@jupyter-widgets/controls",
      "model_module_version": "1.2.0",
      "model_name": "DescriptionStyleModel",
      "state": {
       "description_width": ""
      }
     },
     "69edab4f64934e5191daae01176d4a06": {
      "model_module": "@jupyter-widgets/base",
      "model_module_version": "1.0.0",
      "model_name": "LayoutModel",
      "state": {}
     },
     "6a06e0505d7741bc9b6962c733d30a81": {
      "model_module": "@jupyter-widgets/controls",
      "model_module_version": "1.2.0",
      "model_name": "SliderStyleModel",
      "state": {
       "description_width": ""
      }
     },
     "6a8c9065bec247ce842ef5c14bf1cf46": {
      "model_module": "@jupyter-widgets/base",
      "model_module_version": "1.0.0",
      "model_name": "LayoutModel",
      "state": {}
     },
     "6bb954a5be554757a3050656266fa7a0": {
      "model_module": "@jupyter-widgets/controls",
      "model_module_version": "1.2.0",
      "model_name": "CheckboxModel",
      "state": {
       "description": "focusEstBoursier",
       "disabled": false,
       "layout": "IPY_MODEL_2ea2316604204b2ea19073643a482d1c",
       "style": "IPY_MODEL_22e0f9c0aca44a4f8665a07a1bf7845a",
       "value": false
      }
     },
     "6bcca26bca6a4e9da42abc0d75b4c3cf": {
      "model_module": "@jupyter-widgets/controls",
      "model_module_version": "1.2.0",
      "model_name": "SliderStyleModel",
      "state": {
       "description_width": ""
      }
     },
     "6d000dc0629d4fa082e9e09731fbc4cc": {
      "model_module": "@jupyter-widgets/controls",
      "model_module_version": "1.2.0",
      "model_name": "IntSliderModel",
      "state": {
       "description": "rangDuFocus",
       "layout": "IPY_MODEL_e61598780383408b9c8be165f5832445",
       "max": 30,
       "min": 1,
       "style": "IPY_MODEL_dedcf6ead2ca475cafe255241000b30a",
       "value": 1
      }
     },
     "6d3b8cb8cd34423c8702e4854da9ab71": {
      "model_module": "@jupyter-widgets/controls",
      "model_module_version": "1.2.0",
      "model_name": "VBoxModel",
      "state": {
       "_dom_classes": [
        "widget-interact"
       ],
       "children": [
        "IPY_MODEL_2dba4a5f1a164cf7858668d41c26e271",
        "IPY_MODEL_2bec2bbee1ac40aeb0aa1cae9cb8eca3",
        "IPY_MODEL_72bec33e1dd64b3ca941d75e27d417f1",
        "IPY_MODEL_a3dbdc3633864a7faeb85a5e9fd2ec75",
        "IPY_MODEL_415520f8e21e48b4b5563009cbeb89e7",
        "IPY_MODEL_44f8d203512e46d290c2ea93d521e21a",
        "IPY_MODEL_a0d9e627d4e342af947fa0526da1750c",
        "IPY_MODEL_5e50d2667bbe44338d1a764d5fdb43ea",
        "IPY_MODEL_9d841f3efe9042569551cc21d6348414",
        "IPY_MODEL_5a27f70f1cae48f7a4040c47a51fc5fa"
       ],
       "layout": "IPY_MODEL_07477443c7ba42759c0d758206f7fc30"
      }
     },
     "6d5c7faeee7d490d8a835a78d75b8454": {
      "model_module": "@jupyter-widgets/controls",
      "model_module_version": "1.2.0",
      "model_name": "SliderStyleModel",
      "state": {
       "description_width": ""
      }
     },
     "6d932cfe09f74ca8ac803c4aa12348d3": {
      "model_module": "@jupyter-widgets/controls",
      "model_module_version": "1.2.0",
      "model_name": "IntSliderModel",
      "state": {
       "description": "tauxMinResidentsPourcents",
       "layout": "IPY_MODEL_3c6f6a10efe84558afd050940cf2061d",
       "style": "IPY_MODEL_ce5b9cd0fe544ce6a75ee76cb7f289ca"
      }
     },
     "6dc448b5a60c44d8a2590937103e57a9": {
      "model_module": "@jupyter-widgets/base",
      "model_module_version": "1.0.0",
      "model_name": "LayoutModel",
      "state": {}
     },
     "6dc71707fed04470946c91d407997a5a": {
      "model_module": "@jupyter-widgets/controls",
      "model_module_version": "1.2.0",
      "model_name": "IntSliderModel",
      "state": {
       "description": "rangDuFocus",
       "layout": "IPY_MODEL_acbe5184cc1e4e108f5d7b4b7cc2e3ac",
       "max": 200,
       "min": 1,
       "style": "IPY_MODEL_4eef7fae4a6d4465a94aea218cb06161",
       "value": 1
      }
     },
     "6dd6730895e945fa9276cb47090ecbca": {
      "model_module": "@jupyter-widgets/controls",
      "model_module_version": "1.2.0",
      "model_name": "DescriptionStyleModel",
      "state": {
       "description_width": ""
      }
     },
     "6df49d31e12e4c4496f76588bf6274f7": {
      "model_module": "@jupyter-widgets/controls",
      "model_module_version": "1.2.0",
      "model_name": "IntSliderModel",
      "state": {
       "description": "tauxMinResidentsPourcents",
       "layout": "IPY_MODEL_861ae1a354b84b58acf0525ee51751db",
       "style": "IPY_MODEL_a4909b821e75423dacac1815148aeb7f"
      }
     },
     "6f1e46b9d26348bd91443d1e4af369b7": {
      "model_module": "@jupyter-widgets/controls",
      "model_module_version": "1.2.0",
      "model_name": "SliderStyleModel",
      "state": {
       "description_width": ""
      }
     },
     "6f41fcb8055948daac1de31da5150a82": {
      "model_module": "@jupyter-widgets/controls",
      "model_module_version": "1.2.0",
      "model_name": "SliderStyleModel",
      "state": {
       "description_width": ""
      }
     },
     "6f967146f6f845729f964e3e10687844": {
      "model_module": "@jupyter-widgets/controls",
      "model_module_version": "1.2.0",
      "model_name": "DescriptionStyleModel",
      "state": {
       "description_width": ""
      }
     },
     "6fb98ed5096f429f8d12538afce8279b": {
      "model_module": "@jupyter-widgets/base",
      "model_module_version": "1.0.0",
      "model_name": "LayoutModel",
      "state": {}
     },
     "6fc885841bdd484cb0e294939b8e3f46": {
      "model_module": "@jupyter-widgets/base",
      "model_module_version": "1.0.0",
      "model_name": "LayoutModel",
      "state": {}
     },
     "705715d54e7e46a59f99e21f3bcf8dde": {
      "model_module": "@jupyter-widgets/base",
      "model_module_version": "1.0.0",
      "model_name": "LayoutModel",
      "state": {}
     },
     "7105254ba16e461f82b7caa98dd7f51d": {
      "model_module": "@jupyter-widgets/controls",
      "model_module_version": "1.2.0",
      "model_name": "SliderStyleModel",
      "state": {
       "description_width": ""
      }
     },
     "71a6d2c204654b7e878b59cf830cbc54": {
      "model_module": "@jupyter-widgets/base",
      "model_module_version": "1.0.0",
      "model_name": "LayoutModel",
      "state": {}
     },
     "7207d491952f43a28d181dab4fb3f431": {
      "model_module": "@jupyter-widgets/controls",
      "model_module_version": "1.2.0",
      "model_name": "IntSliderModel",
      "state": {
       "description": "tauxMinResidentsPourcents",
       "layout": "IPY_MODEL_0820e1b405dd4496b63b3c5ec3e0684b",
       "style": "IPY_MODEL_2ca6dd1a31ee48f495a19b78cdae9988"
      }
     },
     "7209dbc1a29e41e7bef361f8afbd8925": {
      "model_module": "@jupyter-widgets/controls",
      "model_module_version": "1.2.0",
      "model_name": "SliderStyleModel",
      "state": {
       "description_width": ""
      }
     },
     "722dfa7ef7304bf6bb45dfcf93dd9e0f": {
      "model_module": "@jupyter-widgets/base",
      "model_module_version": "1.0.0",
      "model_name": "LayoutModel",
      "state": {}
     },
     "7264a9d94b904699b456ad97334a540e": {
      "model_module": "@jupyter-widgets/base",
      "model_module_version": "1.0.0",
      "model_name": "LayoutModel",
      "state": {}
     },
     "7278dd7750fd4b9785d27a8558e15e71": {
      "model_module": "@jupyter-widgets/base",
      "model_module_version": "1.0.0",
      "model_name": "LayoutModel",
      "state": {}
     },
     "72bec33e1dd64b3ca941d75e27d417f1": {
      "model_module": "@jupyter-widgets/controls",
      "model_module_version": "1.2.0",
      "model_name": "IntSliderModel",
      "state": {
       "description": "tauxResidents",
       "layout": "IPY_MODEL_eb9d0b8ef3cc4334820390b1b16b33b5",
       "style": "IPY_MODEL_5913bcf3b12446c0b325e6887d142665"
      }
     },
     "7315fd6b1a05436b8f6fa116357f62e0": {
      "model_module": "@jupyter-widgets/base",
      "model_module_version": "1.0.0",
      "model_name": "LayoutModel",
      "state": {}
     },
     "735cd85470d94eb6ad42c65e49f57c50": {
      "model_module": "@jupyter-widgets/base",
      "model_module_version": "1.0.0",
      "model_name": "LayoutModel",
      "state": {}
     },
     "737859d2a1514ec19d0634f0682db4ed": {
      "model_module": "@jupyter-widgets/controls",
      "model_module_version": "1.2.0",
      "model_name": "SliderStyleModel",
      "state": {
       "description_width": ""
      }
     },
     "7473fb3ea03c4a2282575f343adce814": {
      "model_module": "@jupyter-widgets/controls",
      "model_module_version": "1.2.0",
      "model_name": "SliderStyleModel",
      "state": {
       "description_width": ""
      }
     },
     "7485dd72d9f849fe9f34b64d82fbd507": {
      "model_module": "@jupyter-widgets/controls",
      "model_module_version": "1.2.0",
      "model_name": "IntSliderModel",
      "state": {
       "description": "tauxBoursiers",
       "layout": "IPY_MODEL_9140d4debcd84d13a9596dba16a89169",
       "style": "IPY_MODEL_26aec2e835714ec69ee61e731a057e11",
       "value": 20
      }
     },
     "74b32f6317fb45d389c184a0083b283b": {
      "model_module": "@jupyter-widgets/base",
      "model_module_version": "1.0.0",
      "model_name": "LayoutModel",
      "state": {}
     },
     "74cf32939a1c40d98ce1fe612ca9524d": {
      "model_module": "@jupyter-widgets/base",
      "model_module_version": "1.0.0",
      "model_name": "LayoutModel",
      "state": {}
     },
     "74dc5f95a12349be95521838e1e4d085": {
      "model_module": "@jupyter-widgets/controls",
      "model_module_version": "1.2.0",
      "model_name": "IntSliderModel",
      "state": {
       "description": "rangDuFocus",
       "layout": "IPY_MODEL_89d5c5a050924c888a56f7eae86cee18",
       "max": 200,
       "min": 1,
       "style": "IPY_MODEL_f0ac986091a745b3a5ce223a4bad6873",
       "value": 1
      }
     },
     "75220a532c5349a2acbcf077b65b75f8": {
      "model_module": "@jupyter-widgets/controls",
      "model_module_version": "1.2.0",
      "model_name": "IntSliderModel",
      "state": {
       "description": "tauxBoursiers",
       "layout": "IPY_MODEL_76e02660d23449e1ad2645de6bbde024",
       "style": "IPY_MODEL_a085b3a100bd42528926ca37d462f866",
       "value": 20
      }
     },
     "7526b8bed14846d194b7c44277746e15": {
      "model_module": "@jupyter-widgets/controls",
      "model_module_version": "1.2.0",
      "model_name": "DescriptionStyleModel",
      "state": {
       "description_width": ""
      }
     },
     "75dd571b9ad74b0a81a8e9d76ef62fa5": {
      "model_module": "@jupyter-widgets/output",
      "model_module_version": "1.0.0",
      "model_name": "OutputModel",
      "state": {
       "layout": "IPY_MODEL_912f10a934464f838325f049a3c07521",
       "outputs": [
        {
         "data": {
          "text/html": "<style type=\"text/css\">table.blockgrid {border: none;} .blockgrid tr {border: none;} .blockgrid td {padding: 0px;} #blocksde0b0ee4-ec36-45ff-a0d1-474bf56bc66a td {border: 1px solid white;}</style><table id=\"blocksde0b0ee4-ec36-45ff-a0d1-474bf56bc66a\" class=\"blockgrid\"><tbody><tr><td title=\"Index: [0, 0]&#10;Color: (200, 200, 200)\" style=\"width: 20px; height: 20px;background-color: rgb(200, 200, 200);\"></td><td title=\"Index: [0, 1]&#10;Color: (200, 200, 200)\" style=\"width: 20px; height: 20px;background-color: rgb(200, 200, 200);\"></td><td title=\"Index: [0, 2]&#10;Color: (200, 200, 200)\" style=\"width: 20px; height: 20px;background-color: rgb(200, 200, 200);\"></td><td title=\"Index: [0, 3]&#10;Color: (200, 200, 200)\" style=\"width: 20px; height: 20px;background-color: rgb(200, 200, 200);\"></td><td title=\"Index: [0, 4]&#10;Color: (200, 0, 0)\" style=\"width: 20px; height: 20px;background-color: rgb(200, 0, 0);\"></td><td title=\"Index: [0, 5]&#10;Color: (200, 200, 200)\" style=\"width: 20px; height: 20px;background-color: rgb(200, 200, 200);\"></td><td title=\"Index: [0, 6]&#10;Color: (200, 200, 200)\" style=\"width: 20px; height: 20px;background-color: rgb(200, 200, 200);\"></td><td title=\"Index: [0, 7]&#10;Color: (0, 0, 200)\" style=\"width: 20px; height: 20px;background-color: rgb(0, 0, 200);\"></td><td title=\"Index: [0, 8]&#10;Color: (200, 200, 200)\" style=\"width: 20px; height: 20px;background-color: rgb(200, 200, 200);\"></td><td title=\"Index: [0, 9]&#10;Color: (0, 0, 200)\" style=\"width: 20px; height: 20px;background-color: rgb(0, 0, 200);\"></td><td title=\"Index: [0, 10]&#10;Color: (200, 200, 200)\" style=\"width: 20px; height: 20px;background-color: rgb(200, 200, 200);\"></td><td title=\"Index: [0, 11]&#10;Color: (200, 200, 200)\" style=\"width: 20px; height: 20px;background-color: rgb(200, 200, 200);\"></td><td title=\"Index: [0, 12]&#10;Color: (200, 0, 0)\" style=\"width: 20px; height: 20px;background-color: rgb(200, 0, 0);\"></td><td title=\"Index: [0, 13]&#10;Color: (200, 0, 0)\" style=\"width: 20px; height: 20px;background-color: rgb(200, 0, 0);\"></td><td title=\"Index: [0, 14]&#10;Color: (200, 200, 200)\" style=\"width: 20px; height: 20px;background-color: rgb(200, 200, 200);\"></td><td title=\"Index: [0, 15]&#10;Color: (0, 0, 200)\" style=\"width: 20px; height: 20px;background-color: rgb(0, 0, 200);\"></td><td title=\"Index: [0, 16]&#10;Color: (200, 0, 0)\" style=\"width: 20px; height: 20px;background-color: rgb(200, 0, 0);\"></td><td title=\"Index: [0, 17]&#10;Color: (200, 200, 200)\" style=\"width: 20px; height: 20px;background-color: rgb(200, 200, 200);\"></td><td title=\"Index: [0, 18]&#10;Color: (200, 0, 0)\" style=\"width: 20px; height: 20px;background-color: rgb(200, 0, 0);\"></td><td title=\"Index: [0, 19]&#10;Color: (200, 200, 200)\" style=\"width: 20px; height: 20px;background-color: rgb(200, 200, 200);\"></td><td title=\"Index: [0, 20]&#10;Color: (200, 200, 200)\" style=\"width: 20px; height: 20px;background-color: rgb(200, 200, 200);\"></td><td title=\"Index: [0, 21]&#10;Color: (200, 200, 200)\" style=\"width: 20px; height: 20px;background-color: rgb(200, 200, 200);\"></td><td title=\"Index: [0, 22]&#10;Color: (200, 200, 200)\" style=\"width: 20px; height: 20px;background-color: rgb(200, 200, 200);\"></td><td title=\"Index: [0, 23]&#10;Color: (0, 0, 200)\" style=\"width: 20px; height: 20px;background-color: rgb(0, 0, 200);\"></td><td title=\"Index: [0, 24]&#10;Color: (0, 0, 200)\" style=\"width: 20px; height: 20px;background-color: rgb(0, 0, 200);\"></td><td title=\"Index: [0, 25]&#10;Color: (200, 0, 200)\" style=\"width: 20px; height: 20px;background-color: rgb(200, 0, 200);\"></td><td title=\"Index: [0, 26]&#10;Color: (200, 0, 0)\" style=\"width: 20px; height: 20px;background-color: rgb(200, 0, 0);\"></td><td title=\"Index: [0, 27]&#10;Color: (200, 200, 200)\" style=\"width: 20px; height: 20px;background-color: rgb(200, 200, 200);\"></td><td title=\"Index: [0, 28]&#10;Color: (200, 200, 200)\" style=\"width: 20px; height: 20px;background-color: rgb(200, 200, 200);\"></td><td title=\"Index: [0, 29]&#10;Color: (200, 200, 200)\" style=\"width: 20px; height: 20px;background-color: rgb(200, 200, 200);\"></td><td title=\"Index: [0, 30]&#10;Color: (200, 200, 200)\" style=\"width: 20px; height: 20px;background-color: rgb(200, 200, 200);\"></td><td title=\"Index: [0, 31]&#10;Color: (200, 200, 200)\" style=\"width: 20px; height: 20px;background-color: rgb(200, 200, 200);\"></td><td title=\"Index: [0, 32]&#10;Color: (0, 0, 200)\" style=\"width: 20px; height: 20px;background-color: rgb(0, 0, 200);\"></td><td title=\"Index: [0, 33]&#10;Color: (0, 0, 200)\" style=\"width: 20px; height: 20px;background-color: rgb(0, 0, 200);\"></td><td title=\"Index: [0, 34]&#10;Color: (200, 200, 200)\" style=\"width: 20px; height: 20px;background-color: rgb(200, 200, 200);\"></td><td title=\"Index: [0, 35]&#10;Color: (0, 0, 200)\" style=\"width: 20px; height: 20px;background-color: rgb(0, 0, 200);\"></td><td title=\"Index: [0, 36]&#10;Color: (200, 200, 200)\" style=\"width: 20px; height: 20px;background-color: rgb(200, 200, 200);\"></td><td title=\"Index: [0, 37]&#10;Color: (200, 200, 200)\" style=\"width: 20px; height: 20px;background-color: rgb(200, 200, 200);\"></td><td title=\"Index: [0, 38]&#10;Color: (200, 200, 200)\" style=\"width: 20px; height: 20px;background-color: rgb(200, 200, 200);\"></td><td title=\"Index: [0, 39]&#10;Color: (200, 200, 200)\" style=\"width: 20px; height: 20px;background-color: rgb(200, 200, 200);\"></td><td title=\"Index: [0, 40]&#10;Color: (200, 200, 200)\" style=\"width: 20px; height: 20px;background-color: rgb(200, 200, 200);\"></td><td title=\"Index: [0, 41]&#10;Color: (200, 0, 0)\" style=\"width: 20px; height: 20px;background-color: rgb(200, 0, 0);\"></td><td title=\"Index: [0, 42]&#10;Color: (200, 0, 0)\" style=\"width: 20px; height: 20px;background-color: rgb(200, 0, 0);\"></td><td title=\"Index: [0, 43]&#10;Color: (200, 200, 200)\" style=\"width: 20px; height: 20px;background-color: rgb(200, 200, 200);\"></td><td title=\"Index: [0, 44]&#10;Color: (200, 200, 200)\" style=\"width: 20px; height: 20px;background-color: rgb(200, 200, 200);\"></td><td title=\"Index: [0, 45]&#10;Color: (200, 200, 200)\" style=\"width: 20px; height: 20px;background-color: rgb(200, 200, 200);\"></td><td title=\"Index: [0, 46]&#10;Color: (200, 200, 200)\" style=\"width: 20px; height: 20px;background-color: rgb(200, 200, 200);\"></td><td title=\"Index: [0, 47]&#10;Color: (200, 200, 200)\" style=\"width: 20px; height: 20px;background-color: rgb(200, 200, 200);\"></td><td title=\"Index: [0, 48]&#10;Color: (200, 0, 0)\" style=\"width: 20px; height: 20px;background-color: rgb(200, 0, 0);\"></td><td title=\"Index: [0, 49]&#10;Color: (200, 200, 200)\" style=\"width: 20px; height: 20px;background-color: rgb(200, 200, 200);\"></td><td title=\"Index: [0, 50]&#10;Color: (200, 200, 200)\" style=\"width: 20px; height: 20px;background-color: rgb(200, 200, 200);\"></td><td title=\"Index: [0, 51]&#10;Color: (200, 200, 200)\" style=\"width: 20px; height: 20px;background-color: rgb(200, 200, 200);\"></td><td title=\"Index: [0, 52]&#10;Color: (200, 200, 200)\" style=\"width: 20px; height: 20px;background-color: rgb(200, 200, 200);\"></td><td title=\"Index: [0, 53]&#10;Color: (200, 0, 0)\" style=\"width: 20px; height: 20px;background-color: rgb(200, 0, 0);\"></td><td title=\"Index: [0, 54]&#10;Color: (200, 200, 200)\" style=\"width: 20px; height: 20px;background-color: rgb(200, 200, 200);\"></td><td title=\"Index: [0, 55]&#10;Color: (200, 0, 0)\" style=\"width: 20px; height: 20px;background-color: rgb(200, 0, 0);\"></td><td title=\"Index: [0, 56]&#10;Color: (200, 200, 200)\" style=\"width: 20px; height: 20px;background-color: rgb(200, 200, 200);\"></td><td title=\"Index: [0, 57]&#10;Color: (200, 200, 200)\" style=\"width: 20px; height: 20px;background-color: rgb(200, 200, 200);\"></td><td title=\"Index: [0, 58]&#10;Color: (200, 0, 200)\" style=\"width: 20px; height: 20px;background-color: rgb(200, 0, 200);\"></td><td title=\"Index: [0, 59]&#10;Color: (200, 200, 200)\" style=\"width: 20px; height: 20px;background-color: rgb(200, 200, 200);\"></td><td title=\"Index: [0, 60]&#10;Color: (200, 200, 200)\" style=\"width: 20px; height: 20px;background-color: rgb(200, 200, 200);\"></td><td title=\"Index: [0, 61]&#10;Color: (200, 200, 200)\" style=\"width: 20px; height: 20px;background-color: rgb(200, 200, 200);\"></td><td title=\"Index: [0, 62]&#10;Color: (0, 0, 200)\" style=\"width: 20px; height: 20px;background-color: rgb(0, 0, 200);\"></td><td title=\"Index: [0, 63]&#10;Color: (0, 0, 200)\" style=\"width: 20px; height: 20px;background-color: rgb(0, 0, 200);\"></td><td title=\"Index: [0, 64]&#10;Color: (200, 0, 0)\" style=\"width: 20px; height: 20px;background-color: rgb(200, 0, 0);\"></td><td title=\"Index: [0, 65]&#10;Color: (200, 200, 200)\" style=\"width: 20px; height: 20px;background-color: rgb(200, 200, 200);\"></td><td title=\"Index: [0, 66]&#10;Color: (200, 200, 200)\" style=\"width: 20px; height: 20px;background-color: rgb(200, 200, 200);\"></td><td title=\"Index: [0, 67]&#10;Color: (0, 0, 200)\" style=\"width: 20px; height: 20px;background-color: rgb(0, 0, 200);\"></td><td title=\"Index: [0, 68]&#10;Color: (0, 0, 200)\" style=\"width: 20px; height: 20px;background-color: rgb(0, 0, 200);\"></td><td title=\"Index: [0, 69]&#10;Color: (200, 200, 200)\" style=\"width: 20px; height: 20px;background-color: rgb(200, 200, 200);\"></td></tr></tbody></table>",
          "text/plain": "<ipythonblocks.ipythonblocks.BlockGrid at 0x7f694004deb8>"
         },
         "metadata": {},
         "output_type": "display_data"
        },
        {
         "data": {
          "text/plain": "\"2. Vœux triés par rang, mais pas par l'algorithme :\""
         },
         "metadata": {},
         "output_type": "display_data"
        },
        {
         "data": {
          "text/html": "<style type=\"text/css\">table.blockgrid {border: none;} .blockgrid tr {border: none;} .blockgrid td {padding: 0px;} #blocks90f52a60-06b0-4018-a7f7-a5c833d8559f td {border: 1px solid white;}</style><table id=\"blocks90f52a60-06b0-4018-a7f7-a5c833d8559f\" class=\"blockgrid\"><tbody><tr><td title=\"Index: [0, 0]&#10;Color: (200, 200, 200)\" style=\"width: 20px; height: 20px;background-color: rgb(200, 200, 200);\"></td><td title=\"Index: [0, 1]&#10;Color: (200, 0, 0)\" style=\"width: 20px; height: 20px;background-color: rgb(200, 0, 0);\"></td><td title=\"Index: [0, 2]&#10;Color: (0, 0, 200)\" style=\"width: 20px; height: 20px;background-color: rgb(0, 0, 200);\"></td><td title=\"Index: [0, 3]&#10;Color: (200, 200, 200)\" style=\"width: 20px; height: 20px;background-color: rgb(200, 200, 200);\"></td><td title=\"Index: [0, 4]&#10;Color: (200, 0, 0)\" style=\"width: 20px; height: 20px;background-color: rgb(200, 0, 0);\"></td><td title=\"Index: [0, 5]&#10;Color: (0, 0, 200)\" style=\"width: 20px; height: 20px;background-color: rgb(0, 0, 200);\"></td><td title=\"Index: [0, 6]&#10;Color: (200, 200, 200)\" style=\"width: 20px; height: 20px;background-color: rgb(200, 200, 200);\"></td><td title=\"Index: [0, 7]&#10;Color: (200, 0, 0)\" style=\"width: 20px; height: 20px;background-color: rgb(200, 0, 0);\"></td><td title=\"Index: [0, 8]&#10;Color: (200, 200, 200)\" style=\"width: 20px; height: 20px;background-color: rgb(200, 200, 200);\"></td><td title=\"Index: [0, 9]&#10;Color: (200, 200, 200)\" style=\"width: 20px; height: 20px;background-color: rgb(200, 200, 200);\"></td><td title=\"Index: [0, 10]&#10;Color: (200, 200, 200)\" style=\"width: 20px; height: 20px;background-color: rgb(200, 200, 200);\"></td><td title=\"Index: [0, 11]&#10;Color: (200, 0, 200)\" style=\"width: 20px; height: 20px;background-color: rgb(200, 0, 200);\"></td><td title=\"Index: [0, 12]&#10;Color: (0, 0, 200)\" style=\"width: 20px; height: 20px;background-color: rgb(0, 0, 200);\"></td><td title=\"Index: [0, 13]&#10;Color: (200, 200, 200)\" style=\"width: 20px; height: 20px;background-color: rgb(200, 200, 200);\"></td><td title=\"Index: [0, 14]&#10;Color: (200, 200, 200)\" style=\"width: 20px; height: 20px;background-color: rgb(200, 200, 200);\"></td><td title=\"Index: [0, 15]&#10;Color: (200, 200, 200)\" style=\"width: 20px; height: 20px;background-color: rgb(200, 200, 200);\"></td><td title=\"Index: [0, 16]&#10;Color: (200, 0, 0)\" style=\"width: 20px; height: 20px;background-color: rgb(200, 0, 0);\"></td><td title=\"Index: [0, 17]&#10;Color: (200, 200, 200)\" style=\"width: 20px; height: 20px;background-color: rgb(200, 200, 200);\"></td><td title=\"Index: [0, 18]&#10;Color: (200, 0, 200)\" style=\"width: 20px; height: 20px;background-color: rgb(200, 0, 200);\"></td><td title=\"Index: [0, 19]&#10;Color: (200, 0, 0)\" style=\"width: 20px; height: 20px;background-color: rgb(200, 0, 0);\"></td><td title=\"Index: [0, 20]&#10;Color: (200, 0, 0)\" style=\"width: 20px; height: 20px;background-color: rgb(200, 0, 0);\"></td><td title=\"Index: [0, 21]&#10;Color: (200, 200, 200)\" style=\"width: 20px; height: 20px;background-color: rgb(200, 200, 200);\"></td><td title=\"Index: [0, 22]&#10;Color: (200, 200, 200)\" style=\"width: 20px; height: 20px;background-color: rgb(200, 200, 200);\"></td><td title=\"Index: [0, 23]&#10;Color: (200, 200, 200)\" style=\"width: 20px; height: 20px;background-color: rgb(200, 200, 200);\"></td><td title=\"Index: [0, 24]&#10;Color: (0, 0, 200)\" style=\"width: 20px; height: 20px;background-color: rgb(0, 0, 200);\"></td><td title=\"Index: [0, 25]&#10;Color: (200, 200, 200)\" style=\"width: 20px; height: 20px;background-color: rgb(200, 200, 200);\"></td><td title=\"Index: [0, 26]&#10;Color: (200, 200, 200)\" style=\"width: 20px; height: 20px;background-color: rgb(200, 200, 200);\"></td><td title=\"Index: [0, 27]&#10;Color: (200, 200, 200)\" style=\"width: 20px; height: 20px;background-color: rgb(200, 200, 200);\"></td><td title=\"Index: [0, 28]&#10;Color: (200, 200, 200)\" style=\"width: 20px; height: 20px;background-color: rgb(200, 200, 200);\"></td><td title=\"Index: [0, 29]&#10;Color: (200, 200, 200)\" style=\"width: 20px; height: 20px;background-color: rgb(200, 200, 200);\"></td><td title=\"Index: [0, 30]&#10;Color: (200, 200, 200)\" style=\"width: 20px; height: 20px;background-color: rgb(200, 200, 200);\"></td><td title=\"Index: [0, 31]&#10;Color: (0, 0, 200)\" style=\"width: 20px; height: 20px;background-color: rgb(0, 0, 200);\"></td><td title=\"Index: [0, 32]&#10;Color: (200, 0, 0)\" style=\"width: 20px; height: 20px;background-color: rgb(200, 0, 0);\"></td><td title=\"Index: [0, 33]&#10;Color: (0, 0, 200)\" style=\"width: 20px; height: 20px;background-color: rgb(0, 0, 200);\"></td><td title=\"Index: [0, 34]&#10;Color: (200, 200, 200)\" style=\"width: 20px; height: 20px;background-color: rgb(200, 200, 200);\"></td><td title=\"Index: [0, 35]&#10;Color: (0, 0, 200)\" style=\"width: 20px; height: 20px;background-color: rgb(0, 0, 200);\"></td><td title=\"Index: [0, 36]&#10;Color: (200, 0, 0)\" style=\"width: 20px; height: 20px;background-color: rgb(200, 0, 0);\"></td><td title=\"Index: [0, 37]&#10;Color: (0, 0, 200)\" style=\"width: 20px; height: 20px;background-color: rgb(0, 0, 200);\"></td><td title=\"Index: [0, 38]&#10;Color: (200, 200, 200)\" style=\"width: 20px; height: 20px;background-color: rgb(200, 200, 200);\"></td><td title=\"Index: [0, 39]&#10;Color: (200, 0, 0)\" style=\"width: 20px; height: 20px;background-color: rgb(200, 0, 0);\"></td><td title=\"Index: [0, 40]&#10;Color: (200, 200, 200)\" style=\"width: 20px; height: 20px;background-color: rgb(200, 200, 200);\"></td><td title=\"Index: [0, 41]&#10;Color: (200, 200, 200)\" style=\"width: 20px; height: 20px;background-color: rgb(200, 200, 200);\"></td><td title=\"Index: [0, 42]&#10;Color: (0, 0, 200)\" style=\"width: 20px; height: 20px;background-color: rgb(0, 0, 200);\"></td><td title=\"Index: [0, 43]&#10;Color: (200, 200, 200)\" style=\"width: 20px; height: 20px;background-color: rgb(200, 200, 200);\"></td><td title=\"Index: [0, 44]&#10;Color: (200, 200, 200)\" style=\"width: 20px; height: 20px;background-color: rgb(200, 200, 200);\"></td><td title=\"Index: [0, 45]&#10;Color: (200, 200, 200)\" style=\"width: 20px; height: 20px;background-color: rgb(200, 200, 200);\"></td><td title=\"Index: [0, 46]&#10;Color: (200, 200, 200)\" style=\"width: 20px; height: 20px;background-color: rgb(200, 200, 200);\"></td><td title=\"Index: [0, 47]&#10;Color: (200, 0, 0)\" style=\"width: 20px; height: 20px;background-color: rgb(200, 0, 0);\"></td><td title=\"Index: [0, 48]&#10;Color: (200, 200, 200)\" style=\"width: 20px; height: 20px;background-color: rgb(200, 200, 200);\"></td><td title=\"Index: [0, 49]&#10;Color: (200, 200, 200)\" style=\"width: 20px; height: 20px;background-color: rgb(200, 200, 200);\"></td><td title=\"Index: [0, 50]&#10;Color: (200, 0, 0)\" style=\"width: 20px; height: 20px;background-color: rgb(200, 0, 0);\"></td><td title=\"Index: [0, 51]&#10;Color: (200, 200, 200)\" style=\"width: 20px; height: 20px;background-color: rgb(200, 200, 200);\"></td><td title=\"Index: [0, 52]&#10;Color: (0, 0, 200)\" style=\"width: 20px; height: 20px;background-color: rgb(0, 0, 200);\"></td><td title=\"Index: [0, 53]&#10;Color: (200, 200, 200)\" style=\"width: 20px; height: 20px;background-color: rgb(200, 200, 200);\"></td><td title=\"Index: [0, 54]&#10;Color: (200, 200, 200)\" style=\"width: 20px; height: 20px;background-color: rgb(200, 200, 200);\"></td><td title=\"Index: [0, 55]&#10;Color: (200, 200, 200)\" style=\"width: 20px; height: 20px;background-color: rgb(200, 200, 200);\"></td><td title=\"Index: [0, 56]&#10;Color: (200, 200, 200)\" style=\"width: 20px; height: 20px;background-color: rgb(200, 200, 200);\"></td><td title=\"Index: [0, 57]&#10;Color: (0, 0, 200)\" style=\"width: 20px; height: 20px;background-color: rgb(0, 0, 200);\"></td><td title=\"Index: [0, 58]&#10;Color: (200, 200, 200)\" style=\"width: 20px; height: 20px;background-color: rgb(200, 200, 200);\"></td><td title=\"Index: [0, 59]&#10;Color: (200, 200, 200)\" style=\"width: 20px; height: 20px;background-color: rgb(200, 200, 200);\"></td><td title=\"Index: [0, 60]&#10;Color: (0, 0, 200)\" style=\"width: 20px; height: 20px;background-color: rgb(0, 0, 200);\"></td><td title=\"Index: [0, 61]&#10;Color: (200, 200, 200)\" style=\"width: 20px; height: 20px;background-color: rgb(200, 200, 200);\"></td><td title=\"Index: [0, 62]&#10;Color: (200, 200, 200)\" style=\"width: 20px; height: 20px;background-color: rgb(200, 200, 200);\"></td><td title=\"Index: [0, 63]&#10;Color: (200, 200, 200)\" style=\"width: 20px; height: 20px;background-color: rgb(200, 200, 200);\"></td><td title=\"Index: [0, 64]&#10;Color: (200, 0, 0)\" style=\"width: 20px; height: 20px;background-color: rgb(200, 0, 0);\"></td><td title=\"Index: [0, 65]&#10;Color: (200, 200, 200)\" style=\"width: 20px; height: 20px;background-color: rgb(200, 200, 200);\"></td><td title=\"Index: [0, 66]&#10;Color: (200, 200, 200)\" style=\"width: 20px; height: 20px;background-color: rgb(200, 200, 200);\"></td><td title=\"Index: [0, 67]&#10;Color: (200, 200, 200)\" style=\"width: 20px; height: 20px;background-color: rgb(200, 200, 200);\"></td><td title=\"Index: [0, 68]&#10;Color: (200, 200, 200)\" style=\"width: 20px; height: 20px;background-color: rgb(200, 200, 200);\"></td><td title=\"Index: [0, 69]&#10;Color: (200, 200, 200)\" style=\"width: 20px; height: 20px;background-color: rgb(200, 200, 200);\"></td></tr></tbody></table>",
          "text/plain": "<ipythonblocks.ipythonblocks.BlockGrid at 0x7f694004deb8>"
         },
         "metadata": {},
         "output_type": "display_data"
        },
        {
         "data": {
          "text/plain": "\"3. Vœux triés par l'algorithme :\""
         },
         "metadata": {},
         "output_type": "display_data"
        },
        {
         "data": {
          "text/html": "<style type=\"text/css\">table.blockgrid {border: none;} .blockgrid tr {border: none;} .blockgrid td {padding: 0px;} #blocks55a6d01e-aa0a-4ec9-b16a-6989fd608c06 td {border: 1px solid white;}</style><table id=\"blocks55a6d01e-aa0a-4ec9-b16a-6989fd608c06\" class=\"blockgrid\"><tbody><tr><td title=\"Index: [0, 0]&#10;Color: (200, 0, 0)\" style=\"width: 20px; height: 20px;background-color: rgb(200, 0, 0);\"></td><td title=\"Index: [0, 1]&#10;Color: (200, 200, 200)\" style=\"width: 20px; height: 20px;background-color: rgb(200, 200, 200);\"></td><td title=\"Index: [0, 2]&#10;Color: (200, 200, 200)\" style=\"width: 20px; height: 20px;background-color: rgb(200, 200, 200);\"></td><td title=\"Index: [0, 3]&#10;Color: (200, 200, 200)\" style=\"width: 20px; height: 20px;background-color: rgb(200, 200, 200);\"></td><td title=\"Index: [0, 4]&#10;Color: (200, 200, 200)\" style=\"width: 20px; height: 20px;background-color: rgb(200, 200, 200);\"></td><td title=\"Index: [0, 5]&#10;Color: (200, 200, 200)\" style=\"width: 20px; height: 20px;background-color: rgb(200, 200, 200);\"></td><td title=\"Index: [0, 6]&#10;Color: (200, 200, 200)\" style=\"width: 20px; height: 20px;background-color: rgb(200, 200, 200);\"></td><td title=\"Index: [0, 7]&#10;Color: (200, 200, 200)\" style=\"width: 20px; height: 20px;background-color: rgb(200, 200, 200);\"></td><td title=\"Index: [0, 8]&#10;Color: (200, 200, 200)\" style=\"width: 20px; height: 20px;background-color: rgb(200, 200, 200);\"></td><td title=\"Index: [0, 9]&#10;Color: (0, 0, 200)\" style=\"width: 20px; height: 20px;background-color: rgb(0, 0, 200);\"></td><td title=\"Index: [0, 10]&#10;Color: (200, 0, 0)\" style=\"width: 20px; height: 20px;background-color: rgb(200, 0, 0);\"></td><td title=\"Index: [0, 11]&#10;Color: (200, 200, 200)\" style=\"width: 20px; height: 20px;background-color: rgb(200, 200, 200);\"></td><td title=\"Index: [0, 12]&#10;Color: (200, 200, 200)\" style=\"width: 20px; height: 20px;background-color: rgb(200, 200, 200);\"></td><td title=\"Index: [0, 13]&#10;Color: (0, 0, 200)\" style=\"width: 20px; height: 20px;background-color: rgb(0, 0, 200);\"></td><td title=\"Index: [0, 14]&#10;Color: (200, 200, 200)\" style=\"width: 20px; height: 20px;background-color: rgb(200, 200, 200);\"></td><td title=\"Index: [0, 15]&#10;Color: (200, 200, 200)\" style=\"width: 20px; height: 20px;background-color: rgb(200, 200, 200);\"></td><td title=\"Index: [0, 16]&#10;Color: (200, 200, 200)\" style=\"width: 20px; height: 20px;background-color: rgb(200, 200, 200);\"></td><td title=\"Index: [0, 17]&#10;Color: (200, 200, 200)\" style=\"width: 20px; height: 20px;background-color: rgb(200, 200, 200);\"></td><td title=\"Index: [0, 18]&#10;Color: (0, 0, 200)\" style=\"width: 20px; height: 20px;background-color: rgb(0, 0, 200);\"></td><td title=\"Index: [0, 19]&#10;Color: (200, 200, 200)\" style=\"width: 20px; height: 20px;background-color: rgb(200, 200, 200);\"></td><td title=\"Index: [0, 20]&#10;Color: (200, 0, 0)\" style=\"width: 20px; height: 20px;background-color: rgb(200, 0, 0);\"></td><td title=\"Index: [0, 21]&#10;Color: (200, 200, 200)\" style=\"width: 20px; height: 20px;background-color: rgb(200, 200, 200);\"></td><td title=\"Index: [0, 22]&#10;Color: (200, 200, 200)\" style=\"width: 20px; height: 20px;background-color: rgb(200, 200, 200);\"></td><td title=\"Index: [0, 23]&#10;Color: (200, 200, 200)\" style=\"width: 20px; height: 20px;background-color: rgb(200, 200, 200);\"></td><td title=\"Index: [0, 24]&#10;Color: (200, 200, 200)\" style=\"width: 20px; height: 20px;background-color: rgb(200, 200, 200);\"></td><td title=\"Index: [0, 25]&#10;Color: (200, 200, 200)\" style=\"width: 20px; height: 20px;background-color: rgb(200, 200, 200);\"></td><td title=\"Index: [0, 26]&#10;Color: (200, 200, 200)\" style=\"width: 20px; height: 20px;background-color: rgb(200, 200, 200);\"></td><td title=\"Index: [0, 27]&#10;Color: (0, 0, 200)\" style=\"width: 20px; height: 20px;background-color: rgb(0, 0, 200);\"></td><td title=\"Index: [0, 28]&#10;Color: (200, 200, 200)\" style=\"width: 20px; height: 20px;background-color: rgb(200, 200, 200);\"></td><td title=\"Index: [0, 29]&#10;Color: (200, 200, 200)\" style=\"width: 20px; height: 20px;background-color: rgb(200, 200, 200);\"></td><td title=\"Index: [0, 30]&#10;Color: (200, 0, 0)\" style=\"width: 20px; height: 20px;background-color: rgb(200, 0, 0);\"></td><td title=\"Index: [0, 31]&#10;Color: (200, 200, 200)\" style=\"width: 20px; height: 20px;background-color: rgb(200, 200, 200);\"></td><td title=\"Index: [0, 32]&#10;Color: (0, 0, 200)\" style=\"width: 20px; height: 20px;background-color: rgb(0, 0, 200);\"></td><td title=\"Index: [0, 33]&#10;Color: (200, 0, 0)\" style=\"width: 20px; height: 20px;background-color: rgb(200, 0, 0);\"></td><td title=\"Index: [0, 34]&#10;Color: (0, 0, 200)\" style=\"width: 20px; height: 20px;background-color: rgb(0, 0, 200);\"></td><td title=\"Index: [0, 35]&#10;Color: (200, 200, 200)\" style=\"width: 20px; height: 20px;background-color: rgb(200, 200, 200);\"></td><td title=\"Index: [0, 36]&#10;Color: (0, 0, 200)\" style=\"width: 20px; height: 20px;background-color: rgb(0, 0, 200);\"></td><td title=\"Index: [0, 37]&#10;Color: (200, 0, 0)\" style=\"width: 20px; height: 20px;background-color: rgb(200, 0, 0);\"></td><td title=\"Index: [0, 38]&#10;Color: (0, 0, 200)\" style=\"width: 20px; height: 20px;background-color: rgb(0, 0, 200);\"></td><td title=\"Index: [0, 39]&#10;Color: (200, 200, 200)\" style=\"width: 20px; height: 20px;background-color: rgb(200, 200, 200);\"></td><td title=\"Index: [0, 40]&#10;Color: (200, 200, 200)\" style=\"width: 20px; height: 20px;background-color: rgb(200, 200, 200);\"></td><td title=\"Index: [0, 41]&#10;Color: (200, 200, 200)\" style=\"width: 20px; height: 20px;background-color: rgb(200, 200, 200);\"></td><td title=\"Index: [0, 42]&#10;Color: (200, 200, 200)\" style=\"width: 20px; height: 20px;background-color: rgb(200, 200, 200);\"></td><td title=\"Index: [0, 43]&#10;Color: (200, 200, 200)\" style=\"width: 20px; height: 20px;background-color: rgb(200, 200, 200);\"></td><td title=\"Index: [0, 44]&#10;Color: (200, 200, 200)\" style=\"width: 20px; height: 20px;background-color: rgb(200, 200, 200);\"></td><td title=\"Index: [0, 45]&#10;Color: (0, 0, 200)\" style=\"width: 20px; height: 20px;background-color: rgb(0, 0, 200);\"></td><td title=\"Index: [0, 46]&#10;Color: (200, 200, 200)\" style=\"width: 20px; height: 20px;background-color: rgb(200, 200, 200);\"></td><td title=\"Index: [0, 47]&#10;Color: (200, 200, 200)\" style=\"width: 20px; height: 20px;background-color: rgb(200, 200, 200);\"></td><td title=\"Index: [0, 48]&#10;Color: (200, 200, 200)\" style=\"width: 20px; height: 20px;background-color: rgb(200, 200, 200);\"></td><td title=\"Index: [0, 49]&#10;Color: (200, 0, 0)\" style=\"width: 20px; height: 20px;background-color: rgb(200, 0, 0);\"></td><td title=\"Index: [0, 50]&#10;Color: (200, 0, 0)\" style=\"width: 20px; height: 20px;background-color: rgb(200, 0, 0);\"></td><td title=\"Index: [0, 51]&#10;Color: (200, 0, 200)\" style=\"width: 20px; height: 20px;background-color: rgb(200, 0, 200);\"></td><td title=\"Index: [0, 52]&#10;Color: (200, 200, 200)\" style=\"width: 20px; height: 20px;background-color: rgb(200, 200, 200);\"></td><td title=\"Index: [0, 53]&#10;Color: (200, 0, 0)\" style=\"width: 20px; height: 20px;background-color: rgb(200, 0, 0);\"></td><td title=\"Index: [0, 54]&#10;Color: (200, 200, 200)\" style=\"width: 20px; height: 20px;background-color: rgb(200, 200, 200);\"></td><td title=\"Index: [0, 55]&#10;Color: (200, 200, 200)\" style=\"width: 20px; height: 20px;background-color: rgb(200, 200, 200);\"></td><td title=\"Index: [0, 56]&#10;Color: (200, 200, 200)\" style=\"width: 20px; height: 20px;background-color: rgb(200, 200, 200);\"></td><td title=\"Index: [0, 57]&#10;Color: (0, 0, 200)\" style=\"width: 20px; height: 20px;background-color: rgb(0, 0, 200);\"></td><td title=\"Index: [0, 58]&#10;Color: (200, 0, 200)\" style=\"width: 20px; height: 20px;background-color: rgb(200, 0, 200);\"></td><td title=\"Index: [0, 59]&#10;Color: (200, 200, 200)\" style=\"width: 20px; height: 20px;background-color: rgb(200, 200, 200);\"></td><td title=\"Index: [0, 60]&#10;Color: (200, 200, 200)\" style=\"width: 20px; height: 20px;background-color: rgb(200, 200, 200);\"></td><td title=\"Index: [0, 61]&#10;Color: (200, 200, 200)\" style=\"width: 20px; height: 20px;background-color: rgb(200, 200, 200);\"></td><td title=\"Index: [0, 62]&#10;Color: (200, 0, 0)\" style=\"width: 20px; height: 20px;background-color: rgb(200, 0, 0);\"></td><td title=\"Index: [0, 63]&#10;Color: (200, 200, 200)\" style=\"width: 20px; height: 20px;background-color: rgb(200, 200, 200);\"></td><td title=\"Index: [0, 64]&#10;Color: (0, 0, 200)\" style=\"width: 20px; height: 20px;background-color: rgb(0, 0, 200);\"></td><td title=\"Index: [0, 65]&#10;Color: (200, 0, 0)\" style=\"width: 20px; height: 20px;background-color: rgb(200, 0, 0);\"></td><td title=\"Index: [0, 66]&#10;Color: (200, 200, 200)\" style=\"width: 20px; height: 20px;background-color: rgb(200, 200, 200);\"></td><td title=\"Index: [0, 67]&#10;Color: (0, 0, 200)\" style=\"width: 20px; height: 20px;background-color: rgb(0, 0, 200);\"></td><td title=\"Index: [0, 68]&#10;Color: (200, 0, 0)\" style=\"width: 20px; height: 20px;background-color: rgb(200, 0, 0);\"></td><td title=\"Index: [0, 69]&#10;Color: (200, 200, 200)\" style=\"width: 20px; height: 20px;background-color: rgb(200, 200, 200);\"></td></tr></tbody></table>",
          "text/plain": "<ipythonblocks.ipythonblocks.BlockGrid at 0x7f694004deb8>"
         },
         "metadata": {},
         "output_type": "display_data"
        }
       ]
      }
     },
     "75e0633156534d6f82c74a8f6492eb1f": {
      "model_module": "@jupyter-widgets/base",
      "model_module_version": "1.0.0",
      "model_name": "LayoutModel",
      "state": {}
     },
     "760be3fedc574dc687b894bbee9b50da": {
      "model_module": "@jupyter-widgets/base",
      "model_module_version": "1.0.0",
      "model_name": "LayoutModel",
      "state": {}
     },
     "76e02660d23449e1ad2645de6bbde024": {
      "model_module": "@jupyter-widgets/base",
      "model_module_version": "1.0.0",
      "model_name": "LayoutModel",
      "state": {}
     },
     "76f9f8422e2249b5a95a1c89d0e45238": {
      "model_module": "@jupyter-widgets/controls",
      "model_module_version": "1.2.0",
      "model_name": "IntSliderModel",
      "state": {
       "description": "tauxMinResidentsPourcents",
       "layout": "IPY_MODEL_f776e3e577174d96a1e743f433995932",
       "style": "IPY_MODEL_63173b072ba84c9b9b4c3924e755b88a"
      }
     },
     "77534b9e61274938a42d3915d7122112": {
      "model_module": "@jupyter-widgets/base",
      "model_module_version": "1.0.0",
      "model_name": "LayoutModel",
      "state": {}
     },
     "7815f7754d2d4945932e6dfdc0d84c03": {
      "model_module": "@jupyter-widgets/output",
      "model_module_version": "1.0.0",
      "model_name": "OutputModel",
      "state": {
       "layout": "IPY_MODEL_b3f2c38bdd6d49a9af01d4f39575d857",
       "outputs": [
        {
         "name": "stdout",
         "output_type": "stream",
         "text": "Visualisation de l'algorithme de calcul de l'ordre d'appel.\n1. Vœux non triés par rang :\n"
        },
        {
         "data": {
          "text/html": "<style type=\"text/css\">table.blockgrid {border: none;} .blockgrid tr {border: none;} .blockgrid td {padding: 0px;} #blocksa0b8cdbd-f528-41b7-bd17-9a53145225c9 td {border: 1px solid white;}</style><table id=\"blocksa0b8cdbd-f528-41b7-bd17-9a53145225c9\" class=\"blockgrid\"><tbody><tr><td title=\"Index: [0, 0]&#10;Color: (200, 200, 200)\" style=\"width: 20px; height: 20px;background-color: rgb(200, 200, 200);\"></td><td title=\"Index: [0, 1]&#10;Color: (200, 200, 200)\" style=\"width: 20px; height: 20px;background-color: rgb(200, 200, 200);\"></td><td title=\"Index: [0, 2]&#10;Color: (200, 0, 200)\" style=\"width: 20px; height: 20px;background-color: rgb(200, 0, 200);\"></td><td title=\"Index: [0, 3]&#10;Color: (200, 200, 200)\" style=\"width: 20px; height: 20px;background-color: rgb(200, 200, 200);\"></td><td title=\"Index: [0, 4]&#10;Color: (240, 240, 240)\" style=\"width: 20px; height: 20px;background-color: rgb(240, 240, 240);\"></td></tr></tbody></table>",
          "text/plain": "<ipythonblocks.ipythonblocks.BlockGrid at 0x7fa2b4549908>"
         },
         "metadata": {},
         "output_type": "display_data"
        },
        {
         "name": "stdout",
         "output_type": "stream",
         "text": "2. Vœux triés par rang, mais pas par l'algorithme :\n"
        },
        {
         "data": {
          "text/html": "<style type=\"text/css\">table.blockgrid {border: none;} .blockgrid tr {border: none;} .blockgrid td {padding: 0px;} #blocks5efa11d7-14d5-4476-a277-32249f570dc8 td {border: 1px solid white;}</style><table id=\"blocks5efa11d7-14d5-4476-a277-32249f570dc8\" class=\"blockgrid\"><tbody><tr><td title=\"Index: [0, 0]&#10;Color: (200, 200, 200)\" style=\"width: 20px; height: 20px;background-color: rgb(200, 200, 200);\"></td><td title=\"Index: [0, 1]&#10;Color: (200, 0, 200)\" style=\"width: 20px; height: 20px;background-color: rgb(200, 0, 200);\"></td><td title=\"Index: [0, 2]&#10;Color: (200, 200, 200)\" style=\"width: 20px; height: 20px;background-color: rgb(200, 200, 200);\"></td><td title=\"Index: [0, 3]&#10;Color: (200, 200, 200)\" style=\"width: 20px; height: 20px;background-color: rgb(200, 200, 200);\"></td><td title=\"Index: [0, 4]&#10;Color: (240, 240, 240)\" style=\"width: 20px; height: 20px;background-color: rgb(240, 240, 240);\"></td></tr></tbody></table>",
          "text/plain": "<ipythonblocks.ipythonblocks.BlockGrid at 0x7fa2b4550978>"
         },
         "metadata": {},
         "output_type": "display_data"
        },
        {
         "name": "stdout",
         "output_type": "stream",
         "text": "3. Vœux triés par l'algorithme :\n"
        },
        {
         "data": {
          "text/html": "<style type=\"text/css\">table.blockgrid {border: none;} .blockgrid tr {border: none;} .blockgrid td {padding: 0px;} #blocksf0de49b5-4bb4-46fb-b551-7c4636840c1f td {border: 1px solid white;}</style><table id=\"blocksf0de49b5-4bb4-46fb-b551-7c4636840c1f\" class=\"blockgrid\"><tbody><tr><td title=\"Index: [0, 0]&#10;Color: (200, 0, 200)\" style=\"width: 20px; height: 20px;background-color: rgb(200, 0, 200);\"></td><td title=\"Index: [0, 1]&#10;Color: (240, 240, 240)\" style=\"width: 20px; height: 20px;background-color: rgb(240, 240, 240);\"></td><td title=\"Index: [0, 2]&#10;Color: (200, 200, 200)\" style=\"width: 20px; height: 20px;background-color: rgb(200, 200, 200);\"></td><td title=\"Index: [0, 3]&#10;Color: (200, 200, 200)\" style=\"width: 20px; height: 20px;background-color: rgb(200, 200, 200);\"></td><td title=\"Index: [0, 4]&#10;Color: (200, 200, 200)\" style=\"width: 20px; height: 20px;background-color: rgb(200, 200, 200);\"></td></tr></tbody></table>",
          "text/plain": "<ipythonblocks.ipythonblocks.BlockGrid at 0x7fa2b4549908>"
         },
         "metadata": {},
         "output_type": "display_data"
        }
       ]
      }
     },
     "7817641761754102b71bb1c153ef2b62": {
      "model_module": "@jupyter-widgets/base",
      "model_module_version": "1.0.0",
      "model_name": "LayoutModel",
      "state": {}
     },
     "79407eb85d6849bb895ea56c5aba0df1": {
      "model_module": "@jupyter-widgets/base",
      "model_module_version": "1.0.0",
      "model_name": "LayoutModel",
      "state": {}
     },
     "795c08481dd74a40a5bbc0f62d0c3a3e": {
      "model_module": "@jupyter-widgets/base",
      "model_module_version": "1.0.0",
      "model_name": "LayoutModel",
      "state": {}
     },
     "797a17dc930b4e44ad9253dda894bb62": {
      "model_module": "@jupyter-widgets/base",
      "model_module_version": "1.0.0",
      "model_name": "LayoutModel",
      "state": {}
     },
     "7a12f6ba77dd48b797a84381ef440dbf": {
      "model_module": "@jupyter-widgets/controls",
      "model_module_version": "1.2.0",
      "model_name": "IntSliderModel",
      "state": {
       "description": "tauxMinBoursiersPourcents",
       "layout": "IPY_MODEL_9ddcc0e4c3e44a1ebed0ca9cb0f9d1e0",
       "style": "IPY_MODEL_190de3e3985543e18af9313fe1a38224",
       "value": 10
      }
     },
     "7a43d7f0e1cd4befb3f5e38572342caa": {
      "model_module": "@jupyter-widgets/base",
      "model_module_version": "1.0.0",
      "model_name": "LayoutModel",
      "state": {}
     },
     "7a6161b7af3145f2b513d697119839f9": {
      "model_module": "@jupyter-widgets/controls",
      "model_module_version": "1.2.0",
      "model_name": "CheckboxModel",
      "state": {
       "description": "focusEstResident",
       "disabled": false,
       "layout": "IPY_MODEL_b5ebfc46260f4c3faf1b1b762a4dbbe5",
       "style": "IPY_MODEL_66953f88693440cc8bf7f52317226920",
       "value": false
      }
     },
     "7b29a312bd2941b5869de026c8cd6ac3": {
      "model_module": "@jupyter-widgets/controls",
      "model_module_version": "1.2.0",
      "model_name": "IntSliderModel",
      "state": {
       "description": "tauxResidents",
       "layout": "IPY_MODEL_548f982c7c6b4f1e865e82d7443f0ead",
       "style": "IPY_MODEL_b3c10f454bcd4606b8a20f3e740dea1a",
       "value": 20
      }
     },
     "7b41c2db39484cb0acee068f5aa05de5": {
      "model_module": "@jupyter-widgets/controls",
      "model_module_version": "1.2.0",
      "model_name": "DescriptionStyleModel",
      "state": {
       "description_width": ""
      }
     },
     "7b9fd29289bd49baa8e01fe3fd2bf7e9": {
      "model_module": "@jupyter-widgets/controls",
      "model_module_version": "1.2.0",
      "model_name": "VBoxModel",
      "state": {
       "_dom_classes": [
        "widget-interact"
       ],
       "children": [
        "IPY_MODEL_917c2aef38304ff3b3e492788802b902",
        "IPY_MODEL_dce686887c2c4602a8046c542e27cbc3",
        "IPY_MODEL_c7904aaa458043e48edae2b5f097cf0d",
        "IPY_MODEL_664b5fcec2f642d09aeae63b88b2c3dc",
        "IPY_MODEL_554dc4a496824b2bbd677f4ccda13085",
        "IPY_MODEL_3320664b93194c94af9b137273ec6df7",
        "IPY_MODEL_b55ee030e9464249927fbf7e579460aa"
       ],
       "layout": "IPY_MODEL_8a8d2899da88405aadb147fdecba8f47"
      }
     },
     "7bf52fc701ba4c30ba1928289f3714ce": {
      "model_module": "@jupyter-widgets/base",
      "model_module_version": "1.0.0",
      "model_name": "LayoutModel",
      "state": {}
     },
     "7c42afc72b7641a1a266ddd23a745601": {
      "model_module": "@jupyter-widgets/controls",
      "model_module_version": "1.2.0",
      "model_name": "SliderStyleModel",
      "state": {
       "description_width": ""
      }
     },
     "7c8635b248f64648a98e23595f37a486": {
      "model_module": "@jupyter-widgets/output",
      "model_module_version": "1.0.0",
      "model_name": "OutputModel",
      "state": {
       "layout": "IPY_MODEL_5925e4c7d04b4c23babef6b4bc122e84",
       "outputs": [
        {
         "data": {
          "text/plain": "[6, 1, 2, 3, 4, 7, 5, 8]"
         },
         "metadata": {},
         "output_type": "display_data"
        }
       ]
      }
     },
     "7c9574f26065420a8c2c0479f3e13651": {
      "model_module": "@jupyter-widgets/output",
      "model_module_version": "1.0.0",
      "model_name": "OutputModel",
      "state": {
       "layout": "IPY_MODEL_599f92a4a2524e0fbf4e241ea7b65513",
       "outputs": [
        {
         "data": {
          "text/plain": "[6, 1, 2, 3, 4, 5, 7, 8]"
         },
         "metadata": {},
         "output_type": "display_data"
        }
       ]
      }
     },
     "7d1acdbc694d47278e5c3e93634f1e59": {
      "model_module": "@jupyter-widgets/controls",
      "model_module_version": "1.2.0",
      "model_name": "CheckboxModel",
      "state": {
       "description": "focusEstResident",
       "disabled": false,
       "layout": "IPY_MODEL_4302a8819a3b46fab58197a9072f24da",
       "style": "IPY_MODEL_019d998305c54fc4ad3453b9512db84d",
       "value": false
      }
     },
     "7d685bb3573a45e1bcf0130665be6486": {
      "model_module": "@jupyter-widgets/controls",
      "model_module_version": "1.2.0",
      "model_name": "SliderStyleModel",
      "state": {
       "description_width": ""
      }
     },
     "7e5f2ac53f164e42a7f3e94b351d3bed": {
      "model_module": "@jupyter-widgets/controls",
      "model_module_version": "1.2.0",
      "model_name": "SliderStyleModel",
      "state": {
       "description_width": ""
      }
     },
     "7eb899cc1e1f4dc2bf0a0f31a26e5fa6": {
      "model_module": "@jupyter-widgets/base",
      "model_module_version": "1.0.0",
      "model_name": "LayoutModel",
      "state": {}
     },
     "7f7394cc1b6f4c6bb400a49ab7eb78c7": {
      "model_module": "@jupyter-widgets/controls",
      "model_module_version": "1.2.0",
      "model_name": "SliderStyleModel",
      "state": {
       "description_width": ""
      }
     },
     "8043f19a56d349b88259e336158e2058": {
      "model_module": "@jupyter-widgets/controls",
      "model_module_version": "1.2.0",
      "model_name": "IntSliderModel",
      "state": {
       "description": "rangDuFocus",
       "layout": "IPY_MODEL_7264a9d94b904699b456ad97334a540e",
       "max": 200,
       "min": 1,
       "style": "IPY_MODEL_2415ccaeeb794ba9a2e2a75894ec6c1b",
       "value": 1
      }
     },
     "80bc1493a46c480eab5b3068f7115a4c": {
      "model_module": "@jupyter-widgets/controls",
      "model_module_version": "1.2.0",
      "model_name": "IntSliderModel",
      "state": {
       "description": "tauxMinResidentsPourcents",
       "layout": "IPY_MODEL_9ff7df9dfd9d4a48b9366fc1790e9abf",
       "style": "IPY_MODEL_aa917a0cd1e54ccda123f9151db2ca52"
      }
     },
     "80c34f25982c458aa7a32008f5bcaffb": {
      "model_module": "@jupyter-widgets/controls",
      "model_module_version": "1.2.0",
      "model_name": "IntSliderModel",
      "state": {
       "description": "random_seed",
       "layout": "IPY_MODEL_9da3b13d5ac948248373a087e51458d9",
       "max": 1000,
       "style": "IPY_MODEL_7473fb3ea03c4a2282575f343adce814"
      }
     },
     "80e6b1e1b626415586518b749e9e0663": {
      "model_module": "@jupyter-widgets/base",
      "model_module_version": "1.0.0",
      "model_name": "LayoutModel",
      "state": {}
     },
     "810f01e2c6044584be14da047bbed311": {
      "model_module": "@jupyter-widgets/controls",
      "model_module_version": "1.2.0",
      "model_name": "SliderStyleModel",
      "state": {
       "description_width": ""
      }
     },
     "813071f2a115447aa03a58f81a26ecca": {
      "model_module": "@jupyter-widgets/base",
      "model_module_version": "1.0.0",
      "model_name": "LayoutModel",
      "state": {}
     },
     "81fcb0539a1c4a82a7baebe1b39de27e": {
      "model_module": "@jupyter-widgets/controls",
      "model_module_version": "1.2.0",
      "model_name": "IntSliderModel",
      "state": {
       "description": "random_seed",
       "layout": "IPY_MODEL_54de0e41b13640549e203d127279a651",
       "max": 1000,
       "style": "IPY_MODEL_1f7417e26df44d9f9f1fbea979dbfcd5"
      }
     },
     "8283da01873c43178e0f473bbc3fedff": {
      "model_module": "@jupyter-widgets/controls",
      "model_module_version": "1.2.0",
      "model_name": "SliderStyleModel",
      "state": {
       "description_width": ""
      }
     },
     "829ca093c4d340118bbc13f21e6651f8": {
      "model_module": "@jupyter-widgets/controls",
      "model_module_version": "1.2.0",
      "model_name": "SliderStyleModel",
      "state": {
       "description_width": ""
      }
     },
     "82a7cb5aa412420fb52474d4f8e4a9c5": {
      "model_module": "@jupyter-widgets/base",
      "model_module_version": "1.0.0",
      "model_name": "LayoutModel",
      "state": {}
     },
     "83157cabea3e44ca9101bb03259ebe48": {
      "model_module": "@jupyter-widgets/output",
      "model_module_version": "1.0.0",
      "model_name": "OutputModel",
      "state": {
       "layout": "IPY_MODEL_56041c7b9127406eb9317d39c6dcfdc5",
       "outputs": [
        {
         "name": "stdout",
         "output_type": "stream",
         "text": "Visualisation de l'algorithme de calcul de l'ordre d'appel.\n1. Vœux non triés par rang :\n"
        },
        {
         "data": {
          "text/html": "<style type=\"text/css\">table.blockgrid {border: none;} .blockgrid tr {border: none;} .blockgrid td {padding: 0px;} #blocks89f5add2-5005-4ae1-a95f-4a590d475348 td {border: 1px solid white;}</style><table id=\"blocks89f5add2-5005-4ae1-a95f-4a590d475348\" class=\"blockgrid\"><tbody><tr><td title=\"Index: [0, 0]&#10;Color: (200, 200, 200)\" style=\"width: 20px; height: 20px;background-color: rgb(200, 200, 200);\"></td><td title=\"Index: [0, 1]&#10;Color: (200, 200, 200)\" style=\"width: 20px; height: 20px;background-color: rgb(200, 200, 200);\"></td><td title=\"Index: [0, 2]&#10;Color: (200, 200, 200)\" style=\"width: 20px; height: 20px;background-color: rgb(200, 200, 200);\"></td><td title=\"Index: [0, 3]&#10;Color: (200, 200, 200)\" style=\"width: 20px; height: 20px;background-color: rgb(200, 200, 200);\"></td><td title=\"Index: [0, 4]&#10;Color: (200, 0, 0)\" style=\"width: 20px; height: 20px;background-color: rgb(200, 0, 0);\"></td><td title=\"Index: [0, 5]&#10;Color: (200, 200, 200)\" style=\"width: 20px; height: 20px;background-color: rgb(200, 200, 200);\"></td><td title=\"Index: [0, 6]&#10;Color: (200, 200, 200)\" style=\"width: 20px; height: 20px;background-color: rgb(200, 200, 200);\"></td><td title=\"Index: [0, 7]&#10;Color: (0, 0, 200)\" style=\"width: 20px; height: 20px;background-color: rgb(0, 0, 200);\"></td><td title=\"Index: [0, 8]&#10;Color: (200, 200, 200)\" style=\"width: 20px; height: 20px;background-color: rgb(200, 200, 200);\"></td><td title=\"Index: [0, 9]&#10;Color: (0, 0, 200)\" style=\"width: 20px; height: 20px;background-color: rgb(0, 0, 200);\"></td><td title=\"Index: [0, 10]&#10;Color: (200, 200, 200)\" style=\"width: 20px; height: 20px;background-color: rgb(200, 200, 200);\"></td><td title=\"Index: [0, 11]&#10;Color: (200, 200, 200)\" style=\"width: 20px; height: 20px;background-color: rgb(200, 200, 200);\"></td><td title=\"Index: [0, 12]&#10;Color: (200, 0, 0)\" style=\"width: 20px; height: 20px;background-color: rgb(200, 0, 0);\"></td><td title=\"Index: [0, 13]&#10;Color: (200, 0, 0)\" style=\"width: 20px; height: 20px;background-color: rgb(200, 0, 0);\"></td><td title=\"Index: [0, 14]&#10;Color: (200, 200, 200)\" style=\"width: 20px; height: 20px;background-color: rgb(200, 200, 200);\"></td><td title=\"Index: [0, 15]&#10;Color: (0, 0, 200)\" style=\"width: 20px; height: 20px;background-color: rgb(0, 0, 200);\"></td><td title=\"Index: [0, 16]&#10;Color: (200, 0, 0)\" style=\"width: 20px; height: 20px;background-color: rgb(200, 0, 0);\"></td><td title=\"Index: [0, 17]&#10;Color: (200, 200, 200)\" style=\"width: 20px; height: 20px;background-color: rgb(200, 200, 200);\"></td><td title=\"Index: [0, 18]&#10;Color: (200, 0, 0)\" style=\"width: 20px; height: 20px;background-color: rgb(200, 0, 0);\"></td><td title=\"Index: [0, 19]&#10;Color: (200, 200, 200)\" style=\"width: 20px; height: 20px;background-color: rgb(200, 200, 200);\"></td><td title=\"Index: [0, 20]&#10;Color: (200, 200, 200)\" style=\"width: 20px; height: 20px;background-color: rgb(200, 200, 200);\"></td><td title=\"Index: [0, 21]&#10;Color: (200, 200, 200)\" style=\"width: 20px; height: 20px;background-color: rgb(200, 200, 200);\"></td><td title=\"Index: [0, 22]&#10;Color: (200, 200, 200)\" style=\"width: 20px; height: 20px;background-color: rgb(200, 200, 200);\"></td><td title=\"Index: [0, 23]&#10;Color: (0, 0, 200)\" style=\"width: 20px; height: 20px;background-color: rgb(0, 0, 200);\"></td><td title=\"Index: [0, 24]&#10;Color: (0, 0, 200)\" style=\"width: 20px; height: 20px;background-color: rgb(0, 0, 200);\"></td><td title=\"Index: [0, 25]&#10;Color: (200, 0, 200)\" style=\"width: 20px; height: 20px;background-color: rgb(200, 0, 200);\"></td><td title=\"Index: [0, 26]&#10;Color: (200, 0, 0)\" style=\"width: 20px; height: 20px;background-color: rgb(200, 0, 0);\"></td><td title=\"Index: [0, 27]&#10;Color: (200, 200, 200)\" style=\"width: 20px; height: 20px;background-color: rgb(200, 200, 200);\"></td><td title=\"Index: [0, 28]&#10;Color: (200, 200, 200)\" style=\"width: 20px; height: 20px;background-color: rgb(200, 200, 200);\"></td><td title=\"Index: [0, 29]&#10;Color: (200, 200, 200)\" style=\"width: 20px; height: 20px;background-color: rgb(200, 200, 200);\"></td><td title=\"Index: [0, 30]&#10;Color: (200, 200, 200)\" style=\"width: 20px; height: 20px;background-color: rgb(200, 200, 200);\"></td><td title=\"Index: [0, 31]&#10;Color: (200, 200, 200)\" style=\"width: 20px; height: 20px;background-color: rgb(200, 200, 200);\"></td><td title=\"Index: [0, 32]&#10;Color: (0, 0, 200)\" style=\"width: 20px; height: 20px;background-color: rgb(0, 0, 200);\"></td><td title=\"Index: [0, 33]&#10;Color: (0, 0, 200)\" style=\"width: 20px; height: 20px;background-color: rgb(0, 0, 200);\"></td><td title=\"Index: [0, 34]&#10;Color: (200, 200, 200)\" style=\"width: 20px; height: 20px;background-color: rgb(200, 200, 200);\"></td><td title=\"Index: [0, 35]&#10;Color: (0, 0, 200)\" style=\"width: 20px; height: 20px;background-color: rgb(0, 0, 200);\"></td><td title=\"Index: [0, 36]&#10;Color: (200, 200, 200)\" style=\"width: 20px; height: 20px;background-color: rgb(200, 200, 200);\"></td><td title=\"Index: [0, 37]&#10;Color: (200, 200, 200)\" style=\"width: 20px; height: 20px;background-color: rgb(200, 200, 200);\"></td><td title=\"Index: [0, 38]&#10;Color: (200, 200, 200)\" style=\"width: 20px; height: 20px;background-color: rgb(200, 200, 200);\"></td><td title=\"Index: [0, 39]&#10;Color: (200, 200, 200)\" style=\"width: 20px; height: 20px;background-color: rgb(200, 200, 200);\"></td><td title=\"Index: [0, 40]&#10;Color: (200, 200, 200)\" style=\"width: 20px; height: 20px;background-color: rgb(200, 200, 200);\"></td><td title=\"Index: [0, 41]&#10;Color: (200, 0, 0)\" style=\"width: 20px; height: 20px;background-color: rgb(200, 0, 0);\"></td><td title=\"Index: [0, 42]&#10;Color: (200, 0, 0)\" style=\"width: 20px; height: 20px;background-color: rgb(200, 0, 0);\"></td><td title=\"Index: [0, 43]&#10;Color: (200, 200, 200)\" style=\"width: 20px; height: 20px;background-color: rgb(200, 200, 200);\"></td><td title=\"Index: [0, 44]&#10;Color: (200, 200, 200)\" style=\"width: 20px; height: 20px;background-color: rgb(200, 200, 200);\"></td><td title=\"Index: [0, 45]&#10;Color: (200, 200, 200)\" style=\"width: 20px; height: 20px;background-color: rgb(200, 200, 200);\"></td><td title=\"Index: [0, 46]&#10;Color: (200, 200, 200)\" style=\"width: 20px; height: 20px;background-color: rgb(200, 200, 200);\"></td><td title=\"Index: [0, 47]&#10;Color: (200, 200, 200)\" style=\"width: 20px; height: 20px;background-color: rgb(200, 200, 200);\"></td><td title=\"Index: [0, 48]&#10;Color: (200, 0, 0)\" style=\"width: 20px; height: 20px;background-color: rgb(200, 0, 0);\"></td><td title=\"Index: [0, 49]&#10;Color: (200, 200, 200)\" style=\"width: 20px; height: 20px;background-color: rgb(200, 200, 200);\"></td><td title=\"Index: [0, 50]&#10;Color: (200, 200, 200)\" style=\"width: 20px; height: 20px;background-color: rgb(200, 200, 200);\"></td><td title=\"Index: [0, 51]&#10;Color: (255, 0, 255)\" style=\"width: 20px; height: 20px;background-color: rgb(255, 0, 255);\"></td><td title=\"Index: [0, 52]&#10;Color: (200, 200, 200)\" style=\"width: 20px; height: 20px;background-color: rgb(200, 200, 200);\"></td><td title=\"Index: [0, 53]&#10;Color: (200, 0, 0)\" style=\"width: 20px; height: 20px;background-color: rgb(200, 0, 0);\"></td><td title=\"Index: [0, 54]&#10;Color: (200, 200, 200)\" style=\"width: 20px; height: 20px;background-color: rgb(200, 200, 200);\"></td><td title=\"Index: [0, 55]&#10;Color: (200, 0, 0)\" style=\"width: 20px; height: 20px;background-color: rgb(200, 0, 0);\"></td><td title=\"Index: [0, 56]&#10;Color: (200, 200, 200)\" style=\"width: 20px; height: 20px;background-color: rgb(200, 200, 200);\"></td><td title=\"Index: [0, 57]&#10;Color: (200, 200, 200)\" style=\"width: 20px; height: 20px;background-color: rgb(200, 200, 200);\"></td><td title=\"Index: [0, 58]&#10;Color: (200, 0, 200)\" style=\"width: 20px; height: 20px;background-color: rgb(200, 0, 200);\"></td><td title=\"Index: [0, 59]&#10;Color: (200, 200, 200)\" style=\"width: 20px; height: 20px;background-color: rgb(200, 200, 200);\"></td><td title=\"Index: [0, 60]&#10;Color: (200, 200, 200)\" style=\"width: 20px; height: 20px;background-color: rgb(200, 200, 200);\"></td><td title=\"Index: [0, 61]&#10;Color: (200, 200, 200)\" style=\"width: 20px; height: 20px;background-color: rgb(200, 200, 200);\"></td><td title=\"Index: [0, 62]&#10;Color: (0, 0, 200)\" style=\"width: 20px; height: 20px;background-color: rgb(0, 0, 200);\"></td><td title=\"Index: [0, 63]&#10;Color: (0, 0, 200)\" style=\"width: 20px; height: 20px;background-color: rgb(0, 0, 200);\"></td><td title=\"Index: [0, 64]&#10;Color: (200, 0, 0)\" style=\"width: 20px; height: 20px;background-color: rgb(200, 0, 0);\"></td><td title=\"Index: [0, 65]&#10;Color: (200, 200, 200)\" style=\"width: 20px; height: 20px;background-color: rgb(200, 200, 200);\"></td><td title=\"Index: [0, 66]&#10;Color: (200, 200, 200)\" style=\"width: 20px; height: 20px;background-color: rgb(200, 200, 200);\"></td><td title=\"Index: [0, 67]&#10;Color: (0, 0, 200)\" style=\"width: 20px; height: 20px;background-color: rgb(0, 0, 200);\"></td><td title=\"Index: [0, 68]&#10;Color: (0, 0, 200)\" style=\"width: 20px; height: 20px;background-color: rgb(0, 0, 200);\"></td><td title=\"Index: [0, 69]&#10;Color: (200, 200, 200)\" style=\"width: 20px; height: 20px;background-color: rgb(200, 200, 200);\"></td></tr></tbody></table>",
          "text/plain": "<ipythonblocks.ipythonblocks.BlockGrid at 0x7fa2b4596a90>"
         },
         "metadata": {},
         "output_type": "display_data"
        },
        {
         "name": "stdout",
         "output_type": "stream",
         "text": "2. Vœux triés par rang, mais pas par l'algorithme :\n"
        },
        {
         "data": {
          "text/html": "<style type=\"text/css\">table.blockgrid {border: none;} .blockgrid tr {border: none;} .blockgrid td {padding: 0px;} #blocksf7a16242-e4aa-4f17-9cff-a0a94b690bae td {border: 1px solid white;}</style><table id=\"blocksf7a16242-e4aa-4f17-9cff-a0a94b690bae\" class=\"blockgrid\"><tbody><tr><td title=\"Index: [0, 0]&#10;Color: (200, 200, 200)\" style=\"width: 20px; height: 20px;background-color: rgb(200, 200, 200);\"></td><td title=\"Index: [0, 1]&#10;Color: (200, 0, 0)\" style=\"width: 20px; height: 20px;background-color: rgb(200, 0, 0);\"></td><td title=\"Index: [0, 2]&#10;Color: (0, 0, 200)\" style=\"width: 20px; height: 20px;background-color: rgb(0, 0, 200);\"></td><td title=\"Index: [0, 3]&#10;Color: (200, 200, 200)\" style=\"width: 20px; height: 20px;background-color: rgb(200, 200, 200);\"></td><td title=\"Index: [0, 4]&#10;Color: (200, 0, 0)\" style=\"width: 20px; height: 20px;background-color: rgb(200, 0, 0);\"></td><td title=\"Index: [0, 5]&#10;Color: (0, 0, 200)\" style=\"width: 20px; height: 20px;background-color: rgb(0, 0, 200);\"></td><td title=\"Index: [0, 6]&#10;Color: (200, 200, 200)\" style=\"width: 20px; height: 20px;background-color: rgb(200, 200, 200);\"></td><td title=\"Index: [0, 7]&#10;Color: (200, 0, 0)\" style=\"width: 20px; height: 20px;background-color: rgb(200, 0, 0);\"></td><td title=\"Index: [0, 8]&#10;Color: (200, 200, 200)\" style=\"width: 20px; height: 20px;background-color: rgb(200, 200, 200);\"></td><td title=\"Index: [0, 9]&#10;Color: (200, 200, 200)\" style=\"width: 20px; height: 20px;background-color: rgb(200, 200, 200);\"></td><td title=\"Index: [0, 10]&#10;Color: (200, 200, 200)\" style=\"width: 20px; height: 20px;background-color: rgb(200, 200, 200);\"></td><td title=\"Index: [0, 11]&#10;Color: (200, 0, 200)\" style=\"width: 20px; height: 20px;background-color: rgb(200, 0, 200);\"></td><td title=\"Index: [0, 12]&#10;Color: (0, 0, 200)\" style=\"width: 20px; height: 20px;background-color: rgb(0, 0, 200);\"></td><td title=\"Index: [0, 13]&#10;Color: (200, 200, 200)\" style=\"width: 20px; height: 20px;background-color: rgb(200, 200, 200);\"></td><td title=\"Index: [0, 14]&#10;Color: (200, 200, 200)\" style=\"width: 20px; height: 20px;background-color: rgb(200, 200, 200);\"></td><td title=\"Index: [0, 15]&#10;Color: (200, 200, 200)\" style=\"width: 20px; height: 20px;background-color: rgb(200, 200, 200);\"></td><td title=\"Index: [0, 16]&#10;Color: (200, 0, 0)\" style=\"width: 20px; height: 20px;background-color: rgb(200, 0, 0);\"></td><td title=\"Index: [0, 17]&#10;Color: (200, 200, 200)\" style=\"width: 20px; height: 20px;background-color: rgb(200, 200, 200);\"></td><td title=\"Index: [0, 18]&#10;Color: (200, 0, 200)\" style=\"width: 20px; height: 20px;background-color: rgb(200, 0, 200);\"></td><td title=\"Index: [0, 19]&#10;Color: (200, 0, 0)\" style=\"width: 20px; height: 20px;background-color: rgb(200, 0, 0);\"></td><td title=\"Index: [0, 20]&#10;Color: (200, 0, 0)\" style=\"width: 20px; height: 20px;background-color: rgb(200, 0, 0);\"></td><td title=\"Index: [0, 21]&#10;Color: (200, 200, 200)\" style=\"width: 20px; height: 20px;background-color: rgb(200, 200, 200);\"></td><td title=\"Index: [0, 22]&#10;Color: (200, 200, 200)\" style=\"width: 20px; height: 20px;background-color: rgb(200, 200, 200);\"></td><td title=\"Index: [0, 23]&#10;Color: (200, 200, 200)\" style=\"width: 20px; height: 20px;background-color: rgb(200, 200, 200);\"></td><td title=\"Index: [0, 24]&#10;Color: (0, 0, 200)\" style=\"width: 20px; height: 20px;background-color: rgb(0, 0, 200);\"></td><td title=\"Index: [0, 25]&#10;Color: (200, 200, 200)\" style=\"width: 20px; height: 20px;background-color: rgb(200, 200, 200);\"></td><td title=\"Index: [0, 26]&#10;Color: (200, 200, 200)\" style=\"width: 20px; height: 20px;background-color: rgb(200, 200, 200);\"></td><td title=\"Index: [0, 27]&#10;Color: (200, 200, 200)\" style=\"width: 20px; height: 20px;background-color: rgb(200, 200, 200);\"></td><td title=\"Index: [0, 28]&#10;Color: (200, 200, 200)\" style=\"width: 20px; height: 20px;background-color: rgb(200, 200, 200);\"></td><td title=\"Index: [0, 29]&#10;Color: (200, 200, 200)\" style=\"width: 20px; height: 20px;background-color: rgb(200, 200, 200);\"></td><td title=\"Index: [0, 30]&#10;Color: (200, 200, 200)\" style=\"width: 20px; height: 20px;background-color: rgb(200, 200, 200);\"></td><td title=\"Index: [0, 31]&#10;Color: (0, 0, 200)\" style=\"width: 20px; height: 20px;background-color: rgb(0, 0, 200);\"></td><td title=\"Index: [0, 32]&#10;Color: (200, 0, 0)\" style=\"width: 20px; height: 20px;background-color: rgb(200, 0, 0);\"></td><td title=\"Index: [0, 33]&#10;Color: (0, 0, 200)\" style=\"width: 20px; height: 20px;background-color: rgb(0, 0, 200);\"></td><td title=\"Index: [0, 34]&#10;Color: (200, 200, 200)\" style=\"width: 20px; height: 20px;background-color: rgb(200, 200, 200);\"></td><td title=\"Index: [0, 35]&#10;Color: (0, 0, 200)\" style=\"width: 20px; height: 20px;background-color: rgb(0, 0, 200);\"></td><td title=\"Index: [0, 36]&#10;Color: (200, 0, 0)\" style=\"width: 20px; height: 20px;background-color: rgb(200, 0, 0);\"></td><td title=\"Index: [0, 37]&#10;Color: (0, 0, 200)\" style=\"width: 20px; height: 20px;background-color: rgb(0, 0, 200);\"></td><td title=\"Index: [0, 38]&#10;Color: (200, 200, 200)\" style=\"width: 20px; height: 20px;background-color: rgb(200, 200, 200);\"></td><td title=\"Index: [0, 39]&#10;Color: (200, 0, 0)\" style=\"width: 20px; height: 20px;background-color: rgb(200, 0, 0);\"></td><td title=\"Index: [0, 40]&#10;Color: (200, 200, 200)\" style=\"width: 20px; height: 20px;background-color: rgb(200, 200, 200);\"></td><td title=\"Index: [0, 41]&#10;Color: (200, 200, 200)\" style=\"width: 20px; height: 20px;background-color: rgb(200, 200, 200);\"></td><td title=\"Index: [0, 42]&#10;Color: (0, 0, 200)\" style=\"width: 20px; height: 20px;background-color: rgb(0, 0, 200);\"></td><td title=\"Index: [0, 43]&#10;Color: (200, 200, 200)\" style=\"width: 20px; height: 20px;background-color: rgb(200, 200, 200);\"></td><td title=\"Index: [0, 44]&#10;Color: (200, 200, 200)\" style=\"width: 20px; height: 20px;background-color: rgb(200, 200, 200);\"></td><td title=\"Index: [0, 45]&#10;Color: (200, 200, 200)\" style=\"width: 20px; height: 20px;background-color: rgb(200, 200, 200);\"></td><td title=\"Index: [0, 46]&#10;Color: (200, 200, 200)\" style=\"width: 20px; height: 20px;background-color: rgb(200, 200, 200);\"></td><td title=\"Index: [0, 47]&#10;Color: (200, 0, 0)\" style=\"width: 20px; height: 20px;background-color: rgb(200, 0, 0);\"></td><td title=\"Index: [0, 48]&#10;Color: (200, 200, 200)\" style=\"width: 20px; height: 20px;background-color: rgb(200, 200, 200);\"></td><td title=\"Index: [0, 49]&#10;Color: (200, 200, 200)\" style=\"width: 20px; height: 20px;background-color: rgb(200, 200, 200);\"></td><td title=\"Index: [0, 50]&#10;Color: (200, 0, 0)\" style=\"width: 20px; height: 20px;background-color: rgb(200, 0, 0);\"></td><td title=\"Index: [0, 51]&#10;Color: (200, 200, 200)\" style=\"width: 20px; height: 20px;background-color: rgb(200, 200, 200);\"></td><td title=\"Index: [0, 52]&#10;Color: (0, 0, 200)\" style=\"width: 20px; height: 20px;background-color: rgb(0, 0, 200);\"></td><td title=\"Index: [0, 53]&#10;Color: (200, 200, 200)\" style=\"width: 20px; height: 20px;background-color: rgb(200, 200, 200);\"></td><td title=\"Index: [0, 54]&#10;Color: (200, 200, 200)\" style=\"width: 20px; height: 20px;background-color: rgb(200, 200, 200);\"></td><td title=\"Index: [0, 55]&#10;Color: (200, 200, 200)\" style=\"width: 20px; height: 20px;background-color: rgb(200, 200, 200);\"></td><td title=\"Index: [0, 56]&#10;Color: (200, 200, 200)\" style=\"width: 20px; height: 20px;background-color: rgb(200, 200, 200);\"></td><td title=\"Index: [0, 57]&#10;Color: (0, 0, 200)\" style=\"width: 20px; height: 20px;background-color: rgb(0, 0, 200);\"></td><td title=\"Index: [0, 58]&#10;Color: (200, 200, 200)\" style=\"width: 20px; height: 20px;background-color: rgb(200, 200, 200);\"></td><td title=\"Index: [0, 59]&#10;Color: (200, 200, 200)\" style=\"width: 20px; height: 20px;background-color: rgb(200, 200, 200);\"></td><td title=\"Index: [0, 60]&#10;Color: (0, 0, 200)\" style=\"width: 20px; height: 20px;background-color: rgb(0, 0, 200);\"></td><td title=\"Index: [0, 61]&#10;Color: (200, 200, 200)\" style=\"width: 20px; height: 20px;background-color: rgb(200, 200, 200);\"></td><td title=\"Index: [0, 62]&#10;Color: (200, 200, 200)\" style=\"width: 20px; height: 20px;background-color: rgb(200, 200, 200);\"></td><td title=\"Index: [0, 63]&#10;Color: (200, 200, 200)\" style=\"width: 20px; height: 20px;background-color: rgb(200, 200, 200);\"></td><td title=\"Index: [0, 64]&#10;Color: (200, 0, 0)\" style=\"width: 20px; height: 20px;background-color: rgb(200, 0, 0);\"></td><td title=\"Index: [0, 65]&#10;Color: (200, 200, 200)\" style=\"width: 20px; height: 20px;background-color: rgb(200, 200, 200);\"></td><td title=\"Index: [0, 66]&#10;Color: (255, 0, 255)\" style=\"width: 20px; height: 20px;background-color: rgb(255, 0, 255);\"></td><td title=\"Index: [0, 67]&#10;Color: (200, 200, 200)\" style=\"width: 20px; height: 20px;background-color: rgb(200, 200, 200);\"></td><td title=\"Index: [0, 68]&#10;Color: (200, 200, 200)\" style=\"width: 20px; height: 20px;background-color: rgb(200, 200, 200);\"></td><td title=\"Index: [0, 69]&#10;Color: (200, 200, 200)\" style=\"width: 20px; height: 20px;background-color: rgb(200, 200, 200);\"></td></tr></tbody></table>",
          "text/plain": "<ipythonblocks.ipythonblocks.BlockGrid at 0x7fa2b4596a90>"
         },
         "metadata": {},
         "output_type": "display_data"
        },
        {
         "name": "stdout",
         "output_type": "stream",
         "text": "3. Vœux triés par l'algorithme :\n"
        },
        {
         "data": {
          "text/html": "<style type=\"text/css\">table.blockgrid {border: none;} .blockgrid tr {border: none;} .blockgrid td {padding: 0px;} #blockscc9c8b03-f147-466a-91d4-b93c530d0c9f td {border: 1px solid white;}</style><table id=\"blockscc9c8b03-f147-466a-91d4-b93c530d0c9f\" class=\"blockgrid\"><tbody><tr><td title=\"Index: [0, 0]&#10;Color: (255, 0, 255)\" style=\"width: 20px; height: 20px;background-color: rgb(255, 0, 255);\"></td><td title=\"Index: [0, 1]&#10;Color: (200, 200, 200)\" style=\"width: 20px; height: 20px;background-color: rgb(200, 200, 200);\"></td><td title=\"Index: [0, 2]&#10;Color: (200, 200, 200)\" style=\"width: 20px; height: 20px;background-color: rgb(200, 200, 200);\"></td><td title=\"Index: [0, 3]&#10;Color: (200, 200, 200)\" style=\"width: 20px; height: 20px;background-color: rgb(200, 200, 200);\"></td><td title=\"Index: [0, 4]&#10;Color: (200, 200, 200)\" style=\"width: 20px; height: 20px;background-color: rgb(200, 200, 200);\"></td><td title=\"Index: [0, 5]&#10;Color: (200, 0, 0)\" style=\"width: 20px; height: 20px;background-color: rgb(200, 0, 0);\"></td><td title=\"Index: [0, 6]&#10;Color: (200, 200, 200)\" style=\"width: 20px; height: 20px;background-color: rgb(200, 200, 200);\"></td><td title=\"Index: [0, 7]&#10;Color: (200, 200, 200)\" style=\"width: 20px; height: 20px;background-color: rgb(200, 200, 200);\"></td><td title=\"Index: [0, 8]&#10;Color: (200, 200, 200)\" style=\"width: 20px; height: 20px;background-color: rgb(200, 200, 200);\"></td><td title=\"Index: [0, 9]&#10;Color: (0, 0, 200)\" style=\"width: 20px; height: 20px;background-color: rgb(0, 0, 200);\"></td><td title=\"Index: [0, 10]&#10;Color: (200, 200, 200)\" style=\"width: 20px; height: 20px;background-color: rgb(200, 200, 200);\"></td><td title=\"Index: [0, 11]&#10;Color: (200, 200, 200)\" style=\"width: 20px; height: 20px;background-color: rgb(200, 200, 200);\"></td><td title=\"Index: [0, 12]&#10;Color: (0, 0, 200)\" style=\"width: 20px; height: 20px;background-color: rgb(0, 0, 200);\"></td><td title=\"Index: [0, 13]&#10;Color: (200, 200, 200)\" style=\"width: 20px; height: 20px;background-color: rgb(200, 200, 200);\"></td><td title=\"Index: [0, 14]&#10;Color: (200, 200, 200)\" style=\"width: 20px; height: 20px;background-color: rgb(200, 200, 200);\"></td><td title=\"Index: [0, 15]&#10;Color: (200, 200, 200)\" style=\"width: 20px; height: 20px;background-color: rgb(200, 200, 200);\"></td><td title=\"Index: [0, 16]&#10;Color: (200, 200, 200)\" style=\"width: 20px; height: 20px;background-color: rgb(200, 200, 200);\"></td><td title=\"Index: [0, 17]&#10;Color: (0, 0, 200)\" style=\"width: 20px; height: 20px;background-color: rgb(0, 0, 200);\"></td><td title=\"Index: [0, 18]&#10;Color: (200, 200, 200)\" style=\"width: 20px; height: 20px;background-color: rgb(200, 200, 200);\"></td><td title=\"Index: [0, 19]&#10;Color: (200, 0, 0)\" style=\"width: 20px; height: 20px;background-color: rgb(200, 0, 0);\"></td><td title=\"Index: [0, 20]&#10;Color: (200, 200, 200)\" style=\"width: 20px; height: 20px;background-color: rgb(200, 200, 200);\"></td><td title=\"Index: [0, 21]&#10;Color: (200, 200, 200)\" style=\"width: 20px; height: 20px;background-color: rgb(200, 200, 200);\"></td><td title=\"Index: [0, 22]&#10;Color: (200, 0, 0)\" style=\"width: 20px; height: 20px;background-color: rgb(200, 0, 0);\"></td><td title=\"Index: [0, 23]&#10;Color: (200, 200, 200)\" style=\"width: 20px; height: 20px;background-color: rgb(200, 200, 200);\"></td><td title=\"Index: [0, 24]&#10;Color: (200, 200, 200)\" style=\"width: 20px; height: 20px;background-color: rgb(200, 200, 200);\"></td><td title=\"Index: [0, 25]&#10;Color: (200, 200, 200)\" style=\"width: 20px; height: 20px;background-color: rgb(200, 200, 200);\"></td><td title=\"Index: [0, 26]&#10;Color: (200, 200, 200)\" style=\"width: 20px; height: 20px;background-color: rgb(200, 200, 200);\"></td><td title=\"Index: [0, 27]&#10;Color: (0, 0, 200)\" style=\"width: 20px; height: 20px;background-color: rgb(0, 0, 200);\"></td><td title=\"Index: [0, 28]&#10;Color: (200, 200, 200)\" style=\"width: 20px; height: 20px;background-color: rgb(200, 200, 200);\"></td><td title=\"Index: [0, 29]&#10;Color: (200, 200, 200)\" style=\"width: 20px; height: 20px;background-color: rgb(200, 200, 200);\"></td><td title=\"Index: [0, 30]&#10;Color: (200, 0, 0)\" style=\"width: 20px; height: 20px;background-color: rgb(200, 0, 0);\"></td><td title=\"Index: [0, 31]&#10;Color: (200, 200, 200)\" style=\"width: 20px; height: 20px;background-color: rgb(200, 200, 200);\"></td><td title=\"Index: [0, 32]&#10;Color: (0, 0, 200)\" style=\"width: 20px; height: 20px;background-color: rgb(0, 0, 200);\"></td><td title=\"Index: [0, 33]&#10;Color: (200, 0, 0)\" style=\"width: 20px; height: 20px;background-color: rgb(200, 0, 0);\"></td><td title=\"Index: [0, 34]&#10;Color: (0, 0, 200)\" style=\"width: 20px; height: 20px;background-color: rgb(0, 0, 200);\"></td><td title=\"Index: [0, 35]&#10;Color: (200, 200, 200)\" style=\"width: 20px; height: 20px;background-color: rgb(200, 200, 200);\"></td><td title=\"Index: [0, 36]&#10;Color: (0, 0, 200)\" style=\"width: 20px; height: 20px;background-color: rgb(0, 0, 200);\"></td><td title=\"Index: [0, 37]&#10;Color: (200, 0, 0)\" style=\"width: 20px; height: 20px;background-color: rgb(200, 0, 0);\"></td><td title=\"Index: [0, 38]&#10;Color: (0, 0, 200)\" style=\"width: 20px; height: 20px;background-color: rgb(0, 0, 200);\"></td><td title=\"Index: [0, 39]&#10;Color: (200, 200, 200)\" style=\"width: 20px; height: 20px;background-color: rgb(200, 200, 200);\"></td><td title=\"Index: [0, 40]&#10;Color: (200, 200, 200)\" style=\"width: 20px; height: 20px;background-color: rgb(200, 200, 200);\"></td><td title=\"Index: [0, 41]&#10;Color: (200, 200, 200)\" style=\"width: 20px; height: 20px;background-color: rgb(200, 200, 200);\"></td><td title=\"Index: [0, 42]&#10;Color: (200, 200, 200)\" style=\"width: 20px; height: 20px;background-color: rgb(200, 200, 200);\"></td><td title=\"Index: [0, 43]&#10;Color: (200, 200, 200)\" style=\"width: 20px; height: 20px;background-color: rgb(200, 200, 200);\"></td><td title=\"Index: [0, 44]&#10;Color: (200, 200, 200)\" style=\"width: 20px; height: 20px;background-color: rgb(200, 200, 200);\"></td><td title=\"Index: [0, 45]&#10;Color: (0, 0, 200)\" style=\"width: 20px; height: 20px;background-color: rgb(0, 0, 200);\"></td><td title=\"Index: [0, 46]&#10;Color: (200, 200, 200)\" style=\"width: 20px; height: 20px;background-color: rgb(200, 200, 200);\"></td><td title=\"Index: [0, 47]&#10;Color: (200, 200, 200)\" style=\"width: 20px; height: 20px;background-color: rgb(200, 200, 200);\"></td><td title=\"Index: [0, 48]&#10;Color: (200, 200, 200)\" style=\"width: 20px; height: 20px;background-color: rgb(200, 200, 200);\"></td><td title=\"Index: [0, 49]&#10;Color: (200, 0, 0)\" style=\"width: 20px; height: 20px;background-color: rgb(200, 0, 0);\"></td><td title=\"Index: [0, 50]&#10;Color: (200, 0, 0)\" style=\"width: 20px; height: 20px;background-color: rgb(200, 0, 0);\"></td><td title=\"Index: [0, 51]&#10;Color: (200, 0, 200)\" style=\"width: 20px; height: 20px;background-color: rgb(200, 0, 200);\"></td><td title=\"Index: [0, 52]&#10;Color: (200, 200, 200)\" style=\"width: 20px; height: 20px;background-color: rgb(200, 200, 200);\"></td><td title=\"Index: [0, 53]&#10;Color: (200, 0, 0)\" style=\"width: 20px; height: 20px;background-color: rgb(200, 0, 0);\"></td><td title=\"Index: [0, 54]&#10;Color: (200, 200, 200)\" style=\"width: 20px; height: 20px;background-color: rgb(200, 200, 200);\"></td><td title=\"Index: [0, 55]&#10;Color: (200, 200, 200)\" style=\"width: 20px; height: 20px;background-color: rgb(200, 200, 200);\"></td><td title=\"Index: [0, 56]&#10;Color: (200, 200, 200)\" style=\"width: 20px; height: 20px;background-color: rgb(200, 200, 200);\"></td><td title=\"Index: [0, 57]&#10;Color: (0, 0, 200)\" style=\"width: 20px; height: 20px;background-color: rgb(0, 0, 200);\"></td><td title=\"Index: [0, 58]&#10;Color: (200, 0, 200)\" style=\"width: 20px; height: 20px;background-color: rgb(200, 0, 200);\"></td><td title=\"Index: [0, 59]&#10;Color: (200, 200, 200)\" style=\"width: 20px; height: 20px;background-color: rgb(200, 200, 200);\"></td><td title=\"Index: [0, 60]&#10;Color: (200, 200, 200)\" style=\"width: 20px; height: 20px;background-color: rgb(200, 200, 200);\"></td><td title=\"Index: [0, 61]&#10;Color: (200, 200, 200)\" style=\"width: 20px; height: 20px;background-color: rgb(200, 200, 200);\"></td><td title=\"Index: [0, 62]&#10;Color: (200, 0, 0)\" style=\"width: 20px; height: 20px;background-color: rgb(200, 0, 0);\"></td><td title=\"Index: [0, 63]&#10;Color: (200, 200, 200)\" style=\"width: 20px; height: 20px;background-color: rgb(200, 200, 200);\"></td><td title=\"Index: [0, 64]&#10;Color: (0, 0, 200)\" style=\"width: 20px; height: 20px;background-color: rgb(0, 0, 200);\"></td><td title=\"Index: [0, 65]&#10;Color: (200, 0, 0)\" style=\"width: 20px; height: 20px;background-color: rgb(200, 0, 0);\"></td><td title=\"Index: [0, 66]&#10;Color: (200, 200, 200)\" style=\"width: 20px; height: 20px;background-color: rgb(200, 200, 200);\"></td><td title=\"Index: [0, 67]&#10;Color: (0, 0, 200)\" style=\"width: 20px; height: 20px;background-color: rgb(0, 0, 200);\"></td><td title=\"Index: [0, 68]&#10;Color: (200, 0, 0)\" style=\"width: 20px; height: 20px;background-color: rgb(200, 0, 0);\"></td><td title=\"Index: [0, 69]&#10;Color: (200, 200, 200)\" style=\"width: 20px; height: 20px;background-color: rgb(200, 200, 200);\"></td></tr></tbody></table>",
          "text/plain": "<ipythonblocks.ipythonblocks.BlockGrid at 0x7fa2b4596a90>"
         },
         "metadata": {},
         "output_type": "display_data"
        }
       ]
      }
     },
     "83e4816b6f3244c282b55b3efcf423d7": {
      "model_module": "@jupyter-widgets/controls",
      "model_module_version": "1.2.0",
      "model_name": "VBoxModel",
      "state": {
       "_dom_classes": [
        "widget-interact"
       ],
       "children": [
        "IPY_MODEL_a80ce58001c0478c8eb0d47c0ff24ae0",
        "IPY_MODEL_0c3d4a9733a842658041714a6c5b2853",
        "IPY_MODEL_9cb0a2abef93494487c95d74f72ae52f",
        "IPY_MODEL_cc2d3465f66e40fbbdf2a588a8d0fd50",
        "IPY_MODEL_f36b08d617164c6ca595b4dd9918536d",
        "IPY_MODEL_e53916f6cdfd4fe5a708dbfab4799a9a",
        "IPY_MODEL_267b362769c64b838ae35eab2d80b512"
       ],
       "layout": "IPY_MODEL_47cbd7321e834f30ba990062ac75a4c9"
      }
     },
     "843636ff2c774a928aa8c19ae501bf47": {
      "model_module": "@jupyter-widgets/controls",
      "model_module_version": "1.2.0",
      "model_name": "IntSliderModel",
      "state": {
       "description": "random_seed",
       "layout": "IPY_MODEL_7a43d7f0e1cd4befb3f5e38572342caa",
       "max": 1000,
       "style": "IPY_MODEL_0391d434557747cd9171c9135a9bd4d6",
       "value": 600
      }
     },
     "843705d5f6194bdea59432bd5032d475": {
      "model_module": "@jupyter-widgets/base",
      "model_module_version": "1.0.0",
      "model_name": "LayoutModel",
      "state": {}
     },
     "8438cf581ac54652aa87b5d79a40616e": {
      "model_module": "@jupyter-widgets/controls",
      "model_module_version": "1.2.0",
      "model_name": "CheckboxModel",
      "state": {
       "description": "focusEstBoursier",
       "disabled": false,
       "layout": "IPY_MODEL_676d5f741f3e4c89b0defded1d6b0235",
       "style": "IPY_MODEL_6dd6730895e945fa9276cb47090ecbca",
       "value": true
      }
     },
     "84e1938a4c764456bd815359e411ee7d": {
      "model_module": "@jupyter-widgets/base",
      "model_module_version": "1.0.0",
      "model_name": "LayoutModel",
      "state": {}
     },
     "84ec90fcfe194244aca496b0a4d614e6": {
      "model_module": "@jupyter-widgets/controls",
      "model_module_version": "1.2.0",
      "model_name": "SliderStyleModel",
      "state": {
       "description_width": ""
      }
     },
     "85a3c79753d14e95a9864587f0df863a": {
      "model_module": "@jupyter-widgets/controls",
      "model_module_version": "1.2.0",
      "model_name": "SliderStyleModel",
      "state": {
       "description_width": ""
      }
     },
     "85dd510060c74680aa61722326a0cafc": {
      "model_module": "@jupyter-widgets/base",
      "model_module_version": "1.0.0",
      "model_name": "LayoutModel",
      "state": {}
     },
     "860c4a7d8f054baf9b90370334b2a0b1": {
      "model_module": "@jupyter-widgets/controls",
      "model_module_version": "1.2.0",
      "model_name": "IntSliderModel",
      "state": {
       "description": "tauxMinBoursiersPourcents",
       "layout": "IPY_MODEL_933b0cc6fb6246a5a93954dd12163243",
       "style": "IPY_MODEL_dc7bc9b4e8c94b83b497fa4c64f4c641",
       "value": 10
      }
     },
     "861ae1a354b84b58acf0525ee51751db": {
      "model_module": "@jupyter-widgets/base",
      "model_module_version": "1.0.0",
      "model_name": "LayoutModel",
      "state": {}
     },
     "8669ac0a71144dd8b9c8daed76086d3c": {
      "model_module": "@jupyter-widgets/base",
      "model_module_version": "1.0.0",
      "model_name": "LayoutModel",
      "state": {}
     },
     "869df323a4314379adaa5af25f9b0227": {
      "model_module": "@jupyter-widgets/controls",
      "model_module_version": "1.2.0",
      "model_name": "SliderStyleModel",
      "state": {
       "description_width": ""
      }
     },
     "86a421b5ace94453b6907619537440b0": {
      "model_module": "@jupyter-widgets/controls",
      "model_module_version": "1.2.0",
      "model_name": "IntSliderModel",
      "state": {
       "description": "tauxResidents",
       "layout": "IPY_MODEL_a66566de990042ceaabbf3d554ffbbee",
       "style": "IPY_MODEL_7c42afc72b7641a1a266ddd23a745601",
       "value": 20
      }
     },
     "86c95d364ded4be2ad154392f0e4f792": {
      "model_module": "@jupyter-widgets/controls",
      "model_module_version": "1.2.0",
      "model_name": "SliderStyleModel",
      "state": {
       "description_width": ""
      }
     },
     "876633972c2f418b9ddf97d0007f6f70": {
      "model_module": "@jupyter-widgets/controls",
      "model_module_version": "1.2.0",
      "model_name": "SliderStyleModel",
      "state": {
       "description_width": ""
      }
     },
     "8790891541a7454ca65f5576f6feb6cd": {
      "model_module": "@jupyter-widgets/controls",
      "model_module_version": "1.2.0",
      "model_name": "SliderStyleModel",
      "state": {
       "description_width": ""
      }
     },
     "87bbab3d800345668ae938920a412dd7": {
      "model_module": "@jupyter-widgets/base",
      "model_module_version": "1.0.0",
      "model_name": "LayoutModel",
      "state": {}
     },
     "8855e26e8aac4a0eae3c9e183e3ff101": {
      "model_module": "@jupyter-widgets/base",
      "model_module_version": "1.0.0",
      "model_name": "LayoutModel",
      "state": {}
     },
     "8856cd58f99547c4a6edca7292d6498e": {
      "model_module": "@jupyter-widgets/controls",
      "model_module_version": "1.2.0",
      "model_name": "IntSliderModel",
      "state": {
       "description": "tauxMinResidentsPourcents",
       "layout": "IPY_MODEL_5de1f17bf1a6497eb50ee768de7bc9aa",
       "style": "IPY_MODEL_b113e4acab48472588ababd4f6e69243"
      }
     },
     "88bc0643f0f54b53bd4c04dd63473142": {
      "model_module": "@jupyter-widgets/controls",
      "model_module_version": "1.2.0",
      "model_name": "SliderStyleModel",
      "state": {
       "description_width": ""
      }
     },
     "88c847843088464eadbde8ccca184268": {
      "model_module": "@jupyter-widgets/controls",
      "model_module_version": "1.2.0",
      "model_name": "SliderStyleModel",
      "state": {
       "description_width": ""
      }
     },
     "88c9ae822f554914b45e412bef685f86": {
      "model_module": "@jupyter-widgets/controls",
      "model_module_version": "1.2.0",
      "model_name": "SliderStyleModel",
      "state": {
       "description_width": ""
      }
     },
     "88eb8e5d46e44e3fba213bc4f8170103": {
      "model_module": "@jupyter-widgets/base",
      "model_module_version": "1.0.0",
      "model_name": "LayoutModel",
      "state": {}
     },
     "89077f3e529448699e14fddb3fa5ec76": {
      "model_module": "@jupyter-widgets/controls",
      "model_module_version": "1.2.0",
      "model_name": "DescriptionStyleModel",
      "state": {
       "description_width": ""
      }
     },
     "8923b1f7e43b445b8939eb8647d2ef14": {
      "model_module": "@jupyter-widgets/controls",
      "model_module_version": "1.2.0",
      "model_name": "SliderStyleModel",
      "state": {
       "description_width": ""
      }
     },
     "89d5c5a050924c888a56f7eae86cee18": {
      "model_module": "@jupyter-widgets/base",
      "model_module_version": "1.0.0",
      "model_name": "LayoutModel",
      "state": {}
     },
     "8a0f7e0259b54548abcb440dafc345f8": {
      "model_module": "@jupyter-widgets/controls",
      "model_module_version": "1.2.0",
      "model_name": "VBoxModel",
      "state": {
       "_dom_classes": [
        "widget-interact"
       ],
       "children": [
        "IPY_MODEL_314d31ad269d40e48b07498ad13eef63",
        "IPY_MODEL_7485dd72d9f849fe9f34b64d82fbd507",
        "IPY_MODEL_b4d9a567e5654ea1af40311cd749f934",
        "IPY_MODEL_bb7a641e59d84386a91730ee1059aa89",
        "IPY_MODEL_27ff7ba06b7b4c5e9a6d412f5e9531c9",
        "IPY_MODEL_45a8bad1ad2b460c9c61d053de673c39",
        "IPY_MODEL_a2c1a7e37db449468094e150b77f4395"
       ],
       "layout": "IPY_MODEL_9d5f6e5fe1e243bda0bf4c1282927aa7"
      }
     },
     "8a284aa31c3a4631ad146f3f3e591c05": {
      "model_module": "@jupyter-widgets/controls",
      "model_module_version": "1.2.0",
      "model_name": "SliderStyleModel",
      "state": {
       "description_width": ""
      }
     },
     "8a29ba27594e45c6ba22a6509deb5b43": {
      "model_module": "@jupyter-widgets/controls",
      "model_module_version": "1.2.0",
      "model_name": "IntSliderModel",
      "state": {
       "description": "tauxMinResidentsPourcents",
       "layout": "IPY_MODEL_e42e1b0757a649e998f9773f0c95a65a",
       "style": "IPY_MODEL_e0bcb937bb9440bf846ae04defcc7654"
      }
     },
     "8a89804a608644f3a7ac9e0edadcdcd2": {
      "model_module": "@jupyter-widgets/controls",
      "model_module_version": "1.2.0",
      "model_name": "VBoxModel",
      "state": {
       "_dom_classes": [
        "widget-interact"
       ],
       "children": [
        "IPY_MODEL_3109bcd3645b4b5daac8e3011223a4a2",
        "IPY_MODEL_c1ed7e25812a433a92c92715a855f297",
        "IPY_MODEL_f97a8722b21b428199384c03a066e1ef",
        "IPY_MODEL_d95545ca7a0a40d89c6ed4b90ebf6264",
        "IPY_MODEL_1dbd42e91b0d4a78a20d3e3164c30a66",
        "IPY_MODEL_36032b380d984972a2f57bc5314aad5e",
        "IPY_MODEL_63f9b62061b64bb2bc6c965b0e60bdfa",
        "IPY_MODEL_8feaa1fed7c54da59bd8a49c7c70d1c7",
        "IPY_MODEL_c2f22eb6790c49aea9d614facd842574",
        "IPY_MODEL_c95145397ecc441789131e82145ef546"
       ],
       "layout": "IPY_MODEL_013c87ded22a4461a1b4115c56cfc17c"
      }
     },
     "8a8d2899da88405aadb147fdecba8f47": {
      "model_module": "@jupyter-widgets/base",
      "model_module_version": "1.0.0",
      "model_name": "LayoutModel",
      "state": {}
     },
     "8ac205ba5f8c44ea9320ce811d273c14": {
      "model_module": "@jupyter-widgets/base",
      "model_module_version": "1.0.0",
      "model_name": "LayoutModel",
      "state": {}
     },
     "8ac4b2a664c8466f819555477518d26f": {
      "model_module": "@jupyter-widgets/controls",
      "model_module_version": "1.2.0",
      "model_name": "SliderStyleModel",
      "state": {
       "description_width": ""
      }
     },
     "8ac87e58b7134a74b94e30c4ef2e2546": {
      "model_module": "@jupyter-widgets/controls",
      "model_module_version": "1.2.0",
      "model_name": "IntSliderModel",
      "state": {
       "description": "tauxBoursiers",
       "layout": "IPY_MODEL_cea73e2c9d73414d9aeb244908b1addc",
       "style": "IPY_MODEL_97a32e60a6224bc884bc0e74641298a9",
       "value": 20
      }
     },
     "8b2d43976b394a6d98ea84484c8ce166": {
      "model_module": "@jupyter-widgets/controls",
      "model_module_version": "1.2.0",
      "model_name": "DescriptionStyleModel",
      "state": {
       "description_width": ""
      }
     },
     "8c972bcf184f409fbc0ea8cea8d97561": {
      "model_module": "@jupyter-widgets/base",
      "model_module_version": "1.0.0",
      "model_name": "LayoutModel",
      "state": {}
     },
     "8d3da0e404b34fd596dd2669149a3a2d": {
      "model_module": "@jupyter-widgets/controls",
      "model_module_version": "1.2.0",
      "model_name": "SliderStyleModel",
      "state": {
       "description_width": ""
      }
     },
     "8d4577996f944039800a02c9a1aeefe1": {
      "model_module": "@jupyter-widgets/controls",
      "model_module_version": "1.2.0",
      "model_name": "IntSliderModel",
      "state": {
       "description": "taille",
       "layout": "IPY_MODEL_dfcb93e3b09e419cb0561f52989549e7",
       "max": 500,
       "min": 1,
       "style": "IPY_MODEL_e86d9ac274364041a82c6f9471ff58b6",
       "value": 30
      }
     },
     "8d6c124c282d4cbfae0b16c7eda1621a": {
      "model_module": "@jupyter-widgets/controls",
      "model_module_version": "1.2.0",
      "model_name": "IntSliderModel",
      "state": {
       "description": "tauxResidents",
       "layout": "IPY_MODEL_397e8eb26d8f43449183b6f18745cb01",
       "style": "IPY_MODEL_59ead53d0a734b1e8848d6757091448b",
       "value": 20
      }
     },
     "8dbc5f08873d47d9ae866231ce47d8c3": {
      "model_module": "@jupyter-widgets/controls",
      "model_module_version": "1.2.0",
      "model_name": "IntSliderModel",
      "state": {
       "description": "taille",
       "layout": "IPY_MODEL_f154ddd180124fc19fc84b6e3092f8e8",
       "max": 500,
       "min": 1,
       "style": "IPY_MODEL_f536d9e097b74433a0bcf84c51467475",
       "value": 70
      }
     },
     "8dcebb5ebeaa4126ad1fe0acf27a4744": {
      "model_module": "@jupyter-widgets/base",
      "model_module_version": "1.0.0",
      "model_name": "LayoutModel",
      "state": {}
     },
     "8dd2e33570724909b65beb4b57ac78bb": {
      "model_module": "@jupyter-widgets/base",
      "model_module_version": "1.0.0",
      "model_name": "LayoutModel",
      "state": {}
     },
     "8e4b1d57de14423c8eabd23108f88f18": {
      "model_module": "@jupyter-widgets/controls",
      "model_module_version": "1.2.0",
      "model_name": "IntSliderModel",
      "state": {
       "description": "tauxMinBoursiersPourcents",
       "layout": "IPY_MODEL_14415f6fa18d40c485b9bbf028a968ac",
       "style": "IPY_MODEL_dd185f13886b444793764da4d3f60d9a",
       "value": 10
      }
     },
     "8e5db433e1ce4af5990a1e0f00f624ed": {
      "model_module": "@jupyter-widgets/base",
      "model_module_version": "1.0.0",
      "model_name": "LayoutModel",
      "state": {}
     },
     "8e858a7ee46b4b77a26eb2690c2305eb": {
      "model_module": "@jupyter-widgets/controls",
      "model_module_version": "1.2.0",
      "model_name": "IntSliderModel",
      "state": {
       "description": "tauxBoursiers",
       "layout": "IPY_MODEL_c8c61480de8348b5b8f1da37255398f9",
       "style": "IPY_MODEL_c7ae8c2aa99444a49a680a0df48a5975",
       "value": 20
      }
     },
     "8e8699e4609043b78fae6fc25f0158d1": {
      "model_module": "@jupyter-widgets/controls",
      "model_module_version": "1.2.0",
      "model_name": "SliderStyleModel",
      "state": {
       "description_width": ""
      }
     },
     "8f68c50363584f53858d1dba4f34cf7b": {
      "model_module": "@jupyter-widgets/base",
      "model_module_version": "1.0.0",
      "model_name": "LayoutModel",
      "state": {}
     },
     "8f9c10c74c2e4d4a8c9a21ef946d66e3": {
      "model_module": "@jupyter-widgets/controls",
      "model_module_version": "1.2.0",
      "model_name": "IntSliderModel",
      "state": {
       "description": "tauxResidents",
       "layout": "IPY_MODEL_84e1938a4c764456bd815359e411ee7d",
       "style": "IPY_MODEL_a0d9ad9fb4ad4981874f126feb10eeb3",
       "value": 20
      }
     },
     "8fa436d8f7e84b6fbccfbbaa72552f38": {
      "model_module": "@jupyter-widgets/controls",
      "model_module_version": "1.2.0",
      "model_name": "SliderStyleModel",
      "state": {
       "description_width": ""
      }
     },
     "8feaa1fed7c54da59bd8a49c7c70d1c7": {
      "model_module": "@jupyter-widgets/controls",
      "model_module_version": "1.2.0",
      "model_name": "IntSliderModel",
      "state": {
       "description": "tauxMinBoursiersPourcents",
       "layout": "IPY_MODEL_5a63d8145c5d4a5e8e70849c2cc5678c",
       "style": "IPY_MODEL_160c19a1ab2144e7b22174a721dbbca9"
      }
     },
     "8febcaed57d5483e87c7af4d46389e0e": {
      "model_module": "@jupyter-widgets/controls",
      "model_module_version": "1.2.0",
      "model_name": "IntSliderModel",
      "state": {
       "description": "tauxMinResidentsPourcents",
       "layout": "IPY_MODEL_4666974a500a4d52b133453119f44e3d",
       "step": 5,
       "style": "IPY_MODEL_dbc9a2b0ee0b4b1c9d2a66c890778971",
       "value": 55
      }
     },
     "912f10a934464f838325f049a3c07521": {
      "model_module": "@jupyter-widgets/base",
      "model_module_version": "1.0.0",
      "model_name": "LayoutModel",
      "state": {}
     },
     "9140d4debcd84d13a9596dba16a89169": {
      "model_module": "@jupyter-widgets/base",
      "model_module_version": "1.0.0",
      "model_name": "LayoutModel",
      "state": {}
     },
     "9171c7d4265a4ec4a24a3ed07af5c1b4": {
      "model_module": "@jupyter-widgets/base",
      "model_module_version": "1.0.0",
      "model_name": "LayoutModel",
      "state": {}
     },
     "917c2aef38304ff3b3e492788802b902": {
      "model_module": "@jupyter-widgets/controls",
      "model_module_version": "1.2.0",
      "model_name": "IntSliderModel",
      "state": {
       "description": "taille",
       "layout": "IPY_MODEL_1952227b02e842f6b9b4171664ff735f",
       "max": 500,
       "min": 1,
       "style": "IPY_MODEL_737859d2a1514ec19d0634f0682db4ed",
       "value": 50
      }
     },
     "922d56e801f74bac8f8a6e5d066b4d59": {
      "model_module": "@jupyter-widgets/base",
      "model_module_version": "1.0.0",
      "model_name": "LayoutModel",
      "state": {}
     },
     "92a2688742534161b094f5c465169676": {
      "model_module": "@jupyter-widgets/base",
      "model_module_version": "1.0.0",
      "model_name": "LayoutModel",
      "state": {}
     },
     "92c3c29c0e944707b289923a5afb454d": {
      "model_module": "@jupyter-widgets/base",
      "model_module_version": "1.0.0",
      "model_name": "LayoutModel",
      "state": {}
     },
     "931d95dd8cfb47e2880ada12adf32bb8": {
      "model_module": "@jupyter-widgets/base",
      "model_module_version": "1.0.0",
      "model_name": "LayoutModel",
      "state": {}
     },
     "933b0cc6fb6246a5a93954dd12163243": {
      "model_module": "@jupyter-widgets/base",
      "model_module_version": "1.0.0",
      "model_name": "LayoutModel",
      "state": {}
     },
     "9355bfc7e88244ceac0bc388c0fab641": {
      "model_module": "@jupyter-widgets/output",
      "model_module_version": "1.0.0",
      "model_name": "OutputModel",
      "state": {
       "layout": "IPY_MODEL_ce7b8aabe82f4351beb028b4d8c233ab",
       "outputs": [
        {
         "name": "stdout",
         "output_type": "stream",
         "text": "Visualisation de l'algorithme de calcul de l'ordre d'appel.\n1. Vœux non triés par rang :\n"
        },
        {
         "data": {
          "text/html": "<style type=\"text/css\">table.blockgrid {border: none;} .blockgrid tr {border: none;} .blockgrid td {padding: 0px;} #blocks0047d534-6092-4580-8ebb-960d6ed5fe0d td {border: 1px solid white;}</style><table id=\"blocks0047d534-6092-4580-8ebb-960d6ed5fe0d\" class=\"blockgrid\"><tbody><tr><td title=\"Index: [0, 0]&#10;Color: (130, 130, 130)\" style=\"width: 20px; height: 20px;background-color: rgb(130, 130, 130);\"></td><td title=\"Index: [0, 1]&#10;Color: (130, 0, 0)\" style=\"width: 20px; height: 20px;background-color: rgb(130, 0, 0);\"></td><td title=\"Index: [0, 2]&#10;Color: (130, 0, 130)\" style=\"width: 20px; height: 20px;background-color: rgb(130, 0, 130);\"></td><td title=\"Index: [0, 3]&#10;Color: (130, 130, 130)\" style=\"width: 20px; height: 20px;background-color: rgb(130, 130, 130);\"></td><td title=\"Index: [0, 4]&#10;Color: (0, 0, 130)\" style=\"width: 20px; height: 20px;background-color: rgb(0, 0, 130);\"></td><td title=\"Index: [0, 5]&#10;Color: (0, 0, 130)\" style=\"width: 20px; height: 20px;background-color: rgb(0, 0, 130);\"></td><td title=\"Index: [0, 6]&#10;Color: (130, 130, 130)\" style=\"width: 20px; height: 20px;background-color: rgb(130, 130, 130);\"></td><td title=\"Index: [0, 7]&#10;Color: (130, 130, 130)\" style=\"width: 20px; height: 20px;background-color: rgb(130, 130, 130);\"></td><td title=\"Index: [0, 8]&#10;Color: (130, 0, 0)\" style=\"width: 20px; height: 20px;background-color: rgb(130, 0, 0);\"></td><td title=\"Index: [0, 9]&#10;Color: (130, 130, 130)\" style=\"width: 20px; height: 20px;background-color: rgb(130, 130, 130);\"></td><td title=\"Index: [0, 10]&#10;Color: (130, 130, 130)\" style=\"width: 20px; height: 20px;background-color: rgb(130, 130, 130);\"></td><td title=\"Index: [0, 11]&#10;Color: (130, 130, 130)\" style=\"width: 20px; height: 20px;background-color: rgb(130, 130, 130);\"></td><td title=\"Index: [0, 12]&#10;Color: (130, 130, 130)\" style=\"width: 20px; height: 20px;background-color: rgb(130, 130, 130);\"></td><td title=\"Index: [0, 13]&#10;Color: (200, 0, 200)\" style=\"width: 20px; height: 20px;background-color: rgb(200, 0, 200);\"></td><td title=\"Index: [0, 14]&#10;Color: (130, 130, 130)\" style=\"width: 20px; height: 20px;background-color: rgb(130, 130, 130);\"></td><td title=\"Index: [0, 15]&#10;Color: (130, 130, 130)\" style=\"width: 20px; height: 20px;background-color: rgb(130, 130, 130);\"></td><td title=\"Index: [0, 16]&#10;Color: (130, 130, 130)\" style=\"width: 20px; height: 20px;background-color: rgb(130, 130, 130);\"></td><td title=\"Index: [0, 17]&#10;Color: (130, 0, 0)\" style=\"width: 20px; height: 20px;background-color: rgb(130, 0, 0);\"></td><td title=\"Index: [0, 18]&#10;Color: (130, 130, 130)\" style=\"width: 20px; height: 20px;background-color: rgb(130, 130, 130);\"></td><td title=\"Index: [0, 19]&#10;Color: (130, 130, 130)\" style=\"width: 20px; height: 20px;background-color: rgb(130, 130, 130);\"></td><td title=\"Index: [0, 20]&#10;Color: (130, 0, 0)\" style=\"width: 20px; height: 20px;background-color: rgb(130, 0, 0);\"></td><td title=\"Index: [0, 21]&#10;Color: (130, 130, 130)\" style=\"width: 20px; height: 20px;background-color: rgb(130, 130, 130);\"></td><td title=\"Index: [0, 22]&#10;Color: (130, 130, 130)\" style=\"width: 20px; height: 20px;background-color: rgb(130, 130, 130);\"></td><td title=\"Index: [0, 23]&#10;Color: (0, 0, 130)\" style=\"width: 20px; height: 20px;background-color: rgb(0, 0, 130);\"></td><td title=\"Index: [0, 24]&#10;Color: (0, 0, 130)\" style=\"width: 20px; height: 20px;background-color: rgb(0, 0, 130);\"></td><td title=\"Index: [0, 25]&#10;Color: (130, 130, 130)\" style=\"width: 20px; height: 20px;background-color: rgb(130, 130, 130);\"></td><td title=\"Index: [0, 26]&#10;Color: (0, 0, 130)\" style=\"width: 20px; height: 20px;background-color: rgb(0, 0, 130);\"></td><td title=\"Index: [0, 27]&#10;Color: (130, 130, 130)\" style=\"width: 20px; height: 20px;background-color: rgb(130, 130, 130);\"></td><td title=\"Index: [0, 28]&#10;Color: (130, 130, 130)\" style=\"width: 20px; height: 20px;background-color: rgb(130, 130, 130);\"></td><td title=\"Index: [0, 29]&#10;Color: (130, 130, 130)\" style=\"width: 20px; height: 20px;background-color: rgb(130, 130, 130);\"></td></tr></tbody></table>",
          "text/plain": "<ipythonblocks.ipythonblocks.BlockGrid at 0x7fa2b44cb908>"
         },
         "metadata": {},
         "output_type": "display_data"
        },
        {
         "name": "stdout",
         "output_type": "stream",
         "text": "2. Vœux triés par rang, mais pas par l'algorithme :\n"
        },
        {
         "data": {
          "text/html": "<style type=\"text/css\">table.blockgrid {border: none;} .blockgrid tr {border: none;} .blockgrid td {padding: 0px;} #blocks215dbb9e-0a27-4c8e-ac17-e20fa993af39 td {border: 1px solid white;}</style><table id=\"blocks215dbb9e-0a27-4c8e-ac17-e20fa993af39\" class=\"blockgrid\"><tbody><tr><td title=\"Index: [0, 0]&#10;Color: (130, 130, 130)\" style=\"width: 20px; height: 20px;background-color: rgb(130, 130, 130);\"></td><td title=\"Index: [0, 1]&#10;Color: (130, 0, 0)\" style=\"width: 20px; height: 20px;background-color: rgb(130, 0, 0);\"></td><td title=\"Index: [0, 2]&#10;Color: (130, 130, 130)\" style=\"width: 20px; height: 20px;background-color: rgb(130, 130, 130);\"></td><td title=\"Index: [0, 3]&#10;Color: (130, 130, 130)\" style=\"width: 20px; height: 20px;background-color: rgb(130, 130, 130);\"></td><td title=\"Index: [0, 4]&#10;Color: (130, 130, 130)\" style=\"width: 20px; height: 20px;background-color: rgb(130, 130, 130);\"></td><td title=\"Index: [0, 5]&#10;Color: (130, 130, 130)\" style=\"width: 20px; height: 20px;background-color: rgb(130, 130, 130);\"></td><td title=\"Index: [0, 6]&#10;Color: (130, 130, 130)\" style=\"width: 20px; height: 20px;background-color: rgb(130, 130, 130);\"></td><td title=\"Index: [0, 7]&#10;Color: (130, 130, 130)\" style=\"width: 20px; height: 20px;background-color: rgb(130, 130, 130);\"></td><td title=\"Index: [0, 8]&#10;Color: (130, 0, 0)\" style=\"width: 20px; height: 20px;background-color: rgb(130, 0, 0);\"></td><td title=\"Index: [0, 9]&#10;Color: (0, 0, 130)\" style=\"width: 20px; height: 20px;background-color: rgb(0, 0, 130);\"></td><td title=\"Index: [0, 10]&#10;Color: (130, 130, 130)\" style=\"width: 20px; height: 20px;background-color: rgb(130, 130, 130);\"></td><td title=\"Index: [0, 11]&#10;Color: (130, 130, 130)\" style=\"width: 20px; height: 20px;background-color: rgb(130, 130, 130);\"></td><td title=\"Index: [0, 12]&#10;Color: (130, 0, 130)\" style=\"width: 20px; height: 20px;background-color: rgb(130, 0, 130);\"></td><td title=\"Index: [0, 13]&#10;Color: (200, 0, 200)\" style=\"width: 20px; height: 20px;background-color: rgb(200, 0, 200);\"></td><td title=\"Index: [0, 14]&#10;Color: (130, 130, 130)\" style=\"width: 20px; height: 20px;background-color: rgb(130, 130, 130);\"></td><td title=\"Index: [0, 15]&#10;Color: (0, 0, 130)\" style=\"width: 20px; height: 20px;background-color: rgb(0, 0, 130);\"></td><td title=\"Index: [0, 16]&#10;Color: (0, 0, 130)\" style=\"width: 20px; height: 20px;background-color: rgb(0, 0, 130);\"></td><td title=\"Index: [0, 17]&#10;Color: (130, 130, 130)\" style=\"width: 20px; height: 20px;background-color: rgb(130, 130, 130);\"></td><td title=\"Index: [0, 18]&#10;Color: (130, 130, 130)\" style=\"width: 20px; height: 20px;background-color: rgb(130, 130, 130);\"></td><td title=\"Index: [0, 19]&#10;Color: (130, 130, 130)\" style=\"width: 20px; height: 20px;background-color: rgb(130, 130, 130);\"></td><td title=\"Index: [0, 20]&#10;Color: (130, 130, 130)\" style=\"width: 20px; height: 20px;background-color: rgb(130, 130, 130);\"></td><td title=\"Index: [0, 21]&#10;Color: (130, 130, 130)\" style=\"width: 20px; height: 20px;background-color: rgb(130, 130, 130);\"></td><td title=\"Index: [0, 22]&#10;Color: (130, 130, 130)\" style=\"width: 20px; height: 20px;background-color: rgb(130, 130, 130);\"></td><td title=\"Index: [0, 23]&#10;Color: (130, 130, 130)\" style=\"width: 20px; height: 20px;background-color: rgb(130, 130, 130);\"></td><td title=\"Index: [0, 24]&#10;Color: (130, 0, 0)\" style=\"width: 20px; height: 20px;background-color: rgb(130, 0, 0);\"></td><td title=\"Index: [0, 25]&#10;Color: (0, 0, 130)\" style=\"width: 20px; height: 20px;background-color: rgb(0, 0, 130);\"></td><td title=\"Index: [0, 26]&#10;Color: (130, 130, 130)\" style=\"width: 20px; height: 20px;background-color: rgb(130, 130, 130);\"></td><td title=\"Index: [0, 27]&#10;Color: (130, 0, 0)\" style=\"width: 20px; height: 20px;background-color: rgb(130, 0, 0);\"></td><td title=\"Index: [0, 28]&#10;Color: (0, 0, 130)\" style=\"width: 20px; height: 20px;background-color: rgb(0, 0, 130);\"></td><td title=\"Index: [0, 29]&#10;Color: (130, 130, 130)\" style=\"width: 20px; height: 20px;background-color: rgb(130, 130, 130);\"></td></tr></tbody></table>",
          "text/plain": "<ipythonblocks.ipythonblocks.BlockGrid at 0x7fa2b44cb908>"
         },
         "metadata": {},
         "output_type": "display_data"
        },
        {
         "name": "stdout",
         "output_type": "stream",
         "text": "3. Vœux triés par l'algorithme :\n"
        },
        {
         "data": {
          "text/html": "<style type=\"text/css\">table.blockgrid {border: none;} .blockgrid tr {border: none;} .blockgrid td {padding: 0px;} #blocks07fd5a9e-3c99-43a7-9b0d-16aa66cfd978 td {border: 1px solid white;}</style><table id=\"blocks07fd5a9e-3c99-43a7-9b0d-16aa66cfd978\" class=\"blockgrid\"><tbody><tr><td title=\"Index: [0, 0]&#10;Color: (130, 0, 130)\" style=\"width: 20px; height: 20px;background-color: rgb(130, 0, 130);\"></td><td title=\"Index: [0, 1]&#10;Color: (130, 130, 130)\" style=\"width: 20px; height: 20px;background-color: rgb(130, 130, 130);\"></td><td title=\"Index: [0, 2]&#10;Color: (130, 0, 0)\" style=\"width: 20px; height: 20px;background-color: rgb(130, 0, 0);\"></td><td title=\"Index: [0, 3]&#10;Color: (130, 130, 130)\" style=\"width: 20px; height: 20px;background-color: rgb(130, 130, 130);\"></td><td title=\"Index: [0, 4]&#10;Color: (130, 130, 130)\" style=\"width: 20px; height: 20px;background-color: rgb(130, 130, 130);\"></td><td title=\"Index: [0, 5]&#10;Color: (0, 0, 130)\" style=\"width: 20px; height: 20px;background-color: rgb(0, 0, 130);\"></td><td title=\"Index: [0, 6]&#10;Color: (130, 130, 130)\" style=\"width: 20px; height: 20px;background-color: rgb(130, 130, 130);\"></td><td title=\"Index: [0, 7]&#10;Color: (130, 130, 130)\" style=\"width: 20px; height: 20px;background-color: rgb(130, 130, 130);\"></td><td title=\"Index: [0, 8]&#10;Color: (130, 130, 130)\" style=\"width: 20px; height: 20px;background-color: rgb(130, 130, 130);\"></td><td title=\"Index: [0, 9]&#10;Color: (130, 130, 130)\" style=\"width: 20px; height: 20px;background-color: rgb(130, 130, 130);\"></td><td title=\"Index: [0, 10]&#10;Color: (200, 0, 200)\" style=\"width: 20px; height: 20px;background-color: rgb(200, 0, 200);\"></td><td title=\"Index: [0, 11]&#10;Color: (130, 0, 0)\" style=\"width: 20px; height: 20px;background-color: rgb(130, 0, 0);\"></td><td title=\"Index: [0, 12]&#10;Color: (130, 130, 130)\" style=\"width: 20px; height: 20px;background-color: rgb(130, 130, 130);\"></td><td title=\"Index: [0, 13]&#10;Color: (130, 130, 130)\" style=\"width: 20px; height: 20px;background-color: rgb(130, 130, 130);\"></td><td title=\"Index: [0, 14]&#10;Color: (130, 130, 130)\" style=\"width: 20px; height: 20px;background-color: rgb(130, 130, 130);\"></td><td title=\"Index: [0, 15]&#10;Color: (0, 0, 130)\" style=\"width: 20px; height: 20px;background-color: rgb(0, 0, 130);\"></td><td title=\"Index: [0, 16]&#10;Color: (0, 0, 130)\" style=\"width: 20px; height: 20px;background-color: rgb(0, 0, 130);\"></td><td title=\"Index: [0, 17]&#10;Color: (130, 130, 130)\" style=\"width: 20px; height: 20px;background-color: rgb(130, 130, 130);\"></td><td title=\"Index: [0, 18]&#10;Color: (130, 130, 130)\" style=\"width: 20px; height: 20px;background-color: rgb(130, 130, 130);\"></td><td title=\"Index: [0, 19]&#10;Color: (130, 130, 130)\" style=\"width: 20px; height: 20px;background-color: rgb(130, 130, 130);\"></td><td title=\"Index: [0, 20]&#10;Color: (130, 0, 0)\" style=\"width: 20px; height: 20px;background-color: rgb(130, 0, 0);\"></td><td title=\"Index: [0, 21]&#10;Color: (130, 130, 130)\" style=\"width: 20px; height: 20px;background-color: rgb(130, 130, 130);\"></td><td title=\"Index: [0, 22]&#10;Color: (130, 130, 130)\" style=\"width: 20px; height: 20px;background-color: rgb(130, 130, 130);\"></td><td title=\"Index: [0, 23]&#10;Color: (130, 130, 130)\" style=\"width: 20px; height: 20px;background-color: rgb(130, 130, 130);\"></td><td title=\"Index: [0, 24]&#10;Color: (130, 130, 130)\" style=\"width: 20px; height: 20px;background-color: rgb(130, 130, 130);\"></td><td title=\"Index: [0, 25]&#10;Color: (130, 0, 0)\" style=\"width: 20px; height: 20px;background-color: rgb(130, 0, 0);\"></td><td title=\"Index: [0, 26]&#10;Color: (0, 0, 130)\" style=\"width: 20px; height: 20px;background-color: rgb(0, 0, 130);\"></td><td title=\"Index: [0, 27]&#10;Color: (130, 130, 130)\" style=\"width: 20px; height: 20px;background-color: rgb(130, 130, 130);\"></td><td title=\"Index: [0, 28]&#10;Color: (0, 0, 130)\" style=\"width: 20px; height: 20px;background-color: rgb(0, 0, 130);\"></td><td title=\"Index: [0, 29]&#10;Color: (130, 130, 130)\" style=\"width: 20px; height: 20px;background-color: rgb(130, 130, 130);\"></td></tr></tbody></table>",
          "text/plain": "<ipythonblocks.ipythonblocks.BlockGrid at 0x7fa2b44cb908>"
         },
         "metadata": {},
         "output_type": "display_data"
        }
       ]
      }
     },
     "93d675b9cafa450a914d61ed22991bd9": {
      "model_module": "@jupyter-widgets/base",
      "model_module_version": "1.0.0",
      "model_name": "LayoutModel",
      "state": {}
     },
     "94b0401e5e5240ba9e03175aa3f92805": {
      "model_module": "@jupyter-widgets/controls",
      "model_module_version": "1.2.0",
      "model_name": "SliderStyleModel",
      "state": {
       "description_width": ""
      }
     },
     "9505f2810603419dbd4f480d49f564bd": {
      "model_module": "@jupyter-widgets/controls",
      "model_module_version": "1.2.0",
      "model_name": "CheckboxModel",
      "state": {
       "description": "focusEstResident",
       "disabled": false,
       "layout": "IPY_MODEL_06718c9f6e7944f18f57cbbef275bf12",
       "style": "IPY_MODEL_3d9ec99253cc41dcaf3194b8bd85a2d0",
       "value": true
      }
     },
     "950696d2f9bc49308646bfb03b66aef7": {
      "model_module": "@jupyter-widgets/base",
      "model_module_version": "1.0.0",
      "model_name": "LayoutModel",
      "state": {}
     },
     "95b57bb2b0ad4b39accc1cd1425cebf0": {
      "model_module": "@jupyter-widgets/controls",
      "model_module_version": "1.2.0",
      "model_name": "IntSliderModel",
      "state": {
       "description": "tauxMinBoursiersPourcents",
       "layout": "IPY_MODEL_2786ad127b1d4030ab43680563282b01",
       "style": "IPY_MODEL_284422174ae64447ac9fc33705984eca",
       "value": 10
      }
     },
     "9633670393e04072992d470686f5c173": {
      "model_module": "@jupyter-widgets/controls",
      "model_module_version": "1.2.0",
      "model_name": "IntSliderModel",
      "state": {
       "description": "taille",
       "layout": "IPY_MODEL_2d9fe8bacef54312a53377697d0fb192",
       "max": 200,
       "min": 1,
       "style": "IPY_MODEL_0ec38ecd7f1248ca8eaff3776c0d9ec2",
       "value": 30
      }
     },
     "968bfad234e046109706b8cef8803585": {
      "model_module": "@jupyter-widgets/controls",
      "model_module_version": "1.2.0",
      "model_name": "DescriptionStyleModel",
      "state": {
       "description_width": ""
      }
     },
     "96977d84de764d84b3deec10068073bc": {
      "model_module": "@jupyter-widgets/controls",
      "model_module_version": "1.2.0",
      "model_name": "IntSliderModel",
      "state": {
       "description": "tauxBoursiers",
       "layout": "IPY_MODEL_8ac205ba5f8c44ea9320ce811d273c14",
       "style": "IPY_MODEL_4ad7cfdf3a5d4bd483a1c230fc9ba7c7",
       "value": 20
      }
     },
     "96ea8d82e8114e3883318ae525900cf8": {
      "model_module": "@jupyter-widgets/controls",
      "model_module_version": "1.2.0",
      "model_name": "IntSliderModel",
      "state": {
       "description": "tauxMinResidentsPourcents",
       "layout": "IPY_MODEL_a32bfcce1a47426fa8e18635b00f9c07",
       "style": "IPY_MODEL_54ff43cc8449442288c9c98801871492"
      }
     },
     "96f6f7c519534465a2d24e88799ba06d": {
      "model_module": "@jupyter-widgets/base",
      "model_module_version": "1.0.0",
      "model_name": "LayoutModel",
      "state": {}
     },
     "97004c8182df4c81936d78bf6e9b3c5b": {
      "model_module": "@jupyter-widgets/output",
      "model_module_version": "1.0.0",
      "model_name": "OutputModel",
      "state": {
       "layout": "IPY_MODEL_82a7cb5aa412420fb52474d4f8e4a9c5",
       "outputs": [
        {
         "name": "stdout",
         "output_type": "stream",
         "text": "Visualisation de l'algorithme de calcul de l'ordre d'appel.\n1. Vœux non triés par rang :\n"
        },
        {
         "data": {
          "text/html": "<style type=\"text/css\">table.blockgrid {border: none;} .blockgrid tr {border: none;} .blockgrid td {padding: 0px;} #blocksfa8c6301-678e-424d-88b4-f012ff6c85ce td {border: 1px solid white;}</style><table id=\"blocksfa8c6301-678e-424d-88b4-f012ff6c85ce\" class=\"blockgrid\"><tbody><tr><td title=\"Index: [0, 0]&#10;Color: (200, 200, 200)\" style=\"width: 20px; height: 20px;background-color: rgb(200, 200, 200);\"></td><td title=\"Index: [0, 1]&#10;Color: (200, 200, 200)\" style=\"width: 20px; height: 20px;background-color: rgb(200, 200, 200);\"></td><td title=\"Index: [0, 2]&#10;Color: (200, 200, 200)\" style=\"width: 20px; height: 20px;background-color: rgb(200, 200, 200);\"></td><td title=\"Index: [0, 3]&#10;Color: (200, 200, 200)\" style=\"width: 20px; height: 20px;background-color: rgb(200, 200, 200);\"></td><td title=\"Index: [0, 4]&#10;Color: (200, 0, 0)\" style=\"width: 20px; height: 20px;background-color: rgb(200, 0, 0);\"></td><td title=\"Index: [0, 5]&#10;Color: (200, 200, 200)\" style=\"width: 20px; height: 20px;background-color: rgb(200, 200, 200);\"></td><td title=\"Index: [0, 6]&#10;Color: (200, 200, 200)\" style=\"width: 20px; height: 20px;background-color: rgb(200, 200, 200);\"></td><td title=\"Index: [0, 7]&#10;Color: (0, 0, 200)\" style=\"width: 20px; height: 20px;background-color: rgb(0, 0, 200);\"></td><td title=\"Index: [0, 8]&#10;Color: (200, 200, 200)\" style=\"width: 20px; height: 20px;background-color: rgb(200, 200, 200);\"></td><td title=\"Index: [0, 9]&#10;Color: (0, 0, 200)\" style=\"width: 20px; height: 20px;background-color: rgb(0, 0, 200);\"></td><td title=\"Index: [0, 10]&#10;Color: (200, 200, 200)\" style=\"width: 20px; height: 20px;background-color: rgb(200, 200, 200);\"></td><td title=\"Index: [0, 11]&#10;Color: (200, 200, 200)\" style=\"width: 20px; height: 20px;background-color: rgb(200, 200, 200);\"></td><td title=\"Index: [0, 12]&#10;Color: (200, 0, 0)\" style=\"width: 20px; height: 20px;background-color: rgb(200, 0, 0);\"></td><td title=\"Index: [0, 13]&#10;Color: (200, 0, 0)\" style=\"width: 20px; height: 20px;background-color: rgb(200, 0, 0);\"></td><td title=\"Index: [0, 14]&#10;Color: (200, 200, 200)\" style=\"width: 20px; height: 20px;background-color: rgb(200, 200, 200);\"></td><td title=\"Index: [0, 15]&#10;Color: (0, 0, 200)\" style=\"width: 20px; height: 20px;background-color: rgb(0, 0, 200);\"></td><td title=\"Index: [0, 16]&#10;Color: (200, 0, 0)\" style=\"width: 20px; height: 20px;background-color: rgb(200, 0, 0);\"></td><td title=\"Index: [0, 17]&#10;Color: (200, 200, 200)\" style=\"width: 20px; height: 20px;background-color: rgb(200, 200, 200);\"></td><td title=\"Index: [0, 18]&#10;Color: (200, 0, 0)\" style=\"width: 20px; height: 20px;background-color: rgb(200, 0, 0);\"></td><td title=\"Index: [0, 19]&#10;Color: (200, 200, 200)\" style=\"width: 20px; height: 20px;background-color: rgb(200, 200, 200);\"></td><td title=\"Index: [0, 20]&#10;Color: (200, 200, 200)\" style=\"width: 20px; height: 20px;background-color: rgb(200, 200, 200);\"></td><td title=\"Index: [0, 21]&#10;Color: (200, 200, 200)\" style=\"width: 20px; height: 20px;background-color: rgb(200, 200, 200);\"></td><td title=\"Index: [0, 22]&#10;Color: (200, 200, 200)\" style=\"width: 20px; height: 20px;background-color: rgb(200, 200, 200);\"></td><td title=\"Index: [0, 23]&#10;Color: (0, 0, 200)\" style=\"width: 20px; height: 20px;background-color: rgb(0, 0, 200);\"></td><td title=\"Index: [0, 24]&#10;Color: (0, 0, 200)\" style=\"width: 20px; height: 20px;background-color: rgb(0, 0, 200);\"></td><td title=\"Index: [0, 25]&#10;Color: (200, 0, 200)\" style=\"width: 20px; height: 20px;background-color: rgb(200, 0, 200);\"></td><td title=\"Index: [0, 26]&#10;Color: (200, 0, 0)\" style=\"width: 20px; height: 20px;background-color: rgb(200, 0, 0);\"></td><td title=\"Index: [0, 27]&#10;Color: (200, 200, 200)\" style=\"width: 20px; height: 20px;background-color: rgb(200, 200, 200);\"></td><td title=\"Index: [0, 28]&#10;Color: (200, 200, 200)\" style=\"width: 20px; height: 20px;background-color: rgb(200, 200, 200);\"></td><td title=\"Index: [0, 29]&#10;Color: (200, 200, 200)\" style=\"width: 20px; height: 20px;background-color: rgb(200, 200, 200);\"></td><td title=\"Index: [0, 30]&#10;Color: (200, 200, 200)\" style=\"width: 20px; height: 20px;background-color: rgb(200, 200, 200);\"></td><td title=\"Index: [0, 31]&#10;Color: (200, 200, 200)\" style=\"width: 20px; height: 20px;background-color: rgb(200, 200, 200);\"></td><td title=\"Index: [0, 32]&#10;Color: (0, 0, 200)\" style=\"width: 20px; height: 20px;background-color: rgb(0, 0, 200);\"></td><td title=\"Index: [0, 33]&#10;Color: (0, 0, 200)\" style=\"width: 20px; height: 20px;background-color: rgb(0, 0, 200);\"></td><td title=\"Index: [0, 34]&#10;Color: (200, 200, 200)\" style=\"width: 20px; height: 20px;background-color: rgb(200, 200, 200);\"></td><td title=\"Index: [0, 35]&#10;Color: (0, 0, 200)\" style=\"width: 20px; height: 20px;background-color: rgb(0, 0, 200);\"></td><td title=\"Index: [0, 36]&#10;Color: (200, 200, 200)\" style=\"width: 20px; height: 20px;background-color: rgb(200, 200, 200);\"></td><td title=\"Index: [0, 37]&#10;Color: (200, 200, 200)\" style=\"width: 20px; height: 20px;background-color: rgb(200, 200, 200);\"></td><td title=\"Index: [0, 38]&#10;Color: (200, 200, 200)\" style=\"width: 20px; height: 20px;background-color: rgb(200, 200, 200);\"></td><td title=\"Index: [0, 39]&#10;Color: (200, 200, 200)\" style=\"width: 20px; height: 20px;background-color: rgb(200, 200, 200);\"></td><td title=\"Index: [0, 40]&#10;Color: (200, 200, 200)\" style=\"width: 20px; height: 20px;background-color: rgb(200, 200, 200);\"></td><td title=\"Index: [0, 41]&#10;Color: (200, 0, 0)\" style=\"width: 20px; height: 20px;background-color: rgb(200, 0, 0);\"></td><td title=\"Index: [0, 42]&#10;Color: (200, 0, 0)\" style=\"width: 20px; height: 20px;background-color: rgb(200, 0, 0);\"></td><td title=\"Index: [0, 43]&#10;Color: (200, 200, 200)\" style=\"width: 20px; height: 20px;background-color: rgb(200, 200, 200);\"></td><td title=\"Index: [0, 44]&#10;Color: (200, 200, 200)\" style=\"width: 20px; height: 20px;background-color: rgb(200, 200, 200);\"></td><td title=\"Index: [0, 45]&#10;Color: (200, 200, 200)\" style=\"width: 20px; height: 20px;background-color: rgb(200, 200, 200);\"></td><td title=\"Index: [0, 46]&#10;Color: (200, 200, 200)\" style=\"width: 20px; height: 20px;background-color: rgb(200, 200, 200);\"></td><td title=\"Index: [0, 47]&#10;Color: (200, 200, 200)\" style=\"width: 20px; height: 20px;background-color: rgb(200, 200, 200);\"></td><td title=\"Index: [0, 48]&#10;Color: (200, 0, 0)\" style=\"width: 20px; height: 20px;background-color: rgb(200, 0, 0);\"></td><td title=\"Index: [0, 49]&#10;Color: (200, 200, 200)\" style=\"width: 20px; height: 20px;background-color: rgb(200, 200, 200);\"></td><td title=\"Index: [0, 50]&#10;Color: (200, 200, 200)\" style=\"width: 20px; height: 20px;background-color: rgb(200, 200, 200);\"></td><td title=\"Index: [0, 51]&#10;Color: (255, 255, 255)\" style=\"width: 20px; height: 20px;background-color: rgb(255, 255, 255);\"></td><td title=\"Index: [0, 52]&#10;Color: (200, 200, 200)\" style=\"width: 20px; height: 20px;background-color: rgb(200, 200, 200);\"></td><td title=\"Index: [0, 53]&#10;Color: (200, 0, 0)\" style=\"width: 20px; height: 20px;background-color: rgb(200, 0, 0);\"></td><td title=\"Index: [0, 54]&#10;Color: (200, 200, 200)\" style=\"width: 20px; height: 20px;background-color: rgb(200, 200, 200);\"></td><td title=\"Index: [0, 55]&#10;Color: (200, 0, 0)\" style=\"width: 20px; height: 20px;background-color: rgb(200, 0, 0);\"></td><td title=\"Index: [0, 56]&#10;Color: (200, 200, 200)\" style=\"width: 20px; height: 20px;background-color: rgb(200, 200, 200);\"></td><td title=\"Index: [0, 57]&#10;Color: (200, 200, 200)\" style=\"width: 20px; height: 20px;background-color: rgb(200, 200, 200);\"></td><td title=\"Index: [0, 58]&#10;Color: (200, 0, 200)\" style=\"width: 20px; height: 20px;background-color: rgb(200, 0, 200);\"></td><td title=\"Index: [0, 59]&#10;Color: (200, 200, 200)\" style=\"width: 20px; height: 20px;background-color: rgb(200, 200, 200);\"></td><td title=\"Index: [0, 60]&#10;Color: (200, 200, 200)\" style=\"width: 20px; height: 20px;background-color: rgb(200, 200, 200);\"></td><td title=\"Index: [0, 61]&#10;Color: (200, 200, 200)\" style=\"width: 20px; height: 20px;background-color: rgb(200, 200, 200);\"></td><td title=\"Index: [0, 62]&#10;Color: (0, 0, 200)\" style=\"width: 20px; height: 20px;background-color: rgb(0, 0, 200);\"></td><td title=\"Index: [0, 63]&#10;Color: (0, 0, 200)\" style=\"width: 20px; height: 20px;background-color: rgb(0, 0, 200);\"></td><td title=\"Index: [0, 64]&#10;Color: (200, 0, 0)\" style=\"width: 20px; height: 20px;background-color: rgb(200, 0, 0);\"></td><td title=\"Index: [0, 65]&#10;Color: (200, 200, 200)\" style=\"width: 20px; height: 20px;background-color: rgb(200, 200, 200);\"></td><td title=\"Index: [0, 66]&#10;Color: (200, 200, 200)\" style=\"width: 20px; height: 20px;background-color: rgb(200, 200, 200);\"></td><td title=\"Index: [0, 67]&#10;Color: (0, 0, 200)\" style=\"width: 20px; height: 20px;background-color: rgb(0, 0, 200);\"></td><td title=\"Index: [0, 68]&#10;Color: (0, 0, 200)\" style=\"width: 20px; height: 20px;background-color: rgb(0, 0, 200);\"></td><td title=\"Index: [0, 69]&#10;Color: (200, 200, 200)\" style=\"width: 20px; height: 20px;background-color: rgb(200, 200, 200);\"></td></tr></tbody></table>",
          "text/plain": "<ipythonblocks.ipythonblocks.BlockGrid at 0x7fa2b4596a90>"
         },
         "metadata": {},
         "output_type": "display_data"
        },
        {
         "name": "stdout",
         "output_type": "stream",
         "text": "2. Vœux triés par rang, mais pas par l'algorithme :\n"
        },
        {
         "data": {
          "text/html": "<style type=\"text/css\">table.blockgrid {border: none;} .blockgrid tr {border: none;} .blockgrid td {padding: 0px;} #blocks53eab648-38b1-4b7e-850d-c4a427f25e22 td {border: 1px solid white;}</style><table id=\"blocks53eab648-38b1-4b7e-850d-c4a427f25e22\" class=\"blockgrid\"><tbody><tr><td title=\"Index: [0, 0]&#10;Color: (200, 200, 200)\" style=\"width: 20px; height: 20px;background-color: rgb(200, 200, 200);\"></td><td title=\"Index: [0, 1]&#10;Color: (200, 0, 0)\" style=\"width: 20px; height: 20px;background-color: rgb(200, 0, 0);\"></td><td title=\"Index: [0, 2]&#10;Color: (0, 0, 200)\" style=\"width: 20px; height: 20px;background-color: rgb(0, 0, 200);\"></td><td title=\"Index: [0, 3]&#10;Color: (200, 200, 200)\" style=\"width: 20px; height: 20px;background-color: rgb(200, 200, 200);\"></td><td title=\"Index: [0, 4]&#10;Color: (200, 0, 0)\" style=\"width: 20px; height: 20px;background-color: rgb(200, 0, 0);\"></td><td title=\"Index: [0, 5]&#10;Color: (0, 0, 200)\" style=\"width: 20px; height: 20px;background-color: rgb(0, 0, 200);\"></td><td title=\"Index: [0, 6]&#10;Color: (200, 200, 200)\" style=\"width: 20px; height: 20px;background-color: rgb(200, 200, 200);\"></td><td title=\"Index: [0, 7]&#10;Color: (200, 0, 0)\" style=\"width: 20px; height: 20px;background-color: rgb(200, 0, 0);\"></td><td title=\"Index: [0, 8]&#10;Color: (200, 200, 200)\" style=\"width: 20px; height: 20px;background-color: rgb(200, 200, 200);\"></td><td title=\"Index: [0, 9]&#10;Color: (200, 200, 200)\" style=\"width: 20px; height: 20px;background-color: rgb(200, 200, 200);\"></td><td title=\"Index: [0, 10]&#10;Color: (200, 200, 200)\" style=\"width: 20px; height: 20px;background-color: rgb(200, 200, 200);\"></td><td title=\"Index: [0, 11]&#10;Color: (200, 0, 200)\" style=\"width: 20px; height: 20px;background-color: rgb(200, 0, 200);\"></td><td title=\"Index: [0, 12]&#10;Color: (0, 0, 200)\" style=\"width: 20px; height: 20px;background-color: rgb(0, 0, 200);\"></td><td title=\"Index: [0, 13]&#10;Color: (200, 200, 200)\" style=\"width: 20px; height: 20px;background-color: rgb(200, 200, 200);\"></td><td title=\"Index: [0, 14]&#10;Color: (200, 200, 200)\" style=\"width: 20px; height: 20px;background-color: rgb(200, 200, 200);\"></td><td title=\"Index: [0, 15]&#10;Color: (200, 200, 200)\" style=\"width: 20px; height: 20px;background-color: rgb(200, 200, 200);\"></td><td title=\"Index: [0, 16]&#10;Color: (200, 0, 0)\" style=\"width: 20px; height: 20px;background-color: rgb(200, 0, 0);\"></td><td title=\"Index: [0, 17]&#10;Color: (200, 200, 200)\" style=\"width: 20px; height: 20px;background-color: rgb(200, 200, 200);\"></td><td title=\"Index: [0, 18]&#10;Color: (200, 0, 200)\" style=\"width: 20px; height: 20px;background-color: rgb(200, 0, 200);\"></td><td title=\"Index: [0, 19]&#10;Color: (200, 0, 0)\" style=\"width: 20px; height: 20px;background-color: rgb(200, 0, 0);\"></td><td title=\"Index: [0, 20]&#10;Color: (200, 0, 0)\" style=\"width: 20px; height: 20px;background-color: rgb(200, 0, 0);\"></td><td title=\"Index: [0, 21]&#10;Color: (200, 200, 200)\" style=\"width: 20px; height: 20px;background-color: rgb(200, 200, 200);\"></td><td title=\"Index: [0, 22]&#10;Color: (200, 200, 200)\" style=\"width: 20px; height: 20px;background-color: rgb(200, 200, 200);\"></td><td title=\"Index: [0, 23]&#10;Color: (200, 200, 200)\" style=\"width: 20px; height: 20px;background-color: rgb(200, 200, 200);\"></td><td title=\"Index: [0, 24]&#10;Color: (0, 0, 200)\" style=\"width: 20px; height: 20px;background-color: rgb(0, 0, 200);\"></td><td title=\"Index: [0, 25]&#10;Color: (200, 200, 200)\" style=\"width: 20px; height: 20px;background-color: rgb(200, 200, 200);\"></td><td title=\"Index: [0, 26]&#10;Color: (200, 200, 200)\" style=\"width: 20px; height: 20px;background-color: rgb(200, 200, 200);\"></td><td title=\"Index: [0, 27]&#10;Color: (200, 200, 200)\" style=\"width: 20px; height: 20px;background-color: rgb(200, 200, 200);\"></td><td title=\"Index: [0, 28]&#10;Color: (200, 200, 200)\" style=\"width: 20px; height: 20px;background-color: rgb(200, 200, 200);\"></td><td title=\"Index: [0, 29]&#10;Color: (200, 200, 200)\" style=\"width: 20px; height: 20px;background-color: rgb(200, 200, 200);\"></td><td title=\"Index: [0, 30]&#10;Color: (200, 200, 200)\" style=\"width: 20px; height: 20px;background-color: rgb(200, 200, 200);\"></td><td title=\"Index: [0, 31]&#10;Color: (0, 0, 200)\" style=\"width: 20px; height: 20px;background-color: rgb(0, 0, 200);\"></td><td title=\"Index: [0, 32]&#10;Color: (200, 0, 0)\" style=\"width: 20px; height: 20px;background-color: rgb(200, 0, 0);\"></td><td title=\"Index: [0, 33]&#10;Color: (0, 0, 200)\" style=\"width: 20px; height: 20px;background-color: rgb(0, 0, 200);\"></td><td title=\"Index: [0, 34]&#10;Color: (200, 200, 200)\" style=\"width: 20px; height: 20px;background-color: rgb(200, 200, 200);\"></td><td title=\"Index: [0, 35]&#10;Color: (0, 0, 200)\" style=\"width: 20px; height: 20px;background-color: rgb(0, 0, 200);\"></td><td title=\"Index: [0, 36]&#10;Color: (200, 0, 0)\" style=\"width: 20px; height: 20px;background-color: rgb(200, 0, 0);\"></td><td title=\"Index: [0, 37]&#10;Color: (0, 0, 200)\" style=\"width: 20px; height: 20px;background-color: rgb(0, 0, 200);\"></td><td title=\"Index: [0, 38]&#10;Color: (200, 200, 200)\" style=\"width: 20px; height: 20px;background-color: rgb(200, 200, 200);\"></td><td title=\"Index: [0, 39]&#10;Color: (200, 0, 0)\" style=\"width: 20px; height: 20px;background-color: rgb(200, 0, 0);\"></td><td title=\"Index: [0, 40]&#10;Color: (200, 200, 200)\" style=\"width: 20px; height: 20px;background-color: rgb(200, 200, 200);\"></td><td title=\"Index: [0, 41]&#10;Color: (200, 200, 200)\" style=\"width: 20px; height: 20px;background-color: rgb(200, 200, 200);\"></td><td title=\"Index: [0, 42]&#10;Color: (0, 0, 200)\" style=\"width: 20px; height: 20px;background-color: rgb(0, 0, 200);\"></td><td title=\"Index: [0, 43]&#10;Color: (200, 200, 200)\" style=\"width: 20px; height: 20px;background-color: rgb(200, 200, 200);\"></td><td title=\"Index: [0, 44]&#10;Color: (200, 200, 200)\" style=\"width: 20px; height: 20px;background-color: rgb(200, 200, 200);\"></td><td title=\"Index: [0, 45]&#10;Color: (200, 200, 200)\" style=\"width: 20px; height: 20px;background-color: rgb(200, 200, 200);\"></td><td title=\"Index: [0, 46]&#10;Color: (200, 200, 200)\" style=\"width: 20px; height: 20px;background-color: rgb(200, 200, 200);\"></td><td title=\"Index: [0, 47]&#10;Color: (200, 0, 0)\" style=\"width: 20px; height: 20px;background-color: rgb(200, 0, 0);\"></td><td title=\"Index: [0, 48]&#10;Color: (200, 200, 200)\" style=\"width: 20px; height: 20px;background-color: rgb(200, 200, 200);\"></td><td title=\"Index: [0, 49]&#10;Color: (200, 200, 200)\" style=\"width: 20px; height: 20px;background-color: rgb(200, 200, 200);\"></td><td title=\"Index: [0, 50]&#10;Color: (200, 0, 0)\" style=\"width: 20px; height: 20px;background-color: rgb(200, 0, 0);\"></td><td title=\"Index: [0, 51]&#10;Color: (200, 200, 200)\" style=\"width: 20px; height: 20px;background-color: rgb(200, 200, 200);\"></td><td title=\"Index: [0, 52]&#10;Color: (0, 0, 200)\" style=\"width: 20px; height: 20px;background-color: rgb(0, 0, 200);\"></td><td title=\"Index: [0, 53]&#10;Color: (200, 200, 200)\" style=\"width: 20px; height: 20px;background-color: rgb(200, 200, 200);\"></td><td title=\"Index: [0, 54]&#10;Color: (200, 200, 200)\" style=\"width: 20px; height: 20px;background-color: rgb(200, 200, 200);\"></td><td title=\"Index: [0, 55]&#10;Color: (200, 200, 200)\" style=\"width: 20px; height: 20px;background-color: rgb(200, 200, 200);\"></td><td title=\"Index: [0, 56]&#10;Color: (200, 200, 200)\" style=\"width: 20px; height: 20px;background-color: rgb(200, 200, 200);\"></td><td title=\"Index: [0, 57]&#10;Color: (0, 0, 200)\" style=\"width: 20px; height: 20px;background-color: rgb(0, 0, 200);\"></td><td title=\"Index: [0, 58]&#10;Color: (200, 200, 200)\" style=\"width: 20px; height: 20px;background-color: rgb(200, 200, 200);\"></td><td title=\"Index: [0, 59]&#10;Color: (200, 200, 200)\" style=\"width: 20px; height: 20px;background-color: rgb(200, 200, 200);\"></td><td title=\"Index: [0, 60]&#10;Color: (0, 0, 200)\" style=\"width: 20px; height: 20px;background-color: rgb(0, 0, 200);\"></td><td title=\"Index: [0, 61]&#10;Color: (200, 200, 200)\" style=\"width: 20px; height: 20px;background-color: rgb(200, 200, 200);\"></td><td title=\"Index: [0, 62]&#10;Color: (200, 200, 200)\" style=\"width: 20px; height: 20px;background-color: rgb(200, 200, 200);\"></td><td title=\"Index: [0, 63]&#10;Color: (200, 200, 200)\" style=\"width: 20px; height: 20px;background-color: rgb(200, 200, 200);\"></td><td title=\"Index: [0, 64]&#10;Color: (200, 0, 0)\" style=\"width: 20px; height: 20px;background-color: rgb(200, 0, 0);\"></td><td title=\"Index: [0, 65]&#10;Color: (200, 200, 200)\" style=\"width: 20px; height: 20px;background-color: rgb(200, 200, 200);\"></td><td title=\"Index: [0, 66]&#10;Color: (255, 255, 255)\" style=\"width: 20px; height: 20px;background-color: rgb(255, 255, 255);\"></td><td title=\"Index: [0, 67]&#10;Color: (200, 200, 200)\" style=\"width: 20px; height: 20px;background-color: rgb(200, 200, 200);\"></td><td title=\"Index: [0, 68]&#10;Color: (200, 200, 200)\" style=\"width: 20px; height: 20px;background-color: rgb(200, 200, 200);\"></td><td title=\"Index: [0, 69]&#10;Color: (200, 200, 200)\" style=\"width: 20px; height: 20px;background-color: rgb(200, 200, 200);\"></td></tr></tbody></table>",
          "text/plain": "<ipythonblocks.ipythonblocks.BlockGrid at 0x7fa2b45967f0>"
         },
         "metadata": {},
         "output_type": "display_data"
        },
        {
         "name": "stdout",
         "output_type": "stream",
         "text": "3. Vœux triés par l'algorithme :\n"
        },
        {
         "data": {
          "text/html": "<style type=\"text/css\">table.blockgrid {border: none;} .blockgrid tr {border: none;} .blockgrid td {padding: 0px;} #blocks7ae86910-89a4-4f55-a775-dffd4afb8022 td {border: 1px solid white;}</style><table id=\"blocks7ae86910-89a4-4f55-a775-dffd4afb8022\" class=\"blockgrid\"><tbody><tr><td title=\"Index: [0, 0]&#10;Color: (200, 0, 0)\" style=\"width: 20px; height: 20px;background-color: rgb(200, 0, 0);\"></td><td title=\"Index: [0, 1]&#10;Color: (200, 200, 200)\" style=\"width: 20px; height: 20px;background-color: rgb(200, 200, 200);\"></td><td title=\"Index: [0, 2]&#10;Color: (200, 200, 200)\" style=\"width: 20px; height: 20px;background-color: rgb(200, 200, 200);\"></td><td title=\"Index: [0, 3]&#10;Color: (200, 200, 200)\" style=\"width: 20px; height: 20px;background-color: rgb(200, 200, 200);\"></td><td title=\"Index: [0, 4]&#10;Color: (255, 255, 255)\" style=\"width: 20px; height: 20px;background-color: rgb(255, 255, 255);\"></td><td title=\"Index: [0, 5]&#10;Color: (200, 200, 200)\" style=\"width: 20px; height: 20px;background-color: rgb(200, 200, 200);\"></td><td title=\"Index: [0, 6]&#10;Color: (200, 200, 200)\" style=\"width: 20px; height: 20px;background-color: rgb(200, 200, 200);\"></td><td title=\"Index: [0, 7]&#10;Color: (200, 200, 200)\" style=\"width: 20px; height: 20px;background-color: rgb(200, 200, 200);\"></td><td title=\"Index: [0, 8]&#10;Color: (200, 200, 200)\" style=\"width: 20px; height: 20px;background-color: rgb(200, 200, 200);\"></td><td title=\"Index: [0, 9]&#10;Color: (0, 0, 200)\" style=\"width: 20px; height: 20px;background-color: rgb(0, 0, 200);\"></td><td title=\"Index: [0, 10]&#10;Color: (200, 0, 0)\" style=\"width: 20px; height: 20px;background-color: rgb(200, 0, 0);\"></td><td title=\"Index: [0, 11]&#10;Color: (200, 200, 200)\" style=\"width: 20px; height: 20px;background-color: rgb(200, 200, 200);\"></td><td title=\"Index: [0, 12]&#10;Color: (200, 200, 200)\" style=\"width: 20px; height: 20px;background-color: rgb(200, 200, 200);\"></td><td title=\"Index: [0, 13]&#10;Color: (0, 0, 200)\" style=\"width: 20px; height: 20px;background-color: rgb(0, 0, 200);\"></td><td title=\"Index: [0, 14]&#10;Color: (200, 200, 200)\" style=\"width: 20px; height: 20px;background-color: rgb(200, 200, 200);\"></td><td title=\"Index: [0, 15]&#10;Color: (200, 200, 200)\" style=\"width: 20px; height: 20px;background-color: rgb(200, 200, 200);\"></td><td title=\"Index: [0, 16]&#10;Color: (200, 200, 200)\" style=\"width: 20px; height: 20px;background-color: rgb(200, 200, 200);\"></td><td title=\"Index: [0, 17]&#10;Color: (200, 200, 200)\" style=\"width: 20px; height: 20px;background-color: rgb(200, 200, 200);\"></td><td title=\"Index: [0, 18]&#10;Color: (0, 0, 200)\" style=\"width: 20px; height: 20px;background-color: rgb(0, 0, 200);\"></td><td title=\"Index: [0, 19]&#10;Color: (200, 200, 200)\" style=\"width: 20px; height: 20px;background-color: rgb(200, 200, 200);\"></td><td title=\"Index: [0, 20]&#10;Color: (200, 0, 0)\" style=\"width: 20px; height: 20px;background-color: rgb(200, 0, 0);\"></td><td title=\"Index: [0, 21]&#10;Color: (200, 200, 200)\" style=\"width: 20px; height: 20px;background-color: rgb(200, 200, 200);\"></td><td title=\"Index: [0, 22]&#10;Color: (200, 200, 200)\" style=\"width: 20px; height: 20px;background-color: rgb(200, 200, 200);\"></td><td title=\"Index: [0, 23]&#10;Color: (200, 200, 200)\" style=\"width: 20px; height: 20px;background-color: rgb(200, 200, 200);\"></td><td title=\"Index: [0, 24]&#10;Color: (200, 200, 200)\" style=\"width: 20px; height: 20px;background-color: rgb(200, 200, 200);\"></td><td title=\"Index: [0, 25]&#10;Color: (200, 200, 200)\" style=\"width: 20px; height: 20px;background-color: rgb(200, 200, 200);\"></td><td title=\"Index: [0, 26]&#10;Color: (200, 200, 200)\" style=\"width: 20px; height: 20px;background-color: rgb(200, 200, 200);\"></td><td title=\"Index: [0, 27]&#10;Color: (0, 0, 200)\" style=\"width: 20px; height: 20px;background-color: rgb(0, 0, 200);\"></td><td title=\"Index: [0, 28]&#10;Color: (200, 200, 200)\" style=\"width: 20px; height: 20px;background-color: rgb(200, 200, 200);\"></td><td title=\"Index: [0, 29]&#10;Color: (200, 200, 200)\" style=\"width: 20px; height: 20px;background-color: rgb(200, 200, 200);\"></td><td title=\"Index: [0, 30]&#10;Color: (200, 0, 0)\" style=\"width: 20px; height: 20px;background-color: rgb(200, 0, 0);\"></td><td title=\"Index: [0, 31]&#10;Color: (200, 200, 200)\" style=\"width: 20px; height: 20px;background-color: rgb(200, 200, 200);\"></td><td title=\"Index: [0, 32]&#10;Color: (0, 0, 200)\" style=\"width: 20px; height: 20px;background-color: rgb(0, 0, 200);\"></td><td title=\"Index: [0, 33]&#10;Color: (200, 0, 0)\" style=\"width: 20px; height: 20px;background-color: rgb(200, 0, 0);\"></td><td title=\"Index: [0, 34]&#10;Color: (0, 0, 200)\" style=\"width: 20px; height: 20px;background-color: rgb(0, 0, 200);\"></td><td title=\"Index: [0, 35]&#10;Color: (200, 200, 200)\" style=\"width: 20px; height: 20px;background-color: rgb(200, 200, 200);\"></td><td title=\"Index: [0, 36]&#10;Color: (0, 0, 200)\" style=\"width: 20px; height: 20px;background-color: rgb(0, 0, 200);\"></td><td title=\"Index: [0, 37]&#10;Color: (200, 0, 0)\" style=\"width: 20px; height: 20px;background-color: rgb(200, 0, 0);\"></td><td title=\"Index: [0, 38]&#10;Color: (0, 0, 200)\" style=\"width: 20px; height: 20px;background-color: rgb(0, 0, 200);\"></td><td title=\"Index: [0, 39]&#10;Color: (200, 200, 200)\" style=\"width: 20px; height: 20px;background-color: rgb(200, 200, 200);\"></td><td title=\"Index: [0, 40]&#10;Color: (200, 200, 200)\" style=\"width: 20px; height: 20px;background-color: rgb(200, 200, 200);\"></td><td title=\"Index: [0, 41]&#10;Color: (200, 200, 200)\" style=\"width: 20px; height: 20px;background-color: rgb(200, 200, 200);\"></td><td title=\"Index: [0, 42]&#10;Color: (200, 200, 200)\" style=\"width: 20px; height: 20px;background-color: rgb(200, 200, 200);\"></td><td title=\"Index: [0, 43]&#10;Color: (200, 200, 200)\" style=\"width: 20px; height: 20px;background-color: rgb(200, 200, 200);\"></td><td title=\"Index: [0, 44]&#10;Color: (200, 200, 200)\" style=\"width: 20px; height: 20px;background-color: rgb(200, 200, 200);\"></td><td title=\"Index: [0, 45]&#10;Color: (0, 0, 200)\" style=\"width: 20px; height: 20px;background-color: rgb(0, 0, 200);\"></td><td title=\"Index: [0, 46]&#10;Color: (200, 200, 200)\" style=\"width: 20px; height: 20px;background-color: rgb(200, 200, 200);\"></td><td title=\"Index: [0, 47]&#10;Color: (200, 200, 200)\" style=\"width: 20px; height: 20px;background-color: rgb(200, 200, 200);\"></td><td title=\"Index: [0, 48]&#10;Color: (200, 200, 200)\" style=\"width: 20px; height: 20px;background-color: rgb(200, 200, 200);\"></td><td title=\"Index: [0, 49]&#10;Color: (200, 0, 0)\" style=\"width: 20px; height: 20px;background-color: rgb(200, 0, 0);\"></td><td title=\"Index: [0, 50]&#10;Color: (200, 0, 0)\" style=\"width: 20px; height: 20px;background-color: rgb(200, 0, 0);\"></td><td title=\"Index: [0, 51]&#10;Color: (200, 0, 200)\" style=\"width: 20px; height: 20px;background-color: rgb(200, 0, 200);\"></td><td title=\"Index: [0, 52]&#10;Color: (200, 200, 200)\" style=\"width: 20px; height: 20px;background-color: rgb(200, 200, 200);\"></td><td title=\"Index: [0, 53]&#10;Color: (200, 0, 0)\" style=\"width: 20px; height: 20px;background-color: rgb(200, 0, 0);\"></td><td title=\"Index: [0, 54]&#10;Color: (200, 200, 200)\" style=\"width: 20px; height: 20px;background-color: rgb(200, 200, 200);\"></td><td title=\"Index: [0, 55]&#10;Color: (200, 200, 200)\" style=\"width: 20px; height: 20px;background-color: rgb(200, 200, 200);\"></td><td title=\"Index: [0, 56]&#10;Color: (200, 200, 200)\" style=\"width: 20px; height: 20px;background-color: rgb(200, 200, 200);\"></td><td title=\"Index: [0, 57]&#10;Color: (0, 0, 200)\" style=\"width: 20px; height: 20px;background-color: rgb(0, 0, 200);\"></td><td title=\"Index: [0, 58]&#10;Color: (200, 0, 200)\" style=\"width: 20px; height: 20px;background-color: rgb(200, 0, 200);\"></td><td title=\"Index: [0, 59]&#10;Color: (200, 200, 200)\" style=\"width: 20px; height: 20px;background-color: rgb(200, 200, 200);\"></td><td title=\"Index: [0, 60]&#10;Color: (200, 200, 200)\" style=\"width: 20px; height: 20px;background-color: rgb(200, 200, 200);\"></td><td title=\"Index: [0, 61]&#10;Color: (200, 200, 200)\" style=\"width: 20px; height: 20px;background-color: rgb(200, 200, 200);\"></td><td title=\"Index: [0, 62]&#10;Color: (200, 0, 0)\" style=\"width: 20px; height: 20px;background-color: rgb(200, 0, 0);\"></td><td title=\"Index: [0, 63]&#10;Color: (200, 200, 200)\" style=\"width: 20px; height: 20px;background-color: rgb(200, 200, 200);\"></td><td title=\"Index: [0, 64]&#10;Color: (0, 0, 200)\" style=\"width: 20px; height: 20px;background-color: rgb(0, 0, 200);\"></td><td title=\"Index: [0, 65]&#10;Color: (200, 0, 0)\" style=\"width: 20px; height: 20px;background-color: rgb(200, 0, 0);\"></td><td title=\"Index: [0, 66]&#10;Color: (200, 200, 200)\" style=\"width: 20px; height: 20px;background-color: rgb(200, 200, 200);\"></td><td title=\"Index: [0, 67]&#10;Color: (0, 0, 200)\" style=\"width: 20px; height: 20px;background-color: rgb(0, 0, 200);\"></td><td title=\"Index: [0, 68]&#10;Color: (200, 0, 0)\" style=\"width: 20px; height: 20px;background-color: rgb(200, 0, 0);\"></td><td title=\"Index: [0, 69]&#10;Color: (200, 200, 200)\" style=\"width: 20px; height: 20px;background-color: rgb(200, 200, 200);\"></td></tr></tbody></table>",
          "text/plain": "<ipythonblocks.ipythonblocks.BlockGrid at 0x7fa2c0829f60>"
         },
         "metadata": {},
         "output_type": "display_data"
        }
       ]
      }
     },
     "97460d4cf34c4c568a7599e50ab7c551": {
      "model_module": "@jupyter-widgets/base",
      "model_module_version": "1.0.0",
      "model_name": "LayoutModel",
      "state": {}
     },
     "97a32e60a6224bc884bc0e74641298a9": {
      "model_module": "@jupyter-widgets/controls",
      "model_module_version": "1.2.0",
      "model_name": "SliderStyleModel",
      "state": {
       "description_width": ""
      }
     },
     "97b788edbf354dafa416672072d7848a": {
      "model_module": "@jupyter-widgets/base",
      "model_module_version": "1.0.0",
      "model_name": "LayoutModel",
      "state": {}
     },
     "97d5d9513cd145209e150e74f58ee905": {
      "model_module": "@jupyter-widgets/controls",
      "model_module_version": "1.2.0",
      "model_name": "IntSliderModel",
      "state": {
       "description": "tauxMinResidentsPourcents",
       "layout": "IPY_MODEL_34067c3caf4e4ed29d9d6e3a52f2ce31",
       "style": "IPY_MODEL_3f96cd79670c49388c55ebcee299ffd1",
       "value": 10
      }
     },
     "97ea4a79ba0f428c87880fb6806da09c": {
      "model_module": "@jupyter-widgets/base",
      "model_module_version": "1.0.0",
      "model_name": "LayoutModel",
      "state": {}
     },
     "97f7ed7762e148b79d32a6ac67effd37": {
      "model_module": "@jupyter-widgets/base",
      "model_module_version": "1.0.0",
      "model_name": "LayoutModel",
      "state": {}
     },
     "9866748939da470b80a4ae3bb7dde794": {
      "model_module": "@jupyter-widgets/base",
      "model_module_version": "1.0.0",
      "model_name": "LayoutModel",
      "state": {}
     },
     "989a62fc42344183a1c8fe525f997b49": {
      "model_module": "@jupyter-widgets/base",
      "model_module_version": "1.0.0",
      "model_name": "LayoutModel",
      "state": {}
     },
     "98fe1fb97811426f8491bfb1c90e2459": {
      "model_module": "@jupyter-widgets/controls",
      "model_module_version": "1.2.0",
      "model_name": "SliderStyleModel",
      "state": {
       "description_width": ""
      }
     },
     "994033cb1d714f2f877765cd16e4de5f": {
      "model_module": "@jupyter-widgets/base",
      "model_module_version": "1.0.0",
      "model_name": "LayoutModel",
      "state": {}
     },
     "99f5aa309b0b486089c00efbc7e353f6": {
      "model_module": "@jupyter-widgets/controls",
      "model_module_version": "1.2.0",
      "model_name": "IntSliderModel",
      "state": {
       "description": "tauxMinResidentsPourcents",
       "layout": "IPY_MODEL_dbda85dea9cd41d8a08fbe2c1a9da8ce",
       "style": "IPY_MODEL_b6c041f66bce4e6f8d812b980fcb983f"
      }
     },
     "9a264cd09e1c42d6a52c3a954428695f": {
      "model_module": "@jupyter-widgets/controls",
      "model_module_version": "1.2.0",
      "model_name": "SliderStyleModel",
      "state": {
       "description_width": ""
      }
     },
     "9a9bb5abf7764ad8a14147ea685e3d0e": {
      "model_module": "@jupyter-widgets/base",
      "model_module_version": "1.0.0",
      "model_name": "LayoutModel",
      "state": {}
     },
     "9aa85c42ae584469b0dbf18cce10b9bb": {
      "model_module": "@jupyter-widgets/controls",
      "model_module_version": "1.2.0",
      "model_name": "VBoxModel",
      "state": {
       "_dom_classes": [
        "widget-interact"
       ],
       "children": [
        "IPY_MODEL_8d4577996f944039800a02c9a1aeefe1",
        "IPY_MODEL_cf7e16625184456e881f99c0e83d9053",
        "IPY_MODEL_fbe91de6ec2748f686058807048d9442",
        "IPY_MODEL_843636ff2c774a928aa8c19ae501bf47",
        "IPY_MODEL_9afb55611cd344eea382547620f08253",
        "IPY_MODEL_4144f8c7aeb640c283086cdce5729710",
        "IPY_MODEL_bfb593ab490f4abc88be177a2edac171"
       ],
       "layout": "IPY_MODEL_843705d5f6194bdea59432bd5032d475"
      }
     },
     "9abcbd3fdfae44f3b68261cc9acd8eff": {
      "model_module": "@jupyter-widgets/base",
      "model_module_version": "1.0.0",
      "model_name": "LayoutModel",
      "state": {}
     },
     "9ae1acba986241bca65f63e02efa587f": {
      "model_module": "@jupyter-widgets/base",
      "model_module_version": "1.0.0",
      "model_name": "LayoutModel",
      "state": {}
     },
     "9afb55611cd344eea382547620f08253": {
      "model_module": "@jupyter-widgets/controls",
      "model_module_version": "1.2.0",
      "model_name": "IntSliderModel",
      "state": {
       "description": "tauxMinBoursiersPourcents",
       "layout": "IPY_MODEL_e1f6bff6b8004a4ea59d383521fedfc6",
       "style": "IPY_MODEL_a8b04458efbf4bc5bda46e73abb538d7",
       "value": 20
      }
     },
     "9b5183742ff540fe85eb189ff743c7a2": {
      "model_module": "@jupyter-widgets/controls",
      "model_module_version": "1.2.0",
      "model_name": "VBoxModel",
      "state": {
       "_dom_classes": [
        "widget-interact"
       ],
       "children": [
        "IPY_MODEL_675f2216ba4946ccbc6313634b08221e",
        "IPY_MODEL_9f4f78c58ee34ef4bff537ee277ff593",
        "IPY_MODEL_afbb3e06d72545618775d56684589b6c",
        "IPY_MODEL_3bc5eb08a1fb4c0b9a89ef7f8ac90d62",
        "IPY_MODEL_f8eaaca202484e5c995626a186b5a21a",
        "IPY_MODEL_c962546fd7974416866649a28cd86918",
        "IPY_MODEL_75dd571b9ad74b0a81a8e9d76ef62fa5"
       ],
       "layout": "IPY_MODEL_950696d2f9bc49308646bfb03b66aef7"
      }
     },
     "9c16a4e90a6e4ba6a4cd9f92cfe43554": {
      "model_module": "@jupyter-widgets/output",
      "model_module_version": "1.0.0",
      "model_name": "OutputModel",
      "state": {
       "layout": "IPY_MODEL_666475b0ed7047698f2386edec8e53bf",
       "outputs": [
        {
         "name": "stdout",
         "output_type": "stream",
         "text": "Visualisation de l'algorithme de calcul de l'ordre d'appel.\n1. Vœux non triés par rang :\n"
        },
        {
         "data": {
          "text/html": "<style type=\"text/css\">table.blockgrid {border: none;} .blockgrid tr {border: none;} .blockgrid td {padding: 0px;} #blocks54196210-af1c-490b-929f-306f83d62dcf td {border: 1px solid white;}</style><table id=\"blocks54196210-af1c-490b-929f-306f83d62dcf\" class=\"blockgrid\"><tbody><tr><td title=\"Index: [0, 0]&#10;Color: (200, 200, 200)\" style=\"width: 20px; height: 20px;background-color: rgb(200, 200, 200);\"></td><td title=\"Index: [0, 1]&#10;Color: (200, 200, 200)\" style=\"width: 20px; height: 20px;background-color: rgb(200, 200, 200);\"></td><td title=\"Index: [0, 2]&#10;Color: (200, 200, 200)\" style=\"width: 20px; height: 20px;background-color: rgb(200, 200, 200);\"></td><td title=\"Index: [0, 3]&#10;Color: (200, 200, 200)\" style=\"width: 20px; height: 20px;background-color: rgb(200, 200, 200);\"></td><td title=\"Index: [0, 4]&#10;Color: (200, 0, 200)\" style=\"width: 20px; height: 20px;background-color: rgb(200, 0, 200);\"></td><td title=\"Index: [0, 5]&#10;Color: (0, 0, 200)\" style=\"width: 20px; height: 20px;background-color: rgb(0, 0, 200);\"></td><td title=\"Index: [0, 6]&#10;Color: (0, 0, 200)\" style=\"width: 20px; height: 20px;background-color: rgb(0, 0, 200);\"></td><td title=\"Index: [0, 7]&#10;Color: (200, 200, 200)\" style=\"width: 20px; height: 20px;background-color: rgb(200, 200, 200);\"></td><td title=\"Index: [0, 8]&#10;Color: (200, 200, 200)\" style=\"width: 20px; height: 20px;background-color: rgb(200, 200, 200);\"></td><td title=\"Index: [0, 9]&#10;Color: (200, 0, 0)\" style=\"width: 20px; height: 20px;background-color: rgb(200, 0, 0);\"></td><td title=\"Index: [0, 10]&#10;Color: (200, 0, 0)\" style=\"width: 20px; height: 20px;background-color: rgb(200, 0, 0);\"></td><td title=\"Index: [0, 11]&#10;Color: (200, 0, 0)\" style=\"width: 20px; height: 20px;background-color: rgb(200, 0, 0);\"></td><td title=\"Index: [0, 12]&#10;Color: (200, 200, 200)\" style=\"width: 20px; height: 20px;background-color: rgb(200, 200, 200);\"></td><td title=\"Index: [0, 13]&#10;Color: (200, 200, 200)\" style=\"width: 20px; height: 20px;background-color: rgb(200, 200, 200);\"></td><td title=\"Index: [0, 14]&#10;Color: (200, 200, 200)\" style=\"width: 20px; height: 20px;background-color: rgb(200, 200, 200);\"></td><td title=\"Index: [0, 15]&#10;Color: (200, 0, 0)\" style=\"width: 20px; height: 20px;background-color: rgb(200, 0, 0);\"></td><td title=\"Index: [0, 16]&#10;Color: (240, 240, 240)\" style=\"width: 20px; height: 20px;background-color: rgb(240, 240, 240);\"></td><td title=\"Index: [0, 17]&#10;Color: (200, 200, 200)\" style=\"width: 20px; height: 20px;background-color: rgb(200, 200, 200);\"></td><td title=\"Index: [0, 18]&#10;Color: (0, 0, 200)\" style=\"width: 20px; height: 20px;background-color: rgb(0, 0, 200);\"></td><td title=\"Index: [0, 19]&#10;Color: (200, 200, 200)\" style=\"width: 20px; height: 20px;background-color: rgb(200, 200, 200);\"></td><td title=\"Index: [0, 20]&#10;Color: (200, 200, 200)\" style=\"width: 20px; height: 20px;background-color: rgb(200, 200, 200);\"></td><td title=\"Index: [0, 21]&#10;Color: (200, 200, 200)\" style=\"width: 20px; height: 20px;background-color: rgb(200, 200, 200);\"></td><td title=\"Index: [0, 22]&#10;Color: (200, 0, 0)\" style=\"width: 20px; height: 20px;background-color: rgb(200, 0, 0);\"></td><td title=\"Index: [0, 23]&#10;Color: (0, 0, 200)\" style=\"width: 20px; height: 20px;background-color: rgb(0, 0, 200);\"></td><td title=\"Index: [0, 24]&#10;Color: (200, 200, 200)\" style=\"width: 20px; height: 20px;background-color: rgb(200, 200, 200);\"></td><td title=\"Index: [0, 25]&#10;Color: (200, 200, 200)\" style=\"width: 20px; height: 20px;background-color: rgb(200, 200, 200);\"></td><td title=\"Index: [0, 26]&#10;Color: (200, 200, 200)\" style=\"width: 20px; height: 20px;background-color: rgb(200, 200, 200);\"></td><td title=\"Index: [0, 27]&#10;Color: (0, 0, 200)\" style=\"width: 20px; height: 20px;background-color: rgb(0, 0, 200);\"></td><td title=\"Index: [0, 28]&#10;Color: (200, 200, 200)\" style=\"width: 20px; height: 20px;background-color: rgb(200, 200, 200);\"></td><td title=\"Index: [0, 29]&#10;Color: (200, 200, 200)\" style=\"width: 20px; height: 20px;background-color: rgb(200, 200, 200);\"></td><td title=\"Index: [0, 30]&#10;Color: (200, 200, 200)\" style=\"width: 20px; height: 20px;background-color: rgb(200, 200, 200);\"></td><td title=\"Index: [0, 31]&#10;Color: (0, 0, 200)\" style=\"width: 20px; height: 20px;background-color: rgb(0, 0, 200);\"></td><td title=\"Index: [0, 32]&#10;Color: (200, 200, 200)\" style=\"width: 20px; height: 20px;background-color: rgb(200, 200, 200);\"></td><td title=\"Index: [0, 33]&#10;Color: (200, 200, 200)\" style=\"width: 20px; height: 20px;background-color: rgb(200, 200, 200);\"></td><td title=\"Index: [0, 34]&#10;Color: (200, 200, 200)\" style=\"width: 20px; height: 20px;background-color: rgb(200, 200, 200);\"></td><td title=\"Index: [0, 35]&#10;Color: (200, 0, 0)\" style=\"width: 20px; height: 20px;background-color: rgb(200, 0, 0);\"></td><td title=\"Index: [0, 36]&#10;Color: (200, 200, 200)\" style=\"width: 20px; height: 20px;background-color: rgb(200, 200, 200);\"></td><td title=\"Index: [0, 37]&#10;Color: (0, 0, 200)\" style=\"width: 20px; height: 20px;background-color: rgb(0, 0, 200);\"></td><td title=\"Index: [0, 38]&#10;Color: (200, 0, 0)\" style=\"width: 20px; height: 20px;background-color: rgb(200, 0, 0);\"></td><td title=\"Index: [0, 39]&#10;Color: (200, 200, 200)\" style=\"width: 20px; height: 20px;background-color: rgb(200, 200, 200);\"></td></tr></tbody></table>",
          "text/plain": "<ipythonblocks.ipythonblocks.BlockGrid at 0x7fa2b4523358>"
         },
         "metadata": {},
         "output_type": "display_data"
        },
        {
         "name": "stdout",
         "output_type": "stream",
         "text": "2. Vœux triés par rang, mais pas par l'algorithme :\n"
        },
        {
         "data": {
          "text/html": "<style type=\"text/css\">table.blockgrid {border: none;} .blockgrid tr {border: none;} .blockgrid td {padding: 0px;} #blocksd68cbd11-d939-4bad-922a-b5ddf618eee4 td {border: 1px solid white;}</style><table id=\"blocksd68cbd11-d939-4bad-922a-b5ddf618eee4\" class=\"blockgrid\"><tbody><tr><td title=\"Index: [0, 0]&#10;Color: (240, 240, 240)\" style=\"width: 20px; height: 20px;background-color: rgb(240, 240, 240);\"></td><td title=\"Index: [0, 1]&#10;Color: (200, 200, 200)\" style=\"width: 20px; height: 20px;background-color: rgb(200, 200, 200);\"></td><td title=\"Index: [0, 2]&#10;Color: (200, 0, 0)\" style=\"width: 20px; height: 20px;background-color: rgb(200, 0, 0);\"></td><td title=\"Index: [0, 3]&#10;Color: (200, 200, 200)\" style=\"width: 20px; height: 20px;background-color: rgb(200, 200, 200);\"></td><td title=\"Index: [0, 4]&#10;Color: (200, 200, 200)\" style=\"width: 20px; height: 20px;background-color: rgb(200, 200, 200);\"></td><td title=\"Index: [0, 5]&#10;Color: (200, 200, 200)\" style=\"width: 20px; height: 20px;background-color: rgb(200, 200, 200);\"></td><td title=\"Index: [0, 6]&#10;Color: (200, 200, 200)\" style=\"width: 20px; height: 20px;background-color: rgb(200, 200, 200);\"></td><td title=\"Index: [0, 7]&#10;Color: (200, 200, 200)\" style=\"width: 20px; height: 20px;background-color: rgb(200, 200, 200);\"></td><td title=\"Index: [0, 8]&#10;Color: (0, 0, 200)\" style=\"width: 20px; height: 20px;background-color: rgb(0, 0, 200);\"></td><td title=\"Index: [0, 9]&#10;Color: (200, 200, 200)\" style=\"width: 20px; height: 20px;background-color: rgb(200, 200, 200);\"></td><td title=\"Index: [0, 10]&#10;Color: (200, 200, 200)\" style=\"width: 20px; height: 20px;background-color: rgb(200, 200, 200);\"></td><td title=\"Index: [0, 11]&#10;Color: (200, 200, 200)\" style=\"width: 20px; height: 20px;background-color: rgb(200, 200, 200);\"></td><td title=\"Index: [0, 12]&#10;Color: (200, 200, 200)\" style=\"width: 20px; height: 20px;background-color: rgb(200, 200, 200);\"></td><td title=\"Index: [0, 13]&#10;Color: (0, 0, 200)\" style=\"width: 20px; height: 20px;background-color: rgb(0, 0, 200);\"></td><td title=\"Index: [0, 14]&#10;Color: (200, 200, 200)\" style=\"width: 20px; height: 20px;background-color: rgb(200, 200, 200);\"></td><td title=\"Index: [0, 15]&#10;Color: (200, 200, 200)\" style=\"width: 20px; height: 20px;background-color: rgb(200, 200, 200);\"></td><td title=\"Index: [0, 16]&#10;Color: (200, 0, 0)\" style=\"width: 20px; height: 20px;background-color: rgb(200, 0, 0);\"></td><td title=\"Index: [0, 17]&#10;Color: (200, 200, 200)\" style=\"width: 20px; height: 20px;background-color: rgb(200, 200, 200);\"></td><td title=\"Index: [0, 18]&#10;Color: (0, 0, 200)\" style=\"width: 20px; height: 20px;background-color: rgb(0, 0, 200);\"></td><td title=\"Index: [0, 19]&#10;Color: (200, 0, 0)\" style=\"width: 20px; height: 20px;background-color: rgb(200, 0, 0);\"></td><td title=\"Index: [0, 20]&#10;Color: (200, 200, 200)\" style=\"width: 20px; height: 20px;background-color: rgb(200, 200, 200);\"></td><td title=\"Index: [0, 21]&#10;Color: (200, 200, 200)\" style=\"width: 20px; height: 20px;background-color: rgb(200, 200, 200);\"></td><td title=\"Index: [0, 22]&#10;Color: (0, 0, 200)\" style=\"width: 20px; height: 20px;background-color: rgb(0, 0, 200);\"></td><td title=\"Index: [0, 23]&#10;Color: (200, 200, 200)\" style=\"width: 20px; height: 20px;background-color: rgb(200, 200, 200);\"></td><td title=\"Index: [0, 24]&#10;Color: (200, 0, 0)\" style=\"width: 20px; height: 20px;background-color: rgb(200, 0, 0);\"></td><td title=\"Index: [0, 25]&#10;Color: (200, 0, 0)\" style=\"width: 20px; height: 20px;background-color: rgb(200, 0, 0);\"></td><td title=\"Index: [0, 26]&#10;Color: (200, 0, 0)\" style=\"width: 20px; height: 20px;background-color: rgb(200, 0, 0);\"></td><td title=\"Index: [0, 27]&#10;Color: (200, 200, 200)\" style=\"width: 20px; height: 20px;background-color: rgb(200, 200, 200);\"></td><td title=\"Index: [0, 28]&#10;Color: (200, 200, 200)\" style=\"width: 20px; height: 20px;background-color: rgb(200, 200, 200);\"></td><td title=\"Index: [0, 29]&#10;Color: (200, 200, 200)\" style=\"width: 20px; height: 20px;background-color: rgb(200, 200, 200);\"></td><td title=\"Index: [0, 30]&#10;Color: (0, 0, 200)\" style=\"width: 20px; height: 20px;background-color: rgb(0, 0, 200);\"></td><td title=\"Index: [0, 31]&#10;Color: (200, 0, 0)\" style=\"width: 20px; height: 20px;background-color: rgb(200, 0, 0);\"></td><td title=\"Index: [0, 32]&#10;Color: (200, 0, 200)\" style=\"width: 20px; height: 20px;background-color: rgb(200, 0, 200);\"></td><td title=\"Index: [0, 33]&#10;Color: (200, 200, 200)\" style=\"width: 20px; height: 20px;background-color: rgb(200, 200, 200);\"></td><td title=\"Index: [0, 34]&#10;Color: (0, 0, 200)\" style=\"width: 20px; height: 20px;background-color: rgb(0, 0, 200);\"></td><td title=\"Index: [0, 35]&#10;Color: (200, 200, 200)\" style=\"width: 20px; height: 20px;background-color: rgb(200, 200, 200);\"></td><td title=\"Index: [0, 36]&#10;Color: (200, 200, 200)\" style=\"width: 20px; height: 20px;background-color: rgb(200, 200, 200);\"></td><td title=\"Index: [0, 37]&#10;Color: (0, 0, 200)\" style=\"width: 20px; height: 20px;background-color: rgb(0, 0, 200);\"></td><td title=\"Index: [0, 38]&#10;Color: (200, 200, 200)\" style=\"width: 20px; height: 20px;background-color: rgb(200, 200, 200);\"></td><td title=\"Index: [0, 39]&#10;Color: (200, 200, 200)\" style=\"width: 20px; height: 20px;background-color: rgb(200, 200, 200);\"></td></tr></tbody></table>",
          "text/plain": "<ipythonblocks.ipythonblocks.BlockGrid at 0x7fa2b4523358>"
         },
         "metadata": {},
         "output_type": "display_data"
        },
        {
         "name": "stdout",
         "output_type": "stream",
         "text": "3. Vœux triés par l'algorithme :\n"
        },
        {
         "data": {
          "text/html": "<style type=\"text/css\">table.blockgrid {border: none;} .blockgrid tr {border: none;} .blockgrid td {padding: 0px;} #blocks50286aeb-56ee-4302-a2ac-3b57fd596744 td {border: 1px solid white;}</style><table id=\"blocks50286aeb-56ee-4302-a2ac-3b57fd596744\" class=\"blockgrid\"><tbody><tr><td title=\"Index: [0, 0]&#10;Color: (200, 0, 200)\" style=\"width: 20px; height: 20px;background-color: rgb(200, 0, 200);\"></td><td title=\"Index: [0, 1]&#10;Color: (240, 240, 240)\" style=\"width: 20px; height: 20px;background-color: rgb(240, 240, 240);\"></td><td title=\"Index: [0, 2]&#10;Color: (200, 200, 200)\" style=\"width: 20px; height: 20px;background-color: rgb(200, 200, 200);\"></td><td title=\"Index: [0, 3]&#10;Color: (200, 0, 0)\" style=\"width: 20px; height: 20px;background-color: rgb(200, 0, 0);\"></td><td title=\"Index: [0, 4]&#10;Color: (200, 200, 200)\" style=\"width: 20px; height: 20px;background-color: rgb(200, 200, 200);\"></td><td title=\"Index: [0, 5]&#10;Color: (0, 0, 200)\" style=\"width: 20px; height: 20px;background-color: rgb(0, 0, 200);\"></td><td title=\"Index: [0, 6]&#10;Color: (200, 200, 200)\" style=\"width: 20px; height: 20px;background-color: rgb(200, 200, 200);\"></td><td title=\"Index: [0, 7]&#10;Color: (200, 200, 200)\" style=\"width: 20px; height: 20px;background-color: rgb(200, 200, 200);\"></td><td title=\"Index: [0, 8]&#10;Color: (200, 200, 200)\" style=\"width: 20px; height: 20px;background-color: rgb(200, 200, 200);\"></td><td title=\"Index: [0, 9]&#10;Color: (200, 200, 200)\" style=\"width: 20px; height: 20px;background-color: rgb(200, 200, 200);\"></td><td title=\"Index: [0, 10]&#10;Color: (200, 0, 0)\" style=\"width: 20px; height: 20px;background-color: rgb(200, 0, 0);\"></td><td title=\"Index: [0, 11]&#10;Color: (0, 0, 200)\" style=\"width: 20px; height: 20px;background-color: rgb(0, 0, 200);\"></td><td title=\"Index: [0, 12]&#10;Color: (200, 200, 200)\" style=\"width: 20px; height: 20px;background-color: rgb(200, 200, 200);\"></td><td title=\"Index: [0, 13]&#10;Color: (200, 200, 200)\" style=\"width: 20px; height: 20px;background-color: rgb(200, 200, 200);\"></td><td title=\"Index: [0, 14]&#10;Color: (200, 200, 200)\" style=\"width: 20px; height: 20px;background-color: rgb(200, 200, 200);\"></td><td title=\"Index: [0, 15]&#10;Color: (200, 0, 0)\" style=\"width: 20px; height: 20px;background-color: rgb(200, 0, 0);\"></td><td title=\"Index: [0, 16]&#10;Color: (0, 0, 200)\" style=\"width: 20px; height: 20px;background-color: rgb(0, 0, 200);\"></td><td title=\"Index: [0, 17]&#10;Color: (200, 200, 200)\" style=\"width: 20px; height: 20px;background-color: rgb(200, 200, 200);\"></td><td title=\"Index: [0, 18]&#10;Color: (200, 200, 200)\" style=\"width: 20px; height: 20px;background-color: rgb(200, 200, 200);\"></td><td title=\"Index: [0, 19]&#10;Color: (200, 200, 200)\" style=\"width: 20px; height: 20px;background-color: rgb(200, 200, 200);\"></td><td title=\"Index: [0, 20]&#10;Color: (200, 0, 0)\" style=\"width: 20px; height: 20px;background-color: rgb(200, 0, 0);\"></td><td title=\"Index: [0, 21]&#10;Color: (0, 0, 200)\" style=\"width: 20px; height: 20px;background-color: rgb(0, 0, 200);\"></td><td title=\"Index: [0, 22]&#10;Color: (200, 200, 200)\" style=\"width: 20px; height: 20px;background-color: rgb(200, 200, 200);\"></td><td title=\"Index: [0, 23]&#10;Color: (200, 200, 200)\" style=\"width: 20px; height: 20px;background-color: rgb(200, 200, 200);\"></td><td title=\"Index: [0, 24]&#10;Color: (200, 200, 200)\" style=\"width: 20px; height: 20px;background-color: rgb(200, 200, 200);\"></td><td title=\"Index: [0, 25]&#10;Color: (200, 0, 0)\" style=\"width: 20px; height: 20px;background-color: rgb(200, 0, 0);\"></td><td title=\"Index: [0, 26]&#10;Color: (0, 0, 200)\" style=\"width: 20px; height: 20px;background-color: rgb(0, 0, 200);\"></td><td title=\"Index: [0, 27]&#10;Color: (200, 200, 200)\" style=\"width: 20px; height: 20px;background-color: rgb(200, 200, 200);\"></td><td title=\"Index: [0, 28]&#10;Color: (200, 0, 0)\" style=\"width: 20px; height: 20px;background-color: rgb(200, 0, 0);\"></td><td title=\"Index: [0, 29]&#10;Color: (200, 200, 200)\" style=\"width: 20px; height: 20px;background-color: rgb(200, 200, 200);\"></td><td title=\"Index: [0, 30]&#10;Color: (0, 0, 200)\" style=\"width: 20px; height: 20px;background-color: rgb(0, 0, 200);\"></td><td title=\"Index: [0, 31]&#10;Color: (200, 200, 200)\" style=\"width: 20px; height: 20px;background-color: rgb(200, 200, 200);\"></td><td title=\"Index: [0, 32]&#10;Color: (200, 200, 200)\" style=\"width: 20px; height: 20px;background-color: rgb(200, 200, 200);\"></td><td title=\"Index: [0, 33]&#10;Color: (200, 0, 0)\" style=\"width: 20px; height: 20px;background-color: rgb(200, 0, 0);\"></td><td title=\"Index: [0, 34]&#10;Color: (200, 200, 200)\" style=\"width: 20px; height: 20px;background-color: rgb(200, 200, 200);\"></td><td title=\"Index: [0, 35]&#10;Color: (0, 0, 200)\" style=\"width: 20px; height: 20px;background-color: rgb(0, 0, 200);\"></td><td title=\"Index: [0, 36]&#10;Color: (200, 200, 200)\" style=\"width: 20px; height: 20px;background-color: rgb(200, 200, 200);\"></td><td title=\"Index: [0, 37]&#10;Color: (200, 200, 200)\" style=\"width: 20px; height: 20px;background-color: rgb(200, 200, 200);\"></td><td title=\"Index: [0, 38]&#10;Color: (200, 200, 200)\" style=\"width: 20px; height: 20px;background-color: rgb(200, 200, 200);\"></td><td title=\"Index: [0, 39]&#10;Color: (200, 200, 200)\" style=\"width: 20px; height: 20px;background-color: rgb(200, 200, 200);\"></td></tr></tbody></table>",
          "text/plain": "<ipythonblocks.ipythonblocks.BlockGrid at 0x7fa2b4523358>"
         },
         "metadata": {},
         "output_type": "display_data"
        }
       ]
      }
     },
     "9c55afd58fc34478825e0cbe16885fae": {
      "model_module": "@jupyter-widgets/controls",
      "model_module_version": "1.2.0",
      "model_name": "IntSliderModel",
      "state": {
       "description": "tauxResidents",
       "layout": "IPY_MODEL_97460d4cf34c4c568a7599e50ab7c551",
       "style": "IPY_MODEL_7f7394cc1b6f4c6bb400a49ab7eb78c7",
       "value": 20
      }
     },
     "9c645dcca3164a3d90eee742204a329a": {
      "model_module": "@jupyter-widgets/base",
      "model_module_version": "1.0.0",
      "model_name": "LayoutModel",
      "state": {}
     },
     "9cb0a2abef93494487c95d74f72ae52f": {
      "model_module": "@jupyter-widgets/controls",
      "model_module_version": "1.2.0",
      "model_name": "IntSliderModel",
      "state": {
       "description": "tauxResidents",
       "layout": "IPY_MODEL_96f6f7c519534465a2d24e88799ba06d",
       "style": "IPY_MODEL_d990db4097fd4f0bb9dc93967a614258",
       "value": 20
      }
     },
     "9d0caff9d68841529a99389cb957c7fe": {
      "model_module": "@jupyter-widgets/base",
      "model_module_version": "1.0.0",
      "model_name": "LayoutModel",
      "state": {}
     },
     "9d5f6e5fe1e243bda0bf4c1282927aa7": {
      "model_module": "@jupyter-widgets/base",
      "model_module_version": "1.0.0",
      "model_name": "LayoutModel",
      "state": {}
     },
     "9d841f3efe9042569551cc21d6348414": {
      "model_module": "@jupyter-widgets/controls",
      "model_module_version": "1.2.0",
      "model_name": "IntSliderModel",
      "state": {
       "description": "tauxMinResidentsPourcents",
       "layout": "IPY_MODEL_92c3c29c0e944707b289923a5afb454d",
       "style": "IPY_MODEL_e32d71c856eb486f9e81c04f3b409e2a"
      }
     },
     "9d8c9347bddf4f4bb729b41bb5bfdd79": {
      "model_module": "@jupyter-widgets/base",
      "model_module_version": "1.0.0",
      "model_name": "LayoutModel",
      "state": {}
     },
     "9da3b13d5ac948248373a087e51458d9": {
      "model_module": "@jupyter-widgets/base",
      "model_module_version": "1.0.0",
      "model_name": "LayoutModel",
      "state": {}
     },
     "9ddcc0e4c3e44a1ebed0ca9cb0f9d1e0": {
      "model_module": "@jupyter-widgets/base",
      "model_module_version": "1.0.0",
      "model_name": "LayoutModel",
      "state": {}
     },
     "9de9f2357f8d4ee8b8c4d610f9bd7560": {
      "model_module": "@jupyter-widgets/output",
      "model_module_version": "1.0.0",
      "model_name": "OutputModel",
      "state": {
       "layout": "IPY_MODEL_3078038a78114e9482338a419769cd4b",
       "outputs": [
        {
         "data": {
          "text/plain": "[6, 1, 2, 3, 4, 7, 5, 8]"
         },
         "metadata": {},
         "output_type": "display_data"
        }
       ]
      }
     },
     "9ebe706d20734a60893c6cd1c48695fc": {
      "model_module": "@jupyter-widgets/controls",
      "model_module_version": "1.2.0",
      "model_name": "SliderStyleModel",
      "state": {
       "description_width": ""
      }
     },
     "9ec5bd21383c4ade8972cbb057610c89": {
      "model_module": "@jupyter-widgets/controls",
      "model_module_version": "1.2.0",
      "model_name": "IntSliderModel",
      "state": {
       "description": "tauxResidents",
       "layout": "IPY_MODEL_931d95dd8cfb47e2880ada12adf32bb8",
       "style": "IPY_MODEL_5c10084726cf42ea802995f7ae20bb8a",
       "value": 20
      }
     },
     "9ee8a31db93f42dea5e9c3d302c90879": {
      "model_module": "@jupyter-widgets/controls",
      "model_module_version": "1.2.0",
      "model_name": "SliderStyleModel",
      "state": {
       "description_width": ""
      }
     },
     "9f4f78c58ee34ef4bff537ee277ff593": {
      "model_module": "@jupyter-widgets/controls",
      "model_module_version": "1.2.0",
      "model_name": "IntSliderModel",
      "state": {
       "description": "tauxBoursiers",
       "layout": "IPY_MODEL_084b34fb9f0549049b5beb9bb7de0a24",
       "style": "IPY_MODEL_84ec90fcfe194244aca496b0a4d614e6",
       "value": 20
      }
     },
     "9fd0def6ef124f7a8998a9b4eb64902b": {
      "model_module": "@jupyter-widgets/controls",
      "model_module_version": "1.2.0",
      "model_name": "FloatSliderModel",
      "state": {
       "description": "x",
       "layout": "IPY_MODEL_5e1358949e5d42ee90f0ae52dd8ce6dd",
       "max": 4,
       "min": -4,
       "step": 0.1,
       "style": "IPY_MODEL_03e97101bbbf4e9cb6ae9145ea47fece",
       "value": 1.6
      }
     },
     "9ff7df9dfd9d4a48b9366fc1790e9abf": {
      "model_module": "@jupyter-widgets/base",
      "model_module_version": "1.0.0",
      "model_name": "LayoutModel",
      "state": {}
     },
     "9ffdfc979c5a433c8a5af866d00eeb10": {
      "model_module": "@jupyter-widgets/controls",
      "model_module_version": "1.2.0",
      "model_name": "SliderStyleModel",
      "state": {
       "description_width": ""
      }
     },
     "a085b3a100bd42528926ca37d462f866": {
      "model_module": "@jupyter-widgets/controls",
      "model_module_version": "1.2.0",
      "model_name": "SliderStyleModel",
      "state": {
       "description_width": ""
      }
     },
     "a0beb37c41b449fb82870184d71d162f": {
      "model_module": "@jupyter-widgets/base",
      "model_module_version": "1.0.0",
      "model_name": "LayoutModel",
      "state": {}
     },
     "a0d9ad9fb4ad4981874f126feb10eeb3": {
      "model_module": "@jupyter-widgets/controls",
      "model_module_version": "1.2.0",
      "model_name": "SliderStyleModel",
      "state": {
       "description_width": ""
      }
     },
     "a0d9e627d4e342af947fa0526da1750c": {
      "model_module": "@jupyter-widgets/controls",
      "model_module_version": "1.2.0",
      "model_name": "CheckboxModel",
      "state": {
       "description": "focusEstResident",
       "disabled": false,
       "layout": "IPY_MODEL_f035b05cec2d4e718bcaa08668d37a18",
       "style": "IPY_MODEL_a76e4b1176ca451197a4941dbe2dc9f4",
       "value": false
      }
     },
     "a0e18714911a46f283a4bd94cfc028c1": {
      "model_module": "@jupyter-widgets/controls",
      "model_module_version": "1.2.0",
      "model_name": "IntSliderModel",
      "state": {
       "description": "tauxBoursiers",
       "layout": "IPY_MODEL_74b32f6317fb45d389c184a0083b283b",
       "style": "IPY_MODEL_dba604f286444fb49b21964683459933",
       "value": 20
      }
     },
     "a19a14795abc4c35abae912c4ee729f2": {
      "model_module": "@jupyter-widgets/controls",
      "model_module_version": "1.2.0",
      "model_name": "IntSliderModel",
      "state": {
       "description": "tauxMinBoursiersPourcents",
       "layout": "IPY_MODEL_a0beb37c41b449fb82870184d71d162f",
       "style": "IPY_MODEL_b72bc457a4ef45b1ac195e07a85ddd95",
       "value": 10
      }
     },
     "a209497653a34a5e8e3eee2c7f38d69c": {
      "model_module": "@jupyter-widgets/controls",
      "model_module_version": "1.2.0",
      "model_name": "SliderStyleModel",
      "state": {
       "description_width": ""
      }
     },
     "a27073f379d146a2b8b51ef4ec8a5dc7": {
      "model_module": "@jupyter-widgets/base",
      "model_module_version": "1.0.0",
      "model_name": "LayoutModel",
      "state": {}
     },
     "a29f4626c72c49bab80249d1a3409fc8": {
      "model_module": "@jupyter-widgets/controls",
      "model_module_version": "1.2.0",
      "model_name": "IntSliderModel",
      "state": {
       "description": "tauxResidents",
       "layout": "IPY_MODEL_fec297d1f43c4e4b8795831af4a6f6a6",
       "style": "IPY_MODEL_9ebe706d20734a60893c6cd1c48695fc",
       "value": 20
      }
     },
     "a2c1a7e37db449468094e150b77f4395": {
      "model_module": "@jupyter-widgets/output",
      "model_module_version": "1.0.0",
      "model_name": "OutputModel",
      "state": {
       "layout": "IPY_MODEL_f8af21c412ce4658bbb61de7df053fc9",
       "outputs": [
        {
         "data": {
          "text/html": "<style type=\"text/css\">table.blockgrid {border: none;} .blockgrid tr {border: none;} .blockgrid td {padding: 0px;} #blocksee973c50-09c7-40b9-9a3b-08edbbfc05a6 td {border: 1px solid white;}</style><table id=\"blocksee973c50-09c7-40b9-9a3b-08edbbfc05a6\" class=\"blockgrid\"><tbody><tr><td title=\"Index: [0, 0]&#10;Color: (200, 200, 200)\" style=\"width: 20px; height: 20px;background-color: rgb(200, 200, 200);\"></td><td title=\"Index: [0, 1]&#10;Color: (200, 0, 200)\" style=\"width: 20px; height: 20px;background-color: rgb(200, 0, 200);\"></td><td title=\"Index: [0, 2]&#10;Color: (200, 200, 200)\" style=\"width: 20px; height: 20px;background-color: rgb(200, 200, 200);\"></td><td title=\"Index: [0, 3]&#10;Color: (200, 200, 200)\" style=\"width: 20px; height: 20px;background-color: rgb(200, 200, 200);\"></td><td title=\"Index: [0, 4]&#10;Color: (0, 0, 200)\" style=\"width: 20px; height: 20px;background-color: rgb(0, 0, 200);\"></td><td title=\"Index: [0, 5]&#10;Color: (200, 200, 200)\" style=\"width: 20px; height: 20px;background-color: rgb(200, 200, 200);\"></td><td title=\"Index: [0, 6]&#10;Color: (200, 200, 200)\" style=\"width: 20px; height: 20px;background-color: rgb(200, 200, 200);\"></td><td title=\"Index: [0, 7]&#10;Color: (0, 0, 200)\" style=\"width: 20px; height: 20px;background-color: rgb(0, 0, 200);\"></td><td title=\"Index: [0, 8]&#10;Color: (200, 0, 0)\" style=\"width: 20px; height: 20px;background-color: rgb(200, 0, 0);\"></td><td title=\"Index: [0, 9]&#10;Color: (200, 200, 200)\" style=\"width: 20px; height: 20px;background-color: rgb(200, 200, 200);\"></td><td title=\"Index: [0, 10]&#10;Color: (200, 200, 200)\" style=\"width: 20px; height: 20px;background-color: rgb(200, 200, 200);\"></td><td title=\"Index: [0, 11]&#10;Color: (200, 200, 200)\" style=\"width: 20px; height: 20px;background-color: rgb(200, 200, 200);\"></td><td title=\"Index: [0, 12]&#10;Color: (200, 200, 200)\" style=\"width: 20px; height: 20px;background-color: rgb(200, 200, 200);\"></td><td title=\"Index: [0, 13]&#10;Color: (0, 0, 200)\" style=\"width: 20px; height: 20px;background-color: rgb(0, 0, 200);\"></td><td title=\"Index: [0, 14]&#10;Color: (200, 0, 0)\" style=\"width: 20px; height: 20px;background-color: rgb(200, 0, 0);\"></td><td title=\"Index: [0, 15]&#10;Color: (200, 200, 200)\" style=\"width: 20px; height: 20px;background-color: rgb(200, 200, 200);\"></td><td title=\"Index: [0, 16]&#10;Color: (200, 200, 200)\" style=\"width: 20px; height: 20px;background-color: rgb(200, 200, 200);\"></td><td title=\"Index: [0, 17]&#10;Color: (200, 200, 200)\" style=\"width: 20px; height: 20px;background-color: rgb(200, 200, 200);\"></td><td title=\"Index: [0, 18]&#10;Color: (200, 200, 200)\" style=\"width: 20px; height: 20px;background-color: rgb(200, 200, 200);\"></td><td title=\"Index: [0, 19]&#10;Color: (200, 200, 200)\" style=\"width: 20px; height: 20px;background-color: rgb(200, 200, 200);\"></td><td title=\"Index: [0, 20]&#10;Color: (200, 0, 0)\" style=\"width: 20px; height: 20px;background-color: rgb(200, 0, 0);\"></td><td title=\"Index: [0, 21]&#10;Color: (200, 200, 200)\" style=\"width: 20px; height: 20px;background-color: rgb(200, 200, 200);\"></td><td title=\"Index: [0, 22]&#10;Color: (0, 0, 200)\" style=\"width: 20px; height: 20px;background-color: rgb(0, 0, 200);\"></td><td title=\"Index: [0, 23]&#10;Color: (200, 200, 200)\" style=\"width: 20px; height: 20px;background-color: rgb(200, 200, 200);\"></td><td title=\"Index: [0, 24]&#10;Color: (200, 200, 200)\" style=\"width: 20px; height: 20px;background-color: rgb(200, 200, 200);\"></td><td title=\"Index: [0, 25]&#10;Color: (200, 200, 200)\" style=\"width: 20px; height: 20px;background-color: rgb(200, 200, 200);\"></td><td title=\"Index: [0, 26]&#10;Color: (200, 200, 200)\" style=\"width: 20px; height: 20px;background-color: rgb(200, 200, 200);\"></td><td title=\"Index: [0, 27]&#10;Color: (200, 200, 200)\" style=\"width: 20px; height: 20px;background-color: rgb(200, 200, 200);\"></td><td title=\"Index: [0, 28]&#10;Color: (0, 0, 200)\" style=\"width: 20px; height: 20px;background-color: rgb(0, 0, 200);\"></td><td title=\"Index: [0, 29]&#10;Color: (200, 200, 200)\" style=\"width: 20px; height: 20px;background-color: rgb(200, 200, 200);\"></td><td title=\"Index: [0, 30]&#10;Color: (200, 200, 200)\" style=\"width: 20px; height: 20px;background-color: rgb(200, 200, 200);\"></td><td title=\"Index: [0, 31]&#10;Color: (200, 200, 200)\" style=\"width: 20px; height: 20px;background-color: rgb(200, 200, 200);\"></td><td title=\"Index: [0, 32]&#10;Color: (200, 200, 200)\" style=\"width: 20px; height: 20px;background-color: rgb(200, 200, 200);\"></td><td title=\"Index: [0, 33]&#10;Color: (200, 200, 200)\" style=\"width: 20px; height: 20px;background-color: rgb(200, 200, 200);\"></td><td title=\"Index: [0, 34]&#10;Color: (200, 0, 0)\" style=\"width: 20px; height: 20px;background-color: rgb(200, 0, 0);\"></td><td title=\"Index: [0, 35]&#10;Color: (200, 0, 0)\" style=\"width: 20px; height: 20px;background-color: rgb(200, 0, 0);\"></td><td title=\"Index: [0, 36]&#10;Color: (0, 0, 200)\" style=\"width: 20px; height: 20px;background-color: rgb(0, 0, 200);\"></td><td title=\"Index: [0, 37]&#10;Color: (200, 200, 200)\" style=\"width: 20px; height: 20px;background-color: rgb(200, 200, 200);\"></td><td title=\"Index: [0, 38]&#10;Color: (0, 0, 200)\" style=\"width: 20px; height: 20px;background-color: rgb(0, 0, 200);\"></td><td title=\"Index: [0, 39]&#10;Color: (200, 200, 200)\" style=\"width: 20px; height: 20px;background-color: rgb(200, 200, 200);\"></td><td title=\"Index: [0, 40]&#10;Color: (200, 0, 0)\" style=\"width: 20px; height: 20px;background-color: rgb(200, 0, 0);\"></td><td title=\"Index: [0, 41]&#10;Color: (200, 200, 200)\" style=\"width: 20px; height: 20px;background-color: rgb(200, 200, 200);\"></td><td title=\"Index: [0, 42]&#10;Color: (200, 0, 0)\" style=\"width: 20px; height: 20px;background-color: rgb(200, 0, 0);\"></td><td title=\"Index: [0, 43]&#10;Color: (200, 200, 200)\" style=\"width: 20px; height: 20px;background-color: rgb(200, 200, 200);\"></td><td title=\"Index: [0, 44]&#10;Color: (0, 0, 200)\" style=\"width: 20px; height: 20px;background-color: rgb(0, 0, 200);\"></td><td title=\"Index: [0, 45]&#10;Color: (200, 200, 200)\" style=\"width: 20px; height: 20px;background-color: rgb(200, 200, 200);\"></td><td title=\"Index: [0, 46]&#10;Color: (200, 200, 200)\" style=\"width: 20px; height: 20px;background-color: rgb(200, 200, 200);\"></td><td title=\"Index: [0, 47]&#10;Color: (200, 200, 200)\" style=\"width: 20px; height: 20px;background-color: rgb(200, 200, 200);\"></td><td title=\"Index: [0, 48]&#10;Color: (200, 0, 0)\" style=\"width: 20px; height: 20px;background-color: rgb(200, 0, 0);\"></td><td title=\"Index: [0, 49]&#10;Color: (200, 200, 200)\" style=\"width: 20px; height: 20px;background-color: rgb(200, 200, 200);\"></td><td title=\"Index: [0, 50]&#10;Color: (200, 200, 200)\" style=\"width: 20px; height: 20px;background-color: rgb(200, 200, 200);\"></td><td title=\"Index: [0, 51]&#10;Color: (200, 200, 200)\" style=\"width: 20px; height: 20px;background-color: rgb(200, 200, 200);\"></td><td title=\"Index: [0, 52]&#10;Color: (200, 200, 200)\" style=\"width: 20px; height: 20px;background-color: rgb(200, 200, 200);\"></td><td title=\"Index: [0, 53]&#10;Color: (200, 200, 200)\" style=\"width: 20px; height: 20px;background-color: rgb(200, 200, 200);\"></td><td title=\"Index: [0, 54]&#10;Color: (200, 200, 200)\" style=\"width: 20px; height: 20px;background-color: rgb(200, 200, 200);\"></td><td title=\"Index: [0, 55]&#10;Color: (200, 200, 200)\" style=\"width: 20px; height: 20px;background-color: rgb(200, 200, 200);\"></td><td title=\"Index: [0, 56]&#10;Color: (0, 0, 200)\" style=\"width: 20px; height: 20px;background-color: rgb(0, 0, 200);\"></td><td title=\"Index: [0, 57]&#10;Color: (200, 200, 200)\" style=\"width: 20px; height: 20px;background-color: rgb(200, 200, 200);\"></td><td title=\"Index: [0, 58]&#10;Color: (200, 200, 200)\" style=\"width: 20px; height: 20px;background-color: rgb(200, 200, 200);\"></td><td title=\"Index: [0, 59]&#10;Color: (200, 200, 200)\" style=\"width: 20px; height: 20px;background-color: rgb(200, 200, 200);\"></td><td title=\"Index: [0, 60]&#10;Color: (200, 200, 200)\" style=\"width: 20px; height: 20px;background-color: rgb(200, 200, 200);\"></td><td title=\"Index: [0, 61]&#10;Color: (200, 200, 200)\" style=\"width: 20px; height: 20px;background-color: rgb(200, 200, 200);\"></td><td title=\"Index: [0, 62]&#10;Color: (0, 0, 200)\" style=\"width: 20px; height: 20px;background-color: rgb(0, 0, 200);\"></td><td title=\"Index: [0, 63]&#10;Color: (200, 200, 200)\" style=\"width: 20px; height: 20px;background-color: rgb(200, 200, 200);\"></td><td title=\"Index: [0, 64]&#10;Color: (0, 0, 200)\" style=\"width: 20px; height: 20px;background-color: rgb(0, 0, 200);\"></td><td title=\"Index: [0, 65]&#10;Color: (200, 200, 200)\" style=\"width: 20px; height: 20px;background-color: rgb(200, 200, 200);\"></td><td title=\"Index: [0, 66]&#10;Color: (200, 200, 200)\" style=\"width: 20px; height: 20px;background-color: rgb(200, 200, 200);\"></td><td title=\"Index: [0, 67]&#10;Color: (200, 200, 200)\" style=\"width: 20px; height: 20px;background-color: rgb(200, 200, 200);\"></td><td title=\"Index: [0, 68]&#10;Color: (200, 200, 200)\" style=\"width: 20px; height: 20px;background-color: rgb(200, 200, 200);\"></td><td title=\"Index: [0, 69]&#10;Color: (200, 200, 200)\" style=\"width: 20px; height: 20px;background-color: rgb(200, 200, 200);\"></td><td title=\"Index: [0, 70]&#10;Color: (200, 200, 200)\" style=\"width: 20px; height: 20px;background-color: rgb(200, 200, 200);\"></td><td title=\"Index: [0, 71]&#10;Color: (200, 0, 200)\" style=\"width: 20px; height: 20px;background-color: rgb(200, 0, 200);\"></td><td title=\"Index: [0, 72]&#10;Color: (200, 200, 200)\" style=\"width: 20px; height: 20px;background-color: rgb(200, 200, 200);\"></td><td title=\"Index: [0, 73]&#10;Color: (200, 200, 200)\" style=\"width: 20px; height: 20px;background-color: rgb(200, 200, 200);\"></td><td title=\"Index: [0, 74]&#10;Color: (200, 200, 200)\" style=\"width: 20px; height: 20px;background-color: rgb(200, 200, 200);\"></td><td title=\"Index: [0, 75]&#10;Color: (0, 0, 200)\" style=\"width: 20px; height: 20px;background-color: rgb(0, 0, 200);\"></td><td title=\"Index: [0, 76]&#10;Color: (200, 0, 0)\" style=\"width: 20px; height: 20px;background-color: rgb(200, 0, 0);\"></td><td title=\"Index: [0, 77]&#10;Color: (200, 0, 0)\" style=\"width: 20px; height: 20px;background-color: rgb(200, 0, 0);\"></td><td title=\"Index: [0, 78]&#10;Color: (200, 200, 200)\" style=\"width: 20px; height: 20px;background-color: rgb(200, 200, 200);\"></td><td title=\"Index: [0, 79]&#10;Color: (200, 200, 200)\" style=\"width: 20px; height: 20px;background-color: rgb(200, 200, 200);\"></td><td title=\"Index: [0, 80]&#10;Color: (0, 0, 200)\" style=\"width: 20px; height: 20px;background-color: rgb(0, 0, 200);\"></td><td title=\"Index: [0, 81]&#10;Color: (200, 0, 0)\" style=\"width: 20px; height: 20px;background-color: rgb(200, 0, 0);\"></td><td title=\"Index: [0, 82]&#10;Color: (200, 200, 200)\" style=\"width: 20px; height: 20px;background-color: rgb(200, 200, 200);\"></td><td title=\"Index: [0, 83]&#10;Color: (200, 200, 200)\" style=\"width: 20px; height: 20px;background-color: rgb(200, 200, 200);\"></td><td title=\"Index: [0, 84]&#10;Color: (200, 200, 200)\" style=\"width: 20px; height: 20px;background-color: rgb(200, 200, 200);\"></td><td title=\"Index: [0, 85]&#10;Color: (200, 200, 200)\" style=\"width: 20px; height: 20px;background-color: rgb(200, 200, 200);\"></td><td title=\"Index: [0, 86]&#10;Color: (200, 0, 0)\" style=\"width: 20px; height: 20px;background-color: rgb(200, 0, 0);\"></td><td title=\"Index: [0, 87]&#10;Color: (200, 200, 200)\" style=\"width: 20px; height: 20px;background-color: rgb(200, 200, 200);\"></td><td title=\"Index: [0, 88]&#10;Color: (200, 200, 200)\" style=\"width: 20px; height: 20px;background-color: rgb(200, 200, 200);\"></td><td title=\"Index: [0, 89]&#10;Color: (200, 200, 200)\" style=\"width: 20px; height: 20px;background-color: rgb(200, 200, 200);\"></td><td title=\"Index: [0, 90]&#10;Color: (200, 0, 200)\" style=\"width: 20px; height: 20px;background-color: rgb(200, 0, 200);\"></td><td title=\"Index: [0, 91]&#10;Color: (200, 200, 200)\" style=\"width: 20px; height: 20px;background-color: rgb(200, 200, 200);\"></td><td title=\"Index: [0, 92]&#10;Color: (200, 200, 200)\" style=\"width: 20px; height: 20px;background-color: rgb(200, 200, 200);\"></td><td title=\"Index: [0, 93]&#10;Color: (200, 0, 0)\" style=\"width: 20px; height: 20px;background-color: rgb(200, 0, 0);\"></td><td title=\"Index: [0, 94]&#10;Color: (200, 200, 200)\" style=\"width: 20px; height: 20px;background-color: rgb(200, 200, 200);\"></td><td title=\"Index: [0, 95]&#10;Color: (200, 200, 200)\" style=\"width: 20px; height: 20px;background-color: rgb(200, 200, 200);\"></td><td title=\"Index: [0, 96]&#10;Color: (200, 200, 200)\" style=\"width: 20px; height: 20px;background-color: rgb(200, 200, 200);\"></td><td title=\"Index: [0, 97]&#10;Color: (200, 0, 0)\" style=\"width: 20px; height: 20px;background-color: rgb(200, 0, 0);\"></td><td title=\"Index: [0, 98]&#10;Color: (200, 200, 200)\" style=\"width: 20px; height: 20px;background-color: rgb(200, 200, 200);\"></td><td title=\"Index: [0, 99]&#10;Color: (200, 0, 0)\" style=\"width: 20px; height: 20px;background-color: rgb(200, 0, 0);\"></td><td title=\"Index: [0, 100]&#10;Color: (200, 200, 200)\" style=\"width: 20px; height: 20px;background-color: rgb(200, 200, 200);\"></td><td title=\"Index: [0, 101]&#10;Color: (200, 200, 200)\" style=\"width: 20px; height: 20px;background-color: rgb(200, 200, 200);\"></td><td title=\"Index: [0, 102]&#10;Color: (200, 200, 200)\" style=\"width: 20px; height: 20px;background-color: rgb(200, 200, 200);\"></td><td title=\"Index: [0, 103]&#10;Color: (200, 200, 200)\" style=\"width: 20px; height: 20px;background-color: rgb(200, 200, 200);\"></td><td title=\"Index: [0, 104]&#10;Color: (200, 200, 200)\" style=\"width: 20px; height: 20px;background-color: rgb(200, 200, 200);\"></td><td title=\"Index: [0, 105]&#10;Color: (200, 200, 200)\" style=\"width: 20px; height: 20px;background-color: rgb(200, 200, 200);\"></td><td title=\"Index: [0, 106]&#10;Color: (200, 0, 0)\" style=\"width: 20px; height: 20px;background-color: rgb(200, 0, 0);\"></td><td title=\"Index: [0, 107]&#10;Color: (200, 200, 200)\" style=\"width: 20px; height: 20px;background-color: rgb(200, 200, 200);\"></td><td title=\"Index: [0, 108]&#10;Color: (200, 200, 200)\" style=\"width: 20px; height: 20px;background-color: rgb(200, 200, 200);\"></td><td title=\"Index: [0, 109]&#10;Color: (200, 200, 200)\" style=\"width: 20px; height: 20px;background-color: rgb(200, 200, 200);\"></td><td title=\"Index: [0, 110]&#10;Color: (200, 0, 0)\" style=\"width: 20px; height: 20px;background-color: rgb(200, 0, 0);\"></td><td title=\"Index: [0, 111]&#10;Color: (200, 200, 200)\" style=\"width: 20px; height: 20px;background-color: rgb(200, 200, 200);\"></td><td title=\"Index: [0, 112]&#10;Color: (200, 0, 0)\" style=\"width: 20px; height: 20px;background-color: rgb(200, 0, 0);\"></td><td title=\"Index: [0, 113]&#10;Color: (0, 0, 200)\" style=\"width: 20px; height: 20px;background-color: rgb(0, 0, 200);\"></td><td title=\"Index: [0, 114]&#10;Color: (200, 200, 200)\" style=\"width: 20px; height: 20px;background-color: rgb(200, 200, 200);\"></td><td title=\"Index: [0, 115]&#10;Color: (200, 200, 200)\" style=\"width: 20px; height: 20px;background-color: rgb(200, 200, 200);\"></td><td title=\"Index: [0, 116]&#10;Color: (0, 0, 200)\" style=\"width: 20px; height: 20px;background-color: rgb(0, 0, 200);\"></td><td title=\"Index: [0, 117]&#10;Color: (200, 200, 200)\" style=\"width: 20px; height: 20px;background-color: rgb(200, 200, 200);\"></td><td title=\"Index: [0, 118]&#10;Color: (200, 200, 200)\" style=\"width: 20px; height: 20px;background-color: rgb(200, 200, 200);\"></td><td title=\"Index: [0, 119]&#10;Color: (200, 0, 0)\" style=\"width: 20px; height: 20px;background-color: rgb(200, 0, 0);\"></td><td title=\"Index: [0, 120]&#10;Color: (200, 200, 200)\" style=\"width: 20px; height: 20px;background-color: rgb(200, 200, 200);\"></td><td title=\"Index: [0, 121]&#10;Color: (0, 0, 200)\" style=\"width: 20px; height: 20px;background-color: rgb(0, 0, 200);\"></td><td title=\"Index: [0, 122]&#10;Color: (200, 0, 200)\" style=\"width: 20px; height: 20px;background-color: rgb(200, 0, 200);\"></td><td title=\"Index: [0, 123]&#10;Color: (200, 200, 200)\" style=\"width: 20px; height: 20px;background-color: rgb(200, 200, 200);\"></td><td title=\"Index: [0, 124]&#10;Color: (200, 0, 0)\" style=\"width: 20px; height: 20px;background-color: rgb(200, 0, 0);\"></td><td title=\"Index: [0, 125]&#10;Color: (200, 200, 200)\" style=\"width: 20px; height: 20px;background-color: rgb(200, 200, 200);\"></td><td title=\"Index: [0, 126]&#10;Color: (200, 0, 200)\" style=\"width: 20px; height: 20px;background-color: rgb(200, 0, 200);\"></td><td title=\"Index: [0, 127]&#10;Color: (200, 0, 0)\" style=\"width: 20px; height: 20px;background-color: rgb(200, 0, 0);\"></td><td title=\"Index: [0, 128]&#10;Color: (200, 200, 200)\" style=\"width: 20px; height: 20px;background-color: rgb(200, 200, 200);\"></td><td title=\"Index: [0, 129]&#10;Color: (200, 200, 200)\" style=\"width: 20px; height: 20px;background-color: rgb(200, 200, 200);\"></td><td title=\"Index: [0, 130]&#10;Color: (0, 0, 200)\" style=\"width: 20px; height: 20px;background-color: rgb(0, 0, 200);\"></td><td title=\"Index: [0, 131]&#10;Color: (200, 200, 200)\" style=\"width: 20px; height: 20px;background-color: rgb(200, 200, 200);\"></td><td title=\"Index: [0, 132]&#10;Color: (200, 200, 200)\" style=\"width: 20px; height: 20px;background-color: rgb(200, 200, 200);\"></td><td title=\"Index: [0, 133]&#10;Color: (200, 0, 0)\" style=\"width: 20px; height: 20px;background-color: rgb(200, 0, 0);\"></td><td title=\"Index: [0, 134]&#10;Color: (0, 0, 200)\" style=\"width: 20px; height: 20px;background-color: rgb(0, 0, 200);\"></td><td title=\"Index: [0, 135]&#10;Color: (200, 200, 200)\" style=\"width: 20px; height: 20px;background-color: rgb(200, 200, 200);\"></td><td title=\"Index: [0, 136]&#10;Color: (200, 0, 0)\" style=\"width: 20px; height: 20px;background-color: rgb(200, 0, 0);\"></td><td title=\"Index: [0, 137]&#10;Color: (200, 0, 0)\" style=\"width: 20px; height: 20px;background-color: rgb(200, 0, 0);\"></td><td title=\"Index: [0, 138]&#10;Color: (200, 200, 200)\" style=\"width: 20px; height: 20px;background-color: rgb(200, 200, 200);\"></td><td title=\"Index: [0, 139]&#10;Color: (200, 200, 200)\" style=\"width: 20px; height: 20px;background-color: rgb(200, 200, 200);\"></td><td title=\"Index: [0, 140]&#10;Color: (200, 0, 0)\" style=\"width: 20px; height: 20px;background-color: rgb(200, 0, 0);\"></td><td title=\"Index: [0, 141]&#10;Color: (200, 0, 0)\" style=\"width: 20px; height: 20px;background-color: rgb(200, 0, 0);\"></td><td title=\"Index: [0, 142]&#10;Color: (0, 0, 200)\" style=\"width: 20px; height: 20px;background-color: rgb(0, 0, 200);\"></td><td title=\"Index: [0, 143]&#10;Color: (200, 200, 200)\" style=\"width: 20px; height: 20px;background-color: rgb(200, 200, 200);\"></td><td title=\"Index: [0, 144]&#10;Color: (200, 200, 200)\" style=\"width: 20px; height: 20px;background-color: rgb(200, 200, 200);\"></td><td title=\"Index: [0, 145]&#10;Color: (200, 200, 200)\" style=\"width: 20px; height: 20px;background-color: rgb(200, 200, 200);\"></td><td title=\"Index: [0, 146]&#10;Color: (200, 200, 200)\" style=\"width: 20px; height: 20px;background-color: rgb(200, 200, 200);\"></td><td title=\"Index: [0, 147]&#10;Color: (0, 0, 200)\" style=\"width: 20px; height: 20px;background-color: rgb(0, 0, 200);\"></td><td title=\"Index: [0, 148]&#10;Color: (200, 200, 200)\" style=\"width: 20px; height: 20px;background-color: rgb(200, 200, 200);\"></td><td title=\"Index: [0, 149]&#10;Color: (200, 200, 200)\" style=\"width: 20px; height: 20px;background-color: rgb(200, 200, 200);\"></td><td title=\"Index: [0, 150]&#10;Color: (200, 200, 200)\" style=\"width: 20px; height: 20px;background-color: rgb(200, 200, 200);\"></td><td title=\"Index: [0, 151]&#10;Color: (0, 0, 200)\" style=\"width: 20px; height: 20px;background-color: rgb(0, 0, 200);\"></td><td title=\"Index: [0, 152]&#10;Color: (200, 200, 200)\" style=\"width: 20px; height: 20px;background-color: rgb(200, 200, 200);\"></td><td title=\"Index: [0, 153]&#10;Color: (0, 0, 200)\" style=\"width: 20px; height: 20px;background-color: rgb(0, 0, 200);\"></td><td title=\"Index: [0, 154]&#10;Color: (200, 200, 200)\" style=\"width: 20px; height: 20px;background-color: rgb(200, 200, 200);\"></td><td title=\"Index: [0, 155]&#10;Color: (200, 0, 0)\" style=\"width: 20px; height: 20px;background-color: rgb(200, 0, 0);\"></td><td title=\"Index: [0, 156]&#10;Color: (200, 200, 200)\" style=\"width: 20px; height: 20px;background-color: rgb(200, 200, 200);\"></td><td title=\"Index: [0, 157]&#10;Color: (0, 0, 200)\" style=\"width: 20px; height: 20px;background-color: rgb(0, 0, 200);\"></td><td title=\"Index: [0, 158]&#10;Color: (0, 0, 200)\" style=\"width: 20px; height: 20px;background-color: rgb(0, 0, 200);\"></td><td title=\"Index: [0, 159]&#10;Color: (200, 200, 200)\" style=\"width: 20px; height: 20px;background-color: rgb(200, 200, 200);\"></td><td title=\"Index: [0, 160]&#10;Color: (200, 0, 0)\" style=\"width: 20px; height: 20px;background-color: rgb(200, 0, 0);\"></td><td title=\"Index: [0, 161]&#10;Color: (0, 0, 200)\" style=\"width: 20px; height: 20px;background-color: rgb(0, 0, 200);\"></td><td title=\"Index: [0, 162]&#10;Color: (200, 200, 200)\" style=\"width: 20px; height: 20px;background-color: rgb(200, 200, 200);\"></td><td title=\"Index: [0, 163]&#10;Color: (200, 200, 200)\" style=\"width: 20px; height: 20px;background-color: rgb(200, 200, 200);\"></td><td title=\"Index: [0, 164]&#10;Color: (200, 200, 200)\" style=\"width: 20px; height: 20px;background-color: rgb(200, 200, 200);\"></td><td title=\"Index: [0, 165]&#10;Color: (200, 0, 0)\" style=\"width: 20px; height: 20px;background-color: rgb(200, 0, 0);\"></td><td title=\"Index: [0, 166]&#10;Color: (200, 200, 200)\" style=\"width: 20px; height: 20px;background-color: rgb(200, 200, 200);\"></td><td title=\"Index: [0, 167]&#10;Color: (200, 0, 0)\" style=\"width: 20px; height: 20px;background-color: rgb(200, 0, 0);\"></td><td title=\"Index: [0, 168]&#10;Color: (200, 200, 200)\" style=\"width: 20px; height: 20px;background-color: rgb(200, 200, 200);\"></td><td title=\"Index: [0, 169]&#10;Color: (200, 0, 0)\" style=\"width: 20px; height: 20px;background-color: rgb(200, 0, 0);\"></td><td title=\"Index: [0, 170]&#10;Color: (200, 200, 200)\" style=\"width: 20px; height: 20px;background-color: rgb(200, 200, 200);\"></td><td title=\"Index: [0, 171]&#10;Color: (200, 200, 200)\" style=\"width: 20px; height: 20px;background-color: rgb(200, 200, 200);\"></td><td title=\"Index: [0, 172]&#10;Color: (200, 200, 200)\" style=\"width: 20px; height: 20px;background-color: rgb(200, 200, 200);\"></td><td title=\"Index: [0, 173]&#10;Color: (0, 0, 200)\" style=\"width: 20px; height: 20px;background-color: rgb(0, 0, 200);\"></td><td title=\"Index: [0, 174]&#10;Color: (0, 0, 200)\" style=\"width: 20px; height: 20px;background-color: rgb(0, 0, 200);\"></td><td title=\"Index: [0, 175]&#10;Color: (200, 200, 200)\" style=\"width: 20px; height: 20px;background-color: rgb(200, 200, 200);\"></td><td title=\"Index: [0, 176]&#10;Color: (200, 200, 200)\" style=\"width: 20px; height: 20px;background-color: rgb(200, 200, 200);\"></td><td title=\"Index: [0, 177]&#10;Color: (200, 200, 200)\" style=\"width: 20px; height: 20px;background-color: rgb(200, 200, 200);\"></td><td title=\"Index: [0, 178]&#10;Color: (200, 200, 200)\" style=\"width: 20px; height: 20px;background-color: rgb(200, 200, 200);\"></td><td title=\"Index: [0, 179]&#10;Color: (200, 200, 200)\" style=\"width: 20px; height: 20px;background-color: rgb(200, 200, 200);\"></td><td title=\"Index: [0, 180]&#10;Color: (200, 200, 200)\" style=\"width: 20px; height: 20px;background-color: rgb(200, 200, 200);\"></td><td title=\"Index: [0, 181]&#10;Color: (200, 200, 200)\" style=\"width: 20px; height: 20px;background-color: rgb(200, 200, 200);\"></td><td title=\"Index: [0, 182]&#10;Color: (200, 0, 200)\" style=\"width: 20px; height: 20px;background-color: rgb(200, 0, 200);\"></td><td title=\"Index: [0, 183]&#10;Color: (200, 200, 200)\" style=\"width: 20px; height: 20px;background-color: rgb(200, 200, 200);\"></td><td title=\"Index: [0, 184]&#10;Color: (200, 0, 200)\" style=\"width: 20px; height: 20px;background-color: rgb(200, 0, 200);\"></td><td title=\"Index: [0, 185]&#10;Color: (200, 200, 200)\" style=\"width: 20px; height: 20px;background-color: rgb(200, 200, 200);\"></td><td title=\"Index: [0, 186]&#10;Color: (200, 200, 200)\" style=\"width: 20px; height: 20px;background-color: rgb(200, 200, 200);\"></td><td title=\"Index: [0, 187]&#10;Color: (0, 0, 200)\" style=\"width: 20px; height: 20px;background-color: rgb(0, 0, 200);\"></td><td title=\"Index: [0, 188]&#10;Color: (200, 200, 200)\" style=\"width: 20px; height: 20px;background-color: rgb(200, 200, 200);\"></td><td title=\"Index: [0, 189]&#10;Color: (0, 0, 200)\" style=\"width: 20px; height: 20px;background-color: rgb(0, 0, 200);\"></td><td title=\"Index: [0, 190]&#10;Color: (0, 0, 200)\" style=\"width: 20px; height: 20px;background-color: rgb(0, 0, 200);\"></td><td title=\"Index: [0, 191]&#10;Color: (200, 200, 200)\" style=\"width: 20px; height: 20px;background-color: rgb(200, 200, 200);\"></td><td title=\"Index: [0, 192]&#10;Color: (0, 0, 200)\" style=\"width: 20px; height: 20px;background-color: rgb(0, 0, 200);\"></td><td title=\"Index: [0, 193]&#10;Color: (200, 0, 0)\" style=\"width: 20px; height: 20px;background-color: rgb(200, 0, 0);\"></td><td title=\"Index: [0, 194]&#10;Color: (200, 200, 200)\" style=\"width: 20px; height: 20px;background-color: rgb(200, 200, 200);\"></td><td title=\"Index: [0, 195]&#10;Color: (0, 0, 200)\" style=\"width: 20px; height: 20px;background-color: rgb(0, 0, 200);\"></td><td title=\"Index: [0, 196]&#10;Color: (200, 0, 0)\" style=\"width: 20px; height: 20px;background-color: rgb(200, 0, 0);\"></td><td title=\"Index: [0, 197]&#10;Color: (200, 200, 200)\" style=\"width: 20px; height: 20px;background-color: rgb(200, 200, 200);\"></td><td title=\"Index: [0, 198]&#10;Color: (200, 200, 200)\" style=\"width: 20px; height: 20px;background-color: rgb(200, 200, 200);\"></td><td title=\"Index: [0, 199]&#10;Color: (0, 0, 200)\" style=\"width: 20px; height: 20px;background-color: rgb(0, 0, 200);\"></td></tr></tbody></table>",
          "text/plain": "<ipythonblocks.ipythonblocks.BlockGrid at 0x7f694008d4a8>"
         },
         "metadata": {},
         "output_type": "display_data"
        },
        {
         "data": {
          "text/html": "<style type=\"text/css\">table.blockgrid {border: none;} .blockgrid tr {border: none;} .blockgrid td {padding: 0px;} #blocks54872fe5-ea70-4fc1-94c5-3a882151ed5f td {border: 1px solid white;}</style><table id=\"blocks54872fe5-ea70-4fc1-94c5-3a882151ed5f\" class=\"blockgrid\"><tbody><tr><td title=\"Index: [0, 0]&#10;Color: (200, 0, 200)\" style=\"width: 20px; height: 20px;background-color: rgb(200, 0, 200);\"></td><td title=\"Index: [0, 1]&#10;Color: (0, 0, 200)\" style=\"width: 20px; height: 20px;background-color: rgb(0, 0, 200);\"></td><td title=\"Index: [0, 2]&#10;Color: (0, 0, 200)\" style=\"width: 20px; height: 20px;background-color: rgb(0, 0, 200);\"></td><td title=\"Index: [0, 3]&#10;Color: (0, 0, 200)\" style=\"width: 20px; height: 20px;background-color: rgb(0, 0, 200);\"></td><td title=\"Index: [0, 4]&#10;Color: (200, 0, 200)\" style=\"width: 20px; height: 20px;background-color: rgb(200, 0, 200);\"></td><td title=\"Index: [0, 5]&#10;Color: (0, 0, 200)\" style=\"width: 20px; height: 20px;background-color: rgb(0, 0, 200);\"></td><td title=\"Index: [0, 6]&#10;Color: (0, 0, 200)\" style=\"width: 20px; height: 20px;background-color: rgb(0, 0, 200);\"></td><td title=\"Index: [0, 7]&#10;Color: (0, 0, 200)\" style=\"width: 20px; height: 20px;background-color: rgb(0, 0, 200);\"></td><td title=\"Index: [0, 8]&#10;Color: (200, 0, 200)\" style=\"width: 20px; height: 20px;background-color: rgb(200, 0, 200);\"></td><td title=\"Index: [0, 9]&#10;Color: (0, 0, 200)\" style=\"width: 20px; height: 20px;background-color: rgb(0, 0, 200);\"></td><td title=\"Index: [0, 10]&#10;Color: (0, 0, 200)\" style=\"width: 20px; height: 20px;background-color: rgb(0, 0, 200);\"></td><td title=\"Index: [0, 11]&#10;Color: (0, 0, 200)\" style=\"width: 20px; height: 20px;background-color: rgb(0, 0, 200);\"></td><td title=\"Index: [0, 12]&#10;Color: (200, 0, 200)\" style=\"width: 20px; height: 20px;background-color: rgb(200, 0, 200);\"></td><td title=\"Index: [0, 13]&#10;Color: (0, 0, 200)\" style=\"width: 20px; height: 20px;background-color: rgb(0, 0, 200);\"></td><td title=\"Index: [0, 14]&#10;Color: (0, 0, 200)\" style=\"width: 20px; height: 20px;background-color: rgb(0, 0, 200);\"></td><td title=\"Index: [0, 15]&#10;Color: (0, 0, 200)\" style=\"width: 20px; height: 20px;background-color: rgb(0, 0, 200);\"></td><td title=\"Index: [0, 16]&#10;Color: (200, 0, 200)\" style=\"width: 20px; height: 20px;background-color: rgb(200, 0, 200);\"></td><td title=\"Index: [0, 17]&#10;Color: (0, 0, 200)\" style=\"width: 20px; height: 20px;background-color: rgb(0, 0, 200);\"></td><td title=\"Index: [0, 18]&#10;Color: (0, 0, 200)\" style=\"width: 20px; height: 20px;background-color: rgb(0, 0, 200);\"></td><td title=\"Index: [0, 19]&#10;Color: (0, 0, 200)\" style=\"width: 20px; height: 20px;background-color: rgb(0, 0, 200);\"></td><td title=\"Index: [0, 20]&#10;Color: (200, 0, 200)\" style=\"width: 20px; height: 20px;background-color: rgb(200, 0, 200);\"></td><td title=\"Index: [0, 21]&#10;Color: (0, 0, 200)\" style=\"width: 20px; height: 20px;background-color: rgb(0, 0, 200);\"></td><td title=\"Index: [0, 22]&#10;Color: (0, 0, 200)\" style=\"width: 20px; height: 20px;background-color: rgb(0, 0, 200);\"></td><td title=\"Index: [0, 23]&#10;Color: (0, 0, 200)\" style=\"width: 20px; height: 20px;background-color: rgb(0, 0, 200);\"></td><td title=\"Index: [0, 24]&#10;Color: (200, 0, 200)\" style=\"width: 20px; height: 20px;background-color: rgb(200, 0, 200);\"></td><td title=\"Index: [0, 25]&#10;Color: (0, 0, 200)\" style=\"width: 20px; height: 20px;background-color: rgb(0, 0, 200);\"></td><td title=\"Index: [0, 26]&#10;Color: (0, 0, 200)\" style=\"width: 20px; height: 20px;background-color: rgb(0, 0, 200);\"></td><td title=\"Index: [0, 27]&#10;Color: (0, 0, 200)\" style=\"width: 20px; height: 20px;background-color: rgb(0, 0, 200);\"></td><td title=\"Index: [0, 28]&#10;Color: (200, 0, 0)\" style=\"width: 20px; height: 20px;background-color: rgb(200, 0, 0);\"></td><td title=\"Index: [0, 29]&#10;Color: (0, 0, 200)\" style=\"width: 20px; height: 20px;background-color: rgb(0, 0, 200);\"></td><td title=\"Index: [0, 30]&#10;Color: (0, 0, 200)\" style=\"width: 20px; height: 20px;background-color: rgb(0, 0, 200);\"></td><td title=\"Index: [0, 31]&#10;Color: (0, 0, 200)\" style=\"width: 20px; height: 20px;background-color: rgb(0, 0, 200);\"></td><td title=\"Index: [0, 32]&#10;Color: (200, 0, 0)\" style=\"width: 20px; height: 20px;background-color: rgb(200, 0, 0);\"></td><td title=\"Index: [0, 33]&#10;Color: (0, 0, 200)\" style=\"width: 20px; height: 20px;background-color: rgb(0, 0, 200);\"></td><td title=\"Index: [0, 34]&#10;Color: (0, 0, 200)\" style=\"width: 20px; height: 20px;background-color: rgb(0, 0, 200);\"></td><td title=\"Index: [0, 35]&#10;Color: (0, 0, 200)\" style=\"width: 20px; height: 20px;background-color: rgb(0, 0, 200);\"></td><td title=\"Index: [0, 36]&#10;Color: (200, 0, 0)\" style=\"width: 20px; height: 20px;background-color: rgb(200, 0, 0);\"></td><td title=\"Index: [0, 37]&#10;Color: (0, 0, 200)\" style=\"width: 20px; height: 20px;background-color: rgb(0, 0, 200);\"></td><td title=\"Index: [0, 38]&#10;Color: (0, 0, 200)\" style=\"width: 20px; height: 20px;background-color: rgb(0, 0, 200);\"></td><td title=\"Index: [0, 39]&#10;Color: (0, 0, 200)\" style=\"width: 20px; height: 20px;background-color: rgb(0, 0, 200);\"></td><td title=\"Index: [0, 40]&#10;Color: (200, 0, 0)\" style=\"width: 20px; height: 20px;background-color: rgb(200, 0, 0);\"></td><td title=\"Index: [0, 41]&#10;Color: (0, 0, 200)\" style=\"width: 20px; height: 20px;background-color: rgb(0, 0, 200);\"></td><td title=\"Index: [0, 42]&#10;Color: (0, 0, 200)\" style=\"width: 20px; height: 20px;background-color: rgb(0, 0, 200);\"></td><td title=\"Index: [0, 43]&#10;Color: (0, 0, 200)\" style=\"width: 20px; height: 20px;background-color: rgb(0, 0, 200);\"></td><td title=\"Index: [0, 44]&#10;Color: (200, 0, 0)\" style=\"width: 20px; height: 20px;background-color: rgb(200, 0, 0);\"></td><td title=\"Index: [0, 45]&#10;Color: (200, 200, 200)\" style=\"width: 20px; height: 20px;background-color: rgb(200, 200, 200);\"></td><td title=\"Index: [0, 46]&#10;Color: (200, 200, 200)\" style=\"width: 20px; height: 20px;background-color: rgb(200, 200, 200);\"></td><td title=\"Index: [0, 47]&#10;Color: (200, 200, 200)\" style=\"width: 20px; height: 20px;background-color: rgb(200, 200, 200);\"></td><td title=\"Index: [0, 48]&#10;Color: (200, 0, 0)\" style=\"width: 20px; height: 20px;background-color: rgb(200, 0, 0);\"></td><td title=\"Index: [0, 49]&#10;Color: (200, 200, 200)\" style=\"width: 20px; height: 20px;background-color: rgb(200, 200, 200);\"></td><td title=\"Index: [0, 50]&#10;Color: (200, 200, 200)\" style=\"width: 20px; height: 20px;background-color: rgb(200, 200, 200);\"></td><td title=\"Index: [0, 51]&#10;Color: (200, 200, 200)\" style=\"width: 20px; height: 20px;background-color: rgb(200, 200, 200);\"></td><td title=\"Index: [0, 52]&#10;Color: (200, 0, 0)\" style=\"width: 20px; height: 20px;background-color: rgb(200, 0, 0);\"></td><td title=\"Index: [0, 53]&#10;Color: (200, 200, 200)\" style=\"width: 20px; height: 20px;background-color: rgb(200, 200, 200);\"></td><td title=\"Index: [0, 54]&#10;Color: (200, 200, 200)\" style=\"width: 20px; height: 20px;background-color: rgb(200, 200, 200);\"></td><td title=\"Index: [0, 55]&#10;Color: (200, 200, 200)\" style=\"width: 20px; height: 20px;background-color: rgb(200, 200, 200);\"></td><td title=\"Index: [0, 56]&#10;Color: (200, 0, 0)\" style=\"width: 20px; height: 20px;background-color: rgb(200, 0, 0);\"></td><td title=\"Index: [0, 57]&#10;Color: (200, 200, 200)\" style=\"width: 20px; height: 20px;background-color: rgb(200, 200, 200);\"></td><td title=\"Index: [0, 58]&#10;Color: (200, 200, 200)\" style=\"width: 20px; height: 20px;background-color: rgb(200, 200, 200);\"></td><td title=\"Index: [0, 59]&#10;Color: (200, 200, 200)\" style=\"width: 20px; height: 20px;background-color: rgb(200, 200, 200);\"></td><td title=\"Index: [0, 60]&#10;Color: (200, 0, 0)\" style=\"width: 20px; height: 20px;background-color: rgb(200, 0, 0);\"></td><td title=\"Index: [0, 61]&#10;Color: (200, 200, 200)\" style=\"width: 20px; height: 20px;background-color: rgb(200, 200, 200);\"></td><td title=\"Index: [0, 62]&#10;Color: (200, 200, 200)\" style=\"width: 20px; height: 20px;background-color: rgb(200, 200, 200);\"></td><td title=\"Index: [0, 63]&#10;Color: (200, 200, 200)\" style=\"width: 20px; height: 20px;background-color: rgb(200, 200, 200);\"></td><td title=\"Index: [0, 64]&#10;Color: (200, 0, 0)\" style=\"width: 20px; height: 20px;background-color: rgb(200, 0, 0);\"></td><td title=\"Index: [0, 65]&#10;Color: (200, 200, 200)\" style=\"width: 20px; height: 20px;background-color: rgb(200, 200, 200);\"></td><td title=\"Index: [0, 66]&#10;Color: (200, 200, 200)\" style=\"width: 20px; height: 20px;background-color: rgb(200, 200, 200);\"></td><td title=\"Index: [0, 67]&#10;Color: (200, 200, 200)\" style=\"width: 20px; height: 20px;background-color: rgb(200, 200, 200);\"></td><td title=\"Index: [0, 68]&#10;Color: (200, 0, 0)\" style=\"width: 20px; height: 20px;background-color: rgb(200, 0, 0);\"></td><td title=\"Index: [0, 69]&#10;Color: (200, 200, 200)\" style=\"width: 20px; height: 20px;background-color: rgb(200, 200, 200);\"></td><td title=\"Index: [0, 70]&#10;Color: (200, 200, 200)\" style=\"width: 20px; height: 20px;background-color: rgb(200, 200, 200);\"></td><td title=\"Index: [0, 71]&#10;Color: (200, 200, 200)\" style=\"width: 20px; height: 20px;background-color: rgb(200, 200, 200);\"></td><td title=\"Index: [0, 72]&#10;Color: (200, 0, 0)\" style=\"width: 20px; height: 20px;background-color: rgb(200, 0, 0);\"></td><td title=\"Index: [0, 73]&#10;Color: (200, 200, 200)\" style=\"width: 20px; height: 20px;background-color: rgb(200, 200, 200);\"></td><td title=\"Index: [0, 74]&#10;Color: (200, 200, 200)\" style=\"width: 20px; height: 20px;background-color: rgb(200, 200, 200);\"></td><td title=\"Index: [0, 75]&#10;Color: (200, 200, 200)\" style=\"width: 20px; height: 20px;background-color: rgb(200, 200, 200);\"></td><td title=\"Index: [0, 76]&#10;Color: (200, 0, 0)\" style=\"width: 20px; height: 20px;background-color: rgb(200, 0, 0);\"></td><td title=\"Index: [0, 77]&#10;Color: (200, 200, 200)\" style=\"width: 20px; height: 20px;background-color: rgb(200, 200, 200);\"></td><td title=\"Index: [0, 78]&#10;Color: (200, 200, 200)\" style=\"width: 20px; height: 20px;background-color: rgb(200, 200, 200);\"></td><td title=\"Index: [0, 79]&#10;Color: (200, 200, 200)\" style=\"width: 20px; height: 20px;background-color: rgb(200, 200, 200);\"></td><td title=\"Index: [0, 80]&#10;Color: (200, 0, 0)\" style=\"width: 20px; height: 20px;background-color: rgb(200, 0, 0);\"></td><td title=\"Index: [0, 81]&#10;Color: (200, 200, 200)\" style=\"width: 20px; height: 20px;background-color: rgb(200, 200, 200);\"></td><td title=\"Index: [0, 82]&#10;Color: (200, 200, 200)\" style=\"width: 20px; height: 20px;background-color: rgb(200, 200, 200);\"></td><td title=\"Index: [0, 83]&#10;Color: (200, 200, 200)\" style=\"width: 20px; height: 20px;background-color: rgb(200, 200, 200);\"></td><td title=\"Index: [0, 84]&#10;Color: (200, 0, 0)\" style=\"width: 20px; height: 20px;background-color: rgb(200, 0, 0);\"></td><td title=\"Index: [0, 85]&#10;Color: (200, 200, 200)\" style=\"width: 20px; height: 20px;background-color: rgb(200, 200, 200);\"></td><td title=\"Index: [0, 86]&#10;Color: (200, 200, 200)\" style=\"width: 20px; height: 20px;background-color: rgb(200, 200, 200);\"></td><td title=\"Index: [0, 87]&#10;Color: (200, 200, 200)\" style=\"width: 20px; height: 20px;background-color: rgb(200, 200, 200);\"></td><td title=\"Index: [0, 88]&#10;Color: (200, 0, 0)\" style=\"width: 20px; height: 20px;background-color: rgb(200, 0, 0);\"></td><td title=\"Index: [0, 89]&#10;Color: (200, 200, 200)\" style=\"width: 20px; height: 20px;background-color: rgb(200, 200, 200);\"></td><td title=\"Index: [0, 90]&#10;Color: (200, 200, 200)\" style=\"width: 20px; height: 20px;background-color: rgb(200, 200, 200);\"></td><td title=\"Index: [0, 91]&#10;Color: (200, 200, 200)\" style=\"width: 20px; height: 20px;background-color: rgb(200, 200, 200);\"></td><td title=\"Index: [0, 92]&#10;Color: (200, 0, 0)\" style=\"width: 20px; height: 20px;background-color: rgb(200, 0, 0);\"></td><td title=\"Index: [0, 93]&#10;Color: (200, 200, 200)\" style=\"width: 20px; height: 20px;background-color: rgb(200, 200, 200);\"></td><td title=\"Index: [0, 94]&#10;Color: (200, 200, 200)\" style=\"width: 20px; height: 20px;background-color: rgb(200, 200, 200);\"></td><td title=\"Index: [0, 95]&#10;Color: (200, 200, 200)\" style=\"width: 20px; height: 20px;background-color: rgb(200, 200, 200);\"></td><td title=\"Index: [0, 96]&#10;Color: (200, 0, 0)\" style=\"width: 20px; height: 20px;background-color: rgb(200, 0, 0);\"></td><td title=\"Index: [0, 97]&#10;Color: (200, 200, 200)\" style=\"width: 20px; height: 20px;background-color: rgb(200, 200, 200);\"></td><td title=\"Index: [0, 98]&#10;Color: (200, 200, 200)\" style=\"width: 20px; height: 20px;background-color: rgb(200, 200, 200);\"></td><td title=\"Index: [0, 99]&#10;Color: (200, 200, 200)\" style=\"width: 20px; height: 20px;background-color: rgb(200, 200, 200);\"></td><td title=\"Index: [0, 100]&#10;Color: (200, 0, 0)\" style=\"width: 20px; height: 20px;background-color: rgb(200, 0, 0);\"></td><td title=\"Index: [0, 101]&#10;Color: (200, 200, 200)\" style=\"width: 20px; height: 20px;background-color: rgb(200, 200, 200);\"></td><td title=\"Index: [0, 102]&#10;Color: (200, 200, 200)\" style=\"width: 20px; height: 20px;background-color: rgb(200, 200, 200);\"></td><td title=\"Index: [0, 103]&#10;Color: (200, 200, 200)\" style=\"width: 20px; height: 20px;background-color: rgb(200, 200, 200);\"></td><td title=\"Index: [0, 104]&#10;Color: (200, 0, 0)\" style=\"width: 20px; height: 20px;background-color: rgb(200, 0, 0);\"></td><td title=\"Index: [0, 105]&#10;Color: (200, 200, 200)\" style=\"width: 20px; height: 20px;background-color: rgb(200, 200, 200);\"></td><td title=\"Index: [0, 106]&#10;Color: (200, 200, 200)\" style=\"width: 20px; height: 20px;background-color: rgb(200, 200, 200);\"></td><td title=\"Index: [0, 107]&#10;Color: (200, 200, 200)\" style=\"width: 20px; height: 20px;background-color: rgb(200, 200, 200);\"></td><td title=\"Index: [0, 108]&#10;Color: (200, 0, 0)\" style=\"width: 20px; height: 20px;background-color: rgb(200, 0, 0);\"></td><td title=\"Index: [0, 109]&#10;Color: (200, 200, 200)\" style=\"width: 20px; height: 20px;background-color: rgb(200, 200, 200);\"></td><td title=\"Index: [0, 110]&#10;Color: (200, 200, 200)\" style=\"width: 20px; height: 20px;background-color: rgb(200, 200, 200);\"></td><td title=\"Index: [0, 111]&#10;Color: (200, 200, 200)\" style=\"width: 20px; height: 20px;background-color: rgb(200, 200, 200);\"></td><td title=\"Index: [0, 112]&#10;Color: (200, 0, 0)\" style=\"width: 20px; height: 20px;background-color: rgb(200, 0, 0);\"></td><td title=\"Index: [0, 113]&#10;Color: (200, 200, 200)\" style=\"width: 20px; height: 20px;background-color: rgb(200, 200, 200);\"></td><td title=\"Index: [0, 114]&#10;Color: (200, 200, 200)\" style=\"width: 20px; height: 20px;background-color: rgb(200, 200, 200);\"></td><td title=\"Index: [0, 115]&#10;Color: (200, 200, 200)\" style=\"width: 20px; height: 20px;background-color: rgb(200, 200, 200);\"></td><td title=\"Index: [0, 116]&#10;Color: (200, 0, 0)\" style=\"width: 20px; height: 20px;background-color: rgb(200, 0, 0);\"></td><td title=\"Index: [0, 117]&#10;Color: (200, 200, 200)\" style=\"width: 20px; height: 20px;background-color: rgb(200, 200, 200);\"></td><td title=\"Index: [0, 118]&#10;Color: (200, 200, 200)\" style=\"width: 20px; height: 20px;background-color: rgb(200, 200, 200);\"></td><td title=\"Index: [0, 119]&#10;Color: (200, 200, 200)\" style=\"width: 20px; height: 20px;background-color: rgb(200, 200, 200);\"></td><td title=\"Index: [0, 120]&#10;Color: (200, 0, 0)\" style=\"width: 20px; height: 20px;background-color: rgb(200, 0, 0);\"></td><td title=\"Index: [0, 121]&#10;Color: (200, 200, 200)\" style=\"width: 20px; height: 20px;background-color: rgb(200, 200, 200);\"></td><td title=\"Index: [0, 122]&#10;Color: (200, 200, 200)\" style=\"width: 20px; height: 20px;background-color: rgb(200, 200, 200);\"></td><td title=\"Index: [0, 123]&#10;Color: (200, 200, 200)\" style=\"width: 20px; height: 20px;background-color: rgb(200, 200, 200);\"></td><td title=\"Index: [0, 124]&#10;Color: (200, 0, 0)\" style=\"width: 20px; height: 20px;background-color: rgb(200, 0, 0);\"></td><td title=\"Index: [0, 125]&#10;Color: (200, 200, 200)\" style=\"width: 20px; height: 20px;background-color: rgb(200, 200, 200);\"></td><td title=\"Index: [0, 126]&#10;Color: (200, 200, 200)\" style=\"width: 20px; height: 20px;background-color: rgb(200, 200, 200);\"></td><td title=\"Index: [0, 127]&#10;Color: (200, 200, 200)\" style=\"width: 20px; height: 20px;background-color: rgb(200, 200, 200);\"></td><td title=\"Index: [0, 128]&#10;Color: (200, 0, 0)\" style=\"width: 20px; height: 20px;background-color: rgb(200, 0, 0);\"></td><td title=\"Index: [0, 129]&#10;Color: (200, 200, 200)\" style=\"width: 20px; height: 20px;background-color: rgb(200, 200, 200);\"></td><td title=\"Index: [0, 130]&#10;Color: (200, 200, 200)\" style=\"width: 20px; height: 20px;background-color: rgb(200, 200, 200);\"></td><td title=\"Index: [0, 131]&#10;Color: (200, 200, 200)\" style=\"width: 20px; height: 20px;background-color: rgb(200, 200, 200);\"></td><td title=\"Index: [0, 132]&#10;Color: (200, 0, 0)\" style=\"width: 20px; height: 20px;background-color: rgb(200, 0, 0);\"></td><td title=\"Index: [0, 133]&#10;Color: (200, 200, 200)\" style=\"width: 20px; height: 20px;background-color: rgb(200, 200, 200);\"></td><td title=\"Index: [0, 134]&#10;Color: (200, 200, 200)\" style=\"width: 20px; height: 20px;background-color: rgb(200, 200, 200);\"></td><td title=\"Index: [0, 135]&#10;Color: (200, 200, 200)\" style=\"width: 20px; height: 20px;background-color: rgb(200, 200, 200);\"></td><td title=\"Index: [0, 136]&#10;Color: (200, 0, 0)\" style=\"width: 20px; height: 20px;background-color: rgb(200, 0, 0);\"></td><td title=\"Index: [0, 137]&#10;Color: (200, 200, 200)\" style=\"width: 20px; height: 20px;background-color: rgb(200, 200, 200);\"></td><td title=\"Index: [0, 138]&#10;Color: (200, 200, 200)\" style=\"width: 20px; height: 20px;background-color: rgb(200, 200, 200);\"></td><td title=\"Index: [0, 139]&#10;Color: (200, 200, 200)\" style=\"width: 20px; height: 20px;background-color: rgb(200, 200, 200);\"></td><td title=\"Index: [0, 140]&#10;Color: (200, 0, 0)\" style=\"width: 20px; height: 20px;background-color: rgb(200, 0, 0);\"></td><td title=\"Index: [0, 141]&#10;Color: (200, 200, 200)\" style=\"width: 20px; height: 20px;background-color: rgb(200, 200, 200);\"></td><td title=\"Index: [0, 142]&#10;Color: (200, 200, 200)\" style=\"width: 20px; height: 20px;background-color: rgb(200, 200, 200);\"></td><td title=\"Index: [0, 143]&#10;Color: (200, 200, 200)\" style=\"width: 20px; height: 20px;background-color: rgb(200, 200, 200);\"></td><td title=\"Index: [0, 144]&#10;Color: (200, 0, 0)\" style=\"width: 20px; height: 20px;background-color: rgb(200, 0, 0);\"></td><td title=\"Index: [0, 145]&#10;Color: (200, 200, 200)\" style=\"width: 20px; height: 20px;background-color: rgb(200, 200, 200);\"></td><td title=\"Index: [0, 146]&#10;Color: (200, 200, 200)\" style=\"width: 20px; height: 20px;background-color: rgb(200, 200, 200);\"></td><td title=\"Index: [0, 147]&#10;Color: (200, 200, 200)\" style=\"width: 20px; height: 20px;background-color: rgb(200, 200, 200);\"></td><td title=\"Index: [0, 148]&#10;Color: (200, 0, 0)\" style=\"width: 20px; height: 20px;background-color: rgb(200, 0, 0);\"></td><td title=\"Index: [0, 149]&#10;Color: (200, 200, 200)\" style=\"width: 20px; height: 20px;background-color: rgb(200, 200, 200);\"></td><td title=\"Index: [0, 150]&#10;Color: (200, 200, 200)\" style=\"width: 20px; height: 20px;background-color: rgb(200, 200, 200);\"></td><td title=\"Index: [0, 151]&#10;Color: (200, 200, 200)\" style=\"width: 20px; height: 20px;background-color: rgb(200, 200, 200);\"></td><td title=\"Index: [0, 152]&#10;Color: (200, 0, 0)\" style=\"width: 20px; height: 20px;background-color: rgb(200, 0, 0);\"></td><td title=\"Index: [0, 153]&#10;Color: (200, 200, 200)\" style=\"width: 20px; height: 20px;background-color: rgb(200, 200, 200);\"></td><td title=\"Index: [0, 154]&#10;Color: (200, 200, 200)\" style=\"width: 20px; height: 20px;background-color: rgb(200, 200, 200);\"></td><td title=\"Index: [0, 155]&#10;Color: (200, 200, 200)\" style=\"width: 20px; height: 20px;background-color: rgb(200, 200, 200);\"></td><td title=\"Index: [0, 156]&#10;Color: (200, 0, 0)\" style=\"width: 20px; height: 20px;background-color: rgb(200, 0, 0);\"></td><td title=\"Index: [0, 157]&#10;Color: (200, 200, 200)\" style=\"width: 20px; height: 20px;background-color: rgb(200, 200, 200);\"></td><td title=\"Index: [0, 158]&#10;Color: (200, 200, 200)\" style=\"width: 20px; height: 20px;background-color: rgb(200, 200, 200);\"></td><td title=\"Index: [0, 159]&#10;Color: (200, 200, 200)\" style=\"width: 20px; height: 20px;background-color: rgb(200, 200, 200);\"></td><td title=\"Index: [0, 160]&#10;Color: (200, 200, 200)\" style=\"width: 20px; height: 20px;background-color: rgb(200, 200, 200);\"></td><td title=\"Index: [0, 161]&#10;Color: (200, 200, 200)\" style=\"width: 20px; height: 20px;background-color: rgb(200, 200, 200);\"></td><td title=\"Index: [0, 162]&#10;Color: (200, 200, 200)\" style=\"width: 20px; height: 20px;background-color: rgb(200, 200, 200);\"></td><td title=\"Index: [0, 163]&#10;Color: (200, 200, 200)\" style=\"width: 20px; height: 20px;background-color: rgb(200, 200, 200);\"></td><td title=\"Index: [0, 164]&#10;Color: (200, 200, 200)\" style=\"width: 20px; height: 20px;background-color: rgb(200, 200, 200);\"></td><td title=\"Index: [0, 165]&#10;Color: (200, 200, 200)\" style=\"width: 20px; height: 20px;background-color: rgb(200, 200, 200);\"></td><td title=\"Index: [0, 166]&#10;Color: (200, 200, 200)\" style=\"width: 20px; height: 20px;background-color: rgb(200, 200, 200);\"></td><td title=\"Index: [0, 167]&#10;Color: (200, 200, 200)\" style=\"width: 20px; height: 20px;background-color: rgb(200, 200, 200);\"></td><td title=\"Index: [0, 168]&#10;Color: (200, 200, 200)\" style=\"width: 20px; height: 20px;background-color: rgb(200, 200, 200);\"></td><td title=\"Index: [0, 169]&#10;Color: (200, 200, 200)\" style=\"width: 20px; height: 20px;background-color: rgb(200, 200, 200);\"></td><td title=\"Index: [0, 170]&#10;Color: (200, 200, 200)\" style=\"width: 20px; height: 20px;background-color: rgb(200, 200, 200);\"></td><td title=\"Index: [0, 171]&#10;Color: (200, 200, 200)\" style=\"width: 20px; height: 20px;background-color: rgb(200, 200, 200);\"></td><td title=\"Index: [0, 172]&#10;Color: (200, 200, 200)\" style=\"width: 20px; height: 20px;background-color: rgb(200, 200, 200);\"></td><td title=\"Index: [0, 173]&#10;Color: (200, 200, 200)\" style=\"width: 20px; height: 20px;background-color: rgb(200, 200, 200);\"></td><td title=\"Index: [0, 174]&#10;Color: (200, 200, 200)\" style=\"width: 20px; height: 20px;background-color: rgb(200, 200, 200);\"></td><td title=\"Index: [0, 175]&#10;Color: (200, 200, 200)\" style=\"width: 20px; height: 20px;background-color: rgb(200, 200, 200);\"></td><td title=\"Index: [0, 176]&#10;Color: (200, 200, 200)\" style=\"width: 20px; height: 20px;background-color: rgb(200, 200, 200);\"></td><td title=\"Index: [0, 177]&#10;Color: (200, 200, 200)\" style=\"width: 20px; height: 20px;background-color: rgb(200, 200, 200);\"></td><td title=\"Index: [0, 178]&#10;Color: (200, 200, 200)\" style=\"width: 20px; height: 20px;background-color: rgb(200, 200, 200);\"></td><td title=\"Index: [0, 179]&#10;Color: (200, 200, 200)\" style=\"width: 20px; height: 20px;background-color: rgb(200, 200, 200);\"></td><td title=\"Index: [0, 180]&#10;Color: (200, 200, 200)\" style=\"width: 20px; height: 20px;background-color: rgb(200, 200, 200);\"></td><td title=\"Index: [0, 181]&#10;Color: (200, 200, 200)\" style=\"width: 20px; height: 20px;background-color: rgb(200, 200, 200);\"></td><td title=\"Index: [0, 182]&#10;Color: (200, 200, 200)\" style=\"width: 20px; height: 20px;background-color: rgb(200, 200, 200);\"></td><td title=\"Index: [0, 183]&#10;Color: (200, 200, 200)\" style=\"width: 20px; height: 20px;background-color: rgb(200, 200, 200);\"></td><td title=\"Index: [0, 184]&#10;Color: (200, 200, 200)\" style=\"width: 20px; height: 20px;background-color: rgb(200, 200, 200);\"></td><td title=\"Index: [0, 185]&#10;Color: (200, 200, 200)\" style=\"width: 20px; height: 20px;background-color: rgb(200, 200, 200);\"></td><td title=\"Index: [0, 186]&#10;Color: (200, 200, 200)\" style=\"width: 20px; height: 20px;background-color: rgb(200, 200, 200);\"></td><td title=\"Index: [0, 187]&#10;Color: (200, 200, 200)\" style=\"width: 20px; height: 20px;background-color: rgb(200, 200, 200);\"></td><td title=\"Index: [0, 188]&#10;Color: (200, 200, 200)\" style=\"width: 20px; height: 20px;background-color: rgb(200, 200, 200);\"></td><td title=\"Index: [0, 189]&#10;Color: (200, 200, 200)\" style=\"width: 20px; height: 20px;background-color: rgb(200, 200, 200);\"></td><td title=\"Index: [0, 190]&#10;Color: (200, 200, 200)\" style=\"width: 20px; height: 20px;background-color: rgb(200, 200, 200);\"></td><td title=\"Index: [0, 191]&#10;Color: (200, 200, 200)\" style=\"width: 20px; height: 20px;background-color: rgb(200, 200, 200);\"></td><td title=\"Index: [0, 192]&#10;Color: (200, 200, 200)\" style=\"width: 20px; height: 20px;background-color: rgb(200, 200, 200);\"></td><td title=\"Index: [0, 193]&#10;Color: (200, 200, 200)\" style=\"width: 20px; height: 20px;background-color: rgb(200, 200, 200);\"></td><td title=\"Index: [0, 194]&#10;Color: (200, 200, 200)\" style=\"width: 20px; height: 20px;background-color: rgb(200, 200, 200);\"></td><td title=\"Index: [0, 195]&#10;Color: (200, 200, 200)\" style=\"width: 20px; height: 20px;background-color: rgb(200, 200, 200);\"></td><td title=\"Index: [0, 196]&#10;Color: (200, 200, 200)\" style=\"width: 20px; height: 20px;background-color: rgb(200, 200, 200);\"></td><td title=\"Index: [0, 197]&#10;Color: (200, 200, 200)\" style=\"width: 20px; height: 20px;background-color: rgb(200, 200, 200);\"></td><td title=\"Index: [0, 198]&#10;Color: (200, 200, 200)\" style=\"width: 20px; height: 20px;background-color: rgb(200, 200, 200);\"></td><td title=\"Index: [0, 199]&#10;Color: (200, 200, 200)\" style=\"width: 20px; height: 20px;background-color: rgb(200, 200, 200);\"></td></tr></tbody></table>",
          "text/plain": "<ipythonblocks.ipythonblocks.BlockGrid at 0x7f694008d4a8>"
         },
         "metadata": {},
         "output_type": "display_data"
        }
       ]
      }
     },
     "a2d6c6d1bf004506869dd1bf1f55717c": {
      "model_module": "@jupyter-widgets/base",
      "model_module_version": "1.0.0",
      "model_name": "LayoutModel",
      "state": {}
     },
     "a2f0d21e56f5457ea215738fe8f86cfd": {
      "model_module": "@jupyter-widgets/controls",
      "model_module_version": "1.2.0",
      "model_name": "DescriptionStyleModel",
      "state": {
       "description_width": ""
      }
     },
     "a32bfcce1a47426fa8e18635b00f9c07": {
      "model_module": "@jupyter-widgets/base",
      "model_module_version": "1.0.0",
      "model_name": "LayoutModel",
      "state": {}
     },
     "a3dbdc3633864a7faeb85a5e9fd2ec75": {
      "model_module": "@jupyter-widgets/controls",
      "model_module_version": "1.2.0",
      "model_name": "IntSliderModel",
      "state": {
       "description": "random_seed",
       "layout": "IPY_MODEL_615b8a11f4ea44ebbdc25748aeb08775",
       "max": 1000,
       "style": "IPY_MODEL_d2335a2d46434d4f92eecc9867c0aa4f"
      }
     },
     "a3fec2d352434c368e1299d4c477ce42": {
      "model_module": "@jupyter-widgets/base",
      "model_module_version": "1.0.0",
      "model_name": "LayoutModel",
      "state": {}
     },
     "a4909b821e75423dacac1815148aeb7f": {
      "model_module": "@jupyter-widgets/controls",
      "model_module_version": "1.2.0",
      "model_name": "SliderStyleModel",
      "state": {
       "description_width": ""
      }
     },
     "a4f955e439b44bd188f327195646af88": {
      "model_module": "@jupyter-widgets/controls",
      "model_module_version": "1.2.0",
      "model_name": "IntSliderModel",
      "state": {
       "description": "rangDuFocus",
       "layout": "IPY_MODEL_fde4a56cfef945a39c43dd0fcfb28c11",
       "max": 3,
       "min": -1,
       "style": "IPY_MODEL_1f1c2da19df44afd96ebb1d9127f4ce2",
       "value": 3
      }
     },
     "a537d9131f65447585079f30291f8a7b": {
      "model_module": "@jupyter-widgets/base",
      "model_module_version": "1.0.0",
      "model_name": "LayoutModel",
      "state": {}
     },
     "a549960904994d32a977c0211ac9bae7": {
      "model_module": "@jupyter-widgets/controls",
      "model_module_version": "1.2.0",
      "model_name": "DescriptionStyleModel",
      "state": {
       "description_width": ""
      }
     },
     "a66566de990042ceaabbf3d554ffbbee": {
      "model_module": "@jupyter-widgets/base",
      "model_module_version": "1.0.0",
      "model_name": "LayoutModel",
      "state": {}
     },
     "a751397261174cd684b8384c0da2869e": {
      "model_module": "@jupyter-widgets/base",
      "model_module_version": "1.0.0",
      "model_name": "LayoutModel",
      "state": {}
     },
     "a754160478cd4e53a986eddfc68eebec": {
      "model_module": "@jupyter-widgets/controls",
      "model_module_version": "1.2.0",
      "model_name": "IntSliderModel",
      "state": {
       "description": "tauxMinBoursiersPourcents",
       "layout": "IPY_MODEL_97b788edbf354dafa416672072d7848a",
       "style": "IPY_MODEL_8a284aa31c3a4631ad146f3f3e591c05",
       "value": 10
      }
     },
     "a76e4b1176ca451197a4941dbe2dc9f4": {
      "model_module": "@jupyter-widgets/controls",
      "model_module_version": "1.2.0",
      "model_name": "DescriptionStyleModel",
      "state": {
       "description_width": ""
      }
     },
     "a80ce58001c0478c8eb0d47c0ff24ae0": {
      "model_module": "@jupyter-widgets/controls",
      "model_module_version": "1.2.0",
      "model_name": "IntSliderModel",
      "state": {
       "description": "taille",
       "layout": "IPY_MODEL_a751397261174cd684b8384c0da2869e",
       "max": 500,
       "min": 1,
       "style": "IPY_MODEL_5b09ea4ec23a48daabd05b1307835187",
       "value": 70
      }
     },
     "a83cbd6300314b858e8796951a168c36": {
      "model_module": "@jupyter-widgets/base",
      "model_module_version": "1.0.0",
      "model_name": "LayoutModel",
      "state": {}
     },
     "a8b04458efbf4bc5bda46e73abb538d7": {
      "model_module": "@jupyter-widgets/controls",
      "model_module_version": "1.2.0",
      "model_name": "SliderStyleModel",
      "state": {
       "description_width": ""
      }
     },
     "a9146d5f99684c199b738ec62fb94942": {
      "model_module": "@jupyter-widgets/controls",
      "model_module_version": "1.2.0",
      "model_name": "IntSliderModel",
      "state": {
       "description": "taille",
       "layout": "IPY_MODEL_cef599a4a0ec46ab9ee90cf8b095faf8",
       "max": 200,
       "min": 1,
       "style": "IPY_MODEL_333c450a712b44c8988b7fb791e41acd",
       "value": 10
      }
     },
     "a934d28a45aa41f282dd819cd0a445e9": {
      "model_module": "@jupyter-widgets/controls",
      "model_module_version": "1.2.0",
      "model_name": "IntSliderModel",
      "state": {
       "description": "tauxMinResidentsPourcents",
       "layout": "IPY_MODEL_8f68c50363584f53858d1dba4f34cf7b",
       "style": "IPY_MODEL_1bf4b21b2d21414899b5e7478e8a386a",
       "value": 20
      }
     },
     "aa917a0cd1e54ccda123f9151db2ca52": {
      "model_module": "@jupyter-widgets/controls",
      "model_module_version": "1.2.0",
      "model_name": "SliderStyleModel",
      "state": {
       "description_width": ""
      }
     },
     "aaab9e1a503845b590b7ff89ab3a806e": {
      "model_module": "@jupyter-widgets/base",
      "model_module_version": "1.0.0",
      "model_name": "LayoutModel",
      "state": {}
     },
     "ab19d66e46f74542b0ff458c763c48ea": {
      "model_module": "@jupyter-widgets/controls",
      "model_module_version": "1.2.0",
      "model_name": "VBoxModel",
      "state": {
       "_dom_classes": [
        "widget-interact"
       ],
       "children": [
        "IPY_MODEL_5f2a204409954458b6cafcd5c824600e",
        "IPY_MODEL_adf08b74068449fda364b65f92fe1a56",
        "IPY_MODEL_b153c4ab15e243e8871a005981a7b10d",
        "IPY_MODEL_15758a304aa94f538edfe0650a3d9287",
        "IPY_MODEL_593099f0d75945819fae3d3e15081d9c",
        "IPY_MODEL_97d5d9513cd145209e150e74f58ee905",
        "IPY_MODEL_486ecb5b1bd94c59acaa82ac13041faf"
       ],
       "layout": "IPY_MODEL_d450a6584501426f8cacba5b80c402a9"
      }
     },
     "abfa383ffa694f27bced5d209335b27c": {
      "model_module": "@jupyter-widgets/controls",
      "model_module_version": "1.2.0",
      "model_name": "IntSliderModel",
      "state": {
       "description": "tauxResidents",
       "layout": "IPY_MODEL_fe828f9b12194a39883967e90187e686",
       "style": "IPY_MODEL_3006a1ae76914204ba4ad4971a192f74",
       "value": 20
      }
     },
     "ac3ee11b3ba94b558fa00e616370476d": {
      "model_module": "@jupyter-widgets/controls",
      "model_module_version": "1.2.0",
      "model_name": "SliderStyleModel",
      "state": {
       "description_width": ""
      }
     },
     "ac6bd96a3add4f32903a38e3eb0721b0": {
      "model_module": "@jupyter-widgets/base",
      "model_module_version": "1.0.0",
      "model_name": "LayoutModel",
      "state": {}
     },
     "ac6e928ae2604c1f9f2a6e2eee6ecffc": {
      "model_module": "@jupyter-widgets/base",
      "model_module_version": "1.0.0",
      "model_name": "LayoutModel",
      "state": {}
     },
     "acbe5184cc1e4e108f5d7b4b7cc2e3ac": {
      "model_module": "@jupyter-widgets/base",
      "model_module_version": "1.0.0",
      "model_name": "LayoutModel",
      "state": {}
     },
     "adf08b74068449fda364b65f92fe1a56": {
      "model_module": "@jupyter-widgets/controls",
      "model_module_version": "1.2.0",
      "model_name": "IntSliderModel",
      "state": {
       "description": "tauxBoursiers",
       "layout": "IPY_MODEL_58e38d079abc4702867d30fc80ba8fd8",
       "style": "IPY_MODEL_7209dbc1a29e41e7bef361f8afbd8925",
       "value": 1
      }
     },
     "ae00bf8a548d4e299a5422aba1b7f16e": {
      "model_module": "@jupyter-widgets/base",
      "model_module_version": "1.0.0",
      "model_name": "LayoutModel",
      "state": {}
     },
     "ae029c03558944abb4cb7158e3263760": {
      "model_module": "@jupyter-widgets/controls",
      "model_module_version": "1.2.0",
      "model_name": "IntSliderModel",
      "state": {
       "description": "tauxMinBoursiersPourcents",
       "layout": "IPY_MODEL_8dcebb5ebeaa4126ad1fe0acf27a4744",
       "style": "IPY_MODEL_04e3e169f49d4a4bbc32af935e45fb27",
       "value": 20
      }
     },
     "ae531d99fe394ea9afbbbced2f9cadee": {
      "model_module": "@jupyter-widgets/controls",
      "model_module_version": "1.2.0",
      "model_name": "SliderStyleModel",
      "state": {
       "description_width": ""
      }
     },
     "af9b7210c465431da5cc7577ac18bee5": {
      "model_module": "@jupyter-widgets/controls",
      "model_module_version": "1.2.0",
      "model_name": "SliderStyleModel",
      "state": {
       "description_width": ""
      }
     },
     "afbb3e06d72545618775d56684589b6c": {
      "model_module": "@jupyter-widgets/controls",
      "model_module_version": "1.2.0",
      "model_name": "IntSliderModel",
      "state": {
       "description": "tauxResidents",
       "layout": "IPY_MODEL_2827436fd881417bac20235ddb80b79a",
       "style": "IPY_MODEL_98fe1fb97811426f8491bfb1c90e2459",
       "value": 20
      }
     },
     "b01659a419474c778de09d38ae21b1e3": {
      "model_module": "@jupyter-widgets/base",
      "model_module_version": "1.0.0",
      "model_name": "LayoutModel",
      "state": {}
     },
     "b09c652abb9b4d8cb28d89e0a0928727": {
      "model_module": "@jupyter-widgets/base",
      "model_module_version": "1.0.0",
      "model_name": "LayoutModel",
      "state": {}
     },
     "b0f66276e6df4de9886b55dbbb4cc676": {
      "model_module": "@jupyter-widgets/controls",
      "model_module_version": "1.2.0",
      "model_name": "IntSliderModel",
      "state": {
       "description": "tauxResidents",
       "layout": "IPY_MODEL_6fc885841bdd484cb0e294939b8e3f46",
       "style": "IPY_MODEL_0b654b756b04430fbaa2a5d6de76aef3",
       "value": 20
      }
     },
     "b113e4acab48472588ababd4f6e69243": {
      "model_module": "@jupyter-widgets/controls",
      "model_module_version": "1.2.0",
      "model_name": "SliderStyleModel",
      "state": {
       "description_width": ""
      }
     },
     "b153c4ab15e243e8871a005981a7b10d": {
      "model_module": "@jupyter-widgets/controls",
      "model_module_version": "1.2.0",
      "model_name": "IntSliderModel",
      "state": {
       "description": "tauxResidents",
       "layout": "IPY_MODEL_673100747a494f9d9a878a13538a68c6",
       "style": "IPY_MODEL_6a06e0505d7741bc9b6962c733d30a81",
       "value": 1
      }
     },
     "b28f54abdf2741fabbf7703331fd2d0a": {
      "model_module": "@jupyter-widgets/controls",
      "model_module_version": "1.2.0",
      "model_name": "DescriptionStyleModel",
      "state": {
       "description_width": ""
      }
     },
     "b2beec73ec8f47c58140739779a8cdaf": {
      "model_module": "@jupyter-widgets/controls",
      "model_module_version": "1.2.0",
      "model_name": "SliderStyleModel",
      "state": {
       "description_width": ""
      }
     },
     "b3028012cc2246daacd26a27d0e5e469": {
      "model_module": "@jupyter-widgets/controls",
      "model_module_version": "1.2.0",
      "model_name": "IntSliderModel",
      "state": {
       "description": "tauxBoursiers",
       "layout": "IPY_MODEL_e1fe357ae4bc437b95d8e7987309bebf",
       "style": "IPY_MODEL_af9b7210c465431da5cc7577ac18bee5",
       "value": 20
      }
     },
     "b32412bca4ec4876a9f8c3b486fa3c78": {
      "model_module": "@jupyter-widgets/controls",
      "model_module_version": "1.2.0",
      "model_name": "SliderStyleModel",
      "state": {
       "description_width": ""
      }
     },
     "b366c89bc28e45bbb661569cc81af672": {
      "model_module": "@jupyter-widgets/controls",
      "model_module_version": "1.2.0",
      "model_name": "IntSliderModel",
      "state": {
       "description": "taille",
       "layout": "IPY_MODEL_e0e7c527043f45fe9170edb03f544d1e",
       "max": 500,
       "min": 1,
       "style": "IPY_MODEL_f8dcc9740d0e463688181aacc45f3e13",
       "value": 70
      }
     },
     "b369aa01fc4f4e93b05023ce8d796c96": {
      "model_module": "@jupyter-widgets/base",
      "model_module_version": "1.0.0",
      "model_name": "LayoutModel",
      "state": {}
     },
     "b3c10f454bcd4606b8a20f3e740dea1a": {
      "model_module": "@jupyter-widgets/controls",
      "model_module_version": "1.2.0",
      "model_name": "SliderStyleModel",
      "state": {
       "description_width": ""
      }
     },
     "b3e5d940d3bc4da98e7c687d9f2f41d6": {
      "model_module": "@jupyter-widgets/controls",
      "model_module_version": "1.2.0",
      "model_name": "SliderStyleModel",
      "state": {
       "description_width": ""
      }
     },
     "b3f2c38bdd6d49a9af01d4f39575d857": {
      "model_module": "@jupyter-widgets/base",
      "model_module_version": "1.0.0",
      "model_name": "LayoutModel",
      "state": {}
     },
     "b452287a82914a96af50952f88d72746": {
      "model_module": "@jupyter-widgets/base",
      "model_module_version": "1.0.0",
      "model_name": "LayoutModel",
      "state": {}
     },
     "b48e5706f75f4aa09d2c30b04ebf9207": {
      "model_module": "@jupyter-widgets/base",
      "model_module_version": "1.0.0",
      "model_name": "LayoutModel",
      "state": {}
     },
     "b49369f542b445f3b4fd9bdac0ca5a39": {
      "model_module": "@jupyter-widgets/base",
      "model_module_version": "1.0.0",
      "model_name": "LayoutModel",
      "state": {}
     },
     "b4b4eb1abeb34bb3931e57e4437f161c": {
      "model_module": "@jupyter-widgets/controls",
      "model_module_version": "1.2.0",
      "model_name": "IntSliderModel",
      "state": {
       "description": "taille",
       "layout": "IPY_MODEL_5adfc1a766224b8fa4166401f585aa15",
       "max": 200,
       "min": 1,
       "style": "IPY_MODEL_ec0172ce3f9742198c0eeba4bbdc74c3",
       "value": 40
      }
     },
     "b4d9a567e5654ea1af40311cd749f934": {
      "model_module": "@jupyter-widgets/controls",
      "model_module_version": "1.2.0",
      "model_name": "IntSliderModel",
      "state": {
       "description": "tauxResidents",
       "layout": "IPY_MODEL_ae00bf8a548d4e299a5422aba1b7f16e",
       "style": "IPY_MODEL_db62cafbb03543ff935eebc48b4266c6",
       "value": 20
      }
     },
     "b55ee030e9464249927fbf7e579460aa": {
      "model_module": "@jupyter-widgets/output",
      "model_module_version": "1.0.0",
      "model_name": "OutputModel",
      "state": {
       "layout": "IPY_MODEL_bb40c130a78f41d8a25d72a21529d572",
       "outputs": [
        {
         "name": "stdout",
         "output_type": "stream",
         "text": "Visualisation de l'algorithme de calcul de l'ordre d'appel.\n1. Vœux non triés par rang :\n"
        },
        {
         "data": {
          "text/html": "<style type=\"text/css\">table.blockgrid {border: none;} .blockgrid tr {border: none;} .blockgrid td {padding: 0px;} #blocks43711660-495a-4962-b498-ec753038e86b td {border: 1px solid white;}</style><table id=\"blocks43711660-495a-4962-b498-ec753038e86b\" class=\"blockgrid\"><tbody><tr><td title=\"Index: [0, 0]&#10;Color: (200, 200, 200)\" style=\"width: 20px; height: 20px;background-color: rgb(200, 200, 200);\"></td><td title=\"Index: [0, 1]&#10;Color: (200, 200, 200)\" style=\"width: 20px; height: 20px;background-color: rgb(200, 200, 200);\"></td><td title=\"Index: [0, 2]&#10;Color: (200, 200, 200)\" style=\"width: 20px; height: 20px;background-color: rgb(200, 200, 200);\"></td><td title=\"Index: [0, 3]&#10;Color: (200, 200, 200)\" style=\"width: 20px; height: 20px;background-color: rgb(200, 200, 200);\"></td><td title=\"Index: [0, 4]&#10;Color: (200, 200, 200)\" style=\"width: 20px; height: 20px;background-color: rgb(200, 200, 200);\"></td><td title=\"Index: [0, 5]&#10;Color: (200, 200, 200)\" style=\"width: 20px; height: 20px;background-color: rgb(200, 200, 200);\"></td><td title=\"Index: [0, 6]&#10;Color: (200, 200, 200)\" style=\"width: 20px; height: 20px;background-color: rgb(200, 200, 200);\"></td><td title=\"Index: [0, 7]&#10;Color: (200, 200, 200)\" style=\"width: 20px; height: 20px;background-color: rgb(200, 200, 200);\"></td><td title=\"Index: [0, 8]&#10;Color: (200, 200, 200)\" style=\"width: 20px; height: 20px;background-color: rgb(200, 200, 200);\"></td><td title=\"Index: [0, 9]&#10;Color: (200, 200, 200)\" style=\"width: 20px; height: 20px;background-color: rgb(200, 200, 200);\"></td><td title=\"Index: [0, 10]&#10;Color: (200, 0, 0)\" style=\"width: 20px; height: 20px;background-color: rgb(200, 0, 0);\"></td><td title=\"Index: [0, 11]&#10;Color: (200, 200, 200)\" style=\"width: 20px; height: 20px;background-color: rgb(200, 200, 200);\"></td><td title=\"Index: [0, 12]&#10;Color: (200, 0, 0)\" style=\"width: 20px; height: 20px;background-color: rgb(200, 0, 0);\"></td><td title=\"Index: [0, 13]&#10;Color: (200, 200, 200)\" style=\"width: 20px; height: 20px;background-color: rgb(200, 200, 200);\"></td><td title=\"Index: [0, 14]&#10;Color: (0, 0, 200)\" style=\"width: 20px; height: 20px;background-color: rgb(0, 0, 200);\"></td><td title=\"Index: [0, 15]&#10;Color: (200, 200, 200)\" style=\"width: 20px; height: 20px;background-color: rgb(200, 200, 200);\"></td><td title=\"Index: [0, 16]&#10;Color: (200, 200, 200)\" style=\"width: 20px; height: 20px;background-color: rgb(200, 200, 200);\"></td><td title=\"Index: [0, 17]&#10;Color: (200, 200, 200)\" style=\"width: 20px; height: 20px;background-color: rgb(200, 200, 200);\"></td><td title=\"Index: [0, 18]&#10;Color: (200, 200, 200)\" style=\"width: 20px; height: 20px;background-color: rgb(200, 200, 200);\"></td><td title=\"Index: [0, 19]&#10;Color: (200, 200, 200)\" style=\"width: 20px; height: 20px;background-color: rgb(200, 200, 200);\"></td><td title=\"Index: [0, 20]&#10;Color: (200, 200, 200)\" style=\"width: 20px; height: 20px;background-color: rgb(200, 200, 200);\"></td><td title=\"Index: [0, 21]&#10;Color: (200, 200, 200)\" style=\"width: 20px; height: 20px;background-color: rgb(200, 200, 200);\"></td><td title=\"Index: [0, 22]&#10;Color: (200, 200, 200)\" style=\"width: 20px; height: 20px;background-color: rgb(200, 200, 200);\"></td><td title=\"Index: [0, 23]&#10;Color: (200, 200, 200)\" style=\"width: 20px; height: 20px;background-color: rgb(200, 200, 200);\"></td><td title=\"Index: [0, 24]&#10;Color: (200, 200, 200)\" style=\"width: 20px; height: 20px;background-color: rgb(200, 200, 200);\"></td><td title=\"Index: [0, 25]&#10;Color: (200, 200, 200)\" style=\"width: 20px; height: 20px;background-color: rgb(200, 200, 200);\"></td><td title=\"Index: [0, 26]&#10;Color: (200, 200, 200)\" style=\"width: 20px; height: 20px;background-color: rgb(200, 200, 200);\"></td><td title=\"Index: [0, 27]&#10;Color: (200, 200, 200)\" style=\"width: 20px; height: 20px;background-color: rgb(200, 200, 200);\"></td><td title=\"Index: [0, 28]&#10;Color: (0, 0, 200)\" style=\"width: 20px; height: 20px;background-color: rgb(0, 0, 200);\"></td><td title=\"Index: [0, 29]&#10;Color: (200, 200, 200)\" style=\"width: 20px; height: 20px;background-color: rgb(200, 200, 200);\"></td><td title=\"Index: [0, 30]&#10;Color: (200, 200, 200)\" style=\"width: 20px; height: 20px;background-color: rgb(200, 200, 200);\"></td><td title=\"Index: [0, 31]&#10;Color: (200, 200, 200)\" style=\"width: 20px; height: 20px;background-color: rgb(200, 200, 200);\"></td><td title=\"Index: [0, 32]&#10;Color: (200, 200, 200)\" style=\"width: 20px; height: 20px;background-color: rgb(200, 200, 200);\"></td><td title=\"Index: [0, 33]&#10;Color: (200, 200, 200)\" style=\"width: 20px; height: 20px;background-color: rgb(200, 200, 200);\"></td><td title=\"Index: [0, 34]&#10;Color: (200, 200, 200)\" style=\"width: 20px; height: 20px;background-color: rgb(200, 200, 200);\"></td><td title=\"Index: [0, 35]&#10;Color: (200, 200, 200)\" style=\"width: 20px; height: 20px;background-color: rgb(200, 200, 200);\"></td><td title=\"Index: [0, 36]&#10;Color: (200, 200, 200)\" style=\"width: 20px; height: 20px;background-color: rgb(200, 200, 200);\"></td><td title=\"Index: [0, 37]&#10;Color: (200, 200, 200)\" style=\"width: 20px; height: 20px;background-color: rgb(200, 200, 200);\"></td><td title=\"Index: [0, 38]&#10;Color: (200, 200, 200)\" style=\"width: 20px; height: 20px;background-color: rgb(200, 200, 200);\"></td><td title=\"Index: [0, 39]&#10;Color: (200, 200, 200)\" style=\"width: 20px; height: 20px;background-color: rgb(200, 200, 200);\"></td><td title=\"Index: [0, 40]&#10;Color: (200, 200, 200)\" style=\"width: 20px; height: 20px;background-color: rgb(200, 200, 200);\"></td><td title=\"Index: [0, 41]&#10;Color: (200, 200, 200)\" style=\"width: 20px; height: 20px;background-color: rgb(200, 200, 200);\"></td><td title=\"Index: [0, 42]&#10;Color: (200, 200, 200)\" style=\"width: 20px; height: 20px;background-color: rgb(200, 200, 200);\"></td><td title=\"Index: [0, 43]&#10;Color: (200, 200, 200)\" style=\"width: 20px; height: 20px;background-color: rgb(200, 200, 200);\"></td><td title=\"Index: [0, 44]&#10;Color: (200, 200, 200)\" style=\"width: 20px; height: 20px;background-color: rgb(200, 200, 200);\"></td><td title=\"Index: [0, 45]&#10;Color: (200, 200, 200)\" style=\"width: 20px; height: 20px;background-color: rgb(200, 200, 200);\"></td><td title=\"Index: [0, 46]&#10;Color: (200, 200, 200)\" style=\"width: 20px; height: 20px;background-color: rgb(200, 200, 200);\"></td><td title=\"Index: [0, 47]&#10;Color: (200, 200, 200)\" style=\"width: 20px; height: 20px;background-color: rgb(200, 200, 200);\"></td><td title=\"Index: [0, 48]&#10;Color: (200, 200, 200)\" style=\"width: 20px; height: 20px;background-color: rgb(200, 200, 200);\"></td><td title=\"Index: [0, 49]&#10;Color: (200, 200, 200)\" style=\"width: 20px; height: 20px;background-color: rgb(200, 200, 200);\"></td></tr></tbody></table>",
          "text/plain": "<ipythonblocks.ipythonblocks.BlockGrid at 0x7fa2b45ebc88>"
         },
         "metadata": {},
         "output_type": "display_data"
        },
        {
         "name": "stdout",
         "output_type": "stream",
         "text": "2. Vœux triés par rang, mais pas par l'algorithme :\n"
        },
        {
         "data": {
          "text/html": "<style type=\"text/css\">table.blockgrid {border: none;} .blockgrid tr {border: none;} .blockgrid td {padding: 0px;} #blocks86201f30-1e68-4147-a987-b9589408ef39 td {border: 1px solid white;}</style><table id=\"blocks86201f30-1e68-4147-a987-b9589408ef39\" class=\"blockgrid\"><tbody><tr><td title=\"Index: [0, 0]&#10;Color: (200, 200, 200)\" style=\"width: 20px; height: 20px;background-color: rgb(200, 200, 200);\"></td><td title=\"Index: [0, 1]&#10;Color: (0, 0, 200)\" style=\"width: 20px; height: 20px;background-color: rgb(0, 0, 200);\"></td><td title=\"Index: [0, 2]&#10;Color: (200, 200, 200)\" style=\"width: 20px; height: 20px;background-color: rgb(200, 200, 200);\"></td><td title=\"Index: [0, 3]&#10;Color: (200, 200, 200)\" style=\"width: 20px; height: 20px;background-color: rgb(200, 200, 200);\"></td><td title=\"Index: [0, 4]&#10;Color: (200, 200, 200)\" style=\"width: 20px; height: 20px;background-color: rgb(200, 200, 200);\"></td><td title=\"Index: [0, 5]&#10;Color: (0, 0, 200)\" style=\"width: 20px; height: 20px;background-color: rgb(0, 0, 200);\"></td><td title=\"Index: [0, 6]&#10;Color: (200, 200, 200)\" style=\"width: 20px; height: 20px;background-color: rgb(200, 200, 200);\"></td><td title=\"Index: [0, 7]&#10;Color: (200, 200, 200)\" style=\"width: 20px; height: 20px;background-color: rgb(200, 200, 200);\"></td><td title=\"Index: [0, 8]&#10;Color: (200, 200, 200)\" style=\"width: 20px; height: 20px;background-color: rgb(200, 200, 200);\"></td><td title=\"Index: [0, 9]&#10;Color: (200, 200, 200)\" style=\"width: 20px; height: 20px;background-color: rgb(200, 200, 200);\"></td><td title=\"Index: [0, 10]&#10;Color: (200, 0, 0)\" style=\"width: 20px; height: 20px;background-color: rgb(200, 0, 0);\"></td><td title=\"Index: [0, 11]&#10;Color: (200, 200, 200)\" style=\"width: 20px; height: 20px;background-color: rgb(200, 200, 200);\"></td><td title=\"Index: [0, 12]&#10;Color: (200, 200, 200)\" style=\"width: 20px; height: 20px;background-color: rgb(200, 200, 200);\"></td><td title=\"Index: [0, 13]&#10;Color: (200, 200, 200)\" style=\"width: 20px; height: 20px;background-color: rgb(200, 200, 200);\"></td><td title=\"Index: [0, 14]&#10;Color: (200, 200, 200)\" style=\"width: 20px; height: 20px;background-color: rgb(200, 200, 200);\"></td><td title=\"Index: [0, 15]&#10;Color: (200, 200, 200)\" style=\"width: 20px; height: 20px;background-color: rgb(200, 200, 200);\"></td><td title=\"Index: [0, 16]&#10;Color: (200, 200, 200)\" style=\"width: 20px; height: 20px;background-color: rgb(200, 200, 200);\"></td><td title=\"Index: [0, 17]&#10;Color: (200, 200, 200)\" style=\"width: 20px; height: 20px;background-color: rgb(200, 200, 200);\"></td><td title=\"Index: [0, 18]&#10;Color: (200, 200, 200)\" style=\"width: 20px; height: 20px;background-color: rgb(200, 200, 200);\"></td><td title=\"Index: [0, 19]&#10;Color: (200, 200, 200)\" style=\"width: 20px; height: 20px;background-color: rgb(200, 200, 200);\"></td><td title=\"Index: [0, 20]&#10;Color: (200, 200, 200)\" style=\"width: 20px; height: 20px;background-color: rgb(200, 200, 200);\"></td><td title=\"Index: [0, 21]&#10;Color: (200, 200, 200)\" style=\"width: 20px; height: 20px;background-color: rgb(200, 200, 200);\"></td><td title=\"Index: [0, 22]&#10;Color: (200, 200, 200)\" style=\"width: 20px; height: 20px;background-color: rgb(200, 200, 200);\"></td><td title=\"Index: [0, 23]&#10;Color: (200, 200, 200)\" style=\"width: 20px; height: 20px;background-color: rgb(200, 200, 200);\"></td><td title=\"Index: [0, 24]&#10;Color: (200, 200, 200)\" style=\"width: 20px; height: 20px;background-color: rgb(200, 200, 200);\"></td><td title=\"Index: [0, 25]&#10;Color: (200, 200, 200)\" style=\"width: 20px; height: 20px;background-color: rgb(200, 200, 200);\"></td><td title=\"Index: [0, 26]&#10;Color: (200, 200, 200)\" style=\"width: 20px; height: 20px;background-color: rgb(200, 200, 200);\"></td><td title=\"Index: [0, 27]&#10;Color: (200, 200, 200)\" style=\"width: 20px; height: 20px;background-color: rgb(200, 200, 200);\"></td><td title=\"Index: [0, 28]&#10;Color: (200, 200, 200)\" style=\"width: 20px; height: 20px;background-color: rgb(200, 200, 200);\"></td><td title=\"Index: [0, 29]&#10;Color: (200, 200, 200)\" style=\"width: 20px; height: 20px;background-color: rgb(200, 200, 200);\"></td><td title=\"Index: [0, 30]&#10;Color: (200, 200, 200)\" style=\"width: 20px; height: 20px;background-color: rgb(200, 200, 200);\"></td><td title=\"Index: [0, 31]&#10;Color: (200, 200, 200)\" style=\"width: 20px; height: 20px;background-color: rgb(200, 200, 200);\"></td><td title=\"Index: [0, 32]&#10;Color: (200, 200, 200)\" style=\"width: 20px; height: 20px;background-color: rgb(200, 200, 200);\"></td><td title=\"Index: [0, 33]&#10;Color: (200, 200, 200)\" style=\"width: 20px; height: 20px;background-color: rgb(200, 200, 200);\"></td><td title=\"Index: [0, 34]&#10;Color: (200, 200, 200)\" style=\"width: 20px; height: 20px;background-color: rgb(200, 200, 200);\"></td><td title=\"Index: [0, 35]&#10;Color: (200, 200, 200)\" style=\"width: 20px; height: 20px;background-color: rgb(200, 200, 200);\"></td><td title=\"Index: [0, 36]&#10;Color: (200, 200, 200)\" style=\"width: 20px; height: 20px;background-color: rgb(200, 200, 200);\"></td><td title=\"Index: [0, 37]&#10;Color: (200, 200, 200)\" style=\"width: 20px; height: 20px;background-color: rgb(200, 200, 200);\"></td><td title=\"Index: [0, 38]&#10;Color: (200, 200, 200)\" style=\"width: 20px; height: 20px;background-color: rgb(200, 200, 200);\"></td><td title=\"Index: [0, 39]&#10;Color: (200, 200, 200)\" style=\"width: 20px; height: 20px;background-color: rgb(200, 200, 200);\"></td><td title=\"Index: [0, 40]&#10;Color: (200, 200, 200)\" style=\"width: 20px; height: 20px;background-color: rgb(200, 200, 200);\"></td><td title=\"Index: [0, 41]&#10;Color: (200, 200, 200)\" style=\"width: 20px; height: 20px;background-color: rgb(200, 200, 200);\"></td><td title=\"Index: [0, 42]&#10;Color: (200, 200, 200)\" style=\"width: 20px; height: 20px;background-color: rgb(200, 200, 200);\"></td><td title=\"Index: [0, 43]&#10;Color: (200, 0, 0)\" style=\"width: 20px; height: 20px;background-color: rgb(200, 0, 0);\"></td><td title=\"Index: [0, 44]&#10;Color: (200, 200, 200)\" style=\"width: 20px; height: 20px;background-color: rgb(200, 200, 200);\"></td><td title=\"Index: [0, 45]&#10;Color: (200, 200, 200)\" style=\"width: 20px; height: 20px;background-color: rgb(200, 200, 200);\"></td><td title=\"Index: [0, 46]&#10;Color: (200, 200, 200)\" style=\"width: 20px; height: 20px;background-color: rgb(200, 200, 200);\"></td><td title=\"Index: [0, 47]&#10;Color: (200, 200, 200)\" style=\"width: 20px; height: 20px;background-color: rgb(200, 200, 200);\"></td><td title=\"Index: [0, 48]&#10;Color: (200, 200, 200)\" style=\"width: 20px; height: 20px;background-color: rgb(200, 200, 200);\"></td><td title=\"Index: [0, 49]&#10;Color: (200, 200, 200)\" style=\"width: 20px; height: 20px;background-color: rgb(200, 200, 200);\"></td></tr></tbody></table>",
          "text/plain": "<ipythonblocks.ipythonblocks.BlockGrid at 0x7fa2b45ebc88>"
         },
         "metadata": {},
         "output_type": "display_data"
        },
        {
         "name": "stdout",
         "output_type": "stream",
         "text": "3. Vœux triés par l'algorithme :\n"
        },
        {
         "data": {
          "text/html": "<style type=\"text/css\">table.blockgrid {border: none;} .blockgrid tr {border: none;} .blockgrid td {padding: 0px;} #blocks8b4d8b46-0605-4bce-8d5d-e0d73ebe4d51 td {border: 1px solid white;}</style><table id=\"blocks8b4d8b46-0605-4bce-8d5d-e0d73ebe4d51\" class=\"blockgrid\"><tbody><tr><td title=\"Index: [0, 0]&#10;Color: (200, 0, 0)\" style=\"width: 20px; height: 20px;background-color: rgb(200, 0, 0);\"></td><td title=\"Index: [0, 1]&#10;Color: (0, 0, 200)\" style=\"width: 20px; height: 20px;background-color: rgb(0, 0, 200);\"></td><td title=\"Index: [0, 2]&#10;Color: (200, 200, 200)\" style=\"width: 20px; height: 20px;background-color: rgb(200, 200, 200);\"></td><td title=\"Index: [0, 3]&#10;Color: (200, 200, 200)\" style=\"width: 20px; height: 20px;background-color: rgb(200, 200, 200);\"></td><td title=\"Index: [0, 4]&#10;Color: (200, 200, 200)\" style=\"width: 20px; height: 20px;background-color: rgb(200, 200, 200);\"></td><td title=\"Index: [0, 5]&#10;Color: (200, 200, 200)\" style=\"width: 20px; height: 20px;background-color: rgb(200, 200, 200);\"></td><td title=\"Index: [0, 6]&#10;Color: (200, 200, 200)\" style=\"width: 20px; height: 20px;background-color: rgb(200, 200, 200);\"></td><td title=\"Index: [0, 7]&#10;Color: (200, 200, 200)\" style=\"width: 20px; height: 20px;background-color: rgb(200, 200, 200);\"></td><td title=\"Index: [0, 8]&#10;Color: (200, 200, 200)\" style=\"width: 20px; height: 20px;background-color: rgb(200, 200, 200);\"></td><td title=\"Index: [0, 9]&#10;Color: (200, 200, 200)\" style=\"width: 20px; height: 20px;background-color: rgb(200, 200, 200);\"></td><td title=\"Index: [0, 10]&#10;Color: (200, 0, 0)\" style=\"width: 20px; height: 20px;background-color: rgb(200, 0, 0);\"></td><td title=\"Index: [0, 11]&#10;Color: (0, 0, 200)\" style=\"width: 20px; height: 20px;background-color: rgb(0, 0, 200);\"></td><td title=\"Index: [0, 12]&#10;Color: (200, 200, 200)\" style=\"width: 20px; height: 20px;background-color: rgb(200, 200, 200);\"></td><td title=\"Index: [0, 13]&#10;Color: (200, 200, 200)\" style=\"width: 20px; height: 20px;background-color: rgb(200, 200, 200);\"></td><td title=\"Index: [0, 14]&#10;Color: (200, 200, 200)\" style=\"width: 20px; height: 20px;background-color: rgb(200, 200, 200);\"></td><td title=\"Index: [0, 15]&#10;Color: (200, 200, 200)\" style=\"width: 20px; height: 20px;background-color: rgb(200, 200, 200);\"></td><td title=\"Index: [0, 16]&#10;Color: (200, 200, 200)\" style=\"width: 20px; height: 20px;background-color: rgb(200, 200, 200);\"></td><td title=\"Index: [0, 17]&#10;Color: (200, 200, 200)\" style=\"width: 20px; height: 20px;background-color: rgb(200, 200, 200);\"></td><td title=\"Index: [0, 18]&#10;Color: (200, 200, 200)\" style=\"width: 20px; height: 20px;background-color: rgb(200, 200, 200);\"></td><td title=\"Index: [0, 19]&#10;Color: (200, 200, 200)\" style=\"width: 20px; height: 20px;background-color: rgb(200, 200, 200);\"></td><td title=\"Index: [0, 20]&#10;Color: (200, 200, 200)\" style=\"width: 20px; height: 20px;background-color: rgb(200, 200, 200);\"></td><td title=\"Index: [0, 21]&#10;Color: (200, 200, 200)\" style=\"width: 20px; height: 20px;background-color: rgb(200, 200, 200);\"></td><td title=\"Index: [0, 22]&#10;Color: (200, 200, 200)\" style=\"width: 20px; height: 20px;background-color: rgb(200, 200, 200);\"></td><td title=\"Index: [0, 23]&#10;Color: (200, 200, 200)\" style=\"width: 20px; height: 20px;background-color: rgb(200, 200, 200);\"></td><td title=\"Index: [0, 24]&#10;Color: (200, 200, 200)\" style=\"width: 20px; height: 20px;background-color: rgb(200, 200, 200);\"></td><td title=\"Index: [0, 25]&#10;Color: (200, 200, 200)\" style=\"width: 20px; height: 20px;background-color: rgb(200, 200, 200);\"></td><td title=\"Index: [0, 26]&#10;Color: (200, 200, 200)\" style=\"width: 20px; height: 20px;background-color: rgb(200, 200, 200);\"></td><td title=\"Index: [0, 27]&#10;Color: (200, 200, 200)\" style=\"width: 20px; height: 20px;background-color: rgb(200, 200, 200);\"></td><td title=\"Index: [0, 28]&#10;Color: (200, 200, 200)\" style=\"width: 20px; height: 20px;background-color: rgb(200, 200, 200);\"></td><td title=\"Index: [0, 29]&#10;Color: (200, 200, 200)\" style=\"width: 20px; height: 20px;background-color: rgb(200, 200, 200);\"></td><td title=\"Index: [0, 30]&#10;Color: (200, 200, 200)\" style=\"width: 20px; height: 20px;background-color: rgb(200, 200, 200);\"></td><td title=\"Index: [0, 31]&#10;Color: (200, 200, 200)\" style=\"width: 20px; height: 20px;background-color: rgb(200, 200, 200);\"></td><td title=\"Index: [0, 32]&#10;Color: (200, 200, 200)\" style=\"width: 20px; height: 20px;background-color: rgb(200, 200, 200);\"></td><td title=\"Index: [0, 33]&#10;Color: (200, 200, 200)\" style=\"width: 20px; height: 20px;background-color: rgb(200, 200, 200);\"></td><td title=\"Index: [0, 34]&#10;Color: (200, 200, 200)\" style=\"width: 20px; height: 20px;background-color: rgb(200, 200, 200);\"></td><td title=\"Index: [0, 35]&#10;Color: (200, 200, 200)\" style=\"width: 20px; height: 20px;background-color: rgb(200, 200, 200);\"></td><td title=\"Index: [0, 36]&#10;Color: (200, 200, 200)\" style=\"width: 20px; height: 20px;background-color: rgb(200, 200, 200);\"></td><td title=\"Index: [0, 37]&#10;Color: (200, 200, 200)\" style=\"width: 20px; height: 20px;background-color: rgb(200, 200, 200);\"></td><td title=\"Index: [0, 38]&#10;Color: (200, 200, 200)\" style=\"width: 20px; height: 20px;background-color: rgb(200, 200, 200);\"></td><td title=\"Index: [0, 39]&#10;Color: (200, 200, 200)\" style=\"width: 20px; height: 20px;background-color: rgb(200, 200, 200);\"></td><td title=\"Index: [0, 40]&#10;Color: (200, 200, 200)\" style=\"width: 20px; height: 20px;background-color: rgb(200, 200, 200);\"></td><td title=\"Index: [0, 41]&#10;Color: (200, 200, 200)\" style=\"width: 20px; height: 20px;background-color: rgb(200, 200, 200);\"></td><td title=\"Index: [0, 42]&#10;Color: (200, 200, 200)\" style=\"width: 20px; height: 20px;background-color: rgb(200, 200, 200);\"></td><td title=\"Index: [0, 43]&#10;Color: (200, 200, 200)\" style=\"width: 20px; height: 20px;background-color: rgb(200, 200, 200);\"></td><td title=\"Index: [0, 44]&#10;Color: (200, 200, 200)\" style=\"width: 20px; height: 20px;background-color: rgb(200, 200, 200);\"></td><td title=\"Index: [0, 45]&#10;Color: (200, 200, 200)\" style=\"width: 20px; height: 20px;background-color: rgb(200, 200, 200);\"></td><td title=\"Index: [0, 46]&#10;Color: (200, 200, 200)\" style=\"width: 20px; height: 20px;background-color: rgb(200, 200, 200);\"></td><td title=\"Index: [0, 47]&#10;Color: (200, 200, 200)\" style=\"width: 20px; height: 20px;background-color: rgb(200, 200, 200);\"></td><td title=\"Index: [0, 48]&#10;Color: (200, 200, 200)\" style=\"width: 20px; height: 20px;background-color: rgb(200, 200, 200);\"></td><td title=\"Index: [0, 49]&#10;Color: (200, 200, 200)\" style=\"width: 20px; height: 20px;background-color: rgb(200, 200, 200);\"></td></tr></tbody></table>",
          "text/plain": "<ipythonblocks.ipythonblocks.BlockGrid at 0x7fa2b45ebc88>"
         },
         "metadata": {},
         "output_type": "display_data"
        }
       ]
      }
     },
     "b5eaf05241bd4116b4e6893628aec35e": {
      "model_module": "@jupyter-widgets/controls",
      "model_module_version": "1.2.0",
      "model_name": "SliderStyleModel",
      "state": {
       "description_width": ""
      }
     },
     "b5ebfc46260f4c3faf1b1b762a4dbbe5": {
      "model_module": "@jupyter-widgets/base",
      "model_module_version": "1.0.0",
      "model_name": "LayoutModel",
      "state": {}
     },
     "b612801001d34ca58e5048113cc202f4": {
      "model_module": "@jupyter-widgets/base",
      "model_module_version": "1.0.0",
      "model_name": "LayoutModel",
      "state": {}
     },
     "b6407bc33d7a456fb64c42f9a534c678": {
      "model_module": "@jupyter-widgets/base",
      "model_module_version": "1.0.0",
      "model_name": "LayoutModel",
      "state": {}
     },
     "b6c041f66bce4e6f8d812b980fcb983f": {
      "model_module": "@jupyter-widgets/controls",
      "model_module_version": "1.2.0",
      "model_name": "SliderStyleModel",
      "state": {
       "description_width": ""
      }
     },
     "b72bc457a4ef45b1ac195e07a85ddd95": {
      "model_module": "@jupyter-widgets/controls",
      "model_module_version": "1.2.0",
      "model_name": "SliderStyleModel",
      "state": {
       "description_width": ""
      }
     },
     "b7977e69c8af46c0b561b594c03aeab9": {
      "model_module": "@jupyter-widgets/base",
      "model_module_version": "1.0.0",
      "model_name": "LayoutModel",
      "state": {}
     },
     "b8abc12d663743ce9eba343f18657b0f": {
      "model_module": "@jupyter-widgets/controls",
      "model_module_version": "1.2.0",
      "model_name": "IntSliderModel",
      "state": {
       "description": "tauxBoursiers",
       "layout": "IPY_MODEL_45722dcaff94431b9520e8aee804caa3",
       "style": "IPY_MODEL_88c847843088464eadbde8ccca184268",
       "value": 20
      }
     },
     "b90ccd32d03e4eb5946f67f58a020c22": {
      "model_module": "@jupyter-widgets/controls",
      "model_module_version": "1.2.0",
      "model_name": "IntSliderModel",
      "state": {
       "description": "tauxMinResidentsPourcents",
       "layout": "IPY_MODEL_2127547f24164131ad9078b1f65d0cd2",
       "style": "IPY_MODEL_db0f2c6a2ad641ebaca56666e335d368"
      }
     },
     "b9167da495d84f46a330a4091bf06d1d": {
      "model_module": "@jupyter-widgets/controls",
      "model_module_version": "1.2.0",
      "model_name": "IntSliderModel",
      "state": {
       "description": "tauxBoursiers",
       "layout": "IPY_MODEL_1fcc9cf58bd0448e8359881ba2b4023b",
       "style": "IPY_MODEL_62ae669e49ac47e893cc3d1526112221",
       "value": 20
      }
     },
     "ba2b6503ae034b10bd524f415a227863": {
      "model_module": "@jupyter-widgets/controls",
      "model_module_version": "1.2.0",
      "model_name": "IntSliderModel",
      "state": {
       "description": "taille",
       "layout": "IPY_MODEL_9866748939da470b80a4ae3bb7dde794",
       "max": 500,
       "min": 1,
       "style": "IPY_MODEL_108960af61a74798822791282de2314f",
       "value": 70
      }
     },
     "ba2eec846e5f44ad8f4f6279867d333f": {
      "model_module": "@jupyter-widgets/base",
      "model_module_version": "1.0.0",
      "model_name": "LayoutModel",
      "state": {}
     },
     "ba7f547d8a504c8db892bafc788915ce": {
      "model_module": "@jupyter-widgets/controls",
      "model_module_version": "1.2.0",
      "model_name": "IntSliderModel",
      "state": {
       "description": "tauxMinBoursiersPourcents",
       "layout": "IPY_MODEL_23e882a40df64be4a5cfded8fabe41f4",
       "style": "IPY_MODEL_8790891541a7454ca65f5576f6feb6cd",
       "value": 10
      }
     },
     "bab55d2030ca477bac446705934647db": {
      "model_module": "@jupyter-widgets/base",
      "model_module_version": "1.0.0",
      "model_name": "LayoutModel",
      "state": {}
     },
     "bb0989a2d97a4e6392580b6843bfcd17": {
      "model_module": "@jupyter-widgets/controls",
      "model_module_version": "1.2.0",
      "model_name": "SliderStyleModel",
      "state": {
       "description_width": ""
      }
     },
     "bb25f42c062b44e496440d83b9f1a3cd": {
      "model_module": "@jupyter-widgets/controls",
      "model_module_version": "1.2.0",
      "model_name": "IntSliderModel",
      "state": {
       "description": "tauxMinResidentsPourcents",
       "layout": "IPY_MODEL_27b91fb00126470393302f028b821212",
       "style": "IPY_MODEL_d1fdcf1f3dc14c1a946824d26378a22d"
      }
     },
     "bb40c130a78f41d8a25d72a21529d572": {
      "model_module": "@jupyter-widgets/base",
      "model_module_version": "1.0.0",
      "model_name": "LayoutModel",
      "state": {}
     },
     "bb7a641e59d84386a91730ee1059aa89": {
      "model_module": "@jupyter-widgets/controls",
      "model_module_version": "1.2.0",
      "model_name": "IntSliderModel",
      "state": {
       "description": "random_seed",
       "layout": "IPY_MODEL_d65191e305fe4473b39abb3c5fd3e1ba",
       "max": 1000,
       "style": "IPY_MODEL_bd61931696754b3da8bf988133810fd1"
      }
     },
     "bc0fe4b365b94001b5a5b9f64e65f5a4": {
      "model_module": "@jupyter-widgets/controls",
      "model_module_version": "1.2.0",
      "model_name": "IntSliderModel",
      "state": {
       "description": "random_seed",
       "layout": "IPY_MODEL_d65e5eb727114d74bb1c9ac1d812395e",
       "max": 1000,
       "style": "IPY_MODEL_1ce4adf0fe774968a44e247dffc36339"
      }
     },
     "bc3358a5b2ba4e61863abc1d04ba9d15": {
      "model_module": "@jupyter-widgets/base",
      "model_module_version": "1.0.0",
      "model_name": "LayoutModel",
      "state": {}
     },
     "bced6957b38d4547803e3b4e6753ef92": {
      "model_module": "@jupyter-widgets/controls",
      "model_module_version": "1.2.0",
      "model_name": "IntSliderModel",
      "state": {
       "description": "tauxMinResidentsPourcents",
       "layout": "IPY_MODEL_dfc01306b7f441cf8f890bbbc0cef941",
       "style": "IPY_MODEL_f8b23b5ddf1447619f005022bd2fe050",
       "value": 20
      }
     },
     "bd1e9045e0b74596908789468775e28e": {
      "model_module": "@jupyter-widgets/base",
      "model_module_version": "1.0.0",
      "model_name": "LayoutModel",
      "state": {}
     },
     "bd3d1b07744f450288ad7a46f02e57ce": {
      "model_module": "@jupyter-widgets/controls",
      "model_module_version": "1.2.0",
      "model_name": "CheckboxModel",
      "state": {
       "description": "focusEstBoursier",
       "disabled": false,
       "layout": "IPY_MODEL_f68b040e611245bbab0ec9d585ef38fc",
       "style": "IPY_MODEL_2e06ec40b9df491ebdf745606323e821",
       "value": false
      }
     },
     "bd61931696754b3da8bf988133810fd1": {
      "model_module": "@jupyter-widgets/controls",
      "model_module_version": "1.2.0",
      "model_name": "SliderStyleModel",
      "state": {
       "description_width": ""
      }
     },
     "bd62c48d31574a27a6cba20468ee269b": {
      "model_module": "@jupyter-widgets/controls",
      "model_module_version": "1.2.0",
      "model_name": "IntSliderModel",
      "state": {
       "description": "rangDuFocus",
       "layout": "IPY_MODEL_1a32471e412443bf9f0ba4fe261f8f4b",
       "max": 3,
       "min": -1,
       "style": "IPY_MODEL_bf57d2c6765d4d249935185b2f6e6da1",
       "value": 3
      }
     },
     "bd9809a1255b4b709c014b5ac5426112": {
      "model_module": "@jupyter-widgets/controls",
      "model_module_version": "1.2.0",
      "model_name": "DescriptionStyleModel",
      "state": {
       "description_width": ""
      }
     },
     "bdc2355c6ecf464abc82a812781f0ef6": {
      "model_module": "@jupyter-widgets/controls",
      "model_module_version": "1.2.0",
      "model_name": "CheckboxModel",
      "state": {
       "description": "focusEstBoursier",
       "disabled": false,
       "layout": "IPY_MODEL_f2e79841b49e49e4b6476ca5149c3c03",
       "style": "IPY_MODEL_7b41c2db39484cb0acee068f5aa05de5",
       "value": false
      }
     },
     "bdfd511255c34a37bb9092a27b7415a5": {
      "model_module": "@jupyter-widgets/controls",
      "model_module_version": "1.2.0",
      "model_name": "SliderStyleModel",
      "state": {
       "description_width": ""
      }
     },
     "be52e6be789a4f0fb9f40e06477b5545": {
      "model_module": "@jupyter-widgets/base",
      "model_module_version": "1.0.0",
      "model_name": "LayoutModel",
      "state": {}
     },
     "be822f2dea6b4ecf83f11c7a955f1ef9": {
      "model_module": "@jupyter-widgets/controls",
      "model_module_version": "1.2.0",
      "model_name": "IntSliderModel",
      "state": {
       "description": "tauxMinResidentsPourcents",
       "layout": "IPY_MODEL_cb6be4f17dbc4e688d4591b9fec591d2",
       "step": 5,
       "style": "IPY_MODEL_e931b28876844839a5926b0d10566e4a"
      }
     },
     "bea5facc9a264aea88dd75985cf8ee31": {
      "model_module": "@jupyter-widgets/controls",
      "model_module_version": "1.2.0",
      "model_name": "SliderStyleModel",
      "state": {
       "description_width": ""
      }
     },
     "bf0170ee07e344f6a1ed253d8764ba50": {
      "model_module": "@jupyter-widgets/controls",
      "model_module_version": "1.2.0",
      "model_name": "IntSliderModel",
      "state": {
       "description": "tauxMinResidentsPourcents",
       "layout": "IPY_MODEL_3ee511f05ccf4178aa781b0dea59b014",
       "style": "IPY_MODEL_604f796c0246455489c924bbca2aa8e5"
      }
     },
     "bf57d2c6765d4d249935185b2f6e6da1": {
      "model_module": "@jupyter-widgets/controls",
      "model_module_version": "1.2.0",
      "model_name": "SliderStyleModel",
      "state": {
       "description_width": ""
      }
     },
     "bfb3f883ad864468b4d22d91eb009b5f": {
      "model_module": "@jupyter-widgets/controls",
      "model_module_version": "1.2.0",
      "model_name": "IntSliderModel",
      "state": {
       "description": "tauxMinResidentsPourcents",
       "layout": "IPY_MODEL_85dd510060c74680aa61722326a0cafc",
       "style": "IPY_MODEL_2e5258e9a0494fd8a9b57867e2d47ff5"
      }
     },
     "bfb593ab490f4abc88be177a2edac171": {
      "model_module": "@jupyter-widgets/output",
      "model_module_version": "1.0.0",
      "model_name": "OutputModel",
      "state": {
       "layout": "IPY_MODEL_4670662038f34ab092bc0409ead95025",
       "outputs": [
        {
         "name": "stdout",
         "output_type": "stream",
         "text": "Visualisation de l'algorithme de calcul de l'ordre d'appel.\n1. Vœux non triés par rang :\n"
        },
        {
         "data": {
          "text/html": "<style type=\"text/css\">table.blockgrid {border: none;} .blockgrid tr {border: none;} .blockgrid td {padding: 0px;} #blocksa2feaa49-1939-456e-99d1-e86b56d7a7a3 td {border: 1px solid white;}</style><table id=\"blocksa2feaa49-1939-456e-99d1-e86b56d7a7a3\" class=\"blockgrid\"><tbody><tr><td title=\"Index: [0, 0]&#10;Color: (200, 200, 200)\" style=\"width: 20px; height: 20px;background-color: rgb(200, 200, 200);\"></td><td title=\"Index: [0, 1]&#10;Color: (200, 0, 200)\" style=\"width: 20px; height: 20px;background-color: rgb(200, 0, 200);\"></td><td title=\"Index: [0, 2]&#10;Color: (200, 200, 200)\" style=\"width: 20px; height: 20px;background-color: rgb(200, 200, 200);\"></td><td title=\"Index: [0, 3]&#10;Color: (200, 0, 0)\" style=\"width: 20px; height: 20px;background-color: rgb(200, 0, 0);\"></td><td title=\"Index: [0, 4]&#10;Color: (200, 200, 200)\" style=\"width: 20px; height: 20px;background-color: rgb(200, 200, 200);\"></td><td title=\"Index: [0, 5]&#10;Color: (200, 200, 200)\" style=\"width: 20px; height: 20px;background-color: rgb(200, 200, 200);\"></td><td title=\"Index: [0, 6]&#10;Color: (200, 200, 200)\" style=\"width: 20px; height: 20px;background-color: rgb(200, 200, 200);\"></td><td title=\"Index: [0, 7]&#10;Color: (0, 0, 200)\" style=\"width: 20px; height: 20px;background-color: rgb(0, 0, 200);\"></td><td title=\"Index: [0, 8]&#10;Color: (200, 0, 0)\" style=\"width: 20px; height: 20px;background-color: rgb(200, 0, 0);\"></td><td title=\"Index: [0, 9]&#10;Color: (200, 200, 200)\" style=\"width: 20px; height: 20px;background-color: rgb(200, 200, 200);\"></td><td title=\"Index: [0, 10]&#10;Color: (200, 200, 200)\" style=\"width: 20px; height: 20px;background-color: rgb(200, 200, 200);\"></td><td title=\"Index: [0, 11]&#10;Color: (0, 0, 200)\" style=\"width: 20px; height: 20px;background-color: rgb(0, 0, 200);\"></td><td title=\"Index: [0, 12]&#10;Color: (200, 0, 0)\" style=\"width: 20px; height: 20px;background-color: rgb(200, 0, 0);\"></td><td title=\"Index: [0, 13]&#10;Color: (200, 200, 200)\" style=\"width: 20px; height: 20px;background-color: rgb(200, 200, 200);\"></td><td title=\"Index: [0, 14]&#10;Color: (200, 200, 200)\" style=\"width: 20px; height: 20px;background-color: rgb(200, 200, 200);\"></td><td title=\"Index: [0, 15]&#10;Color: (200, 200, 200)\" style=\"width: 20px; height: 20px;background-color: rgb(200, 200, 200);\"></td><td title=\"Index: [0, 16]&#10;Color: (200, 200, 200)\" style=\"width: 20px; height: 20px;background-color: rgb(200, 200, 200);\"></td><td title=\"Index: [0, 17]&#10;Color: (0, 0, 200)\" style=\"width: 20px; height: 20px;background-color: rgb(0, 0, 200);\"></td><td title=\"Index: [0, 18]&#10;Color: (200, 200, 200)\" style=\"width: 20px; height: 20px;background-color: rgb(200, 200, 200);\"></td><td title=\"Index: [0, 19]&#10;Color: (200, 0, 0)\" style=\"width: 20px; height: 20px;background-color: rgb(200, 0, 0);\"></td><td title=\"Index: [0, 20]&#10;Color: (200, 0, 0)\" style=\"width: 20px; height: 20px;background-color: rgb(200, 0, 0);\"></td><td title=\"Index: [0, 21]&#10;Color: (0, 0, 200)\" style=\"width: 20px; height: 20px;background-color: rgb(0, 0, 200);\"></td><td title=\"Index: [0, 22]&#10;Color: (200, 200, 200)\" style=\"width: 20px; height: 20px;background-color: rgb(200, 200, 200);\"></td><td title=\"Index: [0, 23]&#10;Color: (200, 200, 200)\" style=\"width: 20px; height: 20px;background-color: rgb(200, 200, 200);\"></td><td title=\"Index: [0, 24]&#10;Color: (200, 200, 200)\" style=\"width: 20px; height: 20px;background-color: rgb(200, 200, 200);\"></td><td title=\"Index: [0, 25]&#10;Color: (200, 200, 200)\" style=\"width: 20px; height: 20px;background-color: rgb(200, 200, 200);\"></td><td title=\"Index: [0, 26]&#10;Color: (200, 200, 200)\" style=\"width: 20px; height: 20px;background-color: rgb(200, 200, 200);\"></td><td title=\"Index: [0, 27]&#10;Color: (200, 200, 200)\" style=\"width: 20px; height: 20px;background-color: rgb(200, 200, 200);\"></td><td title=\"Index: [0, 28]&#10;Color: (200, 200, 200)\" style=\"width: 20px; height: 20px;background-color: rgb(200, 200, 200);\"></td><td title=\"Index: [0, 29]&#10;Color: (0, 0, 200)\" style=\"width: 20px; height: 20px;background-color: rgb(0, 0, 200);\"></td></tr></tbody></table>",
          "text/plain": "<ipythonblocks.ipythonblocks.BlockGrid at 0x7f6930f85588>"
         },
         "metadata": {},
         "output_type": "display_data"
        },
        {
         "name": "stdout",
         "output_type": "stream",
         "text": "2. Vœux triés par rang, mais pas par l'algorithme :\n"
        },
        {
         "data": {
          "text/html": "<style type=\"text/css\">table.blockgrid {border: none;} .blockgrid tr {border: none;} .blockgrid td {padding: 0px;} #blocksd41d4c41-7515-4335-ace8-d505bd58cfee td {border: 1px solid white;}</style><table id=\"blocksd41d4c41-7515-4335-ace8-d505bd58cfee\" class=\"blockgrid\"><tbody><tr><td title=\"Index: [0, 0]&#10;Color: (0, 0, 200)\" style=\"width: 20px; height: 20px;background-color: rgb(0, 0, 200);\"></td><td title=\"Index: [0, 1]&#10;Color: (200, 200, 200)\" style=\"width: 20px; height: 20px;background-color: rgb(200, 200, 200);\"></td><td title=\"Index: [0, 2]&#10;Color: (0, 0, 200)\" style=\"width: 20px; height: 20px;background-color: rgb(0, 0, 200);\"></td><td title=\"Index: [0, 3]&#10;Color: (200, 200, 200)\" style=\"width: 20px; height: 20px;background-color: rgb(200, 200, 200);\"></td><td title=\"Index: [0, 4]&#10;Color: (200, 200, 200)\" style=\"width: 20px; height: 20px;background-color: rgb(200, 200, 200);\"></td><td title=\"Index: [0, 5]&#10;Color: (200, 200, 200)\" style=\"width: 20px; height: 20px;background-color: rgb(200, 200, 200);\"></td><td title=\"Index: [0, 6]&#10;Color: (200, 200, 200)\" style=\"width: 20px; height: 20px;background-color: rgb(200, 200, 200);\"></td><td title=\"Index: [0, 7]&#10;Color: (200, 200, 200)\" style=\"width: 20px; height: 20px;background-color: rgb(200, 200, 200);\"></td><td title=\"Index: [0, 8]&#10;Color: (200, 200, 200)\" style=\"width: 20px; height: 20px;background-color: rgb(200, 200, 200);\"></td><td title=\"Index: [0, 9]&#10;Color: (200, 0, 0)\" style=\"width: 20px; height: 20px;background-color: rgb(200, 0, 0);\"></td><td title=\"Index: [0, 10]&#10;Color: (200, 0, 0)\" style=\"width: 20px; height: 20px;background-color: rgb(200, 0, 0);\"></td><td title=\"Index: [0, 11]&#10;Color: (200, 200, 200)\" style=\"width: 20px; height: 20px;background-color: rgb(200, 200, 200);\"></td><td title=\"Index: [0, 12]&#10;Color: (200, 200, 200)\" style=\"width: 20px; height: 20px;background-color: rgb(200, 200, 200);\"></td><td title=\"Index: [0, 13]&#10;Color: (200, 200, 200)\" style=\"width: 20px; height: 20px;background-color: rgb(200, 200, 200);\"></td><td title=\"Index: [0, 14]&#10;Color: (200, 200, 200)\" style=\"width: 20px; height: 20px;background-color: rgb(200, 200, 200);\"></td><td title=\"Index: [0, 15]&#10;Color: (200, 0, 200)\" style=\"width: 20px; height: 20px;background-color: rgb(200, 0, 200);\"></td><td title=\"Index: [0, 16]&#10;Color: (0, 0, 200)\" style=\"width: 20px; height: 20px;background-color: rgb(0, 0, 200);\"></td><td title=\"Index: [0, 17]&#10;Color: (0, 0, 200)\" style=\"width: 20px; height: 20px;background-color: rgb(0, 0, 200);\"></td><td title=\"Index: [0, 18]&#10;Color: (200, 0, 0)\" style=\"width: 20px; height: 20px;background-color: rgb(200, 0, 0);\"></td><td title=\"Index: [0, 19]&#10;Color: (200, 200, 200)\" style=\"width: 20px; height: 20px;background-color: rgb(200, 200, 200);\"></td><td title=\"Index: [0, 20]&#10;Color: (200, 200, 200)\" style=\"width: 20px; height: 20px;background-color: rgb(200, 200, 200);\"></td><td title=\"Index: [0, 21]&#10;Color: (200, 0, 0)\" style=\"width: 20px; height: 20px;background-color: rgb(200, 0, 0);\"></td><td title=\"Index: [0, 22]&#10;Color: (200, 200, 200)\" style=\"width: 20px; height: 20px;background-color: rgb(200, 200, 200);\"></td><td title=\"Index: [0, 23]&#10;Color: (200, 200, 200)\" style=\"width: 20px; height: 20px;background-color: rgb(200, 200, 200);\"></td><td title=\"Index: [0, 24]&#10;Color: (200, 200, 200)\" style=\"width: 20px; height: 20px;background-color: rgb(200, 200, 200);\"></td><td title=\"Index: [0, 25]&#10;Color: (200, 0, 0)\" style=\"width: 20px; height: 20px;background-color: rgb(200, 0, 0);\"></td><td title=\"Index: [0, 26]&#10;Color: (0, 0, 200)\" style=\"width: 20px; height: 20px;background-color: rgb(0, 0, 200);\"></td><td title=\"Index: [0, 27]&#10;Color: (200, 200, 200)\" style=\"width: 20px; height: 20px;background-color: rgb(200, 200, 200);\"></td><td title=\"Index: [0, 28]&#10;Color: (200, 200, 200)\" style=\"width: 20px; height: 20px;background-color: rgb(200, 200, 200);\"></td><td title=\"Index: [0, 29]&#10;Color: (200, 200, 200)\" style=\"width: 20px; height: 20px;background-color: rgb(200, 200, 200);\"></td></tr></tbody></table>",
          "text/plain": "<ipythonblocks.ipythonblocks.BlockGrid at 0x7f6940057cf8>"
         },
         "metadata": {},
         "output_type": "display_data"
        },
        {
         "name": "stdout",
         "output_type": "stream",
         "text": "3. Vœux triés par l'algorithme :\n"
        },
        {
         "data": {
          "text/html": "<style type=\"text/css\">table.blockgrid {border: none;} .blockgrid tr {border: none;} .blockgrid td {padding: 0px;} #blocks2bb7a259-d678-49f9-952a-6ea9fd9e153c td {border: 1px solid white;}</style><table id=\"blocks2bb7a259-d678-49f9-952a-6ea9fd9e153c\" class=\"blockgrid\"><tbody><tr><td title=\"Index: [0, 0]&#10;Color: (200, 0, 200)\" style=\"width: 20px; height: 20px;background-color: rgb(200, 0, 200);\"></td><td title=\"Index: [0, 1]&#10;Color: (200, 200, 200)\" style=\"width: 20px; height: 20px;background-color: rgb(200, 200, 200);\"></td><td title=\"Index: [0, 2]&#10;Color: (200, 200, 200)\" style=\"width: 20px; height: 20px;background-color: rgb(200, 200, 200);\"></td><td title=\"Index: [0, 3]&#10;Color: (200, 200, 200)\" style=\"width: 20px; height: 20px;background-color: rgb(200, 200, 200);\"></td><td title=\"Index: [0, 4]&#10;Color: (0, 0, 200)\" style=\"width: 20px; height: 20px;background-color: rgb(0, 0, 200);\"></td><td title=\"Index: [0, 5]&#10;Color: (200, 0, 0)\" style=\"width: 20px; height: 20px;background-color: rgb(200, 0, 0);\"></td><td title=\"Index: [0, 6]&#10;Color: (200, 200, 200)\" style=\"width: 20px; height: 20px;background-color: rgb(200, 200, 200);\"></td><td title=\"Index: [0, 7]&#10;Color: (200, 200, 200)\" style=\"width: 20px; height: 20px;background-color: rgb(200, 200, 200);\"></td><td title=\"Index: [0, 8]&#10;Color: (200, 200, 200)\" style=\"width: 20px; height: 20px;background-color: rgb(200, 200, 200);\"></td><td title=\"Index: [0, 9]&#10;Color: (200, 0, 0)\" style=\"width: 20px; height: 20px;background-color: rgb(200, 0, 0);\"></td><td title=\"Index: [0, 10]&#10;Color: (0, 0, 200)\" style=\"width: 20px; height: 20px;background-color: rgb(0, 0, 200);\"></td><td title=\"Index: [0, 11]&#10;Color: (200, 200, 200)\" style=\"width: 20px; height: 20px;background-color: rgb(200, 200, 200);\"></td><td title=\"Index: [0, 12]&#10;Color: (200, 200, 200)\" style=\"width: 20px; height: 20px;background-color: rgb(200, 200, 200);\"></td><td title=\"Index: [0, 13]&#10;Color: (200, 0, 0)\" style=\"width: 20px; height: 20px;background-color: rgb(200, 0, 0);\"></td><td title=\"Index: [0, 14]&#10;Color: (0, 0, 200)\" style=\"width: 20px; height: 20px;background-color: rgb(0, 0, 200);\"></td><td title=\"Index: [0, 15]&#10;Color: (200, 200, 200)\" style=\"width: 20px; height: 20px;background-color: rgb(200, 200, 200);\"></td><td title=\"Index: [0, 16]&#10;Color: (200, 200, 200)\" style=\"width: 20px; height: 20px;background-color: rgb(200, 200, 200);\"></td><td title=\"Index: [0, 17]&#10;Color: (200, 200, 200)\" style=\"width: 20px; height: 20px;background-color: rgb(200, 200, 200);\"></td><td title=\"Index: [0, 18]&#10;Color: (200, 200, 200)\" style=\"width: 20px; height: 20px;background-color: rgb(200, 200, 200);\"></td><td title=\"Index: [0, 19]&#10;Color: (200, 0, 0)\" style=\"width: 20px; height: 20px;background-color: rgb(200, 0, 0);\"></td><td title=\"Index: [0, 20]&#10;Color: (0, 0, 200)\" style=\"width: 20px; height: 20px;background-color: rgb(0, 0, 200);\"></td><td title=\"Index: [0, 21]&#10;Color: (200, 0, 0)\" style=\"width: 20px; height: 20px;background-color: rgb(200, 0, 0);\"></td><td title=\"Index: [0, 22]&#10;Color: (200, 200, 200)\" style=\"width: 20px; height: 20px;background-color: rgb(200, 200, 200);\"></td><td title=\"Index: [0, 23]&#10;Color: (200, 200, 200)\" style=\"width: 20px; height: 20px;background-color: rgb(200, 200, 200);\"></td><td title=\"Index: [0, 24]&#10;Color: (200, 200, 200)\" style=\"width: 20px; height: 20px;background-color: rgb(200, 200, 200);\"></td><td title=\"Index: [0, 25]&#10;Color: (0, 0, 200)\" style=\"width: 20px; height: 20px;background-color: rgb(0, 0, 200);\"></td><td title=\"Index: [0, 26]&#10;Color: (200, 200, 200)\" style=\"width: 20px; height: 20px;background-color: rgb(200, 200, 200);\"></td><td title=\"Index: [0, 27]&#10;Color: (200, 200, 200)\" style=\"width: 20px; height: 20px;background-color: rgb(200, 200, 200);\"></td><td title=\"Index: [0, 28]&#10;Color: (200, 200, 200)\" style=\"width: 20px; height: 20px;background-color: rgb(200, 200, 200);\"></td><td title=\"Index: [0, 29]&#10;Color: (200, 200, 200)\" style=\"width: 20px; height: 20px;background-color: rgb(200, 200, 200);\"></td></tr></tbody></table>",
          "text/plain": "<ipythonblocks.ipythonblocks.BlockGrid at 0x7f6940057cf8>"
         },
         "metadata": {},
         "output_type": "display_data"
        }
       ]
      }
     },
     "c074197b8d1040f2a9cc90cc2c8f5808": {
      "model_module": "@jupyter-widgets/base",
      "model_module_version": "1.0.0",
      "model_name": "LayoutModel",
      "state": {}
     },
     "c0d0a1b8a0c14c4d95261dd2adc7a14d": {
      "model_module": "@jupyter-widgets/controls",
      "model_module_version": "1.2.0",
      "model_name": "IntSliderModel",
      "state": {
       "description": "random_seed",
       "layout": "IPY_MODEL_75e0633156534d6f82c74a8f6492eb1f",
       "max": 1,
       "style": "IPY_MODEL_6d5c7faeee7d490d8a835a78d75b8454",
       "value": 1
      }
     },
     "c1993053ccf54a56b3d7f5ef9d044627": {
      "model_module": "@jupyter-widgets/controls",
      "model_module_version": "1.2.0",
      "model_name": "IntSliderModel",
      "state": {
       "description": "rangDuFocus",
       "layout": "IPY_MODEL_994033cb1d714f2f877765cd16e4de5f",
       "max": 200,
       "min": 1,
       "style": "IPY_MODEL_88bc0643f0f54b53bd4c04dd63473142",
       "value": 1
      }
     },
     "c19b1b18361b4293b687e7d7201eaec0": {
      "model_module": "@jupyter-widgets/controls",
      "model_module_version": "1.2.0",
      "model_name": "IntSliderModel",
      "state": {
       "description": "taille",
       "layout": "IPY_MODEL_f45aada3e81942ed9a97be84936cad8b",
       "max": 500,
       "min": 1,
       "style": "IPY_MODEL_207b9f58102d455a8a46ec80cb2ab633",
       "value": 26
      }
     },
     "c1b13addcf074affbb6deaea33c8beae": {
      "model_module": "@jupyter-widgets/controls",
      "model_module_version": "1.2.0",
      "model_name": "CheckboxModel",
      "state": {
       "description": "focusEstBoursier",
       "disabled": false,
       "layout": "IPY_MODEL_7bf52fc701ba4c30ba1928289f3714ce",
       "style": "IPY_MODEL_bd9809a1255b4b709c014b5ac5426112",
       "value": false
      }
     },
     "c1ed7e25812a433a92c92715a855f297": {
      "model_module": "@jupyter-widgets/controls",
      "model_module_version": "1.2.0",
      "model_name": "IntSliderModel",
      "state": {
       "description": "tauxBoursiers",
       "layout": "IPY_MODEL_36ea1d58692541b7a5174e920170fd1d",
       "style": "IPY_MODEL_ec9091faf766486096f88a49a94f7d5b",
       "value": 20
      }
     },
     "c24ce9659e2b4aacaf170a48f9fe59ec": {
      "model_module": "@jupyter-widgets/controls",
      "model_module_version": "1.2.0",
      "model_name": "SliderStyleModel",
      "state": {
       "description_width": ""
      }
     },
     "c2f22eb6790c49aea9d614facd842574": {
      "model_module": "@jupyter-widgets/controls",
      "model_module_version": "1.2.0",
      "model_name": "IntSliderModel",
      "state": {
       "description": "tauxMinResidentsPourcents",
       "layout": "IPY_MODEL_169fa971ccb047a498a444332069288f",
       "style": "IPY_MODEL_48ff3437c30e464aa2a9285680298a0e"
      }
     },
     "c44812b0bfad4a75bf67f361151da976": {
      "model_module": "@jupyter-widgets/base",
      "model_module_version": "1.0.0",
      "model_name": "LayoutModel",
      "state": {}
     },
     "c46194f22f95426a98e7b33ab82e2ced": {
      "model_module": "@jupyter-widgets/controls",
      "model_module_version": "1.2.0",
      "model_name": "SliderStyleModel",
      "state": {
       "description_width": ""
      }
     },
     "c4995e0ec2034c2dbb82ea9765c25bf5": {
      "model_module": "@jupyter-widgets/base",
      "model_module_version": "1.0.0",
      "model_name": "LayoutModel",
      "state": {}
     },
     "c54165c9580c4f168acf31dca8808729": {
      "model_module": "@jupyter-widgets/base",
      "model_module_version": "1.0.0",
      "model_name": "LayoutModel",
      "state": {}
     },
     "c601865d842243909fe77dc89a228a98": {
      "model_module": "@jupyter-widgets/controls",
      "model_module_version": "1.2.0",
      "model_name": "SliderStyleModel",
      "state": {
       "description_width": ""
      }
     },
     "c6c1e816003e4c67bf26edc395299e7b": {
      "model_module": "@jupyter-widgets/base",
      "model_module_version": "1.0.0",
      "model_name": "LayoutModel",
      "state": {}
     },
     "c6f2915274ab4bd3a075ca548d0c2d0c": {
      "model_module": "@jupyter-widgets/controls",
      "model_module_version": "1.2.0",
      "model_name": "SliderStyleModel",
      "state": {
       "description_width": ""
      }
     },
     "c701ae6bf3834428b6ba9e67ce1c6857": {
      "model_module": "@jupyter-widgets/base",
      "model_module_version": "1.0.0",
      "model_name": "LayoutModel",
      "state": {}
     },
     "c706dcdb82524342a9927c37e2aade82": {
      "model_module": "@jupyter-widgets/controls",
      "model_module_version": "1.2.0",
      "model_name": "SliderStyleModel",
      "state": {
       "description_width": ""
      }
     },
     "c7410f3ce3b24ccc9f0b616039930127": {
      "model_module": "@jupyter-widgets/controls",
      "model_module_version": "1.2.0",
      "model_name": "IntSliderModel",
      "state": {
       "description": "tauxMinBoursiersPourcents",
       "layout": "IPY_MODEL_0fdd4b16bb0444199b9a03ad238fd04e",
       "style": "IPY_MODEL_188e71ee9c354d42815a2e7a45888bc9",
       "value": 20
      }
     },
     "c75b261485254ebcbf2978ad5b1df6e7": {
      "model_module": "@jupyter-widgets/controls",
      "model_module_version": "1.2.0",
      "model_name": "IntSliderModel",
      "state": {
       "description": "random_seed",
       "layout": "IPY_MODEL_c44812b0bfad4a75bf67f361151da976",
       "max": 1000,
       "style": "IPY_MODEL_67795c6b76564bd8bb4e28440ba4b62b"
      }
     },
     "c7904aaa458043e48edae2b5f097cf0d": {
      "model_module": "@jupyter-widgets/controls",
      "model_module_version": "1.2.0",
      "model_name": "IntSliderModel",
      "state": {
       "description": "tauxResidents",
       "layout": "IPY_MODEL_71a6d2c204654b7e878b59cf830cbc54",
       "style": "IPY_MODEL_8923b1f7e43b445b8939eb8647d2ef14",
       "value": 3
      }
     },
     "c7ae8c2aa99444a49a680a0df48a5975": {
      "model_module": "@jupyter-widgets/controls",
      "model_module_version": "1.2.0",
      "model_name": "SliderStyleModel",
      "state": {
       "description_width": ""
      }
     },
     "c7e4b5d8091f474e92d70ccfe63be5c8": {
      "model_module": "@jupyter-widgets/controls",
      "model_module_version": "1.2.0",
      "model_name": "VBoxModel",
      "state": {
       "_dom_classes": [
        "widget-interact"
       ],
       "children": [
        "IPY_MODEL_a9146d5f99684c199b738ec62fb94942",
        "IPY_MODEL_b9167da495d84f46a330a4091bf06d1d",
        "IPY_MODEL_f8c13377220d4115b9d30c3452f8b6ee",
        "IPY_MODEL_15a0b6f88c6342f282a9660cd9ab5601",
        "IPY_MODEL_74dc5f95a12349be95521838e1e4d085",
        "IPY_MODEL_fcc62575305c4558abdd9ba7ebe4767a",
        "IPY_MODEL_7a6161b7af3145f2b513d697119839f9",
        "IPY_MODEL_dfb370a970b74dec8e34813e781cec8a",
        "IPY_MODEL_bf0170ee07e344f6a1ed253d8764ba50",
        "IPY_MODEL_3491e63172674df1b448eb31cb326723"
       ],
       "layout": "IPY_MODEL_80e6b1e1b626415586518b749e9e0663"
      }
     },
     "c814f391094d478ebece078b67fe255f": {
      "model_module": "@jupyter-widgets/base",
      "model_module_version": "1.0.0",
      "model_name": "LayoutModel",
      "state": {}
     },
     "c8c61480de8348b5b8f1da37255398f9": {
      "model_module": "@jupyter-widgets/base",
      "model_module_version": "1.0.0",
      "model_name": "LayoutModel",
      "state": {}
     },
     "c95145397ecc441789131e82145ef546": {
      "model_module": "@jupyter-widgets/output",
      "model_module_version": "1.0.0",
      "model_name": "OutputModel",
      "state": {
       "layout": "IPY_MODEL_f6383d3571e247428686c9052869b841",
       "outputs": [
        {
         "name": "stdout",
         "output_type": "stream",
         "text": "Visualisation de l'algorithme de calcul de l'ordre d'appel.\n1. Vœux non triés par rang :\n"
        },
        {
         "data": {
          "text/html": "<style type=\"text/css\">table.blockgrid {border: none;} .blockgrid tr {border: none;} .blockgrid td {padding: 0px;} #blocksf49ff1b4-73b8-4b6e-845f-38c211e26bfb td {border: 1px solid white;}</style><table id=\"blocksf49ff1b4-73b8-4b6e-845f-38c211e26bfb\" class=\"blockgrid\"><tbody><tr><td title=\"Index: [0, 0]&#10;Color: (130, 130, 130)\" style=\"width: 20px; height: 20px;background-color: rgb(130, 130, 130);\"></td><td title=\"Index: [0, 1]&#10;Color: (240, 240, 240)\" style=\"width: 20px; height: 20px;background-color: rgb(240, 240, 240);\"></td><td title=\"Index: [0, 2]&#10;Color: (0, 0, 130)\" style=\"width: 20px; height: 20px;background-color: rgb(0, 0, 130);\"></td><td title=\"Index: [0, 3]&#10;Color: (130, 130, 130)\" style=\"width: 20px; height: 20px;background-color: rgb(130, 130, 130);\"></td><td title=\"Index: [0, 4]&#10;Color: (130, 130, 130)\" style=\"width: 20px; height: 20px;background-color: rgb(130, 130, 130);\"></td><td title=\"Index: [0, 5]&#10;Color: (130, 130, 130)\" style=\"width: 20px; height: 20px;background-color: rgb(130, 130, 130);\"></td><td title=\"Index: [0, 6]&#10;Color: (130, 0, 0)\" style=\"width: 20px; height: 20px;background-color: rgb(130, 0, 0);\"></td><td title=\"Index: [0, 7]&#10;Color: (130, 0, 0)\" style=\"width: 20px; height: 20px;background-color: rgb(130, 0, 0);\"></td><td title=\"Index: [0, 8]&#10;Color: (130, 130, 130)\" style=\"width: 20px; height: 20px;background-color: rgb(130, 130, 130);\"></td><td title=\"Index: [0, 9]&#10;Color: (130, 130, 130)\" style=\"width: 20px; height: 20px;background-color: rgb(130, 130, 130);\"></td></tr></tbody></table>",
          "text/plain": "<ipythonblocks.ipythonblocks.BlockGrid at 0x7fa2b44cb828>"
         },
         "metadata": {},
         "output_type": "display_data"
        },
        {
         "name": "stdout",
         "output_type": "stream",
         "text": "2. Vœux triés par rang, mais pas par l'algorithme :\n"
        },
        {
         "data": {
          "text/html": "<style type=\"text/css\">table.blockgrid {border: none;} .blockgrid tr {border: none;} .blockgrid td {padding: 0px;} #blocks9e61d5b4-a655-48a3-a981-62b62956325a td {border: 1px solid white;}</style><table id=\"blocks9e61d5b4-a655-48a3-a981-62b62956325a\" class=\"blockgrid\"><tbody><tr><td title=\"Index: [0, 0]&#10;Color: (240, 240, 240)\" style=\"width: 20px; height: 20px;background-color: rgb(240, 240, 240);\"></td><td title=\"Index: [0, 1]&#10;Color: (130, 130, 130)\" style=\"width: 20px; height: 20px;background-color: rgb(130, 130, 130);\"></td><td title=\"Index: [0, 2]&#10;Color: (130, 130, 130)\" style=\"width: 20px; height: 20px;background-color: rgb(130, 130, 130);\"></td><td title=\"Index: [0, 3]&#10;Color: (130, 130, 130)\" style=\"width: 20px; height: 20px;background-color: rgb(130, 130, 130);\"></td><td title=\"Index: [0, 4]&#10;Color: (0, 0, 130)\" style=\"width: 20px; height: 20px;background-color: rgb(0, 0, 130);\"></td><td title=\"Index: [0, 5]&#10;Color: (130, 130, 130)\" style=\"width: 20px; height: 20px;background-color: rgb(130, 130, 130);\"></td><td title=\"Index: [0, 6]&#10;Color: (130, 0, 0)\" style=\"width: 20px; height: 20px;background-color: rgb(130, 0, 0);\"></td><td title=\"Index: [0, 7]&#10;Color: (130, 130, 130)\" style=\"width: 20px; height: 20px;background-color: rgb(130, 130, 130);\"></td><td title=\"Index: [0, 8]&#10;Color: (130, 130, 130)\" style=\"width: 20px; height: 20px;background-color: rgb(130, 130, 130);\"></td><td title=\"Index: [0, 9]&#10;Color: (130, 0, 0)\" style=\"width: 20px; height: 20px;background-color: rgb(130, 0, 0);\"></td></tr></tbody></table>",
          "text/plain": "<ipythonblocks.ipythonblocks.BlockGrid at 0x7fa2b44cb828>"
         },
         "metadata": {},
         "output_type": "display_data"
        },
        {
         "name": "stdout",
         "output_type": "stream",
         "text": "3. Vœux triés par l'algorithme :\n"
        },
        {
         "data": {
          "text/html": "<style type=\"text/css\">table.blockgrid {border: none;} .blockgrid tr {border: none;} .blockgrid td {padding: 0px;} #blocksf163a783-befc-42e8-a520-ac59ba1e5fea td {border: 1px solid white;}</style><table id=\"blocksf163a783-befc-42e8-a520-ac59ba1e5fea\" class=\"blockgrid\"><tbody><tr><td title=\"Index: [0, 0]&#10;Color: (240, 240, 240)\" style=\"width: 20px; height: 20px;background-color: rgb(240, 240, 240);\"></td><td title=\"Index: [0, 1]&#10;Color: (130, 130, 130)\" style=\"width: 20px; height: 20px;background-color: rgb(130, 130, 130);\"></td><td title=\"Index: [0, 2]&#10;Color: (130, 130, 130)\" style=\"width: 20px; height: 20px;background-color: rgb(130, 130, 130);\"></td><td title=\"Index: [0, 3]&#10;Color: (130, 130, 130)\" style=\"width: 20px; height: 20px;background-color: rgb(130, 130, 130);\"></td><td title=\"Index: [0, 4]&#10;Color: (0, 0, 130)\" style=\"width: 20px; height: 20px;background-color: rgb(0, 0, 130);\"></td><td title=\"Index: [0, 5]&#10;Color: (130, 130, 130)\" style=\"width: 20px; height: 20px;background-color: rgb(130, 130, 130);\"></td><td title=\"Index: [0, 6]&#10;Color: (130, 0, 0)\" style=\"width: 20px; height: 20px;background-color: rgb(130, 0, 0);\"></td><td title=\"Index: [0, 7]&#10;Color: (130, 130, 130)\" style=\"width: 20px; height: 20px;background-color: rgb(130, 130, 130);\"></td><td title=\"Index: [0, 8]&#10;Color: (130, 130, 130)\" style=\"width: 20px; height: 20px;background-color: rgb(130, 130, 130);\"></td><td title=\"Index: [0, 9]&#10;Color: (130, 0, 0)\" style=\"width: 20px; height: 20px;background-color: rgb(130, 0, 0);\"></td></tr></tbody></table>",
          "text/plain": "<ipythonblocks.ipythonblocks.BlockGrid at 0x7fa2b44cb828>"
         },
         "metadata": {},
         "output_type": "display_data"
        }
       ]
      }
     },
     "c962546fd7974416866649a28cd86918": {
      "model_module": "@jupyter-widgets/controls",
      "model_module_version": "1.2.0",
      "model_name": "IntSliderModel",
      "state": {
       "description": "tauxMinResidentsPourcents",
       "layout": "IPY_MODEL_aaab9e1a503845b590b7ff89ab3a806e",
       "style": "IPY_MODEL_7105254ba16e461f82b7caa98dd7f51d"
      }
     },
     "ca3fad8b891e4497b75837a56c25f247": {
      "model_module": "@jupyter-widgets/base",
      "model_module_version": "1.0.0",
      "model_name": "LayoutModel",
      "state": {}
     },
     "ca7e19c59d6943bf9e10f5cd2be3750d": {
      "model_module": "@jupyter-widgets/controls",
      "model_module_version": "1.2.0",
      "model_name": "SliderStyleModel",
      "state": {
       "description_width": ""
      }
     },
     "cb6be4f17dbc4e688d4591b9fec591d2": {
      "model_module": "@jupyter-widgets/base",
      "model_module_version": "1.0.0",
      "model_name": "LayoutModel",
      "state": {}
     },
     "cbdc9f5224954fe79398d2ccfe1595dd": {
      "model_module": "@jupyter-widgets/controls",
      "model_module_version": "1.2.0",
      "model_name": "IntSliderModel",
      "state": {
       "description": "rangDuFocus",
       "layout": "IPY_MODEL_1ccadeb516304fafad3f50d05d4e9cfe",
       "max": 30,
       "min": 1,
       "style": "IPY_MODEL_2730e84ac2bc49169b0a3096bc350026",
       "value": 14
      }
     },
     "cc13adc9c5f1488e90efdf996978894b": {
      "model_module": "@jupyter-widgets/controls",
      "model_module_version": "1.2.0",
      "model_name": "CheckboxModel",
      "state": {
       "description": "focusEstResident",
       "disabled": false,
       "layout": "IPY_MODEL_b7977e69c8af46c0b561b594c03aeab9",
       "style": "IPY_MODEL_df61942644314fa4b21d3f744bc7f22e",
       "value": false
      }
     },
     "cc2ad725ec1d4190af28b35fbef299a2": {
      "model_module": "@jupyter-widgets/controls",
      "model_module_version": "1.2.0",
      "model_name": "IntSliderModel",
      "state": {
       "description": "tauxResidents",
       "layout": "IPY_MODEL_f942295480504bb49baf035d2c5df55c",
       "style": "IPY_MODEL_3a030004bf194c3282ff68454ce99351",
       "value": 20
      }
     },
     "cc2d3465f66e40fbbdf2a588a8d0fd50": {
      "model_module": "@jupyter-widgets/controls",
      "model_module_version": "1.2.0",
      "model_name": "IntSliderModel",
      "state": {
       "description": "random_seed",
       "layout": "IPY_MODEL_20a76923ac9d4a03a894f230a48a6cb0",
       "max": 1000,
       "style": "IPY_MODEL_94b0401e5e5240ba9e03175aa3f92805"
      }
     },
     "ce5b9cd0fe544ce6a75ee76cb7f289ca": {
      "model_module": "@jupyter-widgets/controls",
      "model_module_version": "1.2.0",
      "model_name": "SliderStyleModel",
      "state": {
       "description_width": ""
      }
     },
     "ce7b8aabe82f4351beb028b4d8c233ab": {
      "model_module": "@jupyter-widgets/base",
      "model_module_version": "1.0.0",
      "model_name": "LayoutModel",
      "state": {}
     },
     "cea73e2c9d73414d9aeb244908b1addc": {
      "model_module": "@jupyter-widgets/base",
      "model_module_version": "1.0.0",
      "model_name": "LayoutModel",
      "state": {}
     },
     "cedb7fe2916a40cb8288f25cbbac90ea": {
      "model_module": "@jupyter-widgets/base",
      "model_module_version": "1.0.0",
      "model_name": "LayoutModel",
      "state": {}
     },
     "ceddcc1581474e59bdd37841461027a8": {
      "model_module": "@jupyter-widgets/controls",
      "model_module_version": "1.2.0",
      "model_name": "VBoxModel",
      "state": {
       "_dom_classes": [
        "widget-interact"
       ],
       "children": [
        "IPY_MODEL_b366c89bc28e45bbb661569cc81af672",
        "IPY_MODEL_75220a532c5349a2acbcf077b65b75f8",
        "IPY_MODEL_691d43e34d9e444fb6473ae26cfa7409",
        "IPY_MODEL_c75b261485254ebcbf2978ad5b1df6e7",
        "IPY_MODEL_0062ae809d604c2d9797f9bf28291ef4",
        "IPY_MODEL_b90ccd32d03e4eb5946f67f58a020c22",
        "IPY_MODEL_eda2fc2e1f064ef6b524995c4483da60"
       ],
       "layout": "IPY_MODEL_23317caf19ca4009bd715be9739eb720"
      }
     },
     "ceea1687f0bf473ea0bc92021b27f603": {
      "model_module": "@jupyter-widgets/controls",
      "model_module_version": "1.2.0",
      "model_name": "CheckboxModel",
      "state": {
       "description": "focusEstBoursier",
       "disabled": false,
       "layout": "IPY_MODEL_49466b8a04fc476ba97c48170dc46e9c",
       "style": "IPY_MODEL_0cc28d9d5b8148fd9e590b138c8549ba",
       "value": false
      }
     },
     "cef599a4a0ec46ab9ee90cf8b095faf8": {
      "model_module": "@jupyter-widgets/base",
      "model_module_version": "1.0.0",
      "model_name": "LayoutModel",
      "state": {}
     },
     "cf55eaaa76864703acd54e40711d8580": {
      "model_module": "@jupyter-widgets/base",
      "model_module_version": "1.0.0",
      "model_name": "LayoutModel",
      "state": {}
     },
     "cf7e16625184456e881f99c0e83d9053": {
      "model_module": "@jupyter-widgets/controls",
      "model_module_version": "1.2.0",
      "model_name": "IntSliderModel",
      "state": {
       "description": "tauxBoursiers",
       "layout": "IPY_MODEL_93d675b9cafa450a914d61ed22991bd9",
       "style": "IPY_MODEL_db7648d904584893be93e554edbafb79",
       "value": 20
      }
     },
     "d01fc841b6a248609c1704acd8d1563b": {
      "model_module": "@jupyter-widgets/controls",
      "model_module_version": "1.2.0",
      "model_name": "SliderStyleModel",
      "state": {
       "description_width": ""
      }
     },
     "d10582f3425047a586e19beff099c525": {
      "model_module": "@jupyter-widgets/controls",
      "model_module_version": "1.2.0",
      "model_name": "SliderStyleModel",
      "state": {
       "description_width": ""
      }
     },
     "d16d52853f7f41129841767d2af386db": {
      "model_module": "@jupyter-widgets/controls",
      "model_module_version": "1.2.0",
      "model_name": "IntSliderModel",
      "state": {
       "description": "tauxResidents",
       "layout": "IPY_MODEL_77534b9e61274938a42d3915d7122112",
       "style": "IPY_MODEL_4ec856a9d5c543fdab88b9f4e4930515",
       "value": 20
      }
     },
     "d1cb0b038a414da5aa583cf0fb03f471": {
      "model_module": "@jupyter-widgets/controls",
      "model_module_version": "1.2.0",
      "model_name": "IntSliderModel",
      "state": {
       "description": "tauxMinResidentsPourcents",
       "layout": "IPY_MODEL_813071f2a115447aa03a58f81a26ecca",
       "style": "IPY_MODEL_869df323a4314379adaa5af25f9b0227"
      }
     },
     "d1fdcf1f3dc14c1a946824d26378a22d": {
      "model_module": "@jupyter-widgets/controls",
      "model_module_version": "1.2.0",
      "model_name": "SliderStyleModel",
      "state": {
       "description_width": ""
      }
     },
     "d214624ce99e461a9ff85777c57e2122": {
      "model_module": "@jupyter-widgets/controls",
      "model_module_version": "1.2.0",
      "model_name": "IntSliderModel",
      "state": {
       "description": "tauxResidents",
       "layout": "IPY_MODEL_0cff29a83a75446b8133baf1ab190d54",
       "style": "IPY_MODEL_162b3eda218a4440b0087124a196cb94",
       "value": 20
      }
     },
     "d228e0e0080140c69b4bacf18d9f58a9": {
      "model_module": "@jupyter-widgets/controls",
      "model_module_version": "1.2.0",
      "model_name": "IntSliderModel",
      "state": {
       "description": "random_seed",
       "layout": "IPY_MODEL_621309f65c8449c1bf69b16b732459a2",
       "max": 1000,
       "style": "IPY_MODEL_65aa44eea7454cebae295d137afa1664"
      }
     },
     "d2335a2d46434d4f92eecc9867c0aa4f": {
      "model_module": "@jupyter-widgets/controls",
      "model_module_version": "1.2.0",
      "model_name": "SliderStyleModel",
      "state": {
       "description_width": ""
      }
     },
     "d24bcb8ec16c4124a249a812b909b6f9": {
      "model_module": "@jupyter-widgets/controls",
      "model_module_version": "1.2.0",
      "model_name": "SliderStyleModel",
      "state": {
       "description_width": ""
      }
     },
     "d283bb30090746f3a9deefb18210f8d2": {
      "model_module": "@jupyter-widgets/base",
      "model_module_version": "1.0.0",
      "model_name": "LayoutModel",
      "state": {}
     },
     "d289a55a87234f1abdb91e7dc2d97082": {
      "model_module": "@jupyter-widgets/base",
      "model_module_version": "1.0.0",
      "model_name": "LayoutModel",
      "state": {}
     },
     "d32bc349766f49cc97dbf5cacc022ace": {
      "model_module": "@jupyter-widgets/base",
      "model_module_version": "1.0.0",
      "model_name": "LayoutModel",
      "state": {}
     },
     "d3688a912cd14c95b61890ee60eacbb3": {
      "model_module": "@jupyter-widgets/controls",
      "model_module_version": "1.2.0",
      "model_name": "CheckboxModel",
      "state": {
       "description": "focusEstBoursier",
       "disabled": false,
       "layout": "IPY_MODEL_481da434d4404335854945e35d5fae88",
       "style": "IPY_MODEL_8b2d43976b394a6d98ea84484c8ce166",
       "value": false
      }
     },
     "d3c63f3b7d9f44ce99da56799511120e": {
      "model_module": "@jupyter-widgets/controls",
      "model_module_version": "1.2.0",
      "model_name": "IntSliderModel",
      "state": {
       "description": "taille",
       "layout": "IPY_MODEL_25bfe093ce6844a1a6c6840536f91238",
       "max": 200,
       "min": 1,
       "style": "IPY_MODEL_e24869fa7d3d4f67979f532e8eae8be9",
       "value": 19
      }
     },
     "d450a6584501426f8cacba5b80c402a9": {
      "model_module": "@jupyter-widgets/base",
      "model_module_version": "1.0.0",
      "model_name": "LayoutModel",
      "state": {}
     },
     "d4a2658366a441e0900dcf58f531c299": {
      "model_module": "@jupyter-widgets/base",
      "model_module_version": "1.0.0",
      "model_name": "LayoutModel",
      "state": {}
     },
     "d4c1e65eb66b418caa0b3d5f85740d6c": {
      "model_module": "@jupyter-widgets/base",
      "model_module_version": "1.0.0",
      "model_name": "LayoutModel",
      "state": {}
     },
     "d4e7d3d980914575849ed8156787fae5": {
      "model_module": "@jupyter-widgets/base",
      "model_module_version": "1.0.0",
      "model_name": "LayoutModel",
      "state": {}
     },
     "d5de93a0f6864484b8afe238840c3cf5": {
      "model_module": "@jupyter-widgets/controls",
      "model_module_version": "1.2.0",
      "model_name": "IntSliderModel",
      "state": {
       "description": "taille",
       "layout": "IPY_MODEL_53c87a7caf1c41dab76f25a1ab7143f0",
       "max": 500,
       "min": 1,
       "style": "IPY_MODEL_c6f2915274ab4bd3a075ca548d0c2d0c",
       "value": 293
      }
     },
     "d65191e305fe4473b39abb3c5fd3e1ba": {
      "model_module": "@jupyter-widgets/base",
      "model_module_version": "1.0.0",
      "model_name": "LayoutModel",
      "state": {}
     },
     "d65e5eb727114d74bb1c9ac1d812395e": {
      "model_module": "@jupyter-widgets/base",
      "model_module_version": "1.0.0",
      "model_name": "LayoutModel",
      "state": {}
     },
     "d68aae10d4bf4263bd02e383f0f04c7b": {
      "model_module": "@jupyter-widgets/base",
      "model_module_version": "1.0.0",
      "model_name": "LayoutModel",
      "state": {}
     },
     "d68bbc8a31bb4d189b28f5bb0db64c17": {
      "model_module": "@jupyter-widgets/controls",
      "model_module_version": "1.2.0",
      "model_name": "IntSliderModel",
      "state": {
       "description": "taille",
       "layout": "IPY_MODEL_9ae1acba986241bca65f63e02efa587f",
       "max": 500,
       "min": 1,
       "style": "IPY_MODEL_bea5facc9a264aea88dd75985cf8ee31",
       "value": 30
      }
     },
     "d6d5a3e9e0484434be12cec556cc52b4": {
      "model_module": "@jupyter-widgets/controls",
      "model_module_version": "1.2.0",
      "model_name": "IntSliderModel",
      "state": {
       "description": "tauxMinBoursiersPourcents",
       "layout": "IPY_MODEL_ff39f9d955714dc391743fcc523d1148",
       "style": "IPY_MODEL_3782e9c95f7b402688218d518d59e0bc",
       "value": 20
      }
     },
     "d77c77d5391943c1b67f77d14fd6b4ff": {
      "model_module": "@jupyter-widgets/base",
      "model_module_version": "1.0.0",
      "model_name": "LayoutModel",
      "state": {}
     },
     "d7c5ccc1e58a441e9b8acf4278751194": {
      "model_module": "@jupyter-widgets/controls",
      "model_module_version": "1.2.0",
      "model_name": "IntSliderModel",
      "state": {
       "description": "tauxBoursiers",
       "layout": "IPY_MODEL_92a2688742534161b094f5c465169676",
       "style": "IPY_MODEL_8ac4b2a664c8466f819555477518d26f",
       "value": 20
      }
     },
     "d8d8efff46b04300a36ed66491f67bf5": {
      "model_module": "@jupyter-widgets/base",
      "model_module_version": "1.0.0",
      "model_name": "LayoutModel",
      "state": {}
     },
     "d94ccdcd43d0417e8ed9d6bb41c3e6cb": {
      "model_module": "@jupyter-widgets/controls",
      "model_module_version": "1.2.0",
      "model_name": "DescriptionStyleModel",
      "state": {
       "description_width": ""
      }
     },
     "d95545ca7a0a40d89c6ed4b90ebf6264": {
      "model_module": "@jupyter-widgets/controls",
      "model_module_version": "1.2.0",
      "model_name": "IntSliderModel",
      "state": {
       "description": "random_seed",
       "layout": "IPY_MODEL_f198a47dbae945478d43c284f5713aa0",
       "max": 1000,
       "style": "IPY_MODEL_d24bcb8ec16c4124a249a812b909b6f9"
      }
     },
     "d97f433d3e8e4e248915fd64495ee85a": {
      "model_module": "@jupyter-widgets/controls",
      "model_module_version": "1.2.0",
      "model_name": "SliderStyleModel",
      "state": {
       "description_width": ""
      }
     },
     "d990db4097fd4f0bb9dc93967a614258": {
      "model_module": "@jupyter-widgets/controls",
      "model_module_version": "1.2.0",
      "model_name": "SliderStyleModel",
      "state": {
       "description_width": ""
      }
     },
     "da34fb3c76704f7d98cf70861f092824": {
      "model_module": "@jupyter-widgets/controls",
      "model_module_version": "1.2.0",
      "model_name": "IntSliderModel",
      "state": {
       "description": "tauxBoursiers",
       "layout": "IPY_MODEL_d77c77d5391943c1b67f77d14fd6b4ff",
       "style": "IPY_MODEL_377fca695a45493fb0ce23a546630efc",
       "value": 20
      }
     },
     "da3c4f396883425183a4fe4db339f106": {
      "model_module": "@jupyter-widgets/controls",
      "model_module_version": "1.2.0",
      "model_name": "VBoxModel",
      "state": {
       "_dom_classes": [
        "widget-interact"
       ],
       "children": [
        "IPY_MODEL_f9e31dbd788f4a6ab064d6d59a51c12b",
        "IPY_MODEL_8ac87e58b7134a74b94e30c4ef2e2546",
        "IPY_MODEL_d214624ce99e461a9ff85777c57e2122",
        "IPY_MODEL_13e4b94726f84a88a0d88c993d6a4904",
        "IPY_MODEL_c1993053ccf54a56b3d7f5ef9d044627",
        "IPY_MODEL_ceea1687f0bf473ea0bc92021b27f603",
        "IPY_MODEL_112119ba69114a3ea77d289cc793fc6f",
        "IPY_MODEL_8e4b1d57de14423c8eabd23108f88f18",
        "IPY_MODEL_6df49d31e12e4c4496f76588bf6274f7",
        "IPY_MODEL_2dc151296ab549708a803b03aec7fa33"
       ],
       "layout": "IPY_MODEL_705715d54e7e46a59f99e21f3bcf8dde"
      }
     },
     "da7feeaa8ac74c3e9a058dde77c61c2d": {
      "model_module": "@jupyter-widgets/base",
      "model_module_version": "1.0.0",
      "model_name": "LayoutModel",
      "state": {}
     },
     "da923003396b4a4ebf905667170d968b": {
      "model_module": "@jupyter-widgets/controls",
      "model_module_version": "1.2.0",
      "model_name": "VBoxModel",
      "state": {
       "_dom_classes": [
        "widget-interact"
       ],
       "children": [
        "IPY_MODEL_9fd0def6ef124f7a8998a9b4eb64902b",
        "IPY_MODEL_f9b8627a84a34cf2a0f10b269d814216"
       ],
       "layout": "IPY_MODEL_2630e96c34914391b733bb33c4b20401"
      }
     },
     "db0f2c6a2ad641ebaca56666e335d368": {
      "model_module": "@jupyter-widgets/controls",
      "model_module_version": "1.2.0",
      "model_name": "SliderStyleModel",
      "state": {
       "description_width": ""
      }
     },
     "db62cafbb03543ff935eebc48b4266c6": {
      "model_module": "@jupyter-widgets/controls",
      "model_module_version": "1.2.0",
      "model_name": "SliderStyleModel",
      "state": {
       "description_width": ""
      }
     },
     "db7648d904584893be93e554edbafb79": {
      "model_module": "@jupyter-widgets/controls",
      "model_module_version": "1.2.0",
      "model_name": "SliderStyleModel",
      "state": {
       "description_width": ""
      }
     },
     "dba604f286444fb49b21964683459933": {
      "model_module": "@jupyter-widgets/controls",
      "model_module_version": "1.2.0",
      "model_name": "SliderStyleModel",
      "state": {
       "description_width": ""
      }
     },
     "dbc9a2b0ee0b4b1c9d2a66c890778971": {
      "model_module": "@jupyter-widgets/controls",
      "model_module_version": "1.2.0",
      "model_name": "SliderStyleModel",
      "state": {
       "description_width": ""
      }
     },
     "dbda85dea9cd41d8a08fbe2c1a9da8ce": {
      "model_module": "@jupyter-widgets/base",
      "model_module_version": "1.0.0",
      "model_name": "LayoutModel",
      "state": {}
     },
     "dc7bc9b4e8c94b83b497fa4c64f4c641": {
      "model_module": "@jupyter-widgets/controls",
      "model_module_version": "1.2.0",
      "model_name": "SliderStyleModel",
      "state": {
       "description_width": ""
      }
     },
     "dce686887c2c4602a8046c542e27cbc3": {
      "model_module": "@jupyter-widgets/controls",
      "model_module_version": "1.2.0",
      "model_name": "IntSliderModel",
      "state": {
       "description": "tauxBoursiers",
       "layout": "IPY_MODEL_7817641761754102b71bb1c153ef2b62",
       "style": "IPY_MODEL_25d65afa958347bb956fddae9b73a090",
       "value": 3
      }
     },
     "dd185f13886b444793764da4d3f60d9a": {
      "model_module": "@jupyter-widgets/controls",
      "model_module_version": "1.2.0",
      "model_name": "SliderStyleModel",
      "state": {
       "description_width": ""
      }
     },
     "de6140fa92d946cdad13c22206e4e406": {
      "model_module": "@jupyter-widgets/controls",
      "model_module_version": "1.2.0",
      "model_name": "SliderStyleModel",
      "state": {
       "description_width": ""
      }
     },
     "deac092948cc40c5ae34bb42b64b566c": {
      "model_module": "@jupyter-widgets/base",
      "model_module_version": "1.0.0",
      "model_name": "LayoutModel",
      "state": {}
     },
     "dedcf6ead2ca475cafe255241000b30a": {
      "model_module": "@jupyter-widgets/controls",
      "model_module_version": "1.2.0",
      "model_name": "SliderStyleModel",
      "state": {
       "description_width": ""
      }
     },
     "df61942644314fa4b21d3f744bc7f22e": {
      "model_module": "@jupyter-widgets/controls",
      "model_module_version": "1.2.0",
      "model_name": "DescriptionStyleModel",
      "state": {
       "description_width": ""
      }
     },
     "df61c1bfcb6445cabac555c46d776964": {
      "model_module": "@jupyter-widgets/base",
      "model_module_version": "1.0.0",
      "model_name": "LayoutModel",
      "state": {}
     },
     "df8f29b34d9b44e0a425fd85e5153c18": {
      "model_module": "@jupyter-widgets/controls",
      "model_module_version": "1.2.0",
      "model_name": "IntSliderModel",
      "state": {
       "description": "taille",
       "layout": "IPY_MODEL_073dd0d3a5174d89ba30133517b7d24b",
       "max": 500,
       "min": 1,
       "style": "IPY_MODEL_6f41fcb8055948daac1de31da5150a82",
       "value": 34
      }
     },
     "dfb370a970b74dec8e34813e781cec8a": {
      "model_module": "@jupyter-widgets/controls",
      "model_module_version": "1.2.0",
      "model_name": "IntSliderModel",
      "state": {
       "description": "tauxMinBoursiersPourcents",
       "layout": "IPY_MODEL_446d90e007724c2597f93cbdb977f963",
       "style": "IPY_MODEL_3e91903041524b229aba1eada6a3fc66",
       "value": 10
      }
     },
     "dfc01306b7f441cf8f890bbbc0cef941": {
      "model_module": "@jupyter-widgets/base",
      "model_module_version": "1.0.0",
      "model_name": "LayoutModel",
      "state": {}
     },
     "dfcb93e3b09e419cb0561f52989549e7": {
      "model_module": "@jupyter-widgets/base",
      "model_module_version": "1.0.0",
      "model_name": "LayoutModel",
      "state": {}
     },
     "dfe178eb3013414c8f027191ab73f899": {
      "model_module": "@jupyter-widgets/output",
      "model_module_version": "1.0.0",
      "model_name": "OutputModel",
      "state": {
       "layout": "IPY_MODEL_1150c8ae9d964b4e860788e53d5a503d",
       "outputs": [
        {
         "data": {
          "text/plain": "[2, 1, 3, 4, 5, 6, 7, 8, 9, 10]"
         },
         "metadata": {},
         "output_type": "display_data"
        }
       ]
      }
     },
     "dfe45955987a44c192279782a54f68e8": {
      "model_module": "@jupyter-widgets/controls",
      "model_module_version": "1.2.0",
      "model_name": "SliderStyleModel",
      "state": {
       "description_width": ""
      }
     },
     "dfefdd6bec4a4635a3f06384db58f52d": {
      "model_module": "@jupyter-widgets/controls",
      "model_module_version": "1.2.0",
      "model_name": "SliderStyleModel",
      "state": {
       "description_width": ""
      }
     },
     "e082f88535dc4e2091b6b248223d4856": {
      "model_module": "@jupyter-widgets/base",
      "model_module_version": "1.0.0",
      "model_name": "LayoutModel",
      "state": {}
     },
     "e0bcb937bb9440bf846ae04defcc7654": {
      "model_module": "@jupyter-widgets/controls",
      "model_module_version": "1.2.0",
      "model_name": "SliderStyleModel",
      "state": {
       "description_width": ""
      }
     },
     "e0d761bad1234a01a8e04f0dcb1ff646": {
      "model_module": "@jupyter-widgets/controls",
      "model_module_version": "1.2.0",
      "model_name": "IntSliderModel",
      "state": {
       "description": "tauxMinBoursiersPourcents",
       "layout": "IPY_MODEL_9abcbd3fdfae44f3b68261cc9acd8eff",
       "style": "IPY_MODEL_31a7a823a14942b99b61c88c489ddcd3",
       "value": 20
      }
     },
     "e0e7c527043f45fe9170edb03f544d1e": {
      "model_module": "@jupyter-widgets/base",
      "model_module_version": "1.0.0",
      "model_name": "LayoutModel",
      "state": {}
     },
     "e1cf70eb2c774423921cd505de260af4": {
      "model_module": "@jupyter-widgets/controls",
      "model_module_version": "1.2.0",
      "model_name": "IntSliderModel",
      "state": {
       "description": "random_seed",
       "layout": "IPY_MODEL_74cf32939a1c40d98ce1fe612ca9524d",
       "max": 1000,
       "style": "IPY_MODEL_ff0988615087409d9b7a44d14228b154"
      }
     },
     "e1f6bff6b8004a4ea59d383521fedfc6": {
      "model_module": "@jupyter-widgets/base",
      "model_module_version": "1.0.0",
      "model_name": "LayoutModel",
      "state": {}
     },
     "e1fe357ae4bc437b95d8e7987309bebf": {
      "model_module": "@jupyter-widgets/base",
      "model_module_version": "1.0.0",
      "model_name": "LayoutModel",
      "state": {}
     },
     "e24869fa7d3d4f67979f532e8eae8be9": {
      "model_module": "@jupyter-widgets/controls",
      "model_module_version": "1.2.0",
      "model_name": "SliderStyleModel",
      "state": {
       "description_width": ""
      }
     },
     "e308ad1d14464c2596b283a2e929198c": {
      "model_module": "@jupyter-widgets/controls",
      "model_module_version": "1.2.0",
      "model_name": "SliderStyleModel",
      "state": {
       "description_width": ""
      }
     },
     "e32d71c856eb486f9e81c04f3b409e2a": {
      "model_module": "@jupyter-widgets/controls",
      "model_module_version": "1.2.0",
      "model_name": "SliderStyleModel",
      "state": {
       "description_width": ""
      }
     },
     "e380572f874349439ebd4c41776efeae": {
      "model_module": "@jupyter-widgets/controls",
      "model_module_version": "1.2.0",
      "model_name": "SliderStyleModel",
      "state": {
       "description_width": ""
      }
     },
     "e38a5cc7f3cc4913b3c5b9f772a0281b": {
      "model_module": "@jupyter-widgets/controls",
      "model_module_version": "1.2.0",
      "model_name": "DescriptionStyleModel",
      "state": {
       "description_width": ""
      }
     },
     "e42e1b0757a649e998f9773f0c95a65a": {
      "model_module": "@jupyter-widgets/base",
      "model_module_version": "1.0.0",
      "model_name": "LayoutModel",
      "state": {}
     },
     "e45f8a219aee4f7f804dd60b32eaaccb": {
      "model_module": "@jupyter-widgets/output",
      "model_module_version": "1.0.0",
      "model_name": "OutputModel",
      "state": {
       "layout": "IPY_MODEL_df61c1bfcb6445cabac555c46d776964",
       "outputs": [
        {
         "name": "stdout",
         "output_type": "stream",
         "text": "Visualisation de l'algorithme de calcul de l'ordre d'appel.\n1. Vœux non triés par rang :\n"
        },
        {
         "data": {
          "text/html": "<style type=\"text/css\">table.blockgrid {border: none;} .blockgrid tr {border: none;} .blockgrid td {padding: 0px;} #blocksa049b757-6db0-44d2-92f9-4061abbf0d94 td {border: 1px solid white;}</style><table id=\"blocksa049b757-6db0-44d2-92f9-4061abbf0d94\" class=\"blockgrid\"><tbody><tr><td title=\"Index: [0, 0]&#10;Color: (200, 200, 200)\" style=\"width: 20px; height: 20px;background-color: rgb(200, 200, 200);\"></td><td title=\"Index: [0, 1]&#10;Color: (200, 200, 200)\" style=\"width: 20px; height: 20px;background-color: rgb(200, 200, 200);\"></td><td title=\"Index: [0, 2]&#10;Color: (200, 200, 200)\" style=\"width: 20px; height: 20px;background-color: rgb(200, 200, 200);\"></td><td title=\"Index: [0, 3]&#10;Color: (200, 200, 200)\" style=\"width: 20px; height: 20px;background-color: rgb(200, 200, 200);\"></td><td title=\"Index: [0, 4]&#10;Color: (200, 200, 200)\" style=\"width: 20px; height: 20px;background-color: rgb(200, 200, 200);\"></td><td title=\"Index: [0, 5]&#10;Color: (200, 200, 200)\" style=\"width: 20px; height: 20px;background-color: rgb(200, 200, 200);\"></td><td title=\"Index: [0, 6]&#10;Color: (200, 200, 200)\" style=\"width: 20px; height: 20px;background-color: rgb(200, 200, 200);\"></td><td title=\"Index: [0, 7]&#10;Color: (200, 200, 200)\" style=\"width: 20px; height: 20px;background-color: rgb(200, 200, 200);\"></td><td title=\"Index: [0, 8]&#10;Color: (200, 200, 200)\" style=\"width: 20px; height: 20px;background-color: rgb(200, 200, 200);\"></td><td title=\"Index: [0, 9]&#10;Color: (200, 200, 200)\" style=\"width: 20px; height: 20px;background-color: rgb(200, 200, 200);\"></td><td title=\"Index: [0, 10]&#10;Color: (200, 200, 200)\" style=\"width: 20px; height: 20px;background-color: rgb(200, 200, 200);\"></td><td title=\"Index: [0, 11]&#10;Color: (200, 200, 200)\" style=\"width: 20px; height: 20px;background-color: rgb(200, 200, 200);\"></td><td title=\"Index: [0, 12]&#10;Color: (200, 200, 200)\" style=\"width: 20px; height: 20px;background-color: rgb(200, 200, 200);\"></td><td title=\"Index: [0, 13]&#10;Color: (200, 200, 200)\" style=\"width: 20px; height: 20px;background-color: rgb(200, 200, 200);\"></td><td title=\"Index: [0, 14]&#10;Color: (200, 200, 200)\" style=\"width: 20px; height: 20px;background-color: rgb(200, 200, 200);\"></td><td title=\"Index: [0, 15]&#10;Color: (200, 200, 200)\" style=\"width: 20px; height: 20px;background-color: rgb(200, 200, 200);\"></td><td title=\"Index: [0, 16]&#10;Color: (200, 200, 200)\" style=\"width: 20px; height: 20px;background-color: rgb(200, 200, 200);\"></td><td title=\"Index: [0, 17]&#10;Color: (200, 200, 200)\" style=\"width: 20px; height: 20px;background-color: rgb(200, 200, 200);\"></td><td title=\"Index: [0, 18]&#10;Color: (200, 200, 200)\" style=\"width: 20px; height: 20px;background-color: rgb(200, 200, 200);\"></td><td title=\"Index: [0, 19]&#10;Color: (200, 200, 200)\" style=\"width: 20px; height: 20px;background-color: rgb(200, 200, 200);\"></td><td title=\"Index: [0, 20]&#10;Color: (200, 200, 200)\" style=\"width: 20px; height: 20px;background-color: rgb(200, 200, 200);\"></td><td title=\"Index: [0, 21]&#10;Color: (200, 200, 200)\" style=\"width: 20px; height: 20px;background-color: rgb(200, 200, 200);\"></td><td title=\"Index: [0, 22]&#10;Color: (200, 200, 200)\" style=\"width: 20px; height: 20px;background-color: rgb(200, 200, 200);\"></td><td title=\"Index: [0, 23]&#10;Color: (200, 200, 200)\" style=\"width: 20px; height: 20px;background-color: rgb(200, 200, 200);\"></td><td title=\"Index: [0, 24]&#10;Color: (200, 200, 200)\" style=\"width: 20px; height: 20px;background-color: rgb(200, 200, 200);\"></td><td title=\"Index: [0, 25]&#10;Color: (255, 255, 255)\" style=\"width: 20px; height: 20px;background-color: rgb(255, 255, 255);\"></td><td title=\"Index: [0, 26]&#10;Color: (200, 200, 200)\" style=\"width: 20px; height: 20px;background-color: rgb(200, 200, 200);\"></td><td title=\"Index: [0, 27]&#10;Color: (200, 200, 200)\" style=\"width: 20px; height: 20px;background-color: rgb(200, 200, 200);\"></td><td title=\"Index: [0, 28]&#10;Color: (200, 200, 200)\" style=\"width: 20px; height: 20px;background-color: rgb(200, 200, 200);\"></td><td title=\"Index: [0, 29]&#10;Color: (200, 200, 200)\" style=\"width: 20px; height: 20px;background-color: rgb(200, 200, 200);\"></td></tr></tbody></table>",
          "text/plain": "<ipythonblocks.ipythonblocks.BlockGrid at 0x7fa2b45280b8>"
         },
         "metadata": {},
         "output_type": "display_data"
        },
        {
         "name": "stdout",
         "output_type": "stream",
         "text": "2. Vœux triés par rang, mais pas par l'algorithme :\n"
        },
        {
         "data": {
          "text/html": "<style type=\"text/css\">table.blockgrid {border: none;} .blockgrid tr {border: none;} .blockgrid td {padding: 0px;} #blocks73171071-270c-4317-91de-858cfac5d288 td {border: 1px solid white;}</style><table id=\"blocks73171071-270c-4317-91de-858cfac5d288\" class=\"blockgrid\"><tbody><tr><td title=\"Index: [0, 0]&#10;Color: (200, 200, 200)\" style=\"width: 20px; height: 20px;background-color: rgb(200, 200, 200);\"></td><td title=\"Index: [0, 1]&#10;Color: (200, 200, 200)\" style=\"width: 20px; height: 20px;background-color: rgb(200, 200, 200);\"></td><td title=\"Index: [0, 2]&#10;Color: (200, 200, 200)\" style=\"width: 20px; height: 20px;background-color: rgb(200, 200, 200);\"></td><td title=\"Index: [0, 3]&#10;Color: (200, 200, 200)\" style=\"width: 20px; height: 20px;background-color: rgb(200, 200, 200);\"></td><td title=\"Index: [0, 4]&#10;Color: (200, 200, 200)\" style=\"width: 20px; height: 20px;background-color: rgb(200, 200, 200);\"></td><td title=\"Index: [0, 5]&#10;Color: (200, 200, 200)\" style=\"width: 20px; height: 20px;background-color: rgb(200, 200, 200);\"></td><td title=\"Index: [0, 6]&#10;Color: (200, 200, 200)\" style=\"width: 20px; height: 20px;background-color: rgb(200, 200, 200);\"></td><td title=\"Index: [0, 7]&#10;Color: (200, 200, 200)\" style=\"width: 20px; height: 20px;background-color: rgb(200, 200, 200);\"></td><td title=\"Index: [0, 8]&#10;Color: (200, 200, 200)\" style=\"width: 20px; height: 20px;background-color: rgb(200, 200, 200);\"></td><td title=\"Index: [0, 9]&#10;Color: (200, 200, 200)\" style=\"width: 20px; height: 20px;background-color: rgb(200, 200, 200);\"></td><td title=\"Index: [0, 10]&#10;Color: (200, 200, 200)\" style=\"width: 20px; height: 20px;background-color: rgb(200, 200, 200);\"></td><td title=\"Index: [0, 11]&#10;Color: (200, 200, 200)\" style=\"width: 20px; height: 20px;background-color: rgb(200, 200, 200);\"></td><td title=\"Index: [0, 12]&#10;Color: (200, 200, 200)\" style=\"width: 20px; height: 20px;background-color: rgb(200, 200, 200);\"></td><td title=\"Index: [0, 13]&#10;Color: (200, 200, 200)\" style=\"width: 20px; height: 20px;background-color: rgb(200, 200, 200);\"></td><td title=\"Index: [0, 14]&#10;Color: (200, 200, 200)\" style=\"width: 20px; height: 20px;background-color: rgb(200, 200, 200);\"></td><td title=\"Index: [0, 15]&#10;Color: (200, 200, 200)\" style=\"width: 20px; height: 20px;background-color: rgb(200, 200, 200);\"></td><td title=\"Index: [0, 16]&#10;Color: (200, 200, 200)\" style=\"width: 20px; height: 20px;background-color: rgb(200, 200, 200);\"></td><td title=\"Index: [0, 17]&#10;Color: (200, 200, 200)\" style=\"width: 20px; height: 20px;background-color: rgb(200, 200, 200);\"></td><td title=\"Index: [0, 18]&#10;Color: (200, 200, 200)\" style=\"width: 20px; height: 20px;background-color: rgb(200, 200, 200);\"></td><td title=\"Index: [0, 19]&#10;Color: (200, 200, 200)\" style=\"width: 20px; height: 20px;background-color: rgb(200, 200, 200);\"></td><td title=\"Index: [0, 20]&#10;Color: (200, 200, 200)\" style=\"width: 20px; height: 20px;background-color: rgb(200, 200, 200);\"></td><td title=\"Index: [0, 21]&#10;Color: (200, 200, 200)\" style=\"width: 20px; height: 20px;background-color: rgb(200, 200, 200);\"></td><td title=\"Index: [0, 22]&#10;Color: (200, 200, 200)\" style=\"width: 20px; height: 20px;background-color: rgb(200, 200, 200);\"></td><td title=\"Index: [0, 23]&#10;Color: (200, 200, 200)\" style=\"width: 20px; height: 20px;background-color: rgb(200, 200, 200);\"></td><td title=\"Index: [0, 24]&#10;Color: (200, 200, 200)\" style=\"width: 20px; height: 20px;background-color: rgb(200, 200, 200);\"></td><td title=\"Index: [0, 25]&#10;Color: (200, 200, 200)\" style=\"width: 20px; height: 20px;background-color: rgb(200, 200, 200);\"></td><td title=\"Index: [0, 26]&#10;Color: (200, 200, 200)\" style=\"width: 20px; height: 20px;background-color: rgb(200, 200, 200);\"></td><td title=\"Index: [0, 27]&#10;Color: (200, 200, 200)\" style=\"width: 20px; height: 20px;background-color: rgb(200, 200, 200);\"></td><td title=\"Index: [0, 28]&#10;Color: (255, 255, 255)\" style=\"width: 20px; height: 20px;background-color: rgb(255, 255, 255);\"></td><td title=\"Index: [0, 29]&#10;Color: (200, 200, 200)\" style=\"width: 20px; height: 20px;background-color: rgb(200, 200, 200);\"></td></tr></tbody></table>",
          "text/plain": "<ipythonblocks.ipythonblocks.BlockGrid at 0x7fa2b454a0b8>"
         },
         "metadata": {},
         "output_type": "display_data"
        },
        {
         "name": "stdout",
         "output_type": "stream",
         "text": "3. Vœux triés par l'algorithme :\n"
        },
        {
         "data": {
          "text/html": "<style type=\"text/css\">table.blockgrid {border: none;} .blockgrid tr {border: none;} .blockgrid td {padding: 0px;} #blocksf5b1f13a-34b2-4b44-b0a7-76840727e3c5 td {border: 1px solid white;}</style><table id=\"blocksf5b1f13a-34b2-4b44-b0a7-76840727e3c5\" class=\"blockgrid\"><tbody><tr><td title=\"Index: [0, 0]&#10;Color: (200, 200, 200)\" style=\"width: 20px; height: 20px;background-color: rgb(200, 200, 200);\"></td><td title=\"Index: [0, 1]&#10;Color: (255, 255, 255)\" style=\"width: 20px; height: 20px;background-color: rgb(255, 255, 255);\"></td><td title=\"Index: [0, 2]&#10;Color: (200, 200, 200)\" style=\"width: 20px; height: 20px;background-color: rgb(200, 200, 200);\"></td><td title=\"Index: [0, 3]&#10;Color: (200, 200, 200)\" style=\"width: 20px; height: 20px;background-color: rgb(200, 200, 200);\"></td><td title=\"Index: [0, 4]&#10;Color: (200, 200, 200)\" style=\"width: 20px; height: 20px;background-color: rgb(200, 200, 200);\"></td><td title=\"Index: [0, 5]&#10;Color: (200, 200, 200)\" style=\"width: 20px; height: 20px;background-color: rgb(200, 200, 200);\"></td><td title=\"Index: [0, 6]&#10;Color: (200, 200, 200)\" style=\"width: 20px; height: 20px;background-color: rgb(200, 200, 200);\"></td><td title=\"Index: [0, 7]&#10;Color: (200, 200, 200)\" style=\"width: 20px; height: 20px;background-color: rgb(200, 200, 200);\"></td><td title=\"Index: [0, 8]&#10;Color: (200, 200, 200)\" style=\"width: 20px; height: 20px;background-color: rgb(200, 200, 200);\"></td><td title=\"Index: [0, 9]&#10;Color: (200, 200, 200)\" style=\"width: 20px; height: 20px;background-color: rgb(200, 200, 200);\"></td><td title=\"Index: [0, 10]&#10;Color: (200, 200, 200)\" style=\"width: 20px; height: 20px;background-color: rgb(200, 200, 200);\"></td><td title=\"Index: [0, 11]&#10;Color: (200, 200, 200)\" style=\"width: 20px; height: 20px;background-color: rgb(200, 200, 200);\"></td><td title=\"Index: [0, 12]&#10;Color: (200, 200, 200)\" style=\"width: 20px; height: 20px;background-color: rgb(200, 200, 200);\"></td><td title=\"Index: [0, 13]&#10;Color: (200, 200, 200)\" style=\"width: 20px; height: 20px;background-color: rgb(200, 200, 200);\"></td><td title=\"Index: [0, 14]&#10;Color: (200, 200, 200)\" style=\"width: 20px; height: 20px;background-color: rgb(200, 200, 200);\"></td><td title=\"Index: [0, 15]&#10;Color: (200, 200, 200)\" style=\"width: 20px; height: 20px;background-color: rgb(200, 200, 200);\"></td><td title=\"Index: [0, 16]&#10;Color: (200, 200, 200)\" style=\"width: 20px; height: 20px;background-color: rgb(200, 200, 200);\"></td><td title=\"Index: [0, 17]&#10;Color: (200, 200, 200)\" style=\"width: 20px; height: 20px;background-color: rgb(200, 200, 200);\"></td><td title=\"Index: [0, 18]&#10;Color: (200, 200, 200)\" style=\"width: 20px; height: 20px;background-color: rgb(200, 200, 200);\"></td><td title=\"Index: [0, 19]&#10;Color: (200, 200, 200)\" style=\"width: 20px; height: 20px;background-color: rgb(200, 200, 200);\"></td><td title=\"Index: [0, 20]&#10;Color: (200, 200, 200)\" style=\"width: 20px; height: 20px;background-color: rgb(200, 200, 200);\"></td><td title=\"Index: [0, 21]&#10;Color: (200, 200, 200)\" style=\"width: 20px; height: 20px;background-color: rgb(200, 200, 200);\"></td><td title=\"Index: [0, 22]&#10;Color: (200, 200, 200)\" style=\"width: 20px; height: 20px;background-color: rgb(200, 200, 200);\"></td><td title=\"Index: [0, 23]&#10;Color: (200, 200, 200)\" style=\"width: 20px; height: 20px;background-color: rgb(200, 200, 200);\"></td><td title=\"Index: [0, 24]&#10;Color: (200, 200, 200)\" style=\"width: 20px; height: 20px;background-color: rgb(200, 200, 200);\"></td><td title=\"Index: [0, 25]&#10;Color: (200, 200, 200)\" style=\"width: 20px; height: 20px;background-color: rgb(200, 200, 200);\"></td><td title=\"Index: [0, 26]&#10;Color: (200, 200, 200)\" style=\"width: 20px; height: 20px;background-color: rgb(200, 200, 200);\"></td><td title=\"Index: [0, 27]&#10;Color: (200, 200, 200)\" style=\"width: 20px; height: 20px;background-color: rgb(200, 200, 200);\"></td><td title=\"Index: [0, 28]&#10;Color: (200, 200, 200)\" style=\"width: 20px; height: 20px;background-color: rgb(200, 200, 200);\"></td><td title=\"Index: [0, 29]&#10;Color: (200, 200, 200)\" style=\"width: 20px; height: 20px;background-color: rgb(200, 200, 200);\"></td></tr></tbody></table>",
          "text/plain": "<ipythonblocks.ipythonblocks.BlockGrid at 0x7fa2b454a0b8>"
         },
         "metadata": {},
         "output_type": "display_data"
        }
       ]
      }
     },
     "e46f5f886e774c99bc90517de17b21c8": {
      "model_module": "@jupyter-widgets/controls",
      "model_module_version": "1.2.0",
      "model_name": "SliderStyleModel",
      "state": {
       "description_width": ""
      }
     },
     "e4c18a2226684d948f791f504ac672aa": {
      "model_module": "@jupyter-widgets/controls",
      "model_module_version": "1.2.0",
      "model_name": "SliderStyleModel",
      "state": {
       "description_width": ""
      }
     },
     "e53916f6cdfd4fe5a708dbfab4799a9a": {
      "model_module": "@jupyter-widgets/controls",
      "model_module_version": "1.2.0",
      "model_name": "IntSliderModel",
      "state": {
       "description": "tauxMinResidentsPourcents",
       "layout": "IPY_MODEL_3bdc5b232f22455c88e49c3ba5e6aea5",
       "style": "IPY_MODEL_8283da01873c43178e0f473bbc3fedff"
      }
     },
     "e565b277cd3c4a6ba4563cafd163b8b3": {
      "model_module": "@jupyter-widgets/output",
      "model_module_version": "1.0.0",
      "model_name": "OutputModel",
      "state": {
       "layout": "IPY_MODEL_a3fec2d352434c368e1299d4c477ce42",
       "outputs": [
        {
         "name": "stdout",
         "output_type": "stream",
         "text": "Visualisation de l'algorithme de calcul de l'ordre d'appel.\n1. Vœux non triés par rang :\n"
        },
        {
         "data": {
          "text/html": "<style type=\"text/css\">table.blockgrid {border: none;} .blockgrid tr {border: none;} .blockgrid td {padding: 0px;} #blocksb63e18e2-771e-49b0-83fd-022b74946dfe td {border: 1px solid white;}</style><table id=\"blocksb63e18e2-771e-49b0-83fd-022b74946dfe\" class=\"blockgrid\"><tbody><tr><td title=\"Index: [0, 0]&#10;Color: (0, 0, 0)\" style=\"width: 20px; height: 20px;background-color: rgb(0, 0, 0);\"></td><td title=\"Index: [0, 1]&#10;Color: (240, 240, 240)\" style=\"width: 20px; height: 20px;background-color: rgb(240, 240, 240);\"></td><td title=\"Index: [0, 2]&#10;Color: (0, 0, 0)\" style=\"width: 20px; height: 20px;background-color: rgb(0, 0, 0);\"></td><td title=\"Index: [0, 3]&#10;Color: (0, 0, 0)\" style=\"width: 20px; height: 20px;background-color: rgb(0, 0, 0);\"></td><td title=\"Index: [0, 4]&#10;Color: (0, 0, 0)\" style=\"width: 20px; height: 20px;background-color: rgb(0, 0, 0);\"></td><td title=\"Index: [0, 5]&#10;Color: (0, 0, 0)\" style=\"width: 20px; height: 20px;background-color: rgb(0, 0, 0);\"></td><td title=\"Index: [0, 6]&#10;Color: (0, 0, 0)\" style=\"width: 20px; height: 20px;background-color: rgb(0, 0, 0);\"></td><td title=\"Index: [0, 7]&#10;Color: (0, 0, 0)\" style=\"width: 20px; height: 20px;background-color: rgb(0, 0, 0);\"></td><td title=\"Index: [0, 8]&#10;Color: (0, 0, 0)\" style=\"width: 20px; height: 20px;background-color: rgb(0, 0, 0);\"></td><td title=\"Index: [0, 9]&#10;Color: (0, 0, 0)\" style=\"width: 20px; height: 20px;background-color: rgb(0, 0, 0);\"></td></tr></tbody></table>",
          "text/plain": "<ipythonblocks.ipythonblocks.BlockGrid at 0x7fa2b44c1940>"
         },
         "metadata": {},
         "output_type": "display_data"
        },
        {
         "name": "stdout",
         "output_type": "stream",
         "text": "2. Vœux triés par rang, mais pas par l'algorithme :\n"
        },
        {
         "data": {
          "text/html": "<style type=\"text/css\">table.blockgrid {border: none;} .blockgrid tr {border: none;} .blockgrid td {padding: 0px;} #blocks58afa8ac-232e-4ccf-ab78-aaa030e19fb2 td {border: 1px solid white;}</style><table id=\"blocks58afa8ac-232e-4ccf-ab78-aaa030e19fb2\" class=\"blockgrid\"><tbody><tr><td title=\"Index: [0, 0]&#10;Color: (240, 240, 240)\" style=\"width: 20px; height: 20px;background-color: rgb(240, 240, 240);\"></td><td title=\"Index: [0, 1]&#10;Color: (0, 0, 0)\" style=\"width: 20px; height: 20px;background-color: rgb(0, 0, 0);\"></td><td title=\"Index: [0, 2]&#10;Color: (0, 0, 0)\" style=\"width: 20px; height: 20px;background-color: rgb(0, 0, 0);\"></td><td title=\"Index: [0, 3]&#10;Color: (0, 0, 0)\" style=\"width: 20px; height: 20px;background-color: rgb(0, 0, 0);\"></td><td title=\"Index: [0, 4]&#10;Color: (0, 0, 0)\" style=\"width: 20px; height: 20px;background-color: rgb(0, 0, 0);\"></td><td title=\"Index: [0, 5]&#10;Color: (0, 0, 0)\" style=\"width: 20px; height: 20px;background-color: rgb(0, 0, 0);\"></td><td title=\"Index: [0, 6]&#10;Color: (0, 0, 0)\" style=\"width: 20px; height: 20px;background-color: rgb(0, 0, 0);\"></td><td title=\"Index: [0, 7]&#10;Color: (0, 0, 0)\" style=\"width: 20px; height: 20px;background-color: rgb(0, 0, 0);\"></td><td title=\"Index: [0, 8]&#10;Color: (0, 0, 0)\" style=\"width: 20px; height: 20px;background-color: rgb(0, 0, 0);\"></td><td title=\"Index: [0, 9]&#10;Color: (0, 0, 0)\" style=\"width: 20px; height: 20px;background-color: rgb(0, 0, 0);\"></td></tr></tbody></table>",
          "text/plain": "<ipythonblocks.ipythonblocks.BlockGrid at 0x7fa2b44c1940>"
         },
         "metadata": {},
         "output_type": "display_data"
        },
        {
         "name": "stdout",
         "output_type": "stream",
         "text": "3. Vœux triés par l'algorithme :\n"
        },
        {
         "data": {
          "text/html": "<style type=\"text/css\">table.blockgrid {border: none;} .blockgrid tr {border: none;} .blockgrid td {padding: 0px;} #blocks130c5521-7271-4d1b-a2b5-d0aa8a7c046e td {border: 1px solid white;}</style><table id=\"blocks130c5521-7271-4d1b-a2b5-d0aa8a7c046e\" class=\"blockgrid\"><tbody><tr><td title=\"Index: [0, 0]&#10;Color: (0, 0, 0)\" style=\"width: 20px; height: 20px;background-color: rgb(0, 0, 0);\"></td><td title=\"Index: [0, 1]&#10;Color: (240, 240, 240)\" style=\"width: 20px; height: 20px;background-color: rgb(240, 240, 240);\"></td><td title=\"Index: [0, 2]&#10;Color: (0, 0, 0)\" style=\"width: 20px; height: 20px;background-color: rgb(0, 0, 0);\"></td><td title=\"Index: [0, 3]&#10;Color: (0, 0, 0)\" style=\"width: 20px; height: 20px;background-color: rgb(0, 0, 0);\"></td><td title=\"Index: [0, 4]&#10;Color: (0, 0, 0)\" style=\"width: 20px; height: 20px;background-color: rgb(0, 0, 0);\"></td><td title=\"Index: [0, 5]&#10;Color: (0, 0, 0)\" style=\"width: 20px; height: 20px;background-color: rgb(0, 0, 0);\"></td><td title=\"Index: [0, 6]&#10;Color: (0, 0, 0)\" style=\"width: 20px; height: 20px;background-color: rgb(0, 0, 0);\"></td><td title=\"Index: [0, 7]&#10;Color: (0, 0, 0)\" style=\"width: 20px; height: 20px;background-color: rgb(0, 0, 0);\"></td><td title=\"Index: [0, 8]&#10;Color: (0, 0, 0)\" style=\"width: 20px; height: 20px;background-color: rgb(0, 0, 0);\"></td><td title=\"Index: [0, 9]&#10;Color: (0, 0, 0)\" style=\"width: 20px; height: 20px;background-color: rgb(0, 0, 0);\"></td></tr></tbody></table>",
          "text/plain": "<ipythonblocks.ipythonblocks.BlockGrid at 0x7fa2b44c1940>"
         },
         "metadata": {},
         "output_type": "display_data"
        }
       ]
      }
     },
     "e5ac6bcb9f4c4b2d97ecb5100eca8644": {
      "model_module": "@jupyter-widgets/controls",
      "model_module_version": "1.2.0",
      "model_name": "VBoxModel",
      "state": {
       "_dom_classes": [
        "widget-interact"
       ],
       "children": [
        "IPY_MODEL_f1b14bb63ab34bf0931250f5e2ab67f4",
        "IPY_MODEL_8febcaed57d5483e87c7af4d46389e0e",
        "IPY_MODEL_65520d85835f4bd6a6ba18e153893222"
       ],
       "layout": "IPY_MODEL_d283bb30090746f3a9deefb18210f8d2"
      }
     },
     "e5e9927a7a4f4285b5489d79527d8a04": {
      "model_module": "@jupyter-widgets/base",
      "model_module_version": "1.0.0",
      "model_name": "LayoutModel",
      "state": {}
     },
     "e61598780383408b9c8be165f5832445": {
      "model_module": "@jupyter-widgets/base",
      "model_module_version": "1.0.0",
      "model_name": "LayoutModel",
      "state": {}
     },
     "e6526d063fe740ceb9b389fd64d696a0": {
      "model_module": "@jupyter-widgets/controls",
      "model_module_version": "1.2.0",
      "model_name": "SliderStyleModel",
      "state": {
       "description_width": ""
      }
     },
     "e65fb20ad381405d92e15062a2793c84": {
      "model_module": "@jupyter-widgets/controls",
      "model_module_version": "1.2.0",
      "model_name": "CheckboxModel",
      "state": {
       "description": "focusEstResident",
       "disabled": false,
       "layout": "IPY_MODEL_18ccf61ca0ee48c4be745c6b86ddde23",
       "style": "IPY_MODEL_f07794d8a9034d0ea0f724290fc3922e",
       "value": false
      }
     },
     "e791a11aa1144fa897e9b6220c05e508": {
      "model_module": "@jupyter-widgets/controls",
      "model_module_version": "1.2.0",
      "model_name": "SliderStyleModel",
      "state": {
       "description_width": ""
      }
     },
     "e7f5dcc1781b40ee804c4c03497b8fd7": {
      "model_module": "@jupyter-widgets/controls",
      "model_module_version": "1.2.0",
      "model_name": "SliderStyleModel",
      "state": {
       "description_width": ""
      }
     },
     "e8289189e36b4af08e36e3abb28a9430": {
      "model_module": "@jupyter-widgets/controls",
      "model_module_version": "1.2.0",
      "model_name": "IntSliderModel",
      "state": {
       "description": "tauxBoursiers",
       "layout": "IPY_MODEL_fe2d8eddfcfb4bfa80049c0ce5a3fa3b",
       "style": "IPY_MODEL_8e8699e4609043b78fae6fc25f0158d1",
       "value": 20
      }
     },
     "e83f32e536c54e1f9f5f3dc1ea0756d3": {
      "model_module": "@jupyter-widgets/controls",
      "model_module_version": "1.2.0",
      "model_name": "IntSliderModel",
      "state": {
       "description": "tauxMinResidentsPourcents",
       "layout": "IPY_MODEL_bc3358a5b2ba4e61863abc1d04ba9d15",
       "style": "IPY_MODEL_ae531d99fe394ea9afbbbced2f9cadee"
      }
     },
     "e86d9ac274364041a82c6f9471ff58b6": {
      "model_module": "@jupyter-widgets/controls",
      "model_module_version": "1.2.0",
      "model_name": "SliderStyleModel",
      "state": {
       "description_width": ""
      }
     },
     "e8bff03af45545bdb465f319eeeb1f69": {
      "model_module": "@jupyter-widgets/controls",
      "model_module_version": "1.2.0",
      "model_name": "IntSliderModel",
      "state": {
       "description": "random_seed",
       "layout": "IPY_MODEL_61f421e9872442d59a2c32c3084885b6",
       "max": 1000,
       "style": "IPY_MODEL_3751da1c560c4e1d9f72bdebe7c4acf2"
      }
     },
     "e8eb887978344f64a983dcb73c3cd2c0": {
      "model_module": "@jupyter-widgets/base",
      "model_module_version": "1.0.0",
      "model_name": "LayoutModel",
      "state": {}
     },
     "e931b28876844839a5926b0d10566e4a": {
      "model_module": "@jupyter-widgets/controls",
      "model_module_version": "1.2.0",
      "model_name": "SliderStyleModel",
      "state": {
       "description_width": ""
      }
     },
     "e939aa2ac7e248d7a19b7a1398beb901": {
      "model_module": "@jupyter-widgets/controls",
      "model_module_version": "1.2.0",
      "model_name": "IntSliderModel",
      "state": {
       "description": "tauxMinBoursiersPourcents",
       "layout": "IPY_MODEL_d4a2658366a441e0900dcf58f531c299",
       "style": "IPY_MODEL_5a9ea8d632aa491ca70f8c0754df47c6",
       "value": 2
      }
     },
     "e9b68ce2de2143d3980eb6ea4279caa4": {
      "model_module": "@jupyter-widgets/base",
      "model_module_version": "1.0.0",
      "model_name": "LayoutModel",
      "state": {}
     },
     "ea954e8014bb41ed9ea6903d06cbe7c9": {
      "model_module": "@jupyter-widgets/controls",
      "model_module_version": "1.2.0",
      "model_name": "VBoxModel",
      "state": {
       "_dom_classes": [
        "widget-interact"
       ],
       "children": [
        "IPY_MODEL_9633670393e04072992d470686f5c173",
        "IPY_MODEL_b8abc12d663743ce9eba343f18657b0f",
        "IPY_MODEL_d16d52853f7f41129841767d2af386db",
        "IPY_MODEL_bc0fe4b365b94001b5a5b9f64e65f5a4",
        "IPY_MODEL_cbdc9f5224954fe79398d2ccfe1595dd",
        "IPY_MODEL_8438cf581ac54652aa87b5d79a40616e",
        "IPY_MODEL_4789e53b90f749d0871b1bcc61cb29d5",
        "IPY_MODEL_d6d5a3e9e0484434be12cec556cc52b4",
        "IPY_MODEL_bced6957b38d4547803e3b4e6753ef92",
        "IPY_MODEL_9355bfc7e88244ceac0bc388c0fab641"
       ],
       "layout": "IPY_MODEL_f5c915f95a45434e986a59379726cce8"
      }
     },
     "eaa47345f78f47098800b85173ed87ad": {
      "model_module": "@jupyter-widgets/controls",
      "model_module_version": "1.2.0",
      "model_name": "CheckboxModel",
      "state": {
       "description": "focusEstResident",
       "disabled": false,
       "layout": "IPY_MODEL_339e004bf77f4fc89e1970ce133c9ff3",
       "style": "IPY_MODEL_2e3a8bd1d7f44efdb26c6ce3fc3a6250",
       "value": false
      }
     },
     "eabdaccd31344ac8a2c1d47839af01b9": {
      "model_module": "@jupyter-widgets/base",
      "model_module_version": "1.0.0",
      "model_name": "LayoutModel",
      "state": {}
     },
     "eb9d0b8ef3cc4334820390b1b16b33b5": {
      "model_module": "@jupyter-widgets/base",
      "model_module_version": "1.0.0",
      "model_name": "LayoutModel",
      "state": {}
     },
     "ec0172ce3f9742198c0eeba4bbdc74c3": {
      "model_module": "@jupyter-widgets/controls",
      "model_module_version": "1.2.0",
      "model_name": "SliderStyleModel",
      "state": {
       "description_width": ""
      }
     },
     "ec729094e9094033ba84408f2230d9bc": {
      "model_module": "@jupyter-widgets/controls",
      "model_module_version": "1.2.0",
      "model_name": "SliderStyleModel",
      "state": {
       "description_width": ""
      }
     },
     "ec9091faf766486096f88a49a94f7d5b": {
      "model_module": "@jupyter-widgets/controls",
      "model_module_version": "1.2.0",
      "model_name": "SliderStyleModel",
      "state": {
       "description_width": ""
      }
     },
     "eda2fc2e1f064ef6b524995c4483da60": {
      "model_module": "@jupyter-widgets/output",
      "model_module_version": "1.0.0",
      "model_name": "OutputModel",
      "state": {
       "layout": "IPY_MODEL_f90e383e6b814aada78059b8bf08fce4",
       "outputs": [
        {
         "name": "stdout",
         "output_type": "stream",
         "text": "Visualisation de l'algorithme de calcul de l'ordre d'appel.\n1. Vœux non triés par rang :\n"
        },
        {
         "data": {
          "text/html": "<style type=\"text/css\">table.blockgrid {border: none;} .blockgrid tr {border: none;} .blockgrid td {padding: 0px;} #blockse99a89b8-96d8-4379-84fd-03bd8cf36786 td {border: 1px solid white;}</style><table id=\"blockse99a89b8-96d8-4379-84fd-03bd8cf36786\" class=\"blockgrid\"><tbody><tr><td title=\"Index: [0, 0]&#10;Color: (200, 200, 200)\" style=\"width: 20px; height: 20px;background-color: rgb(200, 200, 200);\"></td><td title=\"Index: [0, 1]&#10;Color: (200, 200, 200)\" style=\"width: 20px; height: 20px;background-color: rgb(200, 200, 200);\"></td><td title=\"Index: [0, 2]&#10;Color: (200, 200, 200)\" style=\"width: 20px; height: 20px;background-color: rgb(200, 200, 200);\"></td><td title=\"Index: [0, 3]&#10;Color: (200, 200, 200)\" style=\"width: 20px; height: 20px;background-color: rgb(200, 200, 200);\"></td><td title=\"Index: [0, 4]&#10;Color: (200, 0, 0)\" style=\"width: 20px; height: 20px;background-color: rgb(200, 0, 0);\"></td><td title=\"Index: [0, 5]&#10;Color: (200, 200, 200)\" style=\"width: 20px; height: 20px;background-color: rgb(200, 200, 200);\"></td><td title=\"Index: [0, 6]&#10;Color: (200, 200, 200)\" style=\"width: 20px; height: 20px;background-color: rgb(200, 200, 200);\"></td><td title=\"Index: [0, 7]&#10;Color: (0, 0, 200)\" style=\"width: 20px; height: 20px;background-color: rgb(0, 0, 200);\"></td><td title=\"Index: [0, 8]&#10;Color: (200, 200, 200)\" style=\"width: 20px; height: 20px;background-color: rgb(200, 200, 200);\"></td><td title=\"Index: [0, 9]&#10;Color: (0, 0, 200)\" style=\"width: 20px; height: 20px;background-color: rgb(0, 0, 200);\"></td><td title=\"Index: [0, 10]&#10;Color: (200, 200, 200)\" style=\"width: 20px; height: 20px;background-color: rgb(200, 200, 200);\"></td><td title=\"Index: [0, 11]&#10;Color: (200, 200, 200)\" style=\"width: 20px; height: 20px;background-color: rgb(200, 200, 200);\"></td><td title=\"Index: [0, 12]&#10;Color: (200, 0, 0)\" style=\"width: 20px; height: 20px;background-color: rgb(200, 0, 0);\"></td><td title=\"Index: [0, 13]&#10;Color: (200, 0, 0)\" style=\"width: 20px; height: 20px;background-color: rgb(200, 0, 0);\"></td><td title=\"Index: [0, 14]&#10;Color: (200, 200, 200)\" style=\"width: 20px; height: 20px;background-color: rgb(200, 200, 200);\"></td><td title=\"Index: [0, 15]&#10;Color: (0, 0, 200)\" style=\"width: 20px; height: 20px;background-color: rgb(0, 0, 200);\"></td><td title=\"Index: [0, 16]&#10;Color: (200, 0, 0)\" style=\"width: 20px; height: 20px;background-color: rgb(200, 0, 0);\"></td><td title=\"Index: [0, 17]&#10;Color: (200, 200, 200)\" style=\"width: 20px; height: 20px;background-color: rgb(200, 200, 200);\"></td><td title=\"Index: [0, 18]&#10;Color: (200, 0, 0)\" style=\"width: 20px; height: 20px;background-color: rgb(200, 0, 0);\"></td><td title=\"Index: [0, 19]&#10;Color: (200, 200, 200)\" style=\"width: 20px; height: 20px;background-color: rgb(200, 200, 200);\"></td><td title=\"Index: [0, 20]&#10;Color: (200, 200, 200)\" style=\"width: 20px; height: 20px;background-color: rgb(200, 200, 200);\"></td><td title=\"Index: [0, 21]&#10;Color: (200, 200, 200)\" style=\"width: 20px; height: 20px;background-color: rgb(200, 200, 200);\"></td><td title=\"Index: [0, 22]&#10;Color: (200, 200, 200)\" style=\"width: 20px; height: 20px;background-color: rgb(200, 200, 200);\"></td><td title=\"Index: [0, 23]&#10;Color: (0, 0, 200)\" style=\"width: 20px; height: 20px;background-color: rgb(0, 0, 200);\"></td><td title=\"Index: [0, 24]&#10;Color: (0, 0, 200)\" style=\"width: 20px; height: 20px;background-color: rgb(0, 0, 200);\"></td><td title=\"Index: [0, 25]&#10;Color: (200, 0, 200)\" style=\"width: 20px; height: 20px;background-color: rgb(200, 0, 200);\"></td><td title=\"Index: [0, 26]&#10;Color: (200, 0, 0)\" style=\"width: 20px; height: 20px;background-color: rgb(200, 0, 0);\"></td><td title=\"Index: [0, 27]&#10;Color: (200, 200, 200)\" style=\"width: 20px; height: 20px;background-color: rgb(200, 200, 200);\"></td><td title=\"Index: [0, 28]&#10;Color: (200, 200, 200)\" style=\"width: 20px; height: 20px;background-color: rgb(200, 200, 200);\"></td><td title=\"Index: [0, 29]&#10;Color: (200, 200, 200)\" style=\"width: 20px; height: 20px;background-color: rgb(200, 200, 200);\"></td><td title=\"Index: [0, 30]&#10;Color: (200, 200, 200)\" style=\"width: 20px; height: 20px;background-color: rgb(200, 200, 200);\"></td><td title=\"Index: [0, 31]&#10;Color: (200, 200, 200)\" style=\"width: 20px; height: 20px;background-color: rgb(200, 200, 200);\"></td><td title=\"Index: [0, 32]&#10;Color: (0, 0, 200)\" style=\"width: 20px; height: 20px;background-color: rgb(0, 0, 200);\"></td><td title=\"Index: [0, 33]&#10;Color: (0, 0, 200)\" style=\"width: 20px; height: 20px;background-color: rgb(0, 0, 200);\"></td><td title=\"Index: [0, 34]&#10;Color: (200, 200, 200)\" style=\"width: 20px; height: 20px;background-color: rgb(200, 200, 200);\"></td><td title=\"Index: [0, 35]&#10;Color: (0, 0, 200)\" style=\"width: 20px; height: 20px;background-color: rgb(0, 0, 200);\"></td><td title=\"Index: [0, 36]&#10;Color: (200, 200, 200)\" style=\"width: 20px; height: 20px;background-color: rgb(200, 200, 200);\"></td><td title=\"Index: [0, 37]&#10;Color: (200, 200, 200)\" style=\"width: 20px; height: 20px;background-color: rgb(200, 200, 200);\"></td><td title=\"Index: [0, 38]&#10;Color: (200, 200, 200)\" style=\"width: 20px; height: 20px;background-color: rgb(200, 200, 200);\"></td><td title=\"Index: [0, 39]&#10;Color: (200, 200, 200)\" style=\"width: 20px; height: 20px;background-color: rgb(200, 200, 200);\"></td><td title=\"Index: [0, 40]&#10;Color: (200, 200, 200)\" style=\"width: 20px; height: 20px;background-color: rgb(200, 200, 200);\"></td><td title=\"Index: [0, 41]&#10;Color: (200, 0, 0)\" style=\"width: 20px; height: 20px;background-color: rgb(200, 0, 0);\"></td><td title=\"Index: [0, 42]&#10;Color: (200, 0, 0)\" style=\"width: 20px; height: 20px;background-color: rgb(200, 0, 0);\"></td><td title=\"Index: [0, 43]&#10;Color: (200, 200, 200)\" style=\"width: 20px; height: 20px;background-color: rgb(200, 200, 200);\"></td><td title=\"Index: [0, 44]&#10;Color: (200, 200, 200)\" style=\"width: 20px; height: 20px;background-color: rgb(200, 200, 200);\"></td><td title=\"Index: [0, 45]&#10;Color: (200, 200, 200)\" style=\"width: 20px; height: 20px;background-color: rgb(200, 200, 200);\"></td><td title=\"Index: [0, 46]&#10;Color: (200, 200, 200)\" style=\"width: 20px; height: 20px;background-color: rgb(200, 200, 200);\"></td><td title=\"Index: [0, 47]&#10;Color: (200, 200, 200)\" style=\"width: 20px; height: 20px;background-color: rgb(200, 200, 200);\"></td><td title=\"Index: [0, 48]&#10;Color: (200, 0, 0)\" style=\"width: 20px; height: 20px;background-color: rgb(200, 0, 0);\"></td><td title=\"Index: [0, 49]&#10;Color: (200, 200, 200)\" style=\"width: 20px; height: 20px;background-color: rgb(200, 200, 200);\"></td><td title=\"Index: [0, 50]&#10;Color: (200, 200, 200)\" style=\"width: 20px; height: 20px;background-color: rgb(200, 200, 200);\"></td><td title=\"Index: [0, 51]&#10;Color: (200, 200, 200)\" style=\"width: 20px; height: 20px;background-color: rgb(200, 200, 200);\"></td><td title=\"Index: [0, 52]&#10;Color: (200, 200, 200)\" style=\"width: 20px; height: 20px;background-color: rgb(200, 200, 200);\"></td><td title=\"Index: [0, 53]&#10;Color: (200, 0, 0)\" style=\"width: 20px; height: 20px;background-color: rgb(200, 0, 0);\"></td><td title=\"Index: [0, 54]&#10;Color: (200, 200, 200)\" style=\"width: 20px; height: 20px;background-color: rgb(200, 200, 200);\"></td><td title=\"Index: [0, 55]&#10;Color: (200, 0, 0)\" style=\"width: 20px; height: 20px;background-color: rgb(200, 0, 0);\"></td><td title=\"Index: [0, 56]&#10;Color: (200, 200, 200)\" style=\"width: 20px; height: 20px;background-color: rgb(200, 200, 200);\"></td><td title=\"Index: [0, 57]&#10;Color: (200, 200, 200)\" style=\"width: 20px; height: 20px;background-color: rgb(200, 200, 200);\"></td><td title=\"Index: [0, 58]&#10;Color: (200, 0, 200)\" style=\"width: 20px; height: 20px;background-color: rgb(200, 0, 200);\"></td><td title=\"Index: [0, 59]&#10;Color: (200, 200, 200)\" style=\"width: 20px; height: 20px;background-color: rgb(200, 200, 200);\"></td><td title=\"Index: [0, 60]&#10;Color: (200, 200, 200)\" style=\"width: 20px; height: 20px;background-color: rgb(200, 200, 200);\"></td><td title=\"Index: [0, 61]&#10;Color: (200, 200, 200)\" style=\"width: 20px; height: 20px;background-color: rgb(200, 200, 200);\"></td><td title=\"Index: [0, 62]&#10;Color: (0, 0, 200)\" style=\"width: 20px; height: 20px;background-color: rgb(0, 0, 200);\"></td><td title=\"Index: [0, 63]&#10;Color: (0, 0, 200)\" style=\"width: 20px; height: 20px;background-color: rgb(0, 0, 200);\"></td><td title=\"Index: [0, 64]&#10;Color: (200, 0, 0)\" style=\"width: 20px; height: 20px;background-color: rgb(200, 0, 0);\"></td><td title=\"Index: [0, 65]&#10;Color: (200, 200, 200)\" style=\"width: 20px; height: 20px;background-color: rgb(200, 200, 200);\"></td><td title=\"Index: [0, 66]&#10;Color: (200, 200, 200)\" style=\"width: 20px; height: 20px;background-color: rgb(200, 200, 200);\"></td><td title=\"Index: [0, 67]&#10;Color: (0, 0, 200)\" style=\"width: 20px; height: 20px;background-color: rgb(0, 0, 200);\"></td><td title=\"Index: [0, 68]&#10;Color: (0, 0, 200)\" style=\"width: 20px; height: 20px;background-color: rgb(0, 0, 200);\"></td><td title=\"Index: [0, 69]&#10;Color: (200, 200, 200)\" style=\"width: 20px; height: 20px;background-color: rgb(200, 200, 200);\"></td></tr></tbody></table>",
          "text/plain": "<ipythonblocks.ipythonblocks.BlockGrid at 0x7fa2b45f25c0>"
         },
         "metadata": {},
         "output_type": "display_data"
        },
        {
         "name": "stdout",
         "output_type": "stream",
         "text": "2. Vœux triés par rang, mais pas par l'algorithme :\n"
        },
        {
         "data": {
          "text/html": "<style type=\"text/css\">table.blockgrid {border: none;} .blockgrid tr {border: none;} .blockgrid td {padding: 0px;} #blocks15f48098-8b26-4fe1-b31f-a8ef98095bc3 td {border: 1px solid white;}</style><table id=\"blocks15f48098-8b26-4fe1-b31f-a8ef98095bc3\" class=\"blockgrid\"><tbody><tr><td title=\"Index: [0, 0]&#10;Color: (200, 200, 200)\" style=\"width: 20px; height: 20px;background-color: rgb(200, 200, 200);\"></td><td title=\"Index: [0, 1]&#10;Color: (200, 0, 0)\" style=\"width: 20px; height: 20px;background-color: rgb(200, 0, 0);\"></td><td title=\"Index: [0, 2]&#10;Color: (0, 0, 200)\" style=\"width: 20px; height: 20px;background-color: rgb(0, 0, 200);\"></td><td title=\"Index: [0, 3]&#10;Color: (200, 200, 200)\" style=\"width: 20px; height: 20px;background-color: rgb(200, 200, 200);\"></td><td title=\"Index: [0, 4]&#10;Color: (200, 0, 0)\" style=\"width: 20px; height: 20px;background-color: rgb(200, 0, 0);\"></td><td title=\"Index: [0, 5]&#10;Color: (0, 0, 200)\" style=\"width: 20px; height: 20px;background-color: rgb(0, 0, 200);\"></td><td title=\"Index: [0, 6]&#10;Color: (200, 200, 200)\" style=\"width: 20px; height: 20px;background-color: rgb(200, 200, 200);\"></td><td title=\"Index: [0, 7]&#10;Color: (200, 0, 0)\" style=\"width: 20px; height: 20px;background-color: rgb(200, 0, 0);\"></td><td title=\"Index: [0, 8]&#10;Color: (200, 200, 200)\" style=\"width: 20px; height: 20px;background-color: rgb(200, 200, 200);\"></td><td title=\"Index: [0, 9]&#10;Color: (200, 200, 200)\" style=\"width: 20px; height: 20px;background-color: rgb(200, 200, 200);\"></td><td title=\"Index: [0, 10]&#10;Color: (200, 200, 200)\" style=\"width: 20px; height: 20px;background-color: rgb(200, 200, 200);\"></td><td title=\"Index: [0, 11]&#10;Color: (200, 0, 200)\" style=\"width: 20px; height: 20px;background-color: rgb(200, 0, 200);\"></td><td title=\"Index: [0, 12]&#10;Color: (0, 0, 200)\" style=\"width: 20px; height: 20px;background-color: rgb(0, 0, 200);\"></td><td title=\"Index: [0, 13]&#10;Color: (200, 200, 200)\" style=\"width: 20px; height: 20px;background-color: rgb(200, 200, 200);\"></td><td title=\"Index: [0, 14]&#10;Color: (200, 200, 200)\" style=\"width: 20px; height: 20px;background-color: rgb(200, 200, 200);\"></td><td title=\"Index: [0, 15]&#10;Color: (200, 200, 200)\" style=\"width: 20px; height: 20px;background-color: rgb(200, 200, 200);\"></td><td title=\"Index: [0, 16]&#10;Color: (200, 0, 0)\" style=\"width: 20px; height: 20px;background-color: rgb(200, 0, 0);\"></td><td title=\"Index: [0, 17]&#10;Color: (200, 200, 200)\" style=\"width: 20px; height: 20px;background-color: rgb(200, 200, 200);\"></td><td title=\"Index: [0, 18]&#10;Color: (200, 0, 200)\" style=\"width: 20px; height: 20px;background-color: rgb(200, 0, 200);\"></td><td title=\"Index: [0, 19]&#10;Color: (200, 0, 0)\" style=\"width: 20px; height: 20px;background-color: rgb(200, 0, 0);\"></td><td title=\"Index: [0, 20]&#10;Color: (200, 0, 0)\" style=\"width: 20px; height: 20px;background-color: rgb(200, 0, 0);\"></td><td title=\"Index: [0, 21]&#10;Color: (200, 200, 200)\" style=\"width: 20px; height: 20px;background-color: rgb(200, 200, 200);\"></td><td title=\"Index: [0, 22]&#10;Color: (200, 200, 200)\" style=\"width: 20px; height: 20px;background-color: rgb(200, 200, 200);\"></td><td title=\"Index: [0, 23]&#10;Color: (200, 200, 200)\" style=\"width: 20px; height: 20px;background-color: rgb(200, 200, 200);\"></td><td title=\"Index: [0, 24]&#10;Color: (0, 0, 200)\" style=\"width: 20px; height: 20px;background-color: rgb(0, 0, 200);\"></td><td title=\"Index: [0, 25]&#10;Color: (200, 200, 200)\" style=\"width: 20px; height: 20px;background-color: rgb(200, 200, 200);\"></td><td title=\"Index: [0, 26]&#10;Color: (200, 200, 200)\" style=\"width: 20px; height: 20px;background-color: rgb(200, 200, 200);\"></td><td title=\"Index: [0, 27]&#10;Color: (200, 200, 200)\" style=\"width: 20px; height: 20px;background-color: rgb(200, 200, 200);\"></td><td title=\"Index: [0, 28]&#10;Color: (200, 200, 200)\" style=\"width: 20px; height: 20px;background-color: rgb(200, 200, 200);\"></td><td title=\"Index: [0, 29]&#10;Color: (200, 200, 200)\" style=\"width: 20px; height: 20px;background-color: rgb(200, 200, 200);\"></td><td title=\"Index: [0, 30]&#10;Color: (200, 200, 200)\" style=\"width: 20px; height: 20px;background-color: rgb(200, 200, 200);\"></td><td title=\"Index: [0, 31]&#10;Color: (0, 0, 200)\" style=\"width: 20px; height: 20px;background-color: rgb(0, 0, 200);\"></td><td title=\"Index: [0, 32]&#10;Color: (200, 0, 0)\" style=\"width: 20px; height: 20px;background-color: rgb(200, 0, 0);\"></td><td title=\"Index: [0, 33]&#10;Color: (0, 0, 200)\" style=\"width: 20px; height: 20px;background-color: rgb(0, 0, 200);\"></td><td title=\"Index: [0, 34]&#10;Color: (200, 200, 200)\" style=\"width: 20px; height: 20px;background-color: rgb(200, 200, 200);\"></td><td title=\"Index: [0, 35]&#10;Color: (0, 0, 200)\" style=\"width: 20px; height: 20px;background-color: rgb(0, 0, 200);\"></td><td title=\"Index: [0, 36]&#10;Color: (200, 0, 0)\" style=\"width: 20px; height: 20px;background-color: rgb(200, 0, 0);\"></td><td title=\"Index: [0, 37]&#10;Color: (0, 0, 200)\" style=\"width: 20px; height: 20px;background-color: rgb(0, 0, 200);\"></td><td title=\"Index: [0, 38]&#10;Color: (200, 200, 200)\" style=\"width: 20px; height: 20px;background-color: rgb(200, 200, 200);\"></td><td title=\"Index: [0, 39]&#10;Color: (200, 0, 0)\" style=\"width: 20px; height: 20px;background-color: rgb(200, 0, 0);\"></td><td title=\"Index: [0, 40]&#10;Color: (200, 200, 200)\" style=\"width: 20px; height: 20px;background-color: rgb(200, 200, 200);\"></td><td title=\"Index: [0, 41]&#10;Color: (200, 200, 200)\" style=\"width: 20px; height: 20px;background-color: rgb(200, 200, 200);\"></td><td title=\"Index: [0, 42]&#10;Color: (0, 0, 200)\" style=\"width: 20px; height: 20px;background-color: rgb(0, 0, 200);\"></td><td title=\"Index: [0, 43]&#10;Color: (200, 200, 200)\" style=\"width: 20px; height: 20px;background-color: rgb(200, 200, 200);\"></td><td title=\"Index: [0, 44]&#10;Color: (200, 200, 200)\" style=\"width: 20px; height: 20px;background-color: rgb(200, 200, 200);\"></td><td title=\"Index: [0, 45]&#10;Color: (200, 200, 200)\" style=\"width: 20px; height: 20px;background-color: rgb(200, 200, 200);\"></td><td title=\"Index: [0, 46]&#10;Color: (200, 200, 200)\" style=\"width: 20px; height: 20px;background-color: rgb(200, 200, 200);\"></td><td title=\"Index: [0, 47]&#10;Color: (200, 0, 0)\" style=\"width: 20px; height: 20px;background-color: rgb(200, 0, 0);\"></td><td title=\"Index: [0, 48]&#10;Color: (200, 200, 200)\" style=\"width: 20px; height: 20px;background-color: rgb(200, 200, 200);\"></td><td title=\"Index: [0, 49]&#10;Color: (200, 200, 200)\" style=\"width: 20px; height: 20px;background-color: rgb(200, 200, 200);\"></td><td title=\"Index: [0, 50]&#10;Color: (200, 0, 0)\" style=\"width: 20px; height: 20px;background-color: rgb(200, 0, 0);\"></td><td title=\"Index: [0, 51]&#10;Color: (200, 200, 200)\" style=\"width: 20px; height: 20px;background-color: rgb(200, 200, 200);\"></td><td title=\"Index: [0, 52]&#10;Color: (0, 0, 200)\" style=\"width: 20px; height: 20px;background-color: rgb(0, 0, 200);\"></td><td title=\"Index: [0, 53]&#10;Color: (200, 200, 200)\" style=\"width: 20px; height: 20px;background-color: rgb(200, 200, 200);\"></td><td title=\"Index: [0, 54]&#10;Color: (200, 200, 200)\" style=\"width: 20px; height: 20px;background-color: rgb(200, 200, 200);\"></td><td title=\"Index: [0, 55]&#10;Color: (200, 200, 200)\" style=\"width: 20px; height: 20px;background-color: rgb(200, 200, 200);\"></td><td title=\"Index: [0, 56]&#10;Color: (200, 200, 200)\" style=\"width: 20px; height: 20px;background-color: rgb(200, 200, 200);\"></td><td title=\"Index: [0, 57]&#10;Color: (0, 0, 200)\" style=\"width: 20px; height: 20px;background-color: rgb(0, 0, 200);\"></td><td title=\"Index: [0, 58]&#10;Color: (200, 200, 200)\" style=\"width: 20px; height: 20px;background-color: rgb(200, 200, 200);\"></td><td title=\"Index: [0, 59]&#10;Color: (200, 200, 200)\" style=\"width: 20px; height: 20px;background-color: rgb(200, 200, 200);\"></td><td title=\"Index: [0, 60]&#10;Color: (0, 0, 200)\" style=\"width: 20px; height: 20px;background-color: rgb(0, 0, 200);\"></td><td title=\"Index: [0, 61]&#10;Color: (200, 200, 200)\" style=\"width: 20px; height: 20px;background-color: rgb(200, 200, 200);\"></td><td title=\"Index: [0, 62]&#10;Color: (200, 200, 200)\" style=\"width: 20px; height: 20px;background-color: rgb(200, 200, 200);\"></td><td title=\"Index: [0, 63]&#10;Color: (200, 200, 200)\" style=\"width: 20px; height: 20px;background-color: rgb(200, 200, 200);\"></td><td title=\"Index: [0, 64]&#10;Color: (200, 0, 0)\" style=\"width: 20px; height: 20px;background-color: rgb(200, 0, 0);\"></td><td title=\"Index: [0, 65]&#10;Color: (200, 200, 200)\" style=\"width: 20px; height: 20px;background-color: rgb(200, 200, 200);\"></td><td title=\"Index: [0, 66]&#10;Color: (200, 200, 200)\" style=\"width: 20px; height: 20px;background-color: rgb(200, 200, 200);\"></td><td title=\"Index: [0, 67]&#10;Color: (200, 200, 200)\" style=\"width: 20px; height: 20px;background-color: rgb(200, 200, 200);\"></td><td title=\"Index: [0, 68]&#10;Color: (200, 200, 200)\" style=\"width: 20px; height: 20px;background-color: rgb(200, 200, 200);\"></td><td title=\"Index: [0, 69]&#10;Color: (200, 200, 200)\" style=\"width: 20px; height: 20px;background-color: rgb(200, 200, 200);\"></td></tr></tbody></table>",
          "text/plain": "<ipythonblocks.ipythonblocks.BlockGrid at 0x7fa2b45f25c0>"
         },
         "metadata": {},
         "output_type": "display_data"
        },
        {
         "name": "stdout",
         "output_type": "stream",
         "text": "3. Vœux triés par l'algorithme :\n"
        },
        {
         "data": {
          "text/html": "<style type=\"text/css\">table.blockgrid {border: none;} .blockgrid tr {border: none;} .blockgrid td {padding: 0px;} #blocks9eae2c73-4241-43a4-bc6e-106527918c8b td {border: 1px solid white;}</style><table id=\"blocks9eae2c73-4241-43a4-bc6e-106527918c8b\" class=\"blockgrid\"><tbody><tr><td title=\"Index: [0, 0]&#10;Color: (200, 0, 0)\" style=\"width: 20px; height: 20px;background-color: rgb(200, 0, 0);\"></td><td title=\"Index: [0, 1]&#10;Color: (200, 200, 200)\" style=\"width: 20px; height: 20px;background-color: rgb(200, 200, 200);\"></td><td title=\"Index: [0, 2]&#10;Color: (200, 200, 200)\" style=\"width: 20px; height: 20px;background-color: rgb(200, 200, 200);\"></td><td title=\"Index: [0, 3]&#10;Color: (200, 200, 200)\" style=\"width: 20px; height: 20px;background-color: rgb(200, 200, 200);\"></td><td title=\"Index: [0, 4]&#10;Color: (200, 200, 200)\" style=\"width: 20px; height: 20px;background-color: rgb(200, 200, 200);\"></td><td title=\"Index: [0, 5]&#10;Color: (200, 200, 200)\" style=\"width: 20px; height: 20px;background-color: rgb(200, 200, 200);\"></td><td title=\"Index: [0, 6]&#10;Color: (200, 200, 200)\" style=\"width: 20px; height: 20px;background-color: rgb(200, 200, 200);\"></td><td title=\"Index: [0, 7]&#10;Color: (200, 200, 200)\" style=\"width: 20px; height: 20px;background-color: rgb(200, 200, 200);\"></td><td title=\"Index: [0, 8]&#10;Color: (200, 200, 200)\" style=\"width: 20px; height: 20px;background-color: rgb(200, 200, 200);\"></td><td title=\"Index: [0, 9]&#10;Color: (0, 0, 200)\" style=\"width: 20px; height: 20px;background-color: rgb(0, 0, 200);\"></td><td title=\"Index: [0, 10]&#10;Color: (200, 0, 0)\" style=\"width: 20px; height: 20px;background-color: rgb(200, 0, 0);\"></td><td title=\"Index: [0, 11]&#10;Color: (200, 200, 200)\" style=\"width: 20px; height: 20px;background-color: rgb(200, 200, 200);\"></td><td title=\"Index: [0, 12]&#10;Color: (200, 200, 200)\" style=\"width: 20px; height: 20px;background-color: rgb(200, 200, 200);\"></td><td title=\"Index: [0, 13]&#10;Color: (0, 0, 200)\" style=\"width: 20px; height: 20px;background-color: rgb(0, 0, 200);\"></td><td title=\"Index: [0, 14]&#10;Color: (200, 200, 200)\" style=\"width: 20px; height: 20px;background-color: rgb(200, 200, 200);\"></td><td title=\"Index: [0, 15]&#10;Color: (200, 200, 200)\" style=\"width: 20px; height: 20px;background-color: rgb(200, 200, 200);\"></td><td title=\"Index: [0, 16]&#10;Color: (200, 200, 200)\" style=\"width: 20px; height: 20px;background-color: rgb(200, 200, 200);\"></td><td title=\"Index: [0, 17]&#10;Color: (200, 200, 200)\" style=\"width: 20px; height: 20px;background-color: rgb(200, 200, 200);\"></td><td title=\"Index: [0, 18]&#10;Color: (0, 0, 200)\" style=\"width: 20px; height: 20px;background-color: rgb(0, 0, 200);\"></td><td title=\"Index: [0, 19]&#10;Color: (200, 200, 200)\" style=\"width: 20px; height: 20px;background-color: rgb(200, 200, 200);\"></td><td title=\"Index: [0, 20]&#10;Color: (200, 0, 0)\" style=\"width: 20px; height: 20px;background-color: rgb(200, 0, 0);\"></td><td title=\"Index: [0, 21]&#10;Color: (200, 200, 200)\" style=\"width: 20px; height: 20px;background-color: rgb(200, 200, 200);\"></td><td title=\"Index: [0, 22]&#10;Color: (200, 200, 200)\" style=\"width: 20px; height: 20px;background-color: rgb(200, 200, 200);\"></td><td title=\"Index: [0, 23]&#10;Color: (200, 200, 200)\" style=\"width: 20px; height: 20px;background-color: rgb(200, 200, 200);\"></td><td title=\"Index: [0, 24]&#10;Color: (200, 200, 200)\" style=\"width: 20px; height: 20px;background-color: rgb(200, 200, 200);\"></td><td title=\"Index: [0, 25]&#10;Color: (200, 200, 200)\" style=\"width: 20px; height: 20px;background-color: rgb(200, 200, 200);\"></td><td title=\"Index: [0, 26]&#10;Color: (200, 200, 200)\" style=\"width: 20px; height: 20px;background-color: rgb(200, 200, 200);\"></td><td title=\"Index: [0, 27]&#10;Color: (0, 0, 200)\" style=\"width: 20px; height: 20px;background-color: rgb(0, 0, 200);\"></td><td title=\"Index: [0, 28]&#10;Color: (200, 200, 200)\" style=\"width: 20px; height: 20px;background-color: rgb(200, 200, 200);\"></td><td title=\"Index: [0, 29]&#10;Color: (200, 200, 200)\" style=\"width: 20px; height: 20px;background-color: rgb(200, 200, 200);\"></td><td title=\"Index: [0, 30]&#10;Color: (200, 0, 0)\" style=\"width: 20px; height: 20px;background-color: rgb(200, 0, 0);\"></td><td title=\"Index: [0, 31]&#10;Color: (200, 200, 200)\" style=\"width: 20px; height: 20px;background-color: rgb(200, 200, 200);\"></td><td title=\"Index: [0, 32]&#10;Color: (0, 0, 200)\" style=\"width: 20px; height: 20px;background-color: rgb(0, 0, 200);\"></td><td title=\"Index: [0, 33]&#10;Color: (200, 0, 0)\" style=\"width: 20px; height: 20px;background-color: rgb(200, 0, 0);\"></td><td title=\"Index: [0, 34]&#10;Color: (0, 0, 200)\" style=\"width: 20px; height: 20px;background-color: rgb(0, 0, 200);\"></td><td title=\"Index: [0, 35]&#10;Color: (200, 200, 200)\" style=\"width: 20px; height: 20px;background-color: rgb(200, 200, 200);\"></td><td title=\"Index: [0, 36]&#10;Color: (0, 0, 200)\" style=\"width: 20px; height: 20px;background-color: rgb(0, 0, 200);\"></td><td title=\"Index: [0, 37]&#10;Color: (200, 0, 0)\" style=\"width: 20px; height: 20px;background-color: rgb(200, 0, 0);\"></td><td title=\"Index: [0, 38]&#10;Color: (0, 0, 200)\" style=\"width: 20px; height: 20px;background-color: rgb(0, 0, 200);\"></td><td title=\"Index: [0, 39]&#10;Color: (200, 200, 200)\" style=\"width: 20px; height: 20px;background-color: rgb(200, 200, 200);\"></td><td title=\"Index: [0, 40]&#10;Color: (200, 200, 200)\" style=\"width: 20px; height: 20px;background-color: rgb(200, 200, 200);\"></td><td title=\"Index: [0, 41]&#10;Color: (200, 200, 200)\" style=\"width: 20px; height: 20px;background-color: rgb(200, 200, 200);\"></td><td title=\"Index: [0, 42]&#10;Color: (200, 200, 200)\" style=\"width: 20px; height: 20px;background-color: rgb(200, 200, 200);\"></td><td title=\"Index: [0, 43]&#10;Color: (200, 200, 200)\" style=\"width: 20px; height: 20px;background-color: rgb(200, 200, 200);\"></td><td title=\"Index: [0, 44]&#10;Color: (200, 200, 200)\" style=\"width: 20px; height: 20px;background-color: rgb(200, 200, 200);\"></td><td title=\"Index: [0, 45]&#10;Color: (0, 0, 200)\" style=\"width: 20px; height: 20px;background-color: rgb(0, 0, 200);\"></td><td title=\"Index: [0, 46]&#10;Color: (200, 200, 200)\" style=\"width: 20px; height: 20px;background-color: rgb(200, 200, 200);\"></td><td title=\"Index: [0, 47]&#10;Color: (200, 200, 200)\" style=\"width: 20px; height: 20px;background-color: rgb(200, 200, 200);\"></td><td title=\"Index: [0, 48]&#10;Color: (200, 200, 200)\" style=\"width: 20px; height: 20px;background-color: rgb(200, 200, 200);\"></td><td title=\"Index: [0, 49]&#10;Color: (200, 0, 0)\" style=\"width: 20px; height: 20px;background-color: rgb(200, 0, 0);\"></td><td title=\"Index: [0, 50]&#10;Color: (200, 0, 0)\" style=\"width: 20px; height: 20px;background-color: rgb(200, 0, 0);\"></td><td title=\"Index: [0, 51]&#10;Color: (200, 0, 200)\" style=\"width: 20px; height: 20px;background-color: rgb(200, 0, 200);\"></td><td title=\"Index: [0, 52]&#10;Color: (200, 200, 200)\" style=\"width: 20px; height: 20px;background-color: rgb(200, 200, 200);\"></td><td title=\"Index: [0, 53]&#10;Color: (200, 0, 0)\" style=\"width: 20px; height: 20px;background-color: rgb(200, 0, 0);\"></td><td title=\"Index: [0, 54]&#10;Color: (200, 200, 200)\" style=\"width: 20px; height: 20px;background-color: rgb(200, 200, 200);\"></td><td title=\"Index: [0, 55]&#10;Color: (200, 200, 200)\" style=\"width: 20px; height: 20px;background-color: rgb(200, 200, 200);\"></td><td title=\"Index: [0, 56]&#10;Color: (200, 200, 200)\" style=\"width: 20px; height: 20px;background-color: rgb(200, 200, 200);\"></td><td title=\"Index: [0, 57]&#10;Color: (0, 0, 200)\" style=\"width: 20px; height: 20px;background-color: rgb(0, 0, 200);\"></td><td title=\"Index: [0, 58]&#10;Color: (200, 0, 200)\" style=\"width: 20px; height: 20px;background-color: rgb(200, 0, 200);\"></td><td title=\"Index: [0, 59]&#10;Color: (200, 200, 200)\" style=\"width: 20px; height: 20px;background-color: rgb(200, 200, 200);\"></td><td title=\"Index: [0, 60]&#10;Color: (200, 200, 200)\" style=\"width: 20px; height: 20px;background-color: rgb(200, 200, 200);\"></td><td title=\"Index: [0, 61]&#10;Color: (200, 200, 200)\" style=\"width: 20px; height: 20px;background-color: rgb(200, 200, 200);\"></td><td title=\"Index: [0, 62]&#10;Color: (200, 0, 0)\" style=\"width: 20px; height: 20px;background-color: rgb(200, 0, 0);\"></td><td title=\"Index: [0, 63]&#10;Color: (200, 200, 200)\" style=\"width: 20px; height: 20px;background-color: rgb(200, 200, 200);\"></td><td title=\"Index: [0, 64]&#10;Color: (0, 0, 200)\" style=\"width: 20px; height: 20px;background-color: rgb(0, 0, 200);\"></td><td title=\"Index: [0, 65]&#10;Color: (200, 0, 0)\" style=\"width: 20px; height: 20px;background-color: rgb(200, 0, 0);\"></td><td title=\"Index: [0, 66]&#10;Color: (200, 200, 200)\" style=\"width: 20px; height: 20px;background-color: rgb(200, 200, 200);\"></td><td title=\"Index: [0, 67]&#10;Color: (0, 0, 200)\" style=\"width: 20px; height: 20px;background-color: rgb(0, 0, 200);\"></td><td title=\"Index: [0, 68]&#10;Color: (200, 0, 0)\" style=\"width: 20px; height: 20px;background-color: rgb(200, 0, 0);\"></td><td title=\"Index: [0, 69]&#10;Color: (200, 200, 200)\" style=\"width: 20px; height: 20px;background-color: rgb(200, 200, 200);\"></td></tr></tbody></table>",
          "text/plain": "<ipythonblocks.ipythonblocks.BlockGrid at 0x7fa2b45f25c0>"
         },
         "metadata": {},
         "output_type": "display_data"
        }
       ]
      }
     },
     "ee05778a7dd94893992a43e8d1a0ad08": {
      "model_module": "@jupyter-widgets/controls",
      "model_module_version": "1.2.0",
      "model_name": "VBoxModel",
      "state": {
       "_dom_classes": [
        "widget-interact"
       ],
       "children": [
        "IPY_MODEL_b4b4eb1abeb34bb3931e57e4437f161c",
        "IPY_MODEL_d7c5ccc1e58a441e9b8acf4278751194",
        "IPY_MODEL_9ec5bd21383c4ade8972cbb057610c89",
        "IPY_MODEL_692aa80a2e9e4343837af4689ff9d3f1",
        "IPY_MODEL_8043f19a56d349b88259e336158e2058",
        "IPY_MODEL_d3688a912cd14c95b61890ee60eacbb3",
        "IPY_MODEL_eaa47345f78f47098800b85173ed87ad",
        "IPY_MODEL_e0d761bad1234a01a8e04f0dcb1ff646",
        "IPY_MODEL_5606cb936dbb4f88b7d41c66e18d153d",
        "IPY_MODEL_9c16a4e90a6e4ba6a4cd9f92cfe43554"
       ],
       "layout": "IPY_MODEL_668a1b02923c4785a4354dbfaaa1a44b"
      }
     },
     "ee062dc3b02b4575b25a088417618131": {
      "model_module": "@jupyter-widgets/controls",
      "model_module_version": "1.2.0",
      "model_name": "SliderStyleModel",
      "state": {
       "description_width": ""
      }
     },
     "ee0b463b5ec944f5b4e4b6d00cf57712": {
      "model_module": "@jupyter-widgets/base",
      "model_module_version": "1.0.0",
      "model_name": "LayoutModel",
      "state": {}
     },
     "ee32238bd4d449dd970f3f9323d62afd": {
      "model_module": "@jupyter-widgets/controls",
      "model_module_version": "1.2.0",
      "model_name": "SliderStyleModel",
      "state": {
       "description_width": ""
      }
     },
     "ee6d23e2f8084a988173ed2539a1cac9": {
      "model_module": "@jupyter-widgets/base",
      "model_module_version": "1.0.0",
      "model_name": "LayoutModel",
      "state": {}
     },
     "eed8e84d0f524c5db512f5b563950dbd": {
      "model_module": "@jupyter-widgets/controls",
      "model_module_version": "1.2.0",
      "model_name": "SliderStyleModel",
      "state": {
       "description_width": ""
      }
     },
     "ef9d49aa41bf4ce3937aee73e4e1c871": {
      "model_module": "@jupyter-widgets/base",
      "model_module_version": "1.0.0",
      "model_name": "LayoutModel",
      "state": {}
     },
     "f009d7f88bbb49359c3f48a39dfbee31": {
      "model_module": "@jupyter-widgets/base",
      "model_module_version": "1.0.0",
      "model_name": "LayoutModel",
      "state": {}
     },
     "f035b05cec2d4e718bcaa08668d37a18": {
      "model_module": "@jupyter-widgets/base",
      "model_module_version": "1.0.0",
      "model_name": "LayoutModel",
      "state": {}
     },
     "f07794d8a9034d0ea0f724290fc3922e": {
      "model_module": "@jupyter-widgets/controls",
      "model_module_version": "1.2.0",
      "model_name": "DescriptionStyleModel",
      "state": {
       "description_width": ""
      }
     },
     "f0abfc70e183421a93a2d8e237c60598": {
      "model_module": "@jupyter-widgets/controls",
      "model_module_version": "1.2.0",
      "model_name": "VBoxModel",
      "state": {
       "_dom_classes": [
        "widget-interact"
       ],
       "children": [
        "IPY_MODEL_ba2b6503ae034b10bd524f415a227863",
        "IPY_MODEL_f0d6bc5764894b8ba7b0b790f6a2d8ec",
        "IPY_MODEL_8d6c124c282d4cbfae0b16c7eda1621a",
        "IPY_MODEL_2d5265f1888c42dda387e96425b4ca7d",
        "IPY_MODEL_28a8d3eccfd54482a82927d9fac22f05",
        "IPY_MODEL_8a29ba27594e45c6ba22a6509deb5b43",
        "IPY_MODEL_0e3f8a8a1c974e45b996d13ece1c43a2"
       ],
       "layout": "IPY_MODEL_0125f2b7dac541c4b811dfb0e6f5b1b4"
      }
     },
     "f0ac986091a745b3a5ce223a4bad6873": {
      "model_module": "@jupyter-widgets/controls",
      "model_module_version": "1.2.0",
      "model_name": "SliderStyleModel",
      "state": {
       "description_width": ""
      }
     },
     "f0d6bc5764894b8ba7b0b790f6a2d8ec": {
      "model_module": "@jupyter-widgets/controls",
      "model_module_version": "1.2.0",
      "model_name": "IntSliderModel",
      "state": {
       "description": "tauxBoursiers",
       "layout": "IPY_MODEL_522b4512c99b4997944e70834e565a46",
       "style": "IPY_MODEL_1ecb8a8b7b864147b509aea96ab5f03e",
       "value": 20
      }
     },
     "f13bca440c2c47898cabe760368f88db": {
      "model_module": "@jupyter-widgets/controls",
      "model_module_version": "1.2.0",
      "model_name": "IntSliderModel",
      "state": {
       "description": "tauxMinBoursiersPourcents",
       "layout": "IPY_MODEL_ca3fad8b891e4497b75837a56c25f247",
       "style": "IPY_MODEL_43490f8e0c7943c5a46c6b62a774a1a5",
       "value": 10
      }
     },
     "f154ddd180124fc19fc84b6e3092f8e8": {
      "model_module": "@jupyter-widgets/base",
      "model_module_version": "1.0.0",
      "model_name": "LayoutModel",
      "state": {}
     },
     "f198a47dbae945478d43c284f5713aa0": {
      "model_module": "@jupyter-widgets/base",
      "model_module_version": "1.0.0",
      "model_name": "LayoutModel",
      "state": {}
     },
     "f199492818f44be28d8ce5fe0c284c50": {
      "model_module": "@jupyter-widgets/controls",
      "model_module_version": "1.2.0",
      "model_name": "SliderStyleModel",
      "state": {
       "description_width": ""
      }
     },
     "f1b14bb63ab34bf0931250f5e2ab67f4": {
      "model_module": "@jupyter-widgets/controls",
      "model_module_version": "1.2.0",
      "model_name": "IntSliderModel",
      "state": {
       "description": "tauxMinBoursiersPourcents",
       "layout": "IPY_MODEL_00f20ffbecd545989d387be97467780b",
       "step": 5,
       "style": "IPY_MODEL_11aab79e6f0f4d1b9e871eb25f91bd78",
       "value": 20
      }
     },
     "f215856ed104481181ed86361f875e9f": {
      "model_module": "@jupyter-widgets/base",
      "model_module_version": "1.0.0",
      "model_name": "LayoutModel",
      "state": {}
     },
     "f2e79841b49e49e4b6476ca5149c3c03": {
      "model_module": "@jupyter-widgets/base",
      "model_module_version": "1.0.0",
      "model_name": "LayoutModel",
      "state": {}
     },
     "f316a84457eb40c4b6f847e9cbd27d4c": {
      "model_module": "@jupyter-widgets/controls",
      "model_module_version": "1.2.0",
      "model_name": "IntSliderModel",
      "state": {
       "description": "tauxMinBoursiersPourcents",
       "layout": "IPY_MODEL_6dc448b5a60c44d8a2590937103e57a9",
       "style": "IPY_MODEL_bb0989a2d97a4e6392580b6843bfcd17",
       "value": 2
      }
     },
     "f32a849c60e14d9c997959e253ec5e4b": {
      "model_module": "@jupyter-widgets/controls",
      "model_module_version": "1.2.0",
      "model_name": "VBoxModel",
      "state": {
       "_dom_classes": [
        "widget-interact"
       ],
       "children": [
        "IPY_MODEL_33662e04ea5d4fbb8ca303a659e932a3",
        "IPY_MODEL_3d89f05d930f4ae68a7b52861a356a37",
        "IPY_MODEL_abfa383ffa694f27bced5d209335b27c",
        "IPY_MODEL_c0d0a1b8a0c14c4d95261dd2adc7a14d",
        "IPY_MODEL_2ec6152e7eab4377989a24387a768fc2",
        "IPY_MODEL_d1cb0b038a414da5aa583cf0fb03f471",
        "IPY_MODEL_219cf5ba54684ac3b3c03884ea3f210c"
       ],
       "layout": "IPY_MODEL_b369aa01fc4f4e93b05023ce8d796c96"
      }
     },
     "f36b08d617164c6ca595b4dd9918536d": {
      "model_module": "@jupyter-widgets/controls",
      "model_module_version": "1.2.0",
      "model_name": "IntSliderModel",
      "state": {
       "description": "tauxMinBoursiersPourcents",
       "layout": "IPY_MODEL_c701ae6bf3834428b6ba9e67ce1c6857",
       "style": "IPY_MODEL_0e4902d0d31a46498ac7f22a17a8bbcb",
       "value": 10
      }
     },
     "f45aada3e81942ed9a97be84936cad8b": {
      "model_module": "@jupyter-widgets/base",
      "model_module_version": "1.0.0",
      "model_name": "LayoutModel",
      "state": {}
     },
     "f536d9e097b74433a0bcf84c51467475": {
      "model_module": "@jupyter-widgets/controls",
      "model_module_version": "1.2.0",
      "model_name": "SliderStyleModel",
      "state": {
       "description_width": ""
      }
     },
     "f5995712891b4dacadfb586ecf67ebf2": {
      "model_module": "@jupyter-widgets/controls",
      "model_module_version": "1.2.0",
      "model_name": "SliderStyleModel",
      "state": {
       "description_width": ""
      }
     },
     "f5c915f95a45434e986a59379726cce8": {
      "model_module": "@jupyter-widgets/base",
      "model_module_version": "1.0.0",
      "model_name": "LayoutModel",
      "state": {}
     },
     "f60b6816f1794c3ba978d6303123e868": {
      "model_module": "@jupyter-widgets/controls",
      "model_module_version": "1.2.0",
      "model_name": "VBoxModel",
      "state": {
       "_dom_classes": [
        "widget-interact"
       ],
       "children": [
        "IPY_MODEL_d3c63f3b7d9f44ce99da56799511120e",
        "IPY_MODEL_a0e18714911a46f283a4bd94cfc028c1",
        "IPY_MODEL_b0f66276e6df4de9886b55dbbb4cc676",
        "IPY_MODEL_e1cf70eb2c774423921cd505de260af4",
        "IPY_MODEL_15b237cf7ce947aa96b3f0d0127fc078",
        "IPY_MODEL_6bb954a5be554757a3050656266fa7a0",
        "IPY_MODEL_3b34b2219a14400184ac7a03a9982d8f",
        "IPY_MODEL_a754160478cd4e53a986eddfc68eebec",
        "IPY_MODEL_96ea8d82e8114e3883318ae525900cf8",
        "IPY_MODEL_fc1b83cde2a24da58889abe89c6ce05b"
       ],
       "layout": "IPY_MODEL_59098c74171f4b74bc9bc033bced20db"
      }
     },
     "f6383d3571e247428686c9052869b841": {
      "model_module": "@jupyter-widgets/base",
      "model_module_version": "1.0.0",
      "model_name": "LayoutModel",
      "state": {}
     },
     "f68b040e611245bbab0ec9d585ef38fc": {
      "model_module": "@jupyter-widgets/base",
      "model_module_version": "1.0.0",
      "model_name": "LayoutModel",
      "state": {}
     },
     "f776e3e577174d96a1e743f433995932": {
      "model_module": "@jupyter-widgets/base",
      "model_module_version": "1.0.0",
      "model_name": "LayoutModel",
      "state": {}
     },
     "f8af21c412ce4658bbb61de7df053fc9": {
      "model_module": "@jupyter-widgets/base",
      "model_module_version": "1.0.0",
      "model_name": "LayoutModel",
      "state": {}
     },
     "f8b23b5ddf1447619f005022bd2fe050": {
      "model_module": "@jupyter-widgets/controls",
      "model_module_version": "1.2.0",
      "model_name": "SliderStyleModel",
      "state": {
       "description_width": ""
      }
     },
     "f8b3f47aa49e43bd96d7bd8d77d067ec": {
      "model_module": "@jupyter-widgets/controls",
      "model_module_version": "1.2.0",
      "model_name": "VBoxModel",
      "state": {
       "_dom_classes": [
        "widget-interact"
       ],
       "children": [
        "IPY_MODEL_e939aa2ac7e248d7a19b7a1398beb901",
        "IPY_MODEL_691a0dddd1e1487980f414f17ea3c9bd",
        "IPY_MODEL_6795f86842d24aa8aa6e788134bcb4db"
       ],
       "layout": "IPY_MODEL_cedb7fe2916a40cb8288f25cbbac90ea"
      }
     },
     "f8c13377220d4115b9d30c3452f8b6ee": {
      "model_module": "@jupyter-widgets/controls",
      "model_module_version": "1.2.0",
      "model_name": "IntSliderModel",
      "state": {
       "description": "tauxResidents",
       "layout": "IPY_MODEL_233f914055b14336aa02152f59545aac",
       "style": "IPY_MODEL_b3e5d940d3bc4da98e7c687d9f2f41d6",
       "value": 20
      }
     },
     "f8dcc9740d0e463688181aacc45f3e13": {
      "model_module": "@jupyter-widgets/controls",
      "model_module_version": "1.2.0",
      "model_name": "SliderStyleModel",
      "state": {
       "description_width": ""
      }
     },
     "f8eaaca202484e5c995626a186b5a21a": {
      "model_module": "@jupyter-widgets/controls",
      "model_module_version": "1.2.0",
      "model_name": "IntSliderModel",
      "state": {
       "description": "tauxMinBoursiersPourcents",
       "layout": "IPY_MODEL_2ade1b30137a4eadb745aec71d64b1af",
       "style": "IPY_MODEL_6f1e46b9d26348bd91443d1e4af369b7",
       "value": 10
      }
     },
     "f90e383e6b814aada78059b8bf08fce4": {
      "model_module": "@jupyter-widgets/base",
      "model_module_version": "1.0.0",
      "model_name": "LayoutModel",
      "state": {}
     },
     "f942295480504bb49baf035d2c5df55c": {
      "model_module": "@jupyter-widgets/base",
      "model_module_version": "1.0.0",
      "model_name": "LayoutModel",
      "state": {}
     },
     "f97a8722b21b428199384c03a066e1ef": {
      "model_module": "@jupyter-widgets/controls",
      "model_module_version": "1.2.0",
      "model_name": "IntSliderModel",
      "state": {
       "description": "tauxResidents",
       "layout": "IPY_MODEL_4960181d925d4071888484b5fb519652",
       "style": "IPY_MODEL_3c91148c960d49a19375b98f3aeefe7f",
       "value": 20
      }
     },
     "f9b8627a84a34cf2a0f10b269d814216": {
      "model_module": "@jupyter-widgets/output",
      "model_module_version": "1.0.0",
      "model_name": "OutputModel",
      "state": {
       "layout": "IPY_MODEL_5ad679f33d4f4058b6947f6793ae1d11"
      }
     },
     "f9da69760a794306872ef5724fb39eab": {
      "model_module": "@jupyter-widgets/output",
      "model_module_version": "1.0.0",
      "model_name": "OutputModel",
      "state": {
       "layout": "IPY_MODEL_e082f88535dc4e2091b6b248223d4856"
      }
     },
     "f9e31dbd788f4a6ab064d6d59a51c12b": {
      "model_module": "@jupyter-widgets/controls",
      "model_module_version": "1.2.0",
      "model_name": "IntSliderModel",
      "state": {
       "description": "taille",
       "layout": "IPY_MODEL_5354caf198124422aaa22fea5a86df41",
       "max": 200,
       "min": 1,
       "style": "IPY_MODEL_28b3f2fa36214f5eac8dc5893a361dc8",
       "value": 10
      }
     },
     "fa3f1546fad549208e1c3abe9ff242e9": {
      "model_module": "@jupyter-widgets/output",
      "model_module_version": "1.0.0",
      "model_name": "OutputModel",
      "state": {
       "layout": "IPY_MODEL_797a17dc930b4e44ad9253dda894bb62",
       "outputs": [
        {
         "data": {
          "text/html": "<style type=\"text/css\">table.blockgrid {border: none;} .blockgrid tr {border: none;} .blockgrid td {padding: 0px;} #blocks53b9b0c2-b27f-4000-a53d-7b0ba198213b td {border: 1px solid white;}</style><table id=\"blocks53b9b0c2-b27f-4000-a53d-7b0ba198213b\" class=\"blockgrid\"><tbody><tr><td title=\"Index: [0, 0]&#10;Color: (200, 0, 0)\" style=\"width: 20px; height: 20px;background-color: rgb(200, 0, 0);\"></td><td title=\"Index: [0, 1]&#10;Color: (200, 200, 200)\" style=\"width: 20px; height: 20px;background-color: rgb(200, 200, 200);\"></td><td title=\"Index: [0, 2]&#10;Color: (200, 200, 200)\" style=\"width: 20px; height: 20px;background-color: rgb(200, 200, 200);\"></td><td title=\"Index: [0, 3]&#10;Color: (200, 0, 0)\" style=\"width: 20px; height: 20px;background-color: rgb(200, 0, 0);\"></td><td title=\"Index: [0, 4]&#10;Color: (0, 0, 200)\" style=\"width: 20px; height: 20px;background-color: rgb(0, 0, 200);\"></td><td title=\"Index: [0, 5]&#10;Color: (0, 0, 200)\" style=\"width: 20px; height: 20px;background-color: rgb(0, 0, 200);\"></td><td title=\"Index: [0, 6]&#10;Color: (200, 0, 0)\" style=\"width: 20px; height: 20px;background-color: rgb(200, 0, 0);\"></td><td title=\"Index: [0, 7]&#10;Color: (200, 200, 200)\" style=\"width: 20px; height: 20px;background-color: rgb(200, 200, 200);\"></td><td title=\"Index: [0, 8]&#10;Color: (200, 200, 200)\" style=\"width: 20px; height: 20px;background-color: rgb(200, 200, 200);\"></td><td title=\"Index: [0, 9]&#10;Color: (0, 0, 200)\" style=\"width: 20px; height: 20px;background-color: rgb(0, 0, 200);\"></td><td title=\"Index: [0, 10]&#10;Color: (0, 0, 200)\" style=\"width: 20px; height: 20px;background-color: rgb(0, 0, 200);\"></td><td title=\"Index: [0, 11]&#10;Color: (200, 200, 200)\" style=\"width: 20px; height: 20px;background-color: rgb(200, 200, 200);\"></td><td title=\"Index: [0, 12]&#10;Color: (200, 200, 200)\" style=\"width: 20px; height: 20px;background-color: rgb(200, 200, 200);\"></td><td title=\"Index: [0, 13]&#10;Color: (200, 0, 0)\" style=\"width: 20px; height: 20px;background-color: rgb(200, 0, 0);\"></td><td title=\"Index: [0, 14]&#10;Color: (200, 200, 200)\" style=\"width: 20px; height: 20px;background-color: rgb(200, 200, 200);\"></td><td title=\"Index: [0, 15]&#10;Color: (200, 200, 200)\" style=\"width: 20px; height: 20px;background-color: rgb(200, 200, 200);\"></td><td title=\"Index: [0, 16]&#10;Color: (200, 200, 200)\" style=\"width: 20px; height: 20px;background-color: rgb(200, 200, 200);\"></td><td title=\"Index: [0, 17]&#10;Color: (200, 200, 200)\" style=\"width: 20px; height: 20px;background-color: rgb(200, 200, 200);\"></td><td title=\"Index: [0, 18]&#10;Color: (200, 200, 200)\" style=\"width: 20px; height: 20px;background-color: rgb(200, 200, 200);\"></td><td title=\"Index: [0, 19]&#10;Color: (200, 0, 0)\" style=\"width: 20px; height: 20px;background-color: rgb(200, 0, 0);\"></td><td title=\"Index: [0, 20]&#10;Color: (0, 0, 200)\" style=\"width: 20px; height: 20px;background-color: rgb(0, 0, 200);\"></td><td title=\"Index: [0, 21]&#10;Color: (200, 200, 200)\" style=\"width: 20px; height: 20px;background-color: rgb(200, 200, 200);\"></td><td title=\"Index: [0, 22]&#10;Color: (200, 200, 200)\" style=\"width: 20px; height: 20px;background-color: rgb(200, 200, 200);\"></td><td title=\"Index: [0, 23]&#10;Color: (200, 200, 200)\" style=\"width: 20px; height: 20px;background-color: rgb(200, 200, 200);\"></td><td title=\"Index: [0, 24]&#10;Color: (200, 0, 0)\" style=\"width: 20px; height: 20px;background-color: rgb(200, 0, 0);\"></td><td title=\"Index: [0, 25]&#10;Color: (200, 200, 200)\" style=\"width: 20px; height: 20px;background-color: rgb(200, 200, 200);\"></td><td title=\"Index: [0, 26]&#10;Color: (200, 0, 0)\" style=\"width: 20px; height: 20px;background-color: rgb(200, 0, 0);\"></td><td title=\"Index: [0, 27]&#10;Color: (200, 0, 0)\" style=\"width: 20px; height: 20px;background-color: rgb(200, 0, 0);\"></td><td title=\"Index: [0, 28]&#10;Color: (200, 200, 200)\" style=\"width: 20px; height: 20px;background-color: rgb(200, 200, 200);\"></td><td title=\"Index: [0, 29]&#10;Color: (200, 0, 200)\" style=\"width: 20px; height: 20px;background-color: rgb(200, 0, 200);\"></td><td title=\"Index: [0, 30]&#10;Color: (0, 0, 200)\" style=\"width: 20px; height: 20px;background-color: rgb(0, 0, 200);\"></td><td title=\"Index: [0, 31]&#10;Color: (200, 0, 0)\" style=\"width: 20px; height: 20px;background-color: rgb(200, 0, 0);\"></td><td title=\"Index: [0, 32]&#10;Color: (0, 0, 200)\" style=\"width: 20px; height: 20px;background-color: rgb(0, 0, 200);\"></td><td title=\"Index: [0, 33]&#10;Color: (200, 200, 200)\" style=\"width: 20px; height: 20px;background-color: rgb(200, 200, 200);\"></td><td title=\"Index: [0, 34]&#10;Color: (200, 200, 200)\" style=\"width: 20px; height: 20px;background-color: rgb(200, 200, 200);\"></td><td title=\"Index: [0, 35]&#10;Color: (200, 200, 200)\" style=\"width: 20px; height: 20px;background-color: rgb(200, 200, 200);\"></td><td title=\"Index: [0, 36]&#10;Color: (200, 200, 200)\" style=\"width: 20px; height: 20px;background-color: rgb(200, 200, 200);\"></td><td title=\"Index: [0, 37]&#10;Color: (0, 0, 200)\" style=\"width: 20px; height: 20px;background-color: rgb(0, 0, 200);\"></td><td title=\"Index: [0, 38]&#10;Color: (200, 200, 200)\" style=\"width: 20px; height: 20px;background-color: rgb(200, 200, 200);\"></td><td title=\"Index: [0, 39]&#10;Color: (0, 0, 200)\" style=\"width: 20px; height: 20px;background-color: rgb(0, 0, 200);\"></td><td title=\"Index: [0, 40]&#10;Color: (200, 200, 200)\" style=\"width: 20px; height: 20px;background-color: rgb(200, 200, 200);\"></td><td title=\"Index: [0, 41]&#10;Color: (200, 0, 0)\" style=\"width: 20px; height: 20px;background-color: rgb(200, 0, 0);\"></td><td title=\"Index: [0, 42]&#10;Color: (200, 200, 200)\" style=\"width: 20px; height: 20px;background-color: rgb(200, 200, 200);\"></td><td title=\"Index: [0, 43]&#10;Color: (200, 200, 200)\" style=\"width: 20px; height: 20px;background-color: rgb(200, 200, 200);\"></td><td title=\"Index: [0, 44]&#10;Color: (0, 0, 200)\" style=\"width: 20px; height: 20px;background-color: rgb(0, 0, 200);\"></td><td title=\"Index: [0, 45]&#10;Color: (200, 200, 200)\" style=\"width: 20px; height: 20px;background-color: rgb(200, 200, 200);\"></td><td title=\"Index: [0, 46]&#10;Color: (0, 0, 200)\" style=\"width: 20px; height: 20px;background-color: rgb(0, 0, 200);\"></td><td title=\"Index: [0, 47]&#10;Color: (200, 200, 200)\" style=\"width: 20px; height: 20px;background-color: rgb(200, 200, 200);\"></td><td title=\"Index: [0, 48]&#10;Color: (200, 0, 0)\" style=\"width: 20px; height: 20px;background-color: rgb(200, 0, 0);\"></td><td title=\"Index: [0, 49]&#10;Color: (0, 0, 200)\" style=\"width: 20px; height: 20px;background-color: rgb(0, 0, 200);\"></td><td title=\"Index: [0, 50]&#10;Color: (200, 200, 200)\" style=\"width: 20px; height: 20px;background-color: rgb(200, 200, 200);\"></td><td title=\"Index: [0, 51]&#10;Color: (200, 0, 0)\" style=\"width: 20px; height: 20px;background-color: rgb(200, 0, 0);\"></td><td title=\"Index: [0, 52]&#10;Color: (200, 200, 200)\" style=\"width: 20px; height: 20px;background-color: rgb(200, 200, 200);\"></td><td title=\"Index: [0, 53]&#10;Color: (200, 200, 200)\" style=\"width: 20px; height: 20px;background-color: rgb(200, 200, 200);\"></td><td title=\"Index: [0, 54]&#10;Color: (200, 200, 200)\" style=\"width: 20px; height: 20px;background-color: rgb(200, 200, 200);\"></td><td title=\"Index: [0, 55]&#10;Color: (200, 200, 200)\" style=\"width: 20px; height: 20px;background-color: rgb(200, 200, 200);\"></td><td title=\"Index: [0, 56]&#10;Color: (200, 200, 200)\" style=\"width: 20px; height: 20px;background-color: rgb(200, 200, 200);\"></td><td title=\"Index: [0, 57]&#10;Color: (200, 200, 200)\" style=\"width: 20px; height: 20px;background-color: rgb(200, 200, 200);\"></td><td title=\"Index: [0, 58]&#10;Color: (200, 0, 200)\" style=\"width: 20px; height: 20px;background-color: rgb(200, 0, 200);\"></td><td title=\"Index: [0, 59]&#10;Color: (200, 0, 200)\" style=\"width: 20px; height: 20px;background-color: rgb(200, 0, 200);\"></td><td title=\"Index: [0, 60]&#10;Color: (200, 200, 200)\" style=\"width: 20px; height: 20px;background-color: rgb(200, 200, 200);\"></td><td title=\"Index: [0, 61]&#10;Color: (0, 0, 200)\" style=\"width: 20px; height: 20px;background-color: rgb(0, 0, 200);\"></td><td title=\"Index: [0, 62]&#10;Color: (200, 0, 0)\" style=\"width: 20px; height: 20px;background-color: rgb(200, 0, 0);\"></td><td title=\"Index: [0, 63]&#10;Color: (200, 200, 200)\" style=\"width: 20px; height: 20px;background-color: rgb(200, 200, 200);\"></td><td title=\"Index: [0, 64]&#10;Color: (200, 0, 0)\" style=\"width: 20px; height: 20px;background-color: rgb(200, 0, 0);\"></td><td title=\"Index: [0, 65]&#10;Color: (200, 200, 200)\" style=\"width: 20px; height: 20px;background-color: rgb(200, 200, 200);\"></td><td title=\"Index: [0, 66]&#10;Color: (200, 200, 200)\" style=\"width: 20px; height: 20px;background-color: rgb(200, 200, 200);\"></td><td title=\"Index: [0, 67]&#10;Color: (200, 200, 200)\" style=\"width: 20px; height: 20px;background-color: rgb(200, 200, 200);\"></td><td title=\"Index: [0, 68]&#10;Color: (200, 200, 200)\" style=\"width: 20px; height: 20px;background-color: rgb(200, 200, 200);\"></td><td title=\"Index: [0, 69]&#10;Color: (0, 0, 200)\" style=\"width: 20px; height: 20px;background-color: rgb(0, 0, 200);\"></td><td title=\"Index: [0, 70]&#10;Color: (200, 200, 200)\" style=\"width: 20px; height: 20px;background-color: rgb(200, 200, 200);\"></td><td title=\"Index: [0, 71]&#10;Color: (200, 200, 200)\" style=\"width: 20px; height: 20px;background-color: rgb(200, 200, 200);\"></td><td title=\"Index: [0, 72]&#10;Color: (0, 0, 200)\" style=\"width: 20px; height: 20px;background-color: rgb(0, 0, 200);\"></td><td title=\"Index: [0, 73]&#10;Color: (0, 0, 200)\" style=\"width: 20px; height: 20px;background-color: rgb(0, 0, 200);\"></td><td title=\"Index: [0, 74]&#10;Color: (200, 200, 200)\" style=\"width: 20px; height: 20px;background-color: rgb(200, 200, 200);\"></td><td title=\"Index: [0, 75]&#10;Color: (200, 0, 0)\" style=\"width: 20px; height: 20px;background-color: rgb(200, 0, 0);\"></td><td title=\"Index: [0, 76]&#10;Color: (200, 200, 200)\" style=\"width: 20px; height: 20px;background-color: rgb(200, 200, 200);\"></td><td title=\"Index: [0, 77]&#10;Color: (200, 0, 0)\" style=\"width: 20px; height: 20px;background-color: rgb(200, 0, 0);\"></td><td title=\"Index: [0, 78]&#10;Color: (200, 0, 0)\" style=\"width: 20px; height: 20px;background-color: rgb(200, 0, 0);\"></td><td title=\"Index: [0, 79]&#10;Color: (200, 0, 0)\" style=\"width: 20px; height: 20px;background-color: rgb(200, 0, 0);\"></td><td title=\"Index: [0, 80]&#10;Color: (0, 0, 200)\" style=\"width: 20px; height: 20px;background-color: rgb(0, 0, 200);\"></td><td title=\"Index: [0, 81]&#10;Color: (0, 0, 200)\" style=\"width: 20px; height: 20px;background-color: rgb(0, 0, 200);\"></td><td title=\"Index: [0, 82]&#10;Color: (200, 200, 200)\" style=\"width: 20px; height: 20px;background-color: rgb(200, 200, 200);\"></td><td title=\"Index: [0, 83]&#10;Color: (0, 0, 200)\" style=\"width: 20px; height: 20px;background-color: rgb(0, 0, 200);\"></td><td title=\"Index: [0, 84]&#10;Color: (200, 200, 200)\" style=\"width: 20px; height: 20px;background-color: rgb(200, 200, 200);\"></td><td title=\"Index: [0, 85]&#10;Color: (200, 0, 200)\" style=\"width: 20px; height: 20px;background-color: rgb(200, 0, 200);\"></td><td title=\"Index: [0, 86]&#10;Color: (0, 0, 200)\" style=\"width: 20px; height: 20px;background-color: rgb(0, 0, 200);\"></td><td title=\"Index: [0, 87]&#10;Color: (200, 0, 0)\" style=\"width: 20px; height: 20px;background-color: rgb(200, 0, 0);\"></td><td title=\"Index: [0, 88]&#10;Color: (200, 0, 200)\" style=\"width: 20px; height: 20px;background-color: rgb(200, 0, 200);\"></td><td title=\"Index: [0, 89]&#10;Color: (200, 200, 200)\" style=\"width: 20px; height: 20px;background-color: rgb(200, 200, 200);\"></td><td title=\"Index: [0, 90]&#10;Color: (200, 200, 200)\" style=\"width: 20px; height: 20px;background-color: rgb(200, 200, 200);\"></td><td title=\"Index: [0, 91]&#10;Color: (200, 200, 200)\" style=\"width: 20px; height: 20px;background-color: rgb(200, 200, 200);\"></td><td title=\"Index: [0, 92]&#10;Color: (200, 200, 200)\" style=\"width: 20px; height: 20px;background-color: rgb(200, 200, 200);\"></td><td title=\"Index: [0, 93]&#10;Color: (200, 200, 200)\" style=\"width: 20px; height: 20px;background-color: rgb(200, 200, 200);\"></td><td title=\"Index: [0, 94]&#10;Color: (200, 200, 200)\" style=\"width: 20px; height: 20px;background-color: rgb(200, 200, 200);\"></td><td title=\"Index: [0, 95]&#10;Color: (200, 0, 0)\" style=\"width: 20px; height: 20px;background-color: rgb(200, 0, 0);\"></td><td title=\"Index: [0, 96]&#10;Color: (200, 200, 200)\" style=\"width: 20px; height: 20px;background-color: rgb(200, 200, 200);\"></td><td title=\"Index: [0, 97]&#10;Color: (200, 0, 0)\" style=\"width: 20px; height: 20px;background-color: rgb(200, 0, 0);\"></td><td title=\"Index: [0, 98]&#10;Color: (200, 0, 0)\" style=\"width: 20px; height: 20px;background-color: rgb(200, 0, 0);\"></td><td title=\"Index: [0, 99]&#10;Color: (0, 0, 200)\" style=\"width: 20px; height: 20px;background-color: rgb(0, 0, 200);\"></td><td title=\"Index: [0, 100]&#10;Color: (200, 200, 200)\" style=\"width: 20px; height: 20px;background-color: rgb(200, 200, 200);\"></td><td title=\"Index: [0, 101]&#10;Color: (200, 200, 200)\" style=\"width: 20px; height: 20px;background-color: rgb(200, 200, 200);\"></td><td title=\"Index: [0, 102]&#10;Color: (200, 200, 200)\" style=\"width: 20px; height: 20px;background-color: rgb(200, 200, 200);\"></td><td title=\"Index: [0, 103]&#10;Color: (200, 200, 200)\" style=\"width: 20px; height: 20px;background-color: rgb(200, 200, 200);\"></td><td title=\"Index: [0, 104]&#10;Color: (200, 200, 200)\" style=\"width: 20px; height: 20px;background-color: rgb(200, 200, 200);\"></td><td title=\"Index: [0, 105]&#10;Color: (0, 0, 200)\" style=\"width: 20px; height: 20px;background-color: rgb(0, 0, 200);\"></td><td title=\"Index: [0, 106]&#10;Color: (200, 0, 0)\" style=\"width: 20px; height: 20px;background-color: rgb(200, 0, 0);\"></td><td title=\"Index: [0, 107]&#10;Color: (200, 200, 200)\" style=\"width: 20px; height: 20px;background-color: rgb(200, 200, 200);\"></td><td title=\"Index: [0, 108]&#10;Color: (200, 0, 200)\" style=\"width: 20px; height: 20px;background-color: rgb(200, 0, 200);\"></td><td title=\"Index: [0, 109]&#10;Color: (200, 200, 200)\" style=\"width: 20px; height: 20px;background-color: rgb(200, 200, 200);\"></td><td title=\"Index: [0, 110]&#10;Color: (200, 0, 0)\" style=\"width: 20px; height: 20px;background-color: rgb(200, 0, 0);\"></td><td title=\"Index: [0, 111]&#10;Color: (200, 200, 200)\" style=\"width: 20px; height: 20px;background-color: rgb(200, 200, 200);\"></td><td title=\"Index: [0, 112]&#10;Color: (200, 0, 0)\" style=\"width: 20px; height: 20px;background-color: rgb(200, 0, 0);\"></td><td title=\"Index: [0, 113]&#10;Color: (200, 200, 200)\" style=\"width: 20px; height: 20px;background-color: rgb(200, 200, 200);\"></td><td title=\"Index: [0, 114]&#10;Color: (200, 200, 200)\" style=\"width: 20px; height: 20px;background-color: rgb(200, 200, 200);\"></td><td title=\"Index: [0, 115]&#10;Color: (200, 200, 200)\" style=\"width: 20px; height: 20px;background-color: rgb(200, 200, 200);\"></td><td title=\"Index: [0, 116]&#10;Color: (200, 0, 200)\" style=\"width: 20px; height: 20px;background-color: rgb(200, 0, 200);\"></td><td title=\"Index: [0, 117]&#10;Color: (200, 200, 200)\" style=\"width: 20px; height: 20px;background-color: rgb(200, 200, 200);\"></td><td title=\"Index: [0, 118]&#10;Color: (0, 0, 200)\" style=\"width: 20px; height: 20px;background-color: rgb(0, 0, 200);\"></td><td title=\"Index: [0, 119]&#10;Color: (200, 200, 200)\" style=\"width: 20px; height: 20px;background-color: rgb(200, 200, 200);\"></td><td title=\"Index: [0, 120]&#10;Color: (200, 200, 200)\" style=\"width: 20px; height: 20px;background-color: rgb(200, 200, 200);\"></td><td title=\"Index: [0, 121]&#10;Color: (200, 0, 0)\" style=\"width: 20px; height: 20px;background-color: rgb(200, 0, 0);\"></td><td title=\"Index: [0, 122]&#10;Color: (200, 200, 200)\" style=\"width: 20px; height: 20px;background-color: rgb(200, 200, 200);\"></td><td title=\"Index: [0, 123]&#10;Color: (0, 0, 200)\" style=\"width: 20px; height: 20px;background-color: rgb(0, 0, 200);\"></td><td title=\"Index: [0, 124]&#10;Color: (200, 200, 200)\" style=\"width: 20px; height: 20px;background-color: rgb(200, 200, 200);\"></td><td title=\"Index: [0, 125]&#10;Color: (0, 0, 200)\" style=\"width: 20px; height: 20px;background-color: rgb(0, 0, 200);\"></td><td title=\"Index: [0, 126]&#10;Color: (200, 200, 200)\" style=\"width: 20px; height: 20px;background-color: rgb(200, 200, 200);\"></td><td title=\"Index: [0, 127]&#10;Color: (200, 0, 0)\" style=\"width: 20px; height: 20px;background-color: rgb(200, 0, 0);\"></td><td title=\"Index: [0, 128]&#10;Color: (200, 200, 200)\" style=\"width: 20px; height: 20px;background-color: rgb(200, 200, 200);\"></td><td title=\"Index: [0, 129]&#10;Color: (200, 200, 200)\" style=\"width: 20px; height: 20px;background-color: rgb(200, 200, 200);\"></td><td title=\"Index: [0, 130]&#10;Color: (200, 200, 200)\" style=\"width: 20px; height: 20px;background-color: rgb(200, 200, 200);\"></td><td title=\"Index: [0, 131]&#10;Color: (200, 0, 0)\" style=\"width: 20px; height: 20px;background-color: rgb(200, 0, 0);\"></td><td title=\"Index: [0, 132]&#10;Color: (200, 200, 200)\" style=\"width: 20px; height: 20px;background-color: rgb(200, 200, 200);\"></td><td title=\"Index: [0, 133]&#10;Color: (200, 200, 200)\" style=\"width: 20px; height: 20px;background-color: rgb(200, 200, 200);\"></td><td title=\"Index: [0, 134]&#10;Color: (200, 0, 0)\" style=\"width: 20px; height: 20px;background-color: rgb(200, 0, 0);\"></td><td title=\"Index: [0, 135]&#10;Color: (200, 0, 0)\" style=\"width: 20px; height: 20px;background-color: rgb(200, 0, 0);\"></td><td title=\"Index: [0, 136]&#10;Color: (200, 200, 200)\" style=\"width: 20px; height: 20px;background-color: rgb(200, 200, 200);\"></td><td title=\"Index: [0, 137]&#10;Color: (200, 200, 200)\" style=\"width: 20px; height: 20px;background-color: rgb(200, 200, 200);\"></td><td title=\"Index: [0, 138]&#10;Color: (200, 200, 200)\" style=\"width: 20px; height: 20px;background-color: rgb(200, 200, 200);\"></td><td title=\"Index: [0, 139]&#10;Color: (200, 0, 200)\" style=\"width: 20px; height: 20px;background-color: rgb(200, 0, 200);\"></td><td title=\"Index: [0, 140]&#10;Color: (200, 200, 200)\" style=\"width: 20px; height: 20px;background-color: rgb(200, 200, 200);\"></td><td title=\"Index: [0, 141]&#10;Color: (200, 0, 0)\" style=\"width: 20px; height: 20px;background-color: rgb(200, 0, 0);\"></td><td title=\"Index: [0, 142]&#10;Color: (200, 200, 200)\" style=\"width: 20px; height: 20px;background-color: rgb(200, 200, 200);\"></td><td title=\"Index: [0, 143]&#10;Color: (200, 200, 200)\" style=\"width: 20px; height: 20px;background-color: rgb(200, 200, 200);\"></td><td title=\"Index: [0, 144]&#10;Color: (200, 200, 200)\" style=\"width: 20px; height: 20px;background-color: rgb(200, 200, 200);\"></td><td title=\"Index: [0, 145]&#10;Color: (200, 200, 200)\" style=\"width: 20px; height: 20px;background-color: rgb(200, 200, 200);\"></td><td title=\"Index: [0, 146]&#10;Color: (0, 0, 200)\" style=\"width: 20px; height: 20px;background-color: rgb(0, 0, 200);\"></td><td title=\"Index: [0, 147]&#10;Color: (0, 0, 200)\" style=\"width: 20px; height: 20px;background-color: rgb(0, 0, 200);\"></td><td title=\"Index: [0, 148]&#10;Color: (200, 0, 0)\" style=\"width: 20px; height: 20px;background-color: rgb(200, 0, 0);\"></td><td title=\"Index: [0, 149]&#10;Color: (200, 200, 200)\" style=\"width: 20px; height: 20px;background-color: rgb(200, 200, 200);\"></td><td title=\"Index: [0, 150]&#10;Color: (200, 0, 0)\" style=\"width: 20px; height: 20px;background-color: rgb(200, 0, 0);\"></td><td title=\"Index: [0, 151]&#10;Color: (0, 0, 200)\" style=\"width: 20px; height: 20px;background-color: rgb(0, 0, 200);\"></td><td title=\"Index: [0, 152]&#10;Color: (200, 200, 200)\" style=\"width: 20px; height: 20px;background-color: rgb(200, 200, 200);\"></td><td title=\"Index: [0, 153]&#10;Color: (200, 200, 200)\" style=\"width: 20px; height: 20px;background-color: rgb(200, 200, 200);\"></td><td title=\"Index: [0, 154]&#10;Color: (200, 200, 200)\" style=\"width: 20px; height: 20px;background-color: rgb(200, 200, 200);\"></td><td title=\"Index: [0, 155]&#10;Color: (0, 0, 200)\" style=\"width: 20px; height: 20px;background-color: rgb(0, 0, 200);\"></td><td title=\"Index: [0, 156]&#10;Color: (200, 0, 200)\" style=\"width: 20px; height: 20px;background-color: rgb(200, 0, 200);\"></td><td title=\"Index: [0, 157]&#10;Color: (200, 200, 200)\" style=\"width: 20px; height: 20px;background-color: rgb(200, 200, 200);\"></td><td title=\"Index: [0, 158]&#10;Color: (200, 200, 200)\" style=\"width: 20px; height: 20px;background-color: rgb(200, 200, 200);\"></td><td title=\"Index: [0, 159]&#10;Color: (200, 0, 0)\" style=\"width: 20px; height: 20px;background-color: rgb(200, 0, 0);\"></td><td title=\"Index: [0, 160]&#10;Color: (200, 0, 200)\" style=\"width: 20px; height: 20px;background-color: rgb(200, 0, 200);\"></td><td title=\"Index: [0, 161]&#10;Color: (0, 0, 200)\" style=\"width: 20px; height: 20px;background-color: rgb(0, 0, 200);\"></td><td title=\"Index: [0, 162]&#10;Color: (200, 200, 200)\" style=\"width: 20px; height: 20px;background-color: rgb(200, 200, 200);\"></td><td title=\"Index: [0, 163]&#10;Color: (200, 200, 200)\" style=\"width: 20px; height: 20px;background-color: rgb(200, 200, 200);\"></td><td title=\"Index: [0, 164]&#10;Color: (0, 0, 200)\" style=\"width: 20px; height: 20px;background-color: rgb(0, 0, 200);\"></td><td title=\"Index: [0, 165]&#10;Color: (200, 0, 0)\" style=\"width: 20px; height: 20px;background-color: rgb(200, 0, 0);\"></td><td title=\"Index: [0, 166]&#10;Color: (200, 200, 200)\" style=\"width: 20px; height: 20px;background-color: rgb(200, 200, 200);\"></td><td title=\"Index: [0, 167]&#10;Color: (200, 0, 200)\" style=\"width: 20px; height: 20px;background-color: rgb(200, 0, 200);\"></td><td title=\"Index: [0, 168]&#10;Color: (200, 0, 0)\" style=\"width: 20px; height: 20px;background-color: rgb(200, 0, 0);\"></td><td title=\"Index: [0, 169]&#10;Color: (0, 0, 200)\" style=\"width: 20px; height: 20px;background-color: rgb(0, 0, 200);\"></td><td title=\"Index: [0, 170]&#10;Color: (200, 0, 0)\" style=\"width: 20px; height: 20px;background-color: rgb(200, 0, 0);\"></td><td title=\"Index: [0, 171]&#10;Color: (200, 0, 200)\" style=\"width: 20px; height: 20px;background-color: rgb(200, 0, 200);\"></td><td title=\"Index: [0, 172]&#10;Color: (0, 0, 200)\" style=\"width: 20px; height: 20px;background-color: rgb(0, 0, 200);\"></td><td title=\"Index: [0, 173]&#10;Color: (200, 200, 200)\" style=\"width: 20px; height: 20px;background-color: rgb(200, 200, 200);\"></td><td title=\"Index: [0, 174]&#10;Color: (200, 200, 200)\" style=\"width: 20px; height: 20px;background-color: rgb(200, 200, 200);\"></td><td title=\"Index: [0, 175]&#10;Color: (0, 0, 200)\" style=\"width: 20px; height: 20px;background-color: rgb(0, 0, 200);\"></td><td title=\"Index: [0, 176]&#10;Color: (200, 0, 0)\" style=\"width: 20px; height: 20px;background-color: rgb(200, 0, 0);\"></td><td title=\"Index: [0, 177]&#10;Color: (200, 200, 200)\" style=\"width: 20px; height: 20px;background-color: rgb(200, 200, 200);\"></td><td title=\"Index: [0, 178]&#10;Color: (200, 200, 200)\" style=\"width: 20px; height: 20px;background-color: rgb(200, 200, 200);\"></td><td title=\"Index: [0, 179]&#10;Color: (200, 0, 200)\" style=\"width: 20px; height: 20px;background-color: rgb(200, 0, 200);\"></td><td title=\"Index: [0, 180]&#10;Color: (200, 200, 200)\" style=\"width: 20px; height: 20px;background-color: rgb(200, 200, 200);\"></td><td title=\"Index: [0, 181]&#10;Color: (200, 0, 0)\" style=\"width: 20px; height: 20px;background-color: rgb(200, 0, 0);\"></td><td title=\"Index: [0, 182]&#10;Color: (0, 0, 200)\" style=\"width: 20px; height: 20px;background-color: rgb(0, 0, 200);\"></td><td title=\"Index: [0, 183]&#10;Color: (200, 0, 0)\" style=\"width: 20px; height: 20px;background-color: rgb(200, 0, 0);\"></td><td title=\"Index: [0, 184]&#10;Color: (200, 200, 200)\" style=\"width: 20px; height: 20px;background-color: rgb(200, 200, 200);\"></td><td title=\"Index: [0, 185]&#10;Color: (200, 0, 200)\" style=\"width: 20px; height: 20px;background-color: rgb(200, 0, 200);\"></td><td title=\"Index: [0, 186]&#10;Color: (0, 0, 200)\" style=\"width: 20px; height: 20px;background-color: rgb(0, 0, 200);\"></td><td title=\"Index: [0, 187]&#10;Color: (0, 0, 200)\" style=\"width: 20px; height: 20px;background-color: rgb(0, 0, 200);\"></td><td title=\"Index: [0, 188]&#10;Color: (200, 0, 0)\" style=\"width: 20px; height: 20px;background-color: rgb(200, 0, 0);\"></td><td title=\"Index: [0, 189]&#10;Color: (0, 0, 200)\" style=\"width: 20px; height: 20px;background-color: rgb(0, 0, 200);\"></td><td title=\"Index: [0, 190]&#10;Color: (200, 0, 200)\" style=\"width: 20px; height: 20px;background-color: rgb(200, 0, 200);\"></td><td title=\"Index: [0, 191]&#10;Color: (200, 200, 200)\" style=\"width: 20px; height: 20px;background-color: rgb(200, 200, 200);\"></td><td title=\"Index: [0, 192]&#10;Color: (200, 0, 200)\" style=\"width: 20px; height: 20px;background-color: rgb(200, 0, 200);\"></td><td title=\"Index: [0, 193]&#10;Color: (200, 200, 200)\" style=\"width: 20px; height: 20px;background-color: rgb(200, 200, 200);\"></td><td title=\"Index: [0, 194]&#10;Color: (0, 0, 200)\" style=\"width: 20px; height: 20px;background-color: rgb(0, 0, 200);\"></td><td title=\"Index: [0, 195]&#10;Color: (200, 200, 200)\" style=\"width: 20px; height: 20px;background-color: rgb(200, 200, 200);\"></td><td title=\"Index: [0, 196]&#10;Color: (0, 0, 200)\" style=\"width: 20px; height: 20px;background-color: rgb(0, 0, 200);\"></td><td title=\"Index: [0, 197]&#10;Color: (200, 200, 200)\" style=\"width: 20px; height: 20px;background-color: rgb(200, 200, 200);\"></td><td title=\"Index: [0, 198]&#10;Color: (200, 200, 200)\" style=\"width: 20px; height: 20px;background-color: rgb(200, 200, 200);\"></td><td title=\"Index: [0, 199]&#10;Color: (200, 200, 200)\" style=\"width: 20px; height: 20px;background-color: rgb(200, 200, 200);\"></td><td title=\"Index: [0, 200]&#10;Color: (200, 200, 200)\" style=\"width: 20px; height: 20px;background-color: rgb(200, 200, 200);\"></td><td title=\"Index: [0, 201]&#10;Color: (200, 0, 200)\" style=\"width: 20px; height: 20px;background-color: rgb(200, 0, 200);\"></td><td title=\"Index: [0, 202]&#10;Color: (0, 0, 200)\" style=\"width: 20px; height: 20px;background-color: rgb(0, 0, 200);\"></td><td title=\"Index: [0, 203]&#10;Color: (200, 200, 200)\" style=\"width: 20px; height: 20px;background-color: rgb(200, 200, 200);\"></td><td title=\"Index: [0, 204]&#10;Color: (0, 0, 200)\" style=\"width: 20px; height: 20px;background-color: rgb(0, 0, 200);\"></td><td title=\"Index: [0, 205]&#10;Color: (200, 200, 200)\" style=\"width: 20px; height: 20px;background-color: rgb(200, 200, 200);\"></td><td title=\"Index: [0, 206]&#10;Color: (200, 200, 200)\" style=\"width: 20px; height: 20px;background-color: rgb(200, 200, 200);\"></td><td title=\"Index: [0, 207]&#10;Color: (200, 0, 0)\" style=\"width: 20px; height: 20px;background-color: rgb(200, 0, 0);\"></td><td title=\"Index: [0, 208]&#10;Color: (200, 0, 200)\" style=\"width: 20px; height: 20px;background-color: rgb(200, 0, 200);\"></td><td title=\"Index: [0, 209]&#10;Color: (200, 200, 200)\" style=\"width: 20px; height: 20px;background-color: rgb(200, 200, 200);\"></td><td title=\"Index: [0, 210]&#10;Color: (200, 0, 0)\" style=\"width: 20px; height: 20px;background-color: rgb(200, 0, 0);\"></td><td title=\"Index: [0, 211]&#10;Color: (200, 200, 200)\" style=\"width: 20px; height: 20px;background-color: rgb(200, 200, 200);\"></td><td title=\"Index: [0, 212]&#10;Color: (200, 200, 200)\" style=\"width: 20px; height: 20px;background-color: rgb(200, 200, 200);\"></td><td title=\"Index: [0, 213]&#10;Color: (200, 200, 200)\" style=\"width: 20px; height: 20px;background-color: rgb(200, 200, 200);\"></td><td title=\"Index: [0, 214]&#10;Color: (200, 0, 200)\" style=\"width: 20px; height: 20px;background-color: rgb(200, 0, 200);\"></td><td title=\"Index: [0, 215]&#10;Color: (200, 200, 200)\" style=\"width: 20px; height: 20px;background-color: rgb(200, 200, 200);\"></td><td title=\"Index: [0, 216]&#10;Color: (200, 0, 0)\" style=\"width: 20px; height: 20px;background-color: rgb(200, 0, 0);\"></td><td title=\"Index: [0, 217]&#10;Color: (200, 200, 200)\" style=\"width: 20px; height: 20px;background-color: rgb(200, 200, 200);\"></td><td title=\"Index: [0, 218]&#10;Color: (200, 200, 200)\" style=\"width: 20px; height: 20px;background-color: rgb(200, 200, 200);\"></td><td title=\"Index: [0, 219]&#10;Color: (200, 200, 200)\" style=\"width: 20px; height: 20px;background-color: rgb(200, 200, 200);\"></td><td title=\"Index: [0, 220]&#10;Color: (200, 0, 200)\" style=\"width: 20px; height: 20px;background-color: rgb(200, 0, 200);\"></td><td title=\"Index: [0, 221]&#10;Color: (200, 0, 200)\" style=\"width: 20px; height: 20px;background-color: rgb(200, 0, 200);\"></td><td title=\"Index: [0, 222]&#10;Color: (200, 200, 200)\" style=\"width: 20px; height: 20px;background-color: rgb(200, 200, 200);\"></td><td title=\"Index: [0, 223]&#10;Color: (200, 200, 200)\" style=\"width: 20px; height: 20px;background-color: rgb(200, 200, 200);\"></td><td title=\"Index: [0, 224]&#10;Color: (200, 200, 200)\" style=\"width: 20px; height: 20px;background-color: rgb(200, 200, 200);\"></td><td title=\"Index: [0, 225]&#10;Color: (0, 0, 200)\" style=\"width: 20px; height: 20px;background-color: rgb(0, 0, 200);\"></td><td title=\"Index: [0, 226]&#10;Color: (0, 0, 200)\" style=\"width: 20px; height: 20px;background-color: rgb(0, 0, 200);\"></td><td title=\"Index: [0, 227]&#10;Color: (200, 200, 200)\" style=\"width: 20px; height: 20px;background-color: rgb(200, 200, 200);\"></td><td title=\"Index: [0, 228]&#10;Color: (200, 200, 200)\" style=\"width: 20px; height: 20px;background-color: rgb(200, 200, 200);\"></td><td title=\"Index: [0, 229]&#10;Color: (200, 0, 0)\" style=\"width: 20px; height: 20px;background-color: rgb(200, 0, 0);\"></td><td title=\"Index: [0, 230]&#10;Color: (200, 0, 0)\" style=\"width: 20px; height: 20px;background-color: rgb(200, 0, 0);\"></td><td title=\"Index: [0, 231]&#10;Color: (200, 200, 200)\" style=\"width: 20px; height: 20px;background-color: rgb(200, 200, 200);\"></td><td title=\"Index: [0, 232]&#10;Color: (200, 200, 200)\" style=\"width: 20px; height: 20px;background-color: rgb(200, 200, 200);\"></td><td title=\"Index: [0, 233]&#10;Color: (200, 0, 0)\" style=\"width: 20px; height: 20px;background-color: rgb(200, 0, 0);\"></td><td title=\"Index: [0, 234]&#10;Color: (200, 0, 0)\" style=\"width: 20px; height: 20px;background-color: rgb(200, 0, 0);\"></td><td title=\"Index: [0, 235]&#10;Color: (200, 0, 0)\" style=\"width: 20px; height: 20px;background-color: rgb(200, 0, 0);\"></td><td title=\"Index: [0, 236]&#10;Color: (200, 0, 0)\" style=\"width: 20px; height: 20px;background-color: rgb(200, 0, 0);\"></td><td title=\"Index: [0, 237]&#10;Color: (200, 200, 200)\" style=\"width: 20px; height: 20px;background-color: rgb(200, 200, 200);\"></td><td title=\"Index: [0, 238]&#10;Color: (200, 0, 0)\" style=\"width: 20px; height: 20px;background-color: rgb(200, 0, 0);\"></td><td title=\"Index: [0, 239]&#10;Color: (200, 0, 200)\" style=\"width: 20px; height: 20px;background-color: rgb(200, 0, 200);\"></td><td title=\"Index: [0, 240]&#10;Color: (200, 0, 200)\" style=\"width: 20px; height: 20px;background-color: rgb(200, 0, 200);\"></td><td title=\"Index: [0, 241]&#10;Color: (200, 200, 200)\" style=\"width: 20px; height: 20px;background-color: rgb(200, 200, 200);\"></td><td title=\"Index: [0, 242]&#10;Color: (200, 200, 200)\" style=\"width: 20px; height: 20px;background-color: rgb(200, 200, 200);\"></td><td title=\"Index: [0, 243]&#10;Color: (200, 200, 200)\" style=\"width: 20px; height: 20px;background-color: rgb(200, 200, 200);\"></td><td title=\"Index: [0, 244]&#10;Color: (200, 200, 200)\" style=\"width: 20px; height: 20px;background-color: rgb(200, 200, 200);\"></td><td title=\"Index: [0, 245]&#10;Color: (200, 0, 0)\" style=\"width: 20px; height: 20px;background-color: rgb(200, 0, 0);\"></td><td title=\"Index: [0, 246]&#10;Color: (0, 0, 200)\" style=\"width: 20px; height: 20px;background-color: rgb(0, 0, 200);\"></td><td title=\"Index: [0, 247]&#10;Color: (0, 0, 200)\" style=\"width: 20px; height: 20px;background-color: rgb(0, 0, 200);\"></td><td title=\"Index: [0, 248]&#10;Color: (200, 200, 200)\" style=\"width: 20px; height: 20px;background-color: rgb(200, 200, 200);\"></td><td title=\"Index: [0, 249]&#10;Color: (200, 0, 0)\" style=\"width: 20px; height: 20px;background-color: rgb(200, 0, 0);\"></td><td title=\"Index: [0, 250]&#10;Color: (200, 200, 200)\" style=\"width: 20px; height: 20px;background-color: rgb(200, 200, 200);\"></td><td title=\"Index: [0, 251]&#10;Color: (200, 0, 0)\" style=\"width: 20px; height: 20px;background-color: rgb(200, 0, 0);\"></td><td title=\"Index: [0, 252]&#10;Color: (0, 0, 200)\" style=\"width: 20px; height: 20px;background-color: rgb(0, 0, 200);\"></td><td title=\"Index: [0, 253]&#10;Color: (200, 200, 200)\" style=\"width: 20px; height: 20px;background-color: rgb(200, 200, 200);\"></td><td title=\"Index: [0, 254]&#10;Color: (200, 0, 0)\" style=\"width: 20px; height: 20px;background-color: rgb(200, 0, 0);\"></td><td title=\"Index: [0, 255]&#10;Color: (200, 200, 200)\" style=\"width: 20px; height: 20px;background-color: rgb(200, 200, 200);\"></td><td title=\"Index: [0, 256]&#10;Color: (200, 200, 200)\" style=\"width: 20px; height: 20px;background-color: rgb(200, 200, 200);\"></td><td title=\"Index: [0, 257]&#10;Color: (200, 0, 200)\" style=\"width: 20px; height: 20px;background-color: rgb(200, 0, 200);\"></td><td title=\"Index: [0, 258]&#10;Color: (0, 0, 200)\" style=\"width: 20px; height: 20px;background-color: rgb(0, 0, 200);\"></td><td title=\"Index: [0, 259]&#10;Color: (0, 0, 200)\" style=\"width: 20px; height: 20px;background-color: rgb(0, 0, 200);\"></td><td title=\"Index: [0, 260]&#10;Color: (0, 0, 200)\" style=\"width: 20px; height: 20px;background-color: rgb(0, 0, 200);\"></td><td title=\"Index: [0, 261]&#10;Color: (200, 0, 200)\" style=\"width: 20px; height: 20px;background-color: rgb(200, 0, 200);\"></td><td title=\"Index: [0, 262]&#10;Color: (0, 0, 200)\" style=\"width: 20px; height: 20px;background-color: rgb(0, 0, 200);\"></td><td title=\"Index: [0, 263]&#10;Color: (0, 0, 200)\" style=\"width: 20px; height: 20px;background-color: rgb(0, 0, 200);\"></td><td title=\"Index: [0, 264]&#10;Color: (200, 0, 0)\" style=\"width: 20px; height: 20px;background-color: rgb(200, 0, 0);\"></td><td title=\"Index: [0, 265]&#10;Color: (200, 0, 0)\" style=\"width: 20px; height: 20px;background-color: rgb(200, 0, 0);\"></td><td title=\"Index: [0, 266]&#10;Color: (0, 0, 200)\" style=\"width: 20px; height: 20px;background-color: rgb(0, 0, 200);\"></td><td title=\"Index: [0, 267]&#10;Color: (200, 200, 200)\" style=\"width: 20px; height: 20px;background-color: rgb(200, 200, 200);\"></td><td title=\"Index: [0, 268]&#10;Color: (200, 0, 0)\" style=\"width: 20px; height: 20px;background-color: rgb(200, 0, 0);\"></td><td title=\"Index: [0, 269]&#10;Color: (0, 0, 200)\" style=\"width: 20px; height: 20px;background-color: rgb(0, 0, 200);\"></td><td title=\"Index: [0, 270]&#10;Color: (200, 200, 200)\" style=\"width: 20px; height: 20px;background-color: rgb(200, 200, 200);\"></td><td title=\"Index: [0, 271]&#10;Color: (200, 200, 200)\" style=\"width: 20px; height: 20px;background-color: rgb(200, 200, 200);\"></td><td title=\"Index: [0, 272]&#10;Color: (0, 0, 200)\" style=\"width: 20px; height: 20px;background-color: rgb(0, 0, 200);\"></td><td title=\"Index: [0, 273]&#10;Color: (200, 200, 200)\" style=\"width: 20px; height: 20px;background-color: rgb(200, 200, 200);\"></td><td title=\"Index: [0, 274]&#10;Color: (0, 0, 200)\" style=\"width: 20px; height: 20px;background-color: rgb(0, 0, 200);\"></td><td title=\"Index: [0, 275]&#10;Color: (200, 200, 200)\" style=\"width: 20px; height: 20px;background-color: rgb(200, 200, 200);\"></td><td title=\"Index: [0, 276]&#10;Color: (0, 0, 200)\" style=\"width: 20px; height: 20px;background-color: rgb(0, 0, 200);\"></td><td title=\"Index: [0, 277]&#10;Color: (0, 0, 200)\" style=\"width: 20px; height: 20px;background-color: rgb(0, 0, 200);\"></td><td title=\"Index: [0, 278]&#10;Color: (200, 200, 200)\" style=\"width: 20px; height: 20px;background-color: rgb(200, 200, 200);\"></td><td title=\"Index: [0, 279]&#10;Color: (200, 200, 200)\" style=\"width: 20px; height: 20px;background-color: rgb(200, 200, 200);\"></td><td title=\"Index: [0, 280]&#10;Color: (200, 200, 200)\" style=\"width: 20px; height: 20px;background-color: rgb(200, 200, 200);\"></td><td title=\"Index: [0, 281]&#10;Color: (200, 200, 200)\" style=\"width: 20px; height: 20px;background-color: rgb(200, 200, 200);\"></td><td title=\"Index: [0, 282]&#10;Color: (200, 200, 200)\" style=\"width: 20px; height: 20px;background-color: rgb(200, 200, 200);\"></td><td title=\"Index: [0, 283]&#10;Color: (200, 0, 0)\" style=\"width: 20px; height: 20px;background-color: rgb(200, 0, 0);\"></td><td title=\"Index: [0, 284]&#10;Color: (200, 0, 0)\" style=\"width: 20px; height: 20px;background-color: rgb(200, 0, 0);\"></td><td title=\"Index: [0, 285]&#10;Color: (200, 200, 200)\" style=\"width: 20px; height: 20px;background-color: rgb(200, 200, 200);\"></td><td title=\"Index: [0, 286]&#10;Color: (200, 200, 200)\" style=\"width: 20px; height: 20px;background-color: rgb(200, 200, 200);\"></td><td title=\"Index: [0, 287]&#10;Color: (200, 200, 200)\" style=\"width: 20px; height: 20px;background-color: rgb(200, 200, 200);\"></td><td title=\"Index: [0, 288]&#10;Color: (0, 0, 200)\" style=\"width: 20px; height: 20px;background-color: rgb(0, 0, 200);\"></td><td title=\"Index: [0, 289]&#10;Color: (0, 0, 200)\" style=\"width: 20px; height: 20px;background-color: rgb(0, 0, 200);\"></td><td title=\"Index: [0, 290]&#10;Color: (200, 200, 200)\" style=\"width: 20px; height: 20px;background-color: rgb(200, 200, 200);\"></td><td title=\"Index: [0, 291]&#10;Color: (200, 200, 200)\" style=\"width: 20px; height: 20px;background-color: rgb(200, 200, 200);\"></td><td title=\"Index: [0, 292]&#10;Color: (200, 200, 200)\" style=\"width: 20px; height: 20px;background-color: rgb(200, 200, 200);\"></td></tr></tbody></table>",
          "text/plain": "<ipythonblocks.ipythonblocks.BlockGrid at 0x7f694008d860>"
         },
         "metadata": {},
         "output_type": "display_data"
        },
        {
         "data": {
          "text/html": "<style type=\"text/css\">table.blockgrid {border: none;} .blockgrid tr {border: none;} .blockgrid td {padding: 0px;} #blocks1519b42b-c47a-4387-a5a3-71e8bcb2a53a td {border: 1px solid white;}</style><table id=\"blocks1519b42b-c47a-4387-a5a3-71e8bcb2a53a\" class=\"blockgrid\"><tbody><tr><td title=\"Index: [0, 0]&#10;Color: (200, 0, 200)\" style=\"width: 20px; height: 20px;background-color: rgb(200, 0, 200);\"></td><td title=\"Index: [0, 1]&#10;Color: (200, 200, 200)\" style=\"width: 20px; height: 20px;background-color: rgb(200, 200, 200);\"></td><td title=\"Index: [0, 2]&#10;Color: (200, 200, 200)\" style=\"width: 20px; height: 20px;background-color: rgb(200, 200, 200);\"></td><td title=\"Index: [0, 3]&#10;Color: (0, 0, 200)\" style=\"width: 20px; height: 20px;background-color: rgb(0, 0, 200);\"></td><td title=\"Index: [0, 4]&#10;Color: (0, 0, 200)\" style=\"width: 20px; height: 20px;background-color: rgb(0, 0, 200);\"></td><td title=\"Index: [0, 5]&#10;Color: (200, 0, 0)\" style=\"width: 20px; height: 20px;background-color: rgb(200, 0, 0);\"></td><td title=\"Index: [0, 6]&#10;Color: (200, 200, 200)\" style=\"width: 20px; height: 20px;background-color: rgb(200, 200, 200);\"></td><td title=\"Index: [0, 7]&#10;Color: (200, 200, 200)\" style=\"width: 20px; height: 20px;background-color: rgb(200, 200, 200);\"></td><td title=\"Index: [0, 8]&#10;Color: (200, 200, 200)\" style=\"width: 20px; height: 20px;background-color: rgb(200, 200, 200);\"></td><td title=\"Index: [0, 9]&#10;Color: (200, 200, 200)\" style=\"width: 20px; height: 20px;background-color: rgb(200, 200, 200);\"></td><td title=\"Index: [0, 10]&#10;Color: (200, 0, 200)\" style=\"width: 20px; height: 20px;background-color: rgb(200, 0, 200);\"></td><td title=\"Index: [0, 11]&#10;Color: (200, 200, 200)\" style=\"width: 20px; height: 20px;background-color: rgb(200, 200, 200);\"></td><td title=\"Index: [0, 12]&#10;Color: (200, 200, 200)\" style=\"width: 20px; height: 20px;background-color: rgb(200, 200, 200);\"></td><td title=\"Index: [0, 13]&#10;Color: (200, 200, 200)\" style=\"width: 20px; height: 20px;background-color: rgb(200, 200, 200);\"></td><td title=\"Index: [0, 14]&#10;Color: (200, 200, 200)\" style=\"width: 20px; height: 20px;background-color: rgb(200, 200, 200);\"></td><td title=\"Index: [0, 15]&#10;Color: (200, 0, 0)\" style=\"width: 20px; height: 20px;background-color: rgb(200, 0, 0);\"></td><td title=\"Index: [0, 16]&#10;Color: (0, 0, 200)\" style=\"width: 20px; height: 20px;background-color: rgb(0, 0, 200);\"></td><td title=\"Index: [0, 17]&#10;Color: (200, 200, 200)\" style=\"width: 20px; height: 20px;background-color: rgb(200, 200, 200);\"></td><td title=\"Index: [0, 18]&#10;Color: (200, 200, 200)\" style=\"width: 20px; height: 20px;background-color: rgb(200, 200, 200);\"></td><td title=\"Index: [0, 19]&#10;Color: (200, 200, 200)\" style=\"width: 20px; height: 20px;background-color: rgb(200, 200, 200);\"></td><td title=\"Index: [0, 20]&#10;Color: (200, 0, 200)\" style=\"width: 20px; height: 20px;background-color: rgb(200, 0, 200);\"></td><td title=\"Index: [0, 21]&#10;Color: (200, 200, 200)\" style=\"width: 20px; height: 20px;background-color: rgb(200, 200, 200);\"></td><td title=\"Index: [0, 22]&#10;Color: (200, 0, 0)\" style=\"width: 20px; height: 20px;background-color: rgb(200, 0, 0);\"></td><td title=\"Index: [0, 23]&#10;Color: (200, 200, 200)\" style=\"width: 20px; height: 20px;background-color: rgb(200, 200, 200);\"></td><td title=\"Index: [0, 24]&#10;Color: (200, 200, 200)\" style=\"width: 20px; height: 20px;background-color: rgb(200, 200, 200);\"></td><td title=\"Index: [0, 25]&#10;Color: (200, 200, 200)\" style=\"width: 20px; height: 20px;background-color: rgb(200, 200, 200);\"></td><td title=\"Index: [0, 26]&#10;Color: (0, 0, 200)\" style=\"width: 20px; height: 20px;background-color: rgb(0, 0, 200);\"></td><td title=\"Index: [0, 27]&#10;Color: (200, 200, 200)\" style=\"width: 20px; height: 20px;background-color: rgb(200, 200, 200);\"></td><td title=\"Index: [0, 28]&#10;Color: (200, 0, 0)\" style=\"width: 20px; height: 20px;background-color: rgb(200, 0, 0);\"></td><td title=\"Index: [0, 29]&#10;Color: (200, 200, 200)\" style=\"width: 20px; height: 20px;background-color: rgb(200, 200, 200);\"></td><td title=\"Index: [0, 30]&#10;Color: (0, 0, 200)\" style=\"width: 20px; height: 20px;background-color: rgb(0, 0, 200);\"></td><td title=\"Index: [0, 31]&#10;Color: (200, 200, 200)\" style=\"width: 20px; height: 20px;background-color: rgb(200, 200, 200);\"></td><td title=\"Index: [0, 32]&#10;Color: (200, 200, 200)\" style=\"width: 20px; height: 20px;background-color: rgb(200, 200, 200);\"></td><td title=\"Index: [0, 33]&#10;Color: (200, 0, 0)\" style=\"width: 20px; height: 20px;background-color: rgb(200, 0, 0);\"></td><td title=\"Index: [0, 34]&#10;Color: (200, 0, 0)\" style=\"width: 20px; height: 20px;background-color: rgb(200, 0, 0);\"></td><td title=\"Index: [0, 35]&#10;Color: (200, 200, 200)\" style=\"width: 20px; height: 20px;background-color: rgb(200, 200, 200);\"></td><td title=\"Index: [0, 36]&#10;Color: (200, 200, 200)\" style=\"width: 20px; height: 20px;background-color: rgb(200, 200, 200);\"></td><td title=\"Index: [0, 37]&#10;Color: (200, 200, 200)\" style=\"width: 20px; height: 20px;background-color: rgb(200, 200, 200);\"></td><td title=\"Index: [0, 38]&#10;Color: (200, 200, 200)\" style=\"width: 20px; height: 20px;background-color: rgb(200, 200, 200);\"></td><td title=\"Index: [0, 39]&#10;Color: (200, 200, 200)\" style=\"width: 20px; height: 20px;background-color: rgb(200, 200, 200);\"></td><td title=\"Index: [0, 40]&#10;Color: (0, 0, 200)\" style=\"width: 20px; height: 20px;background-color: rgb(0, 0, 200);\"></td><td title=\"Index: [0, 41]&#10;Color: (200, 0, 0)\" style=\"width: 20px; height: 20px;background-color: rgb(200, 0, 0);\"></td><td title=\"Index: [0, 42]&#10;Color: (0, 0, 200)\" style=\"width: 20px; height: 20px;background-color: rgb(0, 0, 200);\"></td><td title=\"Index: [0, 43]&#10;Color: (200, 200, 200)\" style=\"width: 20px; height: 20px;background-color: rgb(200, 200, 200);\"></td><td title=\"Index: [0, 44]&#10;Color: (0, 0, 200)\" style=\"width: 20px; height: 20px;background-color: rgb(0, 0, 200);\"></td><td title=\"Index: [0, 45]&#10;Color: (0, 0, 200)\" style=\"width: 20px; height: 20px;background-color: rgb(0, 0, 200);\"></td><td title=\"Index: [0, 46]&#10;Color: (200, 200, 200)\" style=\"width: 20px; height: 20px;background-color: rgb(200, 200, 200);\"></td><td title=\"Index: [0, 47]&#10;Color: (200, 200, 200)\" style=\"width: 20px; height: 20px;background-color: rgb(200, 200, 200);\"></td><td title=\"Index: [0, 48]&#10;Color: (0, 0, 200)\" style=\"width: 20px; height: 20px;background-color: rgb(0, 0, 200);\"></td><td title=\"Index: [0, 49]&#10;Color: (200, 200, 200)\" style=\"width: 20px; height: 20px;background-color: rgb(200, 200, 200);\"></td><td title=\"Index: [0, 50]&#10;Color: (200, 0, 0)\" style=\"width: 20px; height: 20px;background-color: rgb(200, 0, 0);\"></td><td title=\"Index: [0, 51]&#10;Color: (200, 200, 200)\" style=\"width: 20px; height: 20px;background-color: rgb(200, 200, 200);\"></td><td title=\"Index: [0, 52]&#10;Color: (0, 0, 200)\" style=\"width: 20px; height: 20px;background-color: rgb(0, 0, 200);\"></td><td title=\"Index: [0, 53]&#10;Color: (200, 200, 200)\" style=\"width: 20px; height: 20px;background-color: rgb(200, 200, 200);\"></td><td title=\"Index: [0, 54]&#10;Color: (0, 0, 200)\" style=\"width: 20px; height: 20px;background-color: rgb(0, 0, 200);\"></td><td title=\"Index: [0, 55]&#10;Color: (200, 0, 200)\" style=\"width: 20px; height: 20px;background-color: rgb(200, 0, 200);\"></td><td title=\"Index: [0, 56]&#10;Color: (0, 0, 200)\" style=\"width: 20px; height: 20px;background-color: rgb(0, 0, 200);\"></td><td title=\"Index: [0, 57]&#10;Color: (0, 0, 200)\" style=\"width: 20px; height: 20px;background-color: rgb(0, 0, 200);\"></td><td title=\"Index: [0, 58]&#10;Color: (200, 200, 200)\" style=\"width: 20px; height: 20px;background-color: rgb(200, 200, 200);\"></td><td title=\"Index: [0, 59]&#10;Color: (0, 0, 200)\" style=\"width: 20px; height: 20px;background-color: rgb(0, 0, 200);\"></td><td title=\"Index: [0, 60]&#10;Color: (200, 0, 200)\" style=\"width: 20px; height: 20px;background-color: rgb(200, 0, 200);\"></td><td title=\"Index: [0, 61]&#10;Color: (200, 200, 200)\" style=\"width: 20px; height: 20px;background-color: rgb(200, 200, 200);\"></td><td title=\"Index: [0, 62]&#10;Color: (200, 200, 200)\" style=\"width: 20px; height: 20px;background-color: rgb(200, 200, 200);\"></td><td title=\"Index: [0, 63]&#10;Color: (200, 200, 200)\" style=\"width: 20px; height: 20px;background-color: rgb(200, 200, 200);\"></td><td title=\"Index: [0, 64]&#10;Color: (200, 200, 200)\" style=\"width: 20px; height: 20px;background-color: rgb(200, 200, 200);\"></td><td title=\"Index: [0, 65]&#10;Color: (200, 0, 0)\" style=\"width: 20px; height: 20px;background-color: rgb(200, 0, 0);\"></td><td title=\"Index: [0, 66]&#10;Color: (200, 200, 200)\" style=\"width: 20px; height: 20px;background-color: rgb(200, 200, 200);\"></td><td title=\"Index: [0, 67]&#10;Color: (200, 200, 200)\" style=\"width: 20px; height: 20px;background-color: rgb(200, 200, 200);\"></td><td title=\"Index: [0, 68]&#10;Color: (200, 200, 200)\" style=\"width: 20px; height: 20px;background-color: rgb(200, 200, 200);\"></td><td title=\"Index: [0, 69]&#10;Color: (200, 0, 200)\" style=\"width: 20px; height: 20px;background-color: rgb(200, 0, 200);\"></td><td title=\"Index: [0, 70]&#10;Color: (200, 200, 200)\" style=\"width: 20px; height: 20px;background-color: rgb(200, 200, 200);\"></td><td title=\"Index: [0, 71]&#10;Color: (0, 0, 200)\" style=\"width: 20px; height: 20px;background-color: rgb(0, 0, 200);\"></td><td title=\"Index: [0, 72]&#10;Color: (200, 0, 0)\" style=\"width: 20px; height: 20px;background-color: rgb(200, 0, 0);\"></td><td title=\"Index: [0, 73]&#10;Color: (200, 200, 200)\" style=\"width: 20px; height: 20px;background-color: rgb(200, 200, 200);\"></td><td title=\"Index: [0, 74]&#10;Color: (200, 0, 0)\" style=\"width: 20px; height: 20px;background-color: rgb(200, 0, 0);\"></td><td title=\"Index: [0, 75]&#10;Color: (200, 200, 200)\" style=\"width: 20px; height: 20px;background-color: rgb(200, 200, 200);\"></td><td title=\"Index: [0, 76]&#10;Color: (200, 0, 0)\" style=\"width: 20px; height: 20px;background-color: rgb(200, 0, 0);\"></td><td title=\"Index: [0, 77]&#10;Color: (200, 200, 200)\" style=\"width: 20px; height: 20px;background-color: rgb(200, 200, 200);\"></td><td title=\"Index: [0, 78]&#10;Color: (0, 0, 200)\" style=\"width: 20px; height: 20px;background-color: rgb(0, 0, 200);\"></td><td title=\"Index: [0, 79]&#10;Color: (200, 0, 0)\" style=\"width: 20px; height: 20px;background-color: rgb(200, 0, 0);\"></td><td title=\"Index: [0, 80]&#10;Color: (200, 0, 200)\" style=\"width: 20px; height: 20px;background-color: rgb(200, 0, 200);\"></td><td title=\"Index: [0, 81]&#10;Color: (200, 200, 200)\" style=\"width: 20px; height: 20px;background-color: rgb(200, 200, 200);\"></td><td title=\"Index: [0, 82]&#10;Color: (0, 0, 200)\" style=\"width: 20px; height: 20px;background-color: rgb(0, 0, 200);\"></td><td title=\"Index: [0, 83]&#10;Color: (200, 200, 200)\" style=\"width: 20px; height: 20px;background-color: rgb(200, 200, 200);\"></td><td title=\"Index: [0, 84]&#10;Color: (0, 0, 200)\" style=\"width: 20px; height: 20px;background-color: rgb(0, 0, 200);\"></td><td title=\"Index: [0, 85]&#10;Color: (200, 200, 200)\" style=\"width: 20px; height: 20px;background-color: rgb(200, 200, 200);\"></td><td title=\"Index: [0, 86]&#10;Color: (0, 0, 200)\" style=\"width: 20px; height: 20px;background-color: rgb(0, 0, 200);\"></td><td title=\"Index: [0, 87]&#10;Color: (200, 0, 0)\" style=\"width: 20px; height: 20px;background-color: rgb(200, 0, 0);\"></td><td title=\"Index: [0, 88]&#10;Color: (200, 200, 200)\" style=\"width: 20px; height: 20px;background-color: rgb(200, 200, 200);\"></td><td title=\"Index: [0, 89]&#10;Color: (0, 0, 200)\" style=\"width: 20px; height: 20px;background-color: rgb(0, 0, 200);\"></td><td title=\"Index: [0, 90]&#10;Color: (200, 200, 200)\" style=\"width: 20px; height: 20px;background-color: rgb(200, 200, 200);\"></td><td title=\"Index: [0, 91]&#10;Color: (200, 200, 200)\" style=\"width: 20px; height: 20px;background-color: rgb(200, 200, 200);\"></td><td title=\"Index: [0, 92]&#10;Color: (200, 0, 0)\" style=\"width: 20px; height: 20px;background-color: rgb(200, 0, 0);\"></td><td title=\"Index: [0, 93]&#10;Color: (200, 200, 200)\" style=\"width: 20px; height: 20px;background-color: rgb(200, 200, 200);\"></td><td title=\"Index: [0, 94]&#10;Color: (200, 0, 200)\" style=\"width: 20px; height: 20px;background-color: rgb(200, 0, 200);\"></td><td title=\"Index: [0, 95]&#10;Color: (200, 200, 200)\" style=\"width: 20px; height: 20px;background-color: rgb(200, 200, 200);\"></td><td title=\"Index: [0, 96]&#10;Color: (200, 200, 200)\" style=\"width: 20px; height: 20px;background-color: rgb(200, 200, 200);\"></td><td title=\"Index: [0, 97]&#10;Color: (200, 200, 200)\" style=\"width: 20px; height: 20px;background-color: rgb(200, 200, 200);\"></td><td title=\"Index: [0, 98]&#10;Color: (0, 0, 200)\" style=\"width: 20px; height: 20px;background-color: rgb(0, 0, 200);\"></td><td title=\"Index: [0, 99]&#10;Color: (200, 200, 200)\" style=\"width: 20px; height: 20px;background-color: rgb(200, 200, 200);\"></td><td title=\"Index: [0, 100]&#10;Color: (200, 200, 200)\" style=\"width: 20px; height: 20px;background-color: rgb(200, 200, 200);\"></td><td title=\"Index: [0, 101]&#10;Color: (200, 200, 200)\" style=\"width: 20px; height: 20px;background-color: rgb(200, 200, 200);\"></td><td title=\"Index: [0, 102]&#10;Color: (0, 0, 200)\" style=\"width: 20px; height: 20px;background-color: rgb(0, 0, 200);\"></td><td title=\"Index: [0, 103]&#10;Color: (200, 0, 200)\" style=\"width: 20px; height: 20px;background-color: rgb(200, 0, 200);\"></td><td title=\"Index: [0, 104]&#10;Color: (200, 0, 0)\" style=\"width: 20px; height: 20px;background-color: rgb(200, 0, 0);\"></td><td title=\"Index: [0, 105]&#10;Color: (200, 0, 0)\" style=\"width: 20px; height: 20px;background-color: rgb(200, 0, 0);\"></td><td title=\"Index: [0, 106]&#10;Color: (200, 200, 200)\" style=\"width: 20px; height: 20px;background-color: rgb(200, 200, 200);\"></td><td title=\"Index: [0, 107]&#10;Color: (200, 200, 200)\" style=\"width: 20px; height: 20px;background-color: rgb(200, 200, 200);\"></td><td title=\"Index: [0, 108]&#10;Color: (200, 200, 200)\" style=\"width: 20px; height: 20px;background-color: rgb(200, 200, 200);\"></td><td title=\"Index: [0, 109]&#10;Color: (0, 0, 200)\" style=\"width: 20px; height: 20px;background-color: rgb(0, 0, 200);\"></td><td title=\"Index: [0, 110]&#10;Color: (200, 200, 200)\" style=\"width: 20px; height: 20px;background-color: rgb(200, 200, 200);\"></td><td title=\"Index: [0, 111]&#10;Color: (200, 0, 0)\" style=\"width: 20px; height: 20px;background-color: rgb(200, 0, 0);\"></td><td title=\"Index: [0, 112]&#10;Color: (200, 200, 200)\" style=\"width: 20px; height: 20px;background-color: rgb(200, 200, 200);\"></td><td title=\"Index: [0, 113]&#10;Color: (0, 0, 200)\" style=\"width: 20px; height: 20px;background-color: rgb(0, 0, 200);\"></td><td title=\"Index: [0, 114]&#10;Color: (200, 200, 200)\" style=\"width: 20px; height: 20px;background-color: rgb(200, 200, 200);\"></td><td title=\"Index: [0, 115]&#10;Color: (200, 200, 200)\" style=\"width: 20px; height: 20px;background-color: rgb(200, 200, 200);\"></td><td title=\"Index: [0, 116]&#10;Color: (200, 0, 0)\" style=\"width: 20px; height: 20px;background-color: rgb(200, 0, 0);\"></td><td title=\"Index: [0, 117]&#10;Color: (200, 0, 0)\" style=\"width: 20px; height: 20px;background-color: rgb(200, 0, 0);\"></td><td title=\"Index: [0, 118]&#10;Color: (200, 0, 0)\" style=\"width: 20px; height: 20px;background-color: rgb(200, 0, 0);\"></td><td title=\"Index: [0, 119]&#10;Color: (200, 0, 0)\" style=\"width: 20px; height: 20px;background-color: rgb(200, 0, 0);\"></td><td title=\"Index: [0, 120]&#10;Color: (200, 0, 0)\" style=\"width: 20px; height: 20px;background-color: rgb(200, 0, 0);\"></td><td title=\"Index: [0, 121]&#10;Color: (200, 0, 0)\" style=\"width: 20px; height: 20px;background-color: rgb(200, 0, 0);\"></td><td title=\"Index: [0, 122]&#10;Color: (200, 200, 200)\" style=\"width: 20px; height: 20px;background-color: rgb(200, 200, 200);\"></td><td title=\"Index: [0, 123]&#10;Color: (200, 0, 0)\" style=\"width: 20px; height: 20px;background-color: rgb(200, 0, 0);\"></td><td title=\"Index: [0, 124]&#10;Color: (200, 200, 200)\" style=\"width: 20px; height: 20px;background-color: rgb(200, 200, 200);\"></td><td title=\"Index: [0, 125]&#10;Color: (200, 200, 200)\" style=\"width: 20px; height: 20px;background-color: rgb(200, 200, 200);\"></td><td title=\"Index: [0, 126]&#10;Color: (200, 200, 200)\" style=\"width: 20px; height: 20px;background-color: rgb(200, 200, 200);\"></td><td title=\"Index: [0, 127]&#10;Color: (200, 200, 200)\" style=\"width: 20px; height: 20px;background-color: rgb(200, 200, 200);\"></td><td title=\"Index: [0, 128]&#10;Color: (0, 0, 200)\" style=\"width: 20px; height: 20px;background-color: rgb(0, 0, 200);\"></td><td title=\"Index: [0, 129]&#10;Color: (200, 200, 200)\" style=\"width: 20px; height: 20px;background-color: rgb(200, 200, 200);\"></td><td title=\"Index: [0, 130]&#10;Color: (0, 0, 200)\" style=\"width: 20px; height: 20px;background-color: rgb(0, 0, 200);\"></td><td title=\"Index: [0, 131]&#10;Color: (200, 200, 200)\" style=\"width: 20px; height: 20px;background-color: rgb(200, 200, 200);\"></td><td title=\"Index: [0, 132]&#10;Color: (200, 0, 0)\" style=\"width: 20px; height: 20px;background-color: rgb(200, 0, 0);\"></td><td title=\"Index: [0, 133]&#10;Color: (0, 0, 200)\" style=\"width: 20px; height: 20px;background-color: rgb(0, 0, 200);\"></td><td title=\"Index: [0, 134]&#10;Color: (200, 200, 200)\" style=\"width: 20px; height: 20px;background-color: rgb(200, 200, 200);\"></td><td title=\"Index: [0, 135]&#10;Color: (200, 0, 200)\" style=\"width: 20px; height: 20px;background-color: rgb(200, 0, 200);\"></td><td title=\"Index: [0, 136]&#10;Color: (200, 200, 200)\" style=\"width: 20px; height: 20px;background-color: rgb(200, 200, 200);\"></td><td title=\"Index: [0, 137]&#10;Color: (200, 0, 0)\" style=\"width: 20px; height: 20px;background-color: rgb(200, 0, 0);\"></td><td title=\"Index: [0, 138]&#10;Color: (200, 0, 200)\" style=\"width: 20px; height: 20px;background-color: rgb(200, 0, 200);\"></td><td title=\"Index: [0, 139]&#10;Color: (200, 200, 200)\" style=\"width: 20px; height: 20px;background-color: rgb(200, 200, 200);\"></td><td title=\"Index: [0, 140]&#10;Color: (200, 200, 200)\" style=\"width: 20px; height: 20px;background-color: rgb(200, 200, 200);\"></td><td title=\"Index: [0, 141]&#10;Color: (200, 200, 200)\" style=\"width: 20px; height: 20px;background-color: rgb(200, 200, 200);\"></td><td title=\"Index: [0, 142]&#10;Color: (200, 0, 0)\" style=\"width: 20px; height: 20px;background-color: rgb(200, 0, 0);\"></td><td title=\"Index: [0, 143]&#10;Color: (0, 0, 200)\" style=\"width: 20px; height: 20px;background-color: rgb(0, 0, 200);\"></td><td title=\"Index: [0, 144]&#10;Color: (200, 200, 200)\" style=\"width: 20px; height: 20px;background-color: rgb(200, 200, 200);\"></td><td title=\"Index: [0, 145]&#10;Color: (200, 200, 200)\" style=\"width: 20px; height: 20px;background-color: rgb(200, 200, 200);\"></td><td title=\"Index: [0, 146]&#10;Color: (200, 0, 0)\" style=\"width: 20px; height: 20px;background-color: rgb(200, 0, 0);\"></td><td title=\"Index: [0, 147]&#10;Color: (200, 200, 200)\" style=\"width: 20px; height: 20px;background-color: rgb(200, 200, 200);\"></td><td title=\"Index: [0, 148]&#10;Color: (0, 0, 200)\" style=\"width: 20px; height: 20px;background-color: rgb(0, 0, 200);\"></td><td title=\"Index: [0, 149]&#10;Color: (200, 200, 200)\" style=\"width: 20px; height: 20px;background-color: rgb(200, 200, 200);\"></td><td title=\"Index: [0, 150]&#10;Color: (0, 0, 200)\" style=\"width: 20px; height: 20px;background-color: rgb(0, 0, 200);\"></td><td title=\"Index: [0, 151]&#10;Color: (200, 200, 200)\" style=\"width: 20px; height: 20px;background-color: rgb(200, 200, 200);\"></td><td title=\"Index: [0, 152]&#10;Color: (0, 0, 200)\" style=\"width: 20px; height: 20px;background-color: rgb(0, 0, 200);\"></td><td title=\"Index: [0, 153]&#10;Color: (0, 0, 200)\" style=\"width: 20px; height: 20px;background-color: rgb(0, 0, 200);\"></td><td title=\"Index: [0, 154]&#10;Color: (200, 200, 200)\" style=\"width: 20px; height: 20px;background-color: rgb(200, 200, 200);\"></td><td title=\"Index: [0, 155]&#10;Color: (200, 0, 200)\" style=\"width: 20px; height: 20px;background-color: rgb(200, 0, 200);\"></td><td title=\"Index: [0, 156]&#10;Color: (0, 0, 200)\" style=\"width: 20px; height: 20px;background-color: rgb(0, 0, 200);\"></td><td title=\"Index: [0, 157]&#10;Color: (200, 0, 200)\" style=\"width: 20px; height: 20px;background-color: rgb(200, 0, 200);\"></td><td title=\"Index: [0, 158]&#10;Color: (0, 0, 200)\" style=\"width: 20px; height: 20px;background-color: rgb(0, 0, 200);\"></td><td title=\"Index: [0, 159]&#10;Color: (200, 200, 200)\" style=\"width: 20px; height: 20px;background-color: rgb(200, 200, 200);\"></td><td title=\"Index: [0, 160]&#10;Color: (0, 0, 200)\" style=\"width: 20px; height: 20px;background-color: rgb(0, 0, 200);\"></td><td title=\"Index: [0, 161]&#10;Color: (200, 0, 0)\" style=\"width: 20px; height: 20px;background-color: rgb(200, 0, 0);\"></td><td title=\"Index: [0, 162]&#10;Color: (200, 200, 200)\" style=\"width: 20px; height: 20px;background-color: rgb(200, 200, 200);\"></td><td title=\"Index: [0, 163]&#10;Color: (200, 200, 200)\" style=\"width: 20px; height: 20px;background-color: rgb(200, 200, 200);\"></td><td title=\"Index: [0, 164]&#10;Color: (200, 200, 200)\" style=\"width: 20px; height: 20px;background-color: rgb(200, 200, 200);\"></td><td title=\"Index: [0, 165]&#10;Color: (200, 200, 200)\" style=\"width: 20px; height: 20px;background-color: rgb(200, 200, 200);\"></td><td title=\"Index: [0, 166]&#10;Color: (200, 0, 0)\" style=\"width: 20px; height: 20px;background-color: rgb(200, 0, 0);\"></td><td title=\"Index: [0, 167]&#10;Color: (200, 200, 200)\" style=\"width: 20px; height: 20px;background-color: rgb(200, 200, 200);\"></td><td title=\"Index: [0, 168]&#10;Color: (0, 0, 200)\" style=\"width: 20px; height: 20px;background-color: rgb(0, 0, 200);\"></td><td title=\"Index: [0, 169]&#10;Color: (200, 0, 0)\" style=\"width: 20px; height: 20px;background-color: rgb(200, 0, 0);\"></td><td title=\"Index: [0, 170]&#10;Color: (0, 0, 200)\" style=\"width: 20px; height: 20px;background-color: rgb(0, 0, 200);\"></td><td title=\"Index: [0, 171]&#10;Color: (200, 0, 200)\" style=\"width: 20px; height: 20px;background-color: rgb(200, 0, 200);\"></td><td title=\"Index: [0, 172]&#10;Color: (200, 200, 200)\" style=\"width: 20px; height: 20px;background-color: rgb(200, 200, 200);\"></td><td title=\"Index: [0, 173]&#10;Color: (0, 0, 200)\" style=\"width: 20px; height: 20px;background-color: rgb(0, 0, 200);\"></td><td title=\"Index: [0, 174]&#10;Color: (200, 0, 0)\" style=\"width: 20px; height: 20px;background-color: rgb(200, 0, 0);\"></td><td title=\"Index: [0, 175]&#10;Color: (200, 200, 200)\" style=\"width: 20px; height: 20px;background-color: rgb(200, 200, 200);\"></td><td title=\"Index: [0, 176]&#10;Color: (200, 0, 200)\" style=\"width: 20px; height: 20px;background-color: rgb(200, 0, 200);\"></td><td title=\"Index: [0, 177]&#10;Color: (200, 200, 200)\" style=\"width: 20px; height: 20px;background-color: rgb(200, 200, 200);\"></td><td title=\"Index: [0, 178]&#10;Color: (200, 200, 200)\" style=\"width: 20px; height: 20px;background-color: rgb(200, 200, 200);\"></td><td title=\"Index: [0, 179]&#10;Color: (0, 0, 200)\" style=\"width: 20px; height: 20px;background-color: rgb(0, 0, 200);\"></td><td title=\"Index: [0, 180]&#10;Color: (200, 200, 200)\" style=\"width: 20px; height: 20px;background-color: rgb(200, 200, 200);\"></td><td title=\"Index: [0, 181]&#10;Color: (200, 0, 0)\" style=\"width: 20px; height: 20px;background-color: rgb(200, 0, 0);\"></td><td title=\"Index: [0, 182]&#10;Color: (200, 0, 0)\" style=\"width: 20px; height: 20px;background-color: rgb(200, 0, 0);\"></td><td title=\"Index: [0, 183]&#10;Color: (200, 200, 200)\" style=\"width: 20px; height: 20px;background-color: rgb(200, 200, 200);\"></td><td title=\"Index: [0, 184]&#10;Color: (200, 0, 0)\" style=\"width: 20px; height: 20px;background-color: rgb(200, 0, 0);\"></td><td title=\"Index: [0, 185]&#10;Color: (200, 0, 200)\" style=\"width: 20px; height: 20px;background-color: rgb(200, 0, 200);\"></td><td title=\"Index: [0, 186]&#10;Color: (0, 0, 200)\" style=\"width: 20px; height: 20px;background-color: rgb(0, 0, 200);\"></td><td title=\"Index: [0, 187]&#10;Color: (200, 200, 200)\" style=\"width: 20px; height: 20px;background-color: rgb(200, 200, 200);\"></td><td title=\"Index: [0, 188]&#10;Color: (200, 200, 200)\" style=\"width: 20px; height: 20px;background-color: rgb(200, 200, 200);\"></td><td title=\"Index: [0, 189]&#10;Color: (200, 0, 0)\" style=\"width: 20px; height: 20px;background-color: rgb(200, 0, 0);\"></td><td title=\"Index: [0, 190]&#10;Color: (200, 200, 200)\" style=\"width: 20px; height: 20px;background-color: rgb(200, 200, 200);\"></td><td title=\"Index: [0, 191]&#10;Color: (0, 0, 200)\" style=\"width: 20px; height: 20px;background-color: rgb(0, 0, 200);\"></td><td title=\"Index: [0, 192]&#10;Color: (200, 200, 200)\" style=\"width: 20px; height: 20px;background-color: rgb(200, 200, 200);\"></td><td title=\"Index: [0, 193]&#10;Color: (200, 200, 200)\" style=\"width: 20px; height: 20px;background-color: rgb(200, 200, 200);\"></td><td title=\"Index: [0, 194]&#10;Color: (200, 200, 200)\" style=\"width: 20px; height: 20px;background-color: rgb(200, 200, 200);\"></td><td title=\"Index: [0, 195]&#10;Color: (0, 0, 200)\" style=\"width: 20px; height: 20px;background-color: rgb(0, 0, 200);\"></td><td title=\"Index: [0, 196]&#10;Color: (200, 200, 200)\" style=\"width: 20px; height: 20px;background-color: rgb(200, 200, 200);\"></td><td title=\"Index: [0, 197]&#10;Color: (200, 200, 200)\" style=\"width: 20px; height: 20px;background-color: rgb(200, 200, 200);\"></td><td title=\"Index: [0, 198]&#10;Color: (200, 200, 200)\" style=\"width: 20px; height: 20px;background-color: rgb(200, 200, 200);\"></td><td title=\"Index: [0, 199]&#10;Color: (200, 200, 200)\" style=\"width: 20px; height: 20px;background-color: rgb(200, 200, 200);\"></td><td title=\"Index: [0, 200]&#10;Color: (200, 200, 200)\" style=\"width: 20px; height: 20px;background-color: rgb(200, 200, 200);\"></td><td title=\"Index: [0, 201]&#10;Color: (200, 200, 200)\" style=\"width: 20px; height: 20px;background-color: rgb(200, 200, 200);\"></td><td title=\"Index: [0, 202]&#10;Color: (200, 200, 200)\" style=\"width: 20px; height: 20px;background-color: rgb(200, 200, 200);\"></td><td title=\"Index: [0, 203]&#10;Color: (200, 0, 0)\" style=\"width: 20px; height: 20px;background-color: rgb(200, 0, 0);\"></td><td title=\"Index: [0, 204]&#10;Color: (200, 200, 200)\" style=\"width: 20px; height: 20px;background-color: rgb(200, 200, 200);\"></td><td title=\"Index: [0, 205]&#10;Color: (200, 0, 0)\" style=\"width: 20px; height: 20px;background-color: rgb(200, 0, 0);\"></td><td title=\"Index: [0, 206]&#10;Color: (200, 200, 200)\" style=\"width: 20px; height: 20px;background-color: rgb(200, 200, 200);\"></td><td title=\"Index: [0, 207]&#10;Color: (0, 0, 200)\" style=\"width: 20px; height: 20px;background-color: rgb(0, 0, 200);\"></td><td title=\"Index: [0, 208]&#10;Color: (200, 0, 0)\" style=\"width: 20px; height: 20px;background-color: rgb(200, 0, 0);\"></td><td title=\"Index: [0, 209]&#10;Color: (200, 200, 200)\" style=\"width: 20px; height: 20px;background-color: rgb(200, 200, 200);\"></td><td title=\"Index: [0, 210]&#10;Color: (0, 0, 200)\" style=\"width: 20px; height: 20px;background-color: rgb(0, 0, 200);\"></td><td title=\"Index: [0, 211]&#10;Color: (0, 0, 200)\" style=\"width: 20px; height: 20px;background-color: rgb(0, 0, 200);\"></td><td title=\"Index: [0, 212]&#10;Color: (200, 200, 200)\" style=\"width: 20px; height: 20px;background-color: rgb(200, 200, 200);\"></td><td title=\"Index: [0, 213]&#10;Color: (200, 200, 200)\" style=\"width: 20px; height: 20px;background-color: rgb(200, 200, 200);\"></td><td title=\"Index: [0, 214]&#10;Color: (200, 0, 0)\" style=\"width: 20px; height: 20px;background-color: rgb(200, 0, 0);\"></td><td title=\"Index: [0, 215]&#10;Color: (200, 200, 200)\" style=\"width: 20px; height: 20px;background-color: rgb(200, 200, 200);\"></td><td title=\"Index: [0, 216]&#10;Color: (200, 0, 0)\" style=\"width: 20px; height: 20px;background-color: rgb(200, 0, 0);\"></td><td title=\"Index: [0, 217]&#10;Color: (200, 200, 200)\" style=\"width: 20px; height: 20px;background-color: rgb(200, 200, 200);\"></td><td title=\"Index: [0, 218]&#10;Color: (200, 200, 200)\" style=\"width: 20px; height: 20px;background-color: rgb(200, 200, 200);\"></td><td title=\"Index: [0, 219]&#10;Color: (0, 0, 200)\" style=\"width: 20px; height: 20px;background-color: rgb(0, 0, 200);\"></td><td title=\"Index: [0, 220]&#10;Color: (200, 200, 200)\" style=\"width: 20px; height: 20px;background-color: rgb(200, 200, 200);\"></td><td title=\"Index: [0, 221]&#10;Color: (200, 0, 0)\" style=\"width: 20px; height: 20px;background-color: rgb(200, 0, 0);\"></td><td title=\"Index: [0, 222]&#10;Color: (200, 200, 200)\" style=\"width: 20px; height: 20px;background-color: rgb(200, 200, 200);\"></td><td title=\"Index: [0, 223]&#10;Color: (200, 0, 0)\" style=\"width: 20px; height: 20px;background-color: rgb(200, 0, 0);\"></td><td title=\"Index: [0, 224]&#10;Color: (200, 0, 0)\" style=\"width: 20px; height: 20px;background-color: rgb(200, 0, 0);\"></td><td title=\"Index: [0, 225]&#10;Color: (200, 200, 200)\" style=\"width: 20px; height: 20px;background-color: rgb(200, 200, 200);\"></td><td title=\"Index: [0, 226]&#10;Color: (200, 200, 200)\" style=\"width: 20px; height: 20px;background-color: rgb(200, 200, 200);\"></td><td title=\"Index: [0, 227]&#10;Color: (200, 0, 0)\" style=\"width: 20px; height: 20px;background-color: rgb(200, 0, 0);\"></td><td title=\"Index: [0, 228]&#10;Color: (200, 0, 0)\" style=\"width: 20px; height: 20px;background-color: rgb(200, 0, 0);\"></td><td title=\"Index: [0, 229]&#10;Color: (200, 200, 200)\" style=\"width: 20px; height: 20px;background-color: rgb(200, 200, 200);\"></td><td title=\"Index: [0, 230]&#10;Color: (200, 200, 200)\" style=\"width: 20px; height: 20px;background-color: rgb(200, 200, 200);\"></td><td title=\"Index: [0, 231]&#10;Color: (200, 0, 0)\" style=\"width: 20px; height: 20px;background-color: rgb(200, 0, 0);\"></td><td title=\"Index: [0, 232]&#10;Color: (200, 200, 200)\" style=\"width: 20px; height: 20px;background-color: rgb(200, 200, 200);\"></td><td title=\"Index: [0, 233]&#10;Color: (200, 200, 200)\" style=\"width: 20px; height: 20px;background-color: rgb(200, 200, 200);\"></td><td title=\"Index: [0, 234]&#10;Color: (200, 200, 200)\" style=\"width: 20px; height: 20px;background-color: rgb(200, 200, 200);\"></td><td title=\"Index: [0, 235]&#10;Color: (200, 200, 200)\" style=\"width: 20px; height: 20px;background-color: rgb(200, 200, 200);\"></td><td title=\"Index: [0, 236]&#10;Color: (200, 200, 200)\" style=\"width: 20px; height: 20px;background-color: rgb(200, 200, 200);\"></td><td title=\"Index: [0, 237]&#10;Color: (200, 0, 200)\" style=\"width: 20px; height: 20px;background-color: rgb(200, 0, 200);\"></td><td title=\"Index: [0, 238]&#10;Color: (200, 0, 200)\" style=\"width: 20px; height: 20px;background-color: rgb(200, 0, 200);\"></td><td title=\"Index: [0, 239]&#10;Color: (200, 0, 0)\" style=\"width: 20px; height: 20px;background-color: rgb(200, 0, 0);\"></td><td title=\"Index: [0, 240]&#10;Color: (200, 200, 200)\" style=\"width: 20px; height: 20px;background-color: rgb(200, 200, 200);\"></td><td title=\"Index: [0, 241]&#10;Color: (200, 200, 200)\" style=\"width: 20px; height: 20px;background-color: rgb(200, 200, 200);\"></td><td title=\"Index: [0, 242]&#10;Color: (200, 200, 200)\" style=\"width: 20px; height: 20px;background-color: rgb(200, 200, 200);\"></td><td title=\"Index: [0, 243]&#10;Color: (200, 0, 0)\" style=\"width: 20px; height: 20px;background-color: rgb(200, 0, 0);\"></td><td title=\"Index: [0, 244]&#10;Color: (200, 200, 200)\" style=\"width: 20px; height: 20px;background-color: rgb(200, 200, 200);\"></td><td title=\"Index: [0, 245]&#10;Color: (200, 0, 0)\" style=\"width: 20px; height: 20px;background-color: rgb(200, 0, 0);\"></td><td title=\"Index: [0, 246]&#10;Color: (200, 0, 0)\" style=\"width: 20px; height: 20px;background-color: rgb(200, 0, 0);\"></td><td title=\"Index: [0, 247]&#10;Color: (200, 0, 0)\" style=\"width: 20px; height: 20px;background-color: rgb(200, 0, 0);\"></td><td title=\"Index: [0, 248]&#10;Color: (200, 0, 200)\" style=\"width: 20px; height: 20px;background-color: rgb(200, 0, 200);\"></td><td title=\"Index: [0, 249]&#10;Color: (200, 200, 200)\" style=\"width: 20px; height: 20px;background-color: rgb(200, 200, 200);\"></td><td title=\"Index: [0, 250]&#10;Color: (200, 200, 200)\" style=\"width: 20px; height: 20px;background-color: rgb(200, 200, 200);\"></td><td title=\"Index: [0, 251]&#10;Color: (0, 0, 200)\" style=\"width: 20px; height: 20px;background-color: rgb(0, 0, 200);\"></td><td title=\"Index: [0, 252]&#10;Color: (200, 200, 200)\" style=\"width: 20px; height: 20px;background-color: rgb(200, 200, 200);\"></td><td title=\"Index: [0, 253]&#10;Color: (200, 0, 0)\" style=\"width: 20px; height: 20px;background-color: rgb(200, 0, 0);\"></td><td title=\"Index: [0, 254]&#10;Color: (200, 200, 200)\" style=\"width: 20px; height: 20px;background-color: rgb(200, 200, 200);\"></td><td title=\"Index: [0, 255]&#10;Color: (200, 0, 200)\" style=\"width: 20px; height: 20px;background-color: rgb(200, 0, 200);\"></td><td title=\"Index: [0, 256]&#10;Color: (200, 0, 0)\" style=\"width: 20px; height: 20px;background-color: rgb(200, 0, 0);\"></td><td title=\"Index: [0, 257]&#10;Color: (200, 0, 200)\" style=\"width: 20px; height: 20px;background-color: rgb(200, 0, 200);\"></td><td title=\"Index: [0, 258]&#10;Color: (0, 0, 200)\" style=\"width: 20px; height: 20px;background-color: rgb(0, 0, 200);\"></td><td title=\"Index: [0, 259]&#10;Color: (200, 0, 0)\" style=\"width: 20px; height: 20px;background-color: rgb(200, 0, 0);\"></td><td title=\"Index: [0, 260]&#10;Color: (0, 0, 200)\" style=\"width: 20px; height: 20px;background-color: rgb(0, 0, 200);\"></td><td title=\"Index: [0, 261]&#10;Color: (200, 0, 200)\" style=\"width: 20px; height: 20px;background-color: rgb(200, 0, 200);\"></td><td title=\"Index: [0, 262]&#10;Color: (200, 200, 200)\" style=\"width: 20px; height: 20px;background-color: rgb(200, 200, 200);\"></td><td title=\"Index: [0, 263]&#10;Color: (0, 0, 200)\" style=\"width: 20px; height: 20px;background-color: rgb(0, 0, 200);\"></td><td title=\"Index: [0, 264]&#10;Color: (200, 200, 200)\" style=\"width: 20px; height: 20px;background-color: rgb(200, 200, 200);\"></td><td title=\"Index: [0, 265]&#10;Color: (0, 0, 200)\" style=\"width: 20px; height: 20px;background-color: rgb(0, 0, 200);\"></td><td title=\"Index: [0, 266]&#10;Color: (200, 200, 200)\" style=\"width: 20px; height: 20px;background-color: rgb(200, 200, 200);\"></td><td title=\"Index: [0, 267]&#10;Color: (0, 0, 200)\" style=\"width: 20px; height: 20px;background-color: rgb(0, 0, 200);\"></td><td title=\"Index: [0, 268]&#10;Color: (0, 0, 200)\" style=\"width: 20px; height: 20px;background-color: rgb(0, 0, 200);\"></td><td title=\"Index: [0, 269]&#10;Color: (200, 200, 200)\" style=\"width: 20px; height: 20px;background-color: rgb(200, 200, 200);\"></td><td title=\"Index: [0, 270]&#10;Color: (200, 200, 200)\" style=\"width: 20px; height: 20px;background-color: rgb(200, 200, 200);\"></td><td title=\"Index: [0, 271]&#10;Color: (200, 200, 200)\" style=\"width: 20px; height: 20px;background-color: rgb(200, 200, 200);\"></td><td title=\"Index: [0, 272]&#10;Color: (200, 200, 200)\" style=\"width: 20px; height: 20px;background-color: rgb(200, 200, 200);\"></td><td title=\"Index: [0, 273]&#10;Color: (0, 0, 200)\" style=\"width: 20px; height: 20px;background-color: rgb(0, 0, 200);\"></td><td title=\"Index: [0, 274]&#10;Color: (200, 0, 0)\" style=\"width: 20px; height: 20px;background-color: rgb(200, 0, 0);\"></td><td title=\"Index: [0, 275]&#10;Color: (200, 200, 200)\" style=\"width: 20px; height: 20px;background-color: rgb(200, 200, 200);\"></td><td title=\"Index: [0, 276]&#10;Color: (200, 200, 200)\" style=\"width: 20px; height: 20px;background-color: rgb(200, 200, 200);\"></td><td title=\"Index: [0, 277]&#10;Color: (200, 0, 200)\" style=\"width: 20px; height: 20px;background-color: rgb(200, 0, 200);\"></td><td title=\"Index: [0, 278]&#10;Color: (200, 0, 0)\" style=\"width: 20px; height: 20px;background-color: rgb(200, 0, 0);\"></td><td title=\"Index: [0, 279]&#10;Color: (0, 0, 200)\" style=\"width: 20px; height: 20px;background-color: rgb(0, 0, 200);\"></td><td title=\"Index: [0, 280]&#10;Color: (200, 200, 200)\" style=\"width: 20px; height: 20px;background-color: rgb(200, 200, 200);\"></td><td title=\"Index: [0, 281]&#10;Color: (200, 0, 0)\" style=\"width: 20px; height: 20px;background-color: rgb(200, 0, 0);\"></td><td title=\"Index: [0, 282]&#10;Color: (200, 200, 200)\" style=\"width: 20px; height: 20px;background-color: rgb(200, 200, 200);\"></td><td title=\"Index: [0, 283]&#10;Color: (200, 200, 200)\" style=\"width: 20px; height: 20px;background-color: rgb(200, 200, 200);\"></td><td title=\"Index: [0, 284]&#10;Color: (0, 0, 200)\" style=\"width: 20px; height: 20px;background-color: rgb(0, 0, 200);\"></td><td title=\"Index: [0, 285]&#10;Color: (200, 0, 0)\" style=\"width: 20px; height: 20px;background-color: rgb(200, 0, 0);\"></td><td title=\"Index: [0, 286]&#10;Color: (200, 200, 200)\" style=\"width: 20px; height: 20px;background-color: rgb(200, 200, 200);\"></td><td title=\"Index: [0, 287]&#10;Color: (200, 0, 200)\" style=\"width: 20px; height: 20px;background-color: rgb(200, 0, 200);\"></td><td title=\"Index: [0, 288]&#10;Color: (0, 0, 200)\" style=\"width: 20px; height: 20px;background-color: rgb(0, 0, 200);\"></td><td title=\"Index: [0, 289]&#10;Color: (200, 0, 200)\" style=\"width: 20px; height: 20px;background-color: rgb(200, 0, 200);\"></td><td title=\"Index: [0, 290]&#10;Color: (0, 0, 200)\" style=\"width: 20px; height: 20px;background-color: rgb(0, 0, 200);\"></td><td title=\"Index: [0, 291]&#10;Color: (0, 0, 200)\" style=\"width: 20px; height: 20px;background-color: rgb(0, 0, 200);\"></td><td title=\"Index: [0, 292]&#10;Color: (200, 200, 200)\" style=\"width: 20px; height: 20px;background-color: rgb(200, 200, 200);\"></td></tr></tbody></table>",
          "text/plain": "<ipythonblocks.ipythonblocks.BlockGrid at 0x7f694008d860>"
         },
         "metadata": {},
         "output_type": "display_data"
        }
       ]
      }
     },
     "fb95b270e9ce41538de800a4921cf982": {
      "model_module": "@jupyter-widgets/controls",
      "model_module_version": "1.2.0",
      "model_name": "CheckboxModel",
      "state": {
       "description": "focusEstBoursier",
       "disabled": false,
       "layout": "IPY_MODEL_bd1e9045e0b74596908789468775e28e",
       "style": "IPY_MODEL_2bf37db874b44eaface2d38581e631de",
       "value": false
      }
     },
     "fbe91de6ec2748f686058807048d9442": {
      "model_module": "@jupyter-widgets/controls",
      "model_module_version": "1.2.0",
      "model_name": "IntSliderModel",
      "state": {
       "description": "tauxResidents",
       "layout": "IPY_MODEL_d68aae10d4bf4263bd02e383f0f04c7b",
       "style": "IPY_MODEL_0cc0f93c539a4d49a9181bb0f485cb78",
       "value": 20
      }
     },
     "fc1b83cde2a24da58889abe89c6ce05b": {
      "model_module": "@jupyter-widgets/output",
      "model_module_version": "1.0.0",
      "model_name": "OutputModel",
      "state": {
       "layout": "IPY_MODEL_ac6e928ae2604c1f9f2a6e2eee6ecffc",
       "outputs": [
        {
         "name": "stdout",
         "output_type": "stream",
         "text": "Visualisation de l'algorithme de calcul de l'ordre d'appel.\n1. Vœux non triés par rang :\n"
        },
        {
         "data": {
          "text/html": "<style type=\"text/css\">table.blockgrid {border: none;} .blockgrid tr {border: none;} .blockgrid td {padding: 0px;} #blocks7e29a0d7-643d-4992-8612-251901cebb22 td {border: 1px solid white;}</style><table id=\"blocks7e29a0d7-643d-4992-8612-251901cebb22\" class=\"blockgrid\"><tbody><tr><td title=\"Index: [0, 0]&#10;Color: (200, 200, 200)\" style=\"width: 20px; height: 20px;background-color: rgb(200, 200, 200);\"></td><td title=\"Index: [0, 1]&#10;Color: (200, 200, 200)\" style=\"width: 20px; height: 20px;background-color: rgb(200, 200, 200);\"></td><td title=\"Index: [0, 2]&#10;Color: (200, 200, 200)\" style=\"width: 20px; height: 20px;background-color: rgb(200, 200, 200);\"></td><td title=\"Index: [0, 3]&#10;Color: (0, 0, 200)\" style=\"width: 20px; height: 20px;background-color: rgb(0, 0, 200);\"></td><td title=\"Index: [0, 4]&#10;Color: (200, 200, 200)\" style=\"width: 20px; height: 20px;background-color: rgb(200, 200, 200);\"></td><td title=\"Index: [0, 5]&#10;Color: (240, 240, 240)\" style=\"width: 20px; height: 20px;background-color: rgb(240, 240, 240);\"></td><td title=\"Index: [0, 6]&#10;Color: (200, 200, 200)\" style=\"width: 20px; height: 20px;background-color: rgb(200, 200, 200);\"></td><td title=\"Index: [0, 7]&#10;Color: (200, 0, 0)\" style=\"width: 20px; height: 20px;background-color: rgb(200, 0, 0);\"></td><td title=\"Index: [0, 8]&#10;Color: (200, 0, 0)\" style=\"width: 20px; height: 20px;background-color: rgb(200, 0, 0);\"></td><td title=\"Index: [0, 9]&#10;Color: (200, 200, 200)\" style=\"width: 20px; height: 20px;background-color: rgb(200, 200, 200);\"></td><td title=\"Index: [0, 10]&#10;Color: (0, 0, 200)\" style=\"width: 20px; height: 20px;background-color: rgb(0, 0, 200);\"></td><td title=\"Index: [0, 11]&#10;Color: (200, 0, 0)\" style=\"width: 20px; height: 20px;background-color: rgb(200, 0, 0);\"></td><td title=\"Index: [0, 12]&#10;Color: (200, 0, 200)\" style=\"width: 20px; height: 20px;background-color: rgb(200, 0, 200);\"></td><td title=\"Index: [0, 13]&#10;Color: (200, 200, 200)\" style=\"width: 20px; height: 20px;background-color: rgb(200, 200, 200);\"></td><td title=\"Index: [0, 14]&#10;Color: (200, 200, 200)\" style=\"width: 20px; height: 20px;background-color: rgb(200, 200, 200);\"></td><td title=\"Index: [0, 15]&#10;Color: (200, 200, 200)\" style=\"width: 20px; height: 20px;background-color: rgb(200, 200, 200);\"></td><td title=\"Index: [0, 16]&#10;Color: (200, 200, 200)\" style=\"width: 20px; height: 20px;background-color: rgb(200, 200, 200);\"></td><td title=\"Index: [0, 17]&#10;Color: (200, 200, 200)\" style=\"width: 20px; height: 20px;background-color: rgb(200, 200, 200);\"></td><td title=\"Index: [0, 18]&#10;Color: (0, 0, 200)\" style=\"width: 20px; height: 20px;background-color: rgb(0, 0, 200);\"></td></tr></tbody></table>",
          "text/plain": "<ipythonblocks.ipythonblocks.BlockGrid at 0x7fa2b44a2940>"
         },
         "metadata": {},
         "output_type": "display_data"
        },
        {
         "name": "stdout",
         "output_type": "stream",
         "text": "2. Vœux triés par rang, mais pas par l'algorithme :\n"
        },
        {
         "data": {
          "text/html": "<style type=\"text/css\">table.blockgrid {border: none;} .blockgrid tr {border: none;} .blockgrid td {padding: 0px;} #blocks65e1a49c-c6ab-4320-85da-41481a8a9e5e td {border: 1px solid white;}</style><table id=\"blocks65e1a49c-c6ab-4320-85da-41481a8a9e5e\" class=\"blockgrid\"><tbody><tr><td title=\"Index: [0, 0]&#10;Color: (240, 240, 240)\" style=\"width: 20px; height: 20px;background-color: rgb(240, 240, 240);\"></td><td title=\"Index: [0, 1]&#10;Color: (200, 0, 0)\" style=\"width: 20px; height: 20px;background-color: rgb(200, 0, 0);\"></td><td title=\"Index: [0, 2]&#10;Color: (200, 200, 200)\" style=\"width: 20px; height: 20px;background-color: rgb(200, 200, 200);\"></td><td title=\"Index: [0, 3]&#10;Color: (200, 200, 200)\" style=\"width: 20px; height: 20px;background-color: rgb(200, 200, 200);\"></td><td title=\"Index: [0, 4]&#10;Color: (200, 200, 200)\" style=\"width: 20px; height: 20px;background-color: rgb(200, 200, 200);\"></td><td title=\"Index: [0, 5]&#10;Color: (200, 200, 200)\" style=\"width: 20px; height: 20px;background-color: rgb(200, 200, 200);\"></td><td title=\"Index: [0, 6]&#10;Color: (200, 200, 200)\" style=\"width: 20px; height: 20px;background-color: rgb(200, 200, 200);\"></td><td title=\"Index: [0, 7]&#10;Color: (200, 200, 200)\" style=\"width: 20px; height: 20px;background-color: rgb(200, 200, 200);\"></td><td title=\"Index: [0, 8]&#10;Color: (200, 0, 0)\" style=\"width: 20px; height: 20px;background-color: rgb(200, 0, 0);\"></td><td title=\"Index: [0, 9]&#10;Color: (0, 0, 200)\" style=\"width: 20px; height: 20px;background-color: rgb(0, 0, 200);\"></td><td title=\"Index: [0, 10]&#10;Color: (200, 200, 200)\" style=\"width: 20px; height: 20px;background-color: rgb(200, 200, 200);\"></td><td title=\"Index: [0, 11]&#10;Color: (200, 200, 200)\" style=\"width: 20px; height: 20px;background-color: rgb(200, 200, 200);\"></td><td title=\"Index: [0, 12]&#10;Color: (200, 0, 200)\" style=\"width: 20px; height: 20px;background-color: rgb(200, 0, 200);\"></td><td title=\"Index: [0, 13]&#10;Color: (200, 0, 0)\" style=\"width: 20px; height: 20px;background-color: rgb(200, 0, 0);\"></td><td title=\"Index: [0, 14]&#10;Color: (200, 200, 200)\" style=\"width: 20px; height: 20px;background-color: rgb(200, 200, 200);\"></td><td title=\"Index: [0, 15]&#10;Color: (0, 0, 200)\" style=\"width: 20px; height: 20px;background-color: rgb(0, 0, 200);\"></td><td title=\"Index: [0, 16]&#10;Color: (0, 0, 200)\" style=\"width: 20px; height: 20px;background-color: rgb(0, 0, 200);\"></td><td title=\"Index: [0, 17]&#10;Color: (200, 200, 200)\" style=\"width: 20px; height: 20px;background-color: rgb(200, 200, 200);\"></td><td title=\"Index: [0, 18]&#10;Color: (200, 200, 200)\" style=\"width: 20px; height: 20px;background-color: rgb(200, 200, 200);\"></td></tr></tbody></table>",
          "text/plain": "<ipythonblocks.ipythonblocks.BlockGrid at 0x7fa2b44a2940>"
         },
         "metadata": {},
         "output_type": "display_data"
        },
        {
         "name": "stdout",
         "output_type": "stream",
         "text": "3. Vœux triés par l'algorithme :\n"
        },
        {
         "data": {
          "text/html": "<style type=\"text/css\">table.blockgrid {border: none;} .blockgrid tr {border: none;} .blockgrid td {padding: 0px;} #blocksc5767cde-3e21-4744-851b-d518058345b5 td {border: 1px solid white;}</style><table id=\"blocksc5767cde-3e21-4744-851b-d518058345b5\" class=\"blockgrid\"><tbody><tr><td title=\"Index: [0, 0]&#10;Color: (200, 0, 0)\" style=\"width: 20px; height: 20px;background-color: rgb(200, 0, 0);\"></td><td title=\"Index: [0, 1]&#10;Color: (240, 240, 240)\" style=\"width: 20px; height: 20px;background-color: rgb(240, 240, 240);\"></td><td title=\"Index: [0, 2]&#10;Color: (200, 200, 200)\" style=\"width: 20px; height: 20px;background-color: rgb(200, 200, 200);\"></td><td title=\"Index: [0, 3]&#10;Color: (200, 200, 200)\" style=\"width: 20px; height: 20px;background-color: rgb(200, 200, 200);\"></td><td title=\"Index: [0, 4]&#10;Color: (200, 200, 200)\" style=\"width: 20px; height: 20px;background-color: rgb(200, 200, 200);\"></td><td title=\"Index: [0, 5]&#10;Color: (200, 200, 200)\" style=\"width: 20px; height: 20px;background-color: rgb(200, 200, 200);\"></td><td title=\"Index: [0, 6]&#10;Color: (200, 200, 200)\" style=\"width: 20px; height: 20px;background-color: rgb(200, 200, 200);\"></td><td title=\"Index: [0, 7]&#10;Color: (200, 200, 200)\" style=\"width: 20px; height: 20px;background-color: rgb(200, 200, 200);\"></td><td title=\"Index: [0, 8]&#10;Color: (200, 0, 0)\" style=\"width: 20px; height: 20px;background-color: rgb(200, 0, 0);\"></td><td title=\"Index: [0, 9]&#10;Color: (0, 0, 200)\" style=\"width: 20px; height: 20px;background-color: rgb(0, 0, 200);\"></td><td title=\"Index: [0, 10]&#10;Color: (200, 200, 200)\" style=\"width: 20px; height: 20px;background-color: rgb(200, 200, 200);\"></td><td title=\"Index: [0, 11]&#10;Color: (200, 200, 200)\" style=\"width: 20px; height: 20px;background-color: rgb(200, 200, 200);\"></td><td title=\"Index: [0, 12]&#10;Color: (200, 0, 200)\" style=\"width: 20px; height: 20px;background-color: rgb(200, 0, 200);\"></td><td title=\"Index: [0, 13]&#10;Color: (200, 0, 0)\" style=\"width: 20px; height: 20px;background-color: rgb(200, 0, 0);\"></td><td title=\"Index: [0, 14]&#10;Color: (200, 200, 200)\" style=\"width: 20px; height: 20px;background-color: rgb(200, 200, 200);\"></td><td title=\"Index: [0, 15]&#10;Color: (0, 0, 200)\" style=\"width: 20px; height: 20px;background-color: rgb(0, 0, 200);\"></td><td title=\"Index: [0, 16]&#10;Color: (0, 0, 200)\" style=\"width: 20px; height: 20px;background-color: rgb(0, 0, 200);\"></td><td title=\"Index: [0, 17]&#10;Color: (200, 200, 200)\" style=\"width: 20px; height: 20px;background-color: rgb(200, 200, 200);\"></td><td title=\"Index: [0, 18]&#10;Color: (200, 200, 200)\" style=\"width: 20px; height: 20px;background-color: rgb(200, 200, 200);\"></td></tr></tbody></table>",
          "text/plain": "<ipythonblocks.ipythonblocks.BlockGrid at 0x7fa2b44a2940>"
         },
         "metadata": {},
         "output_type": "display_data"
        }
       ]
      }
     },
     "fcc62575305c4558abdd9ba7ebe4767a": {
      "model_module": "@jupyter-widgets/controls",
      "model_module_version": "1.2.0",
      "model_name": "CheckboxModel",
      "state": {
       "description": "focusEstBoursier",
       "disabled": false,
       "layout": "IPY_MODEL_cf55eaaa76864703acd54e40711d8580",
       "style": "IPY_MODEL_69d943a16c784735a5b56296fa4465d5",
       "value": false
      }
     },
     "fde4a56cfef945a39c43dd0fcfb28c11": {
      "model_module": "@jupyter-widgets/base",
      "model_module_version": "1.0.0",
      "model_name": "LayoutModel",
      "state": {}
     },
     "fe2d8eddfcfb4bfa80049c0ce5a3fa3b": {
      "model_module": "@jupyter-widgets/base",
      "model_module_version": "1.0.0",
      "model_name": "LayoutModel",
      "state": {}
     },
     "fe828f9b12194a39883967e90187e686": {
      "model_module": "@jupyter-widgets/base",
      "model_module_version": "1.0.0",
      "model_name": "LayoutModel",
      "state": {}
     },
     "fec297d1f43c4e4b8795831af4a6f6a6": {
      "model_module": "@jupyter-widgets/base",
      "model_module_version": "1.0.0",
      "model_name": "LayoutModel",
      "state": {}
     },
     "ff0988615087409d9b7a44d14228b154": {
      "model_module": "@jupyter-widgets/controls",
      "model_module_version": "1.2.0",
      "model_name": "SliderStyleModel",
      "state": {
       "description_width": ""
      }
     },
     "ff39f9d955714dc391743fcc523d1148": {
      "model_module": "@jupyter-widgets/base",
      "model_module_version": "1.0.0",
      "model_name": "LayoutModel",
      "state": {}
     }
    },
    "version_major": 2,
    "version_minor": 0
   }
  }
 },
 "nbformat": 4,
 "nbformat_minor": 2
}
