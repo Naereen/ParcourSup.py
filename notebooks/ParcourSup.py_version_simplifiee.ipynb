{
 "cells": [
  {
   "cell_type": "markdown",
   "metadata": {
    "toc": "true"
   },
   "source": [
    "# Table of Contents\n",
    " <p><div class=\"lev1 toc-item\"><a href=\"#Implémentation-simplifiée-des-algorithmes-de-ParcourSup\" data-toc-modified-id=\"Implémentation-simplifiée-des-algorithmes-de-ParcourSup-1\"><span class=\"toc-item-num\">1&nbsp;&nbsp;</span>Implémentation simplifiée des algorithmes de ParcourSup</a></div><div class=\"lev2 toc-item\"><a href=\"#Algorithme-1-:-Ordre-d'appel\" data-toc-modified-id=\"Algorithme-1-:-Ordre-d'appel-11\"><span class=\"toc-item-num\">1.1&nbsp;&nbsp;</span>Algorithme 1 : Ordre d'appel</a></div><div class=\"lev3 toc-item\"><a href=\"#Types-de-candidats\" data-toc-modified-id=\"Types-de-candidats-111\"><span class=\"toc-item-num\">1.1.1&nbsp;&nbsp;</span>Types de candidats</a></div><div class=\"lev3 toc-item\"><a href=\"#Un-vœu\" data-toc-modified-id=\"Un-vœu-112\"><span class=\"toc-item-num\">1.1.2&nbsp;&nbsp;</span>Un vœu</a></div><div class=\"lev3 toc-item\"><a href=\"#Une-liste-de-vœux\" data-toc-modified-id=\"Une-liste-de-vœux-113\"><span class=\"toc-item-num\">1.1.3&nbsp;&nbsp;</span>Une liste de vœux</a></div><div class=\"lev3 toc-item\"><a href=\"#Contraintes\" data-toc-modified-id=\"Contraintes-114\"><span class=\"toc-item-num\">1.1.4&nbsp;&nbsp;</span>Contraintes</a></div><div class=\"lev3 toc-item\"><a href=\"#Algorithme\" data-toc-modified-id=\"Algorithme-115\"><span class=\"toc-item-num\">1.1.5&nbsp;&nbsp;</span>Algorithme</a></div><div class=\"lev3 toc-item\"><a href=\"#Exemple-(A1)\" data-toc-modified-id=\"Exemple-(A1)-116\"><span class=\"toc-item-num\">1.1.6&nbsp;&nbsp;</span>Exemple (A1)</a></div><div class=\"lev3 toc-item\"><a href=\"#Visualisation-interactive\" data-toc-modified-id=\"Visualisation-interactive-117\"><span class=\"toc-item-num\">1.1.7&nbsp;&nbsp;</span>Visualisation interactive</a></div><div class=\"lev3 toc-item\"><a href=\"#Autres-exemples-(A2,-A4)\" data-toc-modified-id=\"Autres-exemples-(A2,-A4)-118\"><span class=\"toc-item-num\">1.1.8&nbsp;&nbsp;</span>Autres exemples (A2, A4)</a></div><div class=\"lev4 toc-item\"><a href=\"#A2-:-2%-de-boursiers-ères\" data-toc-modified-id=\"A2-:-2%-de-boursiers-ères-1181\"><span class=\"toc-item-num\">1.1.8.1&nbsp;&nbsp;</span>A2 : 2% de boursiers-ères</a></div><div class=\"lev4 toc-item\"><a href=\"#A4-:-10%-de-boursiers-ères\" data-toc-modified-id=\"A4-:-10%-de-boursiers-ères-1182\"><span class=\"toc-item-num\">1.1.8.2&nbsp;&nbsp;</span>A4 : 10% de boursiers-ères</a></div><div class=\"lev3 toc-item\"><a href=\"#Visualisations-colorées\" data-toc-modified-id=\"Visualisations-colorées-119\"><span class=\"toc-item-num\">1.1.9&nbsp;&nbsp;</span>Visualisations colorées</a></div><div class=\"lev3 toc-item\"><a href=\"#Entrée-aléatoire\" data-toc-modified-id=\"Entrée-aléatoire-1110\"><span class=\"toc-item-num\">1.1.10&nbsp;&nbsp;</span>Entrée aléatoire</a></div><div class=\"lev2 toc-item\"><a href=\"#Algorithme-2-:-Calcul-des-propositions\" data-toc-modified-id=\"Algorithme-2-:-Calcul-des-propositions-12\"><span class=\"toc-item-num\">1.2&nbsp;&nbsp;</span>Algorithme 2 : Calcul des propositions</a></div><div class=\"lev2 toc-item\"><a href=\"#Conclusion\" data-toc-modified-id=\"Conclusion-13\"><span class=\"toc-item-num\">1.3&nbsp;&nbsp;</span>Conclusion</a></div>"
   ]
  },
  {
   "cell_type": "markdown",
   "metadata": {},
   "source": [
    "# Implémentation simplifiée des algorithmes de ParcourSup\n",
    "\n",
    "> - Pour plus de détails, voir [le projet sur GitHub](https://github.com/Naereen/ParcourSup.py/).\n",
    "> - Auteur(s) : [Lilian Besson](https://github.com/Naereen/) et [Bastien Trotobas](https://github.com/BastienTr).\n",
    "> - Date : Juillet 2018.\n",
    "> - Licence : [MIT](https://lbesson.mit-license.org/)"
   ]
  },
  {
   "cell_type": "markdown",
   "metadata": {},
   "source": [
    "On utilise Python 3 dans ce document. Je vous conseille de le lire interactivement, en cliquant sur ce bouton là :\n",
    "\n",
    "[![FIXME ajouter lien MyBinder](FIXME ajouter lien MyBinder)](FIXME ajouter lien MyBinder)"
   ]
  },
  {
   "cell_type": "code",
   "execution_count": 1,
   "metadata": {},
   "outputs": [
    {
     "name": "stdout",
     "output_type": "stream",
     "text": [
      "Lilian Besson \n",
      "\n",
      "CPython 3.6.5\n",
      "IPython 6.4.0\n"
     ]
    }
   ],
   "source": [
    "%load_ext watermark\n",
    "%watermark -a \"Lilian Besson\" -v"
   ]
  },
  {
   "cell_type": "markdown",
   "metadata": {},
   "source": [
    "## Algorithme 1 : Ordre d'appel\n",
    "\n",
    "On va donner ici une implémentation simplifiée de la fonction du calcul d'ordre d'appel, avec plusieurs exemples."
   ]
  },
  {
   "cell_type": "markdown",
   "metadata": {},
   "source": [
    "### Types de candidats\n",
    "\n",
    "Un candidat ou une candidate peut être boursier-ère ou non, et résident-e ou non.\n",
    "On a besoin de 4 types de candidats, qu'on représente simplement par un entier."
   ]
  },
  {
   "cell_type": "code",
   "execution_count": 2,
   "metadata": {},
   "outputs": [],
   "source": [
    "# Les différents types de candidats\n",
    "BoursierResident       = 1\n",
    "BoursierNonResident    = 2\n",
    "NonBoursierResident    = 3\n",
    "NonBoursierNonResident = 4"
   ]
  },
  {
   "cell_type": "code",
   "execution_count": 3,
   "metadata": {},
   "outputs": [],
   "source": [
    "# Liste des différents types\n",
    "TypesCandidats = [\n",
    "    BoursierResident,\n",
    "    BoursierNonResident,\n",
    "    NonBoursierResident,\n",
    "    NonBoursierNonResident\n",
    "]"
   ]
  },
  {
   "cell_type": "code",
   "execution_count": 140,
   "metadata": {},
   "outputs": [],
   "source": [
    "def afficheTypeCandidat(typeCandidat):\n",
    "    if typeCandidat == BoursierResident:\n",
    "        return \"BoursierResident\"\n",
    "    elif typeCandidat == BoursierNonResident: \n",
    "        return \"BoursierNonResident\"\n",
    "    elif typeCandidat == NonBoursierResident: \n",
    "        return \"NonBoursierResident\"\n",
    "    elif typeCandidat == NonBoursierNonResident: \n",
    "        return \"NonBoursierNonResident\""
   ]
  },
  {
   "cell_type": "markdown",
   "metadata": {},
   "source": [
    "### Un vœu\n",
    "\n",
    "Ici on représente un vœu comme la donnée d'un type de candidat et d'un rang.\n",
    "On pourrait utiliser un tuple ou une liste, par exemple `[BoursierResident, 1, \"Harry Potter\"]` pour un boursier résident classé 1er et appelé Harry Potter, mais par lisibilité on préfère utiliser un dictionnaire qui contient ces informations :"
   ]
  },
  {
   "cell_type": "markdown",
   "metadata": {},
   "source": [
    "> *POUR NOUS* ne même pas parler de nom mais juste d'identifiant ?"
   ]
  },
  {
   "cell_type": "code",
   "execution_count": 142,
   "metadata": {},
   "outputs": [],
   "source": [
    "exemple_voeu = {\n",
    "    \"type\": BoursierResident,\n",
    "    \"rang\": 1,\n",
    "    \"nom\": \"Harry Potter\"\n",
    "}"
   ]
  },
  {
   "cell_type": "markdown",
   "metadata": {},
   "source": [
    "En fait, on n'utilisera jamais le nom des vœux, parce que *la plateforme ParcourSup ne tient compte d'aucune information sur les vœux ou les candidat-s, à part leur identifiant unique et anonymisé*.\n",
    "\n",
    "On ajoute un nom dans les premiers exemples simplement pour être un peu plus visuel.\n",
    "Les seules chosent que l'algorithme de ParourSup utilise à propos des vœux sont leur type et leur rang.\n",
    "Dans le code ci-dessous, ils seront lu comme ça : `voeu[\"type\"]` et `voeu[\"rang\"]`."
   ]
  },
  {
   "cell_type": "code",
   "execution_count": 143,
   "metadata": {},
   "outputs": [
    {
     "name": "stdout",
     "output_type": "stream",
     "text": [
      "Vœu de type BoursierResident et de rang 1\n"
     ]
    }
   ],
   "source": [
    "print(\"Vœu de type\", afficheTypeCandidat(exemple_voeu[\"type\"]), \"et de rang\", exemple_voeu[\"rang\"])"
   ]
  },
  {
   "cell_type": "markdown",
   "metadata": {},
   "source": [
    "### Une liste de vœux"
   ]
  },
  {
   "cell_type": "markdown",
   "metadata": {},
   "source": [
    "Ensuite, une liste de vœux est une liste de dictionnaires de cette forme.\n",
    "Prenons un exemple avec 8 vœux, qui reprend l'exemple \"A1\" donné dans le document de référence.\n",
    "\n",
    "> Note : les prénoms sont choisis pour être dans l'ordre alphabétique."
   ]
  },
  {
   "cell_type": "code",
   "execution_count": 144,
   "metadata": {},
   "outputs": [],
   "source": [
    "voeu_alice      = { \"type\": NonBoursierNonResident, \"rang\": 1, \"nom\": \"Alice\" }\n",
    "voeu_bob        = { \"type\": NonBoursierNonResident, \"rang\": 2, \"nom\": \"Bob\" }\n",
    "voeu_christophe = { \"type\": NonBoursierNonResident, \"rang\": 3, \"nom\": \"Christophe\" }\n",
    "voeu_dora       = { \"type\": NonBoursierNonResident, \"rang\": 4, \"nom\": \"Dora\" }\n",
    "voeu_emilie     = { \"type\": NonBoursierNonResident, \"rang\": 5, \"nom\": \"Emilie\" }\n",
    "voeu_florian    = { \"type\": BoursierNonResident,    \"rang\": 6, \"nom\": \"Florian\" }\n",
    "voeu_guillaume  = { \"type\": BoursierNonResident,    \"rang\": 7, \"nom\": \"Guillaume\" }\n",
    "voeu_helene     = { \"type\": NonBoursierNonResident, \"rang\": 8, \"nom\": \"Hélène\" }"
   ]
  },
  {
   "cell_type": "markdown",
   "metadata": {},
   "source": [
    "On a juste à les mettre dans une liste ensuite (en Python, une liste commence par `[`, chaque valeur est séparée par `,` et termine par `]`)."
   ]
  },
  {
   "cell_type": "code",
   "execution_count": 145,
   "metadata": {},
   "outputs": [],
   "source": [
    "voeuxClasses = [\n",
    "    voeu_alice, voeu_bob, voeu_christophe, voeu_dora,\n",
    "    voeu_emilie, voeu_florian, voeu_guillaume, voeu_helene\n",
    "    # le retour à la ligne n'est là que pour une meilleure visibilité\n",
    "]"
   ]
  },
  {
   "cell_type": "markdown",
   "metadata": {},
   "source": [
    "On aura besoin de savoir si un type de candidat est boursier ou non (respectivement, est résident ou non)."
   ]
  },
  {
   "cell_type": "code",
   "execution_count": 146,
   "metadata": {},
   "outputs": [],
   "source": [
    "def estBoursier(voeu):\n",
    "    return voeu[\"type\"] == BoursierResident or voeu[\"type\"] == BoursierNonResident"
   ]
  },
  {
   "cell_type": "code",
   "execution_count": 147,
   "metadata": {},
   "outputs": [],
   "source": [
    "def estResident(voeu):\n",
    "    return voeu[\"type\"] == BoursierResident or voeu[\"type\"] == NonBoursierResident"
   ]
  },
  {
   "cell_type": "code",
   "execution_count": 148,
   "metadata": {},
   "outputs": [
    {
     "name": "stdout",
     "output_type": "stream",
     "text": [
      "Le vœu exemple est-il boursier ? True\n",
      "Le vœu exemple est-il résident ? True\n"
     ]
    }
   ],
   "source": [
    "print(\"Le vœu exemple est-il boursier ?\", estBoursier(exemple_voeu))\n",
    "print(\"Le vœu exemple est-il résident ?\", estResident(exemple_voeu))"
   ]
  },
  {
   "cell_type": "markdown",
   "metadata": {},
   "source": [
    "### Contraintes\n",
    "\n",
    "On a besoin de connaître ces deux contraintes, exprimées en pourcentage donné comme un *entier* entre $0$ et $100$.\n",
    "\n",
    "- Par exemple ici, on demandera à avoir au moins 20% de boursiers-ères, mais aucune contrainte sur le taux de résidents-es."
   ]
  },
  {
   "cell_type": "code",
   "execution_count": 149,
   "metadata": {},
   "outputs": [],
   "source": [
    "tauxMinBoursiersPourcents = 20\n",
    "tauxMinResidentsPourcents = 0"
   ]
  },
  {
   "cell_type": "markdown",
   "metadata": {},
   "source": [
    "### Algorithme\n",
    "\n",
    "On devrait avoir tout ce qu'il faut.\n",
    "\n",
    "L'algorithme est présenté comme suit dans [le document de référence](https://framagit.org/parcoursup/algorithmes-de-parcoursup/blob/master/doc/presentation_algorithmes_parcoursup.pdf) :\n",
    "\n",
    "<img src=\"images/Algorithme_CalculOrdreAppel.png\" width=50%>\n",
    "\n",
    "Nous avons essayé de rendre le code suivant le plus clair possible mais il est nécessairement un peu long. Forcez vous à le lire jusqu'au bout !"
   ]
  },
  {
   "cell_type": "code",
   "execution_count": 152,
   "metadata": {
    "code_folding": []
   },
   "outputs": [],
   "source": [
    "def calculerOrdreAppel(\n",
    "        voeuxClasses,\n",
    "        tauxMinBoursiersPourcents,\n",
    "        tauxMinResidentsPourcents,\n",
    "        afficheTout=True\n",
    "    ):\n",
    "    if afficheTout == False:\n",
    "        def affiche(*args, **kwargs): pass\n",
    "    else: affiche = print\n",
    "\n",
    "    affiche(f\"\\n0. On commence à calculer les ordres d'appel pour cette liste de vœux qui contient {len(voeuxClasses)} voeux.\")\n",
    "\n",
    "    affiche(f\"  On crée des listes de vœux pour chaque types de candidats ({TypesCandidats}).\")\n",
    "    # on crée autant de listes de vœux que de types de candidats,\n",
    "    # triées par ordre de classement\n",
    "    filesAttente = {\n",
    "        BoursierResident: [ ],  # liste vide associée à chaque type\n",
    "        BoursierNonResident: [ ],  # liste vide associée à chaque type\n",
    "        NonBoursierResident: [ ],  # liste vide associée à chaque type\n",
    "        NonBoursierNonResident: [ ],  # liste vide associée à chaque type\n",
    "    }\n",
    "\n",
    "    # Chaque voeu classé est ventilé dans la liste correspondante,\n",
    "    # en fonction du type du candidat.\n",
    "    # Les quatre listes obtenues sont ordonnées par rang de classement,\n",
    "    # comme l'est la liste voeuxClasses.\n",
    "    nbBoursiersTotal = 0\n",
    "    nbResidentsTotal = 0\n",
    "\n",
    "    # on trie les vœux par classement\n",
    "    affiche(\"\\n1. On trie les vœux par classement (rang croissant)...\")\n",
    "    affiche(f\"  Avant le tri : {voeuxClasses}...\")\n",
    "    voeuxClasses.sort(key=lambda voeu: -voeu[\"rang\"])\n",
    "    affiche(f\"  Après le tri : {voeuxClasses}...\")\n",
    "\n",
    "    for voeu in voeuxClasses:\n",
    "        # on ajoute le voeu à la fin de la file (FIFO) correspondante\n",
    "        filesAttente[voeu[\"type\"]].append(voeu)\n",
    "        if estBoursier(voeu):\n",
    "            nbBoursiersTotal += 1\n",
    "            affiche(f\"    On compte un-e boursier-e en plus, c'est le {nbBoursiersTotal}ème...\")\n",
    "        if estResident(voeu):\n",
    "            nbResidentsTotal += 1\n",
    "            affiche(f\"    On compte un-e résident-e en plus, c'est le {nbResidentsTotal}ème...\")\n",
    "\n",
    "    nbVoeuxClasses     = len(voeuxClasses)\n",
    "    nbAppeles          = 0\n",
    "    nbBoursiersAppeles = 0\n",
    "    nbResidentsAppeles = 0\n",
    "\n",
    "    # la boucle ajoute les candidats un par un à la liste suivante, dans l'ordre d'appel.\n",
    "    # On commence par un ordre d'appel vide (liste vide).\n",
    "    ordreAppel = [ ]\n",
    "\n",
    "    affiche(f\"\\n2. Début de la boucle while, on remplit l'ordre d'appel...\")\n",
    "\n",
    "    while len(ordreAppel) < nbVoeuxClasses:\n",
    "        affiche(f\"\\n  L'ordre d'appel contient {len(ordreAppel)} éléments et il y a {nbVoeuxClasses} vœux à classer.\")\n",
    "        # on calcule lequel ou lesquels des critères boursiers et résidents\n",
    "        # contraignent le choix du prochain candidat dans l'ordre d'appel\n",
    "\n",
    "        contrainteTauxBoursier = (nbBoursiersAppeles < nbBoursiersTotal) and ((nbBoursiersAppeles * 100) < tauxMinBoursiersPourcents * (nbAppeles + 1))\n",
    "        affiche(f\"  La contrainte sur le taux de boursier-es est {contrainteTauxBoursier}...\")\n",
    "        affiche(f\"      Car il y a pour l'instant {nbBoursiersAppeles} boursier-es appelé-es sur un total de {nbBoursiersTotal}, et ce n'est pas assez pour dépasser le taux de {tauxMinBoursiersPourcents}...\")\n",
    "\n",
    "        contrainteTauxResident = (nbResidentsAppeles < nbResidentsTotal) and ((nbResidentsAppeles * 100) < tauxMinResidentsPourcents * (nbAppeles + 1))\n",
    "        affiche(f\"  La contrainte sur le taux de résident-es est {contrainteTauxResident}...\")\n",
    "        affiche(f\"      Car il y a pour l'instant {nbResidentsAppeles} résident-es appelé-es sur un total de {nbResidentsTotal}, et ce n'est pas assez pour dépasser le taux de {tauxMinResidentsPourcents}...\")\n",
    "\n",
    "        # on fait la liste des voeux satisfaisant\n",
    "        # les deux contraintes à la fois, ordonnée par rang de classement\n",
    "        eligibles = [ ]\n",
    "        for queue in filesAttente.values():\n",
    "            if queue:\n",
    "                voeu = queue[-1]  # le meilleur a été ajouté en dernier\n",
    "                if ((estBoursier(voeu) or not contrainteTauxBoursier)\n",
    "                    and (estResident(voeu) or not contrainteTauxResident)):\n",
    "                    eligibles.append(voeu)\n",
    "        affiche(f\"  Les vœux satisfaisant les deux contraintes à la fois, ordonnés par rang de classement sont :\\n{eligibles}\")\n",
    "\n",
    "        # stocke le meilleur candidat à appeler tout en respectant\n",
    "        # les deux contraintes si possible\n",
    "        # ou à défaut seulement la contrainte sur le taux boursier\n",
    "        meilleur = None\n",
    "\n",
    "        if len(eligibles) > 0:\n",
    "            # on prend le meilleur de cette liste\n",
    "            meilleur = max(eligibles, key=lambda voeu: -voeu[\"rang\"])\n",
    "            affiche(f\"  La liste des éligibles n'est pas vide, donc le-la meilleur-e est le-la meilleur-e de cette liste = {meilleur}\")\n",
    "        else:\n",
    "            # la liste peut être vide dans le cas où les deux contraintes\n",
    "            # ne peuvent être satisfaites à la fois.\n",
    "            # Dans ce cas nécessairement il y a une contrainte sur chacun des deux taux\n",
    "            # (donc au moins un boursier non encore sélectionné)\n",
    "            # et il ne reste plus de boursier résident,\n",
    "            # donc il reste au moins un boursier non résident\n",
    "            CandidatsBoursierNonResident = filesAttente[BoursierNonResident]\n",
    "            meilleur = max(CandidatsBoursierNonResident, key=lambda voeu: -voeu[\"rang\"])\n",
    "            affiche(f\"  La liste des éligibles est pas vide, donc le-la meilleur-e est le-la meilleur-e de la liste des boursier-es non résident-es = {meilleur}\")\n",
    "\n",
    "        # suppression du candidat choisi de sa file d'attente\n",
    "        saFileAttente = filesAttente[meilleur[\"type\"]]\n",
    "        affiche(f\"  On vérifie si le-la meilleur {meilleur} est aussi le-la meilleur-e de sa liste contenant {len(saFileAttente)} candidat-es (du type {meilleur['type']}).\")\n",
    "        meilleur_de_sa_liste = saFileAttente.pop()\n",
    "\n",
    "        # ajout du meilleur candidat à l'ordre d'appel\n",
    "        ordreAppel.append(meilleur)\n",
    "        nbAppeles += 1\n",
    "        affiche(f\"  On ajoute le meilleur {meilleur} à l'ordre d'appel, c'est le-la {nbAppeles}ème à être appelé-e.\")\n",
    "\n",
    "        if estBoursier(meilleur):\n",
    "            nbBoursiersAppeles += 1\n",
    "            affiche(f\"    En plus, c'est le-la {nbBoursiersAppeles}ème boursier-e à être appelé-e.\")\n",
    "        if estResident(meilleur):\n",
    "            nbResidentsAppeles += 1\n",
    "            affiche(f\"    En plus, c'est le-la {nbResidentsAppeles}ème résident-e à être appelé-e.\")\n",
    "\n",
    "    # fin de la boucle while\n",
    "    affiche(f\"\\n3. On a terminé la boucle, on a remplit l'ordre d'appel.\")\n",
    "    return ordreAppel"
   ]
  },
  {
   "cell_type": "markdown",
   "metadata": {},
   "source": [
    "### Exemple (A1)\n",
    "\n",
    "Avec les valeurs prisent ci-dessus comme exemple :"
   ]
  },
  {
   "cell_type": "code",
   "execution_count": 153,
   "metadata": {
    "scrolled": false
   },
   "outputs": [
    {
     "name": "stdout",
     "output_type": "stream",
     "text": [
      "\n",
      "0. On commence à calculer les ordres d'appel pour cette liste de vœux qui contient 8 voeux.\n",
      "  On crée des listes de vœux pour chaque types de candidats ([1, 2, 3, 4]).\n",
      "\n",
      "1. On trie les vœux par classement (rang croissant)...\n",
      "  Avant le tri : [{'type': 4, 'rang': 1, 'nom': 'Alice'}, {'type': 4, 'rang': 2, 'nom': 'Bob'}, {'type': 4, 'rang': 3, 'nom': 'Christophe'}, {'type': 4, 'rang': 4, 'nom': 'Dora'}, {'type': 4, 'rang': 5, 'nom': 'Emilie'}, {'type': 2, 'rang': 6, 'nom': 'Florian'}, {'type': 2, 'rang': 7, 'nom': 'Guillaume'}, {'type': 4, 'rang': 8, 'nom': 'Hélène'}]...\n",
      "  Après le tri : [{'type': 4, 'rang': 8, 'nom': 'Hélène'}, {'type': 2, 'rang': 7, 'nom': 'Guillaume'}, {'type': 2, 'rang': 6, 'nom': 'Florian'}, {'type': 4, 'rang': 5, 'nom': 'Emilie'}, {'type': 4, 'rang': 4, 'nom': 'Dora'}, {'type': 4, 'rang': 3, 'nom': 'Christophe'}, {'type': 4, 'rang': 2, 'nom': 'Bob'}, {'type': 4, 'rang': 1, 'nom': 'Alice'}]...\n",
      "    On compte un-e boursier-e en plus, c'est le 1ème...\n",
      "    On compte un-e boursier-e en plus, c'est le 2ème...\n",
      "\n",
      "2. Début de la boucle while, on remplit l'ordre d'appel...\n",
      "\n",
      "  L'ordre d'appel contient 0 éléments et il y a 8 vœux à classer.\n",
      "  La contrainte sur le taux de boursier-es est True...\n",
      "      Car il y a pour l'instant 0 boursier-es appelé-es sur un total de 2, et ce n'est pas assez pour dépasser le taux de 20...\n",
      "  La contrainte sur le taux de résident-es est False...\n",
      "      Car il y a pour l'instant 0 résident-es appelé-es sur un total de 0, et ce n'est pas assez pour dépasser le taux de 0...\n",
      "  Les vœux satisfaisant les deux contraintes à la fois, ordonnés par rang de classement sont :\n",
      "[{'type': 2, 'rang': 6, 'nom': 'Florian'}]\n",
      "  La liste des éligibles n'est pas vide, donc le-la meilleur-e est le-la meilleur-e de cette liste = {'type': 2, 'rang': 6, 'nom': 'Florian'}\n",
      "  On vérifie si le-la meilleur {'type': 2, 'rang': 6, 'nom': 'Florian'} est aussi le-la meilleur-e de sa liste contenant 2 candidat-es (du type 2).\n",
      "  On ajoute le meilleur {'type': 2, 'rang': 6, 'nom': 'Florian'} à l'ordre d'appel, c'est le-la 1ème à être appelé-e.\n",
      "    En plus, c'est le-la 1ème boursier-e à être appelé-e.\n",
      "\n",
      "  L'ordre d'appel contient 1 éléments et il y a 8 vœux à classer.\n",
      "  La contrainte sur le taux de boursier-es est False...\n",
      "      Car il y a pour l'instant 1 boursier-es appelé-es sur un total de 2, et ce n'est pas assez pour dépasser le taux de 20...\n",
      "  La contrainte sur le taux de résident-es est False...\n",
      "      Car il y a pour l'instant 0 résident-es appelé-es sur un total de 0, et ce n'est pas assez pour dépasser le taux de 0...\n",
      "  Les vœux satisfaisant les deux contraintes à la fois, ordonnés par rang de classement sont :\n",
      "[{'type': 2, 'rang': 7, 'nom': 'Guillaume'}, {'type': 4, 'rang': 1, 'nom': 'Alice'}]\n",
      "  La liste des éligibles n'est pas vide, donc le-la meilleur-e est le-la meilleur-e de cette liste = {'type': 4, 'rang': 1, 'nom': 'Alice'}\n",
      "  On vérifie si le-la meilleur {'type': 4, 'rang': 1, 'nom': 'Alice'} est aussi le-la meilleur-e de sa liste contenant 6 candidat-es (du type 4).\n",
      "  On ajoute le meilleur {'type': 4, 'rang': 1, 'nom': 'Alice'} à l'ordre d'appel, c'est le-la 2ème à être appelé-e.\n",
      "\n",
      "  L'ordre d'appel contient 2 éléments et il y a 8 vœux à classer.\n",
      "  La contrainte sur le taux de boursier-es est False...\n",
      "      Car il y a pour l'instant 1 boursier-es appelé-es sur un total de 2, et ce n'est pas assez pour dépasser le taux de 20...\n",
      "  La contrainte sur le taux de résident-es est False...\n",
      "      Car il y a pour l'instant 0 résident-es appelé-es sur un total de 0, et ce n'est pas assez pour dépasser le taux de 0...\n",
      "  Les vœux satisfaisant les deux contraintes à la fois, ordonnés par rang de classement sont :\n",
      "[{'type': 2, 'rang': 7, 'nom': 'Guillaume'}, {'type': 4, 'rang': 2, 'nom': 'Bob'}]\n",
      "  La liste des éligibles n'est pas vide, donc le-la meilleur-e est le-la meilleur-e de cette liste = {'type': 4, 'rang': 2, 'nom': 'Bob'}\n",
      "  On vérifie si le-la meilleur {'type': 4, 'rang': 2, 'nom': 'Bob'} est aussi le-la meilleur-e de sa liste contenant 5 candidat-es (du type 4).\n",
      "  On ajoute le meilleur {'type': 4, 'rang': 2, 'nom': 'Bob'} à l'ordre d'appel, c'est le-la 3ème à être appelé-e.\n",
      "\n",
      "  L'ordre d'appel contient 3 éléments et il y a 8 vœux à classer.\n",
      "  La contrainte sur le taux de boursier-es est False...\n",
      "      Car il y a pour l'instant 1 boursier-es appelé-es sur un total de 2, et ce n'est pas assez pour dépasser le taux de 20...\n",
      "  La contrainte sur le taux de résident-es est False...\n",
      "      Car il y a pour l'instant 0 résident-es appelé-es sur un total de 0, et ce n'est pas assez pour dépasser le taux de 0...\n",
      "  Les vœux satisfaisant les deux contraintes à la fois, ordonnés par rang de classement sont :\n",
      "[{'type': 2, 'rang': 7, 'nom': 'Guillaume'}, {'type': 4, 'rang': 3, 'nom': 'Christophe'}]\n",
      "  La liste des éligibles n'est pas vide, donc le-la meilleur-e est le-la meilleur-e de cette liste = {'type': 4, 'rang': 3, 'nom': 'Christophe'}\n",
      "  On vérifie si le-la meilleur {'type': 4, 'rang': 3, 'nom': 'Christophe'} est aussi le-la meilleur-e de sa liste contenant 4 candidat-es (du type 4).\n",
      "  On ajoute le meilleur {'type': 4, 'rang': 3, 'nom': 'Christophe'} à l'ordre d'appel, c'est le-la 4ème à être appelé-e.\n",
      "\n",
      "  L'ordre d'appel contient 4 éléments et il y a 8 vœux à classer.\n",
      "  La contrainte sur le taux de boursier-es est False...\n",
      "      Car il y a pour l'instant 1 boursier-es appelé-es sur un total de 2, et ce n'est pas assez pour dépasser le taux de 20...\n",
      "  La contrainte sur le taux de résident-es est False...\n",
      "      Car il y a pour l'instant 0 résident-es appelé-es sur un total de 0, et ce n'est pas assez pour dépasser le taux de 0...\n",
      "  Les vœux satisfaisant les deux contraintes à la fois, ordonnés par rang de classement sont :\n",
      "[{'type': 2, 'rang': 7, 'nom': 'Guillaume'}, {'type': 4, 'rang': 4, 'nom': 'Dora'}]\n",
      "  La liste des éligibles n'est pas vide, donc le-la meilleur-e est le-la meilleur-e de cette liste = {'type': 4, 'rang': 4, 'nom': 'Dora'}\n",
      "  On vérifie si le-la meilleur {'type': 4, 'rang': 4, 'nom': 'Dora'} est aussi le-la meilleur-e de sa liste contenant 3 candidat-es (du type 4).\n",
      "  On ajoute le meilleur {'type': 4, 'rang': 4, 'nom': 'Dora'} à l'ordre d'appel, c'est le-la 5ème à être appelé-e.\n",
      "\n",
      "  L'ordre d'appel contient 5 éléments et il y a 8 vœux à classer.\n",
      "  La contrainte sur le taux de boursier-es est True...\n",
      "      Car il y a pour l'instant 1 boursier-es appelé-es sur un total de 2, et ce n'est pas assez pour dépasser le taux de 20...\n",
      "  La contrainte sur le taux de résident-es est False...\n",
      "      Car il y a pour l'instant 0 résident-es appelé-es sur un total de 0, et ce n'est pas assez pour dépasser le taux de 0...\n",
      "  Les vœux satisfaisant les deux contraintes à la fois, ordonnés par rang de classement sont :\n",
      "[{'type': 2, 'rang': 7, 'nom': 'Guillaume'}]\n",
      "  La liste des éligibles n'est pas vide, donc le-la meilleur-e est le-la meilleur-e de cette liste = {'type': 2, 'rang': 7, 'nom': 'Guillaume'}\n",
      "  On vérifie si le-la meilleur {'type': 2, 'rang': 7, 'nom': 'Guillaume'} est aussi le-la meilleur-e de sa liste contenant 1 candidat-es (du type 2).\n",
      "  On ajoute le meilleur {'type': 2, 'rang': 7, 'nom': 'Guillaume'} à l'ordre d'appel, c'est le-la 6ème à être appelé-e.\n",
      "    En plus, c'est le-la 2ème boursier-e à être appelé-e.\n",
      "\n",
      "  L'ordre d'appel contient 6 éléments et il y a 8 vœux à classer.\n",
      "  La contrainte sur le taux de boursier-es est False...\n",
      "      Car il y a pour l'instant 2 boursier-es appelé-es sur un total de 2, et ce n'est pas assez pour dépasser le taux de 20...\n",
      "  La contrainte sur le taux de résident-es est False...\n",
      "      Car il y a pour l'instant 0 résident-es appelé-es sur un total de 0, et ce n'est pas assez pour dépasser le taux de 0...\n",
      "  Les vœux satisfaisant les deux contraintes à la fois, ordonnés par rang de classement sont :\n",
      "[{'type': 4, 'rang': 5, 'nom': 'Emilie'}]\n",
      "  La liste des éligibles n'est pas vide, donc le-la meilleur-e est le-la meilleur-e de cette liste = {'type': 4, 'rang': 5, 'nom': 'Emilie'}\n",
      "  On vérifie si le-la meilleur {'type': 4, 'rang': 5, 'nom': 'Emilie'} est aussi le-la meilleur-e de sa liste contenant 2 candidat-es (du type 4).\n",
      "  On ajoute le meilleur {'type': 4, 'rang': 5, 'nom': 'Emilie'} à l'ordre d'appel, c'est le-la 7ème à être appelé-e.\n",
      "\n",
      "  L'ordre d'appel contient 7 éléments et il y a 8 vœux à classer.\n",
      "  La contrainte sur le taux de boursier-es est False...\n",
      "      Car il y a pour l'instant 2 boursier-es appelé-es sur un total de 2, et ce n'est pas assez pour dépasser le taux de 20...\n",
      "  La contrainte sur le taux de résident-es est False...\n",
      "      Car il y a pour l'instant 0 résident-es appelé-es sur un total de 0, et ce n'est pas assez pour dépasser le taux de 0...\n",
      "  Les vœux satisfaisant les deux contraintes à la fois, ordonnés par rang de classement sont :\n",
      "[{'type': 4, 'rang': 8, 'nom': 'Hélène'}]\n",
      "  La liste des éligibles n'est pas vide, donc le-la meilleur-e est le-la meilleur-e de cette liste = {'type': 4, 'rang': 8, 'nom': 'Hélène'}\n",
      "  On vérifie si le-la meilleur {'type': 4, 'rang': 8, 'nom': 'Hélène'} est aussi le-la meilleur-e de sa liste contenant 1 candidat-es (du type 4).\n",
      "  On ajoute le meilleur {'type': 4, 'rang': 8, 'nom': 'Hélène'} à l'ordre d'appel, c'est le-la 8ème à être appelé-e.\n",
      "\n",
      "3. On a terminé la boucle, on a remplit l'ordre d'appel.\n"
     ]
    },
    {
     "data": {
      "text/plain": [
       "[{'type': 2, 'rang': 6, 'nom': 'Florian'},\n",
       " {'type': 4, 'rang': 1, 'nom': 'Alice'},\n",
       " {'type': 4, 'rang': 2, 'nom': 'Bob'},\n",
       " {'type': 4, 'rang': 3, 'nom': 'Christophe'},\n",
       " {'type': 4, 'rang': 4, 'nom': 'Dora'},\n",
       " {'type': 2, 'rang': 7, 'nom': 'Guillaume'},\n",
       " {'type': 4, 'rang': 5, 'nom': 'Emilie'},\n",
       " {'type': 4, 'rang': 8, 'nom': 'Hélène'}]"
      ]
     },
     "execution_count": 153,
     "metadata": {},
     "output_type": "execute_result"
    }
   ],
   "source": [
    "calculerOrdreAppel(\n",
    "    voeuxClasses,\n",
    "    tauxMinBoursiersPourcents,\n",
    "    tauxMinResidentsPourcents\n",
    ")"
   ]
  },
  {
   "cell_type": "markdown",
   "metadata": {},
   "source": [
    "- Sur cet exemple, on constate que la contrainte sur les boursiers a pu aider le candidat Florian, qui étais classé 6ème (le meilleur parmi les boursiers) à remonter devant certains candidats non boursiers.\n",
    "\n",
    "- La suite est logique, entre Alice, Bob, Christophe et Dora, puis on voit que Guillaume est aussi passé devant d'autres candidats avec la contrainte de 20% de boursiers (après les 5 premiers candidats, dont un boursier, il faut ajouter Guillaume pour continuer à satisfaire la contrainte de minimum 20% de boursiers)."
   ]
  },
  {
   "cell_type": "markdown",
   "metadata": {},
   "source": [
    "### Visualisation interactive\n",
    "\n",
    "Les morceaux suivants sont hors programme, *ne regardez pas le détail du code*.\n",
    "\n",
    "Ils vont permettre d'explorer interactivement l'influence des deux taux minimums (taux de boursiers-ères et résidents-entes) sur le résultat de l'ordre d'appel."
   ]
  },
  {
   "cell_type": "code",
   "execution_count": 154,
   "metadata": {},
   "outputs": [],
   "source": [
    "from IPython.display import display\n",
    "from ipywidgets import interact"
   ]
  },
  {
   "cell_type": "markdown",
   "metadata": {},
   "source": [
    "On définit la fonction que l'on souhaite explorer :"
   ]
  },
  {
   "cell_type": "code",
   "execution_count": 159,
   "metadata": {
    "code_folding": [
     0,
     4
    ]
   },
   "outputs": [],
   "source": [
    "def fait_fonctionATester(\n",
    "    voeuxClasses,\n",
    "    tauxMinBoursiersPourcents=20,\n",
    "    tauxMinResidentsPourcents=0\n",
    "):\n",
    "    def fonctionATester(\n",
    "        tauxMinBoursiersPourcents=tauxMinBoursiersPourcents,\n",
    "        tauxMinResidentsPourcents=tauxMinResidentsPourcents\n",
    "    ):\n",
    "        ordreAppel = calculerOrdreAppel(\n",
    "            voeuxClasses,\n",
    "            tauxMinBoursiersPourcents,\n",
    "            tauxMinResidentsPourcents,\n",
    "            afficheTout=False  # on cache la sortie\n",
    "        )\n",
    "        res = [voeu[\"rang\"] for voeu in ordreAppel]\n",
    "        return res\n",
    "\n",
    "    return fonctionATester"
   ]
  },
  {
   "cell_type": "markdown",
   "metadata": {},
   "source": [
    "Par exemple, si on demande $90%$ de boursiers, on voit que les candidats classés 6ème (Florian) et 7ème (Guillaume) sont mis en avant."
   ]
  },
  {
   "cell_type": "code",
   "execution_count": 160,
   "metadata": {
    "scrolled": true
   },
   "outputs": [
    {
     "data": {
      "text/plain": [
       "[6, 7, 1, 2, 3, 4, 5, 8]"
      ]
     },
     "execution_count": 160,
     "metadata": {},
     "output_type": "execute_result"
    }
   ],
   "source": [
    "fait_fonctionATester(voeuxClasses)(90, 0)"
   ]
  },
  {
   "cell_type": "markdown",
   "metadata": {},
   "source": [
    "Mais la visualisation interactive suivante permet de suivre l'influence des deux paramètres sur la liste des rangs finaux beaucoup plus facilement."
   ]
  },
  {
   "cell_type": "code",
   "execution_count": 161,
   "metadata": {},
   "outputs": [
    {
     "data": {
      "application/vnd.jupyter.widget-view+json": {
       "model_id": "1234fc5bdf2a480ea347ec21211c639b",
       "version_major": 2,
       "version_minor": 0
      },
      "text/plain": [
       "interactive(children=(IntSlider(value=20, description='tauxMinBoursiersPourcents'), IntSlider(value=0, descrip…"
      ]
     },
     "metadata": {},
     "output_type": "display_data"
    }
   ],
   "source": [
    "interact(\n",
    "    fait_fonctionATester(voeuxClasses, tauxMinBoursiersPourcents=20, tauxMinResidentsPourcents=0),\n",
    "    tauxMinBoursiersPourcents=(0, 100, 1),\n",
    "    tauxMinResidentsPourcents=(0, 100, 1)\n",
    ");"
   ]
  },
  {
   "cell_type": "markdown",
   "metadata": {},
   "source": [
    "> <span style=\"color:red;\">Ca ne marche pas sur ma machine</span>, mais sur une installation neuve ou sur [MyBinder](http://mybinder.org/), tout fonctionne bien…"
   ]
  },
  {
   "cell_type": "markdown",
   "metadata": {},
   "source": [
    "### Autres exemples (A2, A4)\n",
    "\n",
    "Le document de référence propose deux autres exemples de petite taille, notés A2 et A4."
   ]
  },
  {
   "cell_type": "markdown",
   "metadata": {},
   "source": [
    "#### A2 : 2% de boursiers-ères\n",
    "\n",
    "Comme dans le document de référence : C1 C2 C3 C4 C5 B6 C7 C8, où B6 est boursier, et tous sont non résidents.\n",
    "(Plus besoin des noms dans cet exemple là, on les enlève)"
   ]
  },
  {
   "cell_type": "code",
   "execution_count": 162,
   "metadata": {},
   "outputs": [],
   "source": [
    "C1 = { \"type\": NonBoursierNonResident, \"rang\": 1 }\n",
    "C2 = { \"type\": NonBoursierNonResident, \"rang\": 2 }\n",
    "C3 = { \"type\": NonBoursierNonResident, \"rang\": 3 }\n",
    "C4 = { \"type\": NonBoursierNonResident, \"rang\": 4 }\n",
    "C5 = { \"type\": NonBoursierNonResident, \"rang\": 5 }\n",
    "B6 = { \"type\": BoursierNonResident,    \"rang\": 6 }\n",
    "C7 = { \"type\": NonBoursierNonResident, \"rang\": 7 }\n",
    "C8 = { \"type\": NonBoursierNonResident, \"rang\": 8 }"
   ]
  },
  {
   "cell_type": "code",
   "execution_count": 163,
   "metadata": {},
   "outputs": [],
   "source": [
    "voeuxClasses_A2 = [C1, C2, C3, C4, C5, B6, C7, C8]"
   ]
  },
  {
   "cell_type": "markdown",
   "metadata": {},
   "source": [
    "On reproduit l'exemple du document de référence, avant de vous laisser explorer l'influence des deux taux."
   ]
  },
  {
   "cell_type": "code",
   "execution_count": 164,
   "metadata": {
    "scrolled": true
   },
   "outputs": [
    {
     "data": {
      "text/plain": [
       "[6, 1, 2, 3, 4, 5, 7, 8]"
      ]
     },
     "execution_count": 164,
     "metadata": {},
     "output_type": "execute_result"
    }
   ],
   "source": [
    "fait_fonctionATester(voeuxClasses_A2)(2, 0)"
   ]
  },
  {
   "cell_type": "code",
   "execution_count": 165,
   "metadata": {
    "scrolled": true
   },
   "outputs": [
    {
     "data": {
      "application/vnd.jupyter.widget-view+json": {
       "model_id": "4dc7ac5c8ad94d12a330fd7b5ba65930",
       "version_major": 2,
       "version_minor": 0
      },
      "text/plain": [
       "interactive(children=(IntSlider(value=2, description='tauxMinBoursiersPourcents'), IntSlider(value=0, descript…"
      ]
     },
     "metadata": {},
     "output_type": "display_data"
    }
   ],
   "source": [
    "interact(\n",
    "    fait_fonctionATester(\n",
    "        voeuxClasses_A2, tauxMinBoursiersPourcents=2, tauxMinResidentsPourcents=0\n",
    "    ),\n",
    "    tauxMinBoursiersPourcents=(0, 100, 1),\n",
    "    tauxMinResidentsPourcents=(0, 100, 1)\n",
    ");"
   ]
  },
  {
   "cell_type": "markdown",
   "metadata": {},
   "source": [
    "On remarque que même un minimum de $2%$ de boursiers-ères suffit à faire remonter le candidat B6 en tête.\n",
    "\n",
    "L'ordre des rangs est respecté seulement si on a aucune contrainte sur le taux de boursiers."
   ]
  },
  {
   "cell_type": "code",
   "execution_count": 166,
   "metadata": {
    "scrolled": true
   },
   "outputs": [
    {
     "data": {
      "text/plain": [
       "[1, 2, 3, 4, 5, 6, 7, 8]"
      ]
     },
     "execution_count": 166,
     "metadata": {},
     "output_type": "execute_result"
    }
   ],
   "source": [
    "fait_fonctionATester(voeuxClasses_A2)(0, 0)"
   ]
  },
  {
   "cell_type": "markdown",
   "metadata": {},
   "source": [
    "#### A4 : 10% de boursiers-ères\n",
    "\n",
    "Comme dans le document de référence : C1 B2 B3 C4 C5 C6 C7 B8 C9 C10, où B2 B3 et B8 sont boursiers et tous sont non résidents."
   ]
  },
  {
   "cell_type": "code",
   "execution_count": 167,
   "metadata": {},
   "outputs": [],
   "source": [
    "C1  = { \"type\": NonBoursierNonResident, \"rang\": 1 }\n",
    "B2  = { \"type\": BoursierNonResident,    \"rang\": 2 }\n",
    "B3  = { \"type\": BoursierNonResident,    \"rang\": 3 }\n",
    "C4  = { \"type\": NonBoursierNonResident, \"rang\": 4 }\n",
    "C5  = { \"type\": NonBoursierNonResident, \"rang\": 5 }\n",
    "C6  = { \"type\": NonBoursierNonResident, \"rang\": 6 }\n",
    "C7  = { \"type\": NonBoursierNonResident, \"rang\": 7 }\n",
    "B8  = { \"type\": BoursierNonResident,    \"rang\": 8 }\n",
    "C9  = { \"type\": NonBoursierNonResident, \"rang\": 9 }\n",
    "C10 = { \"type\": NonBoursierNonResident, \"rang\": 10 }"
   ]
  },
  {
   "cell_type": "code",
   "execution_count": 168,
   "metadata": {},
   "outputs": [],
   "source": [
    "voeuxClasses_A4 = [C1, B2, B3, C4, C5, C6, C7, B8, C9, C10]"
   ]
  },
  {
   "cell_type": "markdown",
   "metadata": {},
   "source": [
    "On reproduit l'exemple du document de référence, avant de vous laisser explorer l'influence des deux taux."
   ]
  },
  {
   "cell_type": "code",
   "execution_count": 169,
   "metadata": {
    "scrolled": true
   },
   "outputs": [
    {
     "data": {
      "text/plain": [
       "[2, 1, 3, 4, 5, 6, 7, 8, 9, 10]"
      ]
     },
     "execution_count": 169,
     "metadata": {},
     "output_type": "execute_result"
    }
   ],
   "source": [
    "fait_fonctionATester(voeuxClasses_A4)(10, 0)"
   ]
  },
  {
   "cell_type": "code",
   "execution_count": 170,
   "metadata": {
    "scrolled": true
   },
   "outputs": [
    {
     "data": {
      "application/vnd.jupyter.widget-view+json": {
       "model_id": "fb1f84640fde48d39c1b51da5f98bdb2",
       "version_major": 2,
       "version_minor": 0
      },
      "text/plain": [
       "interactive(children=(IntSlider(value=10, description='tauxMinBoursiersPourcents'), IntSlider(value=0, descrip…"
      ]
     },
     "metadata": {},
     "output_type": "display_data"
    }
   ],
   "source": [
    "interact(\n",
    "    fait_fonctionATester(\n",
    "        voeuxClasses_A4, tauxMinBoursiersPourcents=10, tauxMinResidentsPourcents=0\n",
    "    ),\n",
    "    tauxMinBoursiersPourcents=(0, 100, 1),\n",
    "    tauxMinResidentsPourcents=(0, 100, 1)\n",
    ");"
   ]
  },
  {
   "cell_type": "markdown",
   "metadata": {},
   "source": [
    "### Visualisations colorées\n",
    "On va utiliser [ipythonblocks](http://www.ipythonblocks.org/)."
   ]
  },
  {
   "cell_type": "code",
   "execution_count": 171,
   "metadata": {},
   "outputs": [],
   "source": [
    "from ipythonblocks import BlockGrid"
   ]
  },
  {
   "cell_type": "code",
   "execution_count": 172,
   "metadata": {},
   "outputs": [],
   "source": [
    "couleursTypeCandidat = {\n",
    "    NonBoursierNonResident: (200, 200, 200),  # gris\n",
    "    NonBoursierResident:    (0, 0, 200),      # bleu\n",
    "    BoursierNonResident:    (200, 0, 0),      # rouge\n",
    "    BoursierResident:       (200, 0, 200),    # violet\n",
    "}"
   ]
  },
  {
   "cell_type": "code",
   "execution_count": 173,
   "metadata": {},
   "outputs": [],
   "source": [
    "def voirListeVoeu(voeuxClasses):\n",
    "    nbVoeux = len(voeuxClasses)\n",
    "    grille = BlockGrid(nbVoeux, 1, fill=(200, 200, 200))\n",
    "    for i, voeu in enumerate(voeuxClasses):\n",
    "        typeCandidat = voeu[\"type\"]\n",
    "        couleur = couleursTypeCandidat[typeCandidat]\n",
    "        grille[0, i].set_colors(*couleur)\n",
    "    return grille"
   ]
  },
  {
   "cell_type": "code",
   "execution_count": 174,
   "metadata": {},
   "outputs": [
    {
     "data": {
      "text/plain": [
       "[{'type': 4, 'rang': 10},\n",
       " {'type': 4, 'rang': 9},\n",
       " {'type': 2, 'rang': 8},\n",
       " {'type': 4, 'rang': 7},\n",
       " {'type': 4, 'rang': 6},\n",
       " {'type': 4, 'rang': 5},\n",
       " {'type': 4, 'rang': 4},\n",
       " {'type': 2, 'rang': 3},\n",
       " {'type': 2, 'rang': 2},\n",
       " {'type': 4, 'rang': 1}]"
      ]
     },
     "execution_count": 174,
     "metadata": {},
     "output_type": "execute_result"
    }
   ],
   "source": [
    "voeuxClasses_A4"
   ]
  },
  {
   "cell_type": "code",
   "execution_count": 175,
   "metadata": {},
   "outputs": [
    {
     "data": {
      "text/html": [
       "<style type=\"text/css\">table.blockgrid {border: none;} .blockgrid tr {border: none;} .blockgrid td {padding: 0px;} #blocksd3aa40c4-e5bb-43be-94dd-b0d827ccaa55 td {border: 1px solid white;}</style><table id=\"blocksd3aa40c4-e5bb-43be-94dd-b0d827ccaa55\" class=\"blockgrid\"><tbody><tr><td title=\"Index: [0, 0]&#10;Color: (200, 200, 200)\" style=\"width: 20px; height: 20px;background-color: rgb(200, 200, 200);\"></td><td title=\"Index: [0, 1]&#10;Color: (200, 200, 200)\" style=\"width: 20px; height: 20px;background-color: rgb(200, 200, 200);\"></td><td title=\"Index: [0, 2]&#10;Color: (200, 0, 0)\" style=\"width: 20px; height: 20px;background-color: rgb(200, 0, 0);\"></td><td title=\"Index: [0, 3]&#10;Color: (200, 200, 200)\" style=\"width: 20px; height: 20px;background-color: rgb(200, 200, 200);\"></td><td title=\"Index: [0, 4]&#10;Color: (200, 200, 200)\" style=\"width: 20px; height: 20px;background-color: rgb(200, 200, 200);\"></td><td title=\"Index: [0, 5]&#10;Color: (200, 200, 200)\" style=\"width: 20px; height: 20px;background-color: rgb(200, 200, 200);\"></td><td title=\"Index: [0, 6]&#10;Color: (200, 200, 200)\" style=\"width: 20px; height: 20px;background-color: rgb(200, 200, 200);\"></td><td title=\"Index: [0, 7]&#10;Color: (200, 200, 200)\" style=\"width: 20px; height: 20px;background-color: rgb(200, 200, 200);\"></td></tr></tbody></table>"
      ],
      "text/plain": [
       "<ipythonblocks.ipythonblocks.BlockGrid at 0x7f3331d7bfd0>"
      ]
     },
     "execution_count": 175,
     "metadata": {},
     "output_type": "execute_result"
    }
   ],
   "source": [
    "voirListeVoeu(voeuxClasses_A2)"
   ]
  },
  {
   "cell_type": "code",
   "execution_count": 176,
   "metadata": {},
   "outputs": [
    {
     "data": {
      "text/html": [
       "<style type=\"text/css\">table.blockgrid {border: none;} .blockgrid tr {border: none;} .blockgrid td {padding: 0px;} #blocksd43cbd56-8d8d-4fc4-aeb3-1f8d3e56cc9d td {border: 1px solid white;}</style><table id=\"blocksd43cbd56-8d8d-4fc4-aeb3-1f8d3e56cc9d\" class=\"blockgrid\"><tbody><tr><td title=\"Index: [0, 0]&#10;Color: (200, 200, 200)\" style=\"width: 20px; height: 20px;background-color: rgb(200, 200, 200);\"></td><td title=\"Index: [0, 1]&#10;Color: (200, 200, 200)\" style=\"width: 20px; height: 20px;background-color: rgb(200, 200, 200);\"></td><td title=\"Index: [0, 2]&#10;Color: (200, 0, 0)\" style=\"width: 20px; height: 20px;background-color: rgb(200, 0, 0);\"></td><td title=\"Index: [0, 3]&#10;Color: (200, 200, 200)\" style=\"width: 20px; height: 20px;background-color: rgb(200, 200, 200);\"></td><td title=\"Index: [0, 4]&#10;Color: (200, 200, 200)\" style=\"width: 20px; height: 20px;background-color: rgb(200, 200, 200);\"></td><td title=\"Index: [0, 5]&#10;Color: (200, 200, 200)\" style=\"width: 20px; height: 20px;background-color: rgb(200, 200, 200);\"></td><td title=\"Index: [0, 6]&#10;Color: (200, 200, 200)\" style=\"width: 20px; height: 20px;background-color: rgb(200, 200, 200);\"></td><td title=\"Index: [0, 7]&#10;Color: (200, 0, 0)\" style=\"width: 20px; height: 20px;background-color: rgb(200, 0, 0);\"></td><td title=\"Index: [0, 8]&#10;Color: (200, 0, 0)\" style=\"width: 20px; height: 20px;background-color: rgb(200, 0, 0);\"></td><td title=\"Index: [0, 9]&#10;Color: (200, 200, 200)\" style=\"width: 20px; height: 20px;background-color: rgb(200, 200, 200);\"></td></tr></tbody></table>"
      ],
      "text/plain": [
       "<ipythonblocks.ipythonblocks.BlockGrid at 0x7f3331cc7518>"
      ]
     },
     "execution_count": 176,
     "metadata": {},
     "output_type": "execute_result"
    }
   ],
   "source": [
    "voirListeVoeu(voeuxClasses_A4)"
   ]
  },
  {
   "cell_type": "markdown",
   "metadata": {},
   "source": [
    "Les candidats-ates boursiers-ères sont en rouges. On peut visualiser que le calcul de l'ordre d'appel va faire remonter un-e candidat-e boursier-ère :"
   ]
  },
  {
   "cell_type": "code",
   "execution_count": 179,
   "metadata": {},
   "outputs": [
    {
     "data": {
      "text/html": [
       "<style type=\"text/css\">table.blockgrid {border: none;} .blockgrid tr {border: none;} .blockgrid td {padding: 0px;} #blocks991f3b0c-cbe6-4f2b-8a66-7e4a0fb127f7 td {border: 1px solid white;}</style><table id=\"blocks991f3b0c-cbe6-4f2b-8a66-7e4a0fb127f7\" class=\"blockgrid\"><tbody><tr><td title=\"Index: [0, 0]&#10;Color: (200, 0, 0)\" style=\"width: 20px; height: 20px;background-color: rgb(200, 0, 0);\"></td><td title=\"Index: [0, 1]&#10;Color: (200, 200, 200)\" style=\"width: 20px; height: 20px;background-color: rgb(200, 200, 200);\"></td><td title=\"Index: [0, 2]&#10;Color: (200, 200, 200)\" style=\"width: 20px; height: 20px;background-color: rgb(200, 200, 200);\"></td><td title=\"Index: [0, 3]&#10;Color: (200, 200, 200)\" style=\"width: 20px; height: 20px;background-color: rgb(200, 200, 200);\"></td><td title=\"Index: [0, 4]&#10;Color: (200, 200, 200)\" style=\"width: 20px; height: 20px;background-color: rgb(200, 200, 200);\"></td><td title=\"Index: [0, 5]&#10;Color: (200, 200, 200)\" style=\"width: 20px; height: 20px;background-color: rgb(200, 200, 200);\"></td><td title=\"Index: [0, 6]&#10;Color: (200, 200, 200)\" style=\"width: 20px; height: 20px;background-color: rgb(200, 200, 200);\"></td><td title=\"Index: [0, 7]&#10;Color: (200, 200, 200)\" style=\"width: 20px; height: 20px;background-color: rgb(200, 200, 200);\"></td></tr></tbody></table>"
      ],
      "text/plain": [
       "<ipythonblocks.ipythonblocks.BlockGrid at 0x7f3331cc7908>"
      ]
     },
     "execution_count": 179,
     "metadata": {},
     "output_type": "execute_result"
    }
   ],
   "source": [
    "voirListeVoeu(calculerOrdreAppel(voeuxClasses_A2, 20, 20, False))"
   ]
  },
  {
   "cell_type": "code",
   "execution_count": 180,
   "metadata": {},
   "outputs": [
    {
     "data": {
      "text/html": [
       "<style type=\"text/css\">table.blockgrid {border: none;} .blockgrid tr {border: none;} .blockgrid td {padding: 0px;} #blocks6bdaad21-1f71-4a94-ae95-989d0421bb2c td {border: 1px solid white;}</style><table id=\"blocks6bdaad21-1f71-4a94-ae95-989d0421bb2c\" class=\"blockgrid\"><tbody><tr><td title=\"Index: [0, 0]&#10;Color: (200, 0, 0)\" style=\"width: 20px; height: 20px;background-color: rgb(200, 0, 0);\"></td><td title=\"Index: [0, 1]&#10;Color: (200, 200, 200)\" style=\"width: 20px; height: 20px;background-color: rgb(200, 200, 200);\"></td><td title=\"Index: [0, 2]&#10;Color: (200, 0, 0)\" style=\"width: 20px; height: 20px;background-color: rgb(200, 0, 0);\"></td><td title=\"Index: [0, 3]&#10;Color: (200, 200, 200)\" style=\"width: 20px; height: 20px;background-color: rgb(200, 200, 200);\"></td><td title=\"Index: [0, 4]&#10;Color: (200, 200, 200)\" style=\"width: 20px; height: 20px;background-color: rgb(200, 200, 200);\"></td><td title=\"Index: [0, 5]&#10;Color: (200, 200, 200)\" style=\"width: 20px; height: 20px;background-color: rgb(200, 200, 200);\"></td><td title=\"Index: [0, 6]&#10;Color: (200, 200, 200)\" style=\"width: 20px; height: 20px;background-color: rgb(200, 200, 200);\"></td><td title=\"Index: [0, 7]&#10;Color: (200, 0, 0)\" style=\"width: 20px; height: 20px;background-color: rgb(200, 0, 0);\"></td><td title=\"Index: [0, 8]&#10;Color: (200, 200, 200)\" style=\"width: 20px; height: 20px;background-color: rgb(200, 200, 200);\"></td><td title=\"Index: [0, 9]&#10;Color: (200, 200, 200)\" style=\"width: 20px; height: 20px;background-color: rgb(200, 200, 200);\"></td></tr></tbody></table>"
      ],
      "text/plain": [
       "<ipythonblocks.ipythonblocks.BlockGrid at 0x7f3331d21320>"
      ]
     },
     "execution_count": 180,
     "metadata": {},
     "output_type": "execute_result"
    }
   ],
   "source": [
    "voirListeVoeu(calculerOrdreAppel(voeuxClasses_A4, 20, 20, False))"
   ]
  },
  {
   "cell_type": "markdown",
   "metadata": {},
   "source": [
    "### Entrée aléatoire\n",
    "\n",
    "Pour des exemples plus complets, on génère ici une liste de vœux de taille fixée, où chaque vœu sera aléatoirement boursier ou non, résident ou non.\n",
    "Cela va permettre de mieux comprendre l'algorithme sur des entrées de taille plus grande."
   ]
  },
  {
   "cell_type": "code",
   "execution_count": 181,
   "metadata": {},
   "outputs": [],
   "source": [
    "import random\n",
    "import math"
   ]
  },
  {
   "cell_type": "code",
   "execution_count": 185,
   "metadata": {
    "code_folding": [
     0,
     5
    ]
   },
   "outputs": [],
   "source": [
    "def fait_voeuxClasses_aleatoire(\n",
    "    taille=100,\n",
    "    tauxBoursiers=20,\n",
    "    tauxResidents=20,\n",
    "    random_seed=0,\n",
    "):\n",
    "    random.seed(random_seed)\n",
    "    # on commence par avoir une liste triée de non boursier non résident\n",
    "    voeuxClasses = [\n",
    "        {'type': NonBoursierNonResident, 'rang': i}\n",
    "        for i in range(taille)\n",
    "    ]\n",
    "    # pour certains candidats aléatoires on les transforme en boursier et/ou en résident\n",
    "    nbBoursiers = int(math.ceil(taille * tauxBoursiers / 100.0))\n",
    "    for voeu in random.sample(voeuxClasses, nbBoursiers):\n",
    "        voeu['type'] = BoursierNonResident\n",
    "    nbResidents = int(math.ceil(taille * tauxResidents / 100.0))\n",
    "    for voeu in random.sample(voeuxClasses, nbResidents):\n",
    "        if estBoursier(voeu): voeu['type'] = BoursierResident\n",
    "        else: voeu['type'] = NonBoursierResident\n",
    "    # on la mélange enfin et on la renvoie\n",
    "    random.shuffle(voeuxClasses)\n",
    "    return voeuxClasses"
   ]
  },
  {
   "cell_type": "code",
   "execution_count": 186,
   "metadata": {},
   "outputs": [],
   "source": [
    "voeuxClasses_exemple = fait_voeuxClasses_aleatoire(\n",
    "    70,\n",
    "    tauxBoursiers=20,  # ~14 boursiers\n",
    "    tauxResidents=20   # ~14 résidents\n",
    ")"
   ]
  },
  {
   "cell_type": "markdown",
   "metadata": {},
   "source": [
    "On va avoir en moyenne 14 boursiers-ères et 14 résidents-entes, avec quelques intersections."
   ]
  },
  {
   "cell_type": "code",
   "execution_count": 187,
   "metadata": {},
   "outputs": [
    {
     "data": {
      "text/html": [
       "<style type=\"text/css\">table.blockgrid {border: none;} .blockgrid tr {border: none;} .blockgrid td {padding: 0px;} #blockse94076b3-c7a7-4287-b743-68cb8bfb4733 td {border: 1px solid white;}</style><table id=\"blockse94076b3-c7a7-4287-b743-68cb8bfb4733\" class=\"blockgrid\"><tbody><tr><td title=\"Index: [0, 0]&#10;Color: (200, 200, 200)\" style=\"width: 20px; height: 20px;background-color: rgb(200, 200, 200);\"></td><td title=\"Index: [0, 1]&#10;Color: (200, 200, 200)\" style=\"width: 20px; height: 20px;background-color: rgb(200, 200, 200);\"></td><td title=\"Index: [0, 2]&#10;Color: (200, 200, 200)\" style=\"width: 20px; height: 20px;background-color: rgb(200, 200, 200);\"></td><td title=\"Index: [0, 3]&#10;Color: (200, 200, 200)\" style=\"width: 20px; height: 20px;background-color: rgb(200, 200, 200);\"></td><td title=\"Index: [0, 4]&#10;Color: (200, 0, 0)\" style=\"width: 20px; height: 20px;background-color: rgb(200, 0, 0);\"></td><td title=\"Index: [0, 5]&#10;Color: (200, 200, 200)\" style=\"width: 20px; height: 20px;background-color: rgb(200, 200, 200);\"></td><td title=\"Index: [0, 6]&#10;Color: (200, 200, 200)\" style=\"width: 20px; height: 20px;background-color: rgb(200, 200, 200);\"></td><td title=\"Index: [0, 7]&#10;Color: (0, 0, 200)\" style=\"width: 20px; height: 20px;background-color: rgb(0, 0, 200);\"></td><td title=\"Index: [0, 8]&#10;Color: (200, 200, 200)\" style=\"width: 20px; height: 20px;background-color: rgb(200, 200, 200);\"></td><td title=\"Index: [0, 9]&#10;Color: (0, 0, 200)\" style=\"width: 20px; height: 20px;background-color: rgb(0, 0, 200);\"></td><td title=\"Index: [0, 10]&#10;Color: (200, 200, 200)\" style=\"width: 20px; height: 20px;background-color: rgb(200, 200, 200);\"></td><td title=\"Index: [0, 11]&#10;Color: (200, 200, 200)\" style=\"width: 20px; height: 20px;background-color: rgb(200, 200, 200);\"></td><td title=\"Index: [0, 12]&#10;Color: (200, 0, 0)\" style=\"width: 20px; height: 20px;background-color: rgb(200, 0, 0);\"></td><td title=\"Index: [0, 13]&#10;Color: (200, 0, 0)\" style=\"width: 20px; height: 20px;background-color: rgb(200, 0, 0);\"></td><td title=\"Index: [0, 14]&#10;Color: (200, 200, 200)\" style=\"width: 20px; height: 20px;background-color: rgb(200, 200, 200);\"></td><td title=\"Index: [0, 15]&#10;Color: (0, 0, 200)\" style=\"width: 20px; height: 20px;background-color: rgb(0, 0, 200);\"></td><td title=\"Index: [0, 16]&#10;Color: (200, 0, 0)\" style=\"width: 20px; height: 20px;background-color: rgb(200, 0, 0);\"></td><td title=\"Index: [0, 17]&#10;Color: (200, 200, 200)\" style=\"width: 20px; height: 20px;background-color: rgb(200, 200, 200);\"></td><td title=\"Index: [0, 18]&#10;Color: (200, 0, 0)\" style=\"width: 20px; height: 20px;background-color: rgb(200, 0, 0);\"></td><td title=\"Index: [0, 19]&#10;Color: (200, 200, 200)\" style=\"width: 20px; height: 20px;background-color: rgb(200, 200, 200);\"></td><td title=\"Index: [0, 20]&#10;Color: (200, 200, 200)\" style=\"width: 20px; height: 20px;background-color: rgb(200, 200, 200);\"></td><td title=\"Index: [0, 21]&#10;Color: (200, 200, 200)\" style=\"width: 20px; height: 20px;background-color: rgb(200, 200, 200);\"></td><td title=\"Index: [0, 22]&#10;Color: (200, 200, 200)\" style=\"width: 20px; height: 20px;background-color: rgb(200, 200, 200);\"></td><td title=\"Index: [0, 23]&#10;Color: (0, 0, 200)\" style=\"width: 20px; height: 20px;background-color: rgb(0, 0, 200);\"></td><td title=\"Index: [0, 24]&#10;Color: (0, 0, 200)\" style=\"width: 20px; height: 20px;background-color: rgb(0, 0, 200);\"></td><td title=\"Index: [0, 25]&#10;Color: (200, 0, 200)\" style=\"width: 20px; height: 20px;background-color: rgb(200, 0, 200);\"></td><td title=\"Index: [0, 26]&#10;Color: (200, 0, 0)\" style=\"width: 20px; height: 20px;background-color: rgb(200, 0, 0);\"></td><td title=\"Index: [0, 27]&#10;Color: (200, 200, 200)\" style=\"width: 20px; height: 20px;background-color: rgb(200, 200, 200);\"></td><td title=\"Index: [0, 28]&#10;Color: (200, 200, 200)\" style=\"width: 20px; height: 20px;background-color: rgb(200, 200, 200);\"></td><td title=\"Index: [0, 29]&#10;Color: (200, 200, 200)\" style=\"width: 20px; height: 20px;background-color: rgb(200, 200, 200);\"></td><td title=\"Index: [0, 30]&#10;Color: (200, 200, 200)\" style=\"width: 20px; height: 20px;background-color: rgb(200, 200, 200);\"></td><td title=\"Index: [0, 31]&#10;Color: (200, 200, 200)\" style=\"width: 20px; height: 20px;background-color: rgb(200, 200, 200);\"></td><td title=\"Index: [0, 32]&#10;Color: (0, 0, 200)\" style=\"width: 20px; height: 20px;background-color: rgb(0, 0, 200);\"></td><td title=\"Index: [0, 33]&#10;Color: (0, 0, 200)\" style=\"width: 20px; height: 20px;background-color: rgb(0, 0, 200);\"></td><td title=\"Index: [0, 34]&#10;Color: (200, 200, 200)\" style=\"width: 20px; height: 20px;background-color: rgb(200, 200, 200);\"></td><td title=\"Index: [0, 35]&#10;Color: (0, 0, 200)\" style=\"width: 20px; height: 20px;background-color: rgb(0, 0, 200);\"></td><td title=\"Index: [0, 36]&#10;Color: (200, 200, 200)\" style=\"width: 20px; height: 20px;background-color: rgb(200, 200, 200);\"></td><td title=\"Index: [0, 37]&#10;Color: (200, 200, 200)\" style=\"width: 20px; height: 20px;background-color: rgb(200, 200, 200);\"></td><td title=\"Index: [0, 38]&#10;Color: (200, 200, 200)\" style=\"width: 20px; height: 20px;background-color: rgb(200, 200, 200);\"></td><td title=\"Index: [0, 39]&#10;Color: (200, 200, 200)\" style=\"width: 20px; height: 20px;background-color: rgb(200, 200, 200);\"></td><td title=\"Index: [0, 40]&#10;Color: (200, 200, 200)\" style=\"width: 20px; height: 20px;background-color: rgb(200, 200, 200);\"></td><td title=\"Index: [0, 41]&#10;Color: (200, 0, 0)\" style=\"width: 20px; height: 20px;background-color: rgb(200, 0, 0);\"></td><td title=\"Index: [0, 42]&#10;Color: (200, 0, 0)\" style=\"width: 20px; height: 20px;background-color: rgb(200, 0, 0);\"></td><td title=\"Index: [0, 43]&#10;Color: (200, 200, 200)\" style=\"width: 20px; height: 20px;background-color: rgb(200, 200, 200);\"></td><td title=\"Index: [0, 44]&#10;Color: (200, 200, 200)\" style=\"width: 20px; height: 20px;background-color: rgb(200, 200, 200);\"></td><td title=\"Index: [0, 45]&#10;Color: (200, 200, 200)\" style=\"width: 20px; height: 20px;background-color: rgb(200, 200, 200);\"></td><td title=\"Index: [0, 46]&#10;Color: (200, 200, 200)\" style=\"width: 20px; height: 20px;background-color: rgb(200, 200, 200);\"></td><td title=\"Index: [0, 47]&#10;Color: (200, 200, 200)\" style=\"width: 20px; height: 20px;background-color: rgb(200, 200, 200);\"></td><td title=\"Index: [0, 48]&#10;Color: (200, 0, 0)\" style=\"width: 20px; height: 20px;background-color: rgb(200, 0, 0);\"></td><td title=\"Index: [0, 49]&#10;Color: (200, 200, 200)\" style=\"width: 20px; height: 20px;background-color: rgb(200, 200, 200);\"></td><td title=\"Index: [0, 50]&#10;Color: (200, 200, 200)\" style=\"width: 20px; height: 20px;background-color: rgb(200, 200, 200);\"></td><td title=\"Index: [0, 51]&#10;Color: (200, 200, 200)\" style=\"width: 20px; height: 20px;background-color: rgb(200, 200, 200);\"></td><td title=\"Index: [0, 52]&#10;Color: (200, 200, 200)\" style=\"width: 20px; height: 20px;background-color: rgb(200, 200, 200);\"></td><td title=\"Index: [0, 53]&#10;Color: (200, 0, 0)\" style=\"width: 20px; height: 20px;background-color: rgb(200, 0, 0);\"></td><td title=\"Index: [0, 54]&#10;Color: (200, 200, 200)\" style=\"width: 20px; height: 20px;background-color: rgb(200, 200, 200);\"></td><td title=\"Index: [0, 55]&#10;Color: (200, 0, 0)\" style=\"width: 20px; height: 20px;background-color: rgb(200, 0, 0);\"></td><td title=\"Index: [0, 56]&#10;Color: (200, 200, 200)\" style=\"width: 20px; height: 20px;background-color: rgb(200, 200, 200);\"></td><td title=\"Index: [0, 57]&#10;Color: (200, 200, 200)\" style=\"width: 20px; height: 20px;background-color: rgb(200, 200, 200);\"></td><td title=\"Index: [0, 58]&#10;Color: (200, 0, 200)\" style=\"width: 20px; height: 20px;background-color: rgb(200, 0, 200);\"></td><td title=\"Index: [0, 59]&#10;Color: (200, 200, 200)\" style=\"width: 20px; height: 20px;background-color: rgb(200, 200, 200);\"></td><td title=\"Index: [0, 60]&#10;Color: (200, 200, 200)\" style=\"width: 20px; height: 20px;background-color: rgb(200, 200, 200);\"></td><td title=\"Index: [0, 61]&#10;Color: (200, 200, 200)\" style=\"width: 20px; height: 20px;background-color: rgb(200, 200, 200);\"></td><td title=\"Index: [0, 62]&#10;Color: (0, 0, 200)\" style=\"width: 20px; height: 20px;background-color: rgb(0, 0, 200);\"></td><td title=\"Index: [0, 63]&#10;Color: (0, 0, 200)\" style=\"width: 20px; height: 20px;background-color: rgb(0, 0, 200);\"></td><td title=\"Index: [0, 64]&#10;Color: (200, 0, 0)\" style=\"width: 20px; height: 20px;background-color: rgb(200, 0, 0);\"></td><td title=\"Index: [0, 65]&#10;Color: (200, 200, 200)\" style=\"width: 20px; height: 20px;background-color: rgb(200, 200, 200);\"></td><td title=\"Index: [0, 66]&#10;Color: (200, 200, 200)\" style=\"width: 20px; height: 20px;background-color: rgb(200, 200, 200);\"></td><td title=\"Index: [0, 67]&#10;Color: (0, 0, 200)\" style=\"width: 20px; height: 20px;background-color: rgb(0, 0, 200);\"></td><td title=\"Index: [0, 68]&#10;Color: (0, 0, 200)\" style=\"width: 20px; height: 20px;background-color: rgb(0, 0, 200);\"></td><td title=\"Index: [0, 69]&#10;Color: (200, 200, 200)\" style=\"width: 20px; height: 20px;background-color: rgb(200, 200, 200);\"></td></tr></tbody></table>"
      ],
      "text/plain": [
       "<ipythonblocks.ipythonblocks.BlockGrid at 0x7f3331d29ef0>"
      ]
     },
     "execution_count": 187,
     "metadata": {},
     "output_type": "execute_result"
    }
   ],
   "source": [
    "voirListeVoeu(voeuxClasses_exemple)"
   ]
  },
  {
   "cell_type": "code",
   "execution_count": 188,
   "metadata": {},
   "outputs": [],
   "source": [
    "voeuxClasses_exemple_sortie = calculerOrdreAppel(\n",
    "    voeuxClasses_exemple,\n",
    "    tauxMinBoursiersPourcents=100,\n",
    "    tauxMinResidentsPourcents=100,\n",
    "    afficheTout=False\n",
    ")"
   ]
  },
  {
   "cell_type": "code",
   "execution_count": 189,
   "metadata": {},
   "outputs": [
    {
     "data": {
      "text/html": [
       "<style type=\"text/css\">table.blockgrid {border: none;} .blockgrid tr {border: none;} .blockgrid td {padding: 0px;} #blocks7c7cfb18-405b-4f96-8fa2-7e4b1c643790 td {border: 1px solid white;}</style><table id=\"blocks7c7cfb18-405b-4f96-8fa2-7e4b1c643790\" class=\"blockgrid\"><tbody><tr><td title=\"Index: [0, 0]&#10;Color: (200, 0, 200)\" style=\"width: 20px; height: 20px;background-color: rgb(200, 0, 200);\"></td><td title=\"Index: [0, 1]&#10;Color: (200, 0, 200)\" style=\"width: 20px; height: 20px;background-color: rgb(200, 0, 200);\"></td><td title=\"Index: [0, 2]&#10;Color: (200, 0, 0)\" style=\"width: 20px; height: 20px;background-color: rgb(200, 0, 0);\"></td><td title=\"Index: [0, 3]&#10;Color: (200, 0, 0)\" style=\"width: 20px; height: 20px;background-color: rgb(200, 0, 0);\"></td><td title=\"Index: [0, 4]&#10;Color: (200, 0, 0)\" style=\"width: 20px; height: 20px;background-color: rgb(200, 0, 0);\"></td><td title=\"Index: [0, 5]&#10;Color: (200, 0, 0)\" style=\"width: 20px; height: 20px;background-color: rgb(200, 0, 0);\"></td><td title=\"Index: [0, 6]&#10;Color: (200, 0, 0)\" style=\"width: 20px; height: 20px;background-color: rgb(200, 0, 0);\"></td><td title=\"Index: [0, 7]&#10;Color: (200, 0, 0)\" style=\"width: 20px; height: 20px;background-color: rgb(200, 0, 0);\"></td><td title=\"Index: [0, 8]&#10;Color: (200, 0, 0)\" style=\"width: 20px; height: 20px;background-color: rgb(200, 0, 0);\"></td><td title=\"Index: [0, 9]&#10;Color: (200, 0, 0)\" style=\"width: 20px; height: 20px;background-color: rgb(200, 0, 0);\"></td><td title=\"Index: [0, 10]&#10;Color: (200, 0, 0)\" style=\"width: 20px; height: 20px;background-color: rgb(200, 0, 0);\"></td><td title=\"Index: [0, 11]&#10;Color: (200, 0, 0)\" style=\"width: 20px; height: 20px;background-color: rgb(200, 0, 0);\"></td><td title=\"Index: [0, 12]&#10;Color: (200, 0, 0)\" style=\"width: 20px; height: 20px;background-color: rgb(200, 0, 0);\"></td><td title=\"Index: [0, 13]&#10;Color: (200, 0, 0)\" style=\"width: 20px; height: 20px;background-color: rgb(200, 0, 0);\"></td><td title=\"Index: [0, 14]&#10;Color: (0, 0, 200)\" style=\"width: 20px; height: 20px;background-color: rgb(0, 0, 200);\"></td><td title=\"Index: [0, 15]&#10;Color: (0, 0, 200)\" style=\"width: 20px; height: 20px;background-color: rgb(0, 0, 200);\"></td><td title=\"Index: [0, 16]&#10;Color: (0, 0, 200)\" style=\"width: 20px; height: 20px;background-color: rgb(0, 0, 200);\"></td><td title=\"Index: [0, 17]&#10;Color: (0, 0, 200)\" style=\"width: 20px; height: 20px;background-color: rgb(0, 0, 200);\"></td><td title=\"Index: [0, 18]&#10;Color: (0, 0, 200)\" style=\"width: 20px; height: 20px;background-color: rgb(0, 0, 200);\"></td><td title=\"Index: [0, 19]&#10;Color: (0, 0, 200)\" style=\"width: 20px; height: 20px;background-color: rgb(0, 0, 200);\"></td><td title=\"Index: [0, 20]&#10;Color: (0, 0, 200)\" style=\"width: 20px; height: 20px;background-color: rgb(0, 0, 200);\"></td><td title=\"Index: [0, 21]&#10;Color: (0, 0, 200)\" style=\"width: 20px; height: 20px;background-color: rgb(0, 0, 200);\"></td><td title=\"Index: [0, 22]&#10;Color: (0, 0, 200)\" style=\"width: 20px; height: 20px;background-color: rgb(0, 0, 200);\"></td><td title=\"Index: [0, 23]&#10;Color: (0, 0, 200)\" style=\"width: 20px; height: 20px;background-color: rgb(0, 0, 200);\"></td><td title=\"Index: [0, 24]&#10;Color: (0, 0, 200)\" style=\"width: 20px; height: 20px;background-color: rgb(0, 0, 200);\"></td><td title=\"Index: [0, 25]&#10;Color: (0, 0, 200)\" style=\"width: 20px; height: 20px;background-color: rgb(0, 0, 200);\"></td><td title=\"Index: [0, 26]&#10;Color: (200, 200, 200)\" style=\"width: 20px; height: 20px;background-color: rgb(200, 200, 200);\"></td><td title=\"Index: [0, 27]&#10;Color: (200, 200, 200)\" style=\"width: 20px; height: 20px;background-color: rgb(200, 200, 200);\"></td><td title=\"Index: [0, 28]&#10;Color: (200, 200, 200)\" style=\"width: 20px; height: 20px;background-color: rgb(200, 200, 200);\"></td><td title=\"Index: [0, 29]&#10;Color: (200, 200, 200)\" style=\"width: 20px; height: 20px;background-color: rgb(200, 200, 200);\"></td><td title=\"Index: [0, 30]&#10;Color: (200, 200, 200)\" style=\"width: 20px; height: 20px;background-color: rgb(200, 200, 200);\"></td><td title=\"Index: [0, 31]&#10;Color: (200, 200, 200)\" style=\"width: 20px; height: 20px;background-color: rgb(200, 200, 200);\"></td><td title=\"Index: [0, 32]&#10;Color: (200, 200, 200)\" style=\"width: 20px; height: 20px;background-color: rgb(200, 200, 200);\"></td><td title=\"Index: [0, 33]&#10;Color: (200, 200, 200)\" style=\"width: 20px; height: 20px;background-color: rgb(200, 200, 200);\"></td><td title=\"Index: [0, 34]&#10;Color: (200, 200, 200)\" style=\"width: 20px; height: 20px;background-color: rgb(200, 200, 200);\"></td><td title=\"Index: [0, 35]&#10;Color: (200, 200, 200)\" style=\"width: 20px; height: 20px;background-color: rgb(200, 200, 200);\"></td><td title=\"Index: [0, 36]&#10;Color: (200, 200, 200)\" style=\"width: 20px; height: 20px;background-color: rgb(200, 200, 200);\"></td><td title=\"Index: [0, 37]&#10;Color: (200, 200, 200)\" style=\"width: 20px; height: 20px;background-color: rgb(200, 200, 200);\"></td><td title=\"Index: [0, 38]&#10;Color: (200, 200, 200)\" style=\"width: 20px; height: 20px;background-color: rgb(200, 200, 200);\"></td><td title=\"Index: [0, 39]&#10;Color: (200, 200, 200)\" style=\"width: 20px; height: 20px;background-color: rgb(200, 200, 200);\"></td><td title=\"Index: [0, 40]&#10;Color: (200, 200, 200)\" style=\"width: 20px; height: 20px;background-color: rgb(200, 200, 200);\"></td><td title=\"Index: [0, 41]&#10;Color: (200, 200, 200)\" style=\"width: 20px; height: 20px;background-color: rgb(200, 200, 200);\"></td><td title=\"Index: [0, 42]&#10;Color: (200, 200, 200)\" style=\"width: 20px; height: 20px;background-color: rgb(200, 200, 200);\"></td><td title=\"Index: [0, 43]&#10;Color: (200, 200, 200)\" style=\"width: 20px; height: 20px;background-color: rgb(200, 200, 200);\"></td><td title=\"Index: [0, 44]&#10;Color: (200, 200, 200)\" style=\"width: 20px; height: 20px;background-color: rgb(200, 200, 200);\"></td><td title=\"Index: [0, 45]&#10;Color: (200, 200, 200)\" style=\"width: 20px; height: 20px;background-color: rgb(200, 200, 200);\"></td><td title=\"Index: [0, 46]&#10;Color: (200, 200, 200)\" style=\"width: 20px; height: 20px;background-color: rgb(200, 200, 200);\"></td><td title=\"Index: [0, 47]&#10;Color: (200, 200, 200)\" style=\"width: 20px; height: 20px;background-color: rgb(200, 200, 200);\"></td><td title=\"Index: [0, 48]&#10;Color: (200, 200, 200)\" style=\"width: 20px; height: 20px;background-color: rgb(200, 200, 200);\"></td><td title=\"Index: [0, 49]&#10;Color: (200, 200, 200)\" style=\"width: 20px; height: 20px;background-color: rgb(200, 200, 200);\"></td><td title=\"Index: [0, 50]&#10;Color: (200, 200, 200)\" style=\"width: 20px; height: 20px;background-color: rgb(200, 200, 200);\"></td><td title=\"Index: [0, 51]&#10;Color: (200, 200, 200)\" style=\"width: 20px; height: 20px;background-color: rgb(200, 200, 200);\"></td><td title=\"Index: [0, 52]&#10;Color: (200, 200, 200)\" style=\"width: 20px; height: 20px;background-color: rgb(200, 200, 200);\"></td><td title=\"Index: [0, 53]&#10;Color: (200, 200, 200)\" style=\"width: 20px; height: 20px;background-color: rgb(200, 200, 200);\"></td><td title=\"Index: [0, 54]&#10;Color: (200, 200, 200)\" style=\"width: 20px; height: 20px;background-color: rgb(200, 200, 200);\"></td><td title=\"Index: [0, 55]&#10;Color: (200, 200, 200)\" style=\"width: 20px; height: 20px;background-color: rgb(200, 200, 200);\"></td><td title=\"Index: [0, 56]&#10;Color: (200, 200, 200)\" style=\"width: 20px; height: 20px;background-color: rgb(200, 200, 200);\"></td><td title=\"Index: [0, 57]&#10;Color: (200, 200, 200)\" style=\"width: 20px; height: 20px;background-color: rgb(200, 200, 200);\"></td><td title=\"Index: [0, 58]&#10;Color: (200, 200, 200)\" style=\"width: 20px; height: 20px;background-color: rgb(200, 200, 200);\"></td><td title=\"Index: [0, 59]&#10;Color: (200, 200, 200)\" style=\"width: 20px; height: 20px;background-color: rgb(200, 200, 200);\"></td><td title=\"Index: [0, 60]&#10;Color: (200, 200, 200)\" style=\"width: 20px; height: 20px;background-color: rgb(200, 200, 200);\"></td><td title=\"Index: [0, 61]&#10;Color: (200, 200, 200)\" style=\"width: 20px; height: 20px;background-color: rgb(200, 200, 200);\"></td><td title=\"Index: [0, 62]&#10;Color: (200, 200, 200)\" style=\"width: 20px; height: 20px;background-color: rgb(200, 200, 200);\"></td><td title=\"Index: [0, 63]&#10;Color: (200, 200, 200)\" style=\"width: 20px; height: 20px;background-color: rgb(200, 200, 200);\"></td><td title=\"Index: [0, 64]&#10;Color: (200, 200, 200)\" style=\"width: 20px; height: 20px;background-color: rgb(200, 200, 200);\"></td><td title=\"Index: [0, 65]&#10;Color: (200, 200, 200)\" style=\"width: 20px; height: 20px;background-color: rgb(200, 200, 200);\"></td><td title=\"Index: [0, 66]&#10;Color: (200, 200, 200)\" style=\"width: 20px; height: 20px;background-color: rgb(200, 200, 200);\"></td><td title=\"Index: [0, 67]&#10;Color: (200, 200, 200)\" style=\"width: 20px; height: 20px;background-color: rgb(200, 200, 200);\"></td><td title=\"Index: [0, 68]&#10;Color: (200, 200, 200)\" style=\"width: 20px; height: 20px;background-color: rgb(200, 200, 200);\"></td><td title=\"Index: [0, 69]&#10;Color: (200, 200, 200)\" style=\"width: 20px; height: 20px;background-color: rgb(200, 200, 200);\"></td></tr></tbody></table>"
      ],
      "text/plain": [
       "<ipythonblocks.ipythonblocks.BlockGrid at 0x7f3331cc7780>"
      ]
     },
     "execution_count": 189,
     "metadata": {},
     "output_type": "execute_result"
    }
   ],
   "source": [
    "voirListeVoeu(voeuxClasses_exemple_sortie)"
   ]
  },
  {
   "cell_type": "markdown",
   "metadata": {},
   "source": [
    "On visualise assez bien : avec une contrainte un peu folle qui impose de prendre $100$% des boursiers-ères (en rouge ou violet) et $100$% des résidents (en bleu ou violet), l'algorithme d'appel a d'abord pris les candidats de types `BoursierResident` (violet), puis `BoursierNonResident` (rouge) car le décret officiel demande de favoriser les boursiers, puis les `NonBoursierResident` (bleu) et enfin les autres.\n",
    "\n",
    "On peut combiner la visualisation interactive et la visualisation avec des couleurs.\n",
    "On va d'abord avoir une "
   ]
  },
  {
   "cell_type": "code",
   "execution_count": 190,
   "metadata": {
    "code_folding": [
     0,
     7
    ]
   },
   "outputs": [],
   "source": [
    "def fait_fonctionATester_couleurs(\n",
    "    taille=70,\n",
    "    tauxBoursiers=20,\n",
    "    tauxResidents=20,\n",
    "    random_seed=0,\n",
    "    tauxMinBoursiersPourcents=10,\n",
    "    tauxMinResidentsPourcents=0\n",
    "):\n",
    "    def fonctionATester(\n",
    "        taille=taille,\n",
    "        tauxBoursiers=tauxBoursiers,\n",
    "        tauxResidents=tauxResidents,\n",
    "        random_seed=random_seed,\n",
    "        tauxMinBoursiersPourcents=tauxMinBoursiersPourcents,\n",
    "        tauxMinResidentsPourcents=tauxMinResidentsPourcents\n",
    "    ):\n",
    "        voeuxClasses = fait_voeuxClasses_aleatoire(\n",
    "            taille,\n",
    "            tauxBoursiers=tauxBoursiers,\n",
    "            tauxResidents=tauxResidents\n",
    "        )\n",
    "        display(voirListeVoeu(voeuxClasses))\n",
    "        ordreAppel = calculerOrdreAppel(\n",
    "            voeuxClasses,\n",
    "            tauxMinBoursiersPourcents,\n",
    "            tauxMinResidentsPourcents,\n",
    "            afficheTout=False  # on cache la sortie\n",
    "        )\n",
    "        display(voirListeVoeu(ordreAppel))\n",
    "\n",
    "    return fonctionATester"
   ]
  },
  {
   "cell_type": "code",
   "execution_count": 139,
   "metadata": {
    "scrolled": false
   },
   "outputs": [
    {
     "data": {
      "application/vnd.jupyter.widget-view+json": {
       "model_id": "601ed66eac834269a3b91c631058264d",
       "version_major": 2,
       "version_minor": 0
      },
      "text/plain": [
       "interactive(children=(IntSlider(value=70, description='taille', min=10), IntSlider(value=20, description='taux…"
      ]
     },
     "metadata": {},
     "output_type": "display_data"
    }
   ],
   "source": [
    "interact(\n",
    "    fait_fonctionATester_couleurs(\n",
    "        taille=70,\n",
    "        tauxBoursiers=20,\n",
    "        tauxResidents=20,\n",
    "        random_seed=0,\n",
    "        tauxMinBoursiersPourcents=10,\n",
    "        tauxMinResidentsPourcents=0\n",
    "    ),\n",
    "    taille=(10, 100, 1),\n",
    "    tauxBoursiers=(0, 100, 1),\n",
    "    tauxResidents=(0, 100, 1),\n",
    "    random_seed=0,\n",
    "    tauxMinBoursiersPourcents=(0, 100, 1),\n",
    "    tauxMinResidentsPourcents=(0, 100, 1)\n",
    ");"
   ]
  },
  {
   "cell_type": "markdown",
   "metadata": {},
   "source": [
    "----\n",
    "## Algorithme 2 : Calcul des propositions"
   ]
  },
  {
   "cell_type": "code",
   "execution_count": 34,
   "metadata": {},
   "outputs": [],
   "source": [
    "from IPython.display import HTML"
   ]
  },
  {
   "cell_type": "code",
   "execution_count": 35,
   "metadata": {},
   "outputs": [
    {
     "data": {
      "text/html": [
       "<center><span style='color:red; font-size: xx-large;'>TODO TODO TODO TODO TODO TODO TODO TODO TODO TODO TODO TODO TODO TODO TODO TODO TODO TODO TODO TODO TODO TODO TODO TODO TODO TODO TODO TODO TODO TODO TODO TODO TODO TODO TODO TODO TODO TODO TODO TODO TODO TODO TODO TODO TODO TODO TODO TODO TODO TODO TODO TODO TODO TODO </span></center>"
      ],
      "text/plain": [
       "<IPython.core.display.HTML object>"
      ]
     },
     "execution_count": 35,
     "metadata": {},
     "output_type": "execute_result"
    }
   ],
   "source": [
    "HTML(f\"<center><span style='color:red; font-size: xx-large;'>{'TODO '*54}</span></center>\")"
   ]
  },
  {
   "cell_type": "markdown",
   "metadata": {},
   "source": [
    "## Conclusion\n",
    "\n",
    "Ce petit notebook n'est pas terminé, c'est un test *en cours de rédaction*."
   ]
  }
 ],
 "metadata": {
  "kernelspec": {
   "display_name": "Python 3",
   "language": "python",
   "name": "python3"
  },
  "language_info": {
   "codemirror_mode": {
    "name": "ipython",
    "version": 3
   },
   "file_extension": ".py",
   "mimetype": "text/x-python",
   "name": "python",
   "nbconvert_exporter": "python",
   "pygments_lexer": "ipython3",
   "version": "3.6.5"
  },
  "toc": {
   "colors": {
    "hover_highlight": "#DAA520",
    "running_highlight": "#FF0000",
    "selected_highlight": "#FFD700"
   },
   "moveMenuLeft": true,
   "nav_menu": {
    "height": "185px",
    "width": "252px"
   },
   "navigate_menu": true,
   "number_sections": true,
   "sideBar": false,
   "threshold": 4,
   "toc_cell": true,
   "toc_position": {
    "height": "40px",
    "left": "835.098px",
    "right": "20px",
    "top": "136px",
    "width": "253.902px"
   },
   "toc_section_display": "none",
   "toc_window_display": true
  },
  "varInspector": {
   "cols": {
    "lenName": 16,
    "lenType": 16,
    "lenVar": 40
   },
   "kernels_config": {
    "python": {
     "delete_cmd_postfix": "",
     "delete_cmd_prefix": "del ",
     "library": "var_list.py",
     "varRefreshCmd": "print(var_dic_list())"
    },
    "r": {
     "delete_cmd_postfix": ") ",
     "delete_cmd_prefix": "rm(",
     "library": "var_list.r",
     "varRefreshCmd": "cat(var_dic_list()) "
    }
   },
   "types_to_exclude": [
    "module",
    "function",
    "builtin_function_or_method",
    "instance",
    "_Feature"
   ],
   "window_display": false
  },
  "widgets": {
   "application/vnd.jupyter.widget-state+json": {
    "state": {
     "00f20ffbecd545989d387be97467780b": {
      "model_module": "@jupyter-widgets/base",
      "model_module_version": "1.0.0",
      "model_name": "LayoutModel",
      "state": {}
     },
     "0132c8e5b27a4a56b4effc0231c31487": {
      "model_module": "@jupyter-widgets/controls",
      "model_module_version": "1.2.0",
      "model_name": "VBoxModel",
      "state": {
       "_dom_classes": [
        "widget-interact"
       ],
       "children": [
        "IPY_MODEL_2f601b61da504b40aa084aa205e5880e",
        "IPY_MODEL_be822f2dea6b4ecf83f11c7a955f1ef9",
        "IPY_MODEL_f9da69760a794306872ef5724fb39eab"
       ],
       "layout": "IPY_MODEL_42eb421cc5d243c6a3adfdba8c1654b9"
      }
     },
     "03e97101bbbf4e9cb6ae9145ea47fece": {
      "model_module": "@jupyter-widgets/controls",
      "model_module_version": "1.2.0",
      "model_name": "SliderStyleModel",
      "state": {
       "description_width": ""
      }
     },
     "11aab79e6f0f4d1b9e871eb25f91bd78": {
      "model_module": "@jupyter-widgets/controls",
      "model_module_version": "1.2.0",
      "model_name": "SliderStyleModel",
      "state": {
       "description_width": ""
      }
     },
     "195b7806fae749a68017a20fe940d620": {
      "model_module": "@jupyter-widgets/base",
      "model_module_version": "1.0.0",
      "model_name": "LayoutModel",
      "state": {}
     },
     "2630e96c34914391b733bb33c4b20401": {
      "model_module": "@jupyter-widgets/base",
      "model_module_version": "1.0.0",
      "model_name": "LayoutModel",
      "state": {}
     },
     "2f601b61da504b40aa084aa205e5880e": {
      "model_module": "@jupyter-widgets/controls",
      "model_module_version": "1.2.0",
      "model_name": "IntSliderModel",
      "state": {
       "description": "tauxMinBoursiersPourcents",
       "layout": "IPY_MODEL_195b7806fae749a68017a20fe940d620",
       "step": 5,
       "style": "IPY_MODEL_4aaafe2a91804374b760e9d67efb3748",
       "value": 20
      }
     },
     "39d05eb9b0cd4f6fbb56a3789f732031": {
      "model_module": "@jupyter-widgets/base",
      "model_module_version": "1.0.0",
      "model_name": "LayoutModel",
      "state": {}
     },
     "42eb421cc5d243c6a3adfdba8c1654b9": {
      "model_module": "@jupyter-widgets/base",
      "model_module_version": "1.0.0",
      "model_name": "LayoutModel",
      "state": {}
     },
     "4666974a500a4d52b133453119f44e3d": {
      "model_module": "@jupyter-widgets/base",
      "model_module_version": "1.0.0",
      "model_name": "LayoutModel",
      "state": {}
     },
     "4aaafe2a91804374b760e9d67efb3748": {
      "model_module": "@jupyter-widgets/controls",
      "model_module_version": "1.2.0",
      "model_name": "SliderStyleModel",
      "state": {
       "description_width": ""
      }
     },
     "5ad679f33d4f4058b6947f6793ae1d11": {
      "model_module": "@jupyter-widgets/base",
      "model_module_version": "1.0.0",
      "model_name": "LayoutModel",
      "state": {}
     },
     "5e1358949e5d42ee90f0ae52dd8ce6dd": {
      "model_module": "@jupyter-widgets/base",
      "model_module_version": "1.0.0",
      "model_name": "LayoutModel",
      "state": {}
     },
     "65520d85835f4bd6a6ba18e153893222": {
      "model_module": "@jupyter-widgets/output",
      "model_module_version": "1.0.0",
      "model_name": "OutputModel",
      "state": {
       "layout": "IPY_MODEL_39d05eb9b0cd4f6fbb56a3789f732031"
      }
     },
     "8febcaed57d5483e87c7af4d46389e0e": {
      "model_module": "@jupyter-widgets/controls",
      "model_module_version": "1.2.0",
      "model_name": "IntSliderModel",
      "state": {
       "description": "tauxMinResidentsPourcents",
       "layout": "IPY_MODEL_4666974a500a4d52b133453119f44e3d",
       "step": 5,
       "style": "IPY_MODEL_dbc9a2b0ee0b4b1c9d2a66c890778971",
       "value": 55
      }
     },
     "9fd0def6ef124f7a8998a9b4eb64902b": {
      "model_module": "@jupyter-widgets/controls",
      "model_module_version": "1.2.0",
      "model_name": "FloatSliderModel",
      "state": {
       "description": "x",
       "layout": "IPY_MODEL_5e1358949e5d42ee90f0ae52dd8ce6dd",
       "max": 4,
       "min": -4,
       "step": 0.1,
       "style": "IPY_MODEL_03e97101bbbf4e9cb6ae9145ea47fece",
       "value": 1.6
      }
     },
     "be822f2dea6b4ecf83f11c7a955f1ef9": {
      "model_module": "@jupyter-widgets/controls",
      "model_module_version": "1.2.0",
      "model_name": "IntSliderModel",
      "state": {
       "description": "tauxMinResidentsPourcents",
       "layout": "IPY_MODEL_cb6be4f17dbc4e688d4591b9fec591d2",
       "step": 5,
       "style": "IPY_MODEL_e931b28876844839a5926b0d10566e4a"
      }
     },
     "cb6be4f17dbc4e688d4591b9fec591d2": {
      "model_module": "@jupyter-widgets/base",
      "model_module_version": "1.0.0",
      "model_name": "LayoutModel",
      "state": {}
     },
     "d283bb30090746f3a9deefb18210f8d2": {
      "model_module": "@jupyter-widgets/base",
      "model_module_version": "1.0.0",
      "model_name": "LayoutModel",
      "state": {}
     },
     "da923003396b4a4ebf905667170d968b": {
      "model_module": "@jupyter-widgets/controls",
      "model_module_version": "1.2.0",
      "model_name": "VBoxModel",
      "state": {
       "_dom_classes": [
        "widget-interact"
       ],
       "children": [
        "IPY_MODEL_9fd0def6ef124f7a8998a9b4eb64902b",
        "IPY_MODEL_f9b8627a84a34cf2a0f10b269d814216"
       ],
       "layout": "IPY_MODEL_2630e96c34914391b733bb33c4b20401"
      }
     },
     "dbc9a2b0ee0b4b1c9d2a66c890778971": {
      "model_module": "@jupyter-widgets/controls",
      "model_module_version": "1.2.0",
      "model_name": "SliderStyleModel",
      "state": {
       "description_width": ""
      }
     },
     "e082f88535dc4e2091b6b248223d4856": {
      "model_module": "@jupyter-widgets/base",
      "model_module_version": "1.0.0",
      "model_name": "LayoutModel",
      "state": {}
     },
     "e5ac6bcb9f4c4b2d97ecb5100eca8644": {
      "model_module": "@jupyter-widgets/controls",
      "model_module_version": "1.2.0",
      "model_name": "VBoxModel",
      "state": {
       "_dom_classes": [
        "widget-interact"
       ],
       "children": [
        "IPY_MODEL_f1b14bb63ab34bf0931250f5e2ab67f4",
        "IPY_MODEL_8febcaed57d5483e87c7af4d46389e0e",
        "IPY_MODEL_65520d85835f4bd6a6ba18e153893222"
       ],
       "layout": "IPY_MODEL_d283bb30090746f3a9deefb18210f8d2"
      }
     },
     "e931b28876844839a5926b0d10566e4a": {
      "model_module": "@jupyter-widgets/controls",
      "model_module_version": "1.2.0",
      "model_name": "SliderStyleModel",
      "state": {
       "description_width": ""
      }
     },
     "f1b14bb63ab34bf0931250f5e2ab67f4": {
      "model_module": "@jupyter-widgets/controls",
      "model_module_version": "1.2.0",
      "model_name": "IntSliderModel",
      "state": {
       "description": "tauxMinBoursiersPourcents",
       "layout": "IPY_MODEL_00f20ffbecd545989d387be97467780b",
       "step": 5,
       "style": "IPY_MODEL_11aab79e6f0f4d1b9e871eb25f91bd78",
       "value": 20
      }
     },
     "f9b8627a84a34cf2a0f10b269d814216": {
      "model_module": "@jupyter-widgets/output",
      "model_module_version": "1.0.0",
      "model_name": "OutputModel",
      "state": {
       "layout": "IPY_MODEL_5ad679f33d4f4058b6947f6793ae1d11"
      }
     },
     "f9da69760a794306872ef5724fb39eab": {
      "model_module": "@jupyter-widgets/output",
      "model_module_version": "1.0.0",
      "model_name": "OutputModel",
      "state": {
       "layout": "IPY_MODEL_e082f88535dc4e2091b6b248223d4856"
      }
     }
    },
    "version_major": 2,
    "version_minor": 0
   }
  }
 },
 "nbformat": 4,
 "nbformat_minor": 2
}
