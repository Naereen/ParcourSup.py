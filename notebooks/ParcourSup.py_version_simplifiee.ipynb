{
 "cells": [
  {
   "cell_type": "markdown",
   "metadata": {
    "toc": "true"
   },
   "source": [
    "# Table of Contents\n",
    " <p><div class=\"lev1 toc-item\"><a href=\"#Implémentation-simplifiée-des-algorithmes-de-ParcourSup\" data-toc-modified-id=\"Implémentation-simplifiée-des-algorithmes-de-ParcourSup-1\"><span class=\"toc-item-num\">1&nbsp;&nbsp;</span>Implémentation simplifiée des algorithmes de ParcourSup</a></div><div class=\"lev2 toc-item\"><a href=\"#Algorithme-1-:-Ordre-d'appel\" data-toc-modified-id=\"Algorithme-1-:-Ordre-d'appel-11\"><span class=\"toc-item-num\">1.1&nbsp;&nbsp;</span>Algorithme 1 : Ordre d'appel</a></div><div class=\"lev3 toc-item\"><a href=\"#Types-de-candidats\" data-toc-modified-id=\"Types-de-candidats-111\"><span class=\"toc-item-num\">1.1.1&nbsp;&nbsp;</span>Types de candidats</a></div><div class=\"lev3 toc-item\"><a href=\"#Un-vœu\" data-toc-modified-id=\"Un-vœu-112\"><span class=\"toc-item-num\">1.1.2&nbsp;&nbsp;</span>Un vœu</a></div><div class=\"lev3 toc-item\"><a href=\"#Contraintes\" data-toc-modified-id=\"Contraintes-113\"><span class=\"toc-item-num\">1.1.3&nbsp;&nbsp;</span>Contraintes</a></div><div class=\"lev3 toc-item\"><a href=\"#Algorithme\" data-toc-modified-id=\"Algorithme-114\"><span class=\"toc-item-num\">1.1.4&nbsp;&nbsp;</span>Algorithme</a></div><div class=\"lev3 toc-item\"><a href=\"#Exemple\" data-toc-modified-id=\"Exemple-115\"><span class=\"toc-item-num\">1.1.5&nbsp;&nbsp;</span>Exemple</a></div><div class=\"lev2 toc-item\"><a href=\"#Algorithme-2-:-Calcul-des-propositions\" data-toc-modified-id=\"Algorithme-2-:-Calcul-des-propositions-12\"><span class=\"toc-item-num\">1.2&nbsp;&nbsp;</span>Algorithme 2 : Calcul des propositions</a></div><div class=\"lev2 toc-item\"><a href=\"#Conclusion\" data-toc-modified-id=\"Conclusion-13\"><span class=\"toc-item-num\">1.3&nbsp;&nbsp;</span>Conclusion</a></div>"
   ]
  },
  {
   "cell_type": "markdown",
   "metadata": {},
   "source": [
    "# Implémentation simplifiée des algorithmes de ParcourSup\n",
    "\n",
    "> - Pour plus de détails, voir [le projet sur GitHub](https://github.com/Naereen/ParcourSup.py/).\n",
    "> - Auteur(s) : Lilian Besson.\n",
    "> - Date : Juillet 2018.\n",
    "> - Licence : [MIT](https://lbesson.mit-license.org/)"
   ]
  },
  {
   "cell_type": "markdown",
   "metadata": {},
   "source": [
    "## Algorithme 1 : Ordre d'appel\n",
    "\n",
    "On va donner ici une implémentation simplifiée de la fonction du calcul d'ordre d'appel.\n",
    "\n",
    "- sans typage\n",
    "- sans classes ni objects\n",
    "- avec beaucoup de commentaires"
   ]
  },
  {
   "cell_type": "markdown",
   "metadata": {},
   "source": [
    "### Types de candidats\n",
    "\n",
    "Un candidat ou une candidate peut être boursier-ère ou non, et résident-e ou non."
   ]
  },
  {
   "cell_type": "code",
   "execution_count": 2,
   "metadata": {},
   "outputs": [],
   "source": [
    "# Les différents types de candidats\n",
    "BoursierResident       = 1\n",
    "BoursierNonResident    = 2\n",
    "NonBoursierResident    = 3\n",
    "NonBoursierNonResident = 4\n",
    "\n",
    "# Liste des différents types\n",
    "TypesCandidats = [\n",
    "    BoursierResident,\n",
    "    BoursierNonResident,\n",
    "    NonBoursierResident,\n",
    "    NonBoursierNonResident\n",
    "]"
   ]
  },
  {
   "cell_type": "markdown",
   "metadata": {},
   "source": [
    "### Un vœu\n",
    "\n",
    "Ici on représente un vœu comme la donnée d'un type de candidat et d'un rang.\n",
    "On pourrait utiliser un tuple ou une liste, par exemple `[BoursierResident, 1]` pour un-e boursier-ère résident-e classé-e 1er-ère, mais par lisibilité on préfère utiliser un dictionnaire qui contient ces deux informations :"
   ]
  },
  {
   "cell_type": "code",
   "execution_count": null,
   "metadata": {},
   "outputs": [],
   "source": [
    "exemple_voeu = {\n",
    "    \"type\": BoursierResident,\n",
    "    \"rang\": 1\n",
    "}"
   ]
  },
  {
   "cell_type": "markdown",
   "metadata": {},
   "source": [
    "Ensuite, une liste de vœux est une liste de dictionnaires de cette forme.\n",
    "Prenons un exemple avec 8 vœux.\n",
    "\n",
    "> Note : les prénoms sont choisis pour être dans l'ordre alphabétique."
   ]
  },
  {
   "cell_type": "code",
   "execution_count": 6,
   "metadata": {},
   "outputs": [],
   "source": [
    "voeu_alice   = { \"type\": NonBoursierNonResident, \"rang\": 1 }\n",
    "voeu_bob     = { \"type\": NonBoursierNonResident, \"rang\": 2 }\n",
    "voeu_carlos  = { \"type\": NonBoursierNonResident, \"rang\": 3 }\n",
    "voeu_dora    = { \"type\": NonBoursierNonResident, \"rang\": 4 }\n",
    "voeu_enzo    = { \"type\": NonBoursierNonResident, \"rang\": 5 }\n",
    "voeu_florian = { \"type\": BoursierNonResident,    \"rang\": 6 }\n",
    "voeu_gaelle  = { \"type\": BoursierNonResident,    \"rang\": 7 }\n",
    "voeu_helene  = { \"type\": NonBoursierNonResident, \"rang\": 8 }"
   ]
  },
  {
   "cell_type": "markdown",
   "metadata": {},
   "source": [
    "On a juste à les mettre dans une liste ensuite."
   ]
  },
  {
   "cell_type": "code",
   "execution_count": 9,
   "metadata": {},
   "outputs": [],
   "source": [
    "voeuxClasses = [\n",
    "    voeu_alice, voeu_bob, voeu_carlos, voeu_dora,\n",
    "    voeu_enzo, voeu_florian, voeu_gaelle, voeu_helene\n",
    "    # le retour à la ligne n'est là que pour une meilleure visibilité\n",
    "]"
   ]
  },
  {
   "cell_type": "markdown",
   "metadata": {},
   "source": [
    "On aura besoin de savoir si un type de candidat est boursier ou non (respectivement, est résident ou non)."
   ]
  },
  {
   "cell_type": "code",
   "execution_count": 24,
   "metadata": {},
   "outputs": [],
   "source": [
    "def estBoursier(voeu):\n",
    "    return voeu[\"type\"] == BoursierResident or voeu[\"type\"] == BoursierNonResident"
   ]
  },
  {
   "cell_type": "code",
   "execution_count": 25,
   "metadata": {},
   "outputs": [],
   "source": [
    "def estResident(voeu):\n",
    "    return voeu[\"type\"] == BoursierResident or voeu[\"type\"] == NonBoursierResident"
   ]
  },
  {
   "cell_type": "markdown",
   "metadata": {},
   "source": [
    "### Contraintes\n",
    "\n",
    "On a besoin de connaître ces deux contraintes, exprimées en pourcentage.\n",
    "\n",
    "- Par exemple ici, on demandera à avoir au moins 20% de boursiers-ères, mais aucune contrainte sur le taux de résidents-es."
   ]
  },
  {
   "cell_type": "code",
   "execution_count": 26,
   "metadata": {},
   "outputs": [],
   "source": [
    "tauxMinBoursiersPourcents = 20\n",
    "tauxMinResidentsPourcents = 0"
   ]
  },
  {
   "cell_type": "markdown",
   "metadata": {},
   "source": [
    "### Algorithme\n",
    "\n",
    "On devrait avoir tout ce qu'il faut."
   ]
  },
  {
   "cell_type": "code",
   "execution_count": 27,
   "metadata": {},
   "outputs": [
    {
     "data": {
      "text/plain": [
       "<method 'sort' of 'list' objects>"
      ]
     },
     "execution_count": 27,
     "metadata": {},
     "output_type": "execute_result"
    }
   ],
   "source": [
    "list.sort"
   ]
  },
  {
   "cell_type": "code",
   "execution_count": 31,
   "metadata": {},
   "outputs": [],
   "source": [
    "def calculerOrdreAppel(\n",
    "        voeuxClasses,\n",
    "        tauxMinBoursiersPourcents,\n",
    "        tauxMinResidentsPourcents\n",
    "    ):\n",
    "    \"\"\" Calcule de l'ordre d'appel.\"\"\"\n",
    "\n",
    "    print(f\"\\n0. On commence à calculer les ordres d'appel pour cette liste de vœux qui contient {len(voeuxClasses)} voeux.\")\n",
    "\n",
    "    print(f\"  On crée des listes de vœux pour chaque types de candidats ({TypesCandidats}).\")\n",
    "    # on crée autant de listes de vœux que de types de candidats,\n",
    "    # triées par ordre de classement\n",
    "    filesAttente = {\n",
    "        typeCandidat: [ ]  # liste vide associée à chaque type\n",
    "        for typeCandidat in TypesCandidats\n",
    "    }\n",
    "\n",
    "    # Chaque voeu classé est ventilé dans la liste correspondante,\n",
    "    # en fonction du type du candidat.\n",
    "    # Les quatre listes obtenues sont ordonnées par rang de classement,\n",
    "    # comme l'est la liste voeuxClasses.\n",
    "    nbBoursiersTotal = 0\n",
    "    nbResidentsTotal = 0\n",
    "\n",
    "    # on trie les vœux par classement\n",
    "    print(\"\\n1. On trie les vœux par classement...\")\n",
    "    print(f\"  Avant le tri : {voeuxClasses}...\")\n",
    "    voeuxClasses.sort(key=lambda voeu: voeu[\"rang\"])\n",
    "    # FIXME\n",
    "    print(f\"  Après le tri : {voeuxClasses}...\")\n",
    "\n",
    "    for indice in range(len(voeuxClasses)):\n",
    "        voeu = voeuxClasses[indice]\n",
    "        # on ajoute le voeu à la fin de la file (FIFO) correspondante\n",
    "        filesAttente[voeu[\"type\"]].append(voeu)\n",
    "        # print(f\"  On ajoute le voeu {voeu} à la file du type {voeu[\"type\"]}, c'est le {i+1}ème à être ajouté.\")\n",
    "        if estBoursier(voeu):\n",
    "            nbBoursiersTotal += 1\n",
    "            print(f\"    On compte un-e boursier-e en plus, c'est le {nbBoursiersTotal}ème...\")\n",
    "        if estResident(voeu):\n",
    "            nbResidentsTotal += 1\n",
    "            print(f\"    On compte un-e résident-e en plus, c'est le {nbResidentsTotal}ème...\")\n",
    "\n",
    "    nbVoeuxClasses     = len(voeuxClasses)\n",
    "    nbAppeles          = 0\n",
    "    nbBoursiersAppeles = 0\n",
    "    nbResidentsAppeles = 0\n",
    "\n",
    "    # la boucle ajoute les candidats un par un à la liste suivante, dans l'ordre d'appel.\n",
    "    # On commence par un ordre d'appel vide (liste vide).\n",
    "    ordreAppel = [ ]\n",
    "\n",
    "    print(f\"\\n2. Début de la boucle while, on remplit l'ordre d'appel...\")\n",
    "\n",
    "    while len(ordreAppel) < nbVoeuxClasses:\n",
    "        print(f\"\\n  L'ordre d'appel contient {len(ordreAppel)} éléments et il y a {nbVoeuxClasses} vœux à classer.\")\n",
    "        # on calcule lequel ou lesquels des critères boursiers et résidents\n",
    "        # contraignent le choix du prochain candidat dans l'ordre d'appel\n",
    "\n",
    "        contrainteTauxBoursier = (nbBoursiersAppeles < nbBoursiersTotal) and ((nbBoursiersAppeles * 100) < tauxMinBoursiersPourcents * (nbAppeles + 1))\n",
    "        print(f\"  La contrainte sur le taux de boursier-es est {contrainteTauxBoursier}...\")\n",
    "        print(f\"      Car il y a pour l'instant {nbBoursiersAppeles} boursier-es appelé-es sur un total de {nbBoursiersTotal}, et ce n'est pas assez pour dépasser le taux de {tauxMinBoursiersPourcents}...\")\n",
    "\n",
    "        contrainteTauxResident = (nbResidentsAppeles < nbResidentsTotal) and ((nbResidentsAppeles * 100) < tauxMinResidentsPourcents * (nbAppeles + 1))\n",
    "        print(f\"  La contrainte sur le taux de résident-es est {contrainteTauxResident}...\")\n",
    "        print(f\"      Car il y a pour l'instant {nbResidentsAppeles} résident-es appelé-es sur un total de {nbResidentsTotal}, et ce n'est pas assez pour dépasser le taux de {tauxMinResidentsPourcents}...\")\n",
    "\n",
    "        # on fait la liste des voeux satisfaisant\n",
    "        # les deux contraintes à la fois, ordonnée par rang de classement\n",
    "        liste_eligibles = [ ]\n",
    "        eligibles = [ ]\n",
    "        for queue in filesAttente.values():\n",
    "            if queue:\n",
    "                voeu = queue[-1]  # le meilleur a été ajouté en dernier\n",
    "                if (estBoursier(voeu) or not contrainteTauxBoursier) and (estResident(voeu) or not contrainteTauxResident):\n",
    "                    eligibles.append(voeu)\n",
    "                    liste_eligibles.append(voeu)\n",
    "        print(f\"  Les vœux satisfaisant les deux contraintes à la fois, ordonnés par rang de classement sont :\\n{liste_eligibles}\")\n",
    "        del liste_eligibles  # juste pour l'afficher\n",
    "\n",
    "        # stocke le meilleur candidat à appeler tout en respectant\n",
    "        # les deux contraintes si possible\n",
    "        # ou à défaut seulement la contrainte sur le taux boursier\n",
    "        meilleur = None\n",
    "\n",
    "        if eligibles:\n",
    "            # on prend le meilleur de cette liste\n",
    "            meilleur = max(eligibles, key=lambda voeu: voeu[\"rang\"])\n",
    "            print(f\"  La liste des éligibles n'est pas vide, donc le-la meilleur-e est le-la meilleur-e de cette liste = {meilleur}\")\n",
    "        else:\n",
    "            # la liste peut être vide dans le cas où les deux contraintes\n",
    "            # ne peuvent être satisfaites à la fois.\n",
    "            # Dans ce cas nécessairement il y a une contrainte sur chacun des deux taux\n",
    "            # (donc au moins un boursier non encore sélectionné)\n",
    "            # et il ne reste plus de boursier résident,\n",
    "            # donc il reste au moins un boursier non résident\n",
    "            assert contrainteTauxBoursier and contrainteTauxResident, \"Erreur : ce cas où la file de priorité est vide mais les deux contraintes ne sont pas vérifiées ne devrait pas arriver.\"  # DEBUG\n",
    "\n",
    "            assert not filesAttente[BoursierResident], \"Erreur : ce cas où la file de priorité est vide mais il reste des candidats-es boursiers-ères et résident-es ne devrait pas arriver.\"  # DEBUG\n",
    "            assert filesAttente[BoursierNonResident], \"Erreur : ce cas où la file de priorité est vide mais il ne reste pas de candidats-es boursiers-ères et non résident-es ne devrait pas arriver.\"  # DEBUG\n",
    "\n",
    "            CandidatsBoursierNonResident = filesAttente[BoursierNonResident]\n",
    "            meilleur = max(CandidatsBoursierNonResident)\n",
    "            print(f\"  La liste des éligibles est pas vide, donc le-la meilleur-e est le-la meilleur-e de la liste des boursier-es non résident-es = {meilleur}\")\n",
    "\n",
    "        # suppression du candidat choisi de sa file d'attente\n",
    "        saFileAttente = filesAttente[meilleur[\"type\"]]\n",
    "        print(f\"  On vérifie si le-la meilleur {meilleur} est aussi le-la meilleur-e de sa liste contenant {len(saFileAttente)} candidat-es (du type {meilleur['type']}).\")\n",
    "        meilleur_de_sa_liste = saFileAttente.pop()\n",
    "        assert meilleur == meilleur_de_sa_liste, \"Erreur : ce cas où le-la meilleur-e candidat-e n'est pas le meilleur candidat de la liste d'attente des autres candidat-e de sa liste ne devrait pas arriver.\"  # DEBUG\n",
    "\n",
    "        # ajout du meilleur candidat à l'ordre d'appel\n",
    "        ordreAppel.append(meilleur)\n",
    "        nbAppeles += 1\n",
    "        print(f\"  On ajoute le meilleur {meilleur} à l'ordre d'appel, c'est le-la {nbAppeles}ème à être appelé-e.\")\n",
    "\n",
    "        if estBoursier(meilleur):\n",
    "            nbBoursiersAppeles += 1\n",
    "            print(f\"    En plus, c'est le-la {nbBoursiersAppeles}ème boursier-e à être appelé-e.\")\n",
    "        if estResident(meilleur):\n",
    "            nbResidentsAppeles += 1\n",
    "            print(f\"    En plus, c'est le-la {nbResidentsAppeles}ème résident-e à être appelé-e.\")\n",
    "\n",
    "    # fin de la boucle while\n",
    "    print(f\"\\n3. On a terminé la boucle, on a remplit l'ordre d'appel.\")\n",
    "\n",
    "    return ordreAppel"
   ]
  },
  {
   "cell_type": "markdown",
   "metadata": {},
   "source": [
    "### Exemple\n",
    "\n",
    "Avec les valeurs prisent ci-dessus comme exemple :"
   ]
  },
  {
   "cell_type": "code",
   "execution_count": 32,
   "metadata": {
    "scrolled": false
   },
   "outputs": [
    {
     "name": "stdout",
     "output_type": "stream",
     "text": [
      "\n",
      "0. On commence à calculer les ordres d'appel pour cette liste de vœux qui contient 8 voeux.\n",
      "  On crée des listes de vœux pour chaque types de candidats ([1, 2, 3, 4]).\n",
      "\n",
      "1. On trie les vœux par classement...\n",
      "  Avant le tri : [{'type': 4, 'rang': 1}, {'type': 4, 'rang': 2}, {'type': 4, 'rang': 3}, {'type': 4, 'rang': 4}, {'type': 4, 'rang': 5}, {'type': 2, 'rang': 6}, {'type': 2, 'rang': 7}, {'type': 4, 'rang': 8}]...\n",
      "  Après le tri : [{'type': 4, 'rang': 1}, {'type': 4, 'rang': 2}, {'type': 4, 'rang': 3}, {'type': 4, 'rang': 4}, {'type': 4, 'rang': 5}, {'type': 2, 'rang': 6}, {'type': 2, 'rang': 7}, {'type': 4, 'rang': 8}]...\n",
      "    On compte un-e boursier-e en plus, c'est le 1ème...\n",
      "    On compte un-e boursier-e en plus, c'est le 2ème...\n",
      "\n",
      "2. Début de la boucle while, on remplit l'ordre d'appel...\n",
      "\n",
      "  L'ordre d'appel contient 0 éléments et il y a 8 vœux à classer.\n",
      "  La contrainte sur le taux de boursier-es est True...\n",
      "      Car il y a pour l'instant 0 boursier-es appelé-es sur un total de 2, et ce n'est pas assez pour dépasser le taux de 20...\n",
      "  La contrainte sur le taux de résident-es est False...\n",
      "      Car il y a pour l'instant 0 résident-es appelé-es sur un total de 0, et ce n'est pas assez pour dépasser le taux de 0...\n",
      "  Les vœux satisfaisant les deux contraintes à la fois, ordonnés par rang de classement sont :\n",
      "[{'type': 2, 'rang': 7}]\n",
      "  La liste des éligibles n'est pas vide, donc le-la meilleur-e est le-la meilleur-e de cette liste = {'type': 2, 'rang': 7}\n",
      "  On vérifie si le-la meilleur {'type': 2, 'rang': 7} est aussi le-la meilleur-e de sa liste contenant 2 candidat-es (du type 2).\n",
      "  On ajoute le meilleur {'type': 2, 'rang': 7} à l'ordre d'appel, c'est le-la 1ème à être appelé-e.\n",
      "    En plus, c'est le-la 1ème boursier-e à être appelé-e.\n",
      "\n",
      "  L'ordre d'appel contient 1 éléments et il y a 8 vœux à classer.\n",
      "  La contrainte sur le taux de boursier-es est False...\n",
      "      Car il y a pour l'instant 1 boursier-es appelé-es sur un total de 2, et ce n'est pas assez pour dépasser le taux de 20...\n",
      "  La contrainte sur le taux de résident-es est False...\n",
      "      Car il y a pour l'instant 0 résident-es appelé-es sur un total de 0, et ce n'est pas assez pour dépasser le taux de 0...\n",
      "  Les vœux satisfaisant les deux contraintes à la fois, ordonnés par rang de classement sont :\n",
      "[{'type': 2, 'rang': 6}, {'type': 4, 'rang': 8}]\n",
      "  La liste des éligibles n'est pas vide, donc le-la meilleur-e est le-la meilleur-e de cette liste = {'type': 4, 'rang': 8}\n",
      "  On vérifie si le-la meilleur {'type': 4, 'rang': 8} est aussi le-la meilleur-e de sa liste contenant 6 candidat-es (du type 4).\n",
      "  On ajoute le meilleur {'type': 4, 'rang': 8} à l'ordre d'appel, c'est le-la 2ème à être appelé-e.\n",
      "\n",
      "  L'ordre d'appel contient 2 éléments et il y a 8 vœux à classer.\n",
      "  La contrainte sur le taux de boursier-es est False...\n",
      "      Car il y a pour l'instant 1 boursier-es appelé-es sur un total de 2, et ce n'est pas assez pour dépasser le taux de 20...\n",
      "  La contrainte sur le taux de résident-es est False...\n",
      "      Car il y a pour l'instant 0 résident-es appelé-es sur un total de 0, et ce n'est pas assez pour dépasser le taux de 0...\n",
      "  Les vœux satisfaisant les deux contraintes à la fois, ordonnés par rang de classement sont :\n",
      "[{'type': 2, 'rang': 6}, {'type': 4, 'rang': 5}]\n",
      "  La liste des éligibles n'est pas vide, donc le-la meilleur-e est le-la meilleur-e de cette liste = {'type': 2, 'rang': 6}\n",
      "  On vérifie si le-la meilleur {'type': 2, 'rang': 6} est aussi le-la meilleur-e de sa liste contenant 1 candidat-es (du type 2).\n",
      "  On ajoute le meilleur {'type': 2, 'rang': 6} à l'ordre d'appel, c'est le-la 3ème à être appelé-e.\n",
      "    En plus, c'est le-la 2ème boursier-e à être appelé-e.\n",
      "\n",
      "  L'ordre d'appel contient 3 éléments et il y a 8 vœux à classer.\n",
      "  La contrainte sur le taux de boursier-es est False...\n",
      "      Car il y a pour l'instant 2 boursier-es appelé-es sur un total de 2, et ce n'est pas assez pour dépasser le taux de 20...\n",
      "  La contrainte sur le taux de résident-es est False...\n",
      "      Car il y a pour l'instant 0 résident-es appelé-es sur un total de 0, et ce n'est pas assez pour dépasser le taux de 0...\n",
      "  Les vœux satisfaisant les deux contraintes à la fois, ordonnés par rang de classement sont :\n",
      "[{'type': 4, 'rang': 5}]\n",
      "  La liste des éligibles n'est pas vide, donc le-la meilleur-e est le-la meilleur-e de cette liste = {'type': 4, 'rang': 5}\n",
      "  On vérifie si le-la meilleur {'type': 4, 'rang': 5} est aussi le-la meilleur-e de sa liste contenant 5 candidat-es (du type 4).\n",
      "  On ajoute le meilleur {'type': 4, 'rang': 5} à l'ordre d'appel, c'est le-la 4ème à être appelé-e.\n",
      "\n",
      "  L'ordre d'appel contient 4 éléments et il y a 8 vœux à classer.\n",
      "  La contrainte sur le taux de boursier-es est False...\n",
      "      Car il y a pour l'instant 2 boursier-es appelé-es sur un total de 2, et ce n'est pas assez pour dépasser le taux de 20...\n",
      "  La contrainte sur le taux de résident-es est False...\n",
      "      Car il y a pour l'instant 0 résident-es appelé-es sur un total de 0, et ce n'est pas assez pour dépasser le taux de 0...\n",
      "  Les vœux satisfaisant les deux contraintes à la fois, ordonnés par rang de classement sont :\n",
      "[{'type': 4, 'rang': 4}]\n",
      "  La liste des éligibles n'est pas vide, donc le-la meilleur-e est le-la meilleur-e de cette liste = {'type': 4, 'rang': 4}\n",
      "  On vérifie si le-la meilleur {'type': 4, 'rang': 4} est aussi le-la meilleur-e de sa liste contenant 4 candidat-es (du type 4).\n",
      "  On ajoute le meilleur {'type': 4, 'rang': 4} à l'ordre d'appel, c'est le-la 5ème à être appelé-e.\n",
      "\n",
      "  L'ordre d'appel contient 5 éléments et il y a 8 vœux à classer.\n",
      "  La contrainte sur le taux de boursier-es est False...\n",
      "      Car il y a pour l'instant 2 boursier-es appelé-es sur un total de 2, et ce n'est pas assez pour dépasser le taux de 20...\n",
      "  La contrainte sur le taux de résident-es est False...\n",
      "      Car il y a pour l'instant 0 résident-es appelé-es sur un total de 0, et ce n'est pas assez pour dépasser le taux de 0...\n",
      "  Les vœux satisfaisant les deux contraintes à la fois, ordonnés par rang de classement sont :\n",
      "[{'type': 4, 'rang': 3}]\n",
      "  La liste des éligibles n'est pas vide, donc le-la meilleur-e est le-la meilleur-e de cette liste = {'type': 4, 'rang': 3}\n",
      "  On vérifie si le-la meilleur {'type': 4, 'rang': 3} est aussi le-la meilleur-e de sa liste contenant 3 candidat-es (du type 4).\n",
      "  On ajoute le meilleur {'type': 4, 'rang': 3} à l'ordre d'appel, c'est le-la 6ème à être appelé-e.\n",
      "\n",
      "  L'ordre d'appel contient 6 éléments et il y a 8 vœux à classer.\n",
      "  La contrainte sur le taux de boursier-es est False...\n",
      "      Car il y a pour l'instant 2 boursier-es appelé-es sur un total de 2, et ce n'est pas assez pour dépasser le taux de 20...\n",
      "  La contrainte sur le taux de résident-es est False...\n",
      "      Car il y a pour l'instant 0 résident-es appelé-es sur un total de 0, et ce n'est pas assez pour dépasser le taux de 0...\n",
      "  Les vœux satisfaisant les deux contraintes à la fois, ordonnés par rang de classement sont :\n",
      "[{'type': 4, 'rang': 2}]\n",
      "  La liste des éligibles n'est pas vide, donc le-la meilleur-e est le-la meilleur-e de cette liste = {'type': 4, 'rang': 2}\n",
      "  On vérifie si le-la meilleur {'type': 4, 'rang': 2} est aussi le-la meilleur-e de sa liste contenant 2 candidat-es (du type 4).\n",
      "  On ajoute le meilleur {'type': 4, 'rang': 2} à l'ordre d'appel, c'est le-la 7ème à être appelé-e.\n",
      "\n",
      "  L'ordre d'appel contient 7 éléments et il y a 8 vœux à classer.\n",
      "  La contrainte sur le taux de boursier-es est False...\n",
      "      Car il y a pour l'instant 2 boursier-es appelé-es sur un total de 2, et ce n'est pas assez pour dépasser le taux de 20...\n",
      "  La contrainte sur le taux de résident-es est False...\n",
      "      Car il y a pour l'instant 0 résident-es appelé-es sur un total de 0, et ce n'est pas assez pour dépasser le taux de 0...\n",
      "  Les vœux satisfaisant les deux contraintes à la fois, ordonnés par rang de classement sont :\n",
      "[{'type': 4, 'rang': 1}]\n",
      "  La liste des éligibles n'est pas vide, donc le-la meilleur-e est le-la meilleur-e de cette liste = {'type': 4, 'rang': 1}\n",
      "  On vérifie si le-la meilleur {'type': 4, 'rang': 1} est aussi le-la meilleur-e de sa liste contenant 1 candidat-es (du type 4).\n",
      "  On ajoute le meilleur {'type': 4, 'rang': 1} à l'ordre d'appel, c'est le-la 8ème à être appelé-e.\n",
      "\n",
      "3. On a terminé la boucle, on a remplit l'ordre d'appel.\n"
     ]
    },
    {
     "data": {
      "text/plain": [
       "[{'type': 2, 'rang': 7},\n",
       " {'type': 4, 'rang': 8},\n",
       " {'type': 2, 'rang': 6},\n",
       " {'type': 4, 'rang': 5},\n",
       " {'type': 4, 'rang': 4},\n",
       " {'type': 4, 'rang': 3},\n",
       " {'type': 4, 'rang': 2},\n",
       " {'type': 4, 'rang': 1}]"
      ]
     },
     "execution_count": 32,
     "metadata": {},
     "output_type": "execute_result"
    }
   ],
   "source": [
    "calculerOrdreAppel(\n",
    "    voeuxClasses,\n",
    "    tauxMinBoursiersPourcents,\n",
    "    tauxMinResidentsPourcents\n",
    ")"
   ]
  },
  {
   "cell_type": "markdown",
   "metadata": {},
   "source": [
    "## Algorithme 2 : Calcul des propositions"
   ]
  },
  {
   "cell_type": "code",
   "execution_count": 33,
   "metadata": {},
   "outputs": [],
   "source": [
    "from IPython import display"
   ]
  },
  {
   "cell_type": "code",
   "execution_count": 46,
   "metadata": {},
   "outputs": [
    {
     "data": {
      "text/html": [
       "<center><span style='color:red; font-size: xx-large;'>TODO TODO TODO TODO TODO TODO TODO TODO TODO TODO TODO TODO TODO TODO TODO TODO TODO TODO TODO TODO TODO TODO TODO TODO TODO TODO TODO TODO TODO TODO TODO TODO TODO TODO TODO TODO TODO TODO TODO TODO TODO TODO TODO TODO TODO TODO TODO TODO TODO TODO TODO TODO TODO TODO </span></center>"
      ],
      "text/plain": [
       "<IPython.core.display.HTML object>"
      ]
     },
     "execution_count": 46,
     "metadata": {},
     "output_type": "execute_result"
    }
   ],
   "source": [
    "display.HTML(f\"<center><span style='color:red; font-size: xx-large;'>{'TODO '*54}</span></center>\")"
   ]
  },
  {
   "cell_type": "markdown",
   "metadata": {},
   "source": [
    "## Conclusion\n",
    "\n",
    "Ce petit notebook n'est pas terminé, c'est un test *en cours de rédaction*."
   ]
  }
 ],
 "metadata": {
  "kernelspec": {
   "display_name": "Python 3",
   "language": "python",
   "name": "python3"
  },
  "language_info": {
   "codemirror_mode": {
    "name": "ipython",
    "version": 3
   },
   "file_extension": ".py",
   "mimetype": "text/x-python",
   "name": "python",
   "nbconvert_exporter": "python",
   "pygments_lexer": "ipython3",
   "version": "3.6.5"
  },
  "toc": {
   "colors": {
    "hover_highlight": "#DAA520",
    "running_highlight": "#FF0000",
    "selected_highlight": "#FFD700"
   },
   "moveMenuLeft": true,
   "nav_menu": {
    "height": "185px",
    "width": "252px"
   },
   "navigate_menu": true,
   "number_sections": true,
   "sideBar": false,
   "threshold": 4,
   "toc_cell": true,
   "toc_section_display": "block",
   "toc_window_display": true
  },
  "varInspector": {
   "cols": {
    "lenName": 16,
    "lenType": 16,
    "lenVar": 40
   },
   "kernels_config": {
    "python": {
     "delete_cmd_postfix": "",
     "delete_cmd_prefix": "del ",
     "library": "var_list.py",
     "varRefreshCmd": "print(var_dic_list())"
    },
    "r": {
     "delete_cmd_postfix": ") ",
     "delete_cmd_prefix": "rm(",
     "library": "var_list.r",
     "varRefreshCmd": "cat(var_dic_list()) "
    }
   },
   "types_to_exclude": [
    "module",
    "function",
    "builtin_function_or_method",
    "instance",
    "_Feature"
   ],
   "window_display": false
  }
 },
 "nbformat": 4,
 "nbformat_minor": 2
}
